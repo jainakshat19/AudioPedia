{
 "cells": [
  {
   "cell_type": "code",
   "execution_count": 1,
   "id": "c204cf96",
   "metadata": {
    "_cell_guid": "b1076dfc-b9ad-4769-8c92-a6c4dae69d19",
    "_uuid": "8f2839f25d086af736a60e9eeb907d3b93b6e0e5",
    "execution": {
     "iopub.execute_input": "2024-09-04T09:08:22.156557Z",
     "iopub.status.busy": "2024-09-04T09:08:22.155503Z",
     "iopub.status.idle": "2024-09-04T09:08:23.072588Z",
     "shell.execute_reply": "2024-09-04T09:08:23.071740Z"
    },
    "papermill": {
     "duration": 0.928006,
     "end_time": "2024-09-04T09:08:23.075148",
     "exception": false,
     "start_time": "2024-09-04T09:08:22.147142",
     "status": "completed"
    },
    "tags": []
   },
   "outputs": [],
   "source": [
    "# This Python 3 environment comes with many helpful analytics libraries installed\n",
    "# It is defined by the kaggle/python Docker image: https://github.com/kaggle/docker-python\n",
    "# For example, here's several helpful packages to load\n",
    "\n",
    "import numpy as np # linear algebra\n",
    "import pandas as pd # data processing, CSV file I/O (e.g. pd.read_csv)\n",
    "\n",
    "# Input data files are available in the read-only \"../input/\" directory\n",
    "# For example, running this (by clicking run or pressing Shift+Enter) will list all files under the input directory\n",
    "\n",
    "import os\n",
    "# You can write up to 20GB to the current directory (/kaggle/working/) that gets preserved as output when you create a version using \"Save & Run All\" \n",
    "# You can also write temporary files to /kaggle/temp/, but they won't be saved outside of the current session"
   ]
  },
  {
   "cell_type": "code",
   "execution_count": 2,
   "id": "8d926ef1",
   "metadata": {
    "execution": {
     "iopub.execute_input": "2024-09-04T09:08:23.088426Z",
     "iopub.status.busy": "2024-09-04T09:08:23.087952Z",
     "iopub.status.idle": "2024-09-04T09:08:23.260910Z",
     "shell.execute_reply": "2024-09-04T09:08:23.259885Z"
    },
    "papermill": {
     "duration": 0.182775,
     "end_time": "2024-09-04T09:08:23.263942",
     "exception": false,
     "start_time": "2024-09-04T09:08:23.081167",
     "status": "completed"
    },
    "scrolled": true,
    "tags": []
   },
   "outputs": [
    {
     "name": "stdout",
     "output_type": "stream",
     "text": [
      "     QID                                   question  \\\n",
      "0      0  Are these established in the same decade?   \n",
      "1      1  Are these established in the same decade?   \n",
      "2      2  Are these established in the same decade?   \n",
      "3      3  Are these established in the same decade?   \n",
      "4      4  Are these established in the same decade?   \n",
      "..   ...                                        ...   \n",
      "495  495               Are these greek restaurants?   \n",
      "496  496               Are these greek restaurants?   \n",
      "497  497               Are these greek restaurants?   \n",
      "498  498               Are these greek restaurants?   \n",
      "499  499               Are these greek restaurants?   \n",
      "\n",
      "                                          sentence_1  \\\n",
      "0      Banco do Brasil has headquarters in Brasília.   \n",
      "1         Banco do Brasil has origin country Brazil.   \n",
      "2       Banco do Brasil has CEO John VI of Portugal.   \n",
      "3    State Bank of India has headquarters in Mumbai.   \n",
      "4      Banco do Brasil has headquarters in Brasília.   \n",
      "..                                               ...   \n",
      "495          Seasons 52 has headquarters in Orlando.   \n",
      "496       Jamba Juice was established on 1990-01-01.   \n",
      "497              IHOP was established on 1958-01-01.   \n",
      "498          Firehouse Subs is a type of Restaurant.   \n",
      "499            Dunkin' has William Rosenberg as CEO.   \n",
      "\n",
      "                                          sentence_2 answer  \\\n",
      "0       Banco do Brasil has CEO John VI of Portugal.    Yes   \n",
      "1         Banco do Brasil has origin country Brazil.    Yes   \n",
      "2    State Bank of India has headquarters in Mumbai.    Yes   \n",
      "3    State Bank of India has headquarters in Mumbai.    Yes   \n",
      "4       Banco do Brasil has CEO John VI of Portugal.    Yes   \n",
      "..                                               ...    ...   \n",
      "495  Chuck E. Cheese's was established on 1977-01-01     No   \n",
      "496               IHOP was established on 1958-01-01     No   \n",
      "497      Panda Express was established on 1973-01-01     No   \n",
      "498             Hotto Motto is a type of Restaurant.     No   \n",
      "499      Panda Express was established on 1973-01-01     No   \n",
      "\n",
      "                  entities                               entity_titles  \n",
      "0       [Q610817, Q610817]          [Banco do Brasil, Banco do Brasil]  \n",
      "1       [Q610817, Q610817]          [Banco do Brasil, Banco do Brasil]  \n",
      "2      [Q610817, Q1340361]      [Banco do Brasil, State Bank of India]  \n",
      "3     [Q1340361, Q1340361]  [State Bank of India, State Bank of India]  \n",
      "4       [Q610817, Q610817]          [Banco do Brasil, Banco do Brasil]  \n",
      "..                     ...                                         ...  \n",
      "495   [Q7441933, Q2438391]             [Seasons 52, Chuck E. Cheese's]  \n",
      "496   [Q3088784, Q1185675]                         [Jamba Juice, IHOP]  \n",
      "497   [Q1185675, Q1358690]                       [IHOP, Panda Express]  \n",
      "498  [Q5451873, Q10850949]               [Firehouse Subs, Hotto Motto]  \n",
      "499    [Q847743, Q1358690]                    [Dunkin', Panda Express]  \n",
      "\n",
      "[500 rows x 7 columns]\n"
     ]
    }
   ],
   "source": [
    "df = pd.read_json('/kaggle/input/business-json/task_2_raw.json').transpose()\n",
    "df.reset_index(inplace=True)\n",
    "df.rename(columns={'index': 'QID'}, inplace=True)\n",
    "print(df)"
   ]
  },
  {
   "cell_type": "code",
   "execution_count": 3,
   "id": "78db9c31",
   "metadata": {
    "execution": {
     "iopub.execute_input": "2024-09-04T09:08:23.279199Z",
     "iopub.status.busy": "2024-09-04T09:08:23.278319Z",
     "iopub.status.idle": "2024-09-04T09:08:23.369185Z",
     "shell.execute_reply": "2024-09-04T09:08:23.368226Z"
    },
    "papermill": {
     "duration": 0.101227,
     "end_time": "2024-09-04T09:08:23.371839",
     "exception": false,
     "start_time": "2024-09-04T09:08:23.270612",
     "status": "completed"
    },
    "tags": []
   },
   "outputs": [
    {
     "name": "stdout",
     "output_type": "stream",
     "text": [
      "     QID                                   question  \\\n",
      "0      0  Are these established in the same decade?   \n",
      "1      1  Are these established in the same decade?   \n",
      "2      2  Are these established in the same decade?   \n",
      "3      3  Are these established in the same decade?   \n",
      "4      4  Are these established in the same decade?   \n",
      "..   ...                                        ...   \n",
      "495  495               Are these greek restaurants?   \n",
      "496  496               Are these greek restaurants?   \n",
      "497  497               Are these greek restaurants?   \n",
      "498  498               Are these greek restaurants?   \n",
      "499  499               Are these greek restaurants?   \n",
      "\n",
      "                                          sentence_1  \\\n",
      "0      Banco do Brasil has headquarters in Brasília.   \n",
      "1         Banco do Brasil has origin country Brazil.   \n",
      "2       Banco do Brasil has CEO John VI of Portugal.   \n",
      "3    State Bank of India has headquarters in Mumbai.   \n",
      "4      Banco do Brasil has headquarters in Brasília.   \n",
      "..                                               ...   \n",
      "495          Seasons 52 has headquarters in Orlando.   \n",
      "496       Jamba Juice was established on 1990-01-01.   \n",
      "497              IHOP was established on 1958-01-01.   \n",
      "498          Firehouse Subs is a type of Restaurant.   \n",
      "499            Dunkin' has William Rosenberg as CEO.   \n",
      "\n",
      "                                          sentence_2 answer      entities  \\\n",
      "0       Banco do Brasil has CEO John VI of Portugal.    Yes  [Q233, Q233]   \n",
      "1         Banco do Brasil has origin country Brazil.    Yes  [Q233, Q233]   \n",
      "2    State Bank of India has headquarters in Mumbai.    Yes  [Q233, Q356]   \n",
      "3    State Bank of India has headquarters in Mumbai.    Yes  [Q356, Q356]   \n",
      "4       Banco do Brasil has CEO John VI of Portugal.    Yes  [Q233, Q233]   \n",
      "..                                               ...    ...           ...   \n",
      "495  Chuck E. Cheese's was established on 1977-01-01     No  [Q429, Q390]   \n",
      "496               IHOP was established on 1958-01-01     No   [Q85, Q118]   \n",
      "497      Panda Express was established on 1973-01-01     No  [Q118, Q426]   \n",
      "498             Hotto Motto is a type of Restaurant.     No   [Q213, Q49]   \n",
      "499      Panda Express was established on 1973-01-01     No  [Q423, Q426]   \n",
      "\n",
      "                                  entity_titles  \n",
      "0            [Banco do Brasil, Banco do Brasil]  \n",
      "1            [Banco do Brasil, Banco do Brasil]  \n",
      "2        [Banco do Brasil, State Bank of India]  \n",
      "3    [State Bank of India, State Bank of India]  \n",
      "4            [Banco do Brasil, Banco do Brasil]  \n",
      "..                                          ...  \n",
      "495             [Seasons 52, Chuck E. Cheese's]  \n",
      "496                         [Jamba Juice, IHOP]  \n",
      "497                       [IHOP, Panda Express]  \n",
      "498               [Firehouse Subs, Hotto Motto]  \n",
      "499                    [Dunkin', Panda Express]  \n",
      "\n",
      "[500 rows x 7 columns]\n"
     ]
    }
   ],
   "source": [
    "\n",
    "\n",
    "entity_df = pd.read_csv(\"/kaggle/input/business-json/Knowledge.csv\")\n",
    "# Merge the original DataFrame with the entity DataFrame\n",
    "# Expand the entities and entity_titles columns to match each entity with its title\n",
    "merged_df = df.explode(['entities', 'entity_titles'])\n",
    "\n",
    "# Merge with entity_df on entity_titles and entity_name\n",
    "merged_df = merged_df.merge(entity_df, left_on='entity_titles', right_on='Entity_name', how='left')\n",
    "\n",
    "# Replace the original 'entities' with the correct 'entity_id' from entity_df\n",
    "merged_df['entities'] = merged_df['Entity_ID']\n",
    "\n",
    "# Group back to the original structure\n",
    "updated_df = merged_df.groupby(['QID', 'question', 'sentence_1', 'sentence_2', 'answer'], as_index=False).agg({\n",
    "    'entities': lambda x: list(x),\n",
    "    'entity_titles': lambda x: list(x)\n",
    "})\n",
    "\n",
    "print(updated_df)\n"
   ]
  },
  {
   "cell_type": "code",
   "execution_count": 4,
   "id": "439dc21b",
   "metadata": {
    "execution": {
     "iopub.execute_input": "2024-09-04T09:08:23.385708Z",
     "iopub.status.busy": "2024-09-04T09:08:23.385031Z",
     "iopub.status.idle": "2024-09-04T09:08:23.393823Z",
     "shell.execute_reply": "2024-09-04T09:08:23.392864Z"
    },
    "papermill": {
     "duration": 0.018333,
     "end_time": "2024-09-04T09:08:23.396140",
     "exception": false,
     "start_time": "2024-09-04T09:08:23.377807",
     "status": "completed"
    },
    "tags": []
   },
   "outputs": [
    {
     "name": "stdout",
     "output_type": "stream",
     "text": [
      "QID              500\n",
      "question         500\n",
      "sentence_1       500\n",
      "sentence_2       500\n",
      "answer           500\n",
      "entities         500\n",
      "entity_titles    500\n",
      "dtype: int64\n",
      "3500\n"
     ]
    }
   ],
   "source": [
    "print(500 - df.isna().sum())\n",
    "print((500 - df.isna().sum()).sum())"
   ]
  },
  {
   "cell_type": "code",
   "execution_count": 5,
   "id": "4a4e49e2",
   "metadata": {
    "execution": {
     "iopub.execute_input": "2024-09-04T09:08:23.410248Z",
     "iopub.status.busy": "2024-09-04T09:08:23.409473Z",
     "iopub.status.idle": "2024-09-04T09:08:29.321736Z",
     "shell.execute_reply": "2024-09-04T09:08:29.320670Z"
    },
    "papermill": {
     "duration": 5.922223,
     "end_time": "2024-09-04T09:08:29.324659",
     "exception": false,
     "start_time": "2024-09-04T09:08:23.402436",
     "status": "completed"
    },
    "tags": []
   },
   "outputs": [],
   "source": [
    "import pandas as pd\n",
    "from wordcloud import WordCloud\n",
    "import matplotlib.pyplot as plt\n",
    "import seaborn as sns\n",
    "from collections import Counter\n",
    "import warnings\n",
    "import os\n",
    "warnings.filterwarnings(\"ignore\")\n",
    "import time\n",
    "from tqdm import tqdm\n",
    "import torch\n",
    "import ast"
   ]
  },
  {
   "cell_type": "code",
   "execution_count": 6,
   "id": "8dcf0b3d",
   "metadata": {
    "execution": {
     "iopub.execute_input": "2024-09-04T09:08:29.344108Z",
     "iopub.status.busy": "2024-09-04T09:08:29.342971Z",
     "iopub.status.idle": "2024-09-04T09:08:29.348300Z",
     "shell.execute_reply": "2024-09-04T09:08:29.347353Z"
    },
    "papermill": {
     "duration": 0.017341,
     "end_time": "2024-09-04T09:08:29.350972",
     "exception": false,
     "start_time": "2024-09-04T09:08:29.333631",
     "status": "completed"
    },
    "tags": []
   },
   "outputs": [],
   "source": [
    "columns = ['QID', 'question', 'sentence_1', 'sentence_2', 'answer', 'entities',\n",
    "       'entity_titles']"
   ]
  },
  {
   "cell_type": "code",
   "execution_count": 7,
   "id": "953e5397",
   "metadata": {
    "execution": {
     "iopub.execute_input": "2024-09-04T09:08:29.369061Z",
     "iopub.status.busy": "2024-09-04T09:08:29.368233Z",
     "iopub.status.idle": "2024-09-04T09:08:29.423589Z",
     "shell.execute_reply": "2024-09-04T09:08:29.422409Z"
    },
    "papermill": {
     "duration": 0.067127,
     "end_time": "2024-09-04T09:08:29.426902",
     "exception": false,
     "start_time": "2024-09-04T09:08:29.359775",
     "status": "completed"
    },
    "scrolled": true,
    "tags": []
   },
   "outputs": [
    {
     "name": "stdout",
     "output_type": "stream",
     "text": [
      "QID\n",
      "499    1\n",
      "0      1\n",
      "1      1\n",
      "2      1\n",
      "3      1\n",
      "      ..\n",
      "23     1\n",
      "24     1\n",
      "25     1\n",
      "26     1\n",
      "27     1\n",
      "Name: count, Length: 500, dtype: int64\n",
      "question\n",
      "Do they have the headquarters in the same city?    300\n",
      "Are these established in the same decade?          160\n",
      "Are these japanese restaurants?                     10\n",
      "Are these british restaurants?                      10\n",
      "Are these american restaurants?                     10\n",
      "Are these swedish restaurants?                       5\n",
      "Are these greek restaurants?                         5\n",
      "Name: count, dtype: int64\n",
      "sentence_1\n",
      "Hotto Motto is a type of Restaurant.                    8\n",
      "Whataburger is a type of Restaurant.                    4\n",
      "Bankia has origin country Spain.                        3\n",
      "KeyBank has headquarters in Cleveland.                  3\n",
      "Sumitomo Mitsui Trust Bank has origin country Japan.    3\n",
      "                                                       ..\n",
      "Porsche has origin country Germany.                     1\n",
      "Mercedes-Benz has Paul Daimler as CEO.                  1\n",
      "Porsche was established on 1931-01-01.                  1\n",
      "Bank of Ireland has origin country Ireland.             1\n",
      "Westpac is a type of Bank.                              1\n",
      "Name: count, Length: 384, dtype: int64\n",
      "sentence_2\n",
      "Bank Hapoalim has CEO Histadrut.                       4\n",
      "Westpac has origin country Australia.                  4\n",
      "CIMB has origin country Malaysia.                      4\n",
      "Davivienda has headquarters in Bogotá.                 3\n",
      "IHOP is a type of Restaurant.                          3\n",
      "                                                      ..\n",
      "Punjab National Bank was established on 1894-01-01.    1\n",
      "Ito-Yokado has origin country Japan.                   1\n",
      "Ito-Yokado is a type of Retail store.                  1\n",
      "Mercedes-Benz has Paul Daimler as CEO.                 1\n",
      "Galp Energia is a type of Petrol station.              1\n",
      "Name: count, Length: 389, dtype: int64\n",
      "answer\n",
      "Yes    265\n",
      "No     235\n",
      "Name: count, dtype: int64\n",
      "entities\n",
      "[Q376627, Q1283291]      5\n",
      "[Q549181, Q912778]       4\n",
      "[Q775060, Q319642]       4\n",
      "[Q10850949, Q1065819]    4\n",
      "[Q1575057, Q1492739]     4\n",
      "                        ..\n",
      "[Q5453752, Q3272257]     1\n",
      "[Q847225, Q571997]       1\n",
      "[Q1148521, Q847225]      1\n",
      "[Q1148521, Q5242054]     1\n",
      "[Q798819, Q1636974]      1\n",
      "Name: count, Length: 420, dtype: int64\n",
      "entity_titles\n",
      "[Whataburger, Valero Energy Corporation]    5\n",
      "[MOL Group, OTP Bank]                       4\n",
      "[Texaco, Chevron Corporation]               4\n",
      "[Hotto Motto, Mister Donut]                 4\n",
      "[Pingo Doce, Galp Energia]                  4\n",
      "                                           ..\n",
      "[First Republic Bank, M&T Bank]             1\n",
      "[Caixabank, Shinsei Bank]                   1\n",
      "[VakıfBank, Caixabank]                      1\n",
      "[VakıfBank, Davivienda]                     1\n",
      "[Huntington Bancshares, Danske Bank]        1\n",
      "Name: count, Length: 420, dtype: int64\n"
     ]
    }
   ],
   "source": [
    "for column in columns:\n",
    "    print(df[column].value_counts())"
   ]
  },
  {
   "cell_type": "code",
   "execution_count": 8,
   "id": "947fca13",
   "metadata": {
    "execution": {
     "iopub.execute_input": "2024-09-04T09:08:29.443359Z",
     "iopub.status.busy": "2024-09-04T09:08:29.442337Z",
     "iopub.status.idle": "2024-09-04T09:08:38.895199Z",
     "shell.execute_reply": "2024-09-04T09:08:38.893958Z"
    },
    "papermill": {
     "duration": 9.463655,
     "end_time": "2024-09-04T09:08:38.897796",
     "exception": false,
     "start_time": "2024-09-04T09:08:29.434141",
     "status": "completed"
    },
    "tags": []
   },
   "outputs": [
    {
     "name": "stdout",
     "output_type": "stream",
     "text": [
      "\r\n",
      "\r\n",
      "\r\n",
      "The following additional packages will be installed:\r\n",
      "  espeak-ng-data libespeak-ng1 libpcaudio0 libsonic0\r\n",
      "The following NEW packages will be installed:\r\n",
      "  espeak-ng espeak-ng-data libespeak-ng1 libpcaudio0 libsonic0\r\n",
      "0 upgraded, 5 newly installed, 0 to remove and 39 not upgraded.\r\n",
      "Need to get 4526 kB of archives.\r\n",
      "After this operation, 11.9 MB of additional disk space will be used.\r\n",
      "Get:1 http://archive.ubuntu.com/ubuntu jammy/main amd64 libpcaudio0 amd64 1.1-6build2 [8956 B]\r\n",
      "Get:2 http://archive.ubuntu.com/ubuntu jammy/main amd64 libsonic0 amd64 0.2.0-11build1 [10.3 kB]\r\n",
      "Get:3 http://archive.ubuntu.com/ubuntu jammy-updates/main amd64 espeak-ng-data amd64 1.50+dfsg-10ubuntu0.1 [3956 kB]\r\n",
      "Get:4 http://archive.ubuntu.com/ubuntu jammy-updates/main amd64 libespeak-ng1 amd64 1.50+dfsg-10ubuntu0.1 [207 kB]\r\n",
      "Get:5 http://archive.ubuntu.com/ubuntu jammy-updates/universe amd64 espeak-ng amd64 1.50+dfsg-10ubuntu0.1 [343 kB]\r\n",
      "Fetched 4526 kB in 1s (3645 kB/s)\r\n",
      "Selecting previously unselected package libpcaudio0:amd64.\r\n",
      "(Reading database ... 123110 files and directories currently installed.)\r\n",
      "Preparing to unpack .../libpcaudio0_1.1-6build2_amd64.deb ...\r\n",
      "Unpacking libpcaudio0:amd64 (1.1-6build2) ...\r\n",
      "Selecting previously unselected package libsonic0:amd64.\r\n",
      "Preparing to unpack .../libsonic0_0.2.0-11build1_amd64.deb ...\r\n",
      "Unpacking libsonic0:amd64 (0.2.0-11build1) ...\r\n",
      "Selecting previously unselected package espeak-ng-data:amd64.\r\n",
      "Preparing to unpack .../espeak-ng-data_1.50+dfsg-10ubuntu0.1_amd64.deb ...\r\n",
      "Unpacking espeak-ng-data:amd64 (1.50+dfsg-10ubuntu0.1) ...\r\n",
      "Selecting previously unselected package libespeak-ng1:amd64.\r\n",
      "Preparing to unpack .../libespeak-ng1_1.50+dfsg-10ubuntu0.1_amd64.deb ...\r\n",
      "Unpacking libespeak-ng1:amd64 (1.50+dfsg-10ubuntu0.1) ...\r\n",
      "Selecting previously unselected package espeak-ng.\r\n",
      "Preparing to unpack .../espeak-ng_1.50+dfsg-10ubuntu0.1_amd64.deb ...\r\n",
      "Unpacking espeak-ng (1.50+dfsg-10ubuntu0.1) ...\r\n",
      "Setting up libpcaudio0:amd64 (1.1-6build2) ...\r\n",
      "Setting up libsonic0:amd64 (0.2.0-11build1) ...\r\n",
      "Setting up espeak-ng-data:amd64 (1.50+dfsg-10ubuntu0.1) ...\r\n",
      "Setting up libespeak-ng1:amd64 (1.50+dfsg-10ubuntu0.1) ...\r\n",
      "Setting up espeak-ng (1.50+dfsg-10ubuntu0.1) ...\r\n",
      "Processing triggers for man-db (2.10.2-1) ...\r\n",
      "Processing triggers for libc-bin (2.35-0ubuntu3.8) ...\r\n"
     ]
    }
   ],
   "source": [
    "!apt-get install espeak-ng -y"
   ]
  },
  {
   "cell_type": "code",
   "execution_count": 9,
   "id": "92110cee",
   "metadata": {
    "execution": {
     "iopub.execute_input": "2024-09-04T09:08:38.919933Z",
     "iopub.status.busy": "2024-09-04T09:08:38.919513Z",
     "iopub.status.idle": "2024-09-04T09:08:46.820851Z",
     "shell.execute_reply": "2024-09-04T09:08:46.819704Z"
    },
    "papermill": {
     "duration": 7.91492,
     "end_time": "2024-09-04T09:08:46.822995",
     "exception": false,
     "start_time": "2024-09-04T09:08:38.908075",
     "status": "completed"
    },
    "tags": []
   },
   "outputs": [
    {
     "name": "stdout",
     "output_type": "stream",
     "text": [
      "Cloning into 'TTS'...\r\n",
      "remote: Enumerating objects: 32844, done.\u001b[K\r\n",
      "remote: Counting objects: 100% (3521/3521), done.\u001b[K\r\n",
      "remote: Compressing objects: 100% (126/126), done.\u001b[K\r\n",
      "remote: Total 32844 (delta 3433), reused 3395 (delta 3395), pack-reused 29323 (from 1)\u001b[K\r\n",
      "Receiving objects: 100% (32844/32844), 166.12 MiB | 34.56 MiB/s, done.\r\n",
      "Resolving deltas: 100% (23858/23858), done.\r\n",
      "/kaggle/working/TTS\n"
     ]
    }
   ],
   "source": [
    "!git clone https://github.com/coqui-ai/TTS\n",
    "%cd TTS"
   ]
  },
  {
   "cell_type": "code",
   "execution_count": 10,
   "id": "68e5cb4d",
   "metadata": {
    "execution": {
     "iopub.execute_input": "2024-09-04T09:08:46.851057Z",
     "iopub.status.busy": "2024-09-04T09:08:46.850071Z",
     "iopub.status.idle": "2024-09-04T09:10:56.146734Z",
     "shell.execute_reply": "2024-09-04T09:10:56.145286Z"
    },
    "papermill": {
     "duration": 129.313723,
     "end_time": "2024-09-04T09:10:56.149489",
     "exception": false,
     "start_time": "2024-09-04T09:08:46.835766",
     "status": "completed"
    },
    "scrolled": true,
    "tags": []
   },
   "outputs": [
    {
     "name": "stdout",
     "output_type": "stream",
     "text": [
      "Obtaining file:///kaggle/working/TTS\r\n",
      "  Installing build dependencies ... \u001b[?25l-\b \b\\\b \b|\b \b/\b \b-\b \b\\\b \b|\b \b/\b \b-\b \b\\\b \b|\b \b/\b \b-\b \bdone\r\n",
      "\u001b[?25h  Checking if build backend supports build_editable ... \u001b[?25ldone\r\n",
      "\u001b[?25h  Getting requirements to build editable ... \u001b[?25l-\b \b\\\b \bdone\r\n",
      "\u001b[?25h  Preparing editable metadata (pyproject.toml) ... \u001b[?25l-\b \bdone\r\n",
      "\u001b[?25hRequirement already satisfied: cython>=0.29.30 in /opt/conda/lib/python3.10/site-packages (from TTS==0.22.0) (3.0.10)\r\n",
      "Requirement already satisfied: scipy>=1.11.2 in /opt/conda/lib/python3.10/site-packages (from TTS==0.22.0) (1.14.0)\r\n",
      "Requirement already satisfied: torch>=2.1 in /opt/conda/lib/python3.10/site-packages (from TTS==0.22.0) (2.4.0)\r\n",
      "Requirement already satisfied: torchaudio in /opt/conda/lib/python3.10/site-packages (from TTS==0.22.0) (2.4.0)\r\n",
      "Requirement already satisfied: soundfile>=0.12.0 in /opt/conda/lib/python3.10/site-packages (from TTS==0.22.0) (0.12.1)\r\n",
      "Requirement already satisfied: librosa>=0.10.0 in /opt/conda/lib/python3.10/site-packages (from TTS==0.22.0) (0.10.2.post1)\r\n",
      "Collecting scikit-learn>=1.3.0 (from TTS==0.22.0)\r\n",
      "  Downloading scikit_learn-1.5.1-cp310-cp310-manylinux_2_17_x86_64.manylinux2014_x86_64.whl.metadata (12 kB)\r\n",
      "Collecting inflect>=5.6.0 (from TTS==0.22.0)\r\n",
      "  Downloading inflect-7.3.1-py3-none-any.whl.metadata (21 kB)\r\n",
      "Requirement already satisfied: tqdm>=4.64.1 in /opt/conda/lib/python3.10/site-packages (from TTS==0.22.0) (4.66.4)\r\n",
      "Collecting anyascii>=0.3.0 (from TTS==0.22.0)\r\n",
      "  Downloading anyascii-0.3.2-py3-none-any.whl.metadata (1.5 kB)\r\n",
      "Requirement already satisfied: pyyaml>=6.0 in /opt/conda/lib/python3.10/site-packages (from TTS==0.22.0) (6.0.2)\r\n",
      "Requirement already satisfied: fsspec>=2023.6.0 in /opt/conda/lib/python3.10/site-packages (from TTS==0.22.0) (2024.6.1)\r\n",
      "Requirement already satisfied: aiohttp>=3.8.1 in /opt/conda/lib/python3.10/site-packages (from TTS==0.22.0) (3.9.5)\r\n",
      "Collecting packaging>=23.1 (from TTS==0.22.0)\r\n",
      "  Using cached packaging-24.1-py3-none-any.whl.metadata (3.2 kB)\r\n",
      "Collecting mutagen==1.47.0 (from TTS==0.22.0)\r\n",
      "  Downloading mutagen-1.47.0-py3-none-any.whl.metadata (1.7 kB)\r\n",
      "Requirement already satisfied: flask>=2.0.1 in /opt/conda/lib/python3.10/site-packages (from TTS==0.22.0) (3.0.3)\r\n",
      "Collecting pysbd>=0.3.4 (from TTS==0.22.0)\r\n",
      "  Downloading pysbd-0.3.4-py3-none-any.whl.metadata (6.1 kB)\r\n",
      "Requirement already satisfied: umap-learn>=0.5.1 in /opt/conda/lib/python3.10/site-packages (from TTS==0.22.0) (0.5.6)\r\n",
      "Collecting pandas<2.0,>=1.4 (from TTS==0.22.0)\r\n",
      "  Downloading pandas-1.5.3-cp310-cp310-manylinux_2_17_x86_64.manylinux2014_x86_64.whl.metadata (11 kB)\r\n",
      "Requirement already satisfied: matplotlib>=3.7.0 in /opt/conda/lib/python3.10/site-packages (from TTS==0.22.0) (3.7.5)\r\n",
      "Collecting trainer>=0.0.36 (from TTS==0.22.0)\r\n",
      "  Downloading trainer-0.0.36-py3-none-any.whl.metadata (8.1 kB)\r\n",
      "Collecting coqpit>=0.0.16 (from TTS==0.22.0)\r\n",
      "  Downloading coqpit-0.0.17-py3-none-any.whl.metadata (11 kB)\r\n",
      "Requirement already satisfied: jieba in /opt/conda/lib/python3.10/site-packages (from TTS==0.22.0) (0.42.1)\r\n",
      "Collecting pypinyin (from TTS==0.22.0)\r\n",
      "  Downloading pypinyin-0.52.0-py2.py3-none-any.whl.metadata (12 kB)\r\n",
      "Collecting hangul-romanize (from TTS==0.22.0)\r\n",
      "  Downloading hangul_romanize-0.1.0-py3-none-any.whl.metadata (1.2 kB)\r\n",
      "Collecting gruut==2.2.3 (from gruut[de,es,fr]==2.2.3->TTS==0.22.0)\r\n",
      "  Downloading gruut-2.2.3.tar.gz (73 kB)\r\n",
      "\u001b[2K     \u001b[90m━━━━━━━━━━━━━━━━━━━━━━━━━━━━━━━━━━━━━━━━\u001b[0m \u001b[32m73.5/73.5 kB\u001b[0m \u001b[31m1.3 MB/s\u001b[0m eta \u001b[36m0:00:00\u001b[0m\r\n",
      "\u001b[?25h  Preparing metadata (setup.py) ... \u001b[?25l-\b \bdone\r\n",
      "\u001b[?25hCollecting jamo (from TTS==0.22.0)\r\n",
      "  Downloading jamo-0.4.1-py3-none-any.whl.metadata (2.3 kB)\r\n",
      "Requirement already satisfied: nltk in /opt/conda/lib/python3.10/site-packages (from TTS==0.22.0) (3.2.4)\r\n",
      "Collecting g2pkk>=0.1.1 (from TTS==0.22.0)\r\n",
      "  Downloading g2pkk-0.1.2-py3-none-any.whl.metadata (2.0 kB)\r\n",
      "Collecting bangla (from TTS==0.22.0)\r\n",
      "  Downloading bangla-0.0.2-py2.py3-none-any.whl.metadata (4.5 kB)\r\n",
      "Collecting bnnumerizer (from TTS==0.22.0)\r\n",
      "  Downloading bnnumerizer-0.0.2.tar.gz (4.7 kB)\r\n",
      "  Preparing metadata (setup.py) ... \u001b[?25l-\b \bdone\r\n",
      "\u001b[?25hCollecting bnunicodenormalizer (from TTS==0.22.0)\r\n",
      "  Downloading bnunicodenormalizer-0.1.7-py3-none-any.whl.metadata (22 kB)\r\n",
      "Collecting einops>=0.6.0 (from TTS==0.22.0)\r\n",
      "  Downloading einops-0.8.0-py3-none-any.whl.metadata (12 kB)\r\n",
      "Requirement already satisfied: transformers>=4.33.0 in /opt/conda/lib/python3.10/site-packages (from TTS==0.22.0) (4.44.0)\r\n",
      "Collecting encodec>=0.1.1 (from TTS==0.22.0)\r\n",
      "  Downloading encodec-0.1.1.tar.gz (3.7 MB)\r\n",
      "\u001b[2K     \u001b[90m━━━━━━━━━━━━━━━━━━━━━━━━━━━━━━━━━━━━━━━━\u001b[0m \u001b[32m3.7/3.7 MB\u001b[0m \u001b[31m19.8 MB/s\u001b[0m eta \u001b[36m0:00:00\u001b[0m\r\n",
      "\u001b[?25h  Preparing metadata (setup.py) ... \u001b[?25l-\b \bdone\r\n",
      "\u001b[?25hCollecting unidecode>=1.3.2 (from TTS==0.22.0)\r\n",
      "  Downloading Unidecode-1.3.8-py3-none-any.whl.metadata (13 kB)\r\n",
      "Collecting num2words (from TTS==0.22.0)\r\n",
      "  Downloading num2words-0.5.13-py3-none-any.whl.metadata (12 kB)\r\n",
      "Requirement already satisfied: spacy>=3 in /opt/conda/lib/python3.10/site-packages (from spacy[ja]>=3->TTS==0.22.0) (3.7.5)\r\n",
      "Collecting numpy==1.22.0 (from TTS==0.22.0)\r\n",
      "  Downloading numpy-1.22.0-cp310-cp310-manylinux_2_17_x86_64.manylinux2014_x86_64.whl.metadata (2.0 kB)\r\n",
      "Requirement already satisfied: numba>=0.57.0 in /opt/conda/lib/python3.10/site-packages (from TTS==0.22.0) (0.58.1)\r\n",
      "Requirement already satisfied: Babel<3.0.0,>=2.8.0 in /opt/conda/lib/python3.10/site-packages (from gruut==2.2.3->gruut[de,es,fr]==2.2.3->TTS==0.22.0) (2.15.0)\r\n",
      "Collecting dateparser~=1.1.0 (from gruut==2.2.3->gruut[de,es,fr]==2.2.3->TTS==0.22.0)\r\n",
      "  Downloading dateparser-1.1.8-py2.py3-none-any.whl.metadata (27 kB)\r\n",
      "Collecting gruut-ipa<1.0,>=0.12.0 (from gruut==2.2.3->gruut[de,es,fr]==2.2.3->TTS==0.22.0)\r\n",
      "  Downloading gruut-ipa-0.13.0.tar.gz (101 kB)\r\n",
      "\u001b[2K     \u001b[90m━━━━━━━━━━━━━━━━━━━━━━━━━━━━━━━━━━━━━━━\u001b[0m \u001b[32m101.6/101.6 kB\u001b[0m \u001b[31m6.6 MB/s\u001b[0m eta \u001b[36m0:00:00\u001b[0m\r\n",
      "\u001b[?25h  Preparing metadata (setup.py) ... \u001b[?25l-\b \bdone\r\n",
      "\u001b[?25hCollecting gruut_lang_en~=2.0.0 (from gruut==2.2.3->gruut[de,es,fr]==2.2.3->TTS==0.22.0)\r\n",
      "  Downloading gruut_lang_en-2.0.1.tar.gz (15.3 MB)\r\n",
      "\u001b[2K     \u001b[90m━━━━━━━━━━━━━━━━━━━━━━━━━━━━━━━━━━━━━━━━\u001b[0m \u001b[32m15.3/15.3 MB\u001b[0m \u001b[31m62.0 MB/s\u001b[0m eta \u001b[36m0:00:00\u001b[0m\r\n",
      "\u001b[?25h  Preparing metadata (setup.py) ... \u001b[?25l-\b \bdone\r\n",
      "\u001b[?25hCollecting jsonlines~=1.2.0 (from gruut==2.2.3->gruut[de,es,fr]==2.2.3->TTS==0.22.0)\r\n",
      "  Downloading jsonlines-1.2.0-py2.py3-none-any.whl.metadata (1.3 kB)\r\n",
      "Collecting networkx<3.0.0,>=2.5.0 (from gruut==2.2.3->gruut[de,es,fr]==2.2.3->TTS==0.22.0)\r\n",
      "  Downloading networkx-2.8.8-py3-none-any.whl.metadata (5.1 kB)\r\n",
      "Collecting python-crfsuite~=0.9.7 (from gruut==2.2.3->gruut[de,es,fr]==2.2.3->TTS==0.22.0)\r\n",
      "  Downloading python_crfsuite-0.9.10-cp310-cp310-manylinux_2_17_x86_64.manylinux2014_x86_64.whl.metadata (4.2 kB)\r\n",
      "Collecting gruut_lang_es~=2.0.0 (from gruut[de,es,fr]==2.2.3->TTS==0.22.0)\r\n",
      "  Downloading gruut_lang_es-2.0.1.tar.gz (31.4 MB)\r\n",
      "\u001b[2K     \u001b[90m━━━━━━━━━━━━━━━━━━━━━━━━━━━━━━━━━━━━━━━━\u001b[0m \u001b[32m31.4/31.4 MB\u001b[0m \u001b[31m44.2 MB/s\u001b[0m eta \u001b[36m0:00:00\u001b[0m\r\n",
      "\u001b[?25h  Preparing metadata (setup.py) ... \u001b[?25l-\b \bdone\r\n",
      "\u001b[?25hCollecting gruut_lang_de~=2.0.0 (from gruut[de,es,fr]==2.2.3->TTS==0.22.0)\r\n",
      "  Downloading gruut_lang_de-2.0.1.tar.gz (18.1 MB)\r\n",
      "\u001b[2K     \u001b[90m━━━━━━━━━━━━━━━━━━━━━━━━━━━━━━━━━━━━━━━━\u001b[0m \u001b[32m18.1/18.1 MB\u001b[0m \u001b[31m57.6 MB/s\u001b[0m eta \u001b[36m0:00:00\u001b[0m\r\n",
      "\u001b[?25h  Preparing metadata (setup.py) ... \u001b[?25l-\b \bdone\r\n",
      "\u001b[?25hCollecting gruut_lang_fr~=2.0.0 (from gruut[de,es,fr]==2.2.3->TTS==0.22.0)\r\n",
      "  Downloading gruut_lang_fr-2.0.2.tar.gz (10.9 MB)\r\n",
      "\u001b[2K     \u001b[90m━━━━━━━━━━━━━━━━━━━━━━━━━━━━━━━━━━━━━━━━\u001b[0m \u001b[32m10.9/10.9 MB\u001b[0m \u001b[31m69.1 MB/s\u001b[0m eta \u001b[36m0:00:00\u001b[0m\r\n",
      "\u001b[?25h  Preparing metadata (setup.py) ... \u001b[?25l-\b \bdone\r\n",
      "\u001b[?25hRequirement already satisfied: aiosignal>=1.1.2 in /opt/conda/lib/python3.10/site-packages (from aiohttp>=3.8.1->TTS==0.22.0) (1.3.1)\r\n",
      "Requirement already satisfied: attrs>=17.3.0 in /opt/conda/lib/python3.10/site-packages (from aiohttp>=3.8.1->TTS==0.22.0) (23.2.0)\r\n",
      "Requirement already satisfied: frozenlist>=1.1.1 in /opt/conda/lib/python3.10/site-packages (from aiohttp>=3.8.1->TTS==0.22.0) (1.4.1)\r\n",
      "Requirement already satisfied: multidict<7.0,>=4.5 in /opt/conda/lib/python3.10/site-packages (from aiohttp>=3.8.1->TTS==0.22.0) (6.0.5)\r\n",
      "Requirement already satisfied: yarl<2.0,>=1.0 in /opt/conda/lib/python3.10/site-packages (from aiohttp>=3.8.1->TTS==0.22.0) (1.9.4)\r\n",
      "Requirement already satisfied: async-timeout<5.0,>=4.0 in /opt/conda/lib/python3.10/site-packages (from aiohttp>=3.8.1->TTS==0.22.0) (4.0.3)\r\n",
      "Requirement already satisfied: Werkzeug>=3.0.0 in /opt/conda/lib/python3.10/site-packages (from flask>=2.0.1->TTS==0.22.0) (3.0.3)\r\n",
      "Requirement already satisfied: Jinja2>=3.1.2 in /opt/conda/lib/python3.10/site-packages (from flask>=2.0.1->TTS==0.22.0) (3.1.4)\r\n",
      "Requirement already satisfied: itsdangerous>=2.1.2 in /opt/conda/lib/python3.10/site-packages (from flask>=2.0.1->TTS==0.22.0) (2.2.0)\r\n",
      "Requirement already satisfied: click>=8.1.3 in /opt/conda/lib/python3.10/site-packages (from flask>=2.0.1->TTS==0.22.0) (8.1.7)\r\n",
      "Requirement already satisfied: blinker>=1.6.2 in /opt/conda/lib/python3.10/site-packages (from flask>=2.0.1->TTS==0.22.0) (1.8.2)\r\n",
      "Requirement already satisfied: more-itertools>=8.5.0 in /opt/conda/lib/python3.10/site-packages (from inflect>=5.6.0->TTS==0.22.0) (10.3.0)\r\n",
      "Requirement already satisfied: typeguard>=4.0.1 in /opt/conda/lib/python3.10/site-packages (from inflect>=5.6.0->TTS==0.22.0) (4.3.0)\r\n",
      "Requirement already satisfied: audioread>=2.1.9 in /opt/conda/lib/python3.10/site-packages (from librosa>=0.10.0->TTS==0.22.0) (3.0.1)\r\n",
      "INFO: pip is looking at multiple versions of librosa to determine which version is compatible with other requirements. This could take a while.\r\n",
      "Collecting librosa>=0.10.0 (from TTS==0.22.0)\r\n",
      "  Downloading librosa-0.10.2-py3-none-any.whl.metadata (8.6 kB)\r\n",
      "  Downloading librosa-0.10.1-py3-none-any.whl.metadata (8.3 kB)\r\n",
      "  Downloading librosa-0.10.0.post2-py3-none-any.whl.metadata (8.3 kB)\r\n",
      "  Downloading librosa-0.10.0.post1-py3-none-any.whl.metadata (8.3 kB)\r\n",
      "  Downloading librosa-0.10.0-py3-none-any.whl.metadata (8.3 kB)\r\n",
      "Requirement already satisfied: joblib>=0.14 in /opt/conda/lib/python3.10/site-packages (from librosa>=0.10.0->TTS==0.22.0) (1.4.2)\r\n",
      "Requirement already satisfied: decorator>=4.3.0 in /opt/conda/lib/python3.10/site-packages (from librosa>=0.10.0->TTS==0.22.0) (5.1.1)\r\n",
      "Requirement already satisfied: pooch>=1.0 in /opt/conda/lib/python3.10/site-packages (from librosa>=0.10.0->TTS==0.22.0) (1.8.2)\r\n",
      "Requirement already satisfied: soxr>=0.3.2 in /opt/conda/lib/python3.10/site-packages (from librosa>=0.10.0->TTS==0.22.0) (0.4.0)\r\n",
      "Requirement already satisfied: typing-extensions>=4.1.1 in /opt/conda/lib/python3.10/site-packages (from librosa>=0.10.0->TTS==0.22.0) (4.12.2)\r\n",
      "Requirement already satisfied: lazy-loader>=0.1 in /opt/conda/lib/python3.10/site-packages (from librosa>=0.10.0->TTS==0.22.0) (0.4)\r\n",
      "Requirement already satisfied: msgpack>=1.0 in /opt/conda/lib/python3.10/site-packages (from librosa>=0.10.0->TTS==0.22.0) (1.0.8)\r\n",
      "Requirement already satisfied: contourpy>=1.0.1 in /opt/conda/lib/python3.10/site-packages (from matplotlib>=3.7.0->TTS==0.22.0) (1.2.1)\r\n",
      "Requirement already satisfied: cycler>=0.10 in /opt/conda/lib/python3.10/site-packages (from matplotlib>=3.7.0->TTS==0.22.0) (0.12.1)\r\n",
      "Requirement already satisfied: fonttools>=4.22.0 in /opt/conda/lib/python3.10/site-packages (from matplotlib>=3.7.0->TTS==0.22.0) (4.53.0)\r\n",
      "Requirement already satisfied: kiwisolver>=1.0.1 in /opt/conda/lib/python3.10/site-packages (from matplotlib>=3.7.0->TTS==0.22.0) (1.4.5)\r\n",
      "Requirement already satisfied: pillow>=6.2.0 in /opt/conda/lib/python3.10/site-packages (from matplotlib>=3.7.0->TTS==0.22.0) (9.5.0)\r\n",
      "Requirement already satisfied: pyparsing>=2.3.1 in /opt/conda/lib/python3.10/site-packages (from matplotlib>=3.7.0->TTS==0.22.0) (3.1.2)\r\n",
      "Requirement already satisfied: python-dateutil>=2.7 in /opt/conda/lib/python3.10/site-packages (from matplotlib>=3.7.0->TTS==0.22.0) (2.9.0.post0)\r\n",
      "Requirement already satisfied: docopt>=0.6.2 in /opt/conda/lib/python3.10/site-packages (from num2words->TTS==0.22.0) (0.6.2)\r\n",
      "Requirement already satisfied: llvmlite<0.42,>=0.41.0dev0 in /opt/conda/lib/python3.10/site-packages (from numba>=0.57.0->TTS==0.22.0) (0.41.1)\r\n",
      "Requirement already satisfied: pytz>=2020.1 in /opt/conda/lib/python3.10/site-packages (from pandas<2.0,>=1.4->TTS==0.22.0) (2024.1)\r\n",
      "Requirement already satisfied: threadpoolctl>=3.1.0 in /opt/conda/lib/python3.10/site-packages (from scikit-learn>=1.3.0->TTS==0.22.0) (3.5.0)\r\n",
      "INFO: pip is looking at multiple versions of scipy to determine which version is compatible with other requirements. This could take a while.\r\n",
      "Collecting scipy>=1.11.2 (from TTS==0.22.0)\r\n",
      "  Downloading scipy-1.14.1-cp310-cp310-manylinux_2_17_x86_64.manylinux2014_x86_64.whl.metadata (60 kB)\r\n",
      "\u001b[2K     \u001b[90m━━━━━━━━━━━━━━━━━━━━━━━━━━━━━━━━━━━━━━━━\u001b[0m \u001b[32m60.8/60.8 kB\u001b[0m \u001b[31m2.6 MB/s\u001b[0m eta \u001b[36m0:00:00\u001b[0m\r\n",
      "\u001b[?25h  Downloading scipy-1.13.1-cp310-cp310-manylinux_2_17_x86_64.manylinux2014_x86_64.whl.metadata (60 kB)\r\n",
      "\u001b[2K     \u001b[90m━━━━━━━━━━━━━━━━━━━━━━━━━━━━━━━━━━━━━━━━\u001b[0m \u001b[32m60.6/60.6 kB\u001b[0m \u001b[31m3.1 MB/s\u001b[0m eta \u001b[36m0:00:00\u001b[0m\r\n",
      "\u001b[?25h  Downloading scipy-1.13.0-cp310-cp310-manylinux_2_17_x86_64.manylinux2014_x86_64.whl.metadata (60 kB)\r\n",
      "\u001b[2K     \u001b[90m━━━━━━━━━━━━━━━━━━━━━━━━━━━━━━━━━━━━━━━━\u001b[0m \u001b[32m60.6/60.6 kB\u001b[0m \u001b[31m3.0 MB/s\u001b[0m eta \u001b[36m0:00:00\u001b[0m\r\n",
      "\u001b[?25h  Downloading scipy-1.12.0-cp310-cp310-manylinux_2_17_x86_64.manylinux2014_x86_64.whl.metadata (60 kB)\r\n",
      "\u001b[2K     \u001b[90m━━━━━━━━━━━━━━━━━━━━━━━━━━━━━━━━━━━━━━━━\u001b[0m \u001b[32m60.4/60.4 kB\u001b[0m \u001b[31m3.3 MB/s\u001b[0m eta \u001b[36m0:00:00\u001b[0m\r\n",
      "\u001b[?25h  Downloading scipy-1.11.4-cp310-cp310-manylinux_2_17_x86_64.manylinux2014_x86_64.whl.metadata (60 kB)\r\n",
      "\u001b[2K     \u001b[90m━━━━━━━━━━━━━━━━━━━━━━━━━━━━━━━━━━━━━━━━\u001b[0m \u001b[32m60.4/60.4 kB\u001b[0m \u001b[31m3.0 MB/s\u001b[0m eta \u001b[36m0:00:00\u001b[0m\r\n",
      "\u001b[?25hRequirement already satisfied: cffi>=1.0 in /opt/conda/lib/python3.10/site-packages (from soundfile>=0.12.0->TTS==0.22.0) (1.16.0)\r\n",
      "Requirement already satisfied: spacy-legacy<3.1.0,>=3.0.11 in /opt/conda/lib/python3.10/site-packages (from spacy>=3->spacy[ja]>=3->TTS==0.22.0) (3.0.12)\r\n",
      "Requirement already satisfied: spacy-loggers<2.0.0,>=1.0.0 in /opt/conda/lib/python3.10/site-packages (from spacy>=3->spacy[ja]>=3->TTS==0.22.0) (1.0.5)\r\n",
      "Requirement already satisfied: murmurhash<1.1.0,>=0.28.0 in /opt/conda/lib/python3.10/site-packages (from spacy>=3->spacy[ja]>=3->TTS==0.22.0) (1.0.10)\r\n",
      "Requirement already satisfied: cymem<2.1.0,>=2.0.2 in /opt/conda/lib/python3.10/site-packages (from spacy>=3->spacy[ja]>=3->TTS==0.22.0) (2.0.8)\r\n",
      "Requirement already satisfied: preshed<3.1.0,>=3.0.2 in /opt/conda/lib/python3.10/site-packages (from spacy>=3->spacy[ja]>=3->TTS==0.22.0) (3.0.9)\r\n",
      "Requirement already satisfied: thinc<8.3.0,>=8.2.2 in /opt/conda/lib/python3.10/site-packages (from spacy>=3->spacy[ja]>=3->TTS==0.22.0) (8.2.5)\r\n",
      "Requirement already satisfied: wasabi<1.2.0,>=0.9.1 in /opt/conda/lib/python3.10/site-packages (from spacy>=3->spacy[ja]>=3->TTS==0.22.0) (1.1.2)\r\n",
      "Requirement already satisfied: srsly<3.0.0,>=2.4.3 in /opt/conda/lib/python3.10/site-packages (from spacy>=3->spacy[ja]>=3->TTS==0.22.0) (2.4.8)\r\n",
      "Requirement already satisfied: catalogue<2.1.0,>=2.0.6 in /opt/conda/lib/python3.10/site-packages (from spacy>=3->spacy[ja]>=3->TTS==0.22.0) (2.0.10)\r\n",
      "Requirement already satisfied: weasel<0.5.0,>=0.1.0 in /opt/conda/lib/python3.10/site-packages (from spacy>=3->spacy[ja]>=3->TTS==0.22.0) (0.4.1)\r\n",
      "Requirement already satisfied: typer<1.0.0,>=0.3.0 in /opt/conda/lib/python3.10/site-packages (from spacy>=3->spacy[ja]>=3->TTS==0.22.0) (0.12.3)\r\n",
      "Requirement already satisfied: requests<3.0.0,>=2.13.0 in /opt/conda/lib/python3.10/site-packages (from spacy>=3->spacy[ja]>=3->TTS==0.22.0) (2.32.3)\r\n",
      "Requirement already satisfied: pydantic!=1.8,!=1.8.1,<3.0.0,>=1.7.4 in /opt/conda/lib/python3.10/site-packages (from spacy>=3->spacy[ja]>=3->TTS==0.22.0) (2.8.2)\r\n",
      "Requirement already satisfied: setuptools in /opt/conda/lib/python3.10/site-packages (from spacy>=3->spacy[ja]>=3->TTS==0.22.0) (70.0.0)\r\n",
      "Requirement already satisfied: langcodes<4.0.0,>=3.2.0 in /opt/conda/lib/python3.10/site-packages (from spacy>=3->spacy[ja]>=3->TTS==0.22.0) (3.4.0)\r\n",
      "Collecting sudachipy!=0.6.1,>=0.5.2 (from spacy[ja]>=3->TTS==0.22.0)\r\n",
      "  Downloading SudachiPy-0.6.8-cp310-cp310-manylinux_2_17_x86_64.manylinux2014_x86_64.whl.metadata (12 kB)\r\n",
      "Collecting sudachidict-core>=20211220 (from spacy[ja]>=3->TTS==0.22.0)\r\n",
      "  Downloading SudachiDict_core-20240716-py3-none-any.whl.metadata (2.5 kB)\r\n",
      "Requirement already satisfied: filelock in /opt/conda/lib/python3.10/site-packages (from torch>=2.1->TTS==0.22.0) (3.15.1)\r\n",
      "Requirement already satisfied: sympy in /opt/conda/lib/python3.10/site-packages (from torch>=2.1->TTS==0.22.0) (1.13.2)\r\n",
      "Requirement already satisfied: psutil in /opt/conda/lib/python3.10/site-packages (from trainer>=0.0.36->TTS==0.22.0) (5.9.3)\r\n",
      "Requirement already satisfied: tensorboard in /opt/conda/lib/python3.10/site-packages (from trainer>=0.0.36->TTS==0.22.0) (2.16.2)\r\n",
      "Requirement already satisfied: huggingface-hub<1.0,>=0.23.2 in /opt/conda/lib/python3.10/site-packages (from transformers>=4.33.0->TTS==0.22.0) (0.24.6)\r\n",
      "Requirement already satisfied: regex!=2019.12.17 in /opt/conda/lib/python3.10/site-packages (from transformers>=4.33.0->TTS==0.22.0) (2024.5.15)\r\n",
      "Requirement already satisfied: safetensors>=0.4.1 in /opt/conda/lib/python3.10/site-packages (from transformers>=4.33.0->TTS==0.22.0) (0.4.4)\r\n",
      "Requirement already satisfied: tokenizers<0.20,>=0.19 in /opt/conda/lib/python3.10/site-packages (from transformers>=4.33.0->TTS==0.22.0) (0.19.1)\r\n",
      "Requirement already satisfied: pynndescent>=0.5 in /opt/conda/lib/python3.10/site-packages (from umap-learn>=0.5.1->TTS==0.22.0) (0.5.13)\r\n",
      "Requirement already satisfied: six in /opt/conda/lib/python3.10/site-packages (from nltk->TTS==0.22.0) (1.16.0)\r\n",
      "Requirement already satisfied: pycparser in /opt/conda/lib/python3.10/site-packages (from cffi>=1.0->soundfile>=0.12.0->TTS==0.22.0) (2.22)\r\n",
      "Collecting tzlocal (from dateparser~=1.1.0->gruut==2.2.3->gruut[de,es,fr]==2.2.3->TTS==0.22.0)\r\n",
      "  Downloading tzlocal-5.2-py3-none-any.whl.metadata (7.8 kB)\r\n",
      "Requirement already satisfied: MarkupSafe>=2.0 in /opt/conda/lib/python3.10/site-packages (from Jinja2>=3.1.2->flask>=2.0.1->TTS==0.22.0) (2.1.5)\r\n",
      "Requirement already satisfied: language-data>=1.2 in /opt/conda/lib/python3.10/site-packages (from langcodes<4.0.0,>=3.2.0->spacy>=3->spacy[ja]>=3->TTS==0.22.0) (1.2.0)\r\n",
      "Requirement already satisfied: platformdirs>=2.5.0 in /opt/conda/lib/python3.10/site-packages (from pooch>=1.0->librosa>=0.10.0->TTS==0.22.0) (3.11.0)\r\n",
      "Requirement already satisfied: annotated-types>=0.4.0 in /opt/conda/lib/python3.10/site-packages (from pydantic!=1.8,!=1.8.1,<3.0.0,>=1.7.4->spacy>=3->spacy[ja]>=3->TTS==0.22.0) (0.7.0)\r\n",
      "Requirement already satisfied: pydantic-core==2.20.1 in /opt/conda/lib/python3.10/site-packages (from pydantic!=1.8,!=1.8.1,<3.0.0,>=1.7.4->spacy>=3->spacy[ja]>=3->TTS==0.22.0) (2.20.1)\r\n",
      "Requirement already satisfied: charset-normalizer<4,>=2 in /opt/conda/lib/python3.10/site-packages (from requests<3.0.0,>=2.13.0->spacy>=3->spacy[ja]>=3->TTS==0.22.0) (3.3.2)\r\n",
      "Requirement already satisfied: idna<4,>=2.5 in /opt/conda/lib/python3.10/site-packages (from requests<3.0.0,>=2.13.0->spacy>=3->spacy[ja]>=3->TTS==0.22.0) (3.7)\r\n",
      "Requirement already satisfied: urllib3<3,>=1.21.1 in /opt/conda/lib/python3.10/site-packages (from requests<3.0.0,>=2.13.0->spacy>=3->spacy[ja]>=3->TTS==0.22.0) (1.26.18)\r\n",
      "Requirement already satisfied: certifi>=2017.4.17 in /opt/conda/lib/python3.10/site-packages (from requests<3.0.0,>=2.13.0->spacy>=3->spacy[ja]>=3->TTS==0.22.0) (2024.7.4)\r\n",
      "Requirement already satisfied: blis<0.8.0,>=0.7.8 in /opt/conda/lib/python3.10/site-packages (from thinc<8.3.0,>=8.2.2->spacy>=3->spacy[ja]>=3->TTS==0.22.0) (0.7.10)\r\n",
      "Requirement already satisfied: confection<1.0.0,>=0.0.1 in /opt/conda/lib/python3.10/site-packages (from thinc<8.3.0,>=8.2.2->spacy>=3->spacy[ja]>=3->TTS==0.22.0) (0.1.4)\r\n",
      "Requirement already satisfied: shellingham>=1.3.0 in /opt/conda/lib/python3.10/site-packages (from typer<1.0.0,>=0.3.0->spacy>=3->spacy[ja]>=3->TTS==0.22.0) (1.5.4)\r\n",
      "Requirement already satisfied: rich>=10.11.0 in /opt/conda/lib/python3.10/site-packages (from typer<1.0.0,>=0.3.0->spacy>=3->spacy[ja]>=3->TTS==0.22.0) (13.7.1)\r\n",
      "Requirement already satisfied: cloudpathlib<1.0.0,>=0.7.0 in /opt/conda/lib/python3.10/site-packages (from weasel<0.5.0,>=0.1.0->spacy>=3->spacy[ja]>=3->TTS==0.22.0) (0.18.1)\r\n",
      "Requirement already satisfied: smart-open<8.0.0,>=5.2.1 in /opt/conda/lib/python3.10/site-packages (from weasel<0.5.0,>=0.1.0->spacy>=3->spacy[ja]>=3->TTS==0.22.0) (7.0.4)\r\n",
      "Requirement already satisfied: mpmath<1.4,>=1.1.0 in /opt/conda/lib/python3.10/site-packages (from sympy->torch>=2.1->TTS==0.22.0) (1.3.0)\r\n",
      "Requirement already satisfied: absl-py>=0.4 in /opt/conda/lib/python3.10/site-packages (from tensorboard->trainer>=0.0.36->TTS==0.22.0) (1.4.0)\r\n",
      "Requirement already satisfied: grpcio>=1.48.2 in /opt/conda/lib/python3.10/site-packages (from tensorboard->trainer>=0.0.36->TTS==0.22.0) (1.62.2)\r\n",
      "Requirement already satisfied: markdown>=2.6.8 in /opt/conda/lib/python3.10/site-packages (from tensorboard->trainer>=0.0.36->TTS==0.22.0) (3.6)\r\n",
      "Requirement already satisfied: protobuf!=4.24.0,>=3.19.6 in /opt/conda/lib/python3.10/site-packages (from tensorboard->trainer>=0.0.36->TTS==0.22.0) (3.20.3)\r\n",
      "Requirement already satisfied: tensorboard-data-server<0.8.0,>=0.7.0 in /opt/conda/lib/python3.10/site-packages (from tensorboard->trainer>=0.0.36->TTS==0.22.0) (0.7.2)\r\n",
      "Requirement already satisfied: marisa-trie>=0.7.7 in /opt/conda/lib/python3.10/site-packages (from language-data>=1.2->langcodes<4.0.0,>=3.2.0->spacy>=3->spacy[ja]>=3->TTS==0.22.0) (1.1.0)\r\n",
      "Requirement already satisfied: markdown-it-py>=2.2.0 in /opt/conda/lib/python3.10/site-packages (from rich>=10.11.0->typer<1.0.0,>=0.3.0->spacy>=3->spacy[ja]>=3->TTS==0.22.0) (3.0.0)\r\n",
      "Requirement already satisfied: pygments<3.0.0,>=2.13.0 in /opt/conda/lib/python3.10/site-packages (from rich>=10.11.0->typer<1.0.0,>=0.3.0->spacy>=3->spacy[ja]>=3->TTS==0.22.0) (2.18.0)\r\n",
      "Requirement already satisfied: wrapt in /opt/conda/lib/python3.10/site-packages (from smart-open<8.0.0,>=5.2.1->weasel<0.5.0,>=0.1.0->spacy>=3->spacy[ja]>=3->TTS==0.22.0) (1.16.0)\r\n",
      "Requirement already satisfied: mdurl~=0.1 in /opt/conda/lib/python3.10/site-packages (from markdown-it-py>=2.2.0->rich>=10.11.0->typer<1.0.0,>=0.3.0->spacy>=3->spacy[ja]>=3->TTS==0.22.0) (0.1.2)\r\n",
      "Downloading mutagen-1.47.0-py3-none-any.whl (194 kB)\r\n",
      "\u001b[2K   \u001b[90m━━━━━━━━━━━━━━━━━━━━━━━━━━━━━━━━━━━━━━━━\u001b[0m \u001b[32m194.4/194.4 kB\u001b[0m \u001b[31m2.5 MB/s\u001b[0m eta \u001b[36m0:00:00\u001b[0m\r\n",
      "\u001b[?25hDownloading numpy-1.22.0-cp310-cp310-manylinux_2_17_x86_64.manylinux2014_x86_64.whl (16.8 MB)\r\n",
      "\u001b[2K   \u001b[90m━━━━━━━━━━━━━━━━━━━━━━━━━━━━━━━━━━━━━━━━\u001b[0m \u001b[32m16.8/16.8 MB\u001b[0m \u001b[31m35.5 MB/s\u001b[0m eta \u001b[36m0:00:00\u001b[0m\r\n",
      "\u001b[?25hDownloading anyascii-0.3.2-py3-none-any.whl (289 kB)\r\n",
      "\u001b[2K   \u001b[90m━━━━━━━━━━━━━━━━━━━━━━━━━━━━━━━━━━━━━━━━\u001b[0m \u001b[32m289.9/289.9 kB\u001b[0m \u001b[31m15.1 MB/s\u001b[0m eta \u001b[36m0:00:00\u001b[0m\r\n",
      "\u001b[?25hDownloading coqpit-0.0.17-py3-none-any.whl (13 kB)\r\n",
      "Downloading einops-0.8.0-py3-none-any.whl (43 kB)\r\n",
      "\u001b[2K   \u001b[90m━━━━━━━━━━━━━━━━━━━━━━━━━━━━━━━━━━━━━━━━\u001b[0m \u001b[32m43.2/43.2 kB\u001b[0m \u001b[31m2.1 MB/s\u001b[0m eta \u001b[36m0:00:00\u001b[0m\r\n",
      "\u001b[?25hDownloading g2pkk-0.1.2-py3-none-any.whl (25 kB)\r\n",
      "Downloading inflect-7.3.1-py3-none-any.whl (34 kB)\r\n",
      "Downloading librosa-0.10.0-py3-none-any.whl (252 kB)\r\n",
      "\u001b[2K   \u001b[90m━━━━━━━━━━━━━━━━━━━━━━━━━━━━━━━━━━━━━━━━\u001b[0m \u001b[32m252.9/252.9 kB\u001b[0m \u001b[31m15.9 MB/s\u001b[0m eta \u001b[36m0:00:00\u001b[0m\r\n",
      "\u001b[?25hDownloading num2words-0.5.13-py3-none-any.whl (143 kB)\r\n",
      "\u001b[2K   \u001b[90m━━━━━━━━━━━━━━━━━━━━━━━━━━━━━━━━━━━━━━━━\u001b[0m \u001b[32m143.3/143.3 kB\u001b[0m \u001b[31m8.1 MB/s\u001b[0m eta \u001b[36m0:00:00\u001b[0m\r\n",
      "\u001b[?25hUsing cached packaging-24.1-py3-none-any.whl (53 kB)\r\n",
      "Downloading pandas-1.5.3-cp310-cp310-manylinux_2_17_x86_64.manylinux2014_x86_64.whl (12.1 MB)\r\n",
      "\u001b[2K   \u001b[90m━━━━━━━━━━━━━━━━━━━━━━━━━━━━━━━━━━━━━━━━\u001b[0m \u001b[32m12.1/12.1 MB\u001b[0m \u001b[31m64.5 MB/s\u001b[0m eta \u001b[36m0:00:00\u001b[0m\r\n",
      "\u001b[?25hDownloading pysbd-0.3.4-py3-none-any.whl (71 kB)\r\n",
      "\u001b[2K   \u001b[90m━━━━━━━━━━━━━━━━━━━━━━━━━━━━━━━━━━━━━━━━\u001b[0m \u001b[32m71.1/71.1 kB\u001b[0m \u001b[31m4.0 MB/s\u001b[0m eta \u001b[36m0:00:00\u001b[0m\r\n",
      "\u001b[?25hDownloading scikit_learn-1.5.1-cp310-cp310-manylinux_2_17_x86_64.manylinux2014_x86_64.whl (13.4 MB)\r\n",
      "\u001b[2K   \u001b[90m━━━━━━━━━━━━━━━━━━━━━━━━━━━━━━━━━━━━━━━━\u001b[0m \u001b[32m13.4/13.4 MB\u001b[0m \u001b[31m59.4 MB/s\u001b[0m eta \u001b[36m0:00:00\u001b[0m\r\n",
      "\u001b[?25hDownloading scipy-1.11.4-cp310-cp310-manylinux_2_17_x86_64.manylinux2014_x86_64.whl (36.4 MB)\r\n",
      "\u001b[2K   \u001b[90m━━━━━━━━━━━━━━━━━━━━━━━━━━━━━━━━━━━━━━━━\u001b[0m \u001b[32m36.4/36.4 MB\u001b[0m \u001b[31m40.1 MB/s\u001b[0m eta \u001b[36m0:00:00\u001b[0m\r\n",
      "\u001b[?25hDownloading trainer-0.0.36-py3-none-any.whl (51 kB)\r\n",
      "\u001b[2K   \u001b[90m━━━━━━━━━━━━━━━━━━━━━━━━━━━━━━━━━━━━━━━━\u001b[0m \u001b[32m51.2/51.2 kB\u001b[0m \u001b[31m2.7 MB/s\u001b[0m eta \u001b[36m0:00:00\u001b[0m\r\n",
      "\u001b[?25hDownloading Unidecode-1.3.8-py3-none-any.whl (235 kB)\r\n",
      "\u001b[2K   \u001b[90m━━━━━━━━━━━━━━━━━━━━━━━━━━━━━━━━━━━━━━━━\u001b[0m \u001b[32m235.5/235.5 kB\u001b[0m \u001b[31m12.6 MB/s\u001b[0m eta \u001b[36m0:00:00\u001b[0m\r\n",
      "\u001b[?25hDownloading bangla-0.0.2-py2.py3-none-any.whl (6.2 kB)\r\n",
      "Downloading bnunicodenormalizer-0.1.7-py3-none-any.whl (23 kB)\r\n",
      "Downloading hangul_romanize-0.1.0-py3-none-any.whl (4.6 kB)\r\n",
      "Downloading jamo-0.4.1-py3-none-any.whl (9.5 kB)\r\n",
      "Downloading pypinyin-0.52.0-py2.py3-none-any.whl (833 kB)\r\n",
      "\u001b[2K   \u001b[90m━━━━━━━━━━━━━━━━━━━━━━━━━━━━━━━━━━━━━━━━\u001b[0m \u001b[32m833.7/833.7 kB\u001b[0m \u001b[31m37.1 MB/s\u001b[0m eta \u001b[36m0:00:00\u001b[0m\r\n",
      "\u001b[?25hDownloading dateparser-1.1.8-py2.py3-none-any.whl (293 kB)\r\n",
      "\u001b[2K   \u001b[90m━━━━━━━━━━━━━━━━━━━━━━━━━━━━━━━━━━━━━━━━\u001b[0m \u001b[32m293.8/293.8 kB\u001b[0m \u001b[31m15.3 MB/s\u001b[0m eta \u001b[36m0:00:00\u001b[0m\r\n",
      "\u001b[?25hDownloading jsonlines-1.2.0-py2.py3-none-any.whl (7.6 kB)\r\n",
      "Downloading networkx-2.8.8-py3-none-any.whl (2.0 MB)\r\n",
      "\u001b[2K   \u001b[90m━━━━━━━━━━━━━━━━━━━━━━━━━━━━━━━━━━━━━━━━\u001b[0m \u001b[32m2.0/2.0 MB\u001b[0m \u001b[31m56.0 MB/s\u001b[0m eta \u001b[36m0:00:00\u001b[0m\r\n",
      "\u001b[?25hDownloading python_crfsuite-0.9.10-cp310-cp310-manylinux_2_17_x86_64.manylinux2014_x86_64.whl (1.1 MB)\r\n",
      "\u001b[2K   \u001b[90m━━━━━━━━━━━━━━━━━━━━━━━━━━━━━━━━━━━━━━━━\u001b[0m \u001b[32m1.1/1.1 MB\u001b[0m \u001b[31m45.3 MB/s\u001b[0m eta \u001b[36m0:00:00\u001b[0m\r\n",
      "\u001b[?25hDownloading SudachiDict_core-20240716-py3-none-any.whl (72.0 MB)\r\n",
      "\u001b[2K   \u001b[90m━━━━━━━━━━━━━━━━━━━━━━━━━━━━━━━━━━━━━━━━\u001b[0m \u001b[32m72.0/72.0 MB\u001b[0m \u001b[31m20.2 MB/s\u001b[0m eta \u001b[36m0:00:00\u001b[0m\r\n",
      "\u001b[?25hDownloading SudachiPy-0.6.8-cp310-cp310-manylinux_2_17_x86_64.manylinux2014_x86_64.whl (2.6 MB)\r\n",
      "\u001b[2K   \u001b[90m━━━━━━━━━━━━━━━━━━━━━━━━━━━━━━━━━━━━━━━━\u001b[0m \u001b[32m2.6/2.6 MB\u001b[0m \u001b[31m48.0 MB/s\u001b[0m eta \u001b[36m0:00:00\u001b[0m\r\n",
      "\u001b[?25hDownloading tzlocal-5.2-py3-none-any.whl (17 kB)\r\n",
      "Building wheels for collected packages: TTS, gruut, encodec, bnnumerizer, gruut-ipa, gruut_lang_de, gruut_lang_en, gruut_lang_es, gruut_lang_fr\r\n",
      "  Building editable for TTS (pyproject.toml) ... \u001b[?25l-\b \b\\\b \b|\b \b/\b \b-\b \bdone\r\n",
      "\u001b[?25h  Created wheel for TTS: filename=TTS-0.22.0-0.editable-cp310-cp310-linux_x86_64.whl size=15046 sha256=22811d4d54bcf5fc82c6f0e2c8537de6c5fdab6fac57bb2b6289ce19d1a07ab4\r\n",
      "  Stored in directory: /tmp/pip-ephem-wheel-cache-qm59_i4s/wheels/65/f2/69/548024c478dfa570408563cc387d2a28fbf8db8e2ca1402b2f\r\n",
      "  Building wheel for gruut (setup.py) ... \u001b[?25l-\b \b\\\b \bdone\r\n",
      "\u001b[?25h  Created wheel for gruut: filename=gruut-2.2.3-py3-none-any.whl size=75791 sha256=76052bb23bfd4be9c751d66580f550dbc798b30a20855d480d41b29671da64dd\r\n",
      "  Stored in directory: /root/.cache/pip/wheels/fc/57/a8/f9de532daf5214f53644f20f3a9e6f69269453c87df9c0a817\r\n",
      "  Building wheel for encodec (setup.py) ... \u001b[?25l-\b \bdone\r\n",
      "\u001b[?25h  Created wheel for encodec: filename=encodec-0.1.1-py3-none-any.whl size=45762 sha256=08230cfdba69a4176d8fa8f4a3c5675ea5e747f53c466d61b18225fdd006cf66\r\n",
      "  Stored in directory: /root/.cache/pip/wheels/fc/36/cb/81af8b985a5f5e0815312d5e52b41263237af07b977e6bcbf3\r\n",
      "  Building wheel for bnnumerizer (setup.py) ... \u001b[?25l-\b \b\\\b \bdone\r\n",
      "\u001b[?25h  Created wheel for bnnumerizer: filename=bnnumerizer-0.0.2-py3-none-any.whl size=5261 sha256=0d868f6e89e2439be84c0eab92d357460063a88d0f491335d62728d031509913\r\n",
      "  Stored in directory: /root/.cache/pip/wheels/59/6b/e8/223172e7d5c9f72df3ea1a0d9258f3a8ab5b28e827728edef5\r\n",
      "  Building wheel for gruut-ipa (setup.py) ... \u001b[?25l-\b \b\\\b \bdone\r\n",
      "\u001b[?25h  Created wheel for gruut-ipa: filename=gruut_ipa-0.13.0-py3-none-any.whl size=104870 sha256=ac168c2035e2661d8a6b4db5a06c466664d2f8db7148b845d845f37478b1ba24\r\n",
      "  Stored in directory: /root/.cache/pip/wheels/7b/18/49/e4f500ecdf0babe757953f844e4d7cd1ea81c5503c09bfe984\r\n",
      "  Building wheel for gruut_lang_de (setup.py) ... \u001b[?25l-\b \b\\\b \bdone\r\n",
      "\u001b[?25h  Created wheel for gruut_lang_de: filename=gruut_lang_de-2.0.1-py3-none-any.whl size=18498315 sha256=870d8e3932d1b2c6946f4ed2714900812284a94a327d0b64709a14646ccae966\r\n",
      "  Stored in directory: /root/.cache/pip/wheels/83/80/5f/775b357ae61d7cb68793327c7470d848715cbc60bb373af8dd\r\n",
      "  Building wheel for gruut_lang_en (setup.py) ... \u001b[?25l-\b \b\\\b \bdone\r\n",
      "\u001b[?25h  Created wheel for gruut_lang_en: filename=gruut_lang_en-2.0.1-py3-none-any.whl size=15326857 sha256=d096f8b427f52c6789178733faa04243eecb22c4690efb03fa22ff9e3c03986e\r\n",
      "  Stored in directory: /root/.cache/pip/wheels/64/8d/b7/d484d224facd899ed188e00374f25dd3f19d1a3f53da6517bd\r\n",
      "  Building wheel for gruut_lang_es (setup.py) ... \u001b[?25l-\b \b\\\b \bdone\r\n",
      "\u001b[?25h  Created wheel for gruut_lang_es: filename=gruut_lang_es-2.0.1-py3-none-any.whl size=32173928 sha256=22f148190e25dea790d75ab8228bf64a520c7e5765c8cec92dffa91a151e2348\r\n",
      "  Stored in directory: /root/.cache/pip/wheels/ab/bd/96/5ddde14e8e6932a96f12c5ab5de62b619d39e2507d7daf5188\r\n",
      "  Building wheel for gruut_lang_fr (setup.py) ... \u001b[?25l-\b \b\\\b \bdone\r\n",
      "\u001b[?25h  Created wheel for gruut_lang_fr: filename=gruut_lang_fr-2.0.2-py3-none-any.whl size=10968768 sha256=4254e5598a1ca4903d50283b0fcf72f0d7758df116a426b73f4e4f46cb09724e\r\n",
      "  Stored in directory: /root/.cache/pip/wheels/db/21/be/d0436e3f1cf9bf38b9bb9b4a476399c77a1ab19f7172b45e19\r\n",
      "Successfully built TTS gruut encodec bnnumerizer gruut-ipa gruut_lang_de gruut_lang_en gruut_lang_es gruut_lang_fr\r\n",
      "Installing collected packages: sudachipy, python-crfsuite, jamo, hangul-romanize, gruut_lang_fr, gruut_lang_es, gruut_lang_en, gruut_lang_de, bnunicodenormalizer, bnnumerizer, bangla, unidecode, tzlocal, sudachidict-core, pysbd, pypinyin, packaging, numpy, num2words, networkx, mutagen, jsonlines, gruut-ipa, einops, coqpit, anyascii, scipy, pandas, inflect, g2pkk, dateparser, trainer, scikit-learn, gruut, librosa, encodec, TTS\r\n",
      "  Attempting uninstall: packaging\r\n",
      "    Found existing installation: packaging 21.3\r\n",
      "    Uninstalling packaging-21.3:\r\n",
      "      Successfully uninstalled packaging-21.3\r\n",
      "  Attempting uninstall: numpy\r\n",
      "    Found existing installation: numpy 1.26.4\r\n",
      "    Uninstalling numpy-1.26.4:\r\n",
      "      Successfully uninstalled numpy-1.26.4\r\n",
      "  Attempting uninstall: networkx\r\n",
      "    Found existing installation: networkx 3.3\r\n",
      "    Uninstalling networkx-3.3:\r\n",
      "      Successfully uninstalled networkx-3.3\r\n",
      "  Attempting uninstall: scipy\r\n",
      "    Found existing installation: scipy 1.14.0\r\n",
      "    Uninstalling scipy-1.14.0:\r\n",
      "      Successfully uninstalled scipy-1.14.0\r\n",
      "  Attempting uninstall: pandas\r\n",
      "    Found existing installation: pandas 2.2.2\r\n",
      "    Uninstalling pandas-2.2.2:\r\n",
      "      Successfully uninstalled pandas-2.2.2\r\n",
      "  Attempting uninstall: scikit-learn\r\n",
      "    Found existing installation: scikit-learn 1.2.2\r\n",
      "    Uninstalling scikit-learn-1.2.2:\r\n",
      "      Successfully uninstalled scikit-learn-1.2.2\r\n",
      "  Attempting uninstall: librosa\r\n",
      "    Found existing installation: librosa 0.10.2.post1\r\n",
      "    Uninstalling librosa-0.10.2.post1:\r\n",
      "      Successfully uninstalled librosa-0.10.2.post1\r\n",
      "\u001b[31mERROR: pip's dependency resolver does not currently take into account all the packages that are installed. This behaviour is the source of the following dependency conflicts.\r\n",
      "cudf 24.8.2 requires cubinlinker, which is not installed.\r\n",
      "cudf 24.8.2 requires cupy-cuda11x>=12.0.0, which is not installed.\r\n",
      "cudf 24.8.2 requires ptxcompiler, which is not installed.\r\n",
      "cuml 24.8.0 requires cupy-cuda11x>=12.0.0, which is not installed.\r\n",
      "dask-cudf 24.8.2 requires cupy-cuda11x>=12.0.0, which is not installed.\r\n",
      "ucxx 0.39.1 requires libucx>=1.15.0, which is not installed.\r\n",
      "albucore 0.0.13 requires numpy<2,>=1.24.4, but you have numpy 1.22.0 which is incompatible.\r\n",
      "albumentations 1.4.14 requires numpy>=1.24.4, but you have numpy 1.22.0 which is incompatible.\r\n",
      "apache-beam 2.46.0 requires cloudpickle~=2.2.1, but you have cloudpickle 3.0.0 which is incompatible.\r\n",
      "apache-beam 2.46.0 requires dill<0.3.2,>=0.3.1.1, but you have dill 0.3.8 which is incompatible.\r\n",
      "apache-beam 2.46.0 requires pyarrow<10.0.0,>=3.0.0, but you have pyarrow 16.1.0 which is incompatible.\r\n",
      "arviz 0.19.0 requires numpy>=1.23.0, but you have numpy 1.22.0 which is incompatible.\r\n",
      "astropy 6.1.2 requires numpy>=1.23, but you have numpy 1.22.0 which is incompatible.\r\n",
      "bayesian-optimization 1.5.1 requires numpy>=1.25, but you have numpy 1.22.0 which is incompatible.\r\n",
      "beatrix-jupyterlab 2024.66.154055 requires jupyterlab~=3.6.0, but you have jupyterlab 4.2.4 which is incompatible.\r\n",
      "bigframes 0.22.0 requires google-cloud-bigquery[bqstorage,pandas]>=3.10.0, but you have google-cloud-bigquery 2.34.4 which is incompatible.\r\n",
      "bigframes 0.22.0 requires google-cloud-storage>=2.0.0, but you have google-cloud-storage 1.44.0 which is incompatible.\r\n",
      "chex 0.1.86 requires numpy>=1.24.1, but you have numpy 1.22.0 which is incompatible.\r\n",
      "cudf 24.8.2 requires cuda-python<12.0a0,>=11.7.1, but you have cuda-python 12.6.0 which is incompatible.\r\n",
      "cudf 24.8.2 requires numpy<2.0a0,>=1.23, but you have numpy 1.22.0 which is incompatible.\r\n",
      "cudf 24.8.2 requires pandas<2.2.3dev0,>=2.0, but you have pandas 1.5.3 which is incompatible.\r\n",
      "dask-cuda 24.8.2 requires numpy<2.0a0,>=1.23, but you have numpy 1.22.0 which is incompatible.\r\n",
      "dask-cudf 24.8.2 requires numpy<2.0a0,>=1.23, but you have numpy 1.22.0 which is incompatible.\r\n",
      "dask-cudf 24.8.2 requires pandas<2.2.3dev0,>=2.0, but you have pandas 1.5.3 which is incompatible.\r\n",
      "dask-expr 1.1.11 requires pandas>=2, but you have pandas 1.5.3 which is incompatible.\r\n",
      "dataproc-jupyter-plugin 0.1.79 requires pydantic~=1.10.0, but you have pydantic 2.8.2 which is incompatible.\r\n",
      "dipy 1.9.0 requires numpy>=1.22.4, but you have numpy 1.22.0 which is incompatible.\r\n",
      "distributed 2024.7.1 requires dask==2024.7.1, but you have dask 2024.8.1 which is incompatible.\r\n",
      "featuretools 1.31.0 requires numpy>=1.25.0, but you have numpy 1.22.0 which is incompatible.\r\n",
      "featuretools 1.31.0 requires pandas>=2.0.0, but you have pandas 1.5.3 which is incompatible.\r\n",
      "google-cloud-bigquery 2.34.4 requires packaging<22.0dev,>=14.3, but you have packaging 24.1 which is incompatible.\r\n",
      "ibis-framework 7.1.0 requires pyarrow<15,>=2, but you have pyarrow 16.1.0 which is incompatible.\r\n",
      "inequality 1.0.1 requires numpy>=1.23, but you have numpy 1.22.0 which is incompatible.\r\n",
      "jupyterlab 4.2.4 requires jupyter-lsp>=2.0.0, but you have jupyter-lsp 1.5.1 which is incompatible.\r\n",
      "jupyterlab-lsp 5.1.0 requires jupyter-lsp>=2.0.0, but you have jupyter-lsp 1.5.1 which is incompatible.\r\n",
      "libpysal 4.9.2 requires shapely>=2.0.1, but you have shapely 1.8.5.post1 which is incompatible.\r\n",
      "mapclassify 2.8.0 requires numpy>=1.23, but you have numpy 1.22.0 which is incompatible.\r\n",
      "mizani 0.11.4 requires numpy>=1.23.0, but you have numpy 1.22.0 which is incompatible.\r\n",
      "mizani 0.11.4 requires pandas>=2.1.0, but you have pandas 1.5.3 which is incompatible.\r\n",
      "mne 1.8.0 requires numpy<3,>=1.23, but you have numpy 1.22.0 which is incompatible.\r\n",
      "momepy 0.7.2 requires shapely>=2, but you have shapely 1.8.5.post1 which is incompatible.\r\n",
      "numexpr 2.10.1 requires numpy>=1.23.0, but you have numpy 1.22.0 which is incompatible.\r\n",
      "osmnx 1.9.4 requires shapely<2.1,>=2.0, but you have shapely 1.8.5.post1 which is incompatible.\r\n",
      "plotnine 0.13.6 requires numpy>=1.23.0, but you have numpy 1.22.0 which is incompatible.\r\n",
      "plotnine 0.13.6 requires pandas<3.0.0,>=2.1.0, but you have pandas 1.5.3 which is incompatible.\r\n",
      "pointpats 2.5.0 requires numpy>=1.24, but you have numpy 1.22.0 which is incompatible.\r\n",
      "pointpats 2.5.0 requires shapely>=2, but you have shapely 1.8.5.post1 which is incompatible.\r\n",
      "pyldavis 3.4.1 requires numpy>=1.24.2, but you have numpy 1.22.0 which is incompatible.\r\n",
      "pyldavis 3.4.1 requires pandas>=2.0.0, but you have pandas 1.5.3 which is incompatible.\r\n",
      "pylibraft 24.8.1 requires numpy<2.0a0,>=1.23, but you have numpy 1.22.0 which is incompatible.\r\n",
      "pywavelets 1.6.0 requires numpy<3,>=1.22.4, but you have numpy 1.22.0 which is incompatible.\r\n",
      "raft-dask 24.8.1 requires numpy<2.0a0,>=1.23, but you have numpy 1.22.0 which is incompatible.\r\n",
      "rapids-dask-dependency 24.8.0a0 requires dask==2024.7.1, but you have dask 2024.8.1 which is incompatible.\r\n",
      "rmm 24.8.2 requires cuda-python<12.0a0,>=11.7.1, but you have cuda-python 12.6.0 which is incompatible.\r\n",
      "rmm 24.8.2 requires numpy<2.0a0,>=1.23, but you have numpy 1.22.0 which is incompatible.\r\n",
      "scikit-image 0.23.2 requires numpy>=1.23, but you have numpy 1.22.0 which is incompatible.\r\n",
      "spaghetti 1.7.6 requires shapely>=2.0.1, but you have shapely 1.8.5.post1 which is incompatible.\r\n",
      "spglm 1.1.0 requires numpy>=1.23, but you have numpy 1.22.0 which is incompatible.\r\n",
      "spopt 0.6.1 requires shapely>=2.0.1, but you have shapely 1.8.5.post1 which is incompatible.\r\n",
      "spreg 1.6.0 requires numpy>=1.23, but you have numpy 1.22.0 which is incompatible.\r\n",
      "statsmodels 0.14.2 requires numpy>=1.22.3, but you have numpy 1.22.0 which is incompatible.\r\n",
      "tensorflow 2.16.1 requires numpy<2.0.0,>=1.23.5; python_version <= \"3.11\", but you have numpy 1.22.0 which is incompatible.\r\n",
      "tsfresh 0.20.3 requires scipy>=1.14.0; python_version >= \"3.10\", but you have scipy 1.11.4 which is incompatible.\r\n",
      "ucx-py 0.39.2 requires numpy<2.0a0,>=1.23, but you have numpy 1.22.0 which is incompatible.\r\n",
      "ucxx 0.39.1 requires numpy<2.0a0,>=1.23, but you have numpy 1.22.0 which is incompatible.\r\n",
      "woodwork 0.31.0 requires numpy>=1.25.0, but you have numpy 1.22.0 which is incompatible.\r\n",
      "woodwork 0.31.0 requires pandas>=2.0.0, but you have pandas 1.5.3 which is incompatible.\r\n",
      "xarray 2024.7.0 requires numpy>=1.23, but you have numpy 1.22.0 which is incompatible.\r\n",
      "xarray 2024.7.0 requires pandas>=2.0, but you have pandas 1.5.3 which is incompatible.\u001b[0m\u001b[31m\r\n",
      "\u001b[0mSuccessfully installed TTS-0.22.0 anyascii-0.3.2 bangla-0.0.2 bnnumerizer-0.0.2 bnunicodenormalizer-0.1.7 coqpit-0.0.17 dateparser-1.1.8 einops-0.8.0 encodec-0.1.1 g2pkk-0.1.2 gruut-2.2.3 gruut-ipa-0.13.0 gruut_lang_de-2.0.1 gruut_lang_en-2.0.1 gruut_lang_es-2.0.1 gruut_lang_fr-2.0.2 hangul-romanize-0.1.0 inflect-7.3.1 jamo-0.4.1 jsonlines-1.2.0 librosa-0.10.0 mutagen-1.47.0 networkx-2.8.8 num2words-0.5.13 numpy-1.22.0 packaging-24.1 pandas-1.5.3 pypinyin-0.52.0 pysbd-0.3.4 python-crfsuite-0.9.10 scikit-learn-1.5.1 scipy-1.11.4 sudachidict-core-20240716 sudachipy-0.6.8 trainer-0.0.36 tzlocal-5.2 unidecode-1.3.8\r\n"
     ]
    }
   ],
   "source": [
    "!pip install -e ."
   ]
  },
  {
   "cell_type": "code",
   "execution_count": 11,
   "id": "3ff2c69f",
   "metadata": {
    "execution": {
     "iopub.execute_input": "2024-09-04T09:10:56.233230Z",
     "iopub.status.busy": "2024-09-04T09:10:56.232750Z",
     "iopub.status.idle": "2024-09-04T09:11:13.833505Z",
     "shell.execute_reply": "2024-09-04T09:11:13.832123Z"
    },
    "papermill": {
     "duration": 17.64535,
     "end_time": "2024-09-04T09:11:13.835711",
     "exception": false,
     "start_time": "2024-09-04T09:10:56.190361",
     "status": "completed"
    },
    "tags": []
   },
   "outputs": [
    {
     "name": "stdout",
     "output_type": "stream",
     "text": [
      "<TTS.utils.manage.ModelManager object at 0x7c8b70afa4d0>\n",
      "cuda\n"
     ]
    }
   ],
   "source": [
    "from TTS.api import TTS\n",
    "device = \"cuda\" if torch.cuda.is_available() else \"cpu\"\n",
    "print(TTS().list_models())\n",
    "print(device)"
   ]
  },
  {
   "cell_type": "code",
   "execution_count": 12,
   "id": "9abe01af",
   "metadata": {
    "execution": {
     "iopub.execute_input": "2024-09-04T09:11:13.912303Z",
     "iopub.status.busy": "2024-09-04T09:11:13.911589Z",
     "iopub.status.idle": "2024-09-04T09:11:18.984212Z",
     "shell.execute_reply": "2024-09-04T09:11:18.983180Z"
    },
    "papermill": {
     "duration": 5.113936,
     "end_time": "2024-09-04T09:11:18.986685",
     "exception": false,
     "start_time": "2024-09-04T09:11:13.872749",
     "status": "completed"
    },
    "tags": []
   },
   "outputs": [
    {
     "name": "stdout",
     "output_type": "stream",
     "text": [
      " > Downloading model to /root/.local/share/tts/tts_models--en--ljspeech--tacotron2-DDC\n",
      " > Model's license - apache 2.0\n",
      " > Check https://choosealicense.com/licenses/apache-2.0/ for more info.\n",
      " > Downloading model to /root/.local/share/tts/vocoder_models--en--ljspeech--hifigan_v2\n",
      " > Model's license - apache 2.0\n",
      " > Check https://choosealicense.com/licenses/apache-2.0/ for more info.\n",
      " > Using model: Tacotron2\n",
      " > Setting up Audio Processor...\n",
      " | > sample_rate:22050\n",
      " | > resample:False\n",
      " | > num_mels:80\n",
      " | > log_func:np.log\n",
      " | > min_level_db:-100\n",
      " | > frame_shift_ms:None\n",
      " | > frame_length_ms:None\n",
      " | > ref_level_db:20\n",
      " | > fft_size:1024\n",
      " | > power:1.5\n",
      " | > preemphasis:0.0\n",
      " | > griffin_lim_iters:60\n",
      " | > signal_norm:False\n",
      " | > symmetric_norm:True\n",
      " | > mel_fmin:0\n",
      " | > mel_fmax:8000.0\n",
      " | > pitch_fmin:1.0\n",
      " | > pitch_fmax:640.0\n",
      " | > spec_gain:1.0\n",
      " | > stft_pad_mode:reflect\n",
      " | > max_norm:4.0\n",
      " | > clip_norm:True\n",
      " | > do_trim_silence:True\n",
      " | > trim_db:60\n",
      " | > do_sound_norm:False\n",
      " | > do_amp_to_db_linear:True\n",
      " | > do_amp_to_db_mel:True\n",
      " | > do_rms_norm:False\n",
      " | > db_level:None\n",
      " | > stats_path:None\n",
      " | > base:2.718281828459045\n",
      " | > hop_length:256\n",
      " | > win_length:1024\n",
      " > Model's reduction rate `r` is set to: 1\n",
      " > Vocoder Model: hifigan\n",
      " > Setting up Audio Processor...\n",
      " | > sample_rate:22050\n",
      " | > resample:False\n",
      " | > num_mels:80\n",
      " | > log_func:np.log\n",
      " | > min_level_db:-100\n",
      " | > frame_shift_ms:None\n",
      " | > frame_length_ms:None\n",
      " | > ref_level_db:20\n",
      " | > fft_size:1024\n",
      " | > power:1.5\n",
      " | > preemphasis:0.0\n",
      " | > griffin_lim_iters:60\n",
      " | > signal_norm:False\n",
      " | > symmetric_norm:True\n",
      " | > mel_fmin:0\n",
      " | > mel_fmax:8000.0\n",
      " | > pitch_fmin:1.0\n",
      " | > pitch_fmax:640.0\n",
      " | > spec_gain:1.0\n",
      " | > stft_pad_mode:reflect\n",
      " | > max_norm:4.0\n",
      " | > clip_norm:True\n",
      " | > do_trim_silence:False\n",
      " | > trim_db:60\n",
      " | > do_sound_norm:False\n",
      " | > do_amp_to_db_linear:True\n",
      " | > do_amp_to_db_mel:True\n",
      " | > do_rms_norm:False\n",
      " | > db_level:None\n",
      " | > stats_path:None\n",
      " | > base:2.718281828459045\n",
      " | > hop_length:256\n",
      " | > win_length:1024\n",
      " > Generator Model: hifigan_generator\n",
      " > Discriminator Model: hifigan_discriminator\n",
      "Removing weight norm...\n"
     ]
    }
   ],
   "source": [
    "tts = TTS(model_name=\"tts_models/en/ljspeech/tacotron2-DDC\", progress_bar=False).to(device)"
   ]
  },
  {
   "cell_type": "code",
   "execution_count": 13,
   "id": "bdb87bc6",
   "metadata": {
    "execution": {
     "iopub.execute_input": "2024-09-04T09:11:19.064948Z",
     "iopub.status.busy": "2024-09-04T09:11:19.064507Z",
     "iopub.status.idle": "2024-09-04T09:11:19.071242Z",
     "shell.execute_reply": "2024-09-04T09:11:19.070177Z"
    },
    "papermill": {
     "duration": 0.048511,
     "end_time": "2024-09-04T09:11:19.073327",
     "exception": false,
     "start_time": "2024-09-04T09:11:19.024816",
     "status": "completed"
    },
    "tags": []
   },
   "outputs": [
    {
     "name": "stdout",
     "output_type": "stream",
     "text": [
      "/kaggle/working\n"
     ]
    }
   ],
   "source": [
    "%cd /kaggle/working"
   ]
  },
  {
   "cell_type": "code",
   "execution_count": 14,
   "id": "13d8096b",
   "metadata": {
    "execution": {
     "iopub.execute_input": "2024-09-04T09:11:19.152759Z",
     "iopub.status.busy": "2024-09-04T09:11:19.152316Z",
     "iopub.status.idle": "2024-09-04T09:21:25.547101Z",
     "shell.execute_reply": "2024-09-04T09:21:25.545991Z"
    },
    "papermill": {
     "duration": 606.437047,
     "end_time": "2024-09-04T09:21:25.549513",
     "exception": false,
     "start_time": "2024-09-04T09:11:19.112466",
     "status": "completed"
    },
    "scrolled": true,
    "tags": []
   },
   "outputs": [
    {
     "name": "stderr",
     "output_type": "stream",
     "text": [
      "Processing Sentences:   0%|          | 0/500 [00:00<?, ?it/s]"
     ]
    },
    {
     "name": "stdout",
     "output_type": "stream",
     "text": [
      " > Text splitted to sentences.\n",
      "['Banco do Brasil has headquarters in Brasília.']\n",
      "banco do brasil has headquarters in brasília.\n",
      " [!] Character 'í' not found in the vocabulary. Discarding it.\n",
      " > Processing time: 1.5186972618103027\n",
      " > Real-time factor: 0.40742742143903515\n",
      " > Text splitted to sentences.\n",
      "['Banco do Brasil has CEO John VI of Portugal.']\n"
     ]
    },
    {
     "name": "stderr",
     "output_type": "stream",
     "text": [
      "Processing Sentences:   0%|          | 1/500 [00:01<16:31,  1.99s/it]"
     ]
    },
    {
     "name": "stdout",
     "output_type": "stream",
     "text": [
      " > Processing time: 0.42514514923095703\n",
      " > Real-time factor: 0.10736726384165525\n",
      " > Text splitted to sentences.\n",
      "['Banco do Brasil has origin country Brazil.']\n",
      " > Processing time: 0.4018113613128662\n",
      " > Real-time factor: 0.10950094568109427\n",
      " > Text splitted to sentences.\n",
      "['Banco do Brasil has origin country Brazil.']\n"
     ]
    },
    {
     "name": "stderr",
     "output_type": "stream",
     "text": [
      "Processing Sentences:   0%|          | 2/500 [00:02<10:52,  1.31s/it]"
     ]
    },
    {
     "name": "stdout",
     "output_type": "stream",
     "text": [
      " > Processing time: 0.3961145877838135\n",
      " > Real-time factor: 0.11257896809436337\n",
      " > Text splitted to sentences.\n",
      "['Banco do Brasil has CEO John VI of Portugal.']\n",
      " > Processing time: 0.406078577041626\n",
      " > Real-time factor: 0.10596989944811415\n",
      " > Text splitted to sentences.\n",
      "['State Bank of India has headquarters in Mumbai.']\n"
     ]
    },
    {
     "name": "stderr",
     "output_type": "stream",
     "text": [
      "Processing Sentences:   1%|          | 3/500 [00:03<08:52,  1.07s/it]"
     ]
    },
    {
     "name": "stdout",
     "output_type": "stream",
     "text": [
      " > Processing time: 0.34290385246276855\n",
      " > Real-time factor: 0.09745604695303216\n",
      " > Text splitted to sentences.\n",
      "['State Bank of India has headquarters in Mumbai.']\n",
      " > Processing time: 0.42568421363830566\n",
      " > Real-time factor: 0.12384337279296811\n",
      " > Text splitted to sentences.\n",
      "['State Bank of India has headquarters in Mumbai.']\n"
     ]
    },
    {
     "name": "stderr",
     "output_type": "stream",
     "text": [
      "Processing Sentences:   1%|          | 4/500 [00:04<08:08,  1.02it/s]"
     ]
    },
    {
     "name": "stdout",
     "output_type": "stream",
     "text": [
      " > Processing time: 0.3851888179779053\n",
      " > Real-time factor: 0.10431093334167826\n",
      " > Text splitted to sentences.\n",
      "['Banco do Brasil has headquarters in Brasília.']\n",
      " > Processing time: 0.36625051498413086\n",
      " > Real-time factor: 0.10340893074421334\n",
      " > Text splitted to sentences.\n",
      "['Banco do Brasil has CEO John VI of Portugal.']\n"
     ]
    },
    {
     "name": "stderr",
     "output_type": "stream",
     "text": [
      "Processing Sentences:   1%|          | 5/500 [00:05<07:35,  1.09it/s]"
     ]
    },
    {
     "name": "stdout",
     "output_type": "stream",
     "text": [
      " > Processing time: 0.40224337577819824\n",
      " > Real-time factor: 0.10340265850481803\n",
      " > Text splitted to sentences.\n",
      "['SunTrust Banks has headquarters in Atlanta.']\n",
      " > Processing time: 0.3589627742767334\n",
      " > Real-time factor: 0.10808293058774814\n",
      " > Text splitted to sentences.\n",
      "['Westpac has origin country Australia.']\n"
     ]
    },
    {
     "name": "stderr",
     "output_type": "stream",
     "text": [
      "Processing Sentences:   1%|          | 6/500 [00:06<07:04,  1.16it/s]"
     ]
    },
    {
     "name": "stdout",
     "output_type": "stream",
     "text": [
      " > Processing time: 0.3475837707519531\n",
      " > Real-time factor: 0.10465673674186922\n",
      " > Text splitted to sentences.\n",
      "['Bank of Montreal has origin country Canada.']\n",
      " > Processing time: 0.3755671977996826\n",
      " > Real-time factor: 0.10569298437159233\n",
      " > Text splitted to sentences.\n",
      "['Westpac has headquarters in Sydney.']\n"
     ]
    },
    {
     "name": "stderr",
     "output_type": "stream",
     "text": [
      "Processing Sentences:   1%|▏         | 7/500 [00:06<06:40,  1.23it/s]"
     ]
    },
    {
     "name": "stdout",
     "output_type": "stream",
     "text": [
      " > Processing time: 0.3057730197906494\n",
      " > Real-time factor: 0.10448634835085265\n",
      " > Text splitted to sentences.\n",
      "['Westpac has origin country Australia.']\n",
      " > Processing time: 0.3249351978302002\n",
      " > Real-time factor: 0.1067973573836739\n",
      " > Text splitted to sentences.\n",
      "['SunTrust Banks has headquarters in Atlanta.']\n"
     ]
    },
    {
     "name": "stderr",
     "output_type": "stream",
     "text": [
      "Processing Sentences:   2%|▏         | 8/500 [00:07<06:21,  1.29it/s]"
     ]
    },
    {
     "name": "stdout",
     "output_type": "stream",
     "text": [
      " > Processing time: 0.3353431224822998\n",
      " > Real-time factor: 0.09756063767593823\n",
      " > Text splitted to sentences.\n",
      "['SunTrust Banks has headquarters in Atlanta.']\n",
      " > Processing time: 0.3820769786834717\n",
      " > Real-time factor: 0.10613784242051187\n",
      " > Text splitted to sentences.\n",
      "['Bank of Montreal has origin country Canada.']\n"
     ]
    },
    {
     "name": "stderr",
     "output_type": "stream",
     "text": [
      "Processing Sentences:   2%|▏         | 9/500 [00:08<06:24,  1.28it/s]"
     ]
    },
    {
     "name": "stdout",
     "output_type": "stream",
     "text": [
      " > Processing time: 0.37746477127075195\n",
      " > Real-time factor: 0.10588105799053633\n",
      " > Text splitted to sentences.\n",
      "['Westpac has headquarters in Sydney.']\n",
      " > Processing time: 0.29045534133911133\n",
      " > Real-time factor: 0.10508893864084085\n",
      " > Text splitted to sentences.\n",
      "['SunTrust Banks has headquarters in Atlanta.']\n"
     ]
    },
    {
     "name": "stderr",
     "output_type": "stream",
     "text": [
      "Processing Sentences:   2%|▏         | 10/500 [00:08<06:07,  1.33it/s]"
     ]
    },
    {
     "name": "stdout",
     "output_type": "stream",
     "text": [
      " > Processing time: 0.3545989990234375\n",
      " > Real-time factor: 0.10566091795225402\n",
      " > Text splitted to sentences.\n",
      "['KeyBank has headquarters in Cleveland.']\n",
      " > Processing time: 0.28003978729248047\n",
      " > Real-time factor: 0.09569299079158186\n",
      " > Text splitted to sentences.\n",
      "['Erste Bank has origin country Austria.']\n"
     ]
    },
    {
     "name": "stderr",
     "output_type": "stream",
     "text": [
      "Processing Sentences:   2%|▏         | 11/500 [00:09<05:54,  1.38it/s]"
     ]
    },
    {
     "name": "stdout",
     "output_type": "stream",
     "text": [
      " > Processing time: 0.35585641860961914\n",
      " > Real-time factor: 0.11143254417095691\n",
      " > Text splitted to sentences.\n",
      "['Erste Bank has headquarters in Vienna.']\n",
      " > Processing time: 0.33532190322875977\n",
      " > Real-time factor: 0.10734390194823103\n",
      " > Text splitted to sentences.\n",
      "['KeyBank has headquarters in Cleveland.']\n"
     ]
    },
    {
     "name": "stderr",
     "output_type": "stream",
     "text": [
      "Processing Sentences:   2%|▏         | 12/500 [00:10<05:45,  1.41it/s]"
     ]
    },
    {
     "name": "stdout",
     "output_type": "stream",
     "text": [
      " > Processing time: 0.29924488067626953\n",
      " > Real-time factor: 0.10474900969824333\n",
      " > Text splitted to sentences.\n",
      "['KeyBank has headquarters in Cleveland.']\n",
      " > Processing time: 0.3434920310974121\n",
      " > Real-time factor: 0.1071711467865341\n",
      " > Text splitted to sentences.\n",
      "['KeyBank has origin country United States of America.']\n"
     ]
    },
    {
     "name": "stderr",
     "output_type": "stream",
     "text": [
      "Processing Sentences:   3%|▎         | 13/500 [00:11<05:56,  1.37it/s]"
     ]
    },
    {
     "name": "stdout",
     "output_type": "stream",
     "text": [
      " > Processing time: 0.4078669548034668\n",
      " > Real-time factor: 0.10840726076924352\n",
      " > Text splitted to sentences.\n",
      "['Erste Bank has origin country Austria.']\n",
      " > Processing time: 0.31024622917175293\n",
      " > Real-time factor: 0.0967982985232787\n",
      " > Text splitted to sentences.\n",
      "['Erste Bank has origin country Austria.']\n"
     ]
    },
    {
     "name": "stderr",
     "output_type": "stream",
     "text": [
      "Processing Sentences:   3%|▎         | 14/500 [00:11<05:49,  1.39it/s]"
     ]
    },
    {
     "name": "stdout",
     "output_type": "stream",
     "text": [
      " > Processing time: 0.3434317111968994\n",
      " > Real-time factor: 0.1037693108952482\n",
      " > Text splitted to sentences.\n",
      "['KeyBank has headquarters in Cleveland.']\n",
      " > Processing time: 0.3260376453399658\n",
      " > Real-time factor: 0.10594685922757378\n",
      " > Text splitted to sentences.\n",
      "['KeyBank has headquarters in Cleveland.']\n"
     ]
    },
    {
     "name": "stderr",
     "output_type": "stream",
     "text": [
      "Processing Sentences:   3%|▎         | 15/500 [00:12<05:36,  1.44it/s]"
     ]
    },
    {
     "name": "stdout",
     "output_type": "stream",
     "text": [
      " > Processing time: 0.2751748561859131\n",
      " > Real-time factor: 0.09632343121189015\n",
      " > Text splitted to sentences.\n",
      "['National Bank of Canada has headquarters in Montreal.']\n",
      " > Processing time: 0.4323101043701172\n",
      " > Real-time factor: 0.10728927833334552\n",
      " > Text splitted to sentences.\n",
      "['Wells Fargo has headquarters in San Francisco.']\n"
     ]
    },
    {
     "name": "stderr",
     "output_type": "stream",
     "text": [
      "Processing Sentences:   3%|▎         | 16/500 [00:13<06:05,  1.32it/s]"
     ]
    },
    {
     "name": "stdout",
     "output_type": "stream",
     "text": [
      " > Processing time: 0.4248528480529785\n",
      " > Real-time factor: 0.10888977705467938\n",
      " > Text splitted to sentences.\n",
      "['Bendigo Bank has origin country Australia.']\n",
      " > Processing time: 0.3310685157775879\n",
      " > Real-time factor: 0.09864946990399748\n",
      " > Text splitted to sentences.\n",
      "['M&T Bank has headquarters in Buffalo.']\n"
     ]
    },
    {
     "name": "stderr",
     "output_type": "stream",
     "text": [
      "Processing Sentences:   3%|▎         | 17/500 [00:14<06:09,  1.31it/s]"
     ]
    },
    {
     "name": "stdout",
     "output_type": "stream",
     "text": [
      " > Processing time: 0.41875338554382324\n",
      " > Real-time factor: 0.10960959343828706\n",
      " > Text splitted to sentences.\n",
      "['U.S. Bancorp has headquarters in Minneapolis.']\n",
      " > Processing time: 0.5091912746429443\n",
      " > Real-time factor: 0.11017887036698189\n",
      " > Text splitted to sentences.\n",
      "['M&T Bank has origin country United States of America.']\n"
     ]
    },
    {
     "name": "stderr",
     "output_type": "stream",
     "text": [
      "Processing Sentences:   4%|▎         | 18/500 [00:15<06:49,  1.18it/s]"
     ]
    },
    {
     "name": "stdout",
     "output_type": "stream",
     "text": [
      " > Processing time: 0.4882533550262451\n",
      " > Real-time factor: 0.10781511855400482\n",
      " > Text splitted to sentences.\n",
      "['Wells Fargo has CEO William Fargo.']\n",
      " > Processing time: 0.32929062843322754\n",
      " > Real-time factor: 0.10740914729219922\n",
      " > Text splitted to sentences.\n",
      "['Wells Fargo has origin country United States of America.']\n"
     ]
    },
    {
     "name": "stderr",
     "output_type": "stream",
     "text": [
      "Processing Sentences:   4%|▍         | 19/500 [00:15<06:48,  1.18it/s]"
     ]
    },
    {
     "name": "stdout",
     "output_type": "stream",
     "text": [
      " > Processing time: 0.4770820140838623\n",
      " > Real-time factor: 0.11349536520961896\n",
      " > Text splitted to sentences.\n",
      "['Wells Fargo has CEO William Fargo.']\n",
      " > Processing time: 0.3337407112121582\n",
      " > Real-time factor: 0.10527269801768266\n",
      " > Text splitted to sentences.\n",
      "['Fifth Third Bank has headquarters in Cincinnati.']\n"
     ]
    },
    {
     "name": "stderr",
     "output_type": "stream",
     "text": [
      "Processing Sentences:   4%|▍         | 20/500 [00:16<06:34,  1.22it/s]"
     ]
    },
    {
     "name": "stdout",
     "output_type": "stream",
     "text": [
      " > Processing time: 0.38716554641723633\n",
      " > Real-time factor: 0.10686211068621146\n",
      " > Text splitted to sentences.\n",
      "['Royal Bank of Canada has origin country Canada.']\n",
      " > Processing time: 0.38237571716308594\n",
      " > Real-time factor: 0.09800288919757817\n",
      " > Text splitted to sentences.\n",
      "['Huntington Bancshares has headquarters in Columbus.']\n"
     ]
    },
    {
     "name": "stderr",
     "output_type": "stream",
     "text": [
      "Processing Sentences:   4%|▍         | 21/500 [00:17<06:35,  1.21it/s]"
     ]
    },
    {
     "name": "stdout",
     "output_type": "stream",
     "text": [
      " > Processing time: 0.4149158000946045\n",
      " > Real-time factor: 0.10762391059766174\n",
      " > Text splitted to sentences.\n",
      "['Standard Bank has headquarters in London.']\n",
      " > Processing time: 0.3811936378479004\n",
      " > Real-time factor: 0.11558470454546485\n",
      " > Text splitted to sentences.\n",
      "['Standard Bank has origin country South Africa.']\n"
     ]
    },
    {
     "name": "stderr",
     "output_type": "stream",
     "text": [
      "Processing Sentences:   4%|▍         | 22/500 [00:18<06:37,  1.20it/s]"
     ]
    },
    {
     "name": "stdout",
     "output_type": "stream",
     "text": [
      " > Processing time: 0.42017579078674316\n",
      " > Real-time factor: 0.11709904179534487\n",
      " > Text splitted to sentences.\n",
      "['Huntington Bancshares has headquarters in Columbus.']\n",
      " > Processing time: 0.4139866828918457\n",
      " > Real-time factor: 0.10706049866022234\n",
      " > Text splitted to sentences.\n",
      "['Royal Bank of Canada has headquarters in Toronto.']\n"
     ]
    },
    {
     "name": "stderr",
     "output_type": "stream",
     "text": [
      "Processing Sentences:   5%|▍         | 23/500 [00:19<06:42,  1.19it/s]"
     ]
    },
    {
     "name": "stdout",
     "output_type": "stream",
     "text": [
      " > Processing time: 0.4166116714477539\n",
      " > Real-time factor: 0.1083902132742941\n",
      " > Text splitted to sentences.\n",
      "['Huntington Bancshares has headquarters in Columbus.']\n",
      " > Processing time: 0.39901113510131836\n",
      " > Real-time factor: 0.1067120552224926\n",
      " > Text splitted to sentences.\n",
      "['Huntington Bancshares has origin country United States of America.']\n"
     ]
    },
    {
     "name": "stderr",
     "output_type": "stream",
     "text": [
      "Processing Sentences:   5%|▍         | 24/500 [00:20<06:54,  1.15it/s]"
     ]
    },
    {
     "name": "stdout",
     "output_type": "stream",
     "text": [
      " > Processing time: 0.4900660514831543\n",
      " > Real-time factor: 0.10657602606915292\n",
      " > Text splitted to sentences.\n",
      "['Royal Bank of Canada has origin country Canada.']\n",
      " > Processing time: 0.3641049861907959\n",
      " > Real-time factor: 0.09860133308983898\n",
      " > Text splitted to sentences.\n",
      "['Standard Bank has CEO John Paterson.']\n"
     ]
    },
    {
     "name": "stderr",
     "output_type": "stream",
     "text": [
      "Processing Sentences:   5%|▌         | 25/500 [00:20<06:38,  1.19it/s]"
     ]
    },
    {
     "name": "stdout",
     "output_type": "stream",
     "text": [
      " > Processing time: 0.365201473236084\n",
      " > Real-time factor: 0.10733488596789896\n",
      " > Text splitted to sentences.\n",
      "['Deutsche Bank has headquarters in Deutsche Bank Twin Towers.']\n",
      " > Processing time: 0.46645212173461914\n",
      " > Real-time factor: 0.10856769637992265\n",
      " > Text splitted to sentences.\n",
      "['Deutsche Bank has headquarters in Deutsche Bank Twin Towers.']\n"
     ]
    },
    {
     "name": "stderr",
     "output_type": "stream",
     "text": [
      "Processing Sentences:   5%|▌         | 26/500 [00:21<06:59,  1.13it/s]"
     ]
    },
    {
     "name": "stdout",
     "output_type": "stream",
     "text": [
      " > Processing time: 0.4776291847229004\n",
      " > Real-time factor: 0.10683861713946553\n",
      " > Text splitted to sentences.\n",
      "['Handelsbanken has origin country Norway.']\n",
      " > Processing time: 0.304274320602417\n",
      " > Real-time factor: 0.09597803801332248\n",
      " > Text splitted to sentences.\n",
      "['Commerzbank has headquarters in Commerzbank Tower.']\n"
     ]
    },
    {
     "name": "stderr",
     "output_type": "stream",
     "text": [
      "Processing Sentences:   5%|▌         | 27/500 [00:22<06:38,  1.19it/s]"
     ]
    },
    {
     "name": "stdout",
     "output_type": "stream",
     "text": [
      " > Processing time: 0.4053075313568115\n",
      " > Real-time factor: 0.10806044527976512\n",
      " > Text splitted to sentences.\n",
      "['BB&T has headquarters in Winston-Salem.']\n",
      " > Processing time: 0.3786051273345947\n",
      " > Real-time factor: 0.09880045277560848\n",
      " > Text splitted to sentences.\n",
      "['Deutsche Bank has origin country Germany.']\n"
     ]
    },
    {
     "name": "stderr",
     "output_type": "stream",
     "text": [
      "Processing Sentences:   6%|▌         | 28/500 [00:23<06:18,  1.25it/s]"
     ]
    },
    {
     "name": "stdout",
     "output_type": "stream",
     "text": [
      " > Processing time: 0.2885451316833496\n",
      " > Real-time factor: 0.0948369328884131\n",
      " > Text splitted to sentences.\n",
      "['Handelsbanken has headquarters in Stockholm.']\n",
      " > Processing time: 0.379608154296875\n",
      " > Real-time factor: 0.10824487639983052\n",
      " > Text splitted to sentences.\n",
      "['Deutsche Bank has CEO Ludwig Bamberger.']\n"
     ]
    },
    {
     "name": "stderr",
     "output_type": "stream",
     "text": [
      "Processing Sentences:   6%|▌         | 29/500 [00:24<06:11,  1.27it/s]"
     ]
    },
    {
     "name": "stdout",
     "output_type": "stream",
     "text": [
      " > Processing time: 0.3405570983886719\n",
      " > Real-time factor: 0.10703084406314446\n",
      " > Text splitted to sentences.\n",
      "['Alpha Bank has headquarters in Athens.']\n",
      " > Processing time: 0.33168601989746094\n",
      " > Real-time factor: 0.09883346944241911\n",
      " > Text splitted to sentences.\n",
      "['Handelsbanken has origin country Norway.']\n"
     ]
    },
    {
     "name": "stderr",
     "output_type": "stream",
     "text": [
      "Processing Sentences:   6%|▌         | 30/500 [00:24<05:59,  1.31it/s]"
     ]
    },
    {
     "name": "stdout",
     "output_type": "stream",
     "text": [
      " > Processing time: 0.3427248001098633\n",
      " > Real-time factor: 0.10502948969344125\n",
      " > Text splitted to sentences.\n",
      "['Banc Sabadell has headquarters in Alicante.']\n",
      " > Processing time: 0.33574891090393066\n",
      " > Real-time factor: 0.09573845806734523\n",
      " > Text splitted to sentences.\n",
      "['Northern Trust has headquarters in Chicago.']\n"
     ]
    },
    {
     "name": "stderr",
     "output_type": "stream",
     "text": [
      "Processing Sentences:   6%|▌         | 31/500 [00:25<05:45,  1.36it/s]"
     ]
    },
    {
     "name": "stdout",
     "output_type": "stream",
     "text": [
      " > Processing time: 0.30016231536865234\n",
      " > Real-time factor: 0.09468097753889311\n",
      " > Text splitted to sentences.\n",
      "['Banc Sabadell has origin country Spain.']\n",
      " > Processing time: 0.3842344284057617\n",
      " > Real-time factor: 0.1060530886534529\n",
      " > Text splitted to sentences.\n",
      "['Banc Sabadell has headquarters in Alicante.']\n"
     ]
    },
    {
     "name": "stderr",
     "output_type": "stream",
     "text": [
      "Processing Sentences:   6%|▋         | 32/500 [00:26<06:02,  1.29it/s]"
     ]
    },
    {
     "name": "stdout",
     "output_type": "stream",
     "text": [
      " > Processing time: 0.4345123767852783\n",
      " > Real-time factor: 0.10113365466259276\n",
      " > Text splitted to sentences.\n",
      "['Banc Sabadell has headquarters in Alicante.']\n",
      " > Processing time: 0.3728337287902832\n",
      " > Real-time factor: 0.10666628243494063\n",
      " > Text splitted to sentences.\n",
      "['Northern Trust has headquarters in Chicago.']\n"
     ]
    },
    {
     "name": "stderr",
     "output_type": "stream",
     "text": [
      "Processing Sentences:   7%|▋         | 33/500 [00:27<05:56,  1.31it/s]"
     ]
    },
    {
     "name": "stdout",
     "output_type": "stream",
     "text": [
      " > Processing time: 0.32849574089050293\n",
      " > Real-time factor: 0.10555098925500683\n",
      " > Text splitted to sentences.\n",
      "['Northern Trust has headquarters in Chicago.']\n",
      " > Processing time: 0.3323221206665039\n",
      " > Real-time factor: 0.10598968353240586\n",
      " > Text splitted to sentences.\n",
      "['Banc Sabadell has origin country Spain.']\n"
     ]
    },
    {
     "name": "stderr",
     "output_type": "stream",
     "text": [
      "Processing Sentences:   7%|▋         | 34/500 [00:27<05:43,  1.36it/s]"
     ]
    },
    {
     "name": "stdout",
     "output_type": "stream",
     "text": [
      " > Processing time: 0.3104887008666992\n",
      " > Real-time factor: 0.09414570756477884\n",
      " > Text splitted to sentences.\n",
      "['Banc Sabadell has origin country Spain.']\n",
      " > Processing time: 1.7011692523956299\n",
      " > Real-time factor: 0.10991719611597953\n",
      " > Text splitted to sentences.\n",
      "['Banc Sabadell has origin country Spain.']\n"
     ]
    },
    {
     "name": "stderr",
     "output_type": "stream",
     "text": [
      "Processing Sentences:   7%|▋         | 35/500 [00:29<09:07,  1.18s/it]"
     ]
    },
    {
     "name": "stdout",
     "output_type": "stream",
     "text": [
      " > Processing time: 0.40094947814941406\n",
      " > Real-time factor: 0.10996189046261916\n",
      " > Text splitted to sentences.\n",
      "['National Australia Bank has origin country Australia.']\n",
      " > Processing time: 0.4687767028808594\n",
      " > Real-time factor: 0.11121241068302365\n",
      " > Text splitted to sentences.\n",
      "['Suruga Bank has origin country Japan.']\n"
     ]
    },
    {
     "name": "stderr",
     "output_type": "stream",
     "text": [
      "Processing Sentences:   7%|▋         | 36/500 [00:30<08:16,  1.07s/it]"
     ]
    },
    {
     "name": "stdout",
     "output_type": "stream",
     "text": [
      " > Processing time: 0.31395411491394043\n",
      " > Real-time factor: 0.09453091864010796\n",
      " > Text splitted to sentences.\n",
      "['Bank Rakyat Indonesia has CEO Raden Bei Aria Wirjaatmadja.']\n",
      " > Processing time: 0.5207743644714355\n",
      " > Real-time factor: 0.10755165158657232\n",
      " > Text splitted to sentences.\n",
      "['Bank Rakyat Indonesia has origin country Indonesia.']\n"
     ]
    },
    {
     "name": "stderr",
     "output_type": "stream",
     "text": [
      "Processing Sentences:   7%|▋         | 37/500 [00:31<08:05,  1.05s/it]"
     ]
    },
    {
     "name": "stdout",
     "output_type": "stream",
     "text": [
      " > Processing time: 0.42375922203063965\n",
      " > Real-time factor: 0.10053248026527377\n",
      " > Text splitted to sentences.\n",
      "['Bank Rakyat Indonesia has headquarters in Jakarta.']\n",
      " > Processing time: 0.3970677852630615\n",
      " > Real-time factor: 0.10299436129600163\n",
      " > Text splitted to sentences.\n",
      "['Punjab National Bank has CEO Lala Lajpat Rai.']\n"
     ]
    },
    {
     "name": "stderr",
     "output_type": "stream",
     "text": [
      "Processing Sentences:   8%|▊         | 38/500 [00:32<07:37,  1.01it/s]"
     ]
    },
    {
     "name": "stdout",
     "output_type": "stream",
     "text": [
      " > Processing time: 0.42003917694091797\n",
      " > Real-time factor: 0.10638972444802473\n",
      " > Text splitted to sentences.\n",
      "['Bank Rakyat Indonesia has headquarters in Jakarta.']\n",
      " > Processing time: 0.4558844566345215\n",
      " > Real-time factor: 0.11281482614463098\n",
      " > Text splitted to sentences.\n",
      "['Suruga Bank has headquarters in Shizuoka Prefecture.']\n"
     ]
    },
    {
     "name": "stderr",
     "output_type": "stream",
     "text": [
      "Processing Sentences:   8%|▊         | 39/500 [00:33<07:26,  1.03it/s]"
     ]
    },
    {
     "name": "stdout",
     "output_type": "stream",
     "text": [
      " > Processing time: 0.4185159206390381\n",
      " > Real-time factor: 0.1044678958758693\n",
      " > Text splitted to sentences.\n",
      "['Bank Rakyat Indonesia has origin country Indonesia.']\n",
      " > Processing time: 0.44527292251586914\n",
      " > Real-time factor: 0.10801650173247354\n",
      " > Text splitted to sentences.\n",
      "['Punjab National Bank has origin country India.']\n"
     ]
    },
    {
     "name": "stderr",
     "output_type": "stream",
     "text": [
      "Processing Sentences:   8%|▊         | 40/500 [00:34<07:11,  1.07it/s]"
     ]
    },
    {
     "name": "stdout",
     "output_type": "stream",
     "text": [
      " > Processing time: 0.38146471977233887\n",
      " > Real-time factor: 0.10562709803822674\n",
      " > Text splitted to sentences.\n",
      "['Canara Bank has headquarters in Bangalore.']\n",
      " > Processing time: 0.30539655685424805\n",
      " > Real-time factor: 0.09563159052823463\n",
      " > Text splitted to sentences.\n",
      "['Bank of India has headquarters in Mumbai.']\n"
     ]
    },
    {
     "name": "stderr",
     "output_type": "stream",
     "text": [
      "Processing Sentences:   8%|▊         | 41/500 [00:35<06:37,  1.16it/s]"
     ]
    },
    {
     "name": "stdout",
     "output_type": "stream",
     "text": [
      " > Processing time: 0.35178685188293457\n",
      " > Real-time factor: 0.10555328875488117\n",
      " > Text splitted to sentences.\n",
      "['Chang Hwa Bank has headquarters in Taichung.']\n",
      " > Processing time: 0.3242626190185547\n",
      " > Real-time factor: 0.0972946705497378\n",
      " > Text splitted to sentences.\n",
      "['Bank Leumi has headquarters in Tel Aviv.']\n"
     ]
    },
    {
     "name": "stderr",
     "output_type": "stream",
     "text": [
      "Processing Sentences:   8%|▊         | 42/500 [00:35<06:18,  1.21it/s]"
     ]
    },
    {
     "name": "stdout",
     "output_type": "stream",
     "text": [
      " > Processing time: 0.37705540657043457\n",
      " > Real-time factor: 0.11596283913855839\n",
      " > Text splitted to sentences.\n",
      "['Bank Leumi has origin country Israel.']\n",
      " > Processing time: 0.29309535026550293\n",
      " > Real-time factor: 0.09560284723896952\n",
      " > Text splitted to sentences.\n",
      "['Bank of India has headquarters in Mumbai.']\n"
     ]
    },
    {
     "name": "stderr",
     "output_type": "stream",
     "text": [
      "Processing Sentences:   9%|▊         | 43/500 [00:36<05:50,  1.30it/s]"
     ]
    },
    {
     "name": "stdout",
     "output_type": "stream",
     "text": [
      " > Processing time: 0.30048227310180664\n",
      " > Real-time factor: 0.09654980942374149\n",
      " > Text splitted to sentences.\n",
      "['Bank of Baroda has origin country India.']\n",
      " > Processing time: 0.3000807762145996\n",
      " > Real-time factor: 0.09465525743207716\n",
      " > Text splitted to sentences.\n",
      "['Bank CIC (Switzerland) Ltd. has headquarters in Basel.']\n"
     ]
    },
    {
     "name": "stderr",
     "output_type": "stream",
     "text": [
      "Processing Sentences:   9%|▉         | 44/500 [00:37<05:57,  1.27it/s]"
     ]
    },
    {
     "name": "stdout",
     "output_type": "stream",
     "text": [
      " > Processing time: 0.4830160140991211\n",
      " > Real-time factor: 0.11522528032375821\n",
      " > Text splitted to sentences.\n",
      "['Chang Hwa Bank has headquarters in Taichung.']\n",
      " > Processing time: 0.3156604766845703\n",
      " > Real-time factor: 0.09571388216301946\n",
      " > Text splitted to sentences.\n",
      "['Bank of India has headquarters in Mumbai.']\n"
     ]
    },
    {
     "name": "stderr",
     "output_type": "stream",
     "text": [
      "Processing Sentences:   9%|▉         | 45/500 [00:38<05:47,  1.31it/s]"
     ]
    },
    {
     "name": "stdout",
     "output_type": "stream",
     "text": [
      " > Processing time: 0.3600800037384033\n",
      " > Real-time factor: 0.1061920083783409\n",
      " > Text splitted to sentences.\n",
      "['Commonwealth Bank has headquarters in Sydney.']\n",
      " > Processing time: 0.35566043853759766\n",
      " > Real-time factor: 0.10417524800417147\n",
      " > Text splitted to sentences.\n",
      "[\"Bank of East Asia has origin country People's Republic of China.\"]\n"
     ]
    },
    {
     "name": "stderr",
     "output_type": "stream",
     "text": [
      "Processing Sentences:   9%|▉         | 46/500 [00:38<05:58,  1.27it/s]"
     ]
    },
    {
     "name": "stdout",
     "output_type": "stream",
     "text": [
      " > Processing time: 0.45324110984802246\n",
      " > Real-time factor: 0.10008378537242525\n",
      " > Text splitted to sentences.\n",
      "['Attijariwafa Bank has origin country Morocco.']\n",
      " > Processing time: 0.40018773078918457\n",
      " > Real-time factor: 0.10506929253073824\n",
      " > Text splitted to sentences.\n",
      "['Central Bank of India has headquarters in Mumbai.']\n"
     ]
    },
    {
     "name": "stderr",
     "output_type": "stream",
     "text": [
      "Processing Sentences:   9%|▉         | 47/500 [00:39<06:07,  1.23it/s]"
     ]
    },
    {
     "name": "stdout",
     "output_type": "stream",
     "text": [
      " > Processing time: 0.42279911041259766\n",
      " > Real-time factor: 0.10523207947216202\n",
      " > Text splitted to sentences.\n",
      "['Commonwealth Bank has headquarters in Sydney.']\n",
      " > Processing time: 0.376875638961792\n",
      " > Real-time factor: 0.1053726394693081\n",
      " > Text splitted to sentences.\n",
      "['Bank of East Asia has headquarters in Central.']\n"
     ]
    },
    {
     "name": "stderr",
     "output_type": "stream",
     "text": [
      "Processing Sentences:  10%|▉         | 48/500 [00:40<06:09,  1.22it/s]"
     ]
    },
    {
     "name": "stdout",
     "output_type": "stream",
     "text": [
      " > Processing time: 0.4170067310333252\n",
      " > Real-time factor: 0.10849299626303592\n",
      " > Text splitted to sentences.\n",
      "[\"Bank of East Asia has origin country People's Republic of China.\"]\n",
      " > Processing time: 0.4847848415374756\n",
      " > Real-time factor: 0.10650312605513047\n",
      " > Text splitted to sentences.\n",
      "[\"Bank of East Asia has origin country People's Republic of China.\"]\n"
     ]
    },
    {
     "name": "stderr",
     "output_type": "stream",
     "text": [
      "Processing Sentences:  10%|▉         | 49/500 [00:41<06:38,  1.13it/s]"
     ]
    },
    {
     "name": "stdout",
     "output_type": "stream",
     "text": [
      " > Processing time: 0.5030074119567871\n",
      " > Real-time factor: 0.10514289240147842\n",
      " > Text splitted to sentences.\n",
      "['Union Bank of India has headquarters in Mumbai.']\n",
      " > Processing time: 0.33122897148132324\n",
      " > Real-time factor: 0.09636371676645526\n",
      " > Text splitted to sentences.\n",
      "['Bank of East Asia has headquarters in Central.']\n"
     ]
    },
    {
     "name": "stderr",
     "output_type": "stream",
     "text": [
      "Processing Sentences:  10%|█         | 50/500 [00:42<06:21,  1.18it/s]"
     ]
    },
    {
     "name": "stdout",
     "output_type": "stream",
     "text": [
      " > Processing time: 0.39258861541748047\n",
      " > Real-time factor: 0.10598162304059065\n",
      " > Text splitted to sentences.\n",
      "['Sumitomo Mitsui Trust Bank has origin country Japan.']\n",
      " > Processing time: 0.4442105293273926\n",
      " > Real-time factor: 0.10509487308657732\n",
      " > Text splitted to sentences.\n",
      "['Bank Hapoalim has CEO Histadrut.']\n"
     ]
    },
    {
     "name": "stderr",
     "output_type": "stream",
     "text": [
      "Processing Sentences:  10%|█         | 51/500 [00:43<06:10,  1.21it/s]"
     ]
    },
    {
     "name": "stdout",
     "output_type": "stream",
     "text": [
      " > Processing time: 0.2866528034210205\n",
      " > Real-time factor: 0.09421497608266012\n",
      " > Text splitted to sentences.\n",
      "['Sumitomo Mitsui Trust Bank has origin country Japan.']\n",
      " > Processing time: 0.45267152786254883\n",
      " > Real-time factor: 0.10651151602109869\n",
      " > Text splitted to sentences.\n",
      "['Bank Hapoalim has CEO Histadrut.']\n"
     ]
    },
    {
     "name": "stderr",
     "output_type": "stream",
     "text": [
      "Processing Sentences:  10%|█         | 52/500 [00:43<06:02,  1.24it/s]"
     ]
    },
    {
     "name": "stdout",
     "output_type": "stream",
     "text": [
      " > Processing time: 0.28233909606933594\n",
      " > Real-time factor: 0.1047935811393896\n",
      " > Text splitted to sentences.\n",
      "['Bank Hapoalim has origin country Israel.']\n",
      " > Processing time: 0.3315393924713135\n",
      " > Real-time factor: 0.1049627211692003\n",
      " > Text splitted to sentences.\n",
      "['Bank Hapoalim has CEO Histadrut.']\n"
     ]
    },
    {
     "name": "stderr",
     "output_type": "stream",
     "text": [
      "Processing Sentences:  11%|█         | 53/500 [00:44<05:40,  1.31it/s]"
     ]
    },
    {
     "name": "stdout",
     "output_type": "stream",
     "text": [
      " > Processing time: 0.28933215141296387\n",
      " > Real-time factor: 0.10556946549271666\n",
      " > Text splitted to sentences.\n",
      "['Bank of America has CEO Amadeo Giannini.']\n",
      " > Processing time: 0.34352731704711914\n",
      " > Real-time factor: 0.09795646261236521\n",
      " > Text splitted to sentences.\n",
      "['Sumitomo Mitsui Trust Bank has origin country Japan.']\n"
     ]
    },
    {
     "name": "stderr",
     "output_type": "stream",
     "text": [
      "Processing Sentences:  11%|█         | 54/500 [00:45<05:47,  1.28it/s]"
     ]
    },
    {
     "name": "stdout",
     "output_type": "stream",
     "text": [
      " > Processing time: 0.43140292167663574\n",
      " > Real-time factor: 0.10150711139416314\n",
      " > Text splitted to sentences.\n",
      "['Sumitomo Mitsui Trust Bank has origin country Japan.']\n",
      " > Processing time: 0.48484086990356445\n",
      " > Real-time factor: 0.11828134604989374\n",
      " > Text splitted to sentences.\n",
      "['Bank Hapoalim has CEO Histadrut.']\n"
     ]
    },
    {
     "name": "stderr",
     "output_type": "stream",
     "text": [
      "Processing Sentences:  11%|█         | 55/500 [00:46<05:48,  1.28it/s]"
     ]
    },
    {
     "name": "stdout",
     "output_type": "stream",
     "text": [
      " > Processing time: 0.2715005874633789\n",
      " > Real-time factor: 0.09503727383743182\n",
      " > Text splitted to sentences.\n",
      "['United Overseas Bank has headquarters in Singapore.']\n",
      " > Processing time: 0.43178677558898926\n",
      " > Real-time factor: 0.1065454163130843\n",
      " > Text splitted to sentences.\n",
      "['United Overseas Bank has CEO Wee Kheng Chiang.']\n"
     ]
    },
    {
     "name": "stderr",
     "output_type": "stream",
     "text": [
      "Processing Sentences:  11%|█         | 56/500 [00:47<06:05,  1.22it/s]"
     ]
    },
    {
     "name": "stdout",
     "output_type": "stream",
     "text": [
      " > Processing time: 0.4372687339782715\n",
      " > Real-time factor: 0.10489311993277728\n",
      " > Text splitted to sentences.\n",
      "['United Overseas Bank has CEO Wee Kheng Chiang.']\n",
      " > Processing time: 0.4452481269836426\n",
      " > Real-time factor: 0.10710552888799657\n",
      " > Text splitted to sentences.\n",
      "['Denizbank has origin country Turkey.']\n"
     ]
    },
    {
     "name": "stderr",
     "output_type": "stream",
     "text": [
      "Processing Sentences:  11%|█▏        | 57/500 [00:47<05:55,  1.25it/s]"
     ]
    },
    {
     "name": "stdout",
     "output_type": "stream",
     "text": [
      " > Processing time: 0.2731130123138428\n",
      " > Real-time factor: 0.09560169420752213\n",
      " > Text splitted to sentences.\n",
      "['United Overseas Bank has CEO Wee Kheng Chiang.']\n",
      " > Processing time: 0.44949984550476074\n",
      " > Real-time factor: 0.10054649806626334\n",
      " > Text splitted to sentences.\n",
      "['Denizbank has origin country Turkey.']\n"
     ]
    },
    {
     "name": "stderr",
     "output_type": "stream",
     "text": [
      "Processing Sentences:  12%|█▏        | 58/500 [00:48<05:52,  1.26it/s]"
     ]
    },
    {
     "name": "stdout",
     "output_type": "stream",
     "text": [
      " > Processing time: 0.29514098167419434\n",
      " > Real-time factor: 0.10415906923681155\n",
      " > Text splitted to sentences.\n",
      "['Indian Overseas Bank has headquarters in Chennai.']\n",
      " > Processing time: 0.37227725982666016\n",
      " > Real-time factor: 0.0974443682238587\n",
      " > Text splitted to sentences.\n",
      "['KBC Group has headquarters in Brussels.']\n"
     ]
    },
    {
     "name": "stderr",
     "output_type": "stream",
     "text": [
      "Processing Sentences:  12%|█▏        | 59/500 [00:49<05:57,  1.23it/s]"
     ]
    },
    {
     "name": "stdout",
     "output_type": "stream",
     "text": [
      " > Processing time: 0.43067264556884766\n",
      " > Real-time factor: 0.12403777213679586\n",
      " > Text splitted to sentences.\n",
      "['Gunma Bank has origin country Japan.']\n",
      " > Processing time: 1.9898746013641357\n",
      " > Real-time factor: 0.11092981412584238\n",
      " > Text splitted to sentences.\n",
      "['Arab Bank has headquarters in Amman.']\n"
     ]
    },
    {
     "name": "stderr",
     "output_type": "stream",
     "text": [
      "Processing Sentences:  12%|█▏        | 60/500 [00:51<09:25,  1.28s/it]"
     ]
    },
    {
     "name": "stdout",
     "output_type": "stream",
     "text": [
      " > Processing time: 0.2906320095062256\n",
      " > Real-time factor: 0.09303768596998076\n",
      " > Text splitted to sentences.\n",
      "['Akbank has headquarters in Istanbul.']\n",
      " > Processing time: 0.29039549827575684\n",
      " > Real-time factor: 0.09436484226863415\n",
      " > Text splitted to sentences.\n",
      "['OTP Bank has headquarters in Budapest.']\n"
     ]
    },
    {
     "name": "stderr",
     "output_type": "stream",
     "text": [
      "Processing Sentences:  12%|█▏        | 61/500 [00:52<07:55,  1.08s/it]"
     ]
    },
    {
     "name": "stdout",
     "output_type": "stream",
     "text": [
      " > Processing time: 0.29070353507995605\n",
      " > Real-time factor: 0.09340774289626123\n",
      " > Text splitted to sentences.\n",
      "['Hiroshima Bank has headquarters in Hiroshima Prefecture.']\n",
      " > Processing time: 0.45975708961486816\n",
      " > Real-time factor: 0.10392040989429067\n",
      " > Text splitted to sentences.\n",
      "['Akbank has origin country Turkey.']\n"
     ]
    },
    {
     "name": "stderr",
     "output_type": "stream",
     "text": [
      "Processing Sentences:  12%|█▏        | 62/500 [00:53<07:12,  1.01it/s]"
     ]
    },
    {
     "name": "stdout",
     "output_type": "stream",
     "text": [
      " > Processing time: 0.2677485942840576\n",
      " > Real-time factor: 0.10292636861861001\n",
      " > Text splitted to sentences.\n",
      "['Hiroshima Bank has origin country Japan.']\n",
      " > Processing time: 0.34253978729248047\n",
      " > Real-time factor: 0.09735257668848209\n",
      " > Text splitted to sentences.\n",
      "['Garanti Bank has headquarters in Istanbul.']\n"
     ]
    },
    {
     "name": "stderr",
     "output_type": "stream",
     "text": [
      "Processing Sentences:  13%|█▎        | 63/500 [00:53<06:35,  1.10it/s]"
     ]
    },
    {
     "name": "stdout",
     "output_type": "stream",
     "text": [
      " > Processing time: 0.3353290557861328\n",
      " > Real-time factor: 0.1034995195980435\n",
      " > Text splitted to sentences.\n",
      "['Garanti Bank has origin country Turkey.']\n",
      " > Processing time: 0.3153717517852783\n",
      " > Real-time factor: 0.10405116002611604\n",
      " > Text splitted to sentences.\n",
      "['Hiroshima Bank has origin country Japan.']\n"
     ]
    },
    {
     "name": "stderr",
     "output_type": "stream",
     "text": [
      "Processing Sentences:  13%|█▎        | 64/500 [00:54<06:05,  1.19it/s]"
     ]
    },
    {
     "name": "stdout",
     "output_type": "stream",
     "text": [
      " > Processing time: 0.3318603038787842\n",
      " > Real-time factor: 0.09557888846038651\n",
      " > Text splitted to sentences.\n",
      "['OTP Bank has headquarters in Budapest.']\n",
      " > Processing time: 0.31597399711608887\n",
      " > Real-time factor: 0.09683159101080942\n",
      " > Text splitted to sentences.\n",
      "['Bank Negara Indonesia has headquarters in Wisma 46.']\n"
     ]
    },
    {
     "name": "stderr",
     "output_type": "stream",
     "text": [
      "Processing Sentences:  13%|█▎        | 65/500 [00:55<06:09,  1.18it/s]"
     ]
    },
    {
     "name": "stdout",
     "output_type": "stream",
     "text": [
      " > Processing time: 0.5006866455078125\n",
      " > Real-time factor: 0.10646640693418517\n",
      " > Text splitted to sentences.\n",
      "['Bank Central Asia has headquarters in Jakarta.']\n",
      " > Processing time: 0.37777209281921387\n",
      " > Real-time factor: 0.10666198840739174\n",
      " > Text splitted to sentences.\n",
      "['Banco Popular has origin country Colombia.']\n"
     ]
    },
    {
     "name": "stderr",
     "output_type": "stream",
     "text": [
      "Processing Sentences:  13%|█▎        | 66/500 [00:56<05:58,  1.21it/s]"
     ]
    },
    {
     "name": "stdout",
     "output_type": "stream",
     "text": [
      " > Processing time: 0.3599283695220947\n",
      " > Real-time factor: 0.10401054398147135\n",
      " > Text splitted to sentences.\n",
      "['Bank Central Asia has headquarters in Jakarta.']\n",
      " > Processing time: 0.3632364273071289\n",
      " > Real-time factor: 0.10155918064163867\n",
      " > Text splitted to sentences.\n",
      "['Bank Central Asia has headquarters in Jakarta.']\n"
     ]
    },
    {
     "name": "stderr",
     "output_type": "stream",
     "text": [
      "Processing Sentences:  13%|█▎        | 67/500 [00:57<05:47,  1.25it/s]"
     ]
    },
    {
     "name": "stdout",
     "output_type": "stream",
     "text": [
      " > Processing time: 0.3417532444000244\n",
      " > Real-time factor: 0.09493624066494329\n",
      " > Text splitted to sentences.\n",
      "['VakıfBank has origin country Turkey.']\n",
      "vakıfbank has origin country turkey.\n",
      " [!] Character 'ı' not found in the vocabulary. Discarding it.\n",
      " > Processing time: 0.3135809898376465\n",
      " > Real-time factor: 0.10267374711808186\n",
      " > Text splitted to sentences.\n",
      "['National Bank of Kuwait has headquarters in Kuwait City.']\n"
     ]
    },
    {
     "name": "stderr",
     "output_type": "stream",
     "text": [
      "Processing Sentences:  14%|█▎        | 68/500 [00:57<05:42,  1.26it/s]"
     ]
    },
    {
     "name": "stdout",
     "output_type": "stream",
     "text": [
      " > Processing time: 0.4217853546142578\n",
      " > Real-time factor: 0.10061847703440784\n",
      " > Text splitted to sentences.\n",
      "['Al-Rajhi Bank has origin country Saudi Arabia.']\n",
      " > Processing time: 0.41251492500305176\n",
      " > Real-time factor: 0.10541389412568712\n",
      " > Text splitted to sentences.\n",
      "['Banco Popular has origin country Colombia.']\n"
     ]
    },
    {
     "name": "stderr",
     "output_type": "stream",
     "text": [
      "Processing Sentences:  14%|█▍        | 69/500 [00:58<05:40,  1.26it/s]"
     ]
    },
    {
     "name": "stdout",
     "output_type": "stream",
     "text": [
      " > Processing time: 0.3339095115661621\n",
      " > Real-time factor: 0.09649172690860079\n",
      " > Text splitted to sentences.\n",
      "['Bank Central Asia has headquarters in Jakarta.']\n",
      " > Processing time: 0.3482627868652344\n",
      " > Real-time factor: 0.09612450493664153\n",
      " > Text splitted to sentences.\n",
      "['VakıfBank has origin country Turkey.']\n"
     ]
    },
    {
     "name": "stderr",
     "output_type": "stream",
     "text": [
      "Processing Sentences:  14%|█▍        | 70/500 [00:59<05:27,  1.31it/s]"
     ]
    },
    {
     "name": "stdout",
     "output_type": "stream",
     "text": [
      " > Processing time: 0.31230878829956055\n",
      " > Real-time factor: 0.10587959381926984\n",
      " > Text splitted to sentences.\n",
      "['Allied Irish Banks has headquarters in Dublin.']\n",
      " > Processing time: 0.3876051902770996\n",
      " > Real-time factor: 0.10664172546428986\n",
      " > Text splitted to sentences.\n",
      "['DBS Bank has headquarters in Singapore.']\n"
     ]
    },
    {
     "name": "stderr",
     "output_type": "stream",
     "text": [
      "Processing Sentences:  14%|█▍        | 71/500 [01:00<05:27,  1.31it/s]"
     ]
    },
    {
     "name": "stdout",
     "output_type": "stream",
     "text": [
      " > Processing time: 0.34365296363830566\n",
      " > Real-time factor: 0.10645015520657226\n",
      " > Text splitted to sentences.\n",
      "['Maybank has headquarters in Kuala Lumpur.']\n",
      " > Processing time: 0.29640936851501465\n",
      " > Real-time factor: 0.09453579286849215\n",
      " > Text splitted to sentences.\n",
      "['DBS Bank has origin country Singapore.']\n"
     ]
    },
    {
     "name": "stderr",
     "output_type": "stream",
     "text": [
      "Processing Sentences:  14%|█▍        | 72/500 [01:00<05:08,  1.39it/s]"
     ]
    },
    {
     "name": "stdout",
     "output_type": "stream",
     "text": [
      " > Processing time: 0.2903327941894531\n",
      " > Real-time factor: 0.0925977509817959\n",
      " > Text splitted to sentences.\n",
      "['Bankinter has origin country Spain.']\n",
      " > Processing time: 0.28931355476379395\n",
      " > Real-time factor: 0.10294609931806185\n",
      " > Text splitted to sentences.\n",
      "['Public Bank Berhad has origin country Malaysia.']\n"
     ]
    },
    {
     "name": "stderr",
     "output_type": "stream",
     "text": [
      "Processing Sentences:  15%|█▍        | 73/500 [01:01<05:01,  1.42it/s]"
     ]
    },
    {
     "name": "stdout",
     "output_type": "stream",
     "text": [
      " > Processing time: 0.3494291305541992\n",
      " > Real-time factor: 0.09675648393510264\n",
      " > Text splitted to sentences.\n",
      "['Maybank has CEO Khoo Teck Puat.']\n",
      " > Processing time: 0.31252074241638184\n",
      " > Real-time factor: 0.11451546081961612\n",
      " > Text splitted to sentences.\n",
      "['Jyske Bank has headquarters in Silkeborg.']\n"
     ]
    },
    {
     "name": "stderr",
     "output_type": "stream",
     "text": [
      "Processing Sentences:  15%|█▍        | 74/500 [01:02<04:58,  1.42it/s]"
     ]
    },
    {
     "name": "stdout",
     "output_type": "stream",
     "text": [
      " > Processing time: 0.34513306617736816\n",
      " > Real-time factor: 0.10539253419580889\n",
      " > Text splitted to sentences.\n",
      "['Allied Irish Banks has headquarters in Dublin.']\n",
      " > Processing time: 0.3589301109313965\n",
      " > Real-time factor: 0.09781502059073181\n",
      " > Text splitted to sentences.\n",
      "['Public Bank Berhad has CEO Teh Hong Piow.']\n"
     ]
    },
    {
     "name": "stderr",
     "output_type": "stream",
     "text": [
      "Processing Sentences:  15%|█▌        | 75/500 [01:02<05:07,  1.38it/s]"
     ]
    },
    {
     "name": "stdout",
     "output_type": "stream",
     "text": [
      " > Processing time: 0.37364935874938965\n",
      " > Real-time factor: 0.09662892147241557\n",
      " > Text splitted to sentences.\n",
      "['SEB Group has headquarters in Stockholm.']\n",
      " > Processing time: 0.329939603805542\n",
      " > Real-time factor: 0.10484159937618459\n",
      " > Text splitted to sentences.\n",
      "['Davivienda has headquarters in Bogotá.']\n",
      "davivienda has headquarters in bogotá.\n",
      " [!] Character 'á' not found in the vocabulary. Discarding it.\n"
     ]
    },
    {
     "name": "stderr",
     "output_type": "stream",
     "text": [
      "Processing Sentences:  15%|█▌        | 76/500 [01:03<05:02,  1.40it/s]"
     ]
    },
    {
     "name": "stdout",
     "output_type": "stream",
     "text": [
      " > Processing time: 0.3289334774017334\n",
      " > Real-time factor: 0.10608739727223586\n",
      " > Text splitted to sentences.\n",
      "['Davivienda has origin country Colombia.']\n",
      " > Processing time: 0.31619715690612793\n",
      " > Real-time factor: 0.09554027775953905\n",
      " > Text splitted to sentences.\n",
      "['Regions Financial Corporation has headquarters in Birmingham.']\n"
     ]
    },
    {
     "name": "stderr",
     "output_type": "stream",
     "text": [
      "Processing Sentences:  15%|█▌        | 77/500 [01:04<05:16,  1.34it/s]"
     ]
    },
    {
     "name": "stdout",
     "output_type": "stream",
     "text": [
      " > Processing time: 0.4695475101470947\n",
      " > Real-time factor: 0.10697555999693585\n",
      " > Text splitted to sentences.\n",
      "['Davivienda has headquarters in Bogotá.']\n",
      " > Processing time: 0.33783960342407227\n",
      " > Real-time factor: 0.10280088396308228\n",
      " > Text splitted to sentences.\n",
      "['Davivienda has headquarters in Bogotá.']\n"
     ]
    },
    {
     "name": "stderr",
     "output_type": "stream",
     "text": [
      "Processing Sentences:  16%|█▌        | 78/500 [01:05<05:06,  1.38it/s]"
     ]
    },
    {
     "name": "stdout",
     "output_type": "stream",
     "text": [
      " > Processing time: 0.3036158084869385\n",
      " > Real-time factor: 0.09542087481666182\n",
      " > Text splitted to sentences.\n",
      "['Regions Financial Corporation has headquarters in Birmingham.']\n",
      " > Processing time: 0.45599961280822754\n",
      " > Real-time factor: 0.10499991084399977\n",
      " > Text splitted to sentences.\n",
      "['Australia and New Zealand Banking Group has origin country Australia.']\n"
     ]
    },
    {
     "name": "stderr",
     "output_type": "stream",
     "text": [
      "Processing Sentences:  16%|█▌        | 79/500 [01:06<05:53,  1.19it/s]"
     ]
    },
    {
     "name": "stdout",
     "output_type": "stream",
     "text": [
      " > Processing time: 0.5856549739837646\n",
      " > Real-time factor: 0.11060788831319388\n",
      " > Text splitted to sentences.\n",
      "['CIMB has headquarters in Kuala Lumpur.']\n",
      " > Processing time: 0.32572007179260254\n",
      " > Real-time factor: 0.09705577814901198\n",
      " > Text splitted to sentences.\n",
      "['East West Bank has headquarters in Pasadena.']\n"
     ]
    },
    {
     "name": "stderr",
     "output_type": "stream",
     "text": [
      "Processing Sentences:  16%|█▌        | 80/500 [01:06<05:40,  1.23it/s]"
     ]
    },
    {
     "name": "stdout",
     "output_type": "stream",
     "text": [
      " > Processing time: 0.3791372776031494\n",
      " > Real-time factor: 0.098640468321095\n",
      " > Text splitted to sentences.\n",
      "['Silicon Valley Bank has origin country United States of America.']\n",
      " > Processing time: 0.4871847629547119\n",
      " > Real-time factor: 0.10621760820233545\n",
      " > Text splitted to sentences.\n",
      "[\"China CITIC Bank has origin country People's Republic of China.\"]\n"
     ]
    },
    {
     "name": "stderr",
     "output_type": "stream",
     "text": [
      "Processing Sentences:  16%|█▌        | 81/500 [01:07<06:02,  1.16it/s]"
     ]
    },
    {
     "name": "stdout",
     "output_type": "stream",
     "text": [
      " > Processing time: 0.4564981460571289\n",
      " > Real-time factor: 0.10211191487339406\n",
      " > Text splitted to sentences.\n",
      "['Silicon Valley Bank has headquarters in Santa Clara.']\n",
      " > Processing time: 0.3857688903808594\n",
      " > Real-time factor: 0.101283625844184\n",
      " > Text splitted to sentences.\n",
      "['China CITIC Bank has headquarters in Beijing.']\n"
     ]
    },
    {
     "name": "stderr",
     "output_type": "stream",
     "text": [
      "Processing Sentences:  16%|█▋        | 82/500 [01:09<08:15,  1.18s/it]"
     ]
    },
    {
     "name": "stdout",
     "output_type": "stream",
     "text": [
      " > Processing time: 1.454024314880371\n",
      " > Real-time factor: 0.10731147962001346\n",
      " > Text splitted to sentences.\n",
      "['Silicon Valley Bank has origin country United States of America.']\n",
      " > Processing time: 0.5035309791564941\n",
      " > Real-time factor: 0.10813910404395255\n",
      " > Text splitted to sentences.\n",
      "['First Republic Bank has origin country United States of America.']\n"
     ]
    },
    {
     "name": "stderr",
     "output_type": "stream",
     "text": [
      "Processing Sentences:  17%|█▋        | 83/500 [01:10<07:55,  1.14s/it]"
     ]
    },
    {
     "name": "stdout",
     "output_type": "stream",
     "text": [
      " > Processing time: 0.4881904125213623\n",
      " > Real-time factor: 0.10590074173713244\n",
      " > Text splitted to sentences.\n",
      "['Silicon Valley Bank has origin country United States of America.']\n",
      " > Processing time: 0.48911404609680176\n",
      " > Real-time factor: 0.10556934922116756\n",
      " > Text splitted to sentences.\n",
      "['First Republic Bank has headquarters in San Francisco.']\n"
     ]
    },
    {
     "name": "stderr",
     "output_type": "stream",
     "text": [
      "Processing Sentences:  17%|█▋        | 84/500 [01:11<07:35,  1.10s/it]"
     ]
    },
    {
     "name": "stdout",
     "output_type": "stream",
     "text": [
      " > Processing time: 0.4527866840362549\n",
      " > Real-time factor: 0.10831394704694737\n",
      " > Text splitted to sentences.\n",
      "['AT&T has headquarters in Whitacre Tower.']\n",
      " > Processing time: 0.3330211639404297\n",
      " > Real-time factor: 0.09496064381448473\n",
      " > Text splitted to sentences.\n",
      "['First Republic Bank has origin country United States of America.']\n"
     ]
    },
    {
     "name": "stderr",
     "output_type": "stream",
     "text": [
      "Processing Sentences:  17%|█▋        | 85/500 [01:12<07:06,  1.03s/it]"
     ]
    },
    {
     "name": "stdout",
     "output_type": "stream",
     "text": [
      " > Processing time: 0.49441003799438477\n",
      " > Real-time factor: 0.10591618741038575\n",
      " > Text splitted to sentences.\n",
      "['China Everbright Bank has headquarters in Beijing.']\n",
      "   > Decoder stopped with `max_decoder_steps` 10000\n",
      " > Processing time: 13.068925142288208\n",
      " > Real-time factor: 0.1120167457270015\n",
      " > Text splitted to sentences.\n",
      "['Lloyds Bank has headquarters in London.']\n"
     ]
    },
    {
     "name": "stderr",
     "output_type": "stream",
     "text": [
      "Processing Sentences:  17%|█▋        | 86/500 [01:26<33:56,  4.92s/it]"
     ]
    },
    {
     "name": "stdout",
     "output_type": "stream",
     "text": [
      " > Processing time: 0.30054163932800293\n",
      " > Real-time factor: 0.09276236208262129\n",
      " > Text splitted to sentences.\n",
      "['Bilbao Vizcaya Argentaria Bank has headquarters in Ciudad BBVA.']\n",
      " > Processing time: 0.5484890937805176\n",
      " > Real-time factor: 0.1066280903323848\n",
      " > Text splitted to sentences.\n",
      "['ICICI Bank has headquarters in Mumbai.']\n"
     ]
    },
    {
     "name": "stderr",
     "output_type": "stream",
     "text": [
      "Processing Sentences:  17%|█▋        | 87/500 [01:27<25:33,  3.71s/it]"
     ]
    },
    {
     "name": "stdout",
     "output_type": "stream",
     "text": [
      " > Processing time: 0.30471301078796387\n",
      " > Real-time factor: 0.09541754555604696\n",
      " > Text splitted to sentences.\n",
      "['Bank Mandiri has origin country Indonesia.']\n",
      " > Processing time: 0.3270721435546875\n",
      " > Real-time factor: 0.09419985325732574\n",
      " > Text splitted to sentences.\n",
      "['China Everbright Bank has headquarters in Beijing.']\n"
     ]
    },
    {
     "name": "stderr",
     "output_type": "stream",
     "text": [
      "Processing Sentences:  18%|█▊        | 88/500 [01:28<19:20,  2.82s/it]"
     ]
    },
    {
     "name": "stdout",
     "output_type": "stream",
     "text": [
      " > Processing time: 0.3662278652191162\n",
      " > Real-time factor: 0.10173508904557439\n",
      " > Text splitted to sentences.\n",
      "['İşbank has origin country Germany.']\n",
      "i̇şbank has origin country germany.\n",
      " [!] Character '̇' not found in the vocabulary. Discarding it.\n",
      "i̇şbank has origin country germany.\n",
      " [!] Character 'ş' not found in the vocabulary. Discarding it.\n",
      " > Processing time: 0.2829926013946533\n",
      " > Real-time factor: 0.10413863252256518\n",
      " > Text splitted to sentences.\n",
      "['Axis Bank has headquarters in Mumbai.']\n"
     ]
    },
    {
     "name": "stderr",
     "output_type": "stream",
     "text": [
      "Processing Sentences:  18%|█▊        | 89/500 [01:28<14:49,  2.17s/it]"
     ]
    },
    {
     "name": "stdout",
     "output_type": "stream",
     "text": [
      " > Processing time: 0.3299846649169922\n",
      " > Real-time factor: 0.10258518302249714\n",
      " > Text splitted to sentences.\n",
      "['Bilbao Vizcaya Argentaria Bank has origin country Spain.']\n",
      " > Processing time: 0.498340368270874\n",
      " > Real-time factor: 0.10649330439188993\n",
      " > Text splitted to sentences.\n",
      "['Turkcell has headquarters in Istanbul.']\n"
     ]
    },
    {
     "name": "stderr",
     "output_type": "stream",
     "text": [
      "Processing Sentences:  18%|█▊        | 90/500 [01:29<12:04,  1.77s/it]"
     ]
    },
    {
     "name": "stdout",
     "output_type": "stream",
     "text": [
      " > Processing time: 0.2955493927001953\n",
      " > Real-time factor: 0.09640331522247494\n",
      " > Text splitted to sentences.\n",
      "['Nordea has headquarters in Helsinki.']\n",
      " > Processing time: 0.29607534408569336\n",
      " > Real-time factor: 0.09442926025644438\n",
      " > Text splitted to sentences.\n",
      "['Raiffeisen Romania has origin country Romania.']\n"
     ]
    },
    {
     "name": "stderr",
     "output_type": "stream",
     "text": [
      "Processing Sentences:  18%|█▊        | 91/500 [01:30<09:48,  1.44s/it]"
     ]
    },
    {
     "name": "stdout",
     "output_type": "stream",
     "text": [
      " > Processing time: 0.3426799774169922\n",
      " > Real-time factor: 0.09771484458468702\n",
      " > Text splitted to sentences.\n",
      "['Intesa Sanpaolo has headquarters in Turin.']\n",
      " > Processing time: 0.3482847213745117\n",
      " > Real-time factor: 0.09643959848186638\n",
      " > Text splitted to sentences.\n",
      "['UBI Banca has headquarters in Bergamo.']\n"
     ]
    },
    {
     "name": "stderr",
     "output_type": "stream",
     "text": [
      "Processing Sentences:  18%|█▊        | 92/500 [01:31<08:21,  1.23s/it]"
     ]
    },
    {
     "name": "stdout",
     "output_type": "stream",
     "text": [
      " > Processing time: 0.3506312370300293\n",
      " > Real-time factor: 0.10484132643350165\n",
      " > Text splitted to sentences.\n",
      "['The Bank of New York Mellon has headquarters in New York City.']\n",
      " > Processing time: 0.4529280662536621\n",
      " > Real-time factor: 0.1068638060787242\n",
      " > Text splitted to sentences.\n",
      "['Mizuho Bank has origin country Japan.']\n"
     ]
    },
    {
     "name": "stderr",
     "output_type": "stream",
     "text": [
      "Processing Sentences:  19%|█▊        | 93/500 [01:32<07:25,  1.09s/it]"
     ]
    },
    {
     "name": "stdout",
     "output_type": "stream",
     "text": [
      " > Processing time: 0.2922377586364746\n",
      " > Real-time factor: 0.09532311505819918\n",
      " > Text splitted to sentences.\n",
      "['Mizuho Bank has headquarters in Otemachi Tower.']\n",
      " > Processing time: 0.36610841751098633\n",
      " > Real-time factor: 0.09760943371683653\n",
      " > Text splitted to sentences.\n",
      "['JPMorgan Chase has CEO J. P. Morgan.']\n"
     ]
    },
    {
     "name": "stderr",
     "output_type": "stream",
     "text": [
      "Processing Sentences:  19%|█▉        | 94/500 [01:32<06:39,  1.02it/s]"
     ]
    },
    {
     "name": "stdout",
     "output_type": "stream",
     "text": [
      " > Processing time: 0.3201560974121094\n",
      " > Real-time factor: 0.09572903487655961\n",
      " > Text splitted to sentences.\n",
      "['Raiffeisen Romania has headquarters in Bucharest.']\n",
      " > Processing time: 0.4216287136077881\n",
      " > Real-time factor: 0.1061679281821182\n",
      " > Text splitted to sentences.\n",
      "['Nordea has origin country Finland.']\n"
     ]
    },
    {
     "name": "stderr",
     "output_type": "stream",
     "text": [
      "Processing Sentences:  19%|█▉        | 95/500 [01:33<06:11,  1.09it/s]"
     ]
    },
    {
     "name": "stdout",
     "output_type": "stream",
     "text": [
      " > Processing time: 0.30298614501953125\n",
      " > Real-time factor: 0.10394642297860131\n",
      " > Text splitted to sentences.\n",
      "['Bankia has origin country Spain.']\n",
      " > Processing time: 0.25608348846435547\n",
      " > Real-time factor: 0.09343792892240928\n",
      " > Text splitted to sentences.\n",
      "['Caixabank has origin country Spain.']\n"
     ]
    },
    {
     "name": "stderr",
     "output_type": "stream",
     "text": [
      "Processing Sentences:  19%|█▉        | 96/500 [01:34<05:32,  1.22it/s]"
     ]
    },
    {
     "name": "stdout",
     "output_type": "stream",
     "text": [
      " > Processing time: 0.31735873222351074\n",
      " > Real-time factor: 0.1055150790942161\n",
      " > Text splitted to sentences.\n",
      "['Bankia has origin country Spain.']\n",
      " > Processing time: 0.25447964668273926\n",
      " > Real-time factor: 0.09285273049633308\n",
      " > Text splitted to sentences.\n",
      "['Caixabank has headquarters in Valencia.']\n"
     ]
    },
    {
     "name": "stderr",
     "output_type": "stream",
     "text": [
      "Processing Sentences:  19%|█▉        | 97/500 [01:34<05:01,  1.34it/s]"
     ]
    },
    {
     "name": "stdout",
     "output_type": "stream",
     "text": [
      " > Processing time: 0.2914090156555176\n",
      " > Real-time factor: 0.09294099738492483\n",
      " > Text splitted to sentences.\n",
      "['Bankia has origin country Spain.']\n",
      " > Processing time: 0.25194501876831055\n",
      " > Real-time factor: 0.08891465531115954\n",
      " > Text splitted to sentences.\n",
      "['Caixabank has headquarters in Valencia.']\n"
     ]
    },
    {
     "name": "stderr",
     "output_type": "stream",
     "text": [
      "Processing Sentences:  20%|█▉        | 98/500 [01:35<04:40,  1.44it/s]"
     ]
    },
    {
     "name": "stdout",
     "output_type": "stream",
     "text": [
      " > Processing time: 0.2920961380004883\n",
      " > Real-time factor: 0.09113538378581003\n",
      " > Text splitted to sentences.\n",
      "['Bankia has headquarters in Madrid.']\n",
      " > Processing time: 0.30954861640930176\n",
      " > Real-time factor: 0.10705061154054428\n",
      " > Text splitted to sentences.\n",
      "['Caixabank has origin country Spain.']\n"
     ]
    },
    {
     "name": "stderr",
     "output_type": "stream",
     "text": [
      "Processing Sentences:  20%|█▉        | 99/500 [01:35<04:35,  1.46it/s]"
     ]
    },
    {
     "name": "stdout",
     "output_type": "stream",
     "text": [
      " > Processing time: 0.32152414321899414\n",
      " > Real-time factor: 0.11074742811139122\n",
      " > Text splitted to sentences.\n",
      "['Bankia has headquarters in Madrid.']\n",
      " > Processing time: 0.3066525459289551\n",
      " > Real-time factor: 0.10437281794476197\n",
      " > Text splitted to sentences.\n",
      "['Bankia has origin country Spain.']\n"
     ]
    },
    {
     "name": "stderr",
     "output_type": "stream",
     "text": [
      "Processing Sentences:  20%|██        | 100/500 [01:37<07:09,  1.07s/it]"
     ]
    },
    {
     "name": "stdout",
     "output_type": "stream",
     "text": [
      " > Processing time: 1.5805208683013916\n",
      " > Real-time factor: 0.10942754692930698\n",
      " > Text splitted to sentences.\n",
      "['Bilbao Vizcaya Argentaria Bank has origin country Spain.']\n",
      " > Processing time: 0.4824342727661133\n",
      " > Real-time factor: 0.10707919667511674\n",
      " > Text splitted to sentences.\n",
      "['Bank of Ireland has headquarters in Dublin.']\n"
     ]
    },
    {
     "name": "stderr",
     "output_type": "stream",
     "text": [
      "Processing Sentences:  20%|██        | 101/500 [01:38<06:43,  1.01s/it]"
     ]
    },
    {
     "name": "stdout",
     "output_type": "stream",
     "text": [
      " > Processing time: 0.34266138076782227\n",
      " > Real-time factor: 0.09549650462500607\n",
      " > Text splitted to sentences.\n",
      "['Toronto–Dominion Bank has headquarters in Toronto-Dominion Centre.']\n",
      "toronto–dominion bank has headquarters in toronto dominion centre.\n",
      " [!] Character '–' not found in the vocabulary. Discarding it.\n",
      " > Processing time: 0.45832133293151855\n",
      " > Real-time factor: 0.10414247105461649\n",
      " > Text splitted to sentences.\n",
      "['Swedbank has headquarters in Stockholm.']\n"
     ]
    },
    {
     "name": "stderr",
     "output_type": "stream",
     "text": [
      "Processing Sentences:  20%|██        | 102/500 [01:39<06:16,  1.06it/s]"
     ]
    },
    {
     "name": "stdout",
     "output_type": "stream",
     "text": [
      " > Processing time: 0.2915077209472656\n",
      " > Real-time factor: 0.09331802042519174\n",
      " > Text splitted to sentences.\n",
      "['Attijariwafa Bank has headquarters in Casablanca.']\n",
      " > Processing time: 0.4176149368286133\n",
      " > Real-time factor: 0.09880267550505283\n",
      " > Text splitted to sentences.\n",
      "['Comerica has CEO Elon Farnsworth.']\n"
     ]
    },
    {
     "name": "stderr",
     "output_type": "stream",
     "text": [
      "Processing Sentences:  21%|██        | 103/500 [01:40<06:47,  1.03s/it]"
     ]
    },
    {
     "name": "stdout",
     "output_type": "stream",
     "text": [
      " > Processing time: 0.7395286560058594\n",
      " > Real-time factor: 0.106151747636504\n",
      " > Text splitted to sentences.\n",
      "['Bendigo Bank has headquarters in Bendigo.']\n",
      " > Processing time: 0.3171360492706299\n",
      " > Real-time factor: 0.09718770689372622\n",
      " > Text splitted to sentences.\n",
      "['Punjab National Bank has origin country India.']\n"
     ]
    },
    {
     "name": "stderr",
     "output_type": "stream",
     "text": [
      "Processing Sentences:  21%|██        | 104/500 [01:41<06:08,  1.07it/s]"
     ]
    },
    {
     "name": "stdout",
     "output_type": "stream",
     "text": [
      " > Processing time: 0.35344696044921875\n",
      " > Real-time factor: 0.09724377967040919\n",
      " > Text splitted to sentences.\n",
      "['Danske Bank has origin country Denmark.']\n",
      " > Processing time: 0.30287790298461914\n",
      " > Real-time factor: 0.09415826980615345\n",
      " > Text splitted to sentences.\n",
      "['Chang Hwa Bank has headquarters in Taichung.']\n"
     ]
    },
    {
     "name": "stderr",
     "output_type": "stream",
     "text": [
      "Processing Sentences:  21%|██        | 105/500 [01:42<05:33,  1.19it/s]"
     ]
    },
    {
     "name": "stdout",
     "output_type": "stream",
     "text": [
      " > Processing time: 0.30278444290161133\n",
      " > Real-time factor: 0.09379069686980965\n",
      " > Text splitted to sentences.\n",
      "['Public Bank Berhad has headquarters in Kuala Lumpur.']\n",
      " > Processing time: 0.3894467353820801\n",
      " > Real-time factor: 0.09835189338435571\n",
      " > Text splitted to sentences.\n",
      "['Silicon Valley Bank has headquarters in Santa Clara.']\n"
     ]
    },
    {
     "name": "stderr",
     "output_type": "stream",
     "text": [
      "Processing Sentences:  21%|██        | 106/500 [01:42<05:28,  1.20it/s]"
     ]
    },
    {
     "name": "stdout",
     "output_type": "stream",
     "text": [
      " > Processing time: 0.38025426864624023\n",
      " > Real-time factor: 0.09863314774667793\n",
      " > Text splitted to sentences.\n",
      "['Garanti Bank has origin country Turkey.']\n",
      " > Processing time: 0.28659558296203613\n",
      " > Real-time factor: 0.093482730833031\n",
      " > Text splitted to sentences.\n",
      "['Banca Monte dei Paschi di Siena has origin country Italy.']\n"
     ]
    },
    {
     "name": "stderr",
     "output_type": "stream",
     "text": [
      "Processing Sentences:  21%|██▏       | 107/500 [01:43<05:34,  1.18it/s]"
     ]
    },
    {
     "name": "stdout",
     "output_type": "stream",
     "text": [
      " > Processing time: 0.5606417655944824\n",
      " > Real-time factor: 0.1063502316875287\n",
      " > Text splitted to sentences.\n",
      "['Bank CIC (Switzerland) Ltd. has origin country Switzerland.']\n",
      " > Processing time: 0.4849390983581543\n",
      " > Real-time factor: 0.10626597152565295\n",
      " > Text splitted to sentences.\n",
      "['Banc Sabadell has origin country Spain.']\n"
     ]
    },
    {
     "name": "stderr",
     "output_type": "stream",
     "text": [
      "Processing Sentences:  22%|██▏       | 108/500 [01:44<05:31,  1.18it/s]"
     ]
    },
    {
     "name": "stdout",
     "output_type": "stream",
     "text": [
      " > Processing time: 0.30649757385253906\n",
      " > Real-time factor: 0.09426288082247945\n",
      " > Text splitted to sentences.\n",
      "['Comerica has origin country United States of America.']\n",
      " > Processing time: 0.40573763847351074\n",
      " > Real-time factor: 0.10276735582086143\n",
      " > Text splitted to sentences.\n",
      "['Comerica has headquarters in Dallas.']\n"
     ]
    },
    {
     "name": "stderr",
     "output_type": "stream",
     "text": [
      "Processing Sentences:  22%|██▏       | 109/500 [01:45<05:15,  1.24it/s]"
     ]
    },
    {
     "name": "stdout",
     "output_type": "stream",
     "text": [
      " > Processing time: 0.26981544494628906\n",
      " > Real-time factor: 0.09183487529429601\n",
      " > Text splitted to sentences.\n",
      "['DNB ASA has headquarters in Oslo.']\n",
      " > Processing time: 0.37717437744140625\n",
      " > Real-time factor: 0.11200031004340401\n",
      " > Text splitted to sentences.\n",
      "['Bank Leumi has headquarters in Tel Aviv.']\n"
     ]
    },
    {
     "name": "stderr",
     "output_type": "stream",
     "text": [
      "Processing Sentences:  22%|██▏       | 110/500 [01:46<05:04,  1.28it/s]"
     ]
    },
    {
     "name": "stdout",
     "output_type": "stream",
     "text": [
      " > Processing time: 0.30283474922180176\n",
      " > Real-time factor: 0.09517540222834563\n",
      " > Text splitted to sentences.\n",
      "['Bank Leumi has CEO World Zionist Organization.']\n",
      " > Processing time: 0.4325220584869385\n",
      " > Real-time factor: 0.10642197140730442\n",
      " > Text splitted to sentences.\n",
      "['Bank of Baroda has CEO Sayajirao Gaekwad III.']\n"
     ]
    },
    {
     "name": "stderr",
     "output_type": "stream",
     "text": [
      "Processing Sentences:  22%|██▏       | 111/500 [01:47<05:22,  1.20it/s]"
     ]
    },
    {
     "name": "stdout",
     "output_type": "stream",
     "text": [
      " > Processing time: 0.4656212329864502\n",
      " > Real-time factor: 0.09901006969749293\n",
      " > Text splitted to sentences.\n",
      "['UniCredit has headquarters in Unicredit Tower.']\n",
      " > Processing time: 0.35953307151794434\n",
      " > Real-time factor: 0.10495266133989982\n",
      " > Text splitted to sentences.\n",
      "['Erste Bank has origin country Austria.']\n"
     ]
    },
    {
     "name": "stderr",
     "output_type": "stream",
     "text": [
      "Processing Sentences:  22%|██▏       | 112/500 [01:47<05:06,  1.26it/s]"
     ]
    },
    {
     "name": "stdout",
     "output_type": "stream",
     "text": [
      " > Processing time: 0.3035414218902588\n",
      " > Real-time factor: 0.09505067531072776\n",
      " > Text splitted to sentences.\n",
      "['Scotiabank has origin country Canada.']\n",
      " > Processing time: 0.2957336902618408\n",
      " > Real-time factor: 0.09502401303149903\n",
      " > Text splitted to sentences.\n",
      "['Commonwealth Bank has origin country Australia.']\n"
     ]
    },
    {
     "name": "stderr",
     "output_type": "stream",
     "text": [
      "Processing Sentences:  23%|██▎       | 113/500 [01:48<04:52,  1.32it/s]"
     ]
    },
    {
     "name": "stdout",
     "output_type": "stream",
     "text": [
      " > Processing time: 0.3432466983795166\n",
      " > Real-time factor: 0.09535110989805913\n",
      " > Text splitted to sentences.\n",
      "['Bradesco Bank has headquarters in Osasco.']\n",
      " > Processing time: 0.3228452205657959\n",
      " > Real-time factor: 0.0952110142504253\n",
      " > Text splitted to sentences.\n",
      "['Powszechna Kasa Oszczędności Bank Polski has headquarters in Warsaw.']\n",
      "powszechna kasa oszczędności bank polski has headquarters in warsaw.\n",
      " [!] Character 'ę' not found in the vocabulary. Discarding it.\n",
      "powszechna kasa oszczędności bank polski has headquarters in warsaw.\n",
      " [!] Character 'ś' not found in the vocabulary. Discarding it.\n"
     ]
    },
    {
     "name": "stderr",
     "output_type": "stream",
     "text": [
      "Processing Sentences:  23%|██▎       | 114/500 [01:49<05:15,  1.23it/s]"
     ]
    },
    {
     "name": "stdout",
     "output_type": "stream",
     "text": [
      " > Processing time: 0.5860991477966309\n",
      " > Real-time factor: 0.10604147145296468\n",
      " > Text splitted to sentences.\n",
      "['Bank Mandiri has origin country Indonesia.']\n",
      " > Processing time: 0.3195531368255615\n",
      " > Real-time factor: 0.09554874521321913\n",
      " > Text splitted to sentences.\n",
      "['Bank Mandiri has origin country Indonesia.']\n"
     ]
    },
    {
     "name": "stderr",
     "output_type": "stream",
     "text": [
      "Processing Sentences:  23%|██▎       | 115/500 [01:50<05:02,  1.27it/s]"
     ]
    },
    {
     "name": "stdout",
     "output_type": "stream",
     "text": [
      " > Processing time: 0.3583669662475586\n",
      " > Real-time factor: 0.1028690846406825\n",
      " > Text splitted to sentences.\n",
      "['Royal Bank of Canada has headquarters in Toronto.']\n",
      " > Processing time: 0.372039794921875\n",
      " > Real-time factor: 0.09708716954681103\n",
      " > Text splitted to sentences.\n",
      "['East West Bank has origin country United States of America.']\n"
     ]
    },
    {
     "name": "stderr",
     "output_type": "stream",
     "text": [
      "Processing Sentences:  23%|██▎       | 116/500 [01:50<05:13,  1.22it/s]"
     ]
    },
    {
     "name": "stdout",
     "output_type": "stream",
     "text": [
      " > Processing time: 0.47262024879455566\n",
      " > Real-time factor: 0.10627015506118405\n",
      " > Text splitted to sentences.\n",
      "['National Bank of Canada has headquarters in Montreal.']\n",
      " > Processing time: 0.3903822898864746\n",
      " > Real-time factor: 0.09744531665455494\n",
      " > Text splitted to sentences.\n",
      "['Hiroshima Bank has headquarters in Hiroshima Prefecture.']\n"
     ]
    },
    {
     "name": "stderr",
     "output_type": "stream",
     "text": [
      "Processing Sentences:  23%|██▎       | 117/500 [01:51<05:23,  1.18it/s]"
     ]
    },
    {
     "name": "stdout",
     "output_type": "stream",
     "text": [
      " > Processing time: 0.4694652557373047\n",
      " > Real-time factor: 0.1086816404439733\n",
      " > Text splitted to sentences.\n",
      "['HDFC Bank has headquarters in Mumbai.']\n",
      " > Processing time: 0.35242176055908203\n",
      " > Real-time factor: 0.109166383180599\n",
      " > Text splitted to sentences.\n",
      "['Bank Rakyat Indonesia has headquarters in Jakarta.']\n"
     ]
    },
    {
     "name": "stderr",
     "output_type": "stream",
     "text": [
      "Processing Sentences:  24%|██▎       | 118/500 [01:52<05:22,  1.18it/s]"
     ]
    },
    {
     "name": "stdout",
     "output_type": "stream",
     "text": [
      " > Processing time: 0.4478580951690674\n",
      " > Real-time factor: 0.10956940127904687\n",
      " > Text splitted to sentences.\n",
      "['Shinsei Bank has origin country Japan.']\n",
      " > Processing time: 0.3155860900878906\n",
      " > Real-time factor: 0.10533230331856969\n",
      " > Text splitted to sentences.\n",
      "['Kasikornbank has origin country Thailand.']\n"
     ]
    },
    {
     "name": "stderr",
     "output_type": "stream",
     "text": [
      "Processing Sentences:  24%|██▍       | 119/500 [01:53<05:01,  1.26it/s]"
     ]
    },
    {
     "name": "stdout",
     "output_type": "stream",
     "text": [
      " > Processing time: 0.3189859390258789\n",
      " > Real-time factor: 0.09775461356905478\n",
      " > Text splitted to sentences.\n",
      "['Royal Bank of Canada has origin country Canada.']\n",
      " > Processing time: 0.380932092666626\n",
      " > Real-time factor: 0.09940769555125809\n",
      " > Text splitted to sentences.\n",
      "['National Bank of Kuwait has headquarters in Kuwait City.']\n"
     ]
    },
    {
     "name": "stderr",
     "output_type": "stream",
     "text": [
      "Processing Sentences:  24%|██▍       | 120/500 [01:54<05:05,  1.24it/s]"
     ]
    },
    {
     "name": "stdout",
     "output_type": "stream",
     "text": [
      " > Processing time: 0.4120352268218994\n",
      " > Real-time factor: 0.09911608430161112\n",
      " > Text splitted to sentences.\n",
      "['DBS Bank has origin country Singapore.']\n",
      " > Processing time: 0.28358888626098633\n",
      " > Real-time factor: 0.09356498297304808\n",
      " > Text splitted to sentences.\n",
      "['Banco do Brasil has CEO John VI of Portugal.']\n"
     ]
    },
    {
     "name": "stderr",
     "output_type": "stream",
     "text": [
      "Processing Sentences:  24%|██▍       | 121/500 [01:54<04:51,  1.30it/s]"
     ]
    },
    {
     "name": "stdout",
     "output_type": "stream",
     "text": [
      " > Processing time: 0.3706655502319336\n",
      " > Real-time factor: 0.0988244266615174\n",
      " > Text splitted to sentences.\n",
      "['Gunma Bank has origin country Japan.']\n",
      " > Processing time: 0.3071165084838867\n",
      " > Real-time factor: 0.10132749299840949\n",
      " > Text splitted to sentences.\n",
      "['China CITIC Bank has headquarters in Beijing.']\n"
     ]
    },
    {
     "name": "stderr",
     "output_type": "stream",
     "text": [
      "Processing Sentences:  24%|██▍       | 122/500 [01:56<06:53,  1.09s/it]"
     ]
    },
    {
     "name": "stdout",
     "output_type": "stream",
     "text": [
      " > Processing time: 1.4532876014709473\n",
      " > Real-time factor: 0.11028093033297447\n",
      " > Text splitted to sentences.\n",
      "['Raiffeisen Romania has origin country Romania.']\n",
      " > Processing time: 0.35443949699401855\n",
      " > Real-time factor: 0.09751685601814371\n",
      " > Text splitted to sentences.\n",
      "['SEB Group has headquarters in Stockholm.']\n"
     ]
    },
    {
     "name": "stderr",
     "output_type": "stream",
     "text": [
      "Processing Sentences:  25%|██▍       | 123/500 [01:57<06:06,  1.03it/s]"
     ]
    },
    {
     "name": "stdout",
     "output_type": "stream",
     "text": [
      " > Processing time: 0.29863834381103516\n",
      " > Real-time factor: 0.09489531186640139\n",
      " > Text splitted to sentences.\n",
      "['Bank of Montreal has origin country Canada.']\n",
      " > Processing time: 0.34964466094970703\n",
      " > Real-time factor: 0.10241318775160786\n",
      " > Text splitted to sentences.\n",
      "['Davivienda has headquarters in Bogotá.']\n"
     ]
    },
    {
     "name": "stderr",
     "output_type": "stream",
     "text": [
      "Processing Sentences:  25%|██▍       | 124/500 [01:58<05:31,  1.13it/s]"
     ]
    },
    {
     "name": "stdout",
     "output_type": "stream",
     "text": [
      " > Processing time: 0.2860579490661621\n",
      " > Real-time factor: 0.09295534332865\n",
      " > Text splitted to sentences.\n",
      "['Mizuho Bank has origin country Japan.']\n",
      " > Processing time: 0.2919132709503174\n",
      " > Real-time factor: 0.09344784588348574\n",
      " > Text splitted to sentences.\n",
      "['Turkcell has origin country Turkey.']\n"
     ]
    },
    {
     "name": "stderr",
     "output_type": "stream",
     "text": [
      "Processing Sentences:  25%|██▌       | 125/500 [01:58<04:58,  1.26it/s]"
     ]
    },
    {
     "name": "stdout",
     "output_type": "stream",
     "text": [
      " > Processing time: 0.27202653884887695\n",
      " > Real-time factor: 0.10273679743795795\n",
      " > Text splitted to sentences.\n",
      "['Westpac has headquarters in Sydney.']\n",
      " > Processing time: 0.2944953441619873\n",
      " > Real-time factor: 0.10266921228769005\n",
      " > Text splitted to sentences.\n",
      "['Intesa Sanpaolo has headquarters in Turin.']\n"
     ]
    },
    {
     "name": "stderr",
     "output_type": "stream",
     "text": [
      "Processing Sentences:  25%|██▌       | 126/500 [01:59<04:42,  1.32it/s]"
     ]
    },
    {
     "name": "stdout",
     "output_type": "stream",
     "text": [
      " > Processing time: 0.33263254165649414\n",
      " > Real-time factor: 0.09453685738716354\n",
      " > Text splitted to sentences.\n",
      "['Danske Bank has origin country Denmark.']\n",
      " > Processing time: 0.3162968158721924\n",
      " > Real-time factor: 0.09523630093376996\n",
      " > Text splitted to sentences.\n",
      "['Handelsbanken has origin country Norway.']\n"
     ]
    },
    {
     "name": "stderr",
     "output_type": "stream",
     "text": [
      "Processing Sentences:  25%|██▌       | 127/500 [02:00<04:30,  1.38it/s]"
     ]
    },
    {
     "name": "stdout",
     "output_type": "stream",
     "text": [
      " > Processing time: 0.3046231269836426\n",
      " > Real-time factor: 0.09470082266508739\n",
      " > Text splitted to sentences.\n",
      "['Bradesco Bank has headquarters in Osasco.']\n",
      " > Processing time: 0.3454303741455078\n",
      " > Real-time factor: 0.10083588950842574\n",
      " > Text splitted to sentences.\n",
      "['Banca Monte dei Paschi di Siena has headquarters in Siena.']\n"
     ]
    },
    {
     "name": "stderr",
     "output_type": "stream",
     "text": [
      "Processing Sentences:  26%|██▌       | 128/500 [02:03<09:09,  1.48s/it]"
     ]
    },
    {
     "name": "stdout",
     "output_type": "stream",
     "text": [
      " > Processing time: 2.7318382263183594\n",
      " > Real-time factor: 0.10928661370852533\n",
      " > Text splitted to sentences.\n",
      "['Bank Hapoalim has origin country Israel.']\n",
      " > Processing time: 0.30956578254699707\n",
      " > Real-time factor: 0.09486776608240612\n",
      " > Text splitted to sentences.\n",
      "['HSBC Holdings has headquarters in London.']\n"
     ]
    },
    {
     "name": "stderr",
     "output_type": "stream",
     "text": [
      "Processing Sentences:  26%|██▌       | 129/500 [02:03<07:45,  1.26s/it]"
     ]
    },
    {
     "name": "stdout",
     "output_type": "stream",
     "text": [
      " > Processing time: 0.39453673362731934\n",
      " > Real-time factor: 0.10454161431073822\n",
      " > Text splitted to sentences.\n",
      "['Public Bank Berhad has CEO Teh Hong Piow.']\n",
      " > Processing time: 0.3404879570007324\n",
      " > Real-time factor: 0.09397856313671828\n",
      " > Text splitted to sentences.\n",
      "['The Bank of New York Mellon has origin country United States of America.']\n"
     ]
    },
    {
     "name": "stderr",
     "output_type": "stream",
     "text": [
      "Processing Sentences:  26%|██▌       | 130/500 [02:04<07:03,  1.14s/it]"
     ]
    },
    {
     "name": "stdout",
     "output_type": "stream",
     "text": [
      " > Processing time: 0.49942970275878906\n",
      " > Real-time factor: 0.10541837327530344\n",
      " > Text splitted to sentences.\n",
      "['Kasikornbank has headquarters in Bangkok.']\n",
      " > Processing time: 0.3246634006500244\n",
      " > Real-time factor: 0.09477372357992267\n",
      " > Text splitted to sentences.\n",
      "['Commerzbank has origin country Germany.']\n"
     ]
    },
    {
     "name": "stderr",
     "output_type": "stream",
     "text": [
      "Processing Sentences:  26%|██▌       | 131/500 [02:05<06:07,  1.00it/s]"
     ]
    },
    {
     "name": "stdout",
     "output_type": "stream",
     "text": [
      " > Processing time: 0.28655195236206055\n",
      " > Real-time factor: 0.09382380835090633\n",
      " > Text splitted to sentences.\n",
      "['Toronto–Dominion Bank has headquarters in Toronto-Dominion Centre.']\n",
      " > Processing time: 0.4982931613922119\n",
      " > Real-time factor: 0.11412834685784312\n",
      " > Text splitted to sentences.\n",
      "['Commerzbank has headquarters in Commerzbank Tower.']\n"
     ]
    },
    {
     "name": "stderr",
     "output_type": "stream",
     "text": [
      "Processing Sentences:  26%|██▋       | 132/500 [02:06<05:58,  1.03it/s]"
     ]
    },
    {
     "name": "stdout",
     "output_type": "stream",
     "text": [
      " > Processing time: 0.38071250915527344\n",
      " > Real-time factor: 0.09757660901610772\n",
      " > Text splitted to sentences.\n",
      "['Bank Central Asia has CEO Sudono Salim.']\n",
      " > Processing time: 0.3945283889770508\n",
      " > Real-time factor: 0.10390014065717526\n",
      " > Text splitted to sentences.\n",
      "['Bendigo Bank has headquarters in Bendigo.']\n"
     ]
    },
    {
     "name": "stderr",
     "output_type": "stream",
     "text": [
      "Processing Sentences:  27%|██▋       | 133/500 [02:07<05:31,  1.11it/s]"
     ]
    },
    {
     "name": "stdout",
     "output_type": "stream",
     "text": [
      " > Processing time: 0.3087344169616699\n",
      " > Real-time factor: 0.10225297245260787\n",
      " > Text splitted to sentences.\n",
      "['Banco Santander has headquarters in Santander.']\n",
      " > Processing time: 0.403017520904541\n",
      " > Real-time factor: 0.09859906284334646\n",
      " > Text splitted to sentences.\n",
      "['Westpac has origin country Australia.']\n"
     ]
    },
    {
     "name": "stderr",
     "output_type": "stream",
     "text": [
      "Processing Sentences:  27%|██▋       | 134/500 [02:07<05:12,  1.17it/s]"
     ]
    },
    {
     "name": "stdout",
     "output_type": "stream",
     "text": [
      " > Processing time: 0.2986464500427246\n",
      " > Real-time factor: 0.09454907855849526\n",
      " > Text splitted to sentences.\n",
      "['Scotiabank has origin country Canada.']\n",
      " > Processing time: 0.2926912307739258\n",
      " > Real-time factor: 0.09439857299562754\n",
      " > Text splitted to sentences.\n",
      "['Bank of America has origin country United States of America.']\n"
     ]
    },
    {
     "name": "stderr",
     "output_type": "stream",
     "text": [
      "Processing Sentences:  27%|██▋       | 135/500 [02:08<05:02,  1.21it/s]"
     ]
    },
    {
     "name": "stdout",
     "output_type": "stream",
     "text": [
      " > Processing time: 0.4355158805847168\n",
      " > Real-time factor: 0.09792712072618907\n",
      " > Text splitted to sentences.\n",
      "['Suruga Bank has headquarters in Shizuoka Prefecture.']\n",
      " > Processing time: 0.3712618350982666\n",
      " > Real-time factor: 0.0963006242226235\n",
      " > Text splitted to sentences.\n",
      "['Swedbank has headquarters in Stockholm.']\n"
     ]
    },
    {
     "name": "stderr",
     "output_type": "stream",
     "text": [
      "Processing Sentences:  27%|██▋       | 136/500 [02:09<04:46,  1.27it/s]"
     ]
    },
    {
     "name": "stdout",
     "output_type": "stream",
     "text": [
      " > Processing time: 0.2841155529022217\n",
      " > Real-time factor: 0.09232415617622595\n",
      " > Text splitted to sentences.\n",
      "['Bank CIC (Switzerland) Ltd. has headquarters in Basel.']\n",
      " > Processing time: 0.4255952835083008\n",
      " > Real-time factor: 0.09852570134131984\n",
      " > Text splitted to sentences.\n",
      "['AT&T has headquarters in Whitacre Tower.']\n"
     ]
    },
    {
     "name": "stderr",
     "output_type": "stream",
     "text": [
      "Processing Sentences:  27%|██▋       | 137/500 [02:10<04:49,  1.26it/s]"
     ]
    },
    {
     "name": "stdout",
     "output_type": "stream",
     "text": [
      " > Processing time: 0.3512437343597412\n",
      " > Real-time factor: 0.09482032740734933\n",
      " > Text splitted to sentences.\n",
      "['Bank Leumi has origin country Israel.']\n",
      " > Processing time: 0.28388237953186035\n",
      " > Real-time factor: 0.09259772882659054\n",
      " > Text splitted to sentences.\n",
      "['Gunma Bank has origin country Japan.']\n"
     ]
    },
    {
     "name": "stderr",
     "output_type": "stream",
     "text": [
      "Processing Sentences:  28%|██▊       | 138/500 [02:10<04:26,  1.36it/s]"
     ]
    },
    {
     "name": "stdout",
     "output_type": "stream",
     "text": [
      " > Processing time: 0.2792689800262451\n",
      " > Real-time factor: 0.09321084114765538\n",
      " > Text splitted to sentences.\n",
      "['BankMuscat has headquarters in Muscat.']\n",
      " > Processing time: 0.29750657081604004\n",
      " > Real-time factor: 0.09418820190807609\n",
      " > Text splitted to sentences.\n",
      "['Handelsbanken has origin country Norway.']\n"
     ]
    },
    {
     "name": "stderr",
     "output_type": "stream",
     "text": [
      "Processing Sentences:  28%|██▊       | 139/500 [02:11<04:15,  1.41it/s]"
     ]
    },
    {
     "name": "stdout",
     "output_type": "stream",
     "text": [
      " > Processing time: 0.3062255382537842\n",
      " > Real-time factor: 0.09451670098678529\n",
      " > Text splitted to sentences.\n",
      "['Bank of Ireland has headquarters in Dublin.']\n",
      " > Processing time: 0.3545973300933838\n",
      " > Real-time factor: 0.09979159598426476\n",
      " > Text splitted to sentences.\n",
      "['Raiffeisen Romania has headquarters in Bucharest.']\n"
     ]
    },
    {
     "name": "stderr",
     "output_type": "stream",
     "text": [
      "Processing Sentences:  28%|██▊       | 140/500 [02:12<04:20,  1.38it/s]"
     ]
    },
    {
     "name": "stdout",
     "output_type": "stream",
     "text": [
      " > Processing time: 0.3736269474029541\n",
      " > Real-time factor: 0.0980957585996754\n",
      " > Text splitted to sentences.\n",
      "['Central Bank of India has headquarters in Mumbai.']\n",
      " > Processing time: 0.38901448249816895\n",
      " > Real-time factor: 0.10090543641874442\n",
      " > Text splitted to sentences.\n",
      "['First Republic Bank has headquarters in San Francisco.']\n"
     ]
    },
    {
     "name": "stderr",
     "output_type": "stream",
     "text": [
      "Processing Sentences:  28%|██▊       | 141/500 [02:13<04:34,  1.31it/s]"
     ]
    },
    {
     "name": "stdout",
     "output_type": "stream",
     "text": [
      " > Processing time: 0.42505407333374023\n",
      " > Real-time factor: 0.10083967030694797\n",
      " > Text splitted to sentences.\n",
      "['Denizbank has headquarters in Istanbul.']\n",
      " > Processing time: 0.3137478828430176\n",
      " > Real-time factor: 0.09614938871314956\n",
      " > Text splitted to sentences.\n",
      "['Citigroup has origin country United States of America.']\n"
     ]
    },
    {
     "name": "stderr",
     "output_type": "stream",
     "text": [
      "Processing Sentences:  28%|██▊       | 142/500 [02:13<04:31,  1.32it/s]"
     ]
    },
    {
     "name": "stdout",
     "output_type": "stream",
     "text": [
      " > Processing time: 0.3889007568359375\n",
      " > Real-time factor: 0.09850282218609197\n",
      " > Text splitted to sentences.\n",
      "['Bank CIC (Switzerland) Ltd. has origin country Switzerland.']\n",
      " > Processing time: 0.43604540824890137\n",
      " > Real-time factor: 0.09987121127522307\n",
      " > Text splitted to sentences.\n",
      "['Kasikornbank has origin country Thailand.']\n"
     ]
    },
    {
     "name": "stderr",
     "output_type": "stream",
     "text": [
      "Processing Sentences:  29%|██▊       | 143/500 [02:14<04:33,  1.31it/s]"
     ]
    },
    {
     "name": "stdout",
     "output_type": "stream",
     "text": [
      " > Processing time: 0.3078885078430176\n",
      " > Real-time factor: 0.09571595981754084\n",
      " > Text splitted to sentences.\n",
      "['Akbank has headquarters in Istanbul.']\n",
      " > Processing time: 0.27437901496887207\n",
      " > Real-time factor: 0.09488797490689506\n",
      " > Text splitted to sentences.\n",
      "['Bank Negara Indonesia has headquarters in Wisma 46.']\n"
     ]
    },
    {
     "name": "stderr",
     "output_type": "stream",
     "text": [
      "Processing Sentences:  29%|██▉       | 144/500 [02:15<04:39,  1.28it/s]"
     ]
    },
    {
     "name": "stdout",
     "output_type": "stream",
     "text": [
      " > Processing time: 0.5141088962554932\n",
      " > Real-time factor: 0.10694435058899644\n",
      " > Text splitted to sentences.\n",
      "['VakıfBank has origin country Turkey.']\n",
      " > Processing time: 0.29065394401550293\n",
      " > Real-time factor: 0.09971557545341422\n",
      " > Text splitted to sentences.\n",
      "['Davivienda has origin country Colombia.']\n"
     ]
    },
    {
     "name": "stderr",
     "output_type": "stream",
     "text": [
      "Processing Sentences:  29%|██▉       | 145/500 [02:16<04:26,  1.33it/s]"
     ]
    },
    {
     "name": "stdout",
     "output_type": "stream",
     "text": [
      " > Processing time: 0.34049558639526367\n",
      " > Real-time factor: 0.10662246762121626\n",
      " > Text splitted to sentences.\n",
      "['VakıfBank has headquarters in Istanbul.']\n",
      " > Processing time: 0.29627060890197754\n",
      " > Real-time factor: 0.09414294048721185\n",
      " > Text splitted to sentences.\n",
      "['Caixabank has headquarters in Valencia.']\n"
     ]
    },
    {
     "name": "stderr",
     "output_type": "stream",
     "text": [
      "Processing Sentences:  29%|██▉       | 146/500 [02:16<04:12,  1.40it/s]"
     ]
    },
    {
     "name": "stdout",
     "output_type": "stream",
     "text": [
      " > Processing time: 0.2967982292175293\n",
      " > Real-time factor: 0.09361983512025808\n",
      " > Text splitted to sentences.\n",
      "['Caixabank has origin country Spain.']\n",
      " > Processing time: 0.2819042205810547\n",
      " > Real-time factor: 0.09409039815651876\n",
      " > Text splitted to sentences.\n",
      "['Shinsei Bank has headquarters in Chiyoda-ku.']\n"
     ]
    },
    {
     "name": "stderr",
     "output_type": "stream",
     "text": [
      "Processing Sentences:  29%|██▉       | 147/500 [02:17<04:10,  1.41it/s]"
     ]
    },
    {
     "name": "stdout",
     "output_type": "stream",
     "text": [
      " > Processing time: 0.3819615840911865\n",
      " > Real-time factor: 0.10376321862323407\n",
      " > Text splitted to sentences.\n",
      "['First Republic Bank has headquarters in San Francisco.']\n",
      " > Processing time: 0.42583227157592773\n",
      " > Real-time factor: 0.10074679815718032\n",
      " > Text splitted to sentences.\n",
      "['M&T Bank has origin country United States of America.']\n"
     ]
    },
    {
     "name": "stderr",
     "output_type": "stream",
     "text": [
      "Processing Sentences:  30%|██▉       | 148/500 [02:18<04:31,  1.30it/s]"
     ]
    },
    {
     "name": "stdout",
     "output_type": "stream",
     "text": [
      " > Processing time: 0.44976282119750977\n",
      " > Real-time factor: 0.10525206112460828\n",
      " > Text splitted to sentences.\n",
      "['Lloyds Bank has headquarters in London.']\n",
      " > Processing time: 0.2851254940032959\n",
      " > Real-time factor: 0.09371299103822851\n",
      " > Text splitted to sentences.\n",
      "['Suruga Bank has origin country Japan.']\n"
     ]
    },
    {
     "name": "stderr",
     "output_type": "stream",
     "text": [
      "Processing Sentences:  30%|██▉       | 149/500 [02:18<04:14,  1.38it/s]"
     ]
    },
    {
     "name": "stdout",
     "output_type": "stream",
     "text": [
      " > Processing time: 0.30133581161499023\n",
      " > Real-time factor: 0.09470431365607947\n",
      " > Text splitted to sentences.\n",
      "['National Australia Bank has headquarters in Melbourne.']\n",
      " > Processing time: 0.41246604919433594\n",
      " > Real-time factor: 0.09812355844052204\n",
      " > Text splitted to sentences.\n",
      "['Bendigo Bank has headquarters in Bendigo.']\n"
     ]
    },
    {
     "name": "stderr",
     "output_type": "stream",
     "text": [
      "Processing Sentences:  30%|███       | 150/500 [02:19<04:15,  1.37it/s]"
     ]
    },
    {
     "name": "stdout",
     "output_type": "stream",
     "text": [
      " > Processing time: 0.2927367687225342\n",
      " > Real-time factor: 0.0944132598632676\n",
      " > Text splitted to sentences.\n",
      "['Bangkok Bank has origin country Thailand.']\n",
      " > Processing time: 0.3220553398132324\n",
      " > Real-time factor: 0.09663237865885281\n",
      " > Text splitted to sentences.\n",
      "['Banco Santander has headquarters in Santander.']\n"
     ]
    },
    {
     "name": "stderr",
     "output_type": "stream",
     "text": [
      "Processing Sentences:  30%|███       | 151/500 [02:20<04:18,  1.35it/s]"
     ]
    },
    {
     "name": "stdout",
     "output_type": "stream",
     "text": [
      " > Processing time: 0.3982968330383301\n",
      " > Real-time factor: 0.10521426548417648\n",
      " > Text splitted to sentences.\n",
      "['Deutsche Bank has headquarters in Deutsche Bank Twin Towers.']\n",
      " > Processing time: 0.4303882122039795\n",
      " > Real-time factor: 0.09963526876257504\n",
      " > Text splitted to sentences.\n",
      "['Powszechna Kasa Oszczędności Bank Polski has headquarters in Warsaw.']\n"
     ]
    },
    {
     "name": "stderr",
     "output_type": "stream",
     "text": [
      "Processing Sentences:  30%|███       | 152/500 [02:21<04:50,  1.20it/s]"
     ]
    },
    {
     "name": "stdout",
     "output_type": "stream",
     "text": [
      " > Processing time: 0.5788583755493164\n",
      " > Real-time factor: 0.10720860083374568\n",
      " > Text splitted to sentences.\n",
      "['Regions Financial Corporation has headquarters in Birmingham.']\n",
      " > Processing time: 0.4750056266784668\n",
      " > Real-time factor: 0.10850607148454533\n",
      " > Text splitted to sentences.\n",
      "['VakıfBank has headquarters in Istanbul.']\n"
     ]
    },
    {
     "name": "stderr",
     "output_type": "stream",
     "text": [
      "Processing Sentences:  31%|███       | 153/500 [02:22<04:48,  1.20it/s]"
     ]
    },
    {
     "name": "stdout",
     "output_type": "stream",
     "text": [
      " > Processing time: 0.3094146251678467\n",
      " > Real-time factor: 0.09688980466017694\n",
      " > Text splitted to sentences.\n",
      "['Banc Sabadell has headquarters in Alicante.']\n",
      " > Processing time: 0.32555341720581055\n",
      " > Real-time factor: 0.09667168780149916\n",
      " > Text splitted to sentences.\n",
      "['Bank Leumi has headquarters in Tel Aviv.']\n"
     ]
    },
    {
     "name": "stderr",
     "output_type": "stream",
     "text": [
      "Processing Sentences:  31%|███       | 154/500 [02:23<04:31,  1.27it/s]"
     ]
    },
    {
     "name": "stdout",
     "output_type": "stream",
     "text": [
      " > Processing time: 0.3167123794555664\n",
      " > Real-time factor: 0.09569595438219743\n",
      " > Text splitted to sentences.\n",
      "['Scotiabank has origin country Canada.']\n",
      " > Processing time: 0.34635162353515625\n",
      " > Real-time factor: 0.11087475753412014\n",
      " > Text splitted to sentences.\n",
      "['HSBC Holdings has origin country United Kingdom.']\n"
     ]
    },
    {
     "name": "stderr",
     "output_type": "stream",
     "text": [
      "Processing Sentences:  31%|███       | 155/500 [02:23<04:31,  1.27it/s]"
     ]
    },
    {
     "name": "stdout",
     "output_type": "stream",
     "text": [
      " > Processing time: 0.40749239921569824\n",
      " > Real-time factor: 0.10601764445330077\n",
      " > Text splitted to sentences.\n",
      "['Huntington Bancshares has origin country United States of America.']\n",
      " > Processing time: 0.5064640045166016\n",
      " > Real-time factor: 0.11042093121728232\n",
      " > Text splitted to sentences.\n",
      "['Danske Bank has origin country Denmark.']\n"
     ]
    },
    {
     "name": "stderr",
     "output_type": "stream",
     "text": [
      "Processing Sentences:  31%|███       | 156/500 [02:24<04:38,  1.23it/s]"
     ]
    },
    {
     "name": "stdout",
     "output_type": "stream",
     "text": [
      " > Processing time: 0.3158726692199707\n",
      " > Real-time factor: 0.09714617769890027\n",
      " > Text splitted to sentences.\n",
      "['Bank Leumi has CEO World Zionist Organization.']\n",
      " > Processing time: 0.42856359481811523\n",
      " > Real-time factor: 0.10111525494071479\n",
      " > Text splitted to sentences.\n",
      "['CIMB has origin country Malaysia.']\n"
     ]
    },
    {
     "name": "stderr",
     "output_type": "stream",
     "text": [
      "Processing Sentences:  31%|███▏      | 157/500 [02:25<04:29,  1.27it/s]"
     ]
    },
    {
     "name": "stdout",
     "output_type": "stream",
     "text": [
      " > Processing time: 0.2644820213317871\n",
      " > Real-time factor: 0.09333912564606124\n",
      " > Text splitted to sentences.\n",
      "['Alpha Bank has origin country Greece.']\n",
      " > Processing time: 0.3188896179199219\n",
      " > Real-time factor: 0.10133035616691084\n",
      " > Text splitted to sentences.\n",
      "['Axis Bank has headquarters in Mumbai.']\n"
     ]
    },
    {
     "name": "stderr",
     "output_type": "stream",
     "text": [
      "Processing Sentences:  32%|███▏      | 158/500 [02:26<04:16,  1.33it/s]"
     ]
    },
    {
     "name": "stdout",
     "output_type": "stream",
     "text": [
      " > Processing time: 0.3069636821746826\n",
      " > Real-time factor: 0.09718224775947266\n",
      " > Text splitted to sentences.\n",
      "['Siam Commercial Bank has headquarters in Chatuchak.']\n",
      " > Processing time: 0.39234352111816406\n",
      " > Real-time factor: 0.09737050513973884\n",
      " > Text splitted to sentences.\n",
      "['Garanti Bank has headquarters in Istanbul.']\n"
     ]
    },
    {
     "name": "stderr",
     "output_type": "stream",
     "text": [
      "Processing Sentences:  32%|███▏      | 159/500 [02:26<04:16,  1.33it/s]"
     ]
    },
    {
     "name": "stdout",
     "output_type": "stream",
     "text": [
      " > Processing time: 0.3203544616699219\n",
      " > Real-time factor: 0.09545697134894295\n",
      " > Text splitted to sentences.\n",
      "['Suruga Bank has origin country Japan.']\n",
      " > Processing time: 0.28647708892822266\n",
      " > Real-time factor: 0.09170760468738835\n",
      " > Text splitted to sentences.\n",
      "['Fifth Third Bank has headquarters in Cincinnati.']\n"
     ]
    },
    {
     "name": "stderr",
     "output_type": "stream",
     "text": [
      "Processing Sentences:  32%|███▏      | 160/500 [02:27<04:07,  1.37it/s]"
     ]
    },
    {
     "name": "stdout",
     "output_type": "stream",
     "text": [
      " > Processing time: 0.35648226737976074\n",
      " > Real-time factor: 0.09563502525457131\n",
      " > Text splitted to sentences.\n",
      "['MOL Group was established on 1991-01-01.']\n",
      " > Processing time: 0.5442309379577637\n",
      " > Real-time factor: 0.1070078843448485\n",
      " > Text splitted to sentences.\n",
      "['OTP Bank is a type of Bank.']\n"
     ]
    },
    {
     "name": "stderr",
     "output_type": "stream",
     "text": [
      "Processing Sentences:  32%|███▏      | 161/500 [02:28<04:20,  1.30it/s]"
     ]
    },
    {
     "name": "stdout",
     "output_type": "stream",
     "text": [
      " > Processing time: 0.2712557315826416\n",
      " > Real-time factor: 0.0981423746619396\n",
      " > Text splitted to sentences.\n",
      "['MOL Group has origin country Hungary.']\n",
      " > Processing time: 0.28655481338500977\n",
      " > Real-time factor: 0.09490707815338058\n",
      " > Text splitted to sentences.\n",
      "['OTP Bank was established on 1949-01-01.']\n"
     ]
    },
    {
     "name": "stderr",
     "output_type": "stream",
     "text": [
      "Processing Sentences:  32%|███▏      | 162/500 [02:29<04:29,  1.25it/s]"
     ]
    },
    {
     "name": "stdout",
     "output_type": "stream",
     "text": [
      " > Processing time: 0.5353729724884033\n",
      " > Real-time factor: 0.1064815814274182\n",
      " > Text splitted to sentences.\n",
      "['MOL Group was established on 1991-01-01.']\n",
      " > Processing time: 0.5556168556213379\n",
      " > Real-time factor: 0.10704731988720205\n",
      " > Text splitted to sentences.\n",
      "['OTP Bank was established on 1949-01-01.']\n"
     ]
    },
    {
     "name": "stderr",
     "output_type": "stream",
     "text": [
      "Processing Sentences:  33%|███▎      | 163/500 [02:30<05:02,  1.11it/s]"
     ]
    },
    {
     "name": "stdout",
     "output_type": "stream",
     "text": [
      " > Processing time: 0.5279026031494141\n",
      " > Real-time factor: 0.10523879284902159\n",
      " > Text splitted to sentences.\n",
      "['OTP Bank was established on 1949-01-01.']\n",
      " > Processing time: 0.5878851413726807\n",
      " > Real-time factor: 0.10795192677604604\n",
      " > Text splitted to sentences.\n",
      "['MOL Group has origin country Hungary.']\n"
     ]
    },
    {
     "name": "stderr",
     "output_type": "stream",
     "text": [
      "Processing Sentences:  33%|███▎      | 164/500 [02:31<05:08,  1.09it/s]"
     ]
    },
    {
     "name": "stdout",
     "output_type": "stream",
     "text": [
      " > Processing time: 0.32942962646484375\n",
      " > Real-time factor: 0.11038055044295231\n",
      " > Text splitted to sentences.\n",
      "['MOL Group is a type of Petrol station.']\n",
      " > Processing time: 0.3244621753692627\n",
      " > Real-time factor: 0.09668095901205734\n",
      " > Text splitted to sentences.\n",
      "['OTP Bank was established on 1949-01-01.']\n"
     ]
    },
    {
     "name": "stderr",
     "output_type": "stream",
     "text": [
      "Processing Sentences:  33%|███▎      | 165/500 [02:32<05:04,  1.10it/s]"
     ]
    },
    {
     "name": "stdout",
     "output_type": "stream",
     "text": [
      " > Processing time: 0.5183475017547607\n",
      " > Real-time factor: 0.10191862617431584\n",
      " > Text splitted to sentences.\n",
      "['Carrefour is a type of Retail store.']\n",
      " > Processing time: 0.32873010635375977\n",
      " > Real-time factor: 0.0976149919885316\n",
      " > Text splitted to sentences.\n",
      "['Renault has origin country France.']\n"
     ]
    },
    {
     "name": "stderr",
     "output_type": "stream",
     "text": [
      "Processing Sentences:  33%|███▎      | 166/500 [02:32<04:39,  1.19it/s]"
     ]
    },
    {
     "name": "stdout",
     "output_type": "stream",
     "text": [
      " > Processing time: 0.3061046600341797\n",
      " > Real-time factor: 0.10336939098495562\n",
      " > Text splitted to sentences.\n",
      "['Renault was established on 1898-12-24.']\n",
      " > Processing time: 0.5591447353363037\n",
      " > Real-time factor: 0.10355749743117101\n",
      " > Text splitted to sentences.\n",
      "['Carrefour was established on 1959-11-30.']\n"
     ]
    },
    {
     "name": "stderr",
     "output_type": "stream",
     "text": [
      "Processing Sentences:  33%|███▎      | 167/500 [02:34<05:12,  1.07it/s]"
     ]
    },
    {
     "name": "stdout",
     "output_type": "stream",
     "text": [
      " > Processing time: 0.5582165718078613\n",
      " > Real-time factor: 0.10612390854224155\n",
      " > Text splitted to sentences.\n",
      "['Renault has origin country France.']\n",
      " > Processing time: 0.27379274368286133\n",
      " > Real-time factor: 0.09468522581880634\n",
      " > Text splitted to sentences.\n",
      "['Carrefour was established on 1959-11-30.']\n"
     ]
    },
    {
     "name": "stderr",
     "output_type": "stream",
     "text": [
      "Processing Sentences:  34%|███▎      | 168/500 [02:34<05:06,  1.08it/s]"
     ]
    },
    {
     "name": "stdout",
     "output_type": "stream",
     "text": [
      " > Processing time: 0.5668337345123291\n",
      " > Real-time factor: 0.10800051712633812\n",
      " > Text splitted to sentences.\n",
      "['Carrefour was established on 1959-11-30.']\n",
      " > Processing time: 0.5445449352264404\n",
      " > Real-time factor: 0.10284376988610912\n",
      " > Text splitted to sentences.\n",
      "['Renault has Louis Renault as CEO.']\n"
     ]
    },
    {
     "name": "stderr",
     "output_type": "stream",
     "text": [
      "Processing Sentences:  34%|███▍      | 169/500 [02:35<05:02,  1.09it/s]"
     ]
    },
    {
     "name": "stdout",
     "output_type": "stream",
     "text": [
      " > Processing time: 0.3043491840362549\n",
      " > Real-time factor: 0.10525250169384284\n",
      " > Text splitted to sentences.\n",
      "['Renault has Louis Renault as CEO.']\n",
      " > Processing time: 0.28641748428344727\n",
      " > Real-time factor: 0.09672117018576962\n",
      " > Text splitted to sentences.\n",
      "['Carrefour is a type of Retail store.']\n"
     ]
    },
    {
     "name": "stderr",
     "output_type": "stream",
     "text": [
      "Processing Sentences:  34%|███▍      | 170/500 [02:36<04:30,  1.22it/s]"
     ]
    },
    {
     "name": "stdout",
     "output_type": "stream",
     "text": [
      " > Processing time: 0.28458547592163086\n",
      " > Real-time factor: 0.09110205784076597\n",
      " > Text splitted to sentences.\n",
      "['Whataburger was established on 1950-01-01.']\n",
      " > Processing time: 0.5118672847747803\n",
      " > Real-time factor: 0.10911324080900914\n",
      " > Text splitted to sentences.\n",
      "['Valero Energy Corporation was established on 1980-01-01.']\n"
     ]
    },
    {
     "name": "stderr",
     "output_type": "stream",
     "text": [
      "Processing Sentences:  34%|███▍      | 171/500 [02:37<05:05,  1.08it/s]"
     ]
    },
    {
     "name": "stdout",
     "output_type": "stream",
     "text": [
      " > Processing time: 0.6151928901672363\n",
      " > Real-time factor: 0.10834667115165783\n",
      " > Text splitted to sentences.\n",
      "['Whataburger is a type of Restaurant.']\n",
      " > Processing time: 0.316180944442749\n",
      " > Real-time factor: 0.10635510472544875\n",
      " > Text splitted to sentences.\n",
      "['Valero Energy Corporation is a type of Petrol station.']\n"
     ]
    },
    {
     "name": "stderr",
     "output_type": "stream",
     "text": [
      "Processing Sentences:  34%|███▍      | 172/500 [02:38<04:52,  1.12it/s]"
     ]
    },
    {
     "name": "stdout",
     "output_type": "stream",
     "text": [
      " > Processing time: 0.446627140045166\n",
      " > Real-time factor: 0.09913158759457955\n",
      " > Text splitted to sentences.\n",
      "['Whataburger is a type of Restaurant.']\n",
      " > Processing time: 0.2750992774963379\n",
      " > Real-time factor: 0.09289909135007123\n",
      " > Text splitted to sentences.\n",
      "['Valero Energy Corporation is a type of Petrol station.']\n"
     ]
    },
    {
     "name": "stderr",
     "output_type": "stream",
     "text": [
      "Processing Sentences:  35%|███▍      | 173/500 [02:39<04:39,  1.17it/s]"
     ]
    },
    {
     "name": "stdout",
     "output_type": "stream",
     "text": [
      " > Processing time: 0.45842480659484863\n",
      " > Real-time factor: 0.09969491661488493\n",
      " > Text splitted to sentences.\n",
      "['Whataburger is a type of Restaurant.']\n",
      " > Processing time: 0.2934291362762451\n",
      " > Real-time factor: 0.09535063155640186\n",
      " > Text splitted to sentences.\n",
      "['Valero Energy Corporation has origin country United States of America.']\n"
     ]
    },
    {
     "name": "stderr",
     "output_type": "stream",
     "text": [
      "Processing Sentences:  35%|███▍      | 174/500 [02:40<04:42,  1.15it/s]"
     ]
    },
    {
     "name": "stdout",
     "output_type": "stream",
     "text": [
      " > Processing time: 0.5530717372894287\n",
      " > Real-time factor: 0.10849850362305964\n",
      " > Text splitted to sentences.\n",
      "['Whataburger was established on 1950-01-01.']\n",
      " > Processing time: 0.4685325622558594\n",
      " > Real-time factor: 0.1013811332012649\n",
      " > Text splitted to sentences.\n",
      "['Valero Energy Corporation has origin country United States of America.']\n"
     ]
    },
    {
     "name": "stderr",
     "output_type": "stream",
     "text": [
      "Processing Sentences:  35%|███▌      | 175/500 [02:41<05:00,  1.08it/s]"
     ]
    },
    {
     "name": "stdout",
     "output_type": "stream",
     "text": [
      " > Processing time: 0.5406172275543213\n",
      " > Real-time factor: 0.10509777355385795\n",
      " > Text splitted to sentences.\n",
      "['Husky Energy has origin country Canada.']\n",
      " > Processing time: 0.30916666984558105\n",
      " > Real-time factor: 0.09542448306404062\n",
      " > Text splitted to sentences.\n",
      "['Petro-Canada was established on 1975-01-01.']\n"
     ]
    },
    {
     "name": "stderr",
     "output_type": "stream",
     "text": [
      "Processing Sentences:  35%|███▌      | 176/500 [02:42<04:57,  1.09it/s]"
     ]
    },
    {
     "name": "stdout",
     "output_type": "stream",
     "text": [
      " > Processing time: 0.546804666519165\n",
      " > Real-time factor: 0.10582294355381609\n",
      " > Text splitted to sentences.\n",
      "['Petro-Canada has origin country Canada.']\n",
      " > Processing time: 0.2968778610229492\n",
      " > Real-time factor: 0.09398915741379553\n",
      " > Text splitted to sentences.\n",
      "['Husky Energy is a type of Petrol station.']\n"
     ]
    },
    {
     "name": "stderr",
     "output_type": "stream",
     "text": [
      "Processing Sentences:  35%|███▌      | 177/500 [02:42<04:35,  1.17it/s]"
     ]
    },
    {
     "name": "stdout",
     "output_type": "stream",
     "text": [
      " > Processing time: 0.3652026653289795\n",
      " > Real-time factor: 0.09767027423956916\n",
      " > Text splitted to sentences.\n",
      "['Petro-Canada has origin country Canada.']\n",
      " > Processing time: 0.3083651065826416\n",
      " > Real-time factor: 0.09621137933194543\n",
      " > Text splitted to sentences.\n",
      "['Husky Energy was established on 1938-01-01.']\n"
     ]
    },
    {
     "name": "stderr",
     "output_type": "stream",
     "text": [
      "Processing Sentences:  36%|███▌      | 178/500 [02:43<04:40,  1.15it/s]"
     ]
    },
    {
     "name": "stdout",
     "output_type": "stream",
     "text": [
      " > Processing time: 0.5607831478118896\n",
      " > Real-time factor: 0.10756148581465003\n",
      " > Text splitted to sentences.\n",
      "['Petro-Canada has origin country Canada.']\n",
      " > Processing time: 0.3202683925628662\n",
      " > Real-time factor: 0.09745415731965114\n",
      " > Text splitted to sentences.\n",
      "['Husky Energy is a type of Petrol station.']\n"
     ]
    },
    {
     "name": "stderr",
     "output_type": "stream",
     "text": [
      "Processing Sentences:  36%|███▌      | 179/500 [02:44<04:21,  1.23it/s]"
     ]
    },
    {
     "name": "stdout",
     "output_type": "stream",
     "text": [
      " > Processing time: 0.32433199882507324\n",
      " > Real-time factor: 0.09630899286378022\n",
      " > Text splitted to sentences.\n",
      "['Husky Energy has origin country Canada.']\n",
      " > Processing time: 0.30247998237609863\n",
      " > Real-time factor: 0.09302727643652331\n",
      " > Text splitted to sentences.\n",
      "['Petro-Canada has origin country Canada.']\n"
     ]
    },
    {
     "name": "stderr",
     "output_type": "stream",
     "text": [
      "Processing Sentences:  36%|███▌      | 180/500 [02:44<04:03,  1.31it/s]"
     ]
    },
    {
     "name": "stdout",
     "output_type": "stream",
     "text": [
      " > Processing time: 0.30569982528686523\n",
      " > Real-time factor: 0.09469376752606455\n",
      " > Text splitted to sentences.\n",
      "['Aptiv is a type of Auto showroom.']\n",
      " > Processing time: 0.29347991943359375\n",
      " > Real-time factor: 0.10529862378792537\n",
      " > Text splitted to sentences.\n",
      "[\"Wendy's has origin country United States of America.\"]\n"
     ]
    },
    {
     "name": "stderr",
     "output_type": "stream",
     "text": [
      "Processing Sentences:  36%|███▌      | 181/500 [02:45<04:03,  1.31it/s]"
     ]
    },
    {
     "name": "stdout",
     "output_type": "stream",
     "text": [
      " > Processing time: 0.4333362579345703\n",
      " > Real-time factor: 0.11040701247293025\n",
      " > Text splitted to sentences.\n",
      "['Ross Stores was established on 1954-01-01.']\n",
      " > Processing time: 0.5269272327423096\n",
      " > Real-time factor: 0.10602592971572425\n",
      " > Text splitted to sentences.\n",
      "['Allied Irish Banks was established on 1966-01-01.']\n"
     ]
    },
    {
     "name": "stderr",
     "output_type": "stream",
     "text": [
      "Processing Sentences:  36%|███▋      | 182/500 [02:46<04:39,  1.14it/s]"
     ]
    },
    {
     "name": "stdout",
     "output_type": "stream",
     "text": [
      " > Processing time: 0.5584361553192139\n",
      " > Real-time factor: 0.10103647453712637\n",
      " > Text splitted to sentences.\n",
      "['Allied Irish Banks is a type of Bank.']\n",
      " > Processing time: 0.3295762538909912\n",
      " > Real-time factor: 0.09620785318651182\n",
      " > Text splitted to sentences.\n",
      "['Bank of Ireland was established on 1783-01-01.']\n"
     ]
    },
    {
     "name": "stderr",
     "output_type": "stream",
     "text": [
      "Processing Sentences:  37%|███▋      | 183/500 [02:47<04:47,  1.10it/s]"
     ]
    },
    {
     "name": "stdout",
     "output_type": "stream",
     "text": [
      " > Processing time: 0.5993943214416504\n",
      " > Real-time factor: 0.10643477634799309\n",
      " > Text splitted to sentences.\n",
      "[\"Wendy's has Dave Thomas as CEO.\"]\n",
      " > Processing time: 0.2622954845428467\n",
      " > Real-time factor: 0.09333229141120852\n",
      " > Text splitted to sentences.\n",
      "['Aptiv has origin country United Kingdom.']\n"
     ]
    },
    {
     "name": "stderr",
     "output_type": "stream",
     "text": [
      "Processing Sentences:  37%|███▋      | 184/500 [02:48<04:16,  1.23it/s]"
     ]
    },
    {
     "name": "stdout",
     "output_type": "stream",
     "text": [
      " > Processing time: 0.29291367530822754\n",
      " > Real-time factor: 0.0930762413613445\n",
      " > Text splitted to sentences.\n",
      "['Bank of Ireland has origin country Ireland.']\n",
      " > Processing time: 0.34386181831359863\n",
      " > Real-time factor: 0.09430538673899067\n",
      " > Text splitted to sentences.\n",
      "['Ross Stores has origin country United States of America.']\n"
     ]
    },
    {
     "name": "stderr",
     "output_type": "stream",
     "text": [
      "Processing Sentences:  37%|███▋      | 185/500 [02:49<04:14,  1.24it/s]"
     ]
    },
    {
     "name": "stdout",
     "output_type": "stream",
     "text": [
      " > Processing time: 0.41371893882751465\n",
      " > Real-time factor: 0.09761280817867977\n",
      " > Text splitted to sentences.\n",
      "['Porsche was established on 1931-01-01.']\n",
      " > Processing time: 0.5233268737792969\n",
      " > Real-time factor: 0.1073069257442484\n",
      " > Text splitted to sentences.\n",
      "['Mercedes-Benz was established on 1926-01-01.']\n"
     ]
    },
    {
     "name": "stderr",
     "output_type": "stream",
     "text": [
      "Processing Sentences:  37%|███▋      | 186/500 [02:50<04:42,  1.11it/s]"
     ]
    },
    {
     "name": "stdout",
     "output_type": "stream",
     "text": [
      " > Processing time: 0.536949872970581\n",
      " > Real-time factor: 0.10345086588670237\n",
      " > Text splitted to sentences.\n",
      "['Mercedes-Benz has Paul Daimler as CEO.']\n",
      " > Processing time: 0.31757402420043945\n",
      " > Real-time factor: 0.09562086565462762\n",
      " > Text splitted to sentences.\n",
      "['Porsche is a type of Auto showroom.']\n"
     ]
    },
    {
     "name": "stderr",
     "output_type": "stream",
     "text": [
      "Processing Sentences:  37%|███▋      | 187/500 [02:51<04:17,  1.22it/s]"
     ]
    },
    {
     "name": "stdout",
     "output_type": "stream",
     "text": [
      " > Processing time: 0.28861069679260254\n",
      " > Real-time factor: 0.09414002757806043\n",
      " > Text splitted to sentences.\n",
      "['Porsche has origin country Germany.']\n",
      " > Processing time: 0.2946360111236572\n",
      " > Real-time factor: 0.10230417052904765\n",
      " > Text splitted to sentences.\n",
      "['Mercedes-Benz is a type of Auto showroom.']\n"
     ]
    },
    {
     "name": "stderr",
     "output_type": "stream",
     "text": [
      "Processing Sentences:  38%|███▊      | 188/500 [02:51<04:01,  1.29it/s]"
     ]
    },
    {
     "name": "stdout",
     "output_type": "stream",
     "text": [
      " > Processing time: 0.3329191207885742\n",
      " > Real-time factor: 0.09556429146776793\n",
      " > Text splitted to sentences.\n",
      "['Porsche is a type of Auto showroom.']\n",
      " > Processing time: 0.3120403289794922\n",
      " > Real-time factor: 0.09461618886135592\n",
      " > Text splitted to sentences.\n",
      "['Mercedes-Benz has Paul Daimler as CEO.']\n"
     ]
    },
    {
     "name": "stderr",
     "output_type": "stream",
     "text": [
      "Processing Sentences:  38%|███▊      | 189/500 [02:52<03:48,  1.36it/s]"
     ]
    },
    {
     "name": "stdout",
     "output_type": "stream",
     "text": [
      " > Processing time: 0.2941722869873047\n",
      " > Real-time factor: 0.0927915273527991\n",
      " > Text splitted to sentences.\n",
      "['Porsche is a type of Auto showroom.']\n",
      " > Processing time: 0.29877209663391113\n",
      " > Real-time factor: 0.09564350654439228\n",
      " > Text splitted to sentences.\n",
      "['Mercedes-Benz is a type of Auto showroom.']\n"
     ]
    },
    {
     "name": "stderr",
     "output_type": "stream",
     "text": [
      "Processing Sentences:  38%|███▊      | 190/500 [02:52<03:38,  1.42it/s]"
     ]
    },
    {
     "name": "stdout",
     "output_type": "stream",
     "text": [
      " > Processing time: 0.3087010383605957\n",
      " > Real-time factor: 0.09460276150560283\n",
      " > Text splitted to sentences.\n",
      "['UNIQLO is a type of Apparel store.']\n",
      " > Processing time: 0.29591917991638184\n",
      " > Real-time factor: 0.09437945378899879\n",
      " > Text splitted to sentences.\n",
      "['Ito-Yokado is a type of Retail store.']\n"
     ]
    },
    {
     "name": "stderr",
     "output_type": "stream",
     "text": [
      "Processing Sentences:  38%|███▊      | 191/500 [02:53<03:33,  1.45it/s]"
     ]
    },
    {
     "name": "stdout",
     "output_type": "stream",
     "text": [
      " > Processing time: 0.32562828063964844\n",
      " > Real-time factor: 0.0953786342734358\n",
      " > Text splitted to sentences.\n",
      "['Mister Donut is a type of Restaurant.']\n",
      " > Processing time: 1.2108519077301025\n",
      " > Real-time factor: 0.11153701526238538\n",
      " > Text splitted to sentences.\n",
      "['Athleta has origin country Brazil.']\n"
     ]
    },
    {
     "name": "stderr",
     "output_type": "stream",
     "text": [
      "Processing Sentences:  38%|███▊      | 192/500 [02:55<05:20,  1.04s/it]"
     ]
    },
    {
     "name": "stdout",
     "output_type": "stream",
     "text": [
      " > Processing time: 0.5479238033294678\n",
      " > Real-time factor: 0.18430741797984446\n",
      " > Text splitted to sentences.\n",
      "['Athleta has origin country Brazil.']\n",
      " > Processing time: 0.3619256019592285\n",
      " > Real-time factor: 0.1180541349585945\n",
      " > Text splitted to sentences.\n",
      "['Ito-Yokado has origin country Japan.']\n"
     ]
    },
    {
     "name": "stderr",
     "output_type": "stream",
     "text": [
      "Processing Sentences:  39%|███▊      | 193/500 [02:56<04:49,  1.06it/s]"
     ]
    },
    {
     "name": "stdout",
     "output_type": "stream",
     "text": [
      " > Processing time: 0.31551551818847656\n",
      " > Real-time factor: 0.09738405901534025\n",
      " > Text splitted to sentences.\n",
      "['Bridgestone was established on 1931-01-01.']\n",
      " > Processing time: 0.5265755653381348\n",
      " > Real-time factor: 0.10746141729329438\n",
      " > Text splitted to sentences.\n",
      "['Athleta has origin country Brazil.']\n"
     ]
    },
    {
     "name": "stderr",
     "output_type": "stream",
     "text": [
      "Processing Sentences:  39%|███▉      | 194/500 [02:57<04:39,  1.09it/s]"
     ]
    },
    {
     "name": "stdout",
     "output_type": "stream",
     "text": [
      " > Processing time: 0.28012800216674805\n",
      " > Real-time factor: 0.0942278259668171\n",
      " > Text splitted to sentences.\n",
      "['Bridgestone was established on 1931-01-01.']\n",
      " > Processing time: 0.5338089466094971\n",
      " > Real-time factor: 0.10377422126480648\n",
      " > Text splitted to sentences.\n",
      "['Athleta has origin country Brazil.']\n"
     ]
    },
    {
     "name": "stderr",
     "output_type": "stream",
     "text": [
      "Processing Sentences:  39%|███▉      | 195/500 [02:57<04:33,  1.12it/s]"
     ]
    },
    {
     "name": "stdout",
     "output_type": "stream",
     "text": [
      " > Processing time: 0.28049373626708984\n",
      " > Real-time factor: 0.09435084947353752\n",
      " > Text splitted to sentences.\n",
      "['Bharti Airtel has Sunil Mittal as CEO.']\n",
      " > Processing time: 0.3249952793121338\n",
      " > Real-time factor: 0.09717598596268917\n",
      " > Text splitted to sentences.\n",
      "['Fabindia was established on 1960-01-01.']\n"
     ]
    },
    {
     "name": "stderr",
     "output_type": "stream",
     "text": [
      "Processing Sentences:  39%|███▉      | 196/500 [02:58<04:30,  1.12it/s]"
     ]
    },
    {
     "name": "stdout",
     "output_type": "stream",
     "text": [
      " > Processing time: 0.503464937210083\n",
      " > Real-time factor: 0.10601033103019795\n",
      " > Text splitted to sentences.\n",
      "['Biba Apparels is a type of Apparel store.']\n",
      " > Processing time: 0.33939099311828613\n",
      " > Real-time factor: 0.09677699408051688\n",
      " > Text splitted to sentences.\n",
      "['Maruti Suzuki has Sanjay Gandhi as CEO.']\n"
     ]
    },
    {
     "name": "stderr",
     "output_type": "stream",
     "text": [
      "Processing Sentences:  39%|███▉      | 197/500 [02:59<04:17,  1.18it/s]"
     ]
    },
    {
     "name": "stdout",
     "output_type": "stream",
     "text": [
      " > Processing time: 0.3794748783111572\n",
      " > Real-time factor: 0.09843098375165887\n",
      " > Text splitted to sentences.\n",
      "['Fabindia is a type of Apparel store.']\n",
      " > Processing time: 0.32633018493652344\n",
      " > Real-time factor: 0.09558422659206085\n",
      " > Text splitted to sentences.\n",
      "['Maruti Suzuki has Sanjay Gandhi as CEO.']\n"
     ]
    },
    {
     "name": "stderr",
     "output_type": "stream",
     "text": [
      "Processing Sentences:  40%|███▉      | 198/500 [03:00<04:08,  1.22it/s]"
     ]
    },
    {
     "name": "stdout",
     "output_type": "stream",
     "text": [
      " > Processing time: 0.3915901184082031\n",
      " > Real-time factor: 0.10538178713753268\n",
      " > Text splitted to sentences.\n",
      "['Biba Apparels is a type of Apparel store.']\n",
      " > Processing time: 0.33481788635253906\n",
      " > Real-time factor: 0.10081295600384375\n",
      " > Text splitted to sentences.\n",
      "['Punjab National Bank was established on 1894-01-01.']\n"
     ]
    },
    {
     "name": "stderr",
     "output_type": "stream",
     "text": [
      "Processing Sentences:  40%|███▉      | 199/500 [03:01<04:22,  1.15it/s]"
     ]
    },
    {
     "name": "stdout",
     "output_type": "stream",
     "text": [
      " > Processing time: 0.6074743270874023\n",
      " > Real-time factor: 0.10611935061697635\n",
      " > Text splitted to sentences.\n",
      "['Bharti Airtel is a type of Telecom store.']\n",
      " > Processing time: 0.35811877250671387\n",
      " > Real-time factor: 0.10820706716965908\n",
      " > Text splitted to sentences.\n",
      "['Fabindia was established on 1960-01-01.']\n"
     ]
    },
    {
     "name": "stderr",
     "output_type": "stream",
     "text": [
      "Processing Sentences:  40%|████      | 200/500 [03:02<04:20,  1.15it/s]"
     ]
    },
    {
     "name": "stdout",
     "output_type": "stream",
     "text": [
      " > Processing time: 0.4580385684967041\n",
      " > Real-time factor: 0.10037118813953258\n",
      " > Text splitted to sentences.\n",
      "['Commonwealth Bank is a type of Bank.']\n",
      " > Processing time: 0.29347658157348633\n",
      " > Real-time factor: 0.09394829593053679\n",
      " > Text splitted to sentences.\n",
      "['Westpac has origin country Australia.']\n"
     ]
    },
    {
     "name": "stderr",
     "output_type": "stream",
     "text": [
      "Processing Sentences:  40%|████      | 201/500 [03:02<03:56,  1.26it/s]"
     ]
    },
    {
     "name": "stdout",
     "output_type": "stream",
     "text": [
      " > Processing time: 0.28519344329833984\n",
      " > Real-time factor: 0.09409437731518425\n",
      " > Text splitted to sentences.\n",
      "['Woolworths Limited is a type of Retail store.']\n",
      " > Processing time: 0.373215913772583\n",
      " > Real-time factor: 0.09889217096093847\n",
      " > Text splitted to sentences.\n",
      "['Westpac is a type of Bank.']\n"
     ]
    },
    {
     "name": "stderr",
     "output_type": "stream",
     "text": [
      "Processing Sentences:  40%|████      | 202/500 [03:03<03:47,  1.31it/s]"
     ]
    },
    {
     "name": "stdout",
     "output_type": "stream",
     "text": [
      " > Processing time: 0.29491543769836426\n",
      " > Real-time factor: 0.11439075079596349\n",
      " > Text splitted to sentences.\n",
      "['Commonwealth Bank was established on 1911-12-22.']\n",
      " > Processing time: 0.5958821773529053\n",
      " > Real-time factor: 0.1066909348661131\n",
      " > Text splitted to sentences.\n",
      "['Westpac has origin country Australia.']\n"
     ]
    },
    {
     "name": "stderr",
     "output_type": "stream",
     "text": [
      "Processing Sentences:  41%|████      | 203/500 [03:04<04:02,  1.22it/s]"
     ]
    },
    {
     "name": "stdout",
     "output_type": "stream",
     "text": [
      " > Processing time: 0.30035901069641113\n",
      " > Real-time factor: 0.09579547827262014\n",
      " > Text splitted to sentences.\n",
      "['Westpac is a type of Bank.']\n",
      " > Processing time: 0.28742170333862305\n",
      " > Real-time factor: 0.10714174598689205\n",
      " > Text splitted to sentences.\n",
      "['Woolworths Limited is a type of Retail store.']\n"
     ]
    },
    {
     "name": "stderr",
     "output_type": "stream",
     "text": [
      "Processing Sentences:  41%|████      | 204/500 [03:05<03:53,  1.27it/s]"
     ]
    },
    {
     "name": "stdout",
     "output_type": "stream",
     "text": [
      " > Processing time: 0.4009237289428711\n",
      " > Real-time factor: 0.09921404452314496\n",
      " > Text splitted to sentences.\n",
      "['Woolworths Limited is a type of Retail store.']\n",
      " > Processing time: 0.3737063407897949\n",
      " > Real-time factor: 0.09963514236814396\n",
      " > Text splitted to sentences.\n",
      "['Commonwealth Bank has origin country Australia.']\n"
     ]
    },
    {
     "name": "stderr",
     "output_type": "stream",
     "text": [
      "Processing Sentences:  41%|████      | 205/500 [03:05<03:55,  1.26it/s]"
     ]
    },
    {
     "name": "stdout",
     "output_type": "stream",
     "text": [
      " > Processing time: 0.39853596687316895\n",
      " > Real-time factor: 0.10527743518249684\n",
      " > Text splitted to sentences.\n",
      "['Kasikornbank was established on 1945-06-08.']\n",
      " > Processing time: 0.5476930141448975\n",
      " > Real-time factor: 0.1084311787269698\n",
      " > Text splitted to sentences.\n",
      "['Bangkok Bank has origin country Thailand.']\n"
     ]
    },
    {
     "name": "stderr",
     "output_type": "stream",
     "text": [
      "Processing Sentences:  41%|████      | 206/500 [03:06<04:02,  1.21it/s]"
     ]
    },
    {
     "name": "stdout",
     "output_type": "stream",
     "text": [
      " > Processing time: 0.2962367534637451\n",
      " > Real-time factor: 0.09483188754174768\n",
      " > Text splitted to sentences.\n",
      "['Kasikornbank was established on 1945-06-08.']\n",
      " > Processing time: 0.55525803565979\n",
      " > Real-time factor: 0.10721801602825391\n",
      " > Text splitted to sentences.\n",
      "['Bangkok Bank is a type of Bank.']\n"
     ]
    },
    {
     "name": "stderr",
     "output_type": "stream",
     "text": [
      "Processing Sentences:  41%|████▏     | 207/500 [03:07<04:05,  1.20it/s]"
     ]
    },
    {
     "name": "stdout",
     "output_type": "stream",
     "text": [
      " > Processing time: 0.2670266628265381\n",
      " > Real-time factor: 0.0919760359179762\n",
      " > Text splitted to sentences.\n",
      "['Bangkok Bank is a type of Bank.']\n",
      " > Processing time: 0.25796079635620117\n",
      " > Real-time factor: 0.09255460100973437\n",
      " > Text splitted to sentences.\n",
      "['Kasikornbank was established on 1945-06-08.']\n"
     ]
    },
    {
     "name": "stderr",
     "output_type": "stream",
     "text": [
      "Processing Sentences:  42%|████▏     | 208/500 [03:08<04:06,  1.19it/s]"
     ]
    },
    {
     "name": "stdout",
     "output_type": "stream",
     "text": [
      " > Processing time: 0.556873083114624\n",
      " > Real-time factor: 0.10633791293714025\n",
      " > Text splitted to sentences.\n",
      "['Bangkok Bank has Chin Sophonpanich as CEO.']\n",
      " > Processing time: 0.3343954086303711\n",
      " > Real-time factor: 0.09535250828030833\n",
      " > Text splitted to sentences.\n",
      "['Kasikornbank has origin country Thailand.']\n"
     ]
    },
    {
     "name": "stderr",
     "output_type": "stream",
     "text": [
      "Processing Sentences:  42%|████▏     | 209/500 [03:09<03:51,  1.25it/s]"
     ]
    },
    {
     "name": "stdout",
     "output_type": "stream",
     "text": [
      " > Processing time: 0.3199629783630371\n",
      " > Real-time factor: 0.09770639919267904\n",
      " > Text splitted to sentences.\n",
      "['Kasikornbank has origin country Thailand.']\n",
      " > Processing time: 0.3100605010986328\n",
      " > Real-time factor: 0.09468250123566438\n",
      " > Text splitted to sentences.\n",
      "['Bangkok Bank has origin country Thailand.']\n"
     ]
    },
    {
     "name": "stderr",
     "output_type": "stream",
     "text": [
      "Processing Sentences:  42%|████▏     | 210/500 [03:09<03:37,  1.33it/s]"
     ]
    },
    {
     "name": "stdout",
     "output_type": "stream",
     "text": [
      " > Processing time: 0.30107736587524414\n",
      " > Real-time factor: 0.093598521282838\n",
      " > Text splitted to sentences.\n",
      "['Texaco is a type of Petrol station.']\n",
      " > Processing time: 1.0564095973968506\n",
      " > Real-time factor: 0.10704098789887029\n",
      " > Text splitted to sentences.\n",
      "['Chevron Corporation is a type of Petrol station.']\n"
     ]
    },
    {
     "name": "stderr",
     "output_type": "stream",
     "text": [
      "Processing Sentences:  42%|████▏     | 211/500 [03:11<04:41,  1.03it/s]"
     ]
    },
    {
     "name": "stdout",
     "output_type": "stream",
     "text": [
      " > Processing time: 0.3664066791534424\n",
      " > Real-time factor: 0.09860460939432489\n",
      " > Text splitted to sentences.\n",
      "['Chevron Corporation has origin country United States of America.']\n",
      " > Processing time: 0.46404266357421875\n",
      " > Real-time factor: 0.10066248949129863\n",
      " > Text splitted to sentences.\n",
      "['Texaco has origin country United States of America.']\n"
     ]
    },
    {
     "name": "stderr",
     "output_type": "stream",
     "text": [
      "Processing Sentences:  42%|████▏     | 212/500 [03:12<04:33,  1.05it/s]"
     ]
    },
    {
     "name": "stdout",
     "output_type": "stream",
     "text": [
      " > Processing time: 0.379197359085083\n",
      " > Real-time factor: 0.09865609977140458\n",
      " > Text splitted to sentences.\n",
      "['Texaco was established on 1901-01-01.']\n",
      " > Processing time: 0.46602702140808105\n",
      " > Real-time factor: 0.09958807394603995\n",
      " > Text splitted to sentences.\n",
      "['Chevron Corporation was established on 1879-01-01.']\n"
     ]
    },
    {
     "name": "stderr",
     "output_type": "stream",
     "text": [
      "Processing Sentences:  43%|████▎     | 213/500 [03:13<04:47,  1.00s/it]"
     ]
    },
    {
     "name": "stdout",
     "output_type": "stream",
     "text": [
      " > Processing time: 0.6071245670318604\n",
      " > Real-time factor: 0.10825379013336558\n",
      " > Text splitted to sentences.\n",
      "['Texaco was established on 1901-01-01.']\n",
      " > Processing time: 0.4578433036804199\n",
      " > Real-time factor: 0.09956845556013552\n",
      " > Text splitted to sentences.\n",
      "['Chevron Corporation was established on 1879-01-01.']\n"
     ]
    },
    {
     "name": "stderr",
     "output_type": "stream",
     "text": [
      "Processing Sentences:  43%|████▎     | 214/500 [03:14<04:53,  1.03s/it]"
     ]
    },
    {
     "name": "stdout",
     "output_type": "stream",
     "text": [
      " > Processing time: 0.5705606937408447\n",
      " > Real-time factor: 0.10173424195388817\n",
      " > Text splitted to sentences.\n",
      "['Texaco has Arnold Schlaet as CEO.']\n",
      " > Processing time: 0.35375380516052246\n",
      " > Real-time factor: 0.09732820178415752\n",
      " > Text splitted to sentences.\n",
      "['Chevron Corporation was established on 1879-01-01.']\n"
     ]
    },
    {
     "name": "stderr",
     "output_type": "stream",
     "text": [
      "Processing Sentences:  43%|████▎     | 215/500 [03:15<04:50,  1.02s/it]"
     ]
    },
    {
     "name": "stdout",
     "output_type": "stream",
     "text": [
      " > Processing time: 0.5962142944335938\n",
      " > Real-time factor: 0.1065289543000514\n",
      " > Text splitted to sentences.\n",
      "['Pingo Doce is a type of Retail store.']\n",
      " > Processing time: 0.3488802909851074\n",
      " > Real-time factor: 0.1076821166884325\n",
      " > Text splitted to sentences.\n",
      "['Galp Energia is a type of Petrol station.']\n"
     ]
    },
    {
     "name": "stderr",
     "output_type": "stream",
     "text": [
      "Processing Sentences:  43%|████▎     | 216/500 [03:16<04:27,  1.06it/s]"
     ]
    },
    {
     "name": "stdout",
     "output_type": "stream",
     "text": [
      " > Processing time: 0.3842587471008301\n",
      " > Real-time factor: 0.1002758162939465\n",
      " > Text splitted to sentences.\n",
      "['Galp Energia was established on 1999-01-01.']\n",
      " > Processing time: 0.5311431884765625\n",
      " > Real-time factor: 0.1012002912511078\n",
      " > Text splitted to sentences.\n",
      "['Pingo Doce was established on 1980-01-01.']\n"
     ]
    },
    {
     "name": "stderr",
     "output_type": "stream",
     "text": [
      "Processing Sentences:  43%|████▎     | 217/500 [03:17<04:37,  1.02it/s]"
     ]
    },
    {
     "name": "stdout",
     "output_type": "stream",
     "text": [
      " > Processing time: 0.48853158950805664\n",
      " > Real-time factor: 0.10518006511338707\n",
      " > Text splitted to sentences.\n",
      "['Pingo Doce was established on 1980-01-01.']\n",
      " > Processing time: 0.4600210189819336\n",
      " > Real-time factor: 0.09928997130532141\n",
      " > Text splitted to sentences.\n",
      "['Galp Energia was established on 1999-01-01.']\n"
     ]
    },
    {
     "name": "stderr",
     "output_type": "stream",
     "text": [
      "Processing Sentences:  44%|████▎     | 218/500 [03:20<08:09,  1.74s/it]"
     ]
    },
    {
     "name": "stdout",
     "output_type": "stream",
     "text": [
      " > Processing time: 2.874445676803589\n",
      " > Real-time factor: 0.10811237270666592\n",
      " > Text splitted to sentences.\n",
      "['Pingo Doce was established on 1980-01-01.']\n",
      "   > Decoder stopped with `max_decoder_steps` 10000\n",
      " > Processing time: 12.940043210983276\n",
      " > Real-time factor: 0.11091206922372317\n",
      " > Text splitted to sentences.\n",
      "['Galp Energia has origin country Portugal.']\n"
     ]
    },
    {
     "name": "stderr",
     "output_type": "stream",
     "text": [
      "Processing Sentences:  44%|████▍     | 219/500 [03:34<25:12,  5.38s/it]"
     ]
    },
    {
     "name": "stdout",
     "output_type": "stream",
     "text": [
      " > Processing time: 0.3245251178741455\n",
      " > Real-time factor: 0.0947333569308\n",
      " > Text splitted to sentences.\n",
      "['Pingo Doce is a type of Retail store.']\n",
      " > Processing time: 0.3150289058685303\n",
      " > Real-time factor: 0.09485453591873898\n",
      " > Text splitted to sentences.\n",
      "['Galp Energia has origin country Portugal.']\n"
     ]
    },
    {
     "name": "stderr",
     "output_type": "stream",
     "text": [
      "Processing Sentences:  44%|████▍     | 220/500 [03:35<18:32,  3.97s/it]"
     ]
    },
    {
     "name": "stdout",
     "output_type": "stream",
     "text": [
      " > Processing time: 0.3290674686431885\n",
      " > Real-time factor: 0.09839360061269128\n",
      " > Text splitted to sentences.\n",
      "['Big Lots has origin country United States of America.']\n",
      " > Processing time: 0.3996610641479492\n",
      " > Real-time factor: 0.10212922381399824\n",
      " > Text splitted to sentences.\n",
      "['Huntington Bancshares has origin country United States of America.']\n"
     ]
    },
    {
     "name": "stderr",
     "output_type": "stream",
     "text": [
      "Processing Sentences:  44%|████▍     | 221/500 [03:36<14:12,  3.06s/it]"
     ]
    },
    {
     "name": "stdout",
     "output_type": "stream",
     "text": [
      " > Processing time: 0.47662782669067383\n",
      " > Real-time factor: 0.10417965482285248\n",
      " > Text splitted to sentences.\n",
      "['Huntington Bancshares is a type of Bank.']\n",
      " > Processing time: 0.30146145820617676\n",
      " > Real-time factor: 0.09173141357703408\n",
      " > Text splitted to sentences.\n",
      "[\"Victoria's Secret has Roy Raymond as CEO.\"]\n"
     ]
    },
    {
     "name": "stderr",
     "output_type": "stream",
     "text": [
      "Processing Sentences:  44%|████▍     | 222/500 [03:37<11:17,  2.44s/it]"
     ]
    },
    {
     "name": "stdout",
     "output_type": "stream",
     "text": [
      " > Processing time: 0.6417446136474609\n",
      " > Real-time factor: 0.10669613894111558\n",
      " > Text splitted to sentences.\n",
      "['Bath & Body Works has Les Wexner as CEO.']\n",
      " > Processing time: 0.39862680435180664\n",
      " > Real-time factor: 0.09670085631884062\n",
      " > Text splitted to sentences.\n",
      "['Big Lots was established on 1967-01-01.']\n"
     ]
    },
    {
     "name": "stderr",
     "output_type": "stream",
     "text": [
      "Processing Sentences:  45%|████▍     | 223/500 [03:38<09:09,  1.98s/it]"
     ]
    },
    {
     "name": "stdout",
     "output_type": "stream",
     "text": [
      " > Processing time: 0.48069000244140625\n",
      " > Real-time factor: 0.09856433709486133\n",
      " > Text splitted to sentences.\n",
      "[\"Victoria's Secret has Roy Raymond as CEO.\"]\n",
      " > Processing time: 0.349942684173584\n",
      " > Real-time factor: 0.09721119968287048\n",
      " > Text splitted to sentences.\n",
      "['Lane Bryant has Lena Himmelstein as CEO.']\n"
     ]
    },
    {
     "name": "stderr",
     "output_type": "stream",
     "text": [
      "Processing Sentences:  45%|████▍     | 224/500 [03:38<07:21,  1.60s/it]"
     ]
    },
    {
     "name": "stdout",
     "output_type": "stream",
     "text": [
      " > Processing time: 0.3118166923522949\n",
      " > Real-time factor: 0.09356028285390952\n",
      " > Text splitted to sentences.\n",
      "['Bath & Body Works has origin country United States of America.']\n",
      " > Processing time: 0.5183248519897461\n",
      " > Real-time factor: 0.10191417272768852\n",
      " > Text splitted to sentences.\n",
      "['Lane Bryant has Lena Himmelstein as CEO.']\n"
     ]
    },
    {
     "name": "stderr",
     "output_type": "stream",
     "text": [
      "Processing Sentences:  45%|████▌     | 225/500 [03:39<06:23,  1.40s/it]"
     ]
    },
    {
     "name": "stdout",
     "output_type": "stream",
     "text": [
      " > Processing time: 0.3601534366607666\n",
      " > Real-time factor: 0.10442593202148516\n",
      " > Text splitted to sentences.\n",
      "['Chick-fil-A is a type of Restaurant.']\n",
      " > Processing time: 0.3066883087158203\n",
      " > Real-time factor: 0.09638650523352107\n",
      " > Text splitted to sentences.\n",
      "['Cinnabon was established on 1985-01-01.']\n",
      "   > Decoder stopped with `max_decoder_steps` 10000\n"
     ]
    },
    {
     "name": "stderr",
     "output_type": "stream",
     "text": [
      "Processing Sentences:  45%|████▌     | 226/500 [03:53<23:18,  5.11s/it]"
     ]
    },
    {
     "name": "stdout",
     "output_type": "stream",
     "text": [
      " > Processing time: 12.841918706893921\n",
      " > Real-time factor: 0.11007102166208406\n",
      " > Text splitted to sentences.\n",
      "['Chick-fil-A has S. Truett Cathy as CEO.']\n",
      " > Processing time: 0.40093159675598145\n",
      " > Real-time factor: 0.09864914422055648\n",
      " > Text splitted to sentences.\n",
      "['Popeyes Louisiana Kitchen is a type of Restaurant.']\n"
     ]
    },
    {
     "name": "stderr",
     "output_type": "stream",
     "text": [
      "Processing Sentences:  45%|████▌     | 227/500 [03:54<17:26,  3.83s/it]"
     ]
    },
    {
     "name": "stdout",
     "output_type": "stream",
     "text": [
      " > Processing time: 0.42117881774902344\n",
      " > Real-time factor: 0.10543815771305594\n",
      " > Text splitted to sentences.\n",
      "['The Home Depot has origin country United States of America.']\n",
      " > Processing time: 0.40444517135620117\n",
      " > Real-time factor: 0.09648191133378306\n",
      " > Text splitted to sentences.\n",
      "['National Automotive Parts Association was established on 1925-01-01.']\n"
     ]
    },
    {
     "name": "stderr",
     "output_type": "stream",
     "text": [
      "Processing Sentences:  46%|████▌     | 228/500 [03:55<13:44,  3.03s/it]"
     ]
    },
    {
     "name": "stdout",
     "output_type": "stream",
     "text": [
      " > Processing time: 0.7021362781524658\n",
      " > Real-time factor: 0.1085640702713864\n",
      " > Text splitted to sentences.\n",
      "['Popeyes Louisiana Kitchen is a type of Restaurant.']\n",
      " > Processing time: 0.4027583599090576\n",
      " > Real-time factor: 0.1032269601542998\n",
      " > Text splitted to sentences.\n",
      "['SunTrust Banks is a type of Bank.']\n"
     ]
    },
    {
     "name": "stderr",
     "output_type": "stream",
     "text": [
      "Processing Sentences:  46%|████▌     | 229/500 [03:56<10:34,  2.34s/it]"
     ]
    },
    {
     "name": "stdout",
     "output_type": "stream",
     "text": [
      " > Processing time: 0.28217101097106934\n",
      " > Real-time factor: 0.09345516089750178\n",
      " > Text splitted to sentences.\n",
      "['SunTrust Banks was established on 1811-01-01.']\n",
      " > Processing time: 0.5198278427124023\n",
      " > Real-time factor: 0.10037659320975613\n",
      " > Text splitted to sentences.\n",
      "['Chick-fil-A was established on 1946-01-01.']\n"
     ]
    },
    {
     "name": "stderr",
     "output_type": "stream",
     "text": [
      "Processing Sentences:  46%|████▌     | 230/500 [03:57<08:55,  1.98s/it]"
     ]
    },
    {
     "name": "stdout",
     "output_type": "stream",
     "text": [
      " > Processing time: 0.5828735828399658\n",
      " > Real-time factor: 0.10984174160417447\n",
      " > Text splitted to sentences.\n",
      "['Massimo Dutti has origin country Spain.']\n",
      " > Processing time: 0.3224804401397705\n",
      " > Real-time factor: 0.10247137573613586\n",
      " > Text splitted to sentences.\n",
      "['Oysho was established on 1977-01-01.']\n"
     ]
    },
    {
     "name": "stderr",
     "output_type": "stream",
     "text": [
      "Processing Sentences:  46%|████▌     | 231/500 [03:58<07:25,  1.66s/it]"
     ]
    },
    {
     "name": "stdout",
     "output_type": "stream",
     "text": [
      " > Processing time: 0.5268969535827637\n",
      " > Real-time factor: 0.10986985385932005\n",
      " > Text splitted to sentences.\n",
      "['Oysho is a type of Apparel store.']\n",
      " > Processing time: 0.2826814651489258\n",
      " > Real-time factor: 0.09659568414539135\n",
      " > Text splitted to sentences.\n",
      "['Massimo Dutti is a type of Apparel store.']\n"
     ]
    },
    {
     "name": "stderr",
     "output_type": "stream",
     "text": [
      "Processing Sentences:  46%|████▋     | 232/500 [03:59<06:03,  1.36s/it]"
     ]
    },
    {
     "name": "stdout",
     "output_type": "stream",
     "text": [
      " > Processing time: 0.3451380729675293\n",
      " > Real-time factor: 0.09587651820366384\n",
      " > Text splitted to sentences.\n",
      "['Oysho is a type of Apparel store.']\n",
      " > Processing time: 0.2689378261566162\n",
      " > Real-time factor: 0.09338118963771397\n",
      " > Text splitted to sentences.\n",
      "['Massimo Dutti has origin country Spain.']\n"
     ]
    },
    {
     "name": "stderr",
     "output_type": "stream",
     "text": [
      "Processing Sentences:  47%|████▋     | 233/500 [03:59<05:22,  1.21s/it]"
     ]
    },
    {
     "name": "stdout",
     "output_type": "stream",
     "text": [
      " > Processing time: 0.5492007732391357\n",
      " > Real-time factor: 0.10084840980948487\n",
      " > Text splitted to sentences.\n",
      "['Massimo Dutti is a type of Apparel store.']\n",
      " > Processing time: 0.36800098419189453\n",
      " > Real-time factor: 0.0984186602638181\n",
      " > Text splitted to sentences.\n",
      "['Oysho is a type of Apparel store.']\n"
     ]
    },
    {
     "name": "stderr",
     "output_type": "stream",
     "text": [
      "Processing Sentences:  47%|████▋     | 234/500 [04:00<04:37,  1.04s/it]"
     ]
    },
    {
     "name": "stdout",
     "output_type": "stream",
     "text": [
      " > Processing time: 0.2575104236602783\n",
      " > Real-time factor: 0.09162962886827293\n",
      " > Text splitted to sentences.\n",
      "['Oysho was established on 1977-01-01.']\n",
      " > Processing time: 0.4799058437347412\n",
      " > Real-time factor: 0.10031400589973309\n",
      " > Text splitted to sentences.\n",
      "['Massimo Dutti has origin country Spain.']\n"
     ]
    },
    {
     "name": "stderr",
     "output_type": "stream",
     "text": [
      "Processing Sentences:  47%|████▋     | 235/500 [04:02<05:42,  1.29s/it]"
     ]
    },
    {
     "name": "stdout",
     "output_type": "stream",
     "text": [
      " > Processing time: 1.3097507953643799\n",
      " > Real-time factor: 0.10522942429088417\n",
      " > Text splitted to sentences.\n",
      "['Fifth Third Bank has origin country United States of America.']\n",
      " > Processing time: 0.4775092601776123\n",
      " > Real-time factor: 0.10653512209523587\n",
      " > Text splitted to sentences.\n",
      "['Kroger was established on 1883-01-01.']\n"
     ]
    },
    {
     "name": "stderr",
     "output_type": "stream",
     "text": [
      "Processing Sentences:  47%|████▋     | 236/500 [04:03<05:18,  1.21s/it]"
     ]
    },
    {
     "name": "stdout",
     "output_type": "stream",
     "text": [
      " > Processing time: 0.47737717628479004\n",
      " > Real-time factor: 0.09930345978377\n",
      " > Text splitted to sentences.\n",
      "['Fifth Third Bank was established on 1858-06-17.']\n",
      " > Processing time: 0.6131236553192139\n",
      " > Real-time factor: 0.10581853944731266\n",
      " > Text splitted to sentences.\n",
      "['Kroger is a type of Retail store.']\n"
     ]
    },
    {
     "name": "stderr",
     "output_type": "stream",
     "text": [
      "Processing Sentences:  47%|████▋     | 237/500 [04:04<04:58,  1.14s/it]"
     ]
    },
    {
     "name": "stdout",
     "output_type": "stream",
     "text": [
      " > Processing time: 0.310990571975708\n",
      " > Real-time factor: 0.09564469582772207\n",
      " > Text splitted to sentences.\n",
      "['Kroger is a type of Retail store.']\n",
      " > Processing time: 0.29020023345947266\n",
      " > Real-time factor: 0.09430139041177453\n",
      " > Text splitted to sentences.\n",
      "['Fifth Third Bank is a type of Bank.']\n"
     ]
    },
    {
     "name": "stderr",
     "output_type": "stream",
     "text": [
      "Processing Sentences:  48%|████▊     | 238/500 [04:05<04:19,  1.01it/s]"
     ]
    },
    {
     "name": "stdout",
     "output_type": "stream",
     "text": [
      " > Processing time: 0.3326706886291504\n",
      " > Real-time factor: 0.10769598138760814\n",
      " > Text splitted to sentences.\n",
      "['Fifth Third Bank is a type of Bank.']\n",
      " > Processing time: 0.28415393829345703\n",
      " > Real-time factor: 0.09411190728446779\n",
      " > Text splitted to sentences.\n",
      "['Kroger has origin country United States of America.']\n"
     ]
    },
    {
     "name": "stderr",
     "output_type": "stream",
     "text": [
      "Processing Sentences:  48%|████▊     | 239/500 [04:05<03:58,  1.09it/s]"
     ]
    },
    {
     "name": "stdout",
     "output_type": "stream",
     "text": [
      " > Processing time: 0.41466689109802246\n",
      " > Real-time factor: 0.10723640632284898\n",
      " > Text splitted to sentences.\n",
      "['Kroger has Bernard Kroger as CEO.']\n",
      " > Processing time: 0.2967855930328369\n",
      " > Real-time factor: 0.09536200638805743\n",
      " > Text splitted to sentences.\n",
      "['Fifth Third Bank is a type of Bank.']\n"
     ]
    },
    {
     "name": "stderr",
     "output_type": "stream",
     "text": [
      "Processing Sentences:  48%|████▊     | 240/500 [04:06<03:34,  1.21it/s]"
     ]
    },
    {
     "name": "stdout",
     "output_type": "stream",
     "text": [
      " > Processing time: 0.2902812957763672\n",
      " > Real-time factor: 0.09432773184197266\n",
      " > Text splitted to sentences.\n",
      "['U.S. Bancorp was established on 1850-01-01.']\n",
      " > Processing time: 0.6099169254302979\n",
      " > Real-time factor: 0.1034003890833595\n",
      " > Text splitted to sentences.\n",
      "['Target Corporation was established on 1902-06-24.']\n"
     ]
    },
    {
     "name": "stderr",
     "output_type": "stream",
     "text": [
      "Processing Sentences:  48%|████▊     | 241/500 [04:07<04:09,  1.04it/s]"
     ]
    },
    {
     "name": "stdout",
     "output_type": "stream",
     "text": [
      " > Processing time: 0.6146612167358398\n",
      " > Real-time factor: 0.10694104144856448\n",
      " > Text splitted to sentences.\n",
      "['U.S. Bancorp was established on 1850-01-01.']\n",
      "   > Decoder stopped with `max_decoder_steps` 10000\n",
      " > Processing time: 12.937570095062256\n",
      " > Real-time factor: 0.11089087158166291\n",
      " > Text splitted to sentences.\n",
      "['Target Corporation is a type of Retail store.']\n"
     ]
    },
    {
     "name": "stderr",
     "output_type": "stream",
     "text": [
      "Processing Sentences:  48%|████▊     | 242/500 [04:21<20:51,  4.85s/it]"
     ]
    },
    {
     "name": "stdout",
     "output_type": "stream",
     "text": [
      " > Processing time: 0.364534854888916\n",
      " > Real-time factor: 0.09600126063324811\n",
      " > Text splitted to sentences.\n",
      "['U.S. Bancorp is a type of Bank.']\n",
      " > Processing time: 0.4082808494567871\n",
      " > Real-time factor: 0.0968603969112816\n",
      " > Text splitted to sentences.\n",
      "['Target Corporation has George Dayton as CEO.']\n"
     ]
    },
    {
     "name": "stderr",
     "output_type": "stream",
     "text": [
      "Processing Sentences:  49%|████▊     | 243/500 [04:22<15:35,  3.64s/it]"
     ]
    },
    {
     "name": "stdout",
     "output_type": "stream",
     "text": [
      " > Processing time: 0.3580644130706787\n",
      " > Real-time factor: 0.0966616100417295\n",
      " > Text splitted to sentences.\n",
      "['Target Corporation is a type of Retail store.']\n",
      " > Processing time: 0.3643932342529297\n",
      " > Real-time factor: 0.0956714471241796\n",
      " > Text splitted to sentences.\n",
      "['U.S. Bancorp was established on 1850-01-01.']\n"
     ]
    },
    {
     "name": "stderr",
     "output_type": "stream",
     "text": [
      "Processing Sentences:  49%|████▉     | 244/500 [04:23<12:12,  2.86s/it]"
     ]
    },
    {
     "name": "stdout",
     "output_type": "stream",
     "text": [
      " > Processing time: 0.6370179653167725\n",
      " > Real-time factor: 0.10736093719605931\n",
      " > Text splitted to sentences.\n",
      "['U.S. Bancorp is a type of Bank.']\n",
      " > Processing time: 0.5132360458374023\n",
      " > Real-time factor: 0.10091360046649596\n",
      " > Text splitted to sentences.\n",
      "['Target Corporation has origin country United States of America.']\n"
     ]
    },
    {
     "name": "stderr",
     "output_type": "stream",
     "text": [
      "Processing Sentences:  49%|████▉     | 245/500 [04:24<09:50,  2.32s/it]"
     ]
    },
    {
     "name": "stdout",
     "output_type": "stream",
     "text": [
      " > Processing time: 0.48314785957336426\n",
      " > Real-time factor: 0.10696195083928396\n",
      " > Text splitted to sentences.\n",
      "['Bank Leumi was established on 1902-01-01.']\n",
      " > Processing time: 0.4905555248260498\n",
      " > Real-time factor: 0.10011059272188655\n",
      " > Text splitted to sentences.\n",
      "['Bank Hapoalim was established on 1921-01-01.']\n"
     ]
    },
    {
     "name": "stderr",
     "output_type": "stream",
     "text": [
      "Processing Sentences:  49%|████▉     | 246/500 [04:25<08:12,  1.94s/it]"
     ]
    },
    {
     "name": "stdout",
     "output_type": "stream",
     "text": [
      " > Processing time: 0.5073146820068359\n",
      " > Real-time factor: 0.10090100247375822\n",
      " > Text splitted to sentences.\n",
      "['Bank Hapoalim was established on 1921-01-01.']\n",
      " > Processing time: 0.5298457145690918\n",
      " > Real-time factor: 0.10489780568747732\n",
      " > Text splitted to sentences.\n",
      "['Bank Leumi has origin country Israel.']\n"
     ]
    },
    {
     "name": "stderr",
     "output_type": "stream",
     "text": [
      "Processing Sentences:  49%|████▉     | 247/500 [04:26<06:47,  1.61s/it]"
     ]
    },
    {
     "name": "stdout",
     "output_type": "stream",
     "text": [
      " > Processing time: 0.281296968460083\n",
      " > Real-time factor: 0.0938877172824054\n",
      " > Text splitted to sentences.\n",
      "['Bank Hapoalim is a type of Bank.']\n",
      " > Processing time: 0.31926417350769043\n",
      " > Real-time factor: 0.11221268531376839\n",
      " > Text splitted to sentences.\n",
      "['Bank Leumi was established on 1902-01-01.']\n"
     ]
    },
    {
     "name": "stderr",
     "output_type": "stream",
     "text": [
      "Processing Sentences:  50%|████▉     | 248/500 [04:27<05:48,  1.38s/it]"
     ]
    },
    {
     "name": "stdout",
     "output_type": "stream",
     "text": [
      " > Processing time: 0.49231743812561035\n",
      " > Real-time factor: 0.09906190238237067\n",
      " > Text splitted to sentences.\n",
      "['Bank Leumi has origin country Israel.']\n",
      " > Processing time: 0.2972564697265625\n",
      " > Real-time factor: 0.09515832110149104\n",
      " > Text splitted to sentences.\n",
      "['Bank Hapoalim has Histadrut as CEO.']\n"
     ]
    },
    {
     "name": "stderr",
     "output_type": "stream",
     "text": [
      "Processing Sentences:  50%|████▉     | 249/500 [04:27<04:48,  1.15s/it]"
     ]
    },
    {
     "name": "stdout",
     "output_type": "stream",
     "text": [
      " > Processing time: 0.26979804039001465\n",
      " > Real-time factor: 0.09405904993991625\n",
      " > Text splitted to sentences.\n",
      "['Bank Hapoalim was established on 1921-01-01.']\n",
      " > Processing time: 0.535170316696167\n",
      " > Real-time factor: 0.1019675919669439\n",
      " > Text splitted to sentences.\n",
      "['Bank Leumi has World Zionist Organization as CEO.']\n"
     ]
    },
    {
     "name": "stderr",
     "output_type": "stream",
     "text": [
      "Processing Sentences:  50%|█████     | 250/500 [04:28<04:42,  1.13s/it]"
     ]
    },
    {
     "name": "stdout",
     "output_type": "stream",
     "text": [
      " > Processing time: 0.5045769214630127\n",
      " > Real-time factor: 0.11257407639488658\n",
      " > Text splitted to sentences.\n",
      "['Bank of India was established on 1906-09-07.']\n",
      " > Processing time: 0.6197311878204346\n",
      " > Real-time factor: 0.11236245799434764\n",
      " > Text splitted to sentences.\n",
      "['Hindustan Petroleum is a type of Petrol station.']\n"
     ]
    },
    {
     "name": "stderr",
     "output_type": "stream",
     "text": [
      "Processing Sentences:  50%|█████     | 251/500 [04:30<04:40,  1.13s/it]"
     ]
    },
    {
     "name": "stdout",
     "output_type": "stream",
     "text": [
      " > Processing time: 0.42062807083129883\n",
      " > Real-time factor: 0.10812871854399994\n",
      " > Text splitted to sentences.\n",
      "['Axis Bank is a type of Bank.']\n",
      " > Processing time: 0.2667419910430908\n",
      " > Real-time factor: 0.09815855978805328\n",
      " > Text splitted to sentences.\n",
      "['ICICI Bank has origin country India.']\n"
     ]
    },
    {
     "name": "stderr",
     "output_type": "stream",
     "text": [
      "Processing Sentences:  50%|█████     | 252/500 [04:30<03:58,  1.04it/s]"
     ]
    },
    {
     "name": "stdout",
     "output_type": "stream",
     "text": [
      " > Processing time: 0.28031301498413086\n",
      " > Real-time factor: 0.09392326131169593\n",
      " > Text splitted to sentences.\n",
      "['Axis Bank was established on 1990-01-01.']\n",
      " > Processing time: 1.4554054737091064\n",
      " > Real-time factor: 0.10587124140698667\n",
      " > Text splitted to sentences.\n",
      "['Central Bank of India was established on 1911-01-01.']\n"
     ]
    },
    {
     "name": "stderr",
     "output_type": "stream",
     "text": [
      "Processing Sentences:  51%|█████     | 253/500 [04:32<05:22,  1.31s/it]"
     ]
    },
    {
     "name": "stdout",
     "output_type": "stream",
     "text": [
      " > Processing time: 0.5603439807891846\n",
      " > Real-time factor: 0.10536554080025856\n",
      " > Text splitted to sentences.\n",
      "['Bank of India was established on 1906-09-07.']\n",
      " > Processing time: 0.5236928462982178\n",
      " > Real-time factor: 0.10135011989955503\n",
      " > Text splitted to sentences.\n",
      "['ICICI Bank is a type of Bank.']\n"
     ]
    },
    {
     "name": "stderr",
     "output_type": "stream",
     "text": [
      "Processing Sentences:  51%|█████     | 254/500 [04:33<04:47,  1.17s/it]"
     ]
    },
    {
     "name": "stdout",
     "output_type": "stream",
     "text": [
      " > Processing time: 0.2789747714996338\n",
      " > Real-time factor: 0.09532906198188268\n",
      " > Text splitted to sentences.\n",
      "['Union Bank of India is a type of Bank.']\n",
      " > Processing time: 0.33771610260009766\n",
      " > Real-time factor: 0.09629940076469265\n",
      " > Text splitted to sentences.\n",
      "['ICICI Bank was established on 1994-01-05.']\n"
     ]
    },
    {
     "name": "stderr",
     "output_type": "stream",
     "text": [
      "Processing Sentences:  51%|█████     | 255/500 [04:34<04:31,  1.11s/it]"
     ]
    },
    {
     "name": "stdout",
     "output_type": "stream",
     "text": [
      " > Processing time: 0.5825419425964355\n",
      " > Real-time factor: 0.10629095917393258\n",
      " > Text splitted to sentences.\n",
      "['Burberry has Thomas Burberry as CEO.']\n",
      " > Processing time: 0.28696107864379883\n",
      " > Real-time factor: 0.09504163338283712\n",
      " > Text splitted to sentences.\n",
      "[\"Sainsbury's was established on 1869-01-01.\"]\n"
     ]
    },
    {
     "name": "stderr",
     "output_type": "stream",
     "text": [
      "Processing Sentences:  51%|█████     | 256/500 [04:35<04:13,  1.04s/it]"
     ]
    },
    {
     "name": "stdout",
     "output_type": "stream",
     "text": [
      " > Processing time: 0.5519447326660156\n",
      " > Real-time factor: 0.10401324144747064\n",
      " > Text splitted to sentences.\n",
      "['Pepe Jeans has origin country Spain.']\n",
      " > Processing time: 0.3318932056427002\n",
      " > Real-time factor: 0.10430794162516448\n",
      " > Text splitted to sentences.\n",
      "['Vodafone has Gerry Whent as CEO.']\n"
     ]
    },
    {
     "name": "stderr",
     "output_type": "stream",
     "text": [
      "Processing Sentences:  51%|█████▏    | 257/500 [04:36<03:42,  1.09it/s]"
     ]
    },
    {
     "name": "stdout",
     "output_type": "stream",
     "text": [
      " > Processing time: 0.25589561462402344\n",
      " > Real-time factor: 0.09336937884663285\n",
      " > Text splitted to sentences.\n",
      "['Chicken Cottage has origin country United Kingdom.']\n",
      " > Processing time: 0.3581240177154541\n",
      " > Real-time factor: 0.09759534544475186\n",
      " > Text splitted to sentences.\n",
      "['Barclays has origin country United Kingdom.']\n"
     ]
    },
    {
     "name": "stderr",
     "output_type": "stream",
     "text": [
      "Processing Sentences:  52%|█████▏    | 258/500 [04:36<03:26,  1.17it/s]"
     ]
    },
    {
     "name": "stdout",
     "output_type": "stream",
     "text": [
      " > Processing time: 0.3195672035217285\n",
      " > Real-time factor: 0.09555295125914126\n",
      " > Text splitted to sentences.\n",
      "['Royal Dutch Shell has origin country Netherlands.']\n",
      " > Processing time: 0.36902785301208496\n",
      " > Real-time factor: 0.09900068326499506\n",
      " > Text splitted to sentences.\n",
      "['HSBC Holdings has origin country United Kingdom.']\n"
     ]
    },
    {
     "name": "stderr",
     "output_type": "stream",
     "text": [
      "Processing Sentences:  52%|█████▏    | 259/500 [04:37<03:25,  1.17it/s]"
     ]
    },
    {
     "name": "stdout",
     "output_type": "stream",
     "text": [
      " > Processing time: 0.44078636169433594\n",
      " > Real-time factor: 0.10662782248727519\n",
      " > Text splitted to sentences.\n",
      "['Alfred Dunhill has Alfred Dunhill as CEO.']\n",
      " > Processing time: 0.404583215713501\n",
      " > Real-time factor: 0.10431548066513911\n",
      " > Text splitted to sentences.\n",
      "['Pepe Jeans has origin country Spain.']\n"
     ]
    },
    {
     "name": "stderr",
     "output_type": "stream",
     "text": [
      "Processing Sentences:  52%|█████▏    | 260/500 [04:38<03:15,  1.23it/s]"
     ]
    },
    {
     "name": "stdout",
     "output_type": "stream",
     "text": [
      " > Processing time: 0.2864220142364502\n",
      " > Real-time factor: 0.09413912195793177\n",
      " > Text splitted to sentences.\n",
      "['Allahabad Bank was established on 1865-04-24.']\n",
      " > Processing time: 0.6237215995788574\n",
      " > Real-time factor: 0.10657983005822849\n",
      " > Text splitted to sentences.\n",
      "[\"Spencer's Retail was established on 1996-01-01.\"]\n",
      "   > Decoder stopped with `max_decoder_steps` 10000\n",
      " > Processing time: 12.915279150009155\n",
      " > Real-time factor: 0.1106998107945789\n"
     ]
    },
    {
     "name": "stderr",
     "output_type": "stream",
     "text": [
      "Processing Sentences:  52%|█████▏    | 261/500 [04:52<19:12,  4.82s/it]"
     ]
    },
    {
     "name": "stdout",
     "output_type": "stream",
     "text": [
      " > Text splitted to sentences.\n",
      "['Allahabad Bank was established on 1865-04-24.']\n",
      " > Processing time: 0.5827202796936035\n",
      " > Real-time factor: 0.10138383858764642\n",
      " > Text splitted to sentences.\n",
      "[\"Spencer's Retail is a type of Retail store.\"]\n"
     ]
    },
    {
     "name": "stderr",
     "output_type": "stream",
     "text": [
      "Processing Sentences:  52%|█████▏    | 262/500 [04:53<14:33,  3.67s/it]"
     ]
    },
    {
     "name": "stdout",
     "output_type": "stream",
     "text": [
      " > Processing time: 0.3468809127807617\n",
      " > Real-time factor: 0.0954372645090811\n",
      " > Text splitted to sentences.\n",
      "[\"Spencer's Retail was established on 1996-01-01.\"]\n",
      " > Processing time: 0.5715742111206055\n",
      " > Real-time factor: 0.10451117284073033\n",
      " > Text splitted to sentences.\n",
      "['Allahabad Bank is a type of Bank.']\n"
     ]
    },
    {
     "name": "stderr",
     "output_type": "stream",
     "text": [
      "Processing Sentences:  53%|█████▎    | 263/500 [04:54<11:11,  2.83s/it]"
     ]
    },
    {
     "name": "stdout",
     "output_type": "stream",
     "text": [
      " > Processing time: 0.2622849941253662\n",
      " > Real-time factor: 0.0914397944672452\n",
      " > Text splitted to sentences.\n",
      "['Allahabad Bank is a type of Bank.']\n",
      " > Processing time: 0.2696869373321533\n",
      " > Real-time factor: 0.09179113620915628\n",
      " > Text splitted to sentences.\n",
      "[\"Spencer's Retail is a type of Retail store.\"]\n"
     ]
    },
    {
     "name": "stderr",
     "output_type": "stream",
     "text": [
      "Processing Sentences:  53%|█████▎    | 264/500 [04:55<08:35,  2.19s/it]"
     ]
    },
    {
     "name": "stdout",
     "output_type": "stream",
     "text": [
      " > Processing time: 0.37036895751953125\n",
      " > Real-time factor: 0.0960690230720128\n",
      " > Text splitted to sentences.\n",
      "[\"Spencer's Retail was established on 1996-01-01.\"]\n",
      " > Processing time: 0.6447064876556396\n",
      " > Real-time factor: 0.1159146938421955\n",
      " > Text splitted to sentences.\n",
      "['Allahabad Bank is a type of Bank.']\n"
     ]
    },
    {
     "name": "stderr",
     "output_type": "stream",
     "text": [
      "Processing Sentences:  53%|█████▎    | 265/500 [04:56<07:08,  1.82s/it]"
     ]
    },
    {
     "name": "stdout",
     "output_type": "stream",
     "text": [
      " > Processing time: 0.2816147804260254\n",
      " > Real-time factor: 0.09472793977901299\n",
      " > Text splitted to sentences.\n",
      "['Public Bank Berhad has origin country Malaysia.']\n",
      " > Processing time: 0.3496570587158203\n",
      " > Real-time factor: 0.09744613428569056\n",
      " > Text splitted to sentences.\n",
      "['Maybank was established on 1960-05-31.']\n"
     ]
    },
    {
     "name": "stderr",
     "output_type": "stream",
     "text": [
      "Processing Sentences:  53%|█████▎    | 266/500 [04:56<06:01,  1.54s/it]"
     ]
    },
    {
     "name": "stdout",
     "output_type": "stream",
     "text": [
      " > Processing time: 0.5008015632629395\n",
      " > Real-time factor: 0.09914770210770557\n",
      " > Text splitted to sentences.\n",
      "['Maybank has Khoo Teck Puat as CEO.']\n",
      " > Processing time: 0.36909961700439453\n",
      " > Real-time factor: 0.09602896161679841\n",
      " > Text splitted to sentences.\n",
      "['Public Bank Berhad was established on 1966-01-01.']\n"
     ]
    },
    {
     "name": "stderr",
     "output_type": "stream",
     "text": [
      "Processing Sentences:  53%|█████▎    | 267/500 [04:57<05:21,  1.38s/it]"
     ]
    },
    {
     "name": "stdout",
     "output_type": "stream",
     "text": [
      " > Processing time: 0.5786848068237305\n",
      " > Real-time factor: 0.10740740732713179\n",
      " > Text splitted to sentences.\n",
      "['CIMB is a type of Bank.']\n",
      " > Processing time: 0.260012149810791\n",
      " > Real-time factor: 0.11194290657856806\n",
      " > Text splitted to sentences.\n",
      "['Maybank has origin country Malaysia.']\n"
     ]
    },
    {
     "name": "stderr",
     "output_type": "stream",
     "text": [
      "Processing Sentences:  54%|█████▎    | 268/500 [04:58<04:22,  1.13s/it]"
     ]
    },
    {
     "name": "stdout",
     "output_type": "stream",
     "text": [
      " > Processing time: 0.2639038562774658\n",
      " > Real-time factor: 0.09237808024698567\n",
      " > Text splitted to sentences.\n",
      "['Maybank was established on 1960-05-31.']\n",
      " > Processing time: 0.5570321083068848\n",
      " > Real-time factor: 0.11156225465200198\n",
      " > Text splitted to sentences.\n",
      "['CIMB has origin country Malaysia.']\n"
     ]
    },
    {
     "name": "stderr",
     "output_type": "stream",
     "text": [
      "Processing Sentences:  54%|█████▍    | 269/500 [04:59<04:03,  1.06s/it]"
     ]
    },
    {
     "name": "stdout",
     "output_type": "stream",
     "text": [
      " > Processing time: 0.2789270877838135\n",
      " > Real-time factor: 0.09273736860122267\n",
      " > Text splitted to sentences.\n",
      "['Public Bank Berhad was established on 1966-01-01.']\n",
      " > Processing time: 0.570845365524292\n",
      " > Real-time factor: 0.10415679456681648\n",
      " > Text splitted to sentences.\n",
      "['CIMB has origin country Malaysia.']\n"
     ]
    },
    {
     "name": "stderr",
     "output_type": "stream",
     "text": [
      "Processing Sentences:  54%|█████▍    | 270/500 [05:00<03:54,  1.02s/it]"
     ]
    },
    {
     "name": "stdout",
     "output_type": "stream",
     "text": [
      " > Processing time: 0.3190128803253174\n",
      " > Real-time factor: 0.11032361999958043\n",
      " > Text splitted to sentences.\n",
      "['Fiat has origin country Italy.']\n",
      " > Processing time: 0.32142019271850586\n",
      " > Real-time factor: 0.11878712874502304\n",
      " > Text splitted to sentences.\n",
      "['Intesa Sanpaolo has origin country Italy.']\n"
     ]
    },
    {
     "name": "stderr",
     "output_type": "stream",
     "text": [
      "Processing Sentences:  54%|█████▍    | 271/500 [05:01<03:33,  1.07it/s]"
     ]
    },
    {
     "name": "stdout",
     "output_type": "stream",
     "text": [
      " > Processing time: 0.37131428718566895\n",
      " > Real-time factor: 0.10518345365421378\n",
      " > Text splitted to sentences.\n",
      "['Fiat is a type of Auto showroom.']\n",
      " > Processing time: 0.29640746116638184\n",
      " > Real-time factor: 0.10769484113364619\n",
      " > Text splitted to sentences.\n",
      "['Intesa Sanpaolo was established on 2007-01-01.']\n"
     ]
    },
    {
     "name": "stderr",
     "output_type": "stream",
     "text": [
      "Processing Sentences:  54%|█████▍    | 272/500 [05:02<03:34,  1.06it/s]"
     ]
    },
    {
     "name": "stdout",
     "output_type": "stream",
     "text": [
      " > Processing time: 0.6214427947998047\n",
      " > Real-time factor: 0.11080681221160317\n",
      " > Text splitted to sentences.\n",
      "['Intesa Sanpaolo has origin country Italy.']\n",
      " > Processing time: 0.5253293514251709\n",
      " > Real-time factor: 0.10695368775783921\n",
      " > Text splitted to sentences.\n",
      "['Fiat is a type of Auto showroom.']\n"
     ]
    },
    {
     "name": "stderr",
     "output_type": "stream",
     "text": [
      "Processing Sentences:  55%|█████▍    | 273/500 [05:02<03:25,  1.11it/s]"
     ]
    },
    {
     "name": "stdout",
     "output_type": "stream",
     "text": [
      " > Processing time: 0.2540781497955322\n",
      " > Real-time factor: 0.09349838456260823\n",
      " > Text splitted to sentences.\n",
      "['Intesa Sanpaolo has origin country Italy.']\n",
      " > Processing time: 0.46726465225219727\n",
      " > Real-time factor: 0.0996054290618808\n",
      " > Text splitted to sentences.\n",
      "['Fiat has Giovanni Agnelli as CEO.']\n"
     ]
    },
    {
     "name": "stderr",
     "output_type": "stream",
     "text": [
      "Processing Sentences:  55%|█████▍    | 274/500 [05:03<03:20,  1.13it/s]"
     ]
    },
    {
     "name": "stdout",
     "output_type": "stream",
     "text": [
      " > Processing time: 0.33192014694213867\n",
      " > Real-time factor: 0.09591684892108092\n",
      " > Text splitted to sentences.\n",
      "['Fiat was established on 1899-07-11.']\n",
      " > Processing time: 0.5292801856994629\n",
      " > Real-time factor: 0.10151903353055983\n",
      " > Text splitted to sentences.\n",
      "['Intesa Sanpaolo has origin country Italy.']\n"
     ]
    },
    {
     "name": "stderr",
     "output_type": "stream",
     "text": [
      "Processing Sentences:  55%|█████▌    | 275/500 [05:04<03:42,  1.01it/s]"
     ]
    },
    {
     "name": "stdout",
     "output_type": "stream",
     "text": [
      " > Processing time: 0.6360132694244385\n",
      " > Real-time factor: 0.10513443527954351\n",
      " > Text splitted to sentences.\n",
      "['Kmart is a type of Retail store.']\n",
      " > Processing time: 0.2759406566619873\n",
      " > Real-time factor: 0.09466784104115042\n",
      " > Text splitted to sentences.\n",
      "['Little Caesars has Mike Ilitch as CEO.']\n"
     ]
    },
    {
     "name": "stderr",
     "output_type": "stream",
     "text": [
      "Processing Sentences:  55%|█████▌    | 276/500 [05:05<03:19,  1.12it/s]"
     ]
    },
    {
     "name": "stdout",
     "output_type": "stream",
     "text": [
      " > Processing time: 0.3557615280151367\n",
      " > Real-time factor: 0.10527890397162558\n",
      " > Text splitted to sentences.\n",
      "['Kmart is a type of Retail store.']\n",
      " > Processing time: 0.31304264068603516\n",
      " > Real-time factor: 0.10408006976970861\n",
      " > Text splitted to sentences.\n",
      "['Cadillac has Henry Ford as CEO.']\n"
     ]
    },
    {
     "name": "stderr",
     "output_type": "stream",
     "text": [
      "Processing Sentences:  55%|█████▌    | 277/500 [05:06<03:00,  1.24it/s]"
     ]
    },
    {
     "name": "stdout",
     "output_type": "stream",
     "text": [
      " > Processing time: 0.27184033393859863\n",
      " > Real-time factor: 0.09401002765599278\n",
      " > Text splitted to sentences.\n",
      "['Chevrolet was established on 1911-11-03.']\n",
      " > Processing time: 0.5187637805938721\n",
      " > Real-time factor: 0.10200047583548723\n",
      " > Text splitted to sentences.\n",
      "['Cadillac has Henry Ford as CEO.']\n"
     ]
    },
    {
     "name": "stderr",
     "output_type": "stream",
     "text": [
      "Processing Sentences:  56%|█████▌    | 278/500 [05:07<03:00,  1.23it/s]"
     ]
    },
    {
     "name": "stdout",
     "output_type": "stream",
     "text": [
      " > Processing time: 0.2677597999572754\n",
      " > Real-time factor: 0.09222856143867038\n",
      " > Text splitted to sentences.\n",
      "['Little Caesars was established on 1959-01-01.']\n",
      " > Processing time: 0.552476167678833\n",
      " > Real-time factor: 0.10620466154029734\n",
      " > Text splitted to sentences.\n",
      "['Kmart has S. S. Kresge as CEO.']\n"
     ]
    },
    {
     "name": "stderr",
     "output_type": "stream",
     "text": [
      "Processing Sentences:  56%|█████▌    | 279/500 [05:08<03:15,  1.13it/s]"
     ]
    },
    {
     "name": "stdout",
     "output_type": "stream",
     "text": [
      " > Processing time: 0.44952845573425293\n",
      " > Real-time factor: 0.09875759653415707\n",
      " > Text splitted to sentences.\n",
      "['Little Caesars is a type of Restaurant.']\n",
      " > Processing time: 0.28203868865966797\n",
      " > Real-time factor: 0.09341133569072456\n",
      " > Text splitted to sentences.\n",
      "['Kmart has origin country United States of America.']\n"
     ]
    },
    {
     "name": "stderr",
     "output_type": "stream",
     "text": [
      "Processing Sentences:  56%|█████▌    | 280/500 [05:08<03:03,  1.20it/s]"
     ]
    },
    {
     "name": "stdout",
     "output_type": "stream",
     "text": [
      " > Processing time: 0.39879822731018066\n",
      " > Real-time factor: 0.10599687695503235\n",
      " > Text splitted to sentences.\n",
      "['BB&T is a type of Bank.']\n",
      " > Processing time: 0.1770470142364502\n",
      " > Real-time factor: 0.1096597377503856\n",
      " > Text splitted to sentences.\n",
      "['Krispy Kreme was established on 1937-07-13.']\n"
     ]
    },
    {
     "name": "stderr",
     "output_type": "stream",
     "text": [
      "Processing Sentences:  56%|█████▌    | 281/500 [05:09<02:58,  1.23it/s]"
     ]
    },
    {
     "name": "stdout",
     "output_type": "stream",
     "text": [
      " > Processing time: 0.5584275722503662\n",
      " > Real-time factor: 0.10124759873799974\n",
      " > Text splitted to sentences.\n",
      "['BB&T is a type of Bank.']\n",
      " > Processing time: 0.283949613571167\n",
      " > Real-time factor: 0.0951417605647373\n",
      " > Text splitted to sentences.\n",
      "['Krispy Kreme has Vernon Rudolph as CEO.']\n"
     ]
    },
    {
     "name": "stderr",
     "output_type": "stream",
     "text": [
      "Processing Sentences:  56%|█████▋    | 282/500 [05:10<02:47,  1.30it/s]"
     ]
    },
    {
     "name": "stdout",
     "output_type": "stream",
     "text": [
      " > Processing time: 0.34082961082458496\n",
      " > Real-time factor: 0.09718721444602342\n",
      " > Text splitted to sentences.\n",
      "['BB&T is a type of Bank.']\n",
      " > Processing time: 0.28490662574768066\n",
      " > Real-time factor: 0.09509250269036629\n",
      " > Text splitted to sentences.\n",
      "['Krispy Kreme has Vernon Rudolph as CEO.']\n"
     ]
    },
    {
     "name": "stderr",
     "output_type": "stream",
     "text": [
      "Processing Sentences:  57%|█████▋    | 283/500 [05:10<02:38,  1.37it/s]"
     ]
    },
    {
     "name": "stdout",
     "output_type": "stream",
     "text": [
      " > Processing time: 0.32912182807922363\n",
      " > Real-time factor: 0.09510820283532818\n",
      " > Text splitted to sentences.\n",
      "['BB&T was established on 1872-01-01.']\n",
      " > Processing time: 0.4878101348876953\n",
      " > Real-time factor: 0.09955032461751889\n",
      " > Text splitted to sentences.\n",
      "['Krispy Kreme was established on 1937-07-13.']\n",
      "   > Decoder stopped with `max_decoder_steps` 10000\n",
      " > Processing time: 13.150159358978271\n",
      " > Real-time factor: 0.11271302277321847\n"
     ]
    },
    {
     "name": "stderr",
     "output_type": "stream",
     "text": [
      "Processing Sentences:  57%|█████▋    | 284/500 [05:25<17:15,  4.79s/it]"
     ]
    },
    {
     "name": "stdout",
     "output_type": "stream",
     "text": [
      " > Text splitted to sentences.\n",
      "['Krispy Kreme has Vernon Rudolph as CEO.']\n",
      " > Processing time: 0.32920074462890625\n",
      " > Real-time factor: 0.09325380805585025\n",
      " > Text splitted to sentences.\n",
      "['BB&T is a type of Bank.']\n"
     ]
    },
    {
     "name": "stderr",
     "output_type": "stream",
     "text": [
      "Processing Sentences:  57%|█████▋    | 285/500 [05:25<12:47,  3.57s/it]"
     ]
    },
    {
     "name": "stdout",
     "output_type": "stream",
     "text": [
      " > Processing time: 0.34865713119506836\n",
      " > Real-time factor: 0.10425105422612357\n",
      " > Text splitted to sentences.\n",
      "['Café Coffee Day is a type of Restaurant.']\n",
      "café coffee day is a type of restaurant.\n",
      " [!] Character 'é' not found in the vocabulary. Discarding it.\n",
      " > Processing time: 0.31778573989868164\n",
      " > Real-time factor: 0.09502028049422231\n",
      " > Text splitted to sentences.\n",
      "['Canara Bank is a type of Bank.']\n"
     ]
    },
    {
     "name": "stderr",
     "output_type": "stream",
     "text": [
      "Processing Sentences:  57%|█████▋    | 286/500 [05:26<09:34,  2.68s/it]"
     ]
    },
    {
     "name": "stdout",
     "output_type": "stream",
     "text": [
      " > Processing time: 0.2681751251220703\n",
      " > Real-time factor: 0.09349325684514373\n",
      " > Text splitted to sentences.\n",
      "['Café Coffee Day was established on 1996-01-01.']\n",
      " > Processing time: 1.395824909210205\n",
      " > Real-time factor: 0.10772364915749084\n",
      " > Text splitted to sentences.\n",
      "['Canara Bank was established on 1906-07-01.']\n"
     ]
    },
    {
     "name": "stderr",
     "output_type": "stream",
     "text": [
      "Processing Sentences:  57%|█████▋    | 287/500 [05:28<08:49,  2.49s/it]"
     ]
    },
    {
     "name": "stdout",
     "output_type": "stream",
     "text": [
      " > Processing time: 0.5382285118103027\n",
      " > Real-time factor: 0.10631305257826766\n",
      " > Text splitted to sentences.\n",
      "['Canara Bank is a type of Bank.']\n",
      " > Processing time: 0.26935672760009766\n",
      " > Real-time factor: 0.09664338459356536\n",
      " > Text splitted to sentences.\n",
      "['Café Coffee Day has V. G. Siddhartha as CEO.']\n"
     ]
    },
    {
     "name": "stderr",
     "output_type": "stream",
     "text": [
      "Processing Sentences:  58%|█████▊    | 288/500 [05:29<07:06,  2.01s/it]"
     ]
    },
    {
     "name": "stdout",
     "output_type": "stream",
     "text": [
      " > Processing time: 0.5883433818817139\n",
      " > Real-time factor: 0.10154173114035528\n",
      " > Text splitted to sentences.\n",
      "['Canara Bank was established on 1906-07-01.']\n",
      " > Processing time: 0.5323400497436523\n",
      " > Real-time factor: 0.1068654233143439\n",
      " > Text splitted to sentences.\n",
      "['Café Coffee Day has V. G. Siddhartha as CEO.']\n"
     ]
    },
    {
     "name": "stderr",
     "output_type": "stream",
     "text": [
      "Processing Sentences:  58%|█████▊    | 289/500 [05:30<06:15,  1.78s/it]"
     ]
    },
    {
     "name": "stdout",
     "output_type": "stream",
     "text": [
      " > Processing time: 0.6440181732177734\n",
      " > Real-time factor: 0.10625374655402178\n",
      " > Text splitted to sentences.\n",
      "['Café Coffee Day was established on 1996-01-01.']\n",
      " > Processing time: 0.5788958072662354\n",
      " > Real-time factor: 0.11078888826396065\n",
      " > Text splitted to sentences.\n",
      "['Canara Bank was established on 1906-07-01.']\n"
     ]
    },
    {
     "name": "stderr",
     "output_type": "stream",
     "text": [
      "Processing Sentences:  58%|█████▊    | 290/500 [05:31<05:36,  1.60s/it]"
     ]
    },
    {
     "name": "stdout",
     "output_type": "stream",
     "text": [
      " > Processing time: 0.5532355308532715\n",
      " > Real-time factor: 0.10952847521292411\n",
      " > Text splitted to sentences.\n",
      "['The Bank of New York Mellon is a type of Bank.']\n",
      " > Processing time: 0.3873291015625\n",
      " > Real-time factor: 0.11081335231281302\n",
      " > Text splitted to sentences.\n",
      "['Barneys New York was established on 1923-01-01.']\n"
     ]
    },
    {
     "name": "stderr",
     "output_type": "stream",
     "text": [
      "Processing Sentences:  58%|█████▊    | 291/500 [05:32<04:55,  1.41s/it]"
     ]
    },
    {
     "name": "stdout",
     "output_type": "stream",
     "text": [
      " > Processing time: 0.540219783782959\n",
      " > Real-time factor: 0.10502050917278746\n",
      " > Text splitted to sentences.\n",
      "['Foot Locker was established on 1974-01-01.']\n",
      " > Processing time: 0.511845588684082\n",
      " > Real-time factor: 0.10110179187405052\n",
      " > Text splitted to sentences.\n",
      "['Aéropostale was established on 1973-01-01.']\n"
     ]
    },
    {
     "name": "stderr",
     "output_type": "stream",
     "text": [
      "Processing Sentences:  58%|█████▊    | 292/500 [05:33<04:32,  1.31s/it]"
     ]
    },
    {
     "name": "stdout",
     "output_type": "stream",
     "text": [
      " > Processing time: 0.5105857849121094\n",
      " > Real-time factor: 0.1022599963423922\n",
      " > Text splitted to sentences.\n",
      "['Verizon has origin country United States of America.']\n",
      " > Processing time: 0.386188268661499\n",
      " > Real-time factor: 0.09752899170773839\n",
      " > Text splitted to sentences.\n",
      "[\"Macy's has Rowland Hussey Macy as CEO.\"]\n"
     ]
    },
    {
     "name": "stderr",
     "output_type": "stream",
     "text": [
      "Processing Sentences:  59%|█████▊    | 293/500 [05:34<04:05,  1.19s/it]"
     ]
    },
    {
     "name": "stdout",
     "output_type": "stream",
     "text": [
      " > Processing time: 0.46575188636779785\n",
      " > Real-time factor: 0.10811256836796723\n",
      " > Text splitted to sentences.\n",
      "['Hess Corporation is a type of Petrol station.']\n",
      " > Processing time: 0.33370256423950195\n",
      " > Real-time factor: 0.09610947676960577\n",
      " > Text splitted to sentences.\n",
      "['Barneys New York is a type of Retail store.']\n"
     ]
    },
    {
     "name": "stderr",
     "output_type": "stream",
     "text": [
      "Processing Sentences:  59%|█████▉    | 294/500 [05:35<03:34,  1.04s/it]"
     ]
    },
    {
     "name": "stdout",
     "output_type": "stream",
     "text": [
      " > Processing time: 0.3257153034210205\n",
      " > Real-time factor: 0.09605743687718679\n",
      " > Text splitted to sentences.\n",
      "['Hess Corporation is a type of Petrol station.']\n",
      " > Processing time: 0.37195396423339844\n",
      " > Real-time factor: 0.10641458521053607\n",
      " > Text splitted to sentences.\n",
      "[\"Macy's has Rowland Hussey Macy as CEO.\"]\n"
     ]
    },
    {
     "name": "stderr",
     "output_type": "stream",
     "text": [
      "Processing Sentences:  59%|█████▉    | 295/500 [05:36<03:17,  1.04it/s]"
     ]
    },
    {
     "name": "stdout",
     "output_type": "stream",
     "text": [
      " > Processing time: 0.3814256191253662\n",
      " > Real-time factor: 0.0995364857710936\n",
      " > Text splitted to sentences.\n",
      "['DBS Bank is a type of Bank.']\n",
      " > Processing time: 0.2683451175689697\n",
      " > Real-time factor: 0.09280128360093762\n",
      " > Text splitted to sentences.\n",
      "['Old Chang Kee is a type of Restaurant.']\n"
     ]
    },
    {
     "name": "stderr",
     "output_type": "stream",
     "text": [
      "Processing Sentences:  59%|█████▉    | 296/500 [05:36<03:02,  1.12it/s]"
     ]
    },
    {
     "name": "stdout",
     "output_type": "stream",
     "text": [
      " > Processing time: 0.4179880619049072\n",
      " > Real-time factor: 0.10555979435820054\n",
      " > Text splitted to sentences.\n",
      "['United Overseas Bank is a type of Bank.']\n",
      " > Processing time: 0.39523887634277344\n",
      " > Real-time factor: 0.10537600627972231\n",
      " > Text splitted to sentences.\n",
      "['Charles & Keith is a type of Accessory Store.']\n"
     ]
    },
    {
     "name": "stderr",
     "output_type": "stream",
     "text": [
      "Processing Sentences:  59%|█████▉    | 297/500 [05:37<02:56,  1.15it/s]"
     ]
    },
    {
     "name": "stdout",
     "output_type": "stream",
     "text": [
      " > Processing time: 0.37259888648986816\n",
      " > Real-time factor: 0.09903333470469615\n",
      " > Text splitted to sentences.\n",
      "['Old Chang Kee is a type of Restaurant.']\n",
      " > Processing time: 0.3298196792602539\n",
      " > Real-time factor: 0.0976020497059346\n",
      " > Text splitted to sentences.\n",
      "['Oversea-Chinese Banking Corporation is a type of Bank.']\n"
     ]
    },
    {
     "name": "stderr",
     "output_type": "stream",
     "text": [
      "Processing Sentences:  60%|█████▉    | 298/500 [05:38<02:53,  1.16it/s]"
     ]
    },
    {
     "name": "stdout",
     "output_type": "stream",
     "text": [
      " > Processing time: 0.4728212356567383\n",
      " > Real-time factor: 0.10715454125792508\n",
      " > Text splitted to sentences.\n",
      "['Oversea-Chinese Banking Corporation was established on 1932-01-01.']\n",
      " > Processing time: 0.7067215442657471\n",
      " > Real-time factor: 0.10772598475735347\n",
      " > Text splitted to sentences.\n",
      "['DBS Bank was established on 1968-01-01.']\n"
     ]
    },
    {
     "name": "stderr",
     "output_type": "stream",
     "text": [
      "Processing Sentences:  60%|█████▉    | 299/500 [05:39<03:19,  1.01it/s]"
     ]
    },
    {
     "name": "stdout",
     "output_type": "stream",
     "text": [
      " > Processing time: 0.5302653312683105\n",
      " > Real-time factor: 0.10239202881520813\n",
      " > Text splitted to sentences.\n",
      "['DBS Bank was established on 1968-01-01.']\n",
      " > Processing time: 0.5302610397338867\n",
      " > Real-time factor: 0.10125619999768083\n",
      " > Text splitted to sentences.\n",
      "['United Overseas Bank was established on 1935-01-01.']\n"
     ]
    },
    {
     "name": "stderr",
     "output_type": "stream",
     "text": [
      "Processing Sentences:  60%|██████    | 300/500 [05:41<03:32,  1.06s/it]"
     ]
    },
    {
     "name": "stdout",
     "output_type": "stream",
     "text": [
      " > Processing time: 0.6453776359558105\n",
      " > Real-time factor: 0.10792513706487093\n",
      " > Text splitted to sentences.\n",
      "['Bershka has origin country Spain.']\n",
      " > Processing time: 0.28560400009155273\n",
      " > Real-time factor: 0.10600538988046623\n",
      " > Text splitted to sentences.\n",
      "['Pull&Bear has origin country Spain.']\n"
     ]
    },
    {
     "name": "stderr",
     "output_type": "stream",
     "text": [
      "Processing Sentences:  60%|██████    | 301/500 [05:41<03:04,  1.08it/s]"
     ]
    },
    {
     "name": "stdout",
     "output_type": "stream",
     "text": [
      " > Processing time: 0.2930030822753906\n",
      " > Real-time factor: 0.09485432763936404\n",
      " > Text splitted to sentences.\n",
      "['Pull&Bear was established on 1991-01-01.']\n",
      " > Processing time: 0.536792516708374\n",
      " > Real-time factor: 0.10578681354050165\n",
      " > Text splitted to sentences.\n",
      "['Bershka has origin country Spain.']\n"
     ]
    },
    {
     "name": "stderr",
     "output_type": "stream",
     "text": [
      "Processing Sentences:  60%|██████    | 302/500 [05:42<02:57,  1.11it/s]"
     ]
    },
    {
     "name": "stdout",
     "output_type": "stream",
     "text": [
      " > Processing time: 0.2547154426574707\n",
      " > Real-time factor: 0.0941350816337696\n",
      " > Text splitted to sentences.\n",
      "['Pull&Bear has origin country Spain.']\n",
      " > Processing time: 0.27163267135620117\n",
      " > Real-time factor: 0.09172844283576691\n",
      " > Text splitted to sentences.\n",
      "['Bershka is a type of Apparel store.']\n"
     ]
    },
    {
     "name": "stderr",
     "output_type": "stream",
     "text": [
      "Processing Sentences:  61%|██████    | 303/500 [05:43<02:38,  1.24it/s]"
     ]
    },
    {
     "name": "stdout",
     "output_type": "stream",
     "text": [
      " > Processing time: 0.2780897617340088\n",
      " > Real-time factor: 0.09465113679666111\n",
      " > Text splitted to sentences.\n",
      "['Bershka has origin country Spain.']\n",
      " > Processing time: 1.2954370975494385\n",
      " > Real-time factor: 0.10821811541858034\n",
      " > Text splitted to sentences.\n",
      "['Pull&Bear was established on 1991-01-01.']\n"
     ]
    },
    {
     "name": "stderr",
     "output_type": "stream",
     "text": [
      "Processing Sentences:  61%|██████    | 304/500 [05:45<03:43,  1.14s/it]"
     ]
    },
    {
     "name": "stdout",
     "output_type": "stream",
     "text": [
      " > Processing time: 0.5353660583496094\n",
      " > Real-time factor: 0.10177974191792737\n",
      " > Text splitted to sentences.\n",
      "['Pull&Bear is a type of Apparel store.']\n",
      " > Processing time: 0.31424951553344727\n",
      " > Real-time factor: 0.09429024898639932\n",
      " > Text splitted to sentences.\n",
      "['Bershka has origin country Spain.']\n"
     ]
    },
    {
     "name": "stderr",
     "output_type": "stream",
     "text": [
      "Processing Sentences:  61%|██████    | 305/500 [05:45<03:11,  1.02it/s]"
     ]
    },
    {
     "name": "stdout",
     "output_type": "stream",
     "text": [
      " > Processing time: 0.26717042922973633\n",
      " > Real-time factor: 0.10090278097622099\n",
      " > Text splitted to sentences.\n",
      "['Sherwin-Williams was established on 1866-01-01.']\n",
      " > Processing time: 0.5796267986297607\n",
      " > Real-time factor: 0.11068285740080906\n",
      " > Text splitted to sentences.\n",
      "['KeyBank has origin country United States of America.']\n"
     ]
    },
    {
     "name": "stderr",
     "output_type": "stream",
     "text": [
      "Processing Sentences:  61%|██████    | 306/500 [05:46<03:11,  1.01it/s]"
     ]
    },
    {
     "name": "stdout",
     "output_type": "stream",
     "text": [
      " > Processing time: 0.3718595504760742\n",
      " > Real-time factor: 0.0997603548763558\n",
      " > Text splitted to sentences.\n",
      "['KeyBank was established on 1825-01-01.']\n",
      " > Processing time: 0.47571825981140137\n",
      " > Real-time factor: 0.1016590520704896\n",
      " > Text splitted to sentences.\n",
      "['Sherwin-Williams has Edward Williams as CEO.']\n"
     ]
    },
    {
     "name": "stderr",
     "output_type": "stream",
     "text": [
      "Processing Sentences:  61%|██████▏   | 307/500 [05:47<03:05,  1.04it/s]"
     ]
    },
    {
     "name": "stdout",
     "output_type": "stream",
     "text": [
      " > Processing time: 0.37898778915405273\n",
      " > Real-time factor: 0.0995032476524917\n",
      " > Text splitted to sentences.\n",
      "['KeyBank was established on 1825-01-01.']\n",
      " > Processing time: 0.5175614356994629\n",
      " > Real-time factor: 0.10663243438082258\n",
      " > Text splitted to sentences.\n",
      "['Sherwin-Williams has origin country United States of America.']\n"
     ]
    },
    {
     "name": "stderr",
     "output_type": "stream",
     "text": [
      "Processing Sentences:  62%|██████▏   | 308/500 [05:48<03:06,  1.03it/s]"
     ]
    },
    {
     "name": "stdout",
     "output_type": "stream",
     "text": [
      " > Processing time: 0.43640828132629395\n",
      " > Real-time factor: 0.09995432320139584\n",
      " > Text splitted to sentences.\n",
      "['Sherwin-Williams is a type of Accessory store.']\n",
      " > Processing time: 0.36223554611206055\n",
      " > Real-time factor: 0.09778763212256288\n",
      " > Text splitted to sentences.\n",
      "['KeyBank was established on 1825-01-01.']\n"
     ]
    },
    {
     "name": "stderr",
     "output_type": "stream",
     "text": [
      "Processing Sentences:  62%|██████▏   | 309/500 [05:49<03:00,  1.06it/s]"
     ]
    },
    {
     "name": "stdout",
     "output_type": "stream",
     "text": [
      " > Processing time: 0.4718925952911377\n",
      " > Real-time factor: 0.09936241144164998\n",
      " > Text splitted to sentences.\n",
      "['Sherwin-Williams is a type of Accessory store.']\n",
      " > Processing time: 0.37067437171936035\n",
      " > Real-time factor: 0.09821873072981033\n",
      " > Text splitted to sentences.\n",
      "['KeyBank was established on 1825-01-01.']\n"
     ]
    },
    {
     "name": "stderr",
     "output_type": "stream",
     "text": [
      "Processing Sentences:  62%|██████▏   | 310/500 [05:50<02:56,  1.08it/s]"
     ]
    },
    {
     "name": "stdout",
     "output_type": "stream",
     "text": [
      " > Processing time: 0.4736900329589844\n",
      " > Real-time factor: 0.10097510853389023\n",
      " > Text splitted to sentences.\n",
      "['Charles & Keith is a type of Accessory Store.']\n",
      " > Processing time: 0.38401174545288086\n",
      " > Real-time factor: 0.09901144746534171\n",
      " > Text splitted to sentences.\n",
      "['Longines was established on 1832-01-01']\n"
     ]
    },
    {
     "name": "stderr",
     "output_type": "stream",
     "text": [
      "Processing Sentences:  62%|██████▏   | 311/500 [05:51<02:56,  1.07it/s]"
     ]
    },
    {
     "name": "stdout",
     "output_type": "stream",
     "text": [
      " > Processing time: 0.5123353004455566\n",
      " > Real-time factor: 0.10867509403209677\n",
      " > Text splitted to sentences.\n",
      "['China CITIC Bank is a type of Bank.']\n",
      " > Processing time: 0.29677677154541016\n",
      " > Real-time factor: 0.09643845514879\n",
      " > Text splitted to sentences.\n",
      "['Bank Rakyat Indonesia was established on 1895-12-16']\n"
     ]
    },
    {
     "name": "stderr",
     "output_type": "stream",
     "text": [
      "Processing Sentences:  62%|██████▏   | 312/500 [05:52<02:59,  1.04it/s]"
     ]
    },
    {
     "name": "stdout",
     "output_type": "stream",
     "text": [
      " > Processing time: 0.6696031093597412\n",
      " > Real-time factor: 0.10679282317861281\n",
      " > Text splitted to sentences.\n",
      "['Nintendo has Fusajiro Yamauchi as CEO.']\n",
      " > Processing time: 0.383465051651001\n",
      " > Real-time factor: 0.1009865802229191\n",
      " > Text splitted to sentences.\n",
      "['Turkcell was established on 1994-01-01']\n"
     ]
    },
    {
     "name": "stderr",
     "output_type": "stream",
     "text": [
      "Processing Sentences:  63%|██████▎   | 313/500 [05:53<02:57,  1.06it/s]"
     ]
    },
    {
     "name": "stdout",
     "output_type": "stream",
     "text": [
      " > Processing time: 0.49614715576171875\n",
      " > Real-time factor: 0.10173378947092972\n",
      " > Text splitted to sentences.\n",
      "['DNB ASA is a type of Bank.']\n",
      " > Processing time: 0.28850460052490234\n",
      " > Real-time factor: 0.09518683327708428\n",
      " > Text splitted to sentences.\n",
      "[\"Hardee's has origin country United States of America.\"]\n"
     ]
    },
    {
     "name": "stderr",
     "output_type": "stream",
     "text": [
      "Processing Sentences:  63%|██████▎   | 314/500 [05:54<02:44,  1.13it/s]"
     ]
    },
    {
     "name": "stdout",
     "output_type": "stream",
     "text": [
      " > Processing time: 0.41684770584106445\n",
      " > Real-time factor: 0.10911077770412478\n",
      " > Text splitted to sentences.\n",
      "['Kungfu was established on 1994-01-01.']\n",
      " > Processing time: 0.46866917610168457\n",
      " > Real-time factor: 0.10166609606723344\n",
      " > Text splitted to sentences.\n",
      "['Punjab National Bank has origin country India.']\n"
     ]
    },
    {
     "name": "stderr",
     "output_type": "stream",
     "text": [
      "Processing Sentences:  63%|██████▎   | 315/500 [05:54<02:42,  1.14it/s]"
     ]
    },
    {
     "name": "stdout",
     "output_type": "stream",
     "text": [
      " > Processing time: 0.35710835456848145\n",
      " > Real-time factor: 0.09793829873426636\n",
      " > Text splitted to sentences.\n",
      "['Shinsei Bank is a type of Bank.']\n",
      " > Processing time: 0.2741694450378418\n",
      " > Real-time factor: 0.09331681067986557\n",
      " > Text splitted to sentences.\n",
      "['Maybank has origin country Malaysia.']\n"
     ]
    },
    {
     "name": "stderr",
     "output_type": "stream",
     "text": [
      "Processing Sentences:  63%|██████▎   | 316/500 [05:55<02:25,  1.27it/s]"
     ]
    },
    {
     "name": "stdout",
     "output_type": "stream",
     "text": [
      " > Processing time: 0.269315242767334\n",
      " > Real-time factor: 0.09351223707199097\n",
      " > Text splitted to sentences.\n",
      "['AT&T was established on 1983-10-05.']\n",
      " > Processing time: 0.5553772449493408\n",
      " > Real-time factor: 0.10970033907063355\n",
      " > Text splitted to sentences.\n",
      "['Bank Hapoalim is a type of Bank.']\n"
     ]
    },
    {
     "name": "stderr",
     "output_type": "stream",
     "text": [
      "Processing Sentences:  63%|██████▎   | 317/500 [05:56<02:27,  1.24it/s]"
     ]
    },
    {
     "name": "stdout",
     "output_type": "stream",
     "text": [
      " > Processing time: 0.25418519973754883\n",
      " > Real-time factor: 0.09274529478112509\n",
      " > Text splitted to sentences.\n",
      "['Honda is a type of Auto showroom.']\n",
      " > Processing time: 0.3414957523345947\n",
      " > Real-time factor: 0.09705585351332509\n",
      " > Text splitted to sentences.\n",
      "['Suruga Bank is a type of Bank.']\n"
     ]
    },
    {
     "name": "stderr",
     "output_type": "stream",
     "text": [
      "Processing Sentences:  64%|██████▎   | 318/500 [05:56<02:18,  1.31it/s]"
     ]
    },
    {
     "name": "stdout",
     "output_type": "stream",
     "text": [
      " > Processing time: 0.2877686023712158\n",
      " > Real-time factor: 0.10282113174561364\n",
      " > Text splitted to sentences.\n",
      "['Sherwin-Williams has origin country United States of America.']\n",
      " > Processing time: 0.42996883392333984\n",
      " > Real-time factor: 0.0990059814955059\n",
      " > Text splitted to sentences.\n",
      "['Banco do Brasil is a type of Bank.']\n"
     ]
    },
    {
     "name": "stderr",
     "output_type": "stream",
     "text": [
      "Processing Sentences:  64%|██████▍   | 319/500 [05:57<02:19,  1.30it/s]"
     ]
    },
    {
     "name": "stdout",
     "output_type": "stream",
     "text": [
      " > Processing time: 0.3215150833129883\n",
      " > Real-time factor: 0.09613538168598654\n",
      " > Text splitted to sentences.\n",
      "['Hugo Boss has origin country Germany.']\n",
      " > Processing time: 0.29784107208251953\n",
      " > Real-time factor: 0.0949924155204171\n",
      " > Text splitted to sentences.\n",
      "['Chow Tai Fook was established on 1929-01-01']\n"
     ]
    },
    {
     "name": "stderr",
     "output_type": "stream",
     "text": [
      "Processing Sentences:  64%|██████▍   | 320/500 [05:58<02:24,  1.25it/s]"
     ]
    },
    {
     "name": "stdout",
     "output_type": "stream",
     "text": [
      " > Processing time: 0.5329384803771973\n",
      " > Real-time factor: 0.10360499975593525\n",
      " > Text splitted to sentences.\n",
      "['Bridgestone was established on 1931-01-01.']\n",
      " > Processing time: 0.49950528144836426\n",
      " > Real-time factor: 0.10169607268370912\n",
      " > Text splitted to sentences.\n",
      "['Banca Monte dei Paschi di Siena is a type of Bank.']\n"
     ]
    },
    {
     "name": "stderr",
     "output_type": "stream",
     "text": [
      "Processing Sentences:  64%|██████▍   | 321/500 [05:59<02:34,  1.16it/s]"
     ]
    },
    {
     "name": "stdout",
     "output_type": "stream",
     "text": [
      " > Processing time: 0.458453893661499\n",
      " > Real-time factor: 0.1002072596672884\n",
      " > Text splitted to sentences.\n",
      "['Del Taco was established on 1965-01-01.']\n",
      " > Processing time: 0.49549174308776855\n",
      " > Real-time factor: 0.10208544751724188\n",
      " > Text splitted to sentences.\n",
      "['IHOP is a type of Restaurant.']\n"
     ]
    },
    {
     "name": "stderr",
     "output_type": "stream",
     "text": [
      "Processing Sentences:  64%|██████▍   | 322/500 [06:00<02:31,  1.18it/s]"
     ]
    },
    {
     "name": "stdout",
     "output_type": "stream",
     "text": [
      " > Processing time: 0.27999019622802734\n",
      " > Real-time factor: 0.10528280741521152\n",
      " > Text splitted to sentences.\n",
      "['Attijariwafa Bank was established on 1911-01-01.']\n",
      " > Processing time: 0.5280730724334717\n",
      " > Real-time factor: 0.1010624500690707\n",
      " > Text splitted to sentences.\n",
      "['BNP Paribas has origin country France.']\n"
     ]
    },
    {
     "name": "stderr",
     "output_type": "stream",
     "text": [
      "Processing Sentences:  65%|██████▍   | 323/500 [06:01<02:31,  1.17it/s]"
     ]
    },
    {
     "name": "stdout",
     "output_type": "stream",
     "text": [
      " > Processing time: 0.3061211109161377\n",
      " > Real-time factor: 0.09448446942470375\n",
      " > Text splitted to sentences.\n",
      "['Casio has origin country Japan.']\n",
      " > Processing time: 0.2853105068206787\n",
      " > Real-time factor: 0.10454494608142724\n",
      " > Text splitted to sentences.\n",
      "['Woolworths Limited was established on 1924-01-01']\n"
     ]
    },
    {
     "name": "stderr",
     "output_type": "stream",
     "text": [
      "Processing Sentences:  65%|██████▍   | 324/500 [06:02<02:35,  1.14it/s]"
     ]
    },
    {
     "name": "stdout",
     "output_type": "stream",
     "text": [
      " > Processing time: 0.6032764911651611\n",
      " > Real-time factor: 0.10603117132852796\n",
      " > Text splitted to sentences.\n",
      "['Advance Auto Parts has origin country United States of America.']\n",
      " > Processing time: 0.4526066780090332\n",
      " > Real-time factor: 0.1017700404847771\n",
      " > Text splitted to sentences.\n",
      "['Lamborghini has origin country Italy.']\n"
     ]
    },
    {
     "name": "stderr",
     "output_type": "stream",
     "text": [
      "Processing Sentences:  65%|██████▌   | 325/500 [06:03<02:32,  1.15it/s]"
     ]
    },
    {
     "name": "stdout",
     "output_type": "stream",
     "text": [
      " > Processing time: 0.3589663505554199\n",
      " > Real-time factor: 0.11119363943789348\n",
      " > Text splitted to sentences.\n",
      "['Shoprite is a type of Retail store.']\n",
      " > Processing time: 0.32915282249450684\n",
      " > Real-time factor: 0.10195858249050174\n",
      " > Text splitted to sentences.\n",
      "['Reebok has origin country United States of America.']\n"
     ]
    },
    {
     "name": "stderr",
     "output_type": "stream",
     "text": [
      "Processing Sentences:  65%|██████▌   | 326/500 [06:03<02:25,  1.19it/s]"
     ]
    },
    {
     "name": "stdout",
     "output_type": "stream",
     "text": [
      " > Processing time: 0.39317750930786133\n",
      " > Real-time factor: 0.10198527291829407\n",
      " > Text splitted to sentences.\n",
      "['Attijariwafa Bank has origin country Morocco.']\n",
      " > Processing time: 0.3852090835571289\n",
      " > Real-time factor: 0.10270192847304474\n",
      " > Text splitted to sentences.\n",
      "['Handelsbanken was established on 1871-01-01']\n"
     ]
    },
    {
     "name": "stderr",
     "output_type": "stream",
     "text": [
      "Processing Sentences:  65%|██████▌   | 327/500 [06:04<02:32,  1.14it/s]"
     ]
    },
    {
     "name": "stdout",
     "output_type": "stream",
     "text": [
      " > Processing time: 0.5420141220092773\n",
      " > Real-time factor: 0.10191884457552672\n",
      " > Text splitted to sentences.\n",
      "['IHOP was established on 1958-01-01.']\n",
      " > Processing time: 0.47899961471557617\n",
      " > Real-time factor: 0.10085887609318615\n",
      " > Text splitted to sentences.\n",
      "['Casio has origin country Japan.']\n"
     ]
    },
    {
     "name": "stderr",
     "output_type": "stream",
     "text": [
      "Processing Sentences:  66%|██████▌   | 328/500 [06:05<02:25,  1.18it/s]"
     ]
    },
    {
     "name": "stdout",
     "output_type": "stream",
     "text": [
      " > Processing time: 0.2565631866455078\n",
      " > Real-time factor: 0.09361295779609226\n",
      " > Text splitted to sentences.\n",
      "['Urban Outfitters has Richard Hayne as CEO.']\n",
      " > Processing time: 0.3983471393585205\n",
      " > Real-time factor: 0.1124712459390414\n",
      " > Text splitted to sentences.\n",
      "['Lidl is a type of Retail store.']\n"
     ]
    },
    {
     "name": "stderr",
     "output_type": "stream",
     "text": [
      "Processing Sentences:  66%|██████▌   | 329/500 [06:06<02:16,  1.25it/s]"
     ]
    },
    {
     "name": "stdout",
     "output_type": "stream",
     "text": [
      " > Processing time: 0.25133657455444336\n",
      " > Real-time factor: 0.09093547303960153\n",
      " > Text splitted to sentences.\n",
      "['Whataburger was established on 1950-01-01.']\n",
      " > Processing time: 0.4501216411590576\n",
      " > Real-time factor: 0.0988879143507614\n",
      " > Text splitted to sentences.\n",
      "['Burger King is a type of Restaurant.']\n",
      " > Processing time: 8.801703929901123\n",
      " > Real-time factor: 0.10966420660520378\n"
     ]
    },
    {
     "name": "stderr",
     "output_type": "stream",
     "text": [
      "Processing Sentences:  66%|██████▌   | 330/500 [06:16<09:50,  3.47s/it]"
     ]
    },
    {
     "name": "stdout",
     "output_type": "stream",
     "text": [
      " > Text splitted to sentences.\n",
      "['Banc Sabadell has origin country Spain.']\n",
      " > Processing time: 0.32062506675720215\n",
      " > Real-time factor: 0.09488112950929123\n",
      " > Text splitted to sentences.\n",
      "['Five Below was established on 2002-01-01']\n"
     ]
    },
    {
     "name": "stderr",
     "output_type": "stream",
     "text": [
      "Processing Sentences:  66%|██████▌   | 331/500 [06:16<07:33,  2.68s/it]"
     ]
    },
    {
     "name": "stdout",
     "output_type": "stream",
     "text": [
      " > Processing time: 0.46579456329345703\n",
      " > Real-time factor: 0.10053612099276357\n",
      " > Text splitted to sentences.\n",
      "['Amul was established on 1946-01-01.']\n",
      " > Processing time: 0.5234842300415039\n",
      " > Real-time factor: 0.10708426666557036\n",
      " > Text splitted to sentences.\n",
      "['Cartier has Louis-François Cartier as CEO.']\n",
      "cartier has louis françois cartier as ceo.\n",
      " [!] Character 'ç' not found in the vocabulary. Discarding it.\n"
     ]
    },
    {
     "name": "stderr",
     "output_type": "stream",
     "text": [
      "Processing Sentences:  66%|██████▋   | 332/500 [06:17<06:01,  2.15s/it]"
     ]
    },
    {
     "name": "stdout",
     "output_type": "stream",
     "text": [
      " > Processing time: 0.35309410095214844\n",
      " > Real-time factor: 0.09592111332045725\n",
      " > Text splitted to sentences.\n",
      "['Michelin is a type of Tyre store.']\n",
      " > Processing time: 0.28191328048706055\n",
      " > Real-time factor: 0.09230499873395827\n",
      " > Text splitted to sentences.\n",
      "['Aral AG is a type of Petrol station.']\n"
     ]
    },
    {
     "name": "stderr",
     "output_type": "stream",
     "text": [
      "Processing Sentences:  67%|██████▋   | 333/500 [06:18<04:44,  1.70s/it]"
     ]
    },
    {
     "name": "stdout",
     "output_type": "stream",
     "text": [
      " > Processing time: 0.33152174949645996\n",
      " > Real-time factor: 0.09391128695268425\n",
      " > Text splitted to sentences.\n",
      "['AT&T is a type of Bank.']\n",
      " > Processing time: 0.28605031967163086\n",
      " > Real-time factor: 0.09330487498164881\n",
      " > Text splitted to sentences.\n",
      "['PGNiG is a type of Petrol station.']\n"
     ]
    },
    {
     "name": "stderr",
     "output_type": "stream",
     "text": [
      "Processing Sentences:  67%|██████▋   | 334/500 [06:18<03:46,  1.36s/it]"
     ]
    },
    {
     "name": "stdout",
     "output_type": "stream",
     "text": [
      " > Processing time: 0.25839757919311523\n",
      " > Real-time factor: 0.09045063851295707\n",
      " > Text splitted to sentences.\n",
      "[\"Arby's is a type of Restaurant.\"]\n",
      " > Processing time: 0.283017635345459\n",
      " > Real-time factor: 0.09231566360010902\n",
      " > Text splitted to sentences.\n",
      "['China CITIC Bank is a type of Bank.']\n"
     ]
    },
    {
     "name": "stderr",
     "output_type": "stream",
     "text": [
      "Processing Sentences:  67%|██████▋   | 335/500 [06:19<03:08,  1.14s/it]"
     ]
    },
    {
     "name": "stdout",
     "output_type": "stream",
     "text": [
      " > Processing time: 0.3085200786590576\n",
      " > Real-time factor: 0.09660968720791042\n",
      " > Text splitted to sentences.\n",
      "['OTP Bank is a type of Bank.']\n",
      " > Processing time: 0.2852823734283447\n",
      " > Real-time factor: 0.10680651205676109\n",
      " > Text splitted to sentences.\n",
      "['ICICI Bank has origin country India.']\n"
     ]
    },
    {
     "name": "stderr",
     "output_type": "stream",
     "text": [
      "Processing Sentences:  67%|██████▋   | 336/500 [06:20<02:40,  1.02it/s]"
     ]
    },
    {
     "name": "stdout",
     "output_type": "stream",
     "text": [
      " > Processing time: 0.2838404178619385\n",
      " > Real-time factor: 0.09364797123916303\n",
      " > Text splitted to sentences.\n",
      "['AutoZone is a type of Auto showroom.']\n",
      " > Processing time: 0.2754504680633545\n",
      " > Real-time factor: 0.09301768593477344\n",
      " > Text splitted to sentences.\n",
      "[\"Goody's is a type of Restaurant.\"]\n"
     ]
    },
    {
     "name": "stderr",
     "output_type": "stream",
     "text": [
      "Processing Sentences:  67%|██████▋   | 337/500 [06:21<02:46,  1.02s/it]"
     ]
    },
    {
     "name": "stdout",
     "output_type": "stream",
     "text": [
      " > Processing time: 0.7903447151184082\n",
      " > Real-time factor: 0.10619029058424065\n",
      " > Text splitted to sentences.\n",
      "['Mango was established on 1984-01-01.']\n",
      " > Processing time: 0.47739338874816895\n",
      " > Real-time factor: 0.10408286091893218\n",
      " > Text splitted to sentences.\n",
      "['Lacoste was established on 1933-01-01']\n"
     ]
    },
    {
     "name": "stderr",
     "output_type": "stream",
     "text": [
      "Processing Sentences:  68%|██████▊   | 338/500 [06:22<02:44,  1.01s/it]"
     ]
    },
    {
     "name": "stdout",
     "output_type": "stream",
     "text": [
      " > Processing time: 0.4667208194732666\n",
      " > Real-time factor: 0.09732177777827138\n",
      " > Text splitted to sentences.\n",
      "['OMV was established on 1956-01-01.']\n",
      " > Processing time: 0.5062699317932129\n",
      " > Real-time factor: 0.10608229432150244\n",
      " > Text splitted to sentences.\n",
      "['7-Eleven was established on 1927-01-01']\n"
     ]
    },
    {
     "name": "stderr",
     "output_type": "stream",
     "text": [
      "Processing Sentences:  68%|██████▊   | 339/500 [06:23<02:45,  1.03s/it]"
     ]
    },
    {
     "name": "stdout",
     "output_type": "stream",
     "text": [
      " > Processing time: 0.5168979167938232\n",
      " > Real-time factor: 0.10163360559016803\n",
      " > Text splitted to sentences.\n",
      "['Volkswagen has origin country Germany.']\n",
      " > Processing time: 0.29753899574279785\n",
      " > Real-time factor: 0.09596207079523597\n",
      " > Text splitted to sentences.\n",
      "['Royal Bank of Canada was established on 1864-01-01']\n"
     ]
    },
    {
     "name": "stderr",
     "output_type": "stream",
     "text": [
      "Processing Sentences:  68%|██████▊   | 340/500 [06:24<02:40,  1.00s/it]"
     ]
    },
    {
     "name": "stdout",
     "output_type": "stream",
     "text": [
      " > Processing time: 0.6004905700683594\n",
      " > Real-time factor: 0.10819075263112272\n",
      " > Text splitted to sentences.\n",
      "['Zara has origin country Spain.']\n",
      " > Processing time: 1.226006031036377\n",
      " > Real-time factor: 0.10785761643932378\n",
      " > Text splitted to sentences.\n",
      "['Alpha Bank was established on 1879-01-01']\n"
     ]
    },
    {
     "name": "stderr",
     "output_type": "stream",
     "text": [
      "Processing Sentences:  68%|██████▊   | 341/500 [06:26<03:23,  1.28s/it]"
     ]
    },
    {
     "name": "stdout",
     "output_type": "stream",
     "text": [
      " > Processing time: 0.6071107387542725\n",
      " > Real-time factor: 0.11317117365693652\n",
      " > Text splitted to sentences.\n",
      "['TELUS was established on 1990-01-01.']\n",
      " > Processing time: 0.45568108558654785\n",
      " > Real-time factor: 0.10010927723162143\n",
      " > Text splitted to sentences.\n",
      "['Bank Rakyat Indonesia has Raden Bei Aria Wirjaatmadja as CEO.']\n"
     ]
    },
    {
     "name": "stderr",
     "output_type": "stream",
     "text": [
      "Processing Sentences:  68%|██████▊   | 342/500 [06:27<03:14,  1.23s/it]"
     ]
    },
    {
     "name": "stdout",
     "output_type": "stream",
     "text": [
      " > Processing time: 0.6125857830047607\n",
      " > Real-time factor: 0.10855339876603265\n",
      " > Text splitted to sentences.\n",
      "['Bank of India was established on 1906-09-07.']\n",
      " > Processing time: 0.5614626407623291\n",
      " > Real-time factor: 0.10310002688881875\n",
      " > Text splitted to sentences.\n",
      "['Sherwin-Williams is a type of Accessory store.']\n"
     ]
    },
    {
     "name": "stderr",
     "output_type": "stream",
     "text": [
      "Processing Sentences:  69%|██████▊   | 343/500 [06:28<03:00,  1.15s/it]"
     ]
    },
    {
     "name": "stdout",
     "output_type": "stream",
     "text": [
      " > Processing time: 0.3446826934814453\n",
      " > Real-time factor: 0.0960598254710044\n",
      " > Text splitted to sentences.\n",
      "['Omega SA is a type of Accessory store.']\n",
      " > Processing time: 0.42256641387939453\n",
      " > Real-time factor: 0.10547896017524734\n",
      " > Text splitted to sentences.\n",
      "['Gianni Versace S.p. A. has origin country Italy.']\n"
     ]
    },
    {
     "name": "stderr",
     "output_type": "stream",
     "text": [
      "Processing Sentences:  69%|██████▉   | 344/500 [06:29<02:58,  1.14s/it]"
     ]
    },
    {
     "name": "stdout",
     "output_type": "stream",
     "text": [
      " > Processing time: 0.6524605751037598\n",
      " > Real-time factor: 0.10642350929871806\n",
      " > Text splitted to sentences.\n",
      "['Carrefour was established on 1959-11-30.']\n",
      " > Processing time: 0.5484650135040283\n",
      " > Real-time factor: 0.10638330003310893\n",
      " > Text splitted to sentences.\n",
      "['Speedway LLC is a type of Petrol station.']\n"
     ]
    },
    {
     "name": "stderr",
     "output_type": "stream",
     "text": [
      "Processing Sentences:  69%|██████▉   | 345/500 [06:30<02:49,  1.10s/it]"
     ]
    },
    {
     "name": "stdout",
     "output_type": "stream",
     "text": [
      " > Processing time: 0.38962769508361816\n",
      " > Real-time factor: 0.0966965005019109\n",
      " > Text splitted to sentences.\n",
      "['HSBC Holdings has Thomas Sutherland as CEO.']\n",
      " > Processing time: 0.3774123191833496\n",
      " > Real-time factor: 0.09531269055791712\n",
      " > Text splitted to sentences.\n",
      "['SM Department Store is a type of Retail store.']\n"
     ]
    },
    {
     "name": "stderr",
     "output_type": "stream",
     "text": [
      "Processing Sentences:  69%|██████▉   | 346/500 [06:31<02:36,  1.02s/it]"
     ]
    },
    {
     "name": "stdout",
     "output_type": "stream",
     "text": [
      " > Processing time: 0.41689443588256836\n",
      " > Real-time factor: 0.10466982045011196\n",
      " > Text splitted to sentences.\n",
      "['ICICI Bank is a type of Bank.']\n",
      " > Processing time: 0.28246355056762695\n",
      " > Real-time factor: 0.09501344413619987\n",
      " > Text splitted to sentences.\n",
      "[\"Kohl's has origin country United States of America.\"]\n"
     ]
    },
    {
     "name": "stderr",
     "output_type": "stream",
     "text": [
      "Processing Sentences:  69%|██████▉   | 347/500 [06:31<02:20,  1.09it/s]"
     ]
    },
    {
     "name": "stdout",
     "output_type": "stream",
     "text": [
      " > Processing time: 0.36417484283447266\n",
      " > Real-time factor: 0.09620058563949735\n",
      " > Text splitted to sentences.\n",
      "['Union Bank of India was established on 1919-11-11.']\n",
      " > Processing time: 0.6688354015350342\n",
      " > Real-time factor: 0.10588613299718196\n",
      " > Text splitted to sentences.\n",
      "['Turkcell was established on 1994-01-01']\n"
     ]
    },
    {
     "name": "stderr",
     "output_type": "stream",
     "text": [
      "Processing Sentences:  70%|██████▉   | 348/500 [06:33<02:34,  1.02s/it]"
     ]
    },
    {
     "name": "stdout",
     "output_type": "stream",
     "text": [
      " > Processing time: 0.5233633518218994\n",
      " > Real-time factor: 0.10757048758084342\n",
      " > Text splitted to sentences.\n",
      "['Bank of America has origin country United States of America.']\n",
      " > Processing time: 0.45596766471862793\n",
      " > Real-time factor: 0.09941155480784039\n",
      " > Text splitted to sentences.\n",
      "['Pepe Jeans was established on 1973-01-01']\n"
     ]
    },
    {
     "name": "stderr",
     "output_type": "stream",
     "text": [
      "Processing Sentences:  70%|██████▉   | 349/500 [06:34<02:36,  1.04s/it]"
     ]
    },
    {
     "name": "stdout",
     "output_type": "stream",
     "text": [
      " > Processing time: 0.5833132266998291\n",
      " > Real-time factor: 0.10826647010716525\n",
      " > Text splitted to sentences.\n",
      "['HomeSense is a type of Retail store.']\n",
      " > Processing time: 0.3582630157470703\n",
      " > Real-time factor: 0.11598102386103623\n",
      " > Text splitted to sentences.\n",
      "['Blockbuster LLC has origin country United States of America.']\n"
     ]
    },
    {
     "name": "stderr",
     "output_type": "stream",
     "text": [
      "Processing Sentences:  70%|███████   | 350/500 [06:35<02:26,  1.02it/s]"
     ]
    },
    {
     "name": "stdout",
     "output_type": "stream",
     "text": [
      " > Processing time: 0.43735742568969727\n",
      " > Real-time factor: 0.1015215095635193\n",
      " > Text splitted to sentences.\n",
      "['Bridgestone is a type of Tyre store.']\n",
      " > Processing time: 0.32817816734313965\n",
      " > Real-time factor: 0.0984695268603885\n",
      " > Text splitted to sentences.\n",
      "['Asda is a type of Retail store.']\n"
     ]
    },
    {
     "name": "stderr",
     "output_type": "stream",
     "text": [
      "Processing Sentences:  70%|███████   | 351/500 [06:35<02:12,  1.12it/s]"
     ]
    },
    {
     "name": "stdout",
     "output_type": "stream",
     "text": [
      " > Processing time: 0.3306887149810791\n",
      " > Real-time factor: 0.10705435408346244\n",
      " > Text splitted to sentences.\n",
      "['Marks & Spencer is a type of Retail store.']\n",
      " > Processing time: 0.3736276626586914\n",
      " > Real-time factor: 0.097797839050619\n",
      " > Text splitted to sentences.\n",
      "['Neiman Marcus has origin country United States of America.']\n"
     ]
    },
    {
     "name": "stderr",
     "output_type": "stream",
     "text": [
      "Processing Sentences:  70%|███████   | 352/500 [06:36<02:09,  1.15it/s]"
     ]
    },
    {
     "name": "stdout",
     "output_type": "stream",
     "text": [
      " > Processing time: 0.4098782539367676\n",
      " > Real-time factor: 0.09723936455613838\n",
      " > Text splitted to sentences.\n",
      "['Chanel has Coco Chanel as CEO.']\n",
      " > Processing time: 0.28752923011779785\n",
      " > Real-time factor: 0.09634116709362757\n",
      " > Text splitted to sentences.\n",
      "['Gunma Bank is a type of Bank.']\n"
     ]
    },
    {
     "name": "stderr",
     "output_type": "stream",
     "text": [
      "Processing Sentences:  71%|███████   | 353/500 [06:37<01:56,  1.26it/s]"
     ]
    },
    {
     "name": "stdout",
     "output_type": "stream",
     "text": [
      " > Processing time: 0.29083776473999023\n",
      " > Real-time factor: 0.10478713582543765\n",
      " > Text splitted to sentences.\n",
      "['Kyocera was established on 1959-04-01.']\n",
      " > Processing time: 0.5270822048187256\n",
      " > Real-time factor: 0.10630545346345767\n",
      " > Text splitted to sentences.\n",
      "['El Corte Inglés was established on 1940-06-28']\n"
     ]
    },
    {
     "name": "stderr",
     "output_type": "stream",
     "text": [
      "Processing Sentences:  71%|███████   | 354/500 [06:38<02:11,  1.11it/s]"
     ]
    },
    {
     "name": "stdout",
     "output_type": "stream",
     "text": [
      " > Processing time: 0.5666706562042236\n",
      " > Real-time factor: 0.10041699859604548\n",
      " > Text splitted to sentences.\n",
      "['Northern Trust was established on 1889-01-01.']\n",
      " > Processing time: 0.5384616851806641\n",
      " > Real-time factor: 0.1030506193430916\n",
      " > Text splitted to sentences.\n",
      "['Wells Fargo has William Fargo as CEO.']\n"
     ]
    },
    {
     "name": "stderr",
     "output_type": "stream",
     "text": [
      "Processing Sentences:  71%|███████   | 355/500 [06:39<02:09,  1.12it/s]"
     ]
    },
    {
     "name": "stdout",
     "output_type": "stream",
     "text": [
      " > Processing time: 0.3055450916290283\n",
      " > Real-time factor: 0.09464583713222177\n",
      " > Text splitted to sentences.\n",
      "['Kmart was established on 1962-01-01.']\n",
      " > Processing time: 0.46045613288879395\n",
      " > Real-time factor: 0.10039014525191728\n",
      " > Text splitted to sentences.\n",
      "['Franprix is a type of Retail store.']\n"
     ]
    },
    {
     "name": "stderr",
     "output_type": "stream",
     "text": [
      "Processing Sentences:  71%|███████   | 356/500 [06:40<02:07,  1.13it/s]"
     ]
    },
    {
     "name": "stdout",
     "output_type": "stream",
     "text": [
      " > Processing time: 0.3554201126098633\n",
      " > Real-time factor: 0.10446008587981827\n",
      " > Text splitted to sentences.\n",
      "['Dickies is a type of Apparel store.']\n",
      " > Processing time: 0.2880399227142334\n",
      " > Real-time factor: 0.09431100463068494\n",
      " > Text splitted to sentences.\n",
      "['Big Bazaar is a type of Retail store.']\n"
     ]
    },
    {
     "name": "stderr",
     "output_type": "stream",
     "text": [
      "Processing Sentences:  71%|███████▏  | 357/500 [06:40<01:56,  1.23it/s]"
     ]
    },
    {
     "name": "stdout",
     "output_type": "stream",
     "text": [
      " > Processing time: 0.33307933807373047\n",
      " > Real-time factor: 0.09625182696222685\n",
      " > Text splitted to sentences.\n",
      "['Frontier Communications has origin country United States of America.']\n",
      " > Processing time: 0.4794626235961914\n",
      " > Real-time factor: 0.10322753134564933\n",
      " > Text splitted to sentences.\n",
      "['Pull&Bear is a type of Apparel store.']\n"
     ]
    },
    {
     "name": "stderr",
     "output_type": "stream",
     "text": [
      "Processing Sentences:  72%|███████▏  | 358/500 [06:41<01:55,  1.22it/s]"
     ]
    },
    {
     "name": "stdout",
     "output_type": "stream",
     "text": [
      " > Processing time: 0.2982909679412842\n",
      " > Real-time factor: 0.09513590377090542\n",
      " > Text splitted to sentences.\n",
      "['Kroger has Bernard Kroger as CEO.']\n",
      " > Processing time: 0.33591580390930176\n",
      " > Real-time factor: 0.09739826788607332\n",
      " > Text splitted to sentences.\n",
      "['HDFC Bank was established on 1994-01-01']\n"
     ]
    },
    {
     "name": "stderr",
     "output_type": "stream",
     "text": [
      "Processing Sentences:  72%|███████▏  | 359/500 [06:42<02:00,  1.17it/s]"
     ]
    },
    {
     "name": "stdout",
     "output_type": "stream",
     "text": [
      " > Processing time: 0.5598733425140381\n",
      " > Real-time factor: 0.10237169300148054\n",
      " > Text splitted to sentences.\n",
      "['Galp Energia was established on 1999-01-01.']\n",
      " > Processing time: 0.5611753463745117\n",
      " > Real-time factor: 0.10304727171517308\n",
      " > Text splitted to sentences.\n",
      "['Indian Oil Corporation has origin country India.']\n"
     ]
    },
    {
     "name": "stderr",
     "output_type": "stream",
     "text": [
      "Processing Sentences:  72%|███████▏  | 360/500 [06:43<02:05,  1.12it/s]"
     ]
    },
    {
     "name": "stdout",
     "output_type": "stream",
     "text": [
      " > Processing time: 0.375164270401001\n",
      " > Real-time factor: 0.10096138647654354\n",
      " > Text splitted to sentences.\n",
      "['Bendigo Bank was established on 1858-01-01.']\n",
      " > Processing time: 0.565122127532959\n",
      " > Real-time factor: 0.10791311237444355\n",
      " > Text splitted to sentences.\n",
      "['SunTrust Banks was established on 1811-01-01']\n"
     ]
    },
    {
     "name": "stderr",
     "output_type": "stream",
     "text": [
      "Processing Sentences:  72%|███████▏  | 361/500 [06:44<02:14,  1.04it/s]"
     ]
    },
    {
     "name": "stdout",
     "output_type": "stream",
     "text": [
      " > Processing time: 0.5120623111724854\n",
      " > Real-time factor: 0.09909926591554297\n",
      " > Text splitted to sentences.\n",
      "['Jumbo is a type of Retail store.']\n",
      " > Processing time: 0.26516222953796387\n",
      " > Real-time factor: 0.09207021858957079\n",
      " > Text splitted to sentences.\n",
      "['First Republic Bank was established on 1985-01-01']\n"
     ]
    },
    {
     "name": "stderr",
     "output_type": "stream",
     "text": [
      "Processing Sentences:  72%|███████▏  | 362/500 [06:45<02:10,  1.06it/s]"
     ]
    },
    {
     "name": "stdout",
     "output_type": "stream",
     "text": [
      " > Processing time: 0.5966842174530029\n",
      " > Real-time factor: 0.1086412256807266\n",
      " > Text splitted to sentences.\n",
      "['Athleta has origin country Brazil.']\n",
      " > Processing time: 0.32769203186035156\n",
      " > Real-time factor: 0.10895068308987865\n",
      " > Text splitted to sentences.\n",
      "['MetroCorp Bancshares is a type of Bank.']\n"
     ]
    },
    {
     "name": "stderr",
     "output_type": "stream",
     "text": [
      "Processing Sentences:  73%|███████▎  | 363/500 [06:46<01:58,  1.15it/s]"
     ]
    },
    {
     "name": "stdout",
     "output_type": "stream",
     "text": [
      " > Processing time: 0.3221414089202881\n",
      " > Real-time factor: 0.09565850660811721\n",
      " > Text splitted to sentences.\n",
      "['Dairy Queen is a type of Restaurant.']\n",
      " > Processing time: 0.9692001342773438\n",
      " > Real-time factor: 0.10798600816969556\n",
      " > Text splitted to sentences.\n",
      "['Goodyear Tire and Rubber Company was established on 1898-08-29']\n"
     ]
    },
    {
     "name": "stderr",
     "output_type": "stream",
     "text": [
      "Processing Sentences:  73%|███████▎  | 364/500 [06:48<02:38,  1.17s/it]"
     ]
    },
    {
     "name": "stdout",
     "output_type": "stream",
     "text": [
      " > Processing time: 0.8110392093658447\n",
      " > Real-time factor: 0.1069684573076184\n",
      " > Text splitted to sentences.\n",
      "['Deutsche Bank is a type of Bank.']\n",
      " > Processing time: 0.2792093753814697\n",
      " > Real-time factor: 0.09503221053286934\n",
      " > Text splitted to sentences.\n",
      "['Reliance Retail is a type of Retail store.']\n"
     ]
    },
    {
     "name": "stderr",
     "output_type": "stream",
     "text": [
      "Processing Sentences:  73%|███████▎  | 365/500 [06:48<02:17,  1.02s/it]"
     ]
    },
    {
     "name": "stdout",
     "output_type": "stream",
     "text": [
      " > Processing time: 0.35219311714172363\n",
      " > Real-time factor: 0.09659027652953987\n",
      " > Text splitted to sentences.\n",
      "['Halkbank a.d. is a type of Bank.']\n",
      " > Processing time: 0.2904231548309326\n",
      " > Real-time factor: 0.09473122136127314\n",
      " > Text splitted to sentences.\n",
      "['Allied Irish Banks is a type of Bank.']\n"
     ]
    },
    {
     "name": "stderr",
     "output_type": "stream",
     "text": [
      "Processing Sentences:  73%|███████▎  | 366/500 [06:49<02:01,  1.10it/s]"
     ]
    },
    {
     "name": "stdout",
     "output_type": "stream",
     "text": [
      " > Processing time: 0.3302316665649414\n",
      " > Real-time factor: 0.09575016105297915\n",
      " > Text splitted to sentences.\n",
      "['Puma SE has origin country Germany.']\n",
      " > Processing time: 0.2818727493286133\n",
      " > Real-time factor: 0.09481471385611305\n",
      " > Text splitted to sentences.\n",
      "['Kungfu is a type of Restaurant.']\n"
     ]
    },
    {
     "name": "stderr",
     "output_type": "stream",
     "text": [
      "Processing Sentences:  73%|███████▎  | 367/500 [06:50<02:06,  1.05it/s]"
     ]
    },
    {
     "name": "stdout",
     "output_type": "stream",
     "text": [
      " > Processing time: 0.7091894149780273\n",
      " > Real-time factor: 0.1051254880624496\n",
      " > Text splitted to sentences.\n",
      "['Ford Motor Company was established on 1903-06-16.']\n",
      "   > Decoder stopped with `max_decoder_steps` 10000\n",
      " > Processing time: 12.896841049194336\n",
      " > Real-time factor: 0.11054177361645019\n",
      " > Text splitted to sentences.\n",
      "['Great Canadian Dollar Store is a type of Apparel store.']\n"
     ]
    },
    {
     "name": "stderr",
     "output_type": "stream",
     "text": [
      "Processing Sentences:  74%|███████▎  | 368/500 [07:04<10:40,  4.85s/it]"
     ]
    },
    {
     "name": "stdout",
     "output_type": "stream",
     "text": [
      " > Processing time: 0.4378931522369385\n",
      " > Real-time factor: 0.10164586498678303\n",
      " > Text splitted to sentences.\n",
      "['Shoppers Drug Mart has Murray Koffler as CEO.']\n",
      " > Processing time: 0.4481351375579834\n",
      " > Real-time factor: 0.09998158271767782\n",
      " > Text splitted to sentences.\n",
      "['Screwfix was established on 1979-01-01']\n"
     ]
    },
    {
     "name": "stderr",
     "output_type": "stream",
     "text": [
      "Processing Sentences:  74%|███████▍  | 369/500 [07:05<08:05,  3.71s/it]"
     ]
    },
    {
     "name": "stdout",
     "output_type": "stream",
     "text": [
      " > Processing time: 0.5354049205780029\n",
      " > Real-time factor: 0.10201229174223149\n",
      " > Text splitted to sentences.\n",
      "['AT&T is a type of Bank.']\n",
      " > Processing time: 0.33919644355773926\n",
      " > Real-time factor: 0.14825724667872164\n",
      " > Text splitted to sentences.\n",
      "['Fabindia is a type of Apparel store.']\n"
     ]
    },
    {
     "name": "stderr",
     "output_type": "stream",
     "text": [
      "Processing Sentences:  74%|███████▍  | 370/500 [07:06<06:05,  2.81s/it]"
     ]
    },
    {
     "name": "stdout",
     "output_type": "stream",
     "text": [
      " > Processing time: 0.34418749809265137\n",
      " > Real-time factor: 0.10585436193013505\n",
      " > Text splitted to sentences.\n",
      "['Target Corporation is a type of Retail store.']\n",
      " > Processing time: 0.37911033630371094\n",
      " > Real-time factor: 0.09774769545716588\n",
      " > Text splitted to sentences.\n",
      "['Bilbao Vizcaya Argentaria Bank has origin country Spain.']\n"
     ]
    },
    {
     "name": "stderr",
     "output_type": "stream",
     "text": [
      "Processing Sentences:  74%|███████▍  | 371/500 [07:08<05:46,  2.69s/it]"
     ]
    },
    {
     "name": "stdout",
     "output_type": "stream",
     "text": [
      " > Processing time: 1.909059762954712\n",
      " > Real-time factor: 0.10796187721375362\n",
      " > Text splitted to sentences.\n",
      "['Tuesday Morning was established on 1974-01-01.']\n",
      " > Processing time: 0.5594644546508789\n",
      " > Real-time factor: 0.10428945645417861\n",
      " > Text splitted to sentences.\n",
      "['Woolworths Limited was established on 1924-01-01']\n"
     ]
    },
    {
     "name": "stderr",
     "output_type": "stream",
     "text": [
      "Processing Sentences:  74%|███████▍  | 372/500 [07:09<04:46,  2.24s/it]"
     ]
    },
    {
     "name": "stdout",
     "output_type": "stream",
     "text": [
      " > Processing time: 0.5836172103881836\n",
      " > Real-time factor: 0.10739717827029183\n",
      " > Text splitted to sentences.\n",
      "['Banco Santander is a type of Bank.']\n",
      " > Processing time: 0.33153271675109863\n",
      " > Real-time factor: 0.09844721509860112\n",
      " > Text splitted to sentences.\n",
      "['Tractor Supply Company has origin country United States of America.']\n"
     ]
    },
    {
     "name": "stderr",
     "output_type": "stream",
     "text": [
      "Processing Sentences:  75%|███████▍  | 373/500 [07:10<03:52,  1.83s/it]"
     ]
    },
    {
     "name": "stdout",
     "output_type": "stream",
     "text": [
      " > Processing time: 0.4907557964324951\n",
      " > Real-time factor: 0.10513334866446951\n",
      " > Text splitted to sentences.\n",
      "['Armani is a type of Apparel store.']\n",
      " > Processing time: 0.2909369468688965\n",
      " > Real-time factor: 0.09635844265890361\n",
      " > Text splitted to sentences.\n",
      "['VakıfBank is a type of Bank.']\n"
     ]
    },
    {
     "name": "stderr",
     "output_type": "stream",
     "text": [
      "Processing Sentences:  75%|███████▍  | 374/500 [07:11<03:03,  1.46s/it]"
     ]
    },
    {
     "name": "stdout",
     "output_type": "stream",
     "text": [
      " > Processing time: 0.26336169242858887\n",
      " > Real-time factor: 0.09410042322482474\n",
      " > Text splitted to sentences.\n",
      "['Tuesday Morning is a type of Retail store.']\n",
      " > Processing time: 0.3429872989654541\n",
      " > Real-time factor: 0.09747976312368868\n",
      " > Text splitted to sentences.\n",
      "['Canon Inc. has origin country Japan.']\n"
     ]
    },
    {
     "name": "stderr",
     "output_type": "stream",
     "text": [
      "Processing Sentences:  75%|███████▌  | 375/500 [07:12<02:36,  1.25s/it]"
     ]
    },
    {
     "name": "stdout",
     "output_type": "stream",
     "text": [
      " > Processing time: 0.4024496078491211\n",
      " > Real-time factor: 0.09902265056544723\n",
      " > Text splitted to sentences.\n",
      "['Hiroshima Bank is a type of Bank.']\n",
      " > Processing time: 0.30679941177368164\n",
      " > Real-time factor: 0.09642142288497264\n",
      " > Text splitted to sentences.\n",
      "['The Timberland Company was established on 1952-01-01']\n"
     ]
    },
    {
     "name": "stderr",
     "output_type": "stream",
     "text": [
      "Processing Sentences:  75%|███████▌  | 376/500 [07:12<02:22,  1.15s/it]"
     ]
    },
    {
     "name": "stdout",
     "output_type": "stream",
     "text": [
      " > Processing time: 0.5504405498504639\n",
      " > Real-time factor: 0.10216510205557852\n",
      " > Text splitted to sentences.\n",
      "['Bentley has W. O. Bentley as CEO.']\n",
      " > Processing time: 0.4204223155975342\n",
      " > Real-time factor: 0.10680083017195426\n",
      " > Text splitted to sentences.\n",
      "['Fabindia is a type of Apparel store.']\n"
     ]
    },
    {
     "name": "stderr",
     "output_type": "stream",
     "text": [
      "Processing Sentences:  75%|███████▌  | 377/500 [07:13<02:08,  1.05s/it]"
     ]
    },
    {
     "name": "stdout",
     "output_type": "stream",
     "text": [
      " > Processing time: 0.35628509521484375\n",
      " > Real-time factor: 0.09771251678466797\n",
      " > Text splitted to sentences.\n",
      "[\"Shakey's Pizza is a type of Restaurant.\"]\n",
      " > Processing time: 0.37065792083740234\n",
      " > Real-time factor: 0.09974867157860673\n",
      " > Text splitted to sentences.\n",
      "['Commerzbank is a type of Bank.']\n"
     ]
    },
    {
     "name": "stderr",
     "output_type": "stream",
     "text": [
      "Processing Sentences:  76%|███████▌  | 378/500 [07:14<01:53,  1.07it/s]"
     ]
    },
    {
     "name": "stdout",
     "output_type": "stream",
     "text": [
      " > Processing time: 0.26277804374694824\n",
      " > Real-time factor: 0.09389188269089008\n",
      " > Text splitted to sentences.\n",
      "['Wingstop is a type of Restaurant.']\n",
      " > Processing time: 0.29801225662231445\n",
      " > Real-time factor: 0.10560507615264261\n",
      " > Text splitted to sentences.\n",
      "['National Bank of Canada was established on 1859-01-01']\n"
     ]
    },
    {
     "name": "stderr",
     "output_type": "stream",
     "text": [
      "Processing Sentences:  76%|███████▌  | 379/500 [07:15<01:55,  1.04it/s]"
     ]
    },
    {
     "name": "stdout",
     "output_type": "stream",
     "text": [
      " > Processing time: 0.6687674522399902\n",
      " > Real-time factor: 0.10826326149632756\n",
      " > Text splitted to sentences.\n",
      "['Canon Inc. was established on 1937-08-10.']\n",
      " > Processing time: 0.6287689208984375\n",
      " > Real-time factor: 0.11352314543602242\n",
      " > Text splitted to sentences.\n",
      "['Gordmans was established on 1936-01-01']\n"
     ]
    },
    {
     "name": "stderr",
     "output_type": "stream",
     "text": [
      "Processing Sentences:  76%|███████▌  | 380/500 [07:16<02:03,  1.03s/it]"
     ]
    },
    {
     "name": "stdout",
     "output_type": "stream",
     "text": [
      " > Processing time: 0.5228519439697266\n",
      " > Real-time factor: 0.10850102925512414\n",
      " > Text splitted to sentences.\n",
      "['Chicken Cottage was established on 1994-01-01.']\n",
      " > Processing time: 5.683966159820557\n",
      " > Real-time factor: 0.11031300066192602\n",
      " > Text splitted to sentences.\n",
      "['Audi has origin country Germany.']\n"
     ]
    },
    {
     "name": "stderr",
     "output_type": "stream",
     "text": [
      "Processing Sentences:  76%|███████▌  | 381/500 [07:22<05:08,  2.59s/it]"
     ]
    },
    {
     "name": "stdout",
     "output_type": "stream",
     "text": [
      " > Processing time: 0.2684662342071533\n",
      " > Real-time factor: 0.10507811105275013\n",
      " > Text splitted to sentences.\n",
      "[\"Victoria's Secret is a type of Apparel store.\"]\n",
      " > Processing time: 0.3660416603088379\n",
      " > Real-time factor: 0.0966937249593861\n",
      " > Text splitted to sentences.\n",
      "['Jack in the Box was established on 1951-01-01']\n"
     ]
    },
    {
     "name": "stderr",
     "output_type": "stream",
     "text": [
      "Processing Sentences:  76%|███████▋  | 382/500 [07:23<04:08,  2.11s/it]"
     ]
    },
    {
     "name": "stdout",
     "output_type": "stream",
     "text": [
      " > Processing time: 0.5524978637695312\n",
      " > Real-time factor: 0.10017249289664325\n",
      " > Text splitted to sentences.\n",
      "['Aéropostale was established on 1973-01-01.']\n",
      " > Processing time: 0.5074417591094971\n",
      " > Real-time factor: 0.10000259892360586\n",
      " > Text splitted to sentences.\n",
      "['Lane Bryant has origin country United States of America.']\n"
     ]
    },
    {
     "name": "stderr",
     "output_type": "stream",
     "text": [
      "Processing Sentences:  77%|███████▋  | 383/500 [07:24<03:27,  1.77s/it]"
     ]
    },
    {
     "name": "stdout",
     "output_type": "stream",
     "text": [
      " > Processing time: 0.4372587203979492\n",
      " > Real-time factor: 0.10667324730897924\n",
      " > Text splitted to sentences.\n",
      "['Michael Kors is a type of Accessories store.']\n",
      " > Processing time: 0.38132596015930176\n",
      " > Real-time factor: 0.10661692814861792\n",
      " > Text splitted to sentences.\n",
      "['East West Bank is a type of Bank.']\n"
     ]
    },
    {
     "name": "stderr",
     "output_type": "stream",
     "text": [
      "Processing Sentences:  77%|███████▋  | 384/500 [07:25<02:48,  1.45s/it]"
     ]
    },
    {
     "name": "stdout",
     "output_type": "stream",
     "text": [
      " > Processing time: 0.29166555404663086\n",
      " > Real-time factor: 0.09549812109064224\n",
      " > Text splitted to sentences.\n",
      "['Kungfu was established on 1994-01-01.']\n",
      " > Processing time: 0.49984049797058105\n",
      " > Real-time factor: 0.10681387599096091\n",
      " > Text splitted to sentences.\n",
      "['Nordea is a type of Bank.']\n"
     ]
    },
    {
     "name": "stderr",
     "output_type": "stream",
     "text": [
      "Processing Sentences:  77%|███████▋  | 385/500 [07:26<02:25,  1.26s/it]"
     ]
    },
    {
     "name": "stdout",
     "output_type": "stream",
     "text": [
      " > Processing time: 0.2753317356109619\n",
      " > Real-time factor: 0.09756789615295883\n",
      " > Text splitted to sentences.\n",
      "['Belk is a type of Retail store.']\n",
      " > Processing time: 0.28193163871765137\n",
      " > Real-time factor: 0.09337588070362011\n",
      " > Text splitted to sentences.\n",
      "['Hermès International S.A. has Thierry Hermès as CEO.']\n",
      "hermès international s.a. has thierry hermès as ceo.\n",
      " [!] Character 'è' not found in the vocabulary. Discarding it.\n"
     ]
    },
    {
     "name": "stderr",
     "output_type": "stream",
     "text": [
      "Processing Sentences:  77%|███████▋  | 386/500 [07:27<02:06,  1.11s/it]"
     ]
    },
    {
     "name": "stdout",
     "output_type": "stream",
     "text": [
      " > Processing time: 0.43686366081237793\n",
      " > Real-time factor: 0.10779816160377052\n",
      " > Text splitted to sentences.\n",
      "['Sears was established on 1886-01-01.']\n",
      "   > Decoder stopped with `max_decoder_steps` 10000\n",
      " > Processing time: 13.192412853240967\n",
      " > Real-time factor: 0.11307518713420224\n",
      " > Text splitted to sentences.\n",
      "['Rite Aid was established on 1962-01-01']\n"
     ]
    },
    {
     "name": "stderr",
     "output_type": "stream",
     "text": [
      "Processing Sentences:  77%|███████▋  | 387/500 [07:41<09:34,  5.08s/it]"
     ]
    },
    {
     "name": "stdout",
     "output_type": "stream",
     "text": [
      " > Processing time: 0.5447099208831787\n",
      " > Real-time factor: 0.10858937649604089\n",
      " > Text splitted to sentences.\n",
      "['Kipling was established on 1987-01-01.']\n",
      " > Processing time: 0.47539472579956055\n",
      " > Real-time factor: 0.09937105361633845\n",
      " > Text splitted to sentences.\n",
      "['Bank of Montreal is a type of Bank.']\n"
     ]
    },
    {
     "name": "stderr",
     "output_type": "stream",
     "text": [
      "Processing Sentences:  78%|███████▊  | 388/500 [07:42<07:06,  3.81s/it]"
     ]
    },
    {
     "name": "stdout",
     "output_type": "stream",
     "text": [
      " > Processing time: 0.3089144229888916\n",
      " > Real-time factor: 0.09500617924159033\n",
      " > Text splitted to sentences.\n",
      "['CarMax was established on 1993-01-01.']\n",
      " > Processing time: 0.5458338260650635\n",
      " > Real-time factor: 0.10707861089621575\n",
      " > Text splitted to sentences.\n",
      "['CIMB has origin country Malaysia.']\n"
     ]
    },
    {
     "name": "stderr",
     "output_type": "stream",
     "text": [
      "Processing Sentences:  78%|███████▊  | 389/500 [07:43<05:23,  2.92s/it]"
     ]
    },
    {
     "name": "stdout",
     "output_type": "stream",
     "text": [
      " > Processing time: 0.2550191879272461\n",
      " > Real-time factor: 0.09265708367050779\n",
      " > Text splitted to sentences.\n",
      "['Tommy Hilfiger has Tommy Hilfiger as CEO.']\n",
      " > Processing time: 0.40137648582458496\n",
      " > Real-time factor: 0.10869462950029596\n",
      " > Text splitted to sentences.\n",
      "['National Westminster Bank was established on 1968-01-01']\n"
     ]
    },
    {
     "name": "stderr",
     "output_type": "stream",
     "text": [
      "Processing Sentences:  78%|███████▊  | 390/500 [07:44<04:20,  2.37s/it]"
     ]
    },
    {
     "name": "stdout",
     "output_type": "stream",
     "text": [
      " > Processing time: 0.6316664218902588\n",
      " > Real-time factor: 0.1083673954521988\n",
      " > Text splitted to sentences.\n",
      "['Barneys New York has Barney Pressman as CEO.']\n",
      " > Processing time: 0.3337240219116211\n",
      " > Real-time factor: 0.09676276408519942\n",
      " > Text splitted to sentences.\n",
      "['Turkcell has Mehmet Emin Karamehmet as CEO.']\n"
     ]
    },
    {
     "name": "stderr",
     "output_type": "stream",
     "text": [
      "Processing Sentences:  78%|███████▊  | 391/500 [07:45<03:25,  1.88s/it]"
     ]
    },
    {
     "name": "stdout",
     "output_type": "stream",
     "text": [
      " > Processing time: 0.37888050079345703\n",
      " > Real-time factor: 0.10491153107413763\n",
      " > Text splitted to sentences.\n",
      "['Union Bank of India is a type of Bank.']\n",
      " > Processing time: 0.3803434371948242\n",
      " > Real-time factor: 0.09895427588901588\n",
      " > Text splitted to sentences.\n",
      "['Jimmy Choo Ltd is a type of Apparel store.']\n"
     ]
    },
    {
     "name": "stderr",
     "output_type": "stream",
     "text": [
      "Processing Sentences:  78%|███████▊  | 392/500 [07:45<02:49,  1.56s/it]"
     ]
    },
    {
     "name": "stdout",
     "output_type": "stream",
     "text": [
      " > Processing time: 0.4022831916809082\n",
      " > Real-time factor: 0.10725411559977784\n",
      " > Text splitted to sentences.\n",
      "['Polaroid Corporation has origin country United States of America.']\n",
      " > Processing time: 0.47580456733703613\n",
      " > Real-time factor: 0.10167749563674258\n",
      " > Text splitted to sentences.\n",
      "['Kroger has Bernard Kroger as CEO.']\n"
     ]
    },
    {
     "name": "stderr",
     "output_type": "stream",
     "text": [
      "Processing Sentences:  79%|███████▊  | 393/500 [07:46<02:24,  1.35s/it]"
     ]
    },
    {
     "name": "stdout",
     "output_type": "stream",
     "text": [
      " > Processing time: 0.34589529037475586\n",
      " > Real-time factor: 0.1079209751070207\n",
      " > Text splitted to sentences.\n",
      "['Columbia Sportswear Company is a type of Apparel store.']\n",
      " > Processing time: 0.48581624031066895\n",
      " > Real-time factor: 0.10895288953265103\n",
      " > Text splitted to sentences.\n",
      "['Bank of Montreal was established on 1817-01-01']\n"
     ]
    },
    {
     "name": "stderr",
     "output_type": "stream",
     "text": [
      "Processing Sentences:  79%|███████▉  | 394/500 [07:47<02:16,  1.28s/it]"
     ]
    },
    {
     "name": "stdout",
     "output_type": "stream",
     "text": [
      " > Processing time: 0.5812866687774658\n",
      " > Real-time factor: 0.10561446149096176\n",
      " > Text splitted to sentences.\n",
      "['Calvin Klein Inc has origin country United States of America.']\n",
      " > Processing time: 0.4742090702056885\n",
      " > Real-time factor: 0.10471388797904413\n",
      " > Text splitted to sentences.\n",
      "['Al-Rajhi Bank has origin country Saudi Arabia.']\n"
     ]
    },
    {
     "name": "stderr",
     "output_type": "stream",
     "text": [
      "Processing Sentences:  79%|███████▉  | 395/500 [07:48<02:02,  1.17s/it]"
     ]
    },
    {
     "name": "stdout",
     "output_type": "stream",
     "text": [
      " > Processing time: 0.38497400283813477\n",
      " > Real-time factor: 0.09837609821273956\n",
      " > Text splitted to sentences.\n",
      "['Quiznos is a type of Restaurant.']\n",
      " > Processing time: 0.26157402992248535\n",
      " > Real-time factor: 0.09385100494322444\n",
      " > Text splitted to sentences.\n",
      "['Future Shop is a type of Electronics store.']\n"
     ]
    },
    {
     "name": "stderr",
     "output_type": "stream",
     "text": [
      "Processing Sentences:  79%|███████▉  | 396/500 [07:49<01:45,  1.01s/it]"
     ]
    },
    {
     "name": "stdout",
     "output_type": "stream",
     "text": [
      " > Processing time: 0.3509035110473633\n",
      " > Real-time factor: 0.0974781094864236\n",
      " > Text splitted to sentences.\n",
      "['e-mart is a type of Retail store.']\n",
      " > Processing time: 0.2859368324279785\n",
      " > Real-time factor: 0.09433964500593917\n",
      " > Text splitted to sentences.\n",
      "['Powszechna Kasa Oszczędności Bank Polski has origin country Poland.']\n"
     ]
    },
    {
     "name": "stderr",
     "output_type": "stream",
     "text": [
      "Processing Sentences:  79%|███████▉  | 397/500 [07:50<01:41,  1.02it/s]"
     ]
    },
    {
     "name": "stdout",
     "output_type": "stream",
     "text": [
      " > Processing time: 0.5868995189666748\n",
      " > Real-time factor: 0.1061862806322632\n",
      " > Text splitted to sentences.\n",
      "[\"Ollie's Bargain Outlet is a type of Retail store.\"]\n",
      " > Processing time: 0.40069103240966797\n",
      " > Real-time factor: 0.10001853451178658\n",
      " > Text splitted to sentences.\n",
      "['Castorama was established on 1969-06-13']\n"
     ]
    },
    {
     "name": "stderr",
     "output_type": "stream",
     "text": [
      "Processing Sentences:  80%|███████▉  | 398/500 [07:51<01:41,  1.01it/s]"
     ]
    },
    {
     "name": "stdout",
     "output_type": "stream",
     "text": [
      " > Processing time: 0.5679609775543213\n",
      " > Real-time factor: 0.10297608501408355\n",
      " > Text splitted to sentences.\n",
      "['VakıfBank has origin country Turkey.']\n",
      " > Processing time: 0.29726195335388184\n",
      " > Real-time factor: 0.09659611635600529\n",
      " > Text splitted to sentences.\n",
      "['Whataburger is a type of Restaurant.']\n"
     ]
    },
    {
     "name": "stderr",
     "output_type": "stream",
     "text": [
      "Processing Sentences:  80%|███████▉  | 399/500 [07:53<02:02,  1.22s/it]"
     ]
    },
    {
     "name": "stdout",
     "output_type": "stream",
     "text": [
      " > Processing time: 1.3542933464050293\n",
      " > Real-time factor: 0.10613508774605807\n",
      " > Text splitted to sentences.\n",
      "['Volkswagen has origin country Germany.']\n",
      " > Processing time: 0.2882871627807617\n",
      " > Real-time factor: 0.09439195680856195\n",
      " > Text splitted to sentences.\n",
      "['Equinor has origin country Norway.']\n"
     ]
    },
    {
     "name": "stderr",
     "output_type": "stream",
     "text": [
      "Processing Sentences:  80%|████████  | 400/500 [07:53<01:44,  1.04s/it]"
     ]
    },
    {
     "name": "stdout",
     "output_type": "stream",
     "text": [
      " > Processing time: 0.3097550868988037\n",
      " > Real-time factor: 0.10501383250489886\n",
      " > Text splitted to sentences.\n",
      "[\"Long John Silver's is a type of Restaurant.\"]\n",
      " > Processing time: 0.433621883392334\n",
      " > Real-time factor: 0.10065439751559041\n",
      " > Text splitted to sentences.\n",
      "['National Bank of Kuwait is a type of Bank.']\n"
     ]
    },
    {
     "name": "stderr",
     "output_type": "stream",
     "text": [
      "Processing Sentences:  80%|████████  | 401/500 [07:54<01:37,  1.01it/s]"
     ]
    },
    {
     "name": "stdout",
     "output_type": "stream",
     "text": [
      " > Processing time: 0.3821136951446533\n",
      " > Real-time factor: 0.10718510810527689\n",
      " > Text splitted to sentences.\n",
      "['Gianni Versace S.p. A. has Gianni Versace as CEO.']\n",
      " > Processing time: 0.6773638725280762\n",
      " > Real-time factor: 0.10843211602134453\n",
      " > Text splitted to sentences.\n",
      "['Meijer was established on 1934-01-01']\n"
     ]
    },
    {
     "name": "stderr",
     "output_type": "stream",
     "text": [
      "Processing Sentences:  80%|████████  | 402/500 [07:55<01:43,  1.06s/it]"
     ]
    },
    {
     "name": "stdout",
     "output_type": "stream",
     "text": [
      " > Processing time: 0.48305583000183105\n",
      " > Real-time factor: 0.1066674115880906\n",
      " > Text splitted to sentences.\n",
      "['Biba Apparels is a type of Apparel store.']\n",
      " > Processing time: 0.3268887996673584\n",
      " > Real-time factor: 0.09774216251715737\n",
      " > Text splitted to sentences.\n",
      "['Bed Bath & Beyond is a type of Accessory store.']\n"
     ]
    },
    {
     "name": "stderr",
     "output_type": "stream",
     "text": [
      "Processing Sentences:  81%|████████  | 403/500 [07:56<01:35,  1.01it/s]"
     ]
    },
    {
     "name": "stdout",
     "output_type": "stream",
     "text": [
      " > Processing time: 0.4558372497558594\n",
      " > Real-time factor: 0.10696419373740741\n",
      " > Text splitted to sentences.\n",
      "['DNB ASA is a type of Bank.']\n",
      " > Processing time: 0.2502634525299072\n",
      " > Real-time factor: 0.09288831686447034\n",
      " > Text splitted to sentences.\n",
      "['Barneys New York has Barney Pressman as CEO.']\n"
     ]
    },
    {
     "name": "stderr",
     "output_type": "stream",
     "text": [
      "Processing Sentences:  81%|████████  | 404/500 [07:57<01:23,  1.14it/s]"
     ]
    },
    {
     "name": "stdout",
     "output_type": "stream",
     "text": [
      " > Processing time: 0.32819628715515137\n",
      " > Real-time factor: 0.09645884159430433\n",
      " > Text splitted to sentences.\n",
      "['T-Mobile International has Deutsche Telekom as CEO.']\n",
      " > Processing time: 0.4224209785461426\n",
      " > Real-time factor: 0.10513796479301114\n",
      " > Text splitted to sentences.\n",
      "['Commonwealth Bank has origin country Australia.']\n"
     ]
    },
    {
     "name": "stderr",
     "output_type": "stream",
     "text": [
      "Processing Sentences:  81%|████████  | 405/500 [07:57<01:21,  1.17it/s]"
     ]
    },
    {
     "name": "stdout",
     "output_type": "stream",
     "text": [
      " > Processing time: 0.34557604789733887\n",
      " > Real-time factor: 0.09662142239978092\n",
      " > Text splitted to sentences.\n",
      "['Roses is a type of Retail store.']\n",
      " > Processing time: 0.2989990711212158\n",
      " > Real-time factor: 0.09643297329485738\n",
      " > Text splitted to sentences.\n",
      "['Dairy Queen has origin country United States of America.']\n"
     ]
    },
    {
     "name": "stderr",
     "output_type": "stream",
     "text": [
      "Processing Sentences:  81%|████████  | 406/500 [07:58<01:17,  1.21it/s]"
     ]
    },
    {
     "name": "stdout",
     "output_type": "stream",
     "text": [
      " > Processing time: 0.41534423828125\n",
      " > Real-time factor: 0.09853611264956924\n",
      " > Text splitted to sentences.\n",
      "['Allied Irish Banks was established on 1966-01-01.']\n",
      " > Processing time: 0.6087384223937988\n",
      " > Real-time factor: 0.10765015249088336\n",
      " > Text splitted to sentences.\n",
      "['CarMax was established on 1993-01-01']\n"
     ]
    },
    {
     "name": "stderr",
     "output_type": "stream",
     "text": [
      "Processing Sentences:  81%|████████▏ | 407/500 [07:59<01:26,  1.08it/s]"
     ]
    },
    {
     "name": "stdout",
     "output_type": "stream",
     "text": [
      " > Processing time: 0.5120749473571777\n",
      " > Real-time factor: 0.10808749989686178\n",
      " > Text splitted to sentences.\n",
      "['Officeworks is a type of Retail store.']\n",
      " > Processing time: 0.33146190643310547\n",
      " > Real-time factor: 0.09842618827906129\n",
      " > Text splitted to sentences.\n",
      "['Fabindia is a type of Apparel store.']\n"
     ]
    },
    {
     "name": "stderr",
     "output_type": "stream",
     "text": [
      "Processing Sentences:  82%|████████▏ | 408/500 [08:00<01:19,  1.16it/s]"
     ]
    },
    {
     "name": "stdout",
     "output_type": "stream",
     "text": [
      " > Processing time: 0.3314628601074219\n",
      " > Real-time factor: 0.09945509559885495\n",
      " > Text splitted to sentences.\n",
      "['Lamborghini was established on 1948-03-11.']\n",
      " > Processing time: 0.5502614974975586\n",
      " > Real-time factor: 0.10369603804715205\n",
      " > Text splitted to sentences.\n",
      "['Cadillac was established on 1902-01-01']\n"
     ]
    },
    {
     "name": "stderr",
     "output_type": "stream",
     "text": [
      "Processing Sentences:  82%|████████▏ | 409/500 [08:01<01:24,  1.08it/s]"
     ]
    },
    {
     "name": "stdout",
     "output_type": "stream",
     "text": [
      " > Processing time: 0.4878678321838379\n",
      " > Real-time factor: 0.10222637315316278\n",
      " > Text splitted to sentences.\n",
      "[\"China CITIC Bank has origin country People's Republic of China.\"]\n",
      " > Processing time: 0.45271801948547363\n",
      " > Real-time factor: 0.10179507596727334\n",
      " > Text splitted to sentences.\n",
      "['G.u. is a type of Apparel store.']\n"
     ]
    },
    {
     "name": "stderr",
     "output_type": "stream",
     "text": [
      "Processing Sentences:  82%|████████▏ | 410/500 [08:02<01:21,  1.10it/s]"
     ]
    },
    {
     "name": "stdout",
     "output_type": "stream",
     "text": [
      " > Processing time: 0.35811924934387207\n",
      " > Real-time factor: 0.10012844197647063\n",
      " > Text splitted to sentences.\n",
      "['KPN was established on 1989-01-01.']\n",
      " > Processing time: 0.5176000595092773\n",
      " > Real-time factor: 0.10294668523758446\n",
      " > Text splitted to sentences.\n",
      "['Burlington Coat Factory was established on 1972-01-01']\n"
     ]
    },
    {
     "name": "stderr",
     "output_type": "stream",
     "text": [
      "Processing Sentences:  82%|████████▏ | 411/500 [08:03<01:27,  1.02it/s]"
     ]
    },
    {
     "name": "stdout",
     "output_type": "stream",
     "text": [
      " > Processing time: 0.583949089050293\n",
      " > Real-time factor: 0.10263420971144434\n",
      " > Text splitted to sentences.\n",
      "['BYD Auto has Wang Chuanfu as CEO.']\n",
      " > Processing time: 0.32685351371765137\n",
      " > Real-time factor: 0.09773161175789505\n",
      " > Text splitted to sentences.\n",
      "['State Bank of India is a type of Bank.']\n"
     ]
    },
    {
     "name": "stderr",
     "output_type": "stream",
     "text": [
      "Processing Sentences:  82%|████████▏ | 412/500 [08:04<01:19,  1.10it/s]"
     ]
    },
    {
     "name": "stdout",
     "output_type": "stream",
     "text": [
      " > Processing time: 0.37214016914367676\n",
      " > Real-time factor: 0.1047285420872227\n",
      " > Text splitted to sentences.\n",
      "['Old Chang Kee was established on 1956-01-01.']\n",
      " > Processing time: 0.6931576728820801\n",
      " > Real-time factor: 0.11480085541889395\n",
      " > Text splitted to sentences.\n",
      "['HomeSense is a type of Retail store.']\n"
     ]
    },
    {
     "name": "stderr",
     "output_type": "stream",
     "text": [
      "Processing Sentences:  83%|████████▎ | 413/500 [08:05<01:22,  1.05it/s]"
     ]
    },
    {
     "name": "stdout",
     "output_type": "stream",
     "text": [
      " > Processing time: 0.30001211166381836\n",
      " > Real-time factor: 0.09533184030129115\n",
      " > Text splitted to sentences.\n",
      "['Suruga Bank is a type of Bank.']\n",
      " > Processing time: 0.30800628662109375\n",
      " > Real-time factor: 0.1048335795874771\n",
      " > Text splitted to sentences.\n",
      "['Burberry has Thomas Burberry as CEO.']\n"
     ]
    },
    {
     "name": "stderr",
     "output_type": "stream",
     "text": [
      "Processing Sentences:  83%|████████▎ | 414/500 [08:06<01:13,  1.17it/s]"
     ]
    },
    {
     "name": "stdout",
     "output_type": "stream",
     "text": [
      " > Processing time: 0.2923896312713623\n",
      " > Real-time factor: 0.09759008491059486\n",
      " > Text splitted to sentences.\n",
      "['Škoda Auto is a type of Auto showroom.']\n",
      "škoda auto is a type of auto showroom.\n",
      " [!] Character 'š' not found in the vocabulary. Discarding it.\n",
      " > Processing time: 0.33742308616638184\n",
      " > Real-time factor: 0.10682545155594877\n",
      " > Text splitted to sentences.\n",
      "['Mazda has Abdul Ghani as CEO.']\n"
     ]
    },
    {
     "name": "stderr",
     "output_type": "stream",
     "text": [
      "Processing Sentences:  83%|████████▎ | 415/500 [08:06<01:07,  1.26it/s]"
     ]
    },
    {
     "name": "stdout",
     "output_type": "stream",
     "text": [
      " > Processing time: 0.29027509689331055\n",
      " > Real-time factor: 0.09613923766068098\n",
      " > Text splitted to sentences.\n",
      "[\"Shakey's Pizza has Sherwood Johnson as CEO.\"]\n",
      " > Processing time: 0.35709428787231445\n",
      " > Real-time factor: 0.09919785637452799\n",
      " > Text splitted to sentences.\n",
      "['Royal Bank of Canada is a type of Bank.']\n"
     ]
    },
    {
     "name": "stderr",
     "output_type": "stream",
     "text": [
      "Processing Sentences:  83%|████████▎ | 416/500 [08:07<01:05,  1.28it/s]"
     ]
    },
    {
     "name": "stdout",
     "output_type": "stream",
     "text": [
      " > Processing time: 0.35539746284484863\n",
      " > Real-time factor: 0.09904593093691749\n",
      " > Text splitted to sentences.\n",
      "['ICICI Bank has origin country India.']\n",
      " > Processing time: 0.2825181484222412\n",
      " > Real-time factor: 0.09466212577058138\n",
      " > Text splitted to sentences.\n",
      "['Mizuho Bank has origin country Japan.']\n"
     ]
    },
    {
     "name": "stderr",
     "output_type": "stream",
     "text": [
      "Processing Sentences:  83%|████████▎ | 417/500 [08:08<01:00,  1.37it/s]"
     ]
    },
    {
     "name": "stdout",
     "output_type": "stream",
     "text": [
      " > Processing time: 0.2872185707092285\n",
      " > Real-time factor: 0.09549411164261895\n",
      " > Text splitted to sentences.\n",
      "['Panasonic Corporation was established on 1918-03-13.']\n",
      " > Processing time: 0.6685676574707031\n",
      " > Real-time factor: 0.1133435604566137\n",
      " > Text splitted to sentences.\n",
      "['Speedway LLC is a type of Petrol station.']\n"
     ]
    },
    {
     "name": "stderr",
     "output_type": "stream",
     "text": [
      "Processing Sentences:  84%|████████▎ | 418/500 [08:09<01:10,  1.16it/s]"
     ]
    },
    {
     "name": "stdout",
     "output_type": "stream",
     "text": [
      " > Processing time: 0.4387788772583008\n",
      " > Real-time factor: 0.1029613724198188\n",
      " > Text splitted to sentences.\n",
      "['Kipling was established on 1987-01-01.']\n",
      " > Processing time: 0.5402858257293701\n",
      " > Real-time factor: 0.10948116506150392\n",
      " > Text splitted to sentences.\n",
      "['National Bank of Canada is a type of Bank.']\n"
     ]
    },
    {
     "name": "stderr",
     "output_type": "stream",
     "text": [
      "Processing Sentences:  84%|████████▍ | 419/500 [08:10<01:12,  1.12it/s]"
     ]
    },
    {
     "name": "stdout",
     "output_type": "stream",
     "text": [
      " > Processing time: 0.3878135681152344\n",
      " > Real-time factor: 0.1002919072168901\n",
      " > Text splitted to sentences.\n",
      "['Agip was established on 1926-01-01.']\n",
      " > Processing time: 0.5006113052368164\n",
      " > Real-time factor: 0.10645038651897665\n",
      " > Text splitted to sentences.\n",
      "['Henri Bendel is a type of Accessory store.']\n"
     ]
    },
    {
     "name": "stderr",
     "output_type": "stream",
     "text": [
      "Processing Sentences:  84%|████████▍ | 420/500 [08:11<01:11,  1.11it/s]"
     ]
    },
    {
     "name": "stdout",
     "output_type": "stream",
     "text": [
      " > Processing time: 0.36447882652282715\n",
      " > Real-time factor: 0.10603702402401755\n",
      " > Text splitted to sentences.\n",
      "['Olympus has origin country Japan.']\n",
      " > Processing time: 0.2991945743560791\n",
      " > Real-time factor: 0.10558963451586979\n",
      " > Text splitted to sentences.\n",
      "['OMV has origin country Austria.']\n"
     ]
    },
    {
     "name": "stderr",
     "output_type": "stream",
     "text": [
      "Processing Sentences:  84%|████████▍ | 421/500 [08:11<01:03,  1.24it/s]"
     ]
    },
    {
     "name": "stdout",
     "output_type": "stream",
     "text": [
      " > Processing time: 0.2601125240325928\n",
      " > Real-time factor: 0.09142248716715555\n",
      " > Text splitted to sentences.\n",
      "['Von Maur was established on 1872-01-01.']\n",
      " > Processing time: 0.5200743675231934\n",
      " > Real-time factor: 0.10513825549991211\n",
      " > Text splitted to sentences.\n",
      "['DNB ASA was established on 2003-12-04']\n"
     ]
    },
    {
     "name": "stderr",
     "output_type": "stream",
     "text": [
      "Processing Sentences:  84%|████████▍ | 422/500 [08:12<01:10,  1.10it/s]"
     ]
    },
    {
     "name": "stdout",
     "output_type": "stream",
     "text": [
      " > Processing time: 0.5700573921203613\n",
      " > Real-time factor: 0.10695852192183429\n",
      " > Text splitted to sentences.\n",
      "['Rolex has Hans Wilsdorf as CEO.']\n",
      " > Processing time: 0.2879331111907959\n",
      " > Real-time factor: 0.0946357784068246\n",
      " > Text splitted to sentences.\n",
      "['The Home Depot is a type of Retail store.']\n"
     ]
    },
    {
     "name": "stderr",
     "output_type": "stream",
     "text": [
      "Processing Sentences:  85%|████████▍ | 423/500 [08:13<01:03,  1.21it/s]"
     ]
    },
    {
     "name": "stdout",
     "output_type": "stream",
     "text": [
      " > Processing time: 0.31899356842041016\n",
      " > Real-time factor: 0.09845756136156276\n",
      " > Text splitted to sentences.\n",
      "['Walmart has Sam Walton as CEO.']\n",
      " > Processing time: 0.2667992115020752\n",
      " > Real-time factor: 0.09339158327439609\n",
      " > Text splitted to sentences.\n",
      "['Sumitomo Electric Industries was established on 1897']\n"
     ]
    },
    {
     "name": "stderr",
     "output_type": "stream",
     "text": [
      "Processing Sentences:  85%|████████▍ | 424/500 [08:14<01:02,  1.21it/s]"
     ]
    },
    {
     "name": "stdout",
     "output_type": "stream",
     "text": [
      " > Processing time: 0.5110616683959961\n",
      " > Real-time factor: 0.1016462493517437\n",
      " > Text splitted to sentences.\n",
      "['Conoco has origin country United States of America.']\n",
      " > Processing time: 0.44680118560791016\n",
      " > Real-time factor: 0.1138376564828806\n",
      " > Text splitted to sentences.\n",
      "[\"Domino's Pizza has origin country United States of America.\"]\n"
     ]
    },
    {
     "name": "stderr",
     "output_type": "stream",
     "text": [
      "Processing Sentences:  85%|████████▌ | 425/500 [08:15<01:04,  1.16it/s]"
     ]
    },
    {
     "name": "stdout",
     "output_type": "stream",
     "text": [
      " > Processing time: 0.4520885944366455\n",
      " > Real-time factor: 0.10008587858763086\n",
      " > Text splitted to sentences.\n",
      "['Garanti Bank was established on 1946-01-01.']\n",
      " > Processing time: 0.5703549385070801\n",
      " > Real-time factor: 0.10891234579881803\n",
      " > Text splitted to sentences.\n",
      "['Marshalls has Alfred Marshall as CEO.']\n"
     ]
    },
    {
     "name": "stderr",
     "output_type": "stream",
     "text": [
      "Processing Sentences:  85%|████████▌ | 426/500 [08:16<01:05,  1.14it/s]"
     ]
    },
    {
     "name": "stdout",
     "output_type": "stream",
     "text": [
      " > Processing time: 0.3088376522064209\n",
      " > Real-time factor: 0.09813624381991556\n",
      " > Text splitted to sentences.\n",
      "['Big Bazaar has Kishore Biyani as CEO.']\n",
      " > Processing time: 0.34848570823669434\n",
      " > Real-time factor: 0.0990424554884913\n",
      " > Text splitted to sentences.\n",
      "['Northern Trust is a type of Bank.']\n"
     ]
    },
    {
     "name": "stderr",
     "output_type": "stream",
     "text": [
      "Processing Sentences:  85%|████████▌ | 427/500 [08:16<00:58,  1.24it/s]"
     ]
    },
    {
     "name": "stdout",
     "output_type": "stream",
     "text": [
      " > Processing time: 0.2537815570831299\n",
      " > Real-time factor: 0.09338924121633868\n",
      " > Text splitted to sentences.\n",
      "['Belk was established on 1888-01-01.']\n",
      " > Processing time: 0.4986088275909424\n",
      " > Real-time factor: 0.10708201504188367\n",
      " > Text splitted to sentences.\n",
      "['Panasonic Corporation has Konosuke Matsushita as CEO.']\n"
     ]
    },
    {
     "name": "stderr",
     "output_type": "stream",
     "text": [
      "Processing Sentences:  86%|████████▌ | 428/500 [08:17<01:02,  1.15it/s]"
     ]
    },
    {
     "name": "stdout",
     "output_type": "stream",
     "text": [
      " > Processing time: 0.46798014640808105\n",
      " > Real-time factor: 0.1007553724837739\n",
      " > Text splitted to sentences.\n",
      "['B&Q has origin country United Kingdom.']\n",
      " > Processing time: 0.3673264980316162\n",
      " > Real-time factor: 0.10544091441362656\n",
      " > Text splitted to sentences.\n",
      "['Zions Bank has origin country United States of America.']\n"
     ]
    },
    {
     "name": "stderr",
     "output_type": "stream",
     "text": [
      "Processing Sentences:  86%|████████▌ | 429/500 [08:18<01:01,  1.15it/s]"
     ]
    },
    {
     "name": "stdout",
     "output_type": "stream",
     "text": [
      " > Processing time: 0.45403361320495605\n",
      " > Real-time factor: 0.10741889668636567\n",
      " > Text splitted to sentences.\n",
      "['Crédit Agricole has origin country France.']\n",
      " > Processing time: 0.3503730297088623\n",
      " > Real-time factor: 0.09733074613334526\n",
      " > Text splitted to sentences.\n",
      "['Canon Inc. was established on 1937-08-10']\n"
     ]
    },
    {
     "name": "stderr",
     "output_type": "stream",
     "text": [
      "Processing Sentences:  86%|████████▌ | 430/500 [08:19<01:05,  1.07it/s]"
     ]
    },
    {
     "name": "stdout",
     "output_type": "stream",
     "text": [
      " > Processing time: 0.6824650764465332\n",
      " > Real-time factor: 0.10686537705691156\n",
      " > Text splitted to sentences.\n",
      "[\"Arby's has origin country United States of America.\"]\n",
      " > Processing time: 0.3968465328216553\n",
      " > Real-time factor: 0.10613315118277579\n",
      " > Text splitted to sentences.\n",
      "['Bridgestone has origin country Japan.']\n"
     ]
    },
    {
     "name": "stderr",
     "output_type": "stream",
     "text": [
      "Processing Sentences:  86%|████████▌ | 431/500 [08:20<00:59,  1.15it/s]"
     ]
    },
    {
     "name": "stdout",
     "output_type": "stream",
     "text": [
      " > Processing time: 0.28044772148132324\n",
      " > Real-time factor: 0.09470522327038683\n",
      " > Text splitted to sentences.\n",
      "[\"Hardee's has origin country United States of America.\"]\n",
      " > Processing time: 0.3902556896209717\n",
      " > Real-time factor: 0.09713222363353831\n",
      " > Text splitted to sentences.\n",
      "[\"Sainsbury's has origin country United Kingdom.\"]\n"
     ]
    },
    {
     "name": "stderr",
     "output_type": "stream",
     "text": [
      "Processing Sentences:  86%|████████▋ | 432/500 [08:21<00:57,  1.19it/s]"
     ]
    },
    {
     "name": "stdout",
     "output_type": "stream",
     "text": [
      " > Processing time: 0.3509097099304199\n",
      " > Real-time factor: 0.10006154438192841\n",
      " > Text splitted to sentences.\n",
      "['Bradesco Bank is a type of Bank.']\n",
      " > Processing time: 0.2709977626800537\n",
      " > Real-time factor: 0.09524835289299899\n",
      " > Text splitted to sentences.\n",
      "['Mitsubishi Motors is a type of Auto showroom.']\n"
     ]
    },
    {
     "name": "stderr",
     "output_type": "stream",
     "text": [
      "Processing Sentences:  87%|████████▋ | 433/500 [08:22<00:52,  1.27it/s]"
     ]
    },
    {
     "name": "stdout",
     "output_type": "stream",
     "text": [
      " > Processing time: 0.3558027744293213\n",
      " > Real-time factor: 0.10179379250786971\n",
      " > Text splitted to sentences.\n",
      "['Wingstop is a type of Restaurant.']\n",
      " > Processing time: 0.2563209533691406\n",
      " > Real-time factor: 0.09196623636080367\n",
      " > Text splitted to sentences.\n",
      "['Hangzhou Hikvision Digital Technology Co., Ltd. was established on 2001-01-01']\n"
     ]
    },
    {
     "name": "stderr",
     "output_type": "stream",
     "text": [
      "Processing Sentences:  87%|████████▋ | 434/500 [08:23<00:59,  1.11it/s]"
     ]
    },
    {
     "name": "stdout",
     "output_type": "stream",
     "text": [
      " > Processing time: 0.8534970283508301\n",
      " > Real-time factor: 0.10778205738073744\n",
      " > Text splitted to sentences.\n",
      "['Del Taco was established on 1965-01-01.']\n",
      " > Processing time: 0.49486804008483887\n",
      " > Real-time factor: 0.10099067344023671\n",
      " > Text splitted to sentences.\n",
      "['Gordmans was established on 1936-01-01']\n"
     ]
    },
    {
     "name": "stderr",
     "output_type": "stream",
     "text": [
      "Processing Sentences:  87%|████████▋ | 435/500 [08:24<01:01,  1.06it/s]"
     ]
    },
    {
     "name": "stdout",
     "output_type": "stream",
     "text": [
      " > Processing time: 0.4903745651245117\n",
      " > Real-time factor: 0.10031133257565944\n",
      " > Text splitted to sentences.\n",
      "['Roses has origin country United States of America.']\n",
      " > Processing time: 0.3712763786315918\n",
      " > Real-time factor: 0.09747861674636359\n",
      " > Text splitted to sentences.\n",
      "['Montblanc was established on 1906-01-01']\n"
     ]
    },
    {
     "name": "stderr",
     "output_type": "stream",
     "text": [
      "Processing Sentences:  87%|████████▋ | 436/500 [08:25<00:59,  1.07it/s]"
     ]
    },
    {
     "name": "stdout",
     "output_type": "stream",
     "text": [
      " > Processing time: 0.5076193809509277\n",
      " > Real-time factor: 0.10662444130056352\n",
      " > Text splitted to sentences.\n",
      "['Hitachi is a type of Electronics store.']\n",
      " > Processing time: 0.35719823837280273\n",
      " > Real-time factor: 0.10792892397665398\n",
      " > Text splitted to sentences.\n",
      "['Kmart was established on 1962-01-01']\n"
     ]
    },
    {
     "name": "stderr",
     "output_type": "stream",
     "text": [
      "Processing Sentences:  87%|████████▋ | 437/500 [08:26<00:59,  1.06it/s]"
     ]
    },
    {
     "name": "stdout",
     "output_type": "stream",
     "text": [
      " > Processing time: 0.5498995780944824\n",
      " > Real-time factor: 0.12050093115939874\n",
      " > Text splitted to sentences.\n",
      "['Huntington Bancshares has origin country United States of America.']\n",
      " > Processing time: 0.4728868007659912\n",
      " > Real-time factor: 0.10181176727161877\n",
      " > Text splitted to sentences.\n",
      "['Bank of Montreal has origin country Canada.']\n"
     ]
    },
    {
     "name": "stderr",
     "output_type": "stream",
     "text": [
      "Processing Sentences:  88%|████████▊ | 438/500 [08:26<00:56,  1.10it/s]"
     ]
    },
    {
     "name": "stdout",
     "output_type": "stream",
     "text": [
      " > Processing time: 0.3284416198730469\n",
      " > Real-time factor: 0.09523113978277777\n",
      " > Text splitted to sentences.\n",
      "[\"Dillard's has William T. Dillard as CEO.\"]\n",
      " > Processing time: 0.32838964462280273\n",
      " > Real-time factor: 0.09651567050454256\n",
      " > Text splitted to sentences.\n",
      "['Bershka was established on 1998-04-01']\n"
     ]
    },
    {
     "name": "stderr",
     "output_type": "stream",
     "text": [
      "Processing Sentences:  88%|████████▊ | 439/500 [08:27<00:54,  1.13it/s]"
     ]
    },
    {
     "name": "stdout",
     "output_type": "stream",
     "text": [
      " > Processing time: 0.45601820945739746\n",
      " > Real-time factor: 0.09892178418203619\n",
      " > Text splitted to sentences.\n",
      "['UBI Banca is a type of Bank.']\n",
      " > Processing time: 0.29511332511901855\n",
      " > Real-time factor: 0.09517974518596944\n",
      " > Text splitted to sentences.\n",
      "['Massimo Dutti is a type of Apparel store.']\n"
     ]
    },
    {
     "name": "stderr",
     "output_type": "stream",
     "text": [
      "Processing Sentences:  88%|████████▊ | 440/500 [08:28<00:49,  1.21it/s]"
     ]
    },
    {
     "name": "stdout",
     "output_type": "stream",
     "text": [
      " > Processing time: 0.3502202033996582\n",
      " > Real-time factor: 0.09760307741358017\n",
      " > Text splitted to sentences.\n",
      "['Jyske Bank has origin country Denmark.']\n",
      " > Processing time: 0.2955467700958252\n",
      " > Real-time factor: 0.09461100871970014\n",
      " > Text splitted to sentences.\n",
      "['Fifth Third Bank is a type of Bank.']\n"
     ]
    },
    {
     "name": "stderr",
     "output_type": "stream",
     "text": [
      "Processing Sentences:  88%|████████▊ | 441/500 [08:29<00:44,  1.32it/s]"
     ]
    },
    {
     "name": "stdout",
     "output_type": "stream",
     "text": [
      " > Processing time: 0.2730376720428467\n",
      " > Real-time factor: 0.0944241008241024\n",
      " > Text splitted to sentences.\n",
      "[\"Denny's has Harold Butler as CEO.\"]\n",
      " > Processing time: 0.2816927433013916\n",
      " > Real-time factor: 0.09475416447699056\n",
      " > Text splitted to sentences.\n",
      "['7-Eleven was established on 1927-01-01']\n"
     ]
    },
    {
     "name": "stderr",
     "output_type": "stream",
     "text": [
      "Processing Sentences:  88%|████████▊ | 442/500 [08:29<00:45,  1.27it/s]"
     ]
    },
    {
     "name": "stdout",
     "output_type": "stream",
     "text": [
      " > Processing time: 0.5314521789550781\n",
      " > Real-time factor: 0.10693641905715681\n",
      " > Text splitted to sentences.\n",
      "['ICICI Bank was established on 1994-01-05.']\n",
      " > Processing time: 0.5272750854492188\n",
      " > Real-time factor: 0.10181462479118741\n",
      " > Text splitted to sentences.\n",
      "['Tuesday Morning was established on 1974-01-01']\n"
     ]
    },
    {
     "name": "stderr",
     "output_type": "stream",
     "text": [
      "Processing Sentences:  89%|████████▊ | 443/500 [08:31<00:51,  1.11it/s]"
     ]
    },
    {
     "name": "stdout",
     "output_type": "stream",
     "text": [
      " > Processing time: 0.5961184501647949\n",
      " > Real-time factor: 0.10993252229805407\n",
      " > Text splitted to sentences.\n",
      "['Colruyt was established on 1925-01-01.']\n",
      " > Processing time: 0.4869959354400635\n",
      " > Real-time factor: 0.10254259335803476\n",
      " > Text splitted to sentences.\n",
      "['Alimentation Couche-Tard is a type of Retail store.']\n"
     ]
    },
    {
     "name": "stderr",
     "output_type": "stream",
     "text": [
      "Processing Sentences:  89%|████████▉ | 444/500 [08:32<00:51,  1.08it/s]"
     ]
    },
    {
     "name": "stdout",
     "output_type": "stream",
     "text": [
      " > Processing time: 0.4443783760070801\n",
      " > Real-time factor: 0.10719568518024807\n",
      " > Text splitted to sentences.\n",
      "['Walgreens was established on 1901-01-01.']\n",
      "   > Decoder stopped with `max_decoder_steps` 10000\n",
      " > Processing time: 12.95123553276062\n",
      " > Real-time factor: 0.11100800117290624\n",
      " > Text splitted to sentences.\n",
      "['Allied Irish Banks was established on 1966-01-01']\n"
     ]
    },
    {
     "name": "stderr",
     "output_type": "stream",
     "text": [
      "Processing Sentences:  89%|████████▉ | 445/500 [08:46<04:29,  4.90s/it]"
     ]
    },
    {
     "name": "stdout",
     "output_type": "stream",
     "text": [
      " > Processing time: 0.5777871608734131\n",
      " > Real-time factor: 0.10520054578922874\n",
      " > Text splitted to sentences.\n",
      "['Barnes & Noble was established on 1873-01-01.']\n",
      " > Processing time: 0.5364463329315186\n",
      " > Real-time factor: 0.10243731502996384\n",
      " > Text splitted to sentences.\n",
      "['Lukoil was established on 1991-11-25']\n"
     ]
    },
    {
     "name": "stderr",
     "output_type": "stream",
     "text": [
      "Processing Sentences:  89%|████████▉ | 446/500 [08:47<03:23,  3.77s/it]"
     ]
    },
    {
     "name": "stdout",
     "output_type": "stream",
     "text": [
      " > Processing time: 0.5609147548675537\n",
      " > Real-time factor: 0.10084939941968003\n",
      " > Text splitted to sentences.\n",
      "['Puma SE is a type of Apparel store.']\n",
      " > Processing time: 0.32524538040161133\n",
      " > Real-time factor: 0.09462292376313503\n",
      " > Text splitted to sentences.\n",
      "[\"McDonald's is a type of Restaurant.\"]\n"
     ]
    },
    {
     "name": "stderr",
     "output_type": "stream",
     "text": [
      "Processing Sentences:  89%|████████▉ | 447/500 [08:50<03:10,  3.59s/it]"
     ]
    },
    {
     "name": "stdout",
     "output_type": "stream",
     "text": [
      " > Processing time: 2.6903350353240967\n",
      " > Real-time factor: 0.10639094294114668\n",
      " > Text splitted to sentences.\n",
      "['Resona Holdings is a type of Bank.']\n",
      " > Processing time: 0.27256226539611816\n",
      " > Real-time factor: 0.09350880557605809\n",
      " > Text splitted to sentences.\n",
      "['Kipling was established on 1987-01-01']\n"
     ]
    },
    {
     "name": "stderr",
     "output_type": "stream",
     "text": [
      "Processing Sentences:  90%|████████▉ | 448/500 [08:51<02:23,  2.77s/it]"
     ]
    },
    {
     "name": "stdout",
     "output_type": "stream",
     "text": [
      " > Processing time: 0.5283493995666504\n",
      " > Real-time factor: 0.10731488817653502\n",
      " > Text splitted to sentences.\n",
      "['National Automotive Parts Association is a type of Auto showroom.']\n",
      " > Processing time: 0.5490155220031738\n",
      " > Real-time factor: 0.10745803383903194\n",
      " > Text splitted to sentences.\n",
      "['Jamba Juice was established on 1990-01-01']\n"
     ]
    },
    {
     "name": "stderr",
     "output_type": "stream",
     "text": [
      "Processing Sentences:  90%|████████▉ | 449/500 [08:52<01:55,  2.26s/it]"
     ]
    },
    {
     "name": "stdout",
     "output_type": "stream",
     "text": [
      " > Processing time: 0.4685366153717041\n",
      " > Real-time factor: 0.09962999892904331\n",
      " > Text splitted to sentences.\n",
      "['Volkswagen is a type of Auto showroom.']\n",
      " > Processing time: 0.33492255210876465\n",
      " > Real-time factor: 0.09743828206140832\n",
      " > Text splitted to sentences.\n",
      "['Alimentation Couche-Tard was established on 1980-01-01']\n"
     ]
    },
    {
     "name": "stderr",
     "output_type": "stream",
     "text": [
      "Processing Sentences:  90%|█████████ | 450/500 [08:53<01:33,  1.86s/it]"
     ]
    },
    {
     "name": "stdout",
     "output_type": "stream",
     "text": [
      " > Processing time: 0.5674011707305908\n",
      " > Real-time factor: 0.10201562144984938\n",
      " > Text splitted to sentences.\n",
      "['Halliburton was established on 1919-01-01.']\n",
      "   > Decoder stopped with `max_decoder_steps` 10000\n",
      " > Processing time: 12.850573301315308\n",
      " > Real-time factor: 0.11014520216982404\n",
      " > Text splitted to sentences.\n",
      "['Aptiv was established on 2009-10-06']\n"
     ]
    },
    {
     "name": "stderr",
     "output_type": "stream",
     "text": [
      "Processing Sentences:  90%|█████████ | 451/500 [09:07<04:29,  5.49s/it]"
     ]
    },
    {
     "name": "stdout",
     "output_type": "stream",
     "text": [
      " > Processing time: 0.48150634765625\n",
      " > Real-time factor: 0.10089340662365358\n",
      " > Text splitted to sentences.\n",
      "['Oakley, Inc. is a type of Accessory store.']\n",
      " > Processing time: 0.4605903625488281\n",
      " > Real-time factor: 0.09769910626252173\n",
      " > Text splitted to sentences.\n",
      "['Canara Bank is a type of Bank.']\n"
     ]
    },
    {
     "name": "stderr",
     "output_type": "stream",
     "text": [
      "Processing Sentences:  90%|█████████ | 452/500 [09:08<03:15,  4.07s/it]"
     ]
    },
    {
     "name": "stdout",
     "output_type": "stream",
     "text": [
      " > Processing time: 0.25934553146362305\n",
      " > Real-time factor: 0.09115291011178411\n",
      " > Text splitted to sentences.\n",
      "['Neiman Marcus is a type of Retail store.']\n",
      " > Processing time: 0.3495316505432129\n",
      " > Real-time factor: 0.09616656137050615\n",
      " > Text splitted to sentences.\n",
      "['Ann Taylor is a type of Apparel store.']\n"
     ]
    },
    {
     "name": "stderr",
     "output_type": "stream",
     "text": [
      "Processing Sentences:  91%|█████████ | 453/500 [09:08<02:23,  3.05s/it]"
     ]
    },
    {
     "name": "stdout",
     "output_type": "stream",
     "text": [
      " > Processing time: 0.2920708656311035\n",
      " > Real-time factor: 0.09526867732493835\n",
      " > Text splitted to sentences.\n",
      "['Falabella was established on 1889-01-01.']\n",
      " > Processing time: 0.4885070323944092\n",
      " > Real-time factor: 0.10040622729583075\n",
      " > Text splitted to sentences.\n",
      "['Amul is a type of Restaurant.']\n"
     ]
    },
    {
     "name": "stderr",
     "output_type": "stream",
     "text": [
      "Processing Sentences:  91%|█████████ | 454/500 [09:09<01:49,  2.37s/it]"
     ]
    },
    {
     "name": "stdout",
     "output_type": "stream",
     "text": [
      " > Processing time: 0.247849702835083\n",
      " > Real-time factor: 0.09279214118978504\n",
      " > Text splitted to sentences.\n",
      "['HomeSense was established on 2001-01-01.']\n",
      " > Processing time: 0.494403600692749\n",
      " > Real-time factor: 0.10137627766771236\n",
      " > Text splitted to sentences.\n",
      "['Bank Negara Indonesia is a type of Bank.']\n"
     ]
    },
    {
     "name": "stderr",
     "output_type": "stream",
     "text": [
      "Processing Sentences:  91%|█████████ | 455/500 [09:10<01:27,  1.93s/it]"
     ]
    },
    {
     "name": "stdout",
     "output_type": "stream",
     "text": [
      " > Processing time: 0.3773784637451172\n",
      " > Real-time factor: 0.09759329993408512\n",
      " > Text splitted to sentences.\n",
      "['AEON was established on 1758-01-01.']\n",
      " > Processing time: 0.4931197166442871\n",
      " > Real-time factor: 0.09968910217110287\n",
      " > Text splitted to sentences.\n",
      "['Banco do Brasil is a type of Bank.']\n"
     ]
    },
    {
     "name": "stderr",
     "output_type": "stream",
     "text": [
      "Processing Sentences:  91%|█████████ | 456/500 [09:11<01:11,  1.64s/it]"
     ]
    },
    {
     "name": "stdout",
     "output_type": "stream",
     "text": [
      " > Processing time: 0.4011514186859131\n",
      " > Real-time factor: 0.1207858420092908\n",
      " > Text splitted to sentences.\n",
      "['Fiat has Giovanni Agnelli as CEO.']\n",
      " > Processing time: 0.3728787899017334\n",
      " > Real-time factor: 0.11306349446277807\n",
      " > Text splitted to sentences.\n",
      "[\"Denny's has Harold Butler as CEO.\"]\n"
     ]
    },
    {
     "name": "stderr",
     "output_type": "stream",
     "text": [
      "Processing Sentences:  91%|█████████▏| 457/500 [09:12<00:59,  1.38s/it]"
     ]
    },
    {
     "name": "stdout",
     "output_type": "stream",
     "text": [
      " > Processing time: 0.37673330307006836\n",
      " > Real-time factor: 0.09861074706428072\n",
      " > Text splitted to sentences.\n",
      "['Chicken Cottage has origin country United Kingdom.']\n",
      " > Processing time: 0.3486957550048828\n",
      " > Real-time factor: 0.10076459160538984\n",
      " > Text splitted to sentences.\n",
      "['Suruga Bank was established on 1895-10-19']\n"
     ]
    },
    {
     "name": "stderr",
     "output_type": "stream",
     "text": [
      "Processing Sentences:  92%|█████████▏| 458/500 [09:13<00:54,  1.29s/it]"
     ]
    },
    {
     "name": "stdout",
     "output_type": "stream",
     "text": [
      " > Processing time: 0.6774325370788574\n",
      " > Real-time factor: 0.11762463338311709\n",
      " > Text splitted to sentences.\n",
      "['Longines is a type of Accessory store.']\n",
      " > Processing time: 0.3086280822753906\n",
      " > Real-time factor: 0.09560082622741577\n",
      " > Text splitted to sentences.\n",
      "['AEON was established on 1758-01-01']\n"
     ]
    },
    {
     "name": "stderr",
     "output_type": "stream",
     "text": [
      "Processing Sentences:  92%|█████████▏| 459/500 [09:14<00:47,  1.16s/it]"
     ]
    },
    {
     "name": "stdout",
     "output_type": "stream",
     "text": [
      " > Processing time: 0.4983804225921631\n",
      " > Real-time factor: 0.1002818688691524\n",
      " > Text splitted to sentences.\n",
      "['Chang Hwa Bank is a type of Bank.']\n",
      " > Processing time: 0.27277135848999023\n",
      " > Real-time factor: 0.09471227725346884\n",
      " > Text splitted to sentences.\n",
      "['Marathon Petroleum is a type of Petrol station.']\n"
     ]
    },
    {
     "name": "stderr",
     "output_type": "stream",
     "text": [
      "Processing Sentences:  92%|█████████▏| 460/500 [09:14<00:40,  1.01s/it]"
     ]
    },
    {
     "name": "stdout",
     "output_type": "stream",
     "text": [
      " > Processing time: 0.3594331741333008\n",
      " > Real-time factor: 0.09524011595894158\n",
      " > Text splitted to sentences.\n",
      "['Hotto Motto is a type of Restaurant.']\n",
      " > Processing time: 8.133377313613892\n",
      " > Real-time factor: 0.10988922275589597\n",
      " > Text splitted to sentences.\n",
      "['Mister Donut is a type of Restaurant.']\n"
     ]
    },
    {
     "name": "stderr",
     "output_type": "stream",
     "text": [
      "Processing Sentences:  92%|█████████▏| 461/500 [09:23<02:10,  3.35s/it]"
     ]
    },
    {
     "name": "stdout",
     "output_type": "stream",
     "text": [
      " > Processing time: 0.28264379501342773\n",
      " > Real-time factor: 0.09620115584165968\n",
      " > Text splitted to sentences.\n",
      "['Hotto Motto is a type of Restaurant.']\n",
      " > Processing time: 0.3073995113372803\n",
      " > Real-time factor: 0.09522026333146535\n",
      " > Text splitted to sentences.\n",
      "['Mister Donut is a type of Restaurant.']\n"
     ]
    },
    {
     "name": "stderr",
     "output_type": "stream",
     "text": [
      "Processing Sentences:  92%|█████████▏| 462/500 [09:25<01:49,  2.88s/it]"
     ]
    },
    {
     "name": "stdout",
     "output_type": "stream",
     "text": [
      " > Processing time: 1.3962035179138184\n",
      " > Real-time factor: 0.10814044698055307\n",
      " > Text splitted to sentences.\n",
      "['Hotto Motto is a type of Restaurant.']\n",
      " > Processing time: 0.38001394271850586\n",
      " > Real-time factor: 0.12210461991348585\n",
      " > Text splitted to sentences.\n",
      "['Mister Donut has Harry Winokur as CEO.']\n"
     ]
    },
    {
     "name": "stderr",
     "output_type": "stream",
     "text": [
      "Processing Sentences:  93%|█████████▎| 463/500 [09:26<01:22,  2.23s/it]"
     ]
    },
    {
     "name": "stdout",
     "output_type": "stream",
     "text": [
      " > Processing time: 0.2832660675048828\n",
      " > Real-time factor: 0.09345847480971191\n",
      " > Text splitted to sentences.\n",
      "['Hotto Motto is a type of Restaurant.']\n",
      " > Processing time: 0.28540873527526855\n",
      " > Real-time factor: 0.09380608473675875\n",
      " > Text splitted to sentences.\n",
      "['Mister Donut was established on 1956-01-01.']\n"
     ]
    },
    {
     "name": "stderr",
     "output_type": "stream",
     "text": [
      "Processing Sentences:  93%|█████████▎| 464/500 [09:26<01:04,  1.81s/it]"
     ]
    },
    {
     "name": "stdout",
     "output_type": "stream",
     "text": [
      " > Processing time: 0.493466854095459\n",
      " > Real-time factor: 0.10166826256545139\n",
      " > Text splitted to sentences.\n",
      "['Mister Donut is a type of Restaurant.']\n",
      " > Processing time: 0.296032190322876\n",
      " > Real-time factor: 0.09619650136494069\n",
      " > Text splitted to sentences.\n",
      "['Hotto Motto is a type of Restaurant.']\n"
     ]
    },
    {
     "name": "stderr",
     "output_type": "stream",
     "text": [
      "Processing Sentences:  93%|█████████▎| 465/500 [09:27<00:50,  1.45s/it]"
     ]
    },
    {
     "name": "stdout",
     "output_type": "stream",
     "text": [
      " > Processing time: 0.29102158546447754\n",
      " > Real-time factor: 0.09565087585695996\n",
      " > Text splitted to sentences.\n",
      "['Costa Coffee is a type of Restaurant.']\n",
      " > Processing time: 0.3257906436920166\n",
      " > Real-time factor: 0.09478155601394561\n",
      " > Text splitted to sentences.\n",
      "[\"Frankie and Benny's was established on 1995-01-01.\"]\n"
     ]
    },
    {
     "name": "stderr",
     "output_type": "stream",
     "text": [
      "Processing Sentences:  93%|█████████▎| 466/500 [09:28<00:43,  1.29s/it]"
     ]
    },
    {
     "name": "stdout",
     "output_type": "stream",
     "text": [
      " > Processing time: 0.5436508655548096\n",
      " > Real-time factor: 0.10090489550070329\n",
      " > Text splitted to sentences.\n",
      "['Costa Coffee was established on 1971-01-01.']\n",
      " > Processing time: 0.5565509796142578\n",
      " > Real-time factor: 0.10722729187486356\n",
      " > Text splitted to sentences.\n",
      "[\"Frankie and Benny's has headquarters in London.\"]\n"
     ]
    },
    {
     "name": "stderr",
     "output_type": "stream",
     "text": [
      "Processing Sentences:  93%|█████████▎| 467/500 [09:29<00:38,  1.18s/it]"
     ]
    },
    {
     "name": "stdout",
     "output_type": "stream",
     "text": [
      " > Processing time: 0.3273022174835205\n",
      " > Real-time factor: 0.09490077182189706\n",
      " > Text splitted to sentences.\n",
      "[\"Frankie and Benny's has headquarters in London.\"]\n",
      " > Processing time: 0.437298059463501\n",
      " > Real-time factor: 0.10729061566639438\n",
      " > Text splitted to sentences.\n",
      "['Costa Coffee has headquarters in Dunstable.']\n"
     ]
    },
    {
     "name": "stderr",
     "output_type": "stream",
     "text": [
      "Processing Sentences:  94%|█████████▎| 468/500 [09:30<00:34,  1.07s/it]"
     ]
    },
    {
     "name": "stdout",
     "output_type": "stream",
     "text": [
      " > Processing time: 0.32239294052124023\n",
      " > Real-time factor: 0.0977552851828018\n",
      " > Text splitted to sentences.\n",
      "['Costa Coffee was established on 1971-01-01.']\n",
      " > Processing time: 0.58664870262146\n",
      " > Real-time factor: 0.10658869390905727\n",
      " > Text splitted to sentences.\n",
      "[\"Frankie and Benny's has headquarters in London.\"]\n"
     ]
    },
    {
     "name": "stderr",
     "output_type": "stream",
     "text": [
      "Processing Sentences:  94%|█████████▍| 469/500 [09:31<00:32,  1.04s/it]"
     ]
    },
    {
     "name": "stdout",
     "output_type": "stream",
     "text": [
      " > Processing time: 0.34970617294311523\n",
      " > Real-time factor: 0.09906245006931771\n",
      " > Text splitted to sentences.\n",
      "[\"Frankie and Benny's is a type of Restaurant.\"]\n",
      " > Processing time: 0.35854053497314453\n",
      " > Real-time factor: 0.10683538913726807\n",
      " > Text splitted to sentences.\n",
      "['Chicken Cottage is a type of Restaurant.']\n"
     ]
    },
    {
     "name": "stderr",
     "output_type": "stream",
     "text": [
      "Processing Sentences:  94%|█████████▍| 470/500 [09:31<00:27,  1.07it/s]"
     ]
    },
    {
     "name": "stdout",
     "output_type": "stream",
     "text": [
      " > Processing time: 0.28461122512817383\n",
      " > Real-time factor: 0.09426336088194294\n",
      " > Text splitted to sentences.\n",
      "['Orange Julius is a type of Restaurant.']\n",
      " > Processing time: 0.36322832107543945\n",
      " > Real-time factor: 0.10639192985804251\n",
      " > Text splitted to sentences.\n",
      "['Baskin-Robbins has headquarters in Canton.']\n"
     ]
    },
    {
     "name": "stderr",
     "output_type": "stream",
     "text": [
      "Processing Sentences:  94%|█████████▍| 471/500 [09:32<00:25,  1.13it/s]"
     ]
    },
    {
     "name": "stdout",
     "output_type": "stream",
     "text": [
      " > Processing time: 0.3675651550292969\n",
      " > Real-time factor: 0.10729733727488874\n",
      " > Text splitted to sentences.\n",
      "['Seasons 52 has headquarters in Orlando.']\n",
      " > Processing time: 0.363433837890625\n",
      " > Real-time factor: 0.09659734963221168\n",
      " > Text splitted to sentences.\n",
      "['IHOP is a type of Restaurant.']\n"
     ]
    },
    {
     "name": "stderr",
     "output_type": "stream",
     "text": [
      "Processing Sentences:  94%|█████████▍| 472/500 [09:33<00:22,  1.23it/s]"
     ]
    },
    {
     "name": "stdout",
     "output_type": "stream",
     "text": [
      " > Processing time: 0.2600984573364258\n",
      " > Real-time factor: 0.09293445333595068\n",
      " > Text splitted to sentences.\n",
      "['KFC has Colonel Sanders as CEO.']\n",
      " > Processing time: 0.25719261169433594\n",
      " > Real-time factor: 0.09505056797834721\n",
      " > Text splitted to sentences.\n",
      "['IHOP is a type of Restaurant.']\n"
     ]
    },
    {
     "name": "stderr",
     "output_type": "stream",
     "text": [
      "Processing Sentences:  95%|█████████▍| 473/500 [09:33<00:19,  1.36it/s]"
     ]
    },
    {
     "name": "stdout",
     "output_type": "stream",
     "text": [
      " > Processing time: 0.2652454376220703\n",
      " > Real-time factor: 0.09399366642399476\n",
      " > Text splitted to sentences.\n",
      "['Popeyes Louisiana Kitchen is a type of Restaurant.']\n",
      " > Processing time: 0.3997690677642822\n",
      " > Real-time factor: 0.09950004452097733\n",
      " > Text splitted to sentences.\n",
      "['Seasons 52 was established on 2003-01-01.']\n"
     ]
    },
    {
     "name": "stderr",
     "output_type": "stream",
     "text": [
      "Processing Sentences:  95%|█████████▍| 474/500 [09:34<00:21,  1.21it/s]"
     ]
    },
    {
     "name": "stdout",
     "output_type": "stream",
     "text": [
      " > Processing time: 0.5896697044372559\n",
      " > Real-time factor: 0.10759149495930005\n",
      " > Text splitted to sentences.\n",
      "['Jamba Juice is a type of Restaurant.']\n",
      " > Processing time: 0.2895629405975342\n",
      " > Real-time factor: 0.09480967629151267\n",
      " > Text splitted to sentences.\n",
      "['Olive Garden was established on 1982-01-01.']\n"
     ]
    },
    {
     "name": "stderr",
     "output_type": "stream",
     "text": [
      "Processing Sentences:  95%|█████████▌| 475/500 [09:35<00:21,  1.18it/s]"
     ]
    },
    {
     "name": "stdout",
     "output_type": "stream",
     "text": [
      " > Processing time: 0.5446481704711914\n",
      " > Real-time factor: 0.10400350005966616\n",
      " > Text splitted to sentences.\n",
      "[\"Wendy's has headquarters in Dublin.\"]\n",
      " > Processing time: 0.2572906017303467\n",
      " > Real-time factor: 0.09348236501704034\n",
      " > Text splitted to sentences.\n",
      "['Panda Express is a type of Restaurant.']\n"
     ]
    },
    {
     "name": "stderr",
     "output_type": "stream",
     "text": [
      "Processing Sentences:  95%|█████████▌| 476/500 [09:37<00:29,  1.24s/it]"
     ]
    },
    {
     "name": "stdout",
     "output_type": "stream",
     "text": [
      " > Processing time: 1.790475606918335\n",
      " > Real-time factor: 0.11086396171021838\n",
      " > Text splitted to sentences.\n",
      "[\"Dunkin' has headquarters in Canton.\"]\n",
      " > Processing time: 0.3536496162414551\n",
      " > Real-time factor: 0.09698972684233936\n",
      " > Text splitted to sentences.\n",
      "['Orange Julius was established on 1926-01-01']\n"
     ]
    },
    {
     "name": "stderr",
     "output_type": "stream",
     "text": [
      "Processing Sentences:  95%|█████████▌| 477/500 [09:38<00:26,  1.16s/it]"
     ]
    },
    {
     "name": "stdout",
     "output_type": "stream",
     "text": [
      " > Processing time: 0.5792219638824463\n",
      " > Real-time factor: 0.10727593992413605\n",
      " > Text splitted to sentences.\n",
      "['Whataburger is a type of Restaurant.']\n",
      " > Processing time: 0.2970423698425293\n",
      " > Real-time factor: 0.09952869339636171\n",
      " > Text splitted to sentences.\n",
      "['Chicken Cottage was established on 1994-01-01']\n"
     ]
    },
    {
     "name": "stderr",
     "output_type": "stream",
     "text": [
      "Processing Sentences:  96%|█████████▌| 478/500 [09:39<00:23,  1.07s/it]"
     ]
    },
    {
     "name": "stdout",
     "output_type": "stream",
     "text": [
      " > Processing time: 0.5346231460571289\n",
      " > Real-time factor: 0.10511877916392935\n",
      " > Text splitted to sentences.\n",
      "['Olive Garden is a type of Restaurant.']\n",
      " > Processing time: 0.7517855167388916\n",
      " > Real-time factor: 0.10737427870823764\n",
      " > Text splitted to sentences.\n",
      "[\"Freddy's Frozen Custard is a type of Restaurant.\"]\n"
     ]
    },
    {
     "name": "stderr",
     "output_type": "stream",
     "text": [
      "Processing Sentences:  96%|█████████▌| 479/500 [09:40<00:23,  1.11s/it]"
     ]
    },
    {
     "name": "stdout",
     "output_type": "stream",
     "text": [
      " > Processing time: 0.38291382789611816\n",
      " > Real-time factor: 0.09902479246938221\n",
      " > Text splitted to sentences.\n",
      "[\"Frankie and Benny's is a type of Restaurant.\"]\n",
      " > Processing time: 0.34416675567626953\n",
      " > Real-time factor: 0.09813879788254892\n",
      " > Text splitted to sentences.\n",
      "['Quiznos was established on 1981-01-01']\n"
     ]
    },
    {
     "name": "stderr",
     "output_type": "stream",
     "text": [
      "Processing Sentences:  96%|█████████▌| 480/500 [09:41<00:20,  1.05s/it]"
     ]
    },
    {
     "name": "stdout",
     "output_type": "stream",
     "text": [
      " > Processing time: 0.509868860244751\n",
      " > Real-time factor: 0.10429909797013469\n",
      " > Text splitted to sentences.\n",
      "['Chipotle Mexican Grill is a type of Restaurant.']\n",
      " > Processing time: 1.4271438121795654\n",
      " > Real-time factor: 0.11423491700992992\n",
      " > Text splitted to sentences.\n",
      "['Dairy Queen is a type of Restaurant.']\n"
     ]
    },
    {
     "name": "stderr",
     "output_type": "stream",
     "text": [
      "Processing Sentences:  96%|█████████▌| 481/500 [09:43<00:24,  1.29s/it]"
     ]
    },
    {
     "name": "stdout",
     "output_type": "stream",
     "text": [
      " > Processing time: 0.33489274978637695\n",
      " > Real-time factor: 0.10641551090600662\n",
      " > Text splitted to sentences.\n",
      "['Hotto Motto is a type of Restaurant.']\n",
      " > Processing time: 0.28832149505615234\n",
      " > Real-time factor: 0.09623227424903365\n",
      " > Text splitted to sentences.\n",
      "[\"Wendy's has Dave Thomas as CEO.\"]\n"
     ]
    },
    {
     "name": "stderr",
     "output_type": "stream",
     "text": [
      "Processing Sentences:  96%|█████████▋| 482/500 [09:44<00:19,  1.09s/it]"
     ]
    },
    {
     "name": "stdout",
     "output_type": "stream",
     "text": [
      " > Processing time: 0.2829453945159912\n",
      " > Real-time factor: 0.09630380879657949\n",
      " > Text splitted to sentences.\n",
      "['Orange Julius was established on 1926-01-01.']\n",
      " > Processing time: 0.5681898593902588\n",
      " > Real-time factor: 0.10280118812816075\n",
      " > Text splitted to sentences.\n",
      "['Starbucks has Jerry Baldwin as CEO.']\n"
     ]
    },
    {
     "name": "stderr",
     "output_type": "stream",
     "text": [
      "Processing Sentences:  97%|█████████▋| 483/500 [09:45<00:17,  1.03s/it]"
     ]
    },
    {
     "name": "stdout",
     "output_type": "stream",
     "text": [
      " > Processing time: 0.2935035228729248\n",
      " > Real-time factor: 0.09796186545392334\n",
      " > Text splitted to sentences.\n",
      "[\"Wendy's was established on 1969-01-01.\"]\n",
      " > Processing time: 0.49872541427612305\n",
      " > Real-time factor: 0.1034943474701524\n",
      " > Text splitted to sentences.\n",
      "['Orange Julius has headquarters in Los Angeles.']\n"
     ]
    },
    {
     "name": "stderr",
     "output_type": "stream",
     "text": [
      "Processing Sentences:  97%|█████████▋| 484/500 [09:46<00:16,  1.03s/it]"
     ]
    },
    {
     "name": "stdout",
     "output_type": "stream",
     "text": [
      " > Processing time: 0.4496879577636719\n",
      " > Real-time factor: 0.10817354107052893\n",
      " > Text splitted to sentences.\n",
      "[\"Freddy's Frozen Custard was established on 2002-01-01.\"]\n",
      " > Processing time: 0.5646638870239258\n",
      " > Real-time factor: 0.103909389678842\n",
      " > Text splitted to sentences.\n",
      "['Sibylla is a type of Restaurant.']\n"
     ]
    },
    {
     "name": "stderr",
     "output_type": "stream",
     "text": [
      "Processing Sentences:  97%|█████████▋| 485/500 [09:47<00:14,  1.01it/s]"
     ]
    },
    {
     "name": "stdout",
     "output_type": "stream",
     "text": [
      " > Processing time: 0.2929050922393799\n",
      " > Real-time factor: 0.09626993327984626\n",
      " > Text splitted to sentences.\n",
      "['Hotto Motto is a type of Restaurant.']\n",
      " > Processing time: 0.3372347354888916\n",
      " > Real-time factor: 0.09778069005799048\n",
      " > Text splitted to sentences.\n",
      "['Costa Coffee has headquarters in Dunstable.']\n"
     ]
    },
    {
     "name": "stderr",
     "output_type": "stream",
     "text": [
      "Processing Sentences:  97%|█████████▋| 486/500 [09:47<00:12,  1.10it/s]"
     ]
    },
    {
     "name": "stdout",
     "output_type": "stream",
     "text": [
      " > Processing time: 0.34397363662719727\n",
      " > Real-time factor: 0.10393305590371767\n",
      " > Text splitted to sentences.\n",
      "['Hotto Motto is a type of Restaurant.']\n",
      " > Processing time: 0.3069462776184082\n",
      " > Real-time factor: 0.0961168686305087\n",
      " > Text splitted to sentences.\n",
      "[\"Frankie and Benny's was established on 1995-01-01\"]\n"
     ]
    },
    {
     "name": "stderr",
     "output_type": "stream",
     "text": [
      "Processing Sentences:  97%|█████████▋| 487/500 [09:48<00:11,  1.11it/s]"
     ]
    },
    {
     "name": "stdout",
     "output_type": "stream",
     "text": [
      " > Processing time: 0.5278716087341309\n",
      " > Real-time factor: 0.10192981095512457\n",
      " > Text splitted to sentences.\n",
      "['Hotto Motto is a type of Restaurant.']\n",
      " > Processing time: 0.28842949867248535\n",
      " > Real-time factor: 0.09337371455438545\n",
      " > Text splitted to sentences.\n",
      "['Sibylla was established on 1907-01-01']\n"
     ]
    },
    {
     "name": "stderr",
     "output_type": "stream",
     "text": [
      "Processing Sentences:  98%|█████████▊| 488/500 [09:49<00:10,  1.16it/s]"
     ]
    },
    {
     "name": "stdout",
     "output_type": "stream",
     "text": [
      " > Processing time: 0.4554405212402344\n",
      " > Real-time factor: 0.09954860719019794\n",
      " > Text splitted to sentences.\n",
      "[\"Goody's was established on 1975-01-01.\"]\n",
      " > Processing time: 0.493119478225708\n",
      " > Real-time factor: 0.10135425517223026\n",
      " > Text splitted to sentences.\n",
      "['Sibylla is a type of Restaurant.']\n"
     ]
    },
    {
     "name": "stderr",
     "output_type": "stream",
     "text": [
      "Processing Sentences:  98%|█████████▊| 489/500 [09:51<00:11,  1.09s/it]"
     ]
    },
    {
     "name": "stdout",
     "output_type": "stream",
     "text": [
      " > Processing time: 1.036839246749878\n",
      " > Real-time factor: 0.10758934469747575\n",
      " > Text splitted to sentences.\n",
      "['Chicken Cottage was established on 1994-01-01.']\n",
      " > Processing time: 0.516730785369873\n",
      " > Real-time factor: 0.10160074384189703\n",
      " > Text splitted to sentences.\n",
      "['Hotto Motto is a type of Restaurant.']\n"
     ]
    },
    {
     "name": "stderr",
     "output_type": "stream",
     "text": [
      "Processing Sentences:  98%|█████████▊| 490/500 [09:52<00:13,  1.30s/it]"
     ]
    },
    {
     "name": "stdout",
     "output_type": "stream",
     "text": [
      " > Processing time: 1.194291591644287\n",
      " > Real-time factor: 0.10506754546663155\n",
      " > Text splitted to sentences.\n",
      "['Mister Donut was established on 1956-01-01.']\n",
      " > Processing time: 0.5275802612304688\n",
      " > Real-time factor: 0.10326254047837519\n",
      " > Text splitted to sentences.\n",
      "[\"Long John Silver's has headquarters in Louisville.\"]\n"
     ]
    },
    {
     "name": "stderr",
     "output_type": "stream",
     "text": [
      "Processing Sentences:  98%|█████████▊| 491/500 [09:53<00:10,  1.20s/it]"
     ]
    },
    {
     "name": "stdout",
     "output_type": "stream",
     "text": [
      " > Processing time: 0.3779792785644531\n",
      " > Real-time factor: 0.09984717141491987\n",
      " > Text splitted to sentences.\n",
      "['Popeyes Louisiana Kitchen was established on 1972-06-13.']\n",
      " > Processing time: 0.6886909008026123\n",
      " > Real-time factor: 0.1074495808523265\n",
      " > Text splitted to sentences.\n",
      "[\"Freddy's Frozen Custard is a type of Restaurant.\"]\n"
     ]
    },
    {
     "name": "stderr",
     "output_type": "stream",
     "text": [
      "Processing Sentences:  98%|█████████▊| 492/500 [09:58<00:18,  2.25s/it]"
     ]
    },
    {
     "name": "stdout",
     "output_type": "stream",
     "text": [
      " > Processing time: 3.8075222969055176\n",
      " > Real-time factor: 0.11223326129709145\n",
      " > Text splitted to sentences.\n",
      "['Orange Julius was established on 1926-01-01.']\n",
      " > Processing time: 0.5781333446502686\n",
      " > Real-time factor: 0.10753678169741548\n",
      " > Text splitted to sentences.\n",
      "['LongHorn Steakhouse is a type of Restaurant.']\n"
     ]
    },
    {
     "name": "stderr",
     "output_type": "stream",
     "text": [
      "Processing Sentences:  99%|█████████▊| 493/500 [09:59<00:13,  1.87s/it]"
     ]
    },
    {
     "name": "stdout",
     "output_type": "stream",
     "text": [
      " > Processing time: 0.3688693046569824\n",
      " > Real-time factor: 0.0998915328120267\n",
      " > Text splitted to sentences.\n",
      "[\"Chuck E. Cheese's has Nolan Bushnell as CEO.\"]\n",
      " > Processing time: 0.5055553913116455\n",
      " > Real-time factor: 0.10172558382995495\n",
      " > Text splitted to sentences.\n",
      "['Five Guys is a type of Restaurant.']\n"
     ]
    },
    {
     "name": "stderr",
     "output_type": "stream",
     "text": [
      "Processing Sentences:  99%|█████████▉| 494/500 [10:00<00:09,  1.56s/it]"
     ]
    },
    {
     "name": "stdout",
     "output_type": "stream",
     "text": [
      " > Processing time: 0.2982521057128906\n",
      " > Real-time factor: 0.09512350918435025\n",
      " > Text splitted to sentences.\n",
      "[\"Frankie and Benny's is a type of Restaurant.\"]\n",
      " > Processing time: 0.3758580684661865\n",
      " > Real-time factor: 0.1002088219394396\n",
      " > Text splitted to sentences.\n",
      "[\"Domino's Pizza has headquarters in Ann Arbor Charter Township.\"]\n"
     ]
    },
    {
     "name": "stderr",
     "output_type": "stream",
     "text": [
      "Processing Sentences:  99%|█████████▉| 495/500 [10:01<00:06,  1.38s/it]"
     ]
    },
    {
     "name": "stdout",
     "output_type": "stream",
     "text": [
      " > Processing time: 0.5121803283691406\n",
      " > Real-time factor: 0.10810974345745474\n",
      " > Text splitted to sentences.\n",
      "['Seasons 52 has headquarters in Orlando.']\n",
      " > Processing time: 0.41382670402526855\n",
      " > Real-time factor: 0.10799184368203432\n",
      " > Text splitted to sentences.\n",
      "[\"Chuck E. Cheese's was established on 1977-01-01\"]\n"
     ]
    },
    {
     "name": "stderr",
     "output_type": "stream",
     "text": [
      "Processing Sentences:  99%|█████████▉| 496/500 [10:02<00:05,  1.32s/it]"
     ]
    },
    {
     "name": "stdout",
     "output_type": "stream",
     "text": [
      " > Processing time: 0.7126233577728271\n",
      " > Real-time factor: 0.10599935940967917\n",
      " > Text splitted to sentences.\n",
      "['Jamba Juice was established on 1990-01-01.']\n",
      " > Processing time: 0.4951756000518799\n",
      " > Real-time factor: 0.1027576982113382\n",
      " > Text splitted to sentences.\n",
      "['IHOP was established on 1958-01-01']\n"
     ]
    },
    {
     "name": "stderr",
     "output_type": "stream",
     "text": [
      "Processing Sentences:  99%|█████████▉| 497/500 [10:03<00:03,  1.23s/it]"
     ]
    },
    {
     "name": "stdout",
     "output_type": "stream",
     "text": [
      " > Processing time: 0.4764378070831299\n",
      " > Real-time factor: 0.10232053185077737\n",
      " > Text splitted to sentences.\n",
      "['IHOP was established on 1958-01-01.']\n",
      " > Processing time: 0.48813343048095703\n",
      " > Real-time factor: 0.10178678830103932\n",
      " > Text splitted to sentences.\n",
      "['Panda Express was established on 1973-01-01']\n"
     ]
    },
    {
     "name": "stderr",
     "output_type": "stream",
     "text": [
      "Processing Sentences: 100%|█████████▉| 498/500 [10:04<00:02,  1.19s/it]"
     ]
    },
    {
     "name": "stdout",
     "output_type": "stream",
     "text": [
      " > Processing time: 0.5637269020080566\n",
      " > Real-time factor: 0.1039590708992176\n",
      " > Text splitted to sentences.\n",
      "['Firehouse Subs is a type of Restaurant.']\n",
      " > Processing time: 0.33647990226745605\n",
      " > Real-time factor: 0.09855714459348307\n",
      " > Text splitted to sentences.\n",
      "['Hotto Motto is a type of Restaurant.']\n"
     ]
    },
    {
     "name": "stderr",
     "output_type": "stream",
     "text": [
      "Processing Sentences: 100%|█████████▉| 499/500 [10:05<00:01,  1.04s/it]"
     ]
    },
    {
     "name": "stdout",
     "output_type": "stream",
     "text": [
      " > Processing time: 0.30835437774658203\n",
      " > Real-time factor: 0.09762253085963896\n",
      " > Text splitted to sentences.\n",
      "[\"Dunkin' has William Rosenberg as CEO.\"]\n",
      " > Processing time: 0.4252033233642578\n",
      " > Real-time factor: 0.10675593550944941\n",
      " > Text splitted to sentences.\n",
      "['Panda Express was established on 1973-01-01']\n"
     ]
    },
    {
     "name": "stderr",
     "output_type": "stream",
     "text": [
      "Processing Sentences: 100%|██████████| 500/500 [10:06<00:00,  1.21s/it]"
     ]
    },
    {
     "name": "stdout",
     "output_type": "stream",
     "text": [
      " > Processing time: 0.5757894515991211\n",
      " > Real-time factor: 0.10779919005366646\n"
     ]
    },
    {
     "name": "stderr",
     "output_type": "stream",
     "text": [
      "\n"
     ]
    }
   ],
   "source": [
    "audio_dir = 'Task_2_aud_files'\n",
    "os.makedirs(audio_dir, exist_ok=True)\n",
    "\n",
    "df_data = []\n",
    "\n",
    "for i, entry in tqdm(updated_df.iterrows(), total=len(updated_df), desc=\"Processing Sentences\"):\n",
    "    q_id = int(entry[0])\n",
    "    question = str(entry[1])\n",
    "    sen_1 = str(entry[2])\n",
    "    sen_2 = str(entry[3])\n",
    "    ans = str(entry[4])\n",
    "    sen_1_filename = f'{audio_dir}/Sentence_{q_id}_1.wav'\n",
    "    sen_2_filename = f'{audio_dir}/Sentence_{q_id}_2.wav'\n",
    "    ent = str(entry[5])\n",
    "    ent_titles = (entry[6])\n",
    "    \n",
    "    \n",
    "    df_data.append(\n",
    "    {\n",
    "'QID' : q_id,\n",
    "'question' :  question,     \n",
    "'sentence_1' : sen_1,\n",
    "'sentence_2' : sen_2,\n",
    "'sentence_1_filename' : ans,\n",
    "'sentence_2_filename' : sen_1_filename,\n",
    "'answer' : sen_2_filename,            \n",
    "'entities' : ent,                            \n",
    "'entity_titles' : ent_titles,\n",
    "    }\n",
    "    )\n",
    "    \n",
    "#     print(entry)\n",
    "    try:\n",
    "        tts.tts_to_file(text=sen_1, file_path=sen_1_filename)\n",
    "    except Exception as e:\n",
    "        print(f\"Error processing sentence 1 of q_id {q_id}: {e}\")\n",
    "        continue    \n",
    "    \n",
    "    try:\n",
    "        tts.tts_to_file(text=sen_2, file_path=sen_2_filename)\n",
    "    except Exception as e:\n",
    "        print(f\"Error processing sentence 2 of q_id {q_id}: {e}\")\n",
    "        continue\n",
    "        \n",
    "\n",
    "#     try:\n",
    "#         tts.tts_to_file(text=text_up, file_path=wav_filename)\n",
    "#     except Exception as e:\n",
    "#         print(f\"Error processing entity {link}: {e}\")\n",
    "#         continue\n",
    "    \n",
    "#     print(entry)\n",
    "#     time.sleep(0.5)\n",
    "#     print(text_up)\n",
    "#     wav_filename = f'entity_aud_files/Entity_{link}.wav'\n",
    "    \n",
    "#     try:\n",
    "#         tts.tts_to_file(text=text_up, file_path=wav_filename)\n",
    "#     except Exception as e:\n",
    "#         print(f\"Error processing entity {link}: {e}\")\n",
    "#         continue\n",
    "    \n",
    "#     df_data.append({\n",
    "#         'ID': link,\n",
    "#         'entity_name': text_up,\n",
    "#         'wav_addr': wav_filename\n",
    "#     })\n",
    "\n",
    "Task_2_df = pd.DataFrame(df_data)"
   ]
  },
  {
   "cell_type": "code",
   "execution_count": 15,
   "id": "0b8a6021",
   "metadata": {
    "execution": {
     "iopub.execute_input": "2024-09-04T09:21:25.879830Z",
     "iopub.status.busy": "2024-09-04T09:21:25.879384Z",
     "iopub.status.idle": "2024-09-04T09:21:25.883925Z",
     "shell.execute_reply": "2024-09-04T09:21:25.883041Z"
    },
    "papermill": {
     "duration": 0.169433,
     "end_time": "2024-09-04T09:21:25.885790",
     "exception": false,
     "start_time": "2024-09-04T09:21:25.716357",
     "status": "completed"
    },
    "tags": []
   },
   "outputs": [],
   "source": [
    "# QID                                                          0\n",
    "# question             Are these established in the same decade?\n",
    "# sentence_1       Banco do Brasil has headquarters in Brasília.\n",
    "# sentence_2        Banco do Brasil has CEO John VI of Portugal.\n",
    "# answer                                                     Yes\n",
    "# entities                                    [Q610817, Q610817]\n",
    "# entity_titles               [Banco do Brasil, Banco do Brasil]"
   ]
  },
  {
   "cell_type": "code",
   "execution_count": 16,
   "id": "285b1d7a",
   "metadata": {
    "execution": {
     "iopub.execute_input": "2024-09-04T09:21:26.212731Z",
     "iopub.status.busy": "2024-09-04T09:21:26.212301Z",
     "iopub.status.idle": "2024-09-04T09:21:38.622606Z",
     "shell.execute_reply": "2024-09-04T09:21:38.621263Z"
    },
    "papermill": {
     "duration": 12.576014,
     "end_time": "2024-09-04T09:21:38.625149",
     "exception": false,
     "start_time": "2024-09-04T09:21:26.049135",
     "status": "completed"
    },
    "scrolled": true,
    "tags": []
   },
   "outputs": [
    {
     "name": "stdout",
     "output_type": "stream",
     "text": [
      "  adding: kaggle/working/Task_2_aud_files/ (stored 0%)\r\n",
      "  adding: kaggle/working/Task_2_aud_files/Sentence_407_2.wav (deflated 22%)\r\n",
      "  adding: kaggle/working/Task_2_aud_files/Sentence_143_2.wav (deflated 19%)\r\n",
      "  adding: kaggle/working/Task_2_aud_files/Sentence_459_1.wav (deflated 27%)\r\n",
      "  adding: kaggle/working/Task_2_aud_files/Sentence_135_2.wav (deflated 24%)\r\n",
      "  adding: kaggle/working/Task_2_aud_files/Sentence_81_2.wav (deflated 16%)\r\n",
      "  adding: kaggle/working/Task_2_aud_files/Sentence_28_2.wav (deflated 22%)\r\n",
      "  adding: kaggle/working/Task_2_aud_files/Sentence_235_2.wav (deflated 19%)\r\n",
      "  adding: kaggle/working/Task_2_aud_files/Sentence_52_2.wav (deflated 25%)\r\n",
      "  adding: kaggle/working/Task_2_aud_files/Sentence_150_1.wav (deflated 25%)\r\n",
      "  adding: kaggle/working/Task_2_aud_files/Sentence_2_1.wav (deflated 20%)\r\n",
      "  adding: kaggle/working/Task_2_aud_files/Sentence_175_1.wav (deflated 24%)\r\n",
      "  adding: kaggle/working/Task_2_aud_files/Sentence_226_1.wav (deflated 21%)\r\n",
      "  adding: kaggle/working/Task_2_aud_files/Sentence_216_1.wav (deflated 20%)\r\n",
      "  adding: kaggle/working/Task_2_aud_files/Sentence_366_1.wav (deflated 22%)\r\n",
      "  adding: kaggle/working/Task_2_aud_files/Sentence_80_2.wav (deflated 21%)\r\n",
      "  adding: kaggle/working/Task_2_aud_files/Sentence_458_1.wav (deflated 24%)\r\n",
      "  adding: kaggle/working/Task_2_aud_files/Sentence_100_1.wav (deflated 19%)\r\n",
      "  adding: kaggle/working/Task_2_aud_files/Sentence_95_2.wav (deflated 24%)\r\n",
      "  adding: kaggle/working/Task_2_aud_files/Sentence_234_2.wav (deflated 17%)\r\n",
      "  adding: kaggle/working/Task_2_aud_files/Sentence_349_2.wav (deflated 20%)\r\n",
      "  adding: kaggle/working/Task_2_aud_files/Sentence_237_1.wav (deflated 24%)\r\n",
      "  adding: kaggle/working/Task_2_aud_files/Sentence_435_2.wav (deflated 20%)\r\n",
      "  adding: kaggle/working/Task_2_aud_files/Sentence_50_2.wav (deflated 25%)\r\n",
      "  adding: kaggle/working/Task_2_aud_files/Sentence_298_1.wav (deflated 18%)\r\n",
      "  adding: kaggle/working/Task_2_aud_files/Sentence_156_1.wav (deflated 19%)\r\n",
      "  adding: kaggle/working/Task_2_aud_files/Sentence_477_2.wav (deflated 17%)\r\n",
      "  adding: kaggle/working/Task_2_aud_files/Sentence_254_1.wav (deflated 23%)\r\n",
      "  adding: kaggle/working/Task_2_aud_files/Sentence_91_2.wav (deflated 23%)\r\n",
      "  adding: kaggle/working/Task_2_aud_files/Sentence_310_1.wav (deflated 21%)\r\n",
      "  adding: kaggle/working/Task_2_aud_files/Sentence_165_2.wav (deflated 23%)\r\n",
      "  adding: kaggle/working/Task_2_aud_files/Sentence_278_1.wav (deflated 16%)\r\n",
      "  adding: kaggle/working/Task_2_aud_files/Sentence_499_1.wav (deflated 26%)\r\n",
      "  adding: kaggle/working/Task_2_aud_files/Sentence_256_1.wav (deflated 21%)\r\n",
      "  adding: kaggle/working/Task_2_aud_files/Sentence_359_1.wav (deflated 18%)\r\n",
      "  adding: kaggle/working/Task_2_aud_files/Sentence_236_1.wav (deflated 17%)\r\n",
      "  adding: kaggle/working/Task_2_aud_files/Sentence_492_2.wav (deflated 23%)\r\n",
      "  adding: kaggle/working/Task_2_aud_files/Sentence_186_2.wav (deflated 25%)\r\n",
      "  adding: kaggle/working/Task_2_aud_files/Sentence_357_1.wav (deflated 18%)\r\n",
      "  adding: kaggle/working/Task_2_aud_files/Sentence_87_1.wav (deflated 21%)\r\n",
      "  adding: kaggle/working/Task_2_aud_files/Sentence_310_2.wav (deflated 18%)\r\n",
      "  adding: kaggle/working/Task_2_aud_files/Sentence_265_2.wav (deflated 18%)\r\n",
      "  adding: kaggle/working/Task_2_aud_files/Sentence_465_2.wav (deflated 18%)\r\n",
      "  adding: kaggle/working/Task_2_aud_files/Sentence_269_2.wav (deflated 23%)\r\n",
      "  adding: kaggle/working/Task_2_aud_files/Sentence_484_1.wav (deflated 19%)\r\n",
      "  adding: kaggle/working/Task_2_aud_files/Sentence_391_2.wav (deflated 22%)\r\n",
      "  adding: kaggle/working/Task_2_aud_files/Sentence_250_1.wav (deflated 18%)\r\n",
      "  adding: kaggle/working/Task_2_aud_files/Sentence_325_1.wav (deflated 24%)\r\n",
      "  adding: kaggle/working/Task_2_aud_files/Sentence_277_2.wav (deflated 26%)\r\n",
      "  adding: kaggle/working/Task_2_aud_files/Sentence_231_1.wav (deflated 25%)\r\n",
      "  adding: kaggle/working/Task_2_aud_files/Sentence_209_2.wav (deflated 25%)\r\n",
      "  adding: kaggle/working/Task_2_aud_files/Sentence_133_1.wav (deflated 22%)\r\n",
      "  adding: kaggle/working/Task_2_aud_files/Sentence_319_1.wav (deflated 22%)\r\n",
      "  adding: kaggle/working/Task_2_aud_files/Sentence_263_1.wav (deflated 28%)\r\n",
      "  adding: kaggle/working/Task_2_aud_files/Sentence_451_2.wav (deflated 29%)\r\n",
      "  adding: kaggle/working/Task_2_aud_files/Sentence_242_2.wav (deflated 21%)\r\n",
      "  adding: kaggle/working/Task_2_aud_files/Sentence_276_1.wav (deflated 27%)\r\n",
      "  adding: kaggle/working/Task_2_aud_files/Sentence_453_1.wav (deflated 19%)\r\n",
      "  adding: kaggle/working/Task_2_aud_files/Sentence_418_1.wav (deflated 18%)\r\n",
      "  adding: kaggle/working/Task_2_aud_files/Sentence_280_2.wav (deflated 16%)\r\n",
      "  adding: kaggle/working/Task_2_aud_files/Sentence_127_2.wav (deflated 12%)\r\n",
      "  adding: kaggle/working/Task_2_aud_files/Sentence_257_2.wav (deflated 24%)\r\n",
      "  adding: kaggle/working/Task_2_aud_files/Sentence_111_2.wav (deflated 22%)\r\n",
      "  adding: kaggle/working/Task_2_aud_files/Sentence_264_1.wav (deflated 16%)\r\n",
      "  adding: kaggle/working/Task_2_aud_files/Sentence_409_1.wav (deflated 20%)\r\n",
      "  adding: kaggle/working/Task_2_aud_files/Sentence_7_2.wav (deflated 23%)\r\n",
      "  adding: kaggle/working/Task_2_aud_files/Sentence_483_1.wav (deflated 18%)\r\n",
      "  adding: kaggle/working/Task_2_aud_files/Sentence_243_1.wav (deflated 22%)\r\n",
      "  adding: kaggle/working/Task_2_aud_files/Sentence_337_1.wav (deflated 20%)\r\n",
      "  adding: kaggle/working/Task_2_aud_files/Sentence_181_1.wav (deflated 18%)\r\n",
      "  adding: kaggle/working/Task_2_aud_files/Sentence_207_2.wav (deflated 19%)\r\n",
      "  adding: kaggle/working/Task_2_aud_files/Sentence_408_2.wav (deflated 18%)\r\n",
      "  adding: kaggle/working/Task_2_aud_files/Sentence_383_2.wav (deflated 26%)\r\n",
      "  adding: kaggle/working/Task_2_aud_files/Sentence_218_1.wav (deflated 11%)\r\n",
      "  adding: kaggle/working/Task_2_aud_files/Sentence_270_2.wav (deflated 19%)\r\n",
      "  adding: kaggle/working/Task_2_aud_files/Sentence_66_2.wav (deflated 21%)\r\n",
      "  adding: kaggle/working/Task_2_aud_files/Sentence_74_1.wav (deflated 22%)\r\n",
      "  adding: kaggle/working/Task_2_aud_files/Sentence_94_1.wav (deflated 20%)\r\n",
      "  adding: kaggle/working/Task_2_aud_files/Sentence_79_1.wav (deflated 24%)\r\n",
      "  adding: kaggle/working/Task_2_aud_files/Sentence_208_1.wav (deflated 22%)\r\n",
      "  adding: kaggle/working/Task_2_aud_files/Sentence_319_2.wav (deflated 18%)\r\n",
      "  adding: kaggle/working/Task_2_aud_files/Sentence_480_1.wav (deflated 21%)\r\n",
      "  adding: kaggle/working/Task_2_aud_files/Sentence_336_2.wav (deflated 23%)\r\n",
      "  adding: kaggle/working/Task_2_aud_files/Sentence_344_1.wav (deflated 18%)\r\n",
      "  adding: kaggle/working/Task_2_aud_files/Sentence_300_2.wav (deflated 22%)\r\n",
      "  adding: kaggle/working/Task_2_aud_files/Sentence_262_2.wav (deflated 29%)\r\n",
      "  adding: kaggle/working/Task_2_aud_files/Sentence_30_1.wav (deflated 22%)\r\n",
      "  adding: kaggle/working/Task_2_aud_files/Sentence_402_1.wav (deflated 24%)\r\n",
      "  adding: kaggle/working/Task_2_aud_files/Sentence_32_1.wav (deflated 23%)\r\n",
      "  adding: kaggle/working/Task_2_aud_files/Sentence_44_1.wav (deflated 25%)\r\n",
      "  adding: kaggle/working/Task_2_aud_files/Sentence_249_2.wav (deflated 17%)\r\n",
      "  adding: kaggle/working/Task_2_aud_files/Sentence_146_2.wav (deflated 20%)\r\n",
      "  adding: kaggle/working/Task_2_aud_files/Sentence_418_2.wav (deflated 26%)\r\n",
      "  adding: kaggle/working/Task_2_aud_files/Sentence_42_1.wav (deflated 23%)\r\n",
      "  adding: kaggle/working/Task_2_aud_files/Sentence_168_1.wav (deflated 19%)\r\n",
      "  adding: kaggle/working/Task_2_aud_files/Sentence_307_2.wav (deflated 17%)\r\n",
      "  adding: kaggle/working/Task_2_aud_files/Sentence_400_2.wav (deflated 26%)\r\n",
      "  adding: kaggle/working/Task_2_aud_files/Sentence_318_1.wav (deflated 18%)\r\n",
      "  adding: kaggle/working/Task_2_aud_files/Sentence_192_1.wav (deflated 25%)\r\n",
      "  adding: kaggle/working/Task_2_aud_files/Sentence_332_1.wav (deflated 23%)\r\n",
      "  adding: kaggle/working/Task_2_aud_files/Sentence_35_1.wav (deflated 21%)\r\n",
      "  adding: kaggle/working/Task_2_aud_files/Sentence_15_2.wav (deflated 21%)\r\n",
      "  adding: kaggle/working/Task_2_aud_files/Sentence_63_2.wav (deflated 24%)\r\n",
      "  adding: kaggle/working/Task_2_aud_files/Sentence_421_1.wav (deflated 18%)\r\n",
      "  adding: kaggle/working/Task_2_aud_files/Sentence_48_1.wav (deflated 20%)\r\n",
      "  adding: kaggle/working/Task_2_aud_files/Sentence_113_2.wav (deflated 17%)\r\n",
      "  adding: kaggle/working/Task_2_aud_files/Sentence_254_2.wav (deflated 16%)\r\n",
      "  adding: kaggle/working/Task_2_aud_files/Sentence_343_2.wav (deflated 24%)\r\n",
      "  adding: kaggle/working/Task_2_aud_files/Sentence_6_2.wav (deflated 26%)\r\n",
      "  adding: kaggle/working/Task_2_aud_files/Sentence_103_2.wav (deflated 21%)\r\n",
      "  adding: kaggle/working/Task_2_aud_files/Sentence_364_1.wav (deflated 26%)\r\n",
      "  adding: kaggle/working/Task_2_aud_files/Sentence_103_1.wav (deflated 23%)\r\n",
      "  adding: kaggle/working/Task_2_aud_files/Sentence_468_1.wav (deflated 17%)\r\n",
      "  adding: kaggle/working/Task_2_aud_files/Sentence_75_1.wav (deflated 26%)\r\n",
      "  adding: kaggle/working/Task_2_aud_files/Sentence_184_2.wav (deflated 22%)\r\n",
      "  adding: kaggle/working/Task_2_aud_files/Sentence_476_1.wav (deflated 29%)\r\n",
      "  adding: kaggle/working/Task_2_aud_files/Sentence_315_1.wav (deflated 27%)\r\n",
      "  adding: kaggle/working/Task_2_aud_files/Sentence_364_2.wav (deflated 23%)\r\n",
      "  adding: kaggle/working/Task_2_aud_files/Sentence_33_2.wav (deflated 22%)\r\n",
      "  adding: kaggle/working/Task_2_aud_files/Sentence_352_2.wav (deflated 28%)\r\n",
      "  adding: kaggle/working/Task_2_aud_files/Sentence_357_2.wav (deflated 24%)\r\n",
      "  adding: kaggle/working/Task_2_aud_files/Sentence_39_2.wav (deflated 21%)\r\n",
      "  adding: kaggle/working/Task_2_aud_files/Sentence_432_1.wav (deflated 27%)\r\n",
      "  adding: kaggle/working/Task_2_aud_files/Sentence_27_2.wav (deflated 21%)\r\n",
      "  adding: kaggle/working/Task_2_aud_files/Sentence_393_2.wav (deflated 17%)\r\n",
      "  adding: kaggle/working/Task_2_aud_files/Sentence_191_1.wav (deflated 21%)\r\n",
      "  adding: kaggle/working/Task_2_aud_files/Sentence_162_1.wav (deflated 19%)\r\n",
      "  adding: kaggle/working/Task_2_aud_files/Sentence_434_1.wav (deflated 18%)\r\n",
      "  adding: kaggle/working/Task_2_aud_files/Sentence_452_1.wav (deflated 21%)\r\n",
      "  adding: kaggle/working/Task_2_aud_files/Sentence_295_2.wav (deflated 24%)\r\n",
      "  adding: kaggle/working/Task_2_aud_files/Sentence_423_1.wav (deflated 23%)\r\n",
      "  adding: kaggle/working/Task_2_aud_files/Sentence_239_2.wav (deflated 27%)\r\n",
      "  adding: kaggle/working/Task_2_aud_files/Sentence_36_2.wav (deflated 19%)\r\n",
      "  adding: kaggle/working/Task_2_aud_files/Sentence_84_2.wav (deflated 20%)\r\n",
      "  adding: kaggle/working/Task_2_aud_files/Sentence_404_1.wav (deflated 20%)\r\n",
      "  adding: kaggle/working/Task_2_aud_files/Sentence_424_2.wav (deflated 18%)\r\n",
      "  adding: kaggle/working/Task_2_aud_files/Sentence_258_1.wav (deflated 22%)\r\n",
      "  adding: kaggle/working/Task_2_aud_files/Sentence_215_2.wav (deflated 22%)\r\n",
      "  adding: kaggle/working/Task_2_aud_files/Sentence_234_1.wav (deflated 20%)\r\n",
      "  adding: kaggle/working/Task_2_aud_files/Sentence_370_1.wav (deflated 23%)\r\n",
      "  adding: kaggle/working/Task_2_aud_files/Sentence_4_2.wav (deflated 20%)\r\n",
      "  adding: kaggle/working/Task_2_aud_files/Sentence_226_2.wav (deflated 22%)\r\n",
      "  adding: kaggle/working/Task_2_aud_files/Sentence_467_1.wav (deflated 25%)\r\n",
      "  adding: kaggle/working/Task_2_aud_files/Sentence_423_2.wav (deflated 17%)\r\n",
      "  adding: kaggle/working/Task_2_aud_files/Sentence_460_2.wav (deflated 24%)\r\n",
      "  adding: kaggle/working/Task_2_aud_files/Sentence_205_1.wav (deflated 19%)\r\n",
      "  adding: kaggle/working/Task_2_aud_files/Sentence_343_1.wav (deflated 20%)\r\n",
      "  adding: kaggle/working/Task_2_aud_files/Sentence_56_2.wav (deflated 24%)\r\n",
      "  adding: kaggle/working/Task_2_aud_files/Sentence_76_2.wav (deflated 17%)\r\n",
      "  adding: kaggle/working/Task_2_aud_files/Sentence_175_2.wav (deflated 17%)\r\n",
      "  adding: kaggle/working/Task_2_aud_files/Sentence_82_2.wav (deflated 18%)\r\n",
      "  adding: kaggle/working/Task_2_aud_files/Sentence_442_1.wav (deflated 16%)\r\n",
      "  adding: kaggle/working/Task_2_aud_files/Sentence_86_2.wav (deflated 22%)\r\n",
      "  adding: kaggle/working/Task_2_aud_files/Sentence_394_1.wav (deflated 20%)\r\n",
      "  adding: kaggle/working/Task_2_aud_files/Sentence_169_1.wav (deflated 23%)\r\n",
      "  adding: kaggle/working/Task_2_aud_files/Sentence_468_2.wav (deflated 24%)\r\n",
      "  adding: kaggle/working/Task_2_aud_files/Sentence_194_1.wav (deflated 17%)\r\n",
      "  adding: kaggle/working/Task_2_aud_files/Sentence_434_2.wav (deflated 20%)\r\n",
      "  adding: kaggle/working/Task_2_aud_files/Sentence_132_2.wav (deflated 23%)\r\n",
      "  adding: kaggle/working/Task_2_aud_files/Sentence_10_2.wav (deflated 21%)\r\n",
      "  adding: kaggle/working/Task_2_aud_files/Sentence_298_2.wav (deflated 18%)\r\n",
      "  adding: kaggle/working/Task_2_aud_files/Sentence_0_1.wav (deflated 20%)\r\n",
      "  adding: kaggle/working/Task_2_aud_files/Sentence_371_1.wav (deflated 16%)\r\n",
      "  adding: kaggle/working/Task_2_aud_files/Sentence_1_2.wav (deflated 20%)\r\n",
      "  adding: kaggle/working/Task_2_aud_files/Sentence_129_1.wav (deflated 24%)\r\n",
      "  adding: kaggle/working/Task_2_aud_files/Sentence_390_2.wav (deflated 20%)\r\n",
      "  adding: kaggle/working/Task_2_aud_files/Sentence_450_2.wav (deflated 19%)\r\n",
      "  adding: kaggle/working/Task_2_aud_files/Sentence_472_2.wav (deflated 25%)\r\n",
      "  adding: kaggle/working/Task_2_aud_files/Sentence_210_1.wav (deflated 19%)\r\n",
      "  adding: kaggle/working/Task_2_aud_files/Sentence_278_2.wav (deflated 28%)\r\n",
      "  adding: kaggle/working/Task_2_aud_files/Sentence_165_1.wav (deflated 24%)\r\n",
      "  adding: kaggle/working/Task_2_aud_files/Sentence_7_1.wav (deflated 24%)\r\n",
      "  adding: kaggle/working/Task_2_aud_files/Sentence_97_2.wav (deflated 22%)\r\n",
      "  adding: kaggle/working/Task_2_aud_files/Sentence_147_2.wav (deflated 21%)\r\n",
      "  adding: kaggle/working/Task_2_aud_files/Sentence_124_1.wav (deflated 22%)\r\n",
      "  adding: kaggle/working/Task_2_aud_files/Sentence_104_1.wav (deflated 25%)\r\n",
      "  adding: kaggle/working/Task_2_aud_files/Sentence_323_1.wav (deflated 27%)\r\n",
      "  adding: kaggle/working/Task_2_aud_files/Sentence_474_1.wav (deflated 25%)\r\n",
      "  adding: kaggle/working/Task_2_aud_files/Sentence_441_1.wav (deflated 24%)\r\n",
      "  adding: kaggle/working/Task_2_aud_files/Sentence_412_2.wav (deflated 23%)\r\n",
      "  adding: kaggle/working/Task_2_aud_files/Sentence_284_2.wav (deflated 27%)\r\n",
      "  adding: kaggle/working/Task_2_aud_files/Sentence_457_1.wav (deflated 21%)\r\n",
      "  adding: kaggle/working/Task_2_aud_files/Sentence_360_2.wav (deflated 17%)\r\n",
      "  adding: kaggle/working/Task_2_aud_files/Sentence_461_1.wav (deflated 25%)\r\n",
      "  adding: kaggle/working/Task_2_aud_files/Sentence_159_2.wav (deflated 21%)\r\n",
      "  adding: kaggle/working/Task_2_aud_files/Sentence_77_2.wav (deflated 23%)\r\n",
      "  adding: kaggle/working/Task_2_aud_files/Sentence_240_2.wav (deflated 18%)\r\n",
      "  adding: kaggle/working/Task_2_aud_files/Sentence_410_1.wav (deflated 21%)\r\n",
      "  adding: kaggle/working/Task_2_aud_files/Sentence_495_2.wav (deflated 20%)\r\n",
      "  adding: kaggle/working/Task_2_aud_files/Sentence_286_1.wav (deflated 24%)\r\n",
      "  adding: kaggle/working/Task_2_aud_files/Sentence_55_2.wav (deflated 21%)\r\n",
      "  adding: kaggle/working/Task_2_aud_files/Sentence_244_2.wav (deflated 20%)\r\n",
      "  adding: kaggle/working/Task_2_aud_files/Sentence_427_1.wav (deflated 19%)\r\n",
      "  adding: kaggle/working/Task_2_aud_files/Sentence_45_1.wav (deflated 23%)\r\n",
      "  adding: kaggle/working/Task_2_aud_files/Sentence_0_2.wav (deflated 20%)\r\n",
      "  adding: kaggle/working/Task_2_aud_files/Sentence_92_2.wav (deflated 23%)\r\n",
      "  adding: kaggle/working/Task_2_aud_files/Sentence_420_2.wav (deflated 24%)\r\n",
      "  adding: kaggle/working/Task_2_aud_files/Sentence_136_1.wav (deflated 20%)\r\n",
      "  adding: kaggle/working/Task_2_aud_files/Sentence_118_2.wav (deflated 25%)\r\n",
      "  adding: kaggle/working/Task_2_aud_files/Sentence_61_2.wav (deflated 29%)\r\n",
      "  adding: kaggle/working/Task_2_aud_files/Sentence_338_1.wav (deflated 19%)\r\n",
      "  adding: kaggle/working/Task_2_aud_files/Sentence_151_2.wav (deflated 18%)\r\n",
      "  adding: kaggle/working/Task_2_aud_files/Sentence_177_1.wav (deflated 23%)\r\n",
      "  adding: kaggle/working/Task_2_aud_files/Sentence_109_1.wav (deflated 22%)\r\n",
      "  adding: kaggle/working/Task_2_aud_files/Sentence_413_1.wav (deflated 27%)\r\n",
      "  adding: kaggle/working/Task_2_aud_files/Sentence_240_1.wav (deflated 21%)\r\n",
      "  adding: kaggle/working/Task_2_aud_files/Sentence_425_1.wav (deflated 17%)\r\n",
      "  adding: kaggle/working/Task_2_aud_files/Sentence_104_2.wav (deflated 24%)\r\n",
      "  adding: kaggle/working/Task_2_aud_files/Sentence_200_2.wav (deflated 23%)\r\n",
      "  adding: kaggle/working/Task_2_aud_files/Sentence_419_2.wav (deflated 21%)\r\n",
      "  adding: kaggle/working/Task_2_aud_files/Sentence_224_2.wav (deflated 21%)\r\n",
      "  adding: kaggle/working/Task_2_aud_files/Sentence_473_2.wav (deflated 17%)\r\n",
      "  adding: kaggle/working/Task_2_aud_files/Sentence_355_1.wav (deflated 20%)\r\n",
      "  adding: kaggle/working/Task_2_aud_files/Sentence_182_2.wav (deflated 17%)\r\n",
      "  adding: kaggle/working/Task_2_aud_files/Sentence_163_1.wav (deflated 18%)\r\n",
      "  adding: kaggle/working/Task_2_aud_files/Sentence_288_2.wav (deflated 24%)\r\n",
      "  adding: kaggle/working/Task_2_aud_files/Sentence_348_2.wav (deflated 15%)\r\n",
      "  adding: kaggle/working/Task_2_aud_files/Sentence_247_2.wav (deflated 16%)\r\n",
      "  adding: kaggle/working/Task_2_aud_files/Sentence_461_2.wav (deflated 21%)\r\n",
      "  adding: kaggle/working/Task_2_aud_files/Sentence_272_1.wav (deflated 23%)\r\n",
      "  adding: kaggle/working/Task_2_aud_files/Sentence_206_1.wav (deflated 19%)\r\n",
      "  adding: kaggle/working/Task_2_aud_files/Sentence_299_1.wav (deflated 19%)\r\n",
      "  adding: kaggle/working/Task_2_aud_files/Sentence_293_1.wav (deflated 23%)\r\n",
      "  adding: kaggle/working/Task_2_aud_files/Sentence_410_2.wav (deflated 18%)\r\n",
      "  adding: kaggle/working/Task_2_aud_files/Sentence_283_1.wav (deflated 19%)\r\n",
      "  adding: kaggle/working/Task_2_aud_files/Sentence_88_2.wav (deflated 24%)\r\n",
      "  adding: kaggle/working/Task_2_aud_files/Sentence_177_2.wav (deflated 20%)\r\n",
      "  adding: kaggle/working/Task_2_aud_files/Sentence_98_1.wav (deflated 25%)\r\n",
      "  adding: kaggle/working/Task_2_aud_files/Sentence_160_2.wav (deflated 30%)\r\n",
      "  adding: kaggle/working/Task_2_aud_files/Sentence_46_1.wav (deflated 22%)\r\n",
      "  adding: kaggle/working/Task_2_aud_files/Sentence_368_2.wav (deflated 17%)\r\n",
      "  adding: kaggle/working/Task_2_aud_files/Sentence_144_2.wav (deflated 23%)\r\n",
      "  adding: kaggle/working/Task_2_aud_files/Sentence_378_2.wav (deflated 17%)\r\n",
      "  adding: kaggle/working/Task_2_aud_files/Sentence_150_2.wav (deflated 22%)\r\n",
      "  adding: kaggle/working/Task_2_aud_files/Sentence_485_2.wav (deflated 23%)\r\n",
      "  adding: kaggle/working/Task_2_aud_files/Sentence_286_2.wav (deflated 19%)\r\n",
      "  adding: kaggle/working/Task_2_aud_files/Sentence_117_1.wav (deflated 26%)\r\n",
      "  adding: kaggle/working/Task_2_aud_files/Sentence_350_2.wav (deflated 25%)\r\n",
      "  adding: kaggle/working/Task_2_aud_files/Sentence_216_2.wav (deflated 19%)\r\n",
      "  adding: kaggle/working/Task_2_aud_files/Sentence_481_1.wav (deflated 26%)\r\n",
      "  adding: kaggle/working/Task_2_aud_files/Sentence_90_2.wav (deflated 20%)\r\n",
      "  adding: kaggle/working/Task_2_aud_files/Sentence_213_1.wav (deflated 19%)\r\n",
      "  adding: kaggle/working/Task_2_aud_files/Sentence_9_1.wav (deflated 26%)\r\n",
      "  adding: kaggle/working/Task_2_aud_files/Sentence_19_1.wav (deflated 22%)\r\n",
      "  adding: kaggle/working/Task_2_aud_files/Sentence_387_2.wav (deflated 26%)\r\n",
      "  adding: kaggle/working/Task_2_aud_files/Sentence_358_2.wav (deflated 17%)\r\n",
      "  adding: kaggle/working/Task_2_aud_files/Sentence_25_1.wav (deflated 19%)\r\n",
      "  adding: kaggle/working/Task_2_aud_files/Sentence_139_2.wav (deflated 21%)\r\n",
      "  adding: kaggle/working/Task_2_aud_files/Sentence_328_2.wav (deflated 27%)\r\n",
      "  adding: kaggle/working/Task_2_aud_files/Sentence_385_1.wav (deflated 26%)\r\n",
      "  adding: kaggle/working/Task_2_aud_files/Sentence_353_1.wav (deflated 17%)\r\n",
      "  adding: kaggle/working/Task_2_aud_files/Sentence_106_2.wav (deflated 23%)\r\n",
      "  adding: kaggle/working/Task_2_aud_files/Sentence_203_1.wav (deflated 29%)\r\n",
      "  adding: kaggle/working/Task_2_aud_files/Sentence_182_1.wav (deflated 24%)\r\n",
      "  adding: kaggle/working/Task_2_aud_files/Sentence_302_2.wav (deflated 24%)\r\n",
      "  adding: kaggle/working/Task_2_aud_files/Sentence_290_1.wav (deflated 25%)\r\n",
      "  adding: kaggle/working/Task_2_aud_files/Sentence_352_1.wav (deflated 23%)\r\n",
      "  adding: kaggle/working/Task_2_aud_files/Sentence_444_2.wav (deflated 19%)\r\n",
      "  adding: kaggle/working/Task_2_aud_files/Sentence_280_1.wav (deflated 38%)\r\n",
      "  adding: kaggle/working/Task_2_aud_files/Sentence_120_2.wav (deflated 20%)\r\n",
      "  adding: kaggle/working/Task_2_aud_files/Sentence_346_2.wav (deflated 21%)\r\n",
      "  adding: kaggle/working/Task_2_aud_files/Sentence_358_1.wav (deflated 22%)\r\n",
      "  adding: kaggle/working/Task_2_aud_files/Sentence_26_1.wav (deflated 24%)\r\n",
      "  adding: kaggle/working/Task_2_aud_files/Sentence_422_1.wav (deflated 24%)\r\n",
      "  adding: kaggle/working/Task_2_aud_files/Sentence_116_1.wav (deflated 23%)\r\n",
      "  adding: kaggle/working/Task_2_aud_files/Sentence_159_1.wav (deflated 23%)\r\n",
      "  adding: kaggle/working/Task_2_aud_files/Sentence_37_2.wav (deflated 20%)\r\n",
      "  adding: kaggle/working/Task_2_aud_files/Sentence_219_1.wav (deflated 22%)\r\n",
      "  adding: kaggle/working/Task_2_aud_files/Sentence_207_1.wav (deflated 29%)\r\n",
      "  adding: kaggle/working/Task_2_aud_files/Sentence_462_1.wav (deflated 26%)\r\n",
      "  adding: kaggle/working/Task_2_aud_files/Sentence_327_2.wav (deflated 26%)\r\n",
      "  adding: kaggle/working/Task_2_aud_files/Sentence_309_1.wav (deflated 19%)\r\n",
      "  adding: kaggle/working/Task_2_aud_files/Sentence_333_1.wav (deflated 31%)\r\n",
      "  adding: kaggle/working/Task_2_aud_files/Sentence_381_1.wav (deflated 20%)\r\n",
      "  adding: kaggle/working/Task_2_aud_files/Sentence_395_2.wav (deflated 22%)\r\n",
      "  adding: kaggle/working/Task_2_aud_files/Sentence_330_2.wav (deflated 19%)\r\n",
      "  adding: kaggle/working/Task_2_aud_files/Sentence_387_1.wav (deflated 17%)\r\n",
      "  adding: kaggle/working/Task_2_aud_files/Sentence_376_2.wav (deflated 23%)\r\n",
      "  adding: kaggle/working/Task_2_aud_files/Sentence_204_1.wav (deflated 20%)\r\n",
      "  adding: kaggle/working/Task_2_aud_files/Sentence_164_1.wav (deflated 26%)\r\n",
      "  adding: kaggle/working/Task_2_aud_files/Sentence_314_2.wav (deflated 20%)\r\n",
      "  adding: kaggle/working/Task_2_aud_files/Sentence_354_1.wav (deflated 18%)\r\n",
      "  adding: kaggle/working/Task_2_aud_files/Sentence_437_1.wav (deflated 16%)\r\n",
      "  adding: kaggle/working/Task_2_aud_files/Sentence_173_2.wav (deflated 18%)\r\n",
      "  adding: kaggle/working/Task_2_aud_files/Sentence_262_1.wav (deflated 17%)\r\n",
      "  adding: kaggle/working/Task_2_aud_files/Sentence_409_2.wav (deflated 26%)\r\n",
      "  adding: kaggle/working/Task_2_aud_files/Sentence_160_1.wav (deflated 18%)\r\n",
      "  adding: kaggle/working/Task_2_aud_files/Sentence_494_2.wav (deflated 19%)\r\n",
      "  adding: kaggle/working/Task_2_aud_files/Sentence_211_2.wav (deflated 21%)\r\n",
      "  adding: kaggle/working/Task_2_aud_files/Sentence_260_1.wav (deflated 19%)\r\n",
      "  adding: kaggle/working/Task_2_aud_files/Sentence_429_2.wav (deflated 22%)\r\n",
      "  adding: kaggle/working/Task_2_aud_files/Sentence_169_2.wav (deflated 25%)\r\n",
      "  adding: kaggle/working/Task_2_aud_files/Sentence_223_2.wav (deflated 21%)\r\n",
      "  adding: kaggle/working/Task_2_aud_files/Sentence_144_1.wav (deflated 28%)\r\n",
      "  adding: kaggle/working/Task_2_aud_files/Sentence_285_1.wav (deflated 24%)\r\n",
      "  adding: kaggle/working/Task_2_aud_files/Sentence_422_2.wav (deflated 22%)\r\n",
      "  adding: kaggle/working/Task_2_aud_files/Sentence_107_1.wav (deflated 20%)\r\n",
      "  adding: kaggle/working/Task_2_aud_files/Sentence_483_2.wav (deflated 18%)\r\n",
      "  adding: kaggle/working/Task_2_aud_files/Sentence_101_2.wav (deflated 23%)\r\n",
      "  adding: kaggle/working/Task_2_aud_files/Sentence_428_2.wav (deflated 18%)\r\n",
      "  adding: kaggle/working/Task_2_aud_files/Sentence_270_1.wav (deflated 28%)\r\n",
      "  adding: kaggle/working/Task_2_aud_files/Sentence_172_1.wav (deflated 25%)\r\n",
      "  adding: kaggle/working/Task_2_aud_files/Sentence_266_1.wav (deflated 22%)\r\n",
      "  adding: kaggle/working/Task_2_aud_files/Sentence_190_1.wav (deflated 24%)\r\n",
      "  adding: kaggle/working/Task_2_aud_files/Sentence_432_2.wav (deflated 21%)\r\n",
      "  adding: kaggle/working/Task_2_aud_files/Sentence_151_1.wav (deflated 19%)\r\n",
      "  adding: kaggle/working/Task_2_aud_files/Sentence_241_2.wav (deflated 23%)\r\n",
      "  adding: kaggle/working/Task_2_aud_files/Sentence_47_1.wav (deflated 21%)\r\n",
      "  adding: kaggle/working/Task_2_aud_files/Sentence_155_1.wav (deflated 19%)\r\n",
      "  adding: kaggle/working/Task_2_aud_files/Sentence_315_2.wav (deflated 22%)\r\n",
      "  adding: kaggle/working/Task_2_aud_files/Sentence_153_2.wav (deflated 22%)\r\n",
      "  adding: kaggle/working/Task_2_aud_files/Sentence_112_2.wav (deflated 20%)\r\n",
      "  adding: kaggle/working/Task_2_aud_files/Sentence_44_2.wav (deflated 24%)\r\n",
      "  adding: kaggle/working/Task_2_aud_files/Sentence_331_1.wav (deflated 18%)\r\n",
      "  adding: kaggle/working/Task_2_aud_files/Sentence_334_1.wav (deflated 28%)\r\n",
      "  adding: kaggle/working/Task_2_aud_files/Sentence_458_2.wav (deflated 17%)\r\n",
      "  adding: kaggle/working/Task_2_aud_files/Sentence_74_2.wav (deflated 23%)\r\n",
      "  adding: kaggle/working/Task_2_aud_files/Sentence_435_1.wav (deflated 20%)\r\n",
      "  adding: kaggle/working/Task_2_aud_files/Sentence_320_1.wav (deflated 18%)\r\n",
      "  adding: kaggle/working/Task_2_aud_files/Sentence_489_2.wav (deflated 22%)\r\n",
      "  adding: kaggle/working/Task_2_aud_files/Sentence_158_1.wav (deflated 23%)\r\n",
      "  adding: kaggle/working/Task_2_aud_files/Sentence_293_2.wav (deflated 21%)\r\n",
      "  adding: kaggle/working/Task_2_aud_files/Sentence_6_1.wav (deflated 23%)\r\n",
      "  adding: kaggle/working/Task_2_aud_files/Sentence_430_1.wav (deflated 23%)\r\n",
      "  adding: kaggle/working/Task_2_aud_files/Sentence_397_1.wav (deflated 20%)\r\n",
      "  adding: kaggle/working/Task_2_aud_files/Sentence_441_2.wav (deflated 18%)\r\n",
      "  adding: kaggle/working/Task_2_aud_files/Sentence_75_2.wav (deflated 24%)\r\n",
      "  adding: kaggle/working/Task_2_aud_files/Sentence_131_1.wav (deflated 20%)\r\n",
      "  adding: kaggle/working/Task_2_aud_files/Sentence_5_1.wav (deflated 22%)\r\n",
      "  adding: kaggle/working/Task_2_aud_files/Sentence_499_2.wav (deflated 18%)\r\n",
      "  adding: kaggle/working/Task_2_aud_files/Sentence_251_2.wav (deflated 23%)\r\n",
      "  adding: kaggle/working/Task_2_aud_files/Sentence_34_2.wav (deflated 22%)\r\n",
      "  adding: kaggle/working/Task_2_aud_files/Sentence_380_2.wav (deflated 27%)\r\n",
      "  adding: kaggle/working/Task_2_aud_files/Sentence_256_2.wav (deflated 26%)\r\n",
      "  adding: kaggle/working/Task_2_aud_files/Sentence_489_1.wav (deflated 17%)\r\n",
      "  adding: kaggle/working/Task_2_aud_files/Sentence_183_2.wav (deflated 25%)\r\n",
      "  adding: kaggle/working/Task_2_aud_files/Sentence_308_2.wav (deflated 20%)\r\n",
      "  adding: kaggle/working/Task_2_aud_files/Sentence_69_1.wav (deflated 22%)\r\n",
      "  adding: kaggle/working/Task_2_aud_files/Sentence_289_1.wav (deflated 19%)\r\n",
      "  adding: kaggle/working/Task_2_aud_files/Sentence_292_1.wav (deflated 21%)\r\n",
      "  adding: kaggle/working/Task_2_aud_files/Sentence_469_1.wav (deflated 23%)\r\n",
      "  adding: kaggle/working/Task_2_aud_files/Sentence_436_1.wav (deflated 23%)\r\n",
      "  adding: kaggle/working/Task_2_aud_files/Sentence_224_1.wav (deflated 19%)\r\n",
      "  adding: kaggle/working/Task_2_aud_files/Sentence_378_1.wav (deflated 25%)\r\n",
      "  adding: kaggle/working/Task_2_aud_files/Sentence_62_1.wav (deflated 25%)\r\n",
      "  adding: kaggle/working/Task_2_aud_files/Sentence_122_2.wav (deflated 25%)\r\n",
      "  adding: kaggle/working/Task_2_aud_files/Sentence_89_1.wav (deflated 18%)\r\n",
      "  adding: kaggle/working/Task_2_aud_files/Sentence_145_2.wav (deflated 24%)\r\n",
      "  adding: kaggle/working/Task_2_aud_files/Sentence_152_2.wav (deflated 26%)\r\n",
      "  adding: kaggle/working/Task_2_aud_files/Sentence_62_2.wav (deflated 23%)\r\n",
      "  adding: kaggle/working/Task_2_aud_files/Sentence_222_2.wav (deflated 18%)\r\n",
      "  adding: kaggle/working/Task_2_aud_files/Sentence_338_2.wav (deflated 17%)\r\n",
      "  adding: kaggle/working/Task_2_aud_files/Sentence_171_1.wav (deflated 24%)\r\n",
      "  adding: kaggle/working/Task_2_aud_files/Sentence_242_1.wav (deflated 31%)\r\n",
      "  adding: kaggle/working/Task_2_aud_files/Sentence_333_2.wav (deflated 26%)\r\n",
      "  adding: kaggle/working/Task_2_aud_files/Sentence_1_1.wav (deflated 21%)\r\n",
      "  adding: kaggle/working/Task_2_aud_files/Sentence_230_1.wav (deflated 24%)\r\n",
      "  adding: kaggle/working/Task_2_aud_files/Sentence_382_2.wav (deflated 18%)\r\n",
      "  adding: kaggle/working/Task_2_aud_files/Sentence_246_2.wav (deflated 22%)\r\n",
      "  adding: kaggle/working/Task_2_aud_files/Sentence_376_1.wav (deflated 26%)\r\n",
      "  adding: kaggle/working/Task_2_aud_files/Sentence_238_1.wav (deflated 25%)\r\n",
      "  adding: kaggle/working/Task_2_aud_files/Sentence_386_1.wav (deflated 14%)\r\n",
      "  adding: kaggle/working/Task_2_aud_files/Sentence_282_2.wav (deflated 21%)\r\n",
      "  adding: kaggle/working/Task_2_aud_files/Sentence_107_2.wav (deflated 23%)\r\n",
      "  adding: kaggle/working/Task_2_aud_files/Sentence_427_2.wav (deflated 19%)\r\n",
      "  adding: kaggle/working/Task_2_aud_files/Sentence_86_1.wav (deflated 16%)\r\n",
      "  adding: kaggle/working/Task_2_aud_files/Sentence_311_1.wav (deflated 25%)\r\n",
      "  adding: kaggle/working/Task_2_aud_files/Sentence_438_2.wav (deflated 18%)\r\n",
      "  adding: kaggle/working/Task_2_aud_files/Sentence_462_2.wav (deflated 23%)\r\n",
      "  adding: kaggle/working/Task_2_aud_files/Sentence_268_1.wav (deflated 17%)\r\n",
      "  adding: kaggle/working/Task_2_aud_files/Sentence_217_1.wav (deflated 18%)\r\n",
      "  adding: kaggle/working/Task_2_aud_files/Sentence_138_1.wav (deflated 26%)\r\n",
      "  adding: kaggle/working/Task_2_aud_files/Sentence_394_2.wav (deflated 20%)\r\n",
      "  adding: kaggle/working/Task_2_aud_files/Sentence_140_2.wav (deflated 21%)\r\n",
      "  adding: kaggle/working/Task_2_aud_files/Sentence_13_1.wav (deflated 22%)\r\n",
      "  adding: kaggle/working/Task_2_aud_files/Sentence_454_2.wav (deflated 21%)\r\n",
      "  adding: kaggle/working/Task_2_aud_files/Sentence_496_2.wav (deflated 18%)\r\n",
      "  adding: kaggle/working/Task_2_aud_files/Sentence_269_1.wav (deflated 20%)\r\n",
      "  adding: kaggle/working/Task_2_aud_files/Sentence_38_2.wav (deflated 21%)\r\n",
      "  adding: kaggle/working/Task_2_aud_files/Sentence_375_2.wav (deflated 18%)\r\n",
      "  adding: kaggle/working/Task_2_aud_files/Sentence_146_1.wav (deflated 25%)\r\n",
      "  adding: kaggle/working/Task_2_aud_files/Sentence_93_2.wav (deflated 25%)\r\n",
      "  adding: kaggle/working/Task_2_aud_files/Sentence_100_2.wav (deflated 25%)\r\n",
      "  adding: kaggle/working/Task_2_aud_files/Sentence_229_1.wav (deflated 17%)\r\n",
      "  adding: kaggle/working/Task_2_aud_files/Sentence_189_2.wav (deflated 22%)\r\n",
      "  adding: kaggle/working/Task_2_aud_files/Sentence_94_2.wav (deflated 23%)\r\n",
      "  adding: kaggle/working/Task_2_aud_files/Sentence_473_1.wav (deflated 22%)\r\n",
      "  adding: kaggle/working/Task_2_aud_files/Sentence_29_2.wav (deflated 23%)\r\n",
      "  adding: kaggle/working/Task_2_aud_files/Sentence_372_1.wav (deflated 24%)\r\n",
      "  adding: kaggle/working/Task_2_aud_files/Sentence_320_2.wav (deflated 21%)\r\n",
      "  adding: kaggle/working/Task_2_aud_files/Sentence_438_1.wav (deflated 21%)\r\n",
      "  adding: kaggle/working/Task_2_aud_files/Sentence_31_2.wav (deflated 25%)\r\n",
      "  adding: kaggle/working/Task_2_aud_files/Sentence_363_2.wav (deflated 16%)\r\n",
      "  adding: kaggle/working/Task_2_aud_files/Sentence_195_2.wav (deflated 17%)\r\n",
      "  adding: kaggle/working/Task_2_aud_files/Sentence_253_1.wav (deflated 18%)\r\n",
      "  adding: kaggle/working/Task_2_aud_files/Sentence_385_2.wav (deflated 19%)\r\n",
      "  adding: kaggle/working/Task_2_aud_files/Sentence_263_2.wav (deflated 22%)\r\n",
      "  adding: kaggle/working/Task_2_aud_files/Sentence_322_2.wav (deflated 23%)\r\n",
      "  adding: kaggle/working/Task_2_aud_files/Sentence_187_1.wav (deflated 22%)\r\n",
      "  adding: kaggle/working/Task_2_aud_files/Sentence_199_1.wav (deflated 24%)\r\n",
      "  adding: kaggle/working/Task_2_aud_files/Sentence_22_1.wav (deflated 20%)\r\n",
      "  adding: kaggle/working/Task_2_aud_files/Sentence_289_2.wav (deflated 19%)\r\n",
      "  adding: kaggle/working/Task_2_aud_files/Sentence_451_1.wav (deflated 27%)\r\n",
      "  adding: kaggle/working/Task_2_aud_files/Sentence_382_1.wav (deflated 19%)\r\n",
      "  adding: kaggle/working/Task_2_aud_files/Sentence_317_2.wav (deflated 26%)\r\n",
      "  adding: kaggle/working/Task_2_aud_files/Sentence_29_1.wav (deflated 26%)\r\n",
      "  adding: kaggle/working/Task_2_aud_files/Sentence_445_1.wav (deflated 17%)\r\n",
      "  adding: kaggle/working/Task_2_aud_files/Sentence_453_2.wav (deflated 27%)\r\n",
      "  adding: kaggle/working/Task_2_aud_files/Sentence_14_1.wav (deflated 25%)\r\n",
      "  adding: kaggle/working/Task_2_aud_files/Sentence_114_2.wav (deflated 20%)\r\n",
      "  adding: kaggle/working/Task_2_aud_files/Sentence_77_1.wav (deflated 24%)\r\n",
      "  adding: kaggle/working/Task_2_aud_files/Sentence_53_2.wav (deflated 18%)\r\n",
      "  adding: kaggle/working/Task_2_aud_files/Sentence_46_2.wav (deflated 20%)\r\n",
      "  adding: kaggle/working/Task_2_aud_files/Sentence_456_1.wav (deflated 21%)\r\n",
      "  adding: kaggle/working/Task_2_aud_files/Sentence_281_2.wav (deflated 20%)\r\n",
      "  adding: kaggle/working/Task_2_aud_files/Sentence_431_1.wav (deflated 21%)\r\n",
      "  adding: kaggle/working/Task_2_aud_files/Sentence_232_1.wav (deflated 25%)\r\n",
      "  adding: kaggle/working/Task_2_aud_files/Sentence_255_1.wav (deflated 22%)\r\n",
      "  adding: kaggle/working/Task_2_aud_files/Sentence_406_1.wav (deflated 19%)\r\n",
      "  adding: kaggle/working/Task_2_aud_files/Sentence_294_1.wav (deflated 22%)\r\n",
      "  adding: kaggle/working/Task_2_aud_files/Sentence_469_2.wav (deflated 24%)\r\n",
      "  adding: kaggle/working/Task_2_aud_files/Sentence_20_1.wav (deflated 21%)\r\n",
      "  adding: kaggle/working/Task_2_aud_files/Sentence_123_1.wav (deflated 24%)\r\n",
      "  adding: kaggle/working/Task_2_aud_files/Sentence_464_2.wav (deflated 24%)\r\n",
      "  adding: kaggle/working/Task_2_aud_files/Sentence_188_1.wav (deflated 23%)\r\n",
      "  adding: kaggle/working/Task_2_aud_files/Sentence_326_2.wav (deflated 19%)\r\n",
      "  adding: kaggle/working/Task_2_aud_files/Sentence_281_1.wav (deflated 26%)\r\n",
      "  adding: kaggle/working/Task_2_aud_files/Sentence_287_1.wav (deflated 29%)\r\n",
      "  adding: kaggle/working/Task_2_aud_files/Sentence_490_1.wav (deflated 16%)\r\n",
      "  adding: kaggle/working/Task_2_aud_files/Sentence_204_2.wav (deflated 21%)\r\n",
      "  adding: kaggle/working/Task_2_aud_files/Sentence_157_1.wav (deflated 24%)\r\n",
      "  adding: kaggle/working/Task_2_aud_files/Sentence_365_1.wav (deflated 29%)\r\n",
      "  adding: kaggle/working/Task_2_aud_files/Sentence_71_2.wav (deflated 23%)\r\n",
      "  adding: kaggle/working/Task_2_aud_files/Sentence_347_1.wav (deflated 15%)\r\n",
      "  adding: kaggle/working/Task_2_aud_files/Sentence_361_1.wav (deflated 25%)\r\n",
      "  adding: kaggle/working/Task_2_aud_files/Sentence_93_1.wav (deflated 21%)\r\n",
      "  adding: kaggle/working/Task_2_aud_files/Sentence_245_1.wav (deflated 18%)\r\n",
      "  adding: kaggle/working/Task_2_aud_files/Sentence_433_1.wav (deflated 24%)\r\n",
      "  adding: kaggle/working/Task_2_aud_files/Sentence_161_2.wav (deflated 19%)\r\n",
      "  adding: kaggle/working/Task_2_aud_files/Sentence_88_1.wav (deflated 26%)\r\n",
      "  adding: kaggle/working/Task_2_aud_files/Sentence_488_1.wav (deflated 17%)\r\n",
      "  adding: kaggle/working/Task_2_aud_files/Sentence_328_1.wav (deflated 20%)\r\n",
      "  adding: kaggle/working/Task_2_aud_files/Sentence_389_1.wav (deflated 20%)\r\n",
      "  adding: kaggle/working/Task_2_aud_files/Sentence_371_2.wav (deflated 16%)\r\n",
      "  adding: kaggle/working/Task_2_aud_files/Sentence_118_1.wav (deflated 25%)\r\n",
      "  adding: kaggle/working/Task_2_aud_files/Sentence_149_2.wav (deflated 24%)\r\n",
      "  adding: kaggle/working/Task_2_aud_files/Sentence_161_1.wav (deflated 23%)\r\n",
      "  adding: kaggle/working/Task_2_aud_files/Sentence_162_2.wav (deflated 19%)\r\n",
      "  adding: kaggle/working/Task_2_aud_files/Sentence_69_2.wav (deflated 28%)\r\n",
      "  adding: kaggle/working/Task_2_aud_files/Sentence_120_1.wav (deflated 23%)\r\n",
      "  adding: kaggle/working/Task_2_aud_files/Sentence_189_1.wav (deflated 26%)\r\n",
      "  adding: kaggle/working/Task_2_aud_files/Sentence_49_2.wav (deflated 22%)\r\n",
      "  adding: kaggle/working/Task_2_aud_files/Sentence_494_1.wav (deflated 23%)\r\n",
      "  adding: kaggle/working/Task_2_aud_files/Sentence_353_2.wav (deflated 19%)\r\n",
      "  adding: kaggle/working/Task_2_aud_files/Sentence_493_2.wav (deflated 24%)\r\n",
      "  adding: kaggle/working/Task_2_aud_files/Sentence_307_1.wav (deflated 20%)\r\n",
      "  adding: kaggle/working/Task_2_aud_files/Sentence_324_1.wav (deflated 19%)\r\n",
      "  adding: kaggle/working/Task_2_aud_files/Sentence_497_1.wav (deflated 20%)\r\n",
      "  adding: kaggle/working/Task_2_aud_files/Sentence_428_1.wav (deflated 23%)\r\n",
      "  adding: kaggle/working/Task_2_aud_files/Sentence_246_1.wav (deflated 17%)\r\n",
      "  adding: kaggle/working/Task_2_aud_files/Sentence_463_1.wav (deflated 25%)\r\n",
      "  adding: kaggle/working/Task_2_aud_files/Sentence_485_1.wav (deflated 27%)\r\n",
      "  adding: kaggle/working/Task_2_aud_files/Sentence_17_2.wav (deflated 21%)\r\n",
      "  adding: kaggle/working/Task_2_aud_files/Sentence_15_1.wav (deflated 23%)\r\n",
      "  adding: kaggle/working/Task_2_aud_files/Sentence_302_1.wav (deflated 24%)\r\n",
      "  adding: kaggle/working/Task_2_aud_files/Sentence_367_2.wav (deflated 19%)\r\n",
      "  adding: kaggle/working/Task_2_aud_files/Sentence_83_2.wav (deflated 20%)\r\n",
      "  adding: kaggle/working/Task_2_aud_files/Sentence_187_2.wav (deflated 22%)\r\n",
      "  adding: kaggle/working/Task_2_aud_files/Sentence_369_1.wav (deflated 34%)\r\n",
      "  adding: kaggle/working/Task_2_aud_files/Sentence_193_2.wav (deflated 26%)\r\n",
      "  adding: kaggle/working/Task_2_aud_files/Sentence_21_1.wav (deflated 23%)\r\n",
      "  adding: kaggle/working/Task_2_aud_files/Sentence_268_2.wav (deflated 22%)\r\n",
      "  adding: kaggle/working/Task_2_aud_files/Sentence_359_2.wav (deflated 19%)\r\n",
      "  adding: kaggle/working/Task_2_aud_files/Sentence_337_2.wav (deflated 21%)\r\n",
      "  adding: kaggle/working/Task_2_aud_files/Sentence_238_2.wav (deflated 20%)\r\n",
      "  adding: kaggle/working/Task_2_aud_files/Sentence_375_1.wav (deflated 25%)\r\n",
      "  adding: kaggle/working/Task_2_aud_files/Sentence_185_2.wav (deflated 18%)\r\n",
      "  adding: kaggle/working/Task_2_aud_files/Sentence_176_1.wav (deflated 23%)\r\n",
      "  adding: kaggle/working/Task_2_aud_files/Sentence_251_1.wav (deflated 30%)\r\n",
      "  adding: kaggle/working/Task_2_aud_files/Sentence_202_2.wav (deflated 22%)\r\n",
      "  adding: kaggle/working/Task_2_aud_files/Sentence_396_2.wav (deflated 18%)\r\n",
      "  adding: kaggle/working/Task_2_aud_files/Sentence_365_2.wav (deflated 25%)\r\n",
      "  adding: kaggle/working/Task_2_aud_files/Sentence_475_1.wav (deflated 25%)\r\n",
      "  adding: kaggle/working/Task_2_aud_files/Sentence_304_1.wav (deflated 24%)\r\n",
      "  adding: kaggle/working/Task_2_aud_files/Sentence_388_2.wav (deflated 24%)\r\n",
      "  adding: kaggle/working/Task_2_aud_files/Sentence_459_2.wav (deflated 23%)\r\n",
      "  adding: kaggle/working/Task_2_aud_files/Sentence_119_1.wav (deflated 21%)\r\n",
      "  adding: kaggle/working/Task_2_aud_files/Sentence_261_1.wav (deflated 19%)\r\n",
      "  adding: kaggle/working/Task_2_aud_files/Sentence_73_1.wav (deflated 27%)\r\n",
      "  adding: kaggle/working/Task_2_aud_files/Sentence_34_1.wav (deflated 20%)\r\n",
      "  adding: kaggle/working/Task_2_aud_files/Sentence_336_1.wav (deflated 26%)\r\n",
      "  adding: kaggle/working/Task_2_aud_files/Sentence_368_1.wav (deflated 22%)\r\n",
      "  adding: kaggle/working/Task_2_aud_files/Sentence_190_2.wav (deflated 21%)\r\n",
      "  adding: kaggle/working/Task_2_aud_files/Sentence_142_2.wav (deflated 25%)\r\n",
      "  adding: kaggle/working/Task_2_aud_files/Sentence_413_2.wav (deflated 22%)\r\n",
      "  adding: kaggle/working/Task_2_aud_files/Sentence_5_2.wav (deflated 22%)\r\n",
      "  adding: kaggle/working/Task_2_aud_files/Sentence_360_1.wav (deflated 17%)\r\n",
      "  adding: kaggle/working/Task_2_aud_files/Sentence_411_1.wav (deflated 23%)\r\n",
      "  adding: kaggle/working/Task_2_aud_files/Sentence_477_1.wav (deflated 24%)\r\n",
      "  adding: kaggle/working/Task_2_aud_files/Sentence_195_1.wav (deflated 19%)\r\n",
      "  adding: kaggle/working/Task_2_aud_files/Sentence_71_1.wav (deflated 23%)\r\n",
      "  adding: kaggle/working/Task_2_aud_files/Sentence_214_2.wav (deflated 17%)\r\n",
      "  adding: kaggle/working/Task_2_aud_files/Sentence_197_1.wav (deflated 24%)\r\n",
      "  adding: kaggle/working/Task_2_aud_files/Sentence_324_2.wav (deflated 25%)\r\n",
      "  adding: kaggle/working/Task_2_aud_files/Sentence_291_1.wav (deflated 18%)\r\n",
      "  adding: kaggle/working/Task_2_aud_files/Sentence_85_1.wav (deflated 11%)\r\n",
      "  adding: kaggle/working/Task_2_aud_files/Sentence_68_2.wav (deflated 22%)\r\n",
      "  adding: kaggle/working/Task_2_aud_files/Sentence_397_2.wav (deflated 18%)\r\n",
      "  adding: kaggle/working/Task_2_aud_files/Sentence_35_2.wav (deflated 23%)\r\n",
      "  adding: kaggle/working/Task_2_aud_files/Sentence_339_1.wav (deflated 23%)\r\n",
      "  adding: kaggle/working/Task_2_aud_files/Sentence_347_2.wav (deflated 16%)\r\n",
      "  adding: kaggle/working/Task_2_aud_files/Sentence_252_2.wav (deflated 16%)\r\n",
      "  adding: kaggle/working/Task_2_aud_files/Sentence_417_1.wav (deflated 16%)\r\n",
      "  adding: kaggle/working/Task_2_aud_files/Sentence_54_1.wav (deflated 19%)\r\n",
      "  adding: kaggle/working/Task_2_aud_files/Sentence_464_1.wav (deflated 24%)\r\n",
      "  adding: kaggle/working/Task_2_aud_files/Sentence_439_2.wav (deflated 23%)\r\n",
      "  adding: kaggle/working/Task_2_aud_files/Sentence_179_2.wav (deflated 22%)\r\n",
      "  adding: kaggle/working/Task_2_aud_files/Sentence_121_1.wav (deflated 23%)\r\n",
      "  adding: kaggle/working/Task_2_aud_files/Sentence_124_2.wav (deflated 27%)\r\n",
      "  adding: kaggle/working/Task_2_aud_files/Sentence_411_2.wav (deflated 25%)\r\n",
      "  adding: kaggle/working/Task_2_aud_files/Sentence_174_2.wav (deflated 20%)\r\n",
      "  adding: kaggle/working/Task_2_aud_files/Sentence_431_2.wav (deflated 22%)\r\n",
      "  adding: kaggle/working/Task_2_aud_files/Sentence_252_1.wav (deflated 21%)\r\n",
      "  adding: kaggle/working/Task_2_aud_files/Sentence_479_2.wav (deflated 17%)\r\n",
      "  adding: kaggle/working/Task_2_aud_files/Sentence_366_2.wav (deflated 25%)\r\n",
      "  adding: kaggle/working/Task_2_aud_files/Sentence_326_1.wav (deflated 23%)\r\n",
      "  adding: kaggle/working/Task_2_aud_files/Sentence_265_1.wav (deflated 24%)\r\n",
      "  adding: kaggle/working/Task_2_aud_files/Sentence_171_2.wav (deflated 21%)\r\n",
      "  adding: kaggle/working/Task_2_aud_files/Sentence_138_2.wav (deflated 23%)\r\n",
      "  adding: kaggle/working/Task_2_aud_files/Sentence_446_2.wav (deflated 21%)\r\n",
      "  adding: kaggle/working/Task_2_aud_files/Sentence_362_1.wav (deflated 25%)\r\n",
      "  adding: kaggle/working/Task_2_aud_files/Sentence_111_1.wav (deflated 22%)\r\n",
      "  adding: kaggle/working/Task_2_aud_files/Sentence_180_1.wav (deflated 28%)\r\n",
      "  adding: kaggle/working/Task_2_aud_files/Sentence_260_2.wav (deflated 12%)\r\n",
      "  adding: kaggle/working/Task_2_aud_files/Sentence_148_1.wav (deflated 23%)\r\n",
      "  adding: kaggle/working/Task_2_aud_files/Sentence_379_1.wav (deflated 21%)\r\n",
      "  adding: kaggle/working/Task_2_aud_files/Sentence_221_1.wav (deflated 23%)\r\n",
      "  adding: kaggle/working/Task_2_aud_files/Sentence_325_2.wav (deflated 18%)\r\n",
      "  adding: kaggle/working/Task_2_aud_files/Sentence_362_2.wav (deflated 26%)\r\n",
      "  adding: kaggle/working/Task_2_aud_files/Sentence_87_2.wav (deflated 22%)\r\n",
      "  adding: kaggle/working/Task_2_aud_files/Sentence_495_1.wav (deflated 20%)\r\n",
      "  adding: kaggle/working/Task_2_aud_files/Sentence_316_1.wav (deflated 20%)\r\n",
      "  adding: kaggle/working/Task_2_aud_files/Sentence_467_2.wav (deflated 25%)\r\n",
      "  adding: kaggle/working/Task_2_aud_files/Sentence_168_2.wav (deflated 23%)\r\n",
      "  adding: kaggle/working/Task_2_aud_files/Sentence_356_1.wav (deflated 24%)\r\n",
      "  adding: kaggle/working/Task_2_aud_files/Sentence_198_2.wav (deflated 18%)\r\n",
      "  adding: kaggle/working/Task_2_aud_files/Sentence_440_2.wav (deflated 28%)\r\n",
      "  adding: kaggle/working/Task_2_aud_files/Sentence_272_2.wav (deflated 27%)\r\n",
      "  adding: kaggle/working/Task_2_aud_files/Sentence_415_1.wav (deflated 22%)\r\n",
      "  adding: kaggle/working/Task_2_aud_files/Sentence_388_1.wav (deflated 18%)\r\n",
      "  adding: kaggle/working/Task_2_aud_files/Sentence_24_1.wav (deflated 22%)\r\n",
      "  adding: kaggle/working/Task_2_aud_files/Sentence_167_1.wav (deflated 24%)\r\n",
      "  adding: kaggle/working/Task_2_aud_files/Sentence_110_1.wav (deflated 19%)\r\n",
      "  adding: kaggle/working/Task_2_aud_files/Sentence_398_2.wav (deflated 21%)\r\n",
      "  adding: kaggle/working/Task_2_aud_files/Sentence_65_2.wav (deflated 22%)\r\n",
      "  adding: kaggle/working/Task_2_aud_files/Sentence_306_1.wav (deflated 18%)\r\n",
      "  adding: kaggle/working/Task_2_aud_files/Sentence_426_1.wav (deflated 20%)\r\n",
      "  adding: kaggle/working/Task_2_aud_files/Sentence_184_1.wav (deflated 22%)\r\n",
      "  adding: kaggle/working/Task_2_aud_files/Sentence_200_1.wav (deflated 26%)\r\n",
      "  adding: kaggle/working/Task_2_aud_files/Sentence_290_2.wav (deflated 17%)\r\n",
      "  adding: kaggle/working/Task_2_aud_files/Sentence_380_1.wav (deflated 13%)\r\n",
      "  adding: kaggle/working/Task_2_aud_files/Sentence_292_2.wav (deflated 20%)\r\n",
      "  adding: kaggle/working/Task_2_aud_files/Sentence_210_2.wav (deflated 22%)\r\n",
      "  adding: kaggle/working/Task_2_aud_files/Sentence_416_1.wav (deflated 23%)\r\n",
      "  adding: kaggle/working/Task_2_aud_files/Sentence_335_1.wav (deflated 29%)\r\n",
      "  adding: kaggle/working/Task_2_aud_files/Sentence_101_1.wav (deflated 18%)\r\n",
      "  adding: kaggle/working/Task_2_aud_files/Sentence_271_1.wav (deflated 26%)\r\n",
      "  adding: kaggle/working/Task_2_aud_files/Sentence_465_1.wav (deflated 24%)\r\n",
      "  adding: kaggle/working/Task_2_aud_files/Sentence_327_1.wav (deflated 19%)\r\n",
      "  adding: kaggle/working/Task_2_aud_files/Sentence_402_2.wav (deflated 19%)\r\n",
      "  adding: kaggle/working/Task_2_aud_files/Sentence_33_1.wav (deflated 24%)\r\n",
      "  adding: kaggle/working/Task_2_aud_files/Sentence_78_2.wav (deflated 16%)\r\n",
      "  adding: kaggle/working/Task_2_aud_files/Sentence_373_1.wav (deflated 24%)\r\n",
      "  adding: kaggle/working/Task_2_aud_files/Sentence_49_1.wav (deflated 20%)\r\n",
      "  adding: kaggle/working/Task_2_aud_files/Sentence_21_2.wav (deflated 23%)\r\n",
      "  adding: kaggle/working/Task_2_aud_files/Sentence_408_1.wav (deflated 20%)\r\n",
      "  adding: kaggle/working/Task_2_aud_files/Sentence_92_1.wav (deflated 20%)\r\n",
      "  adding: kaggle/working/Task_2_aud_files/Sentence_27_1.wav (deflated 22%)\r\n",
      "  adding: kaggle/working/Task_2_aud_files/Sentence_222_1.wav (deflated 20%)\r\n",
      "  adding: kaggle/working/Task_2_aud_files/Sentence_448_1.wav (deflated 21%)\r\n",
      "  adding: kaggle/working/Task_2_aud_files/Sentence_3_1.wav (deflated 22%)\r\n",
      "  adding: kaggle/working/Task_2_aud_files/Sentence_445_2.wav (deflated 15%)\r\n",
      "  adding: kaggle/working/Task_2_aud_files/Sentence_295_1.wav (deflated 31%)\r\n",
      "  adding: kaggle/working/Task_2_aud_files/Sentence_239_1.wav (deflated 24%)\r\n",
      "  adding: kaggle/working/Task_2_aud_files/Sentence_276_2.wav (deflated 26%)\r\n",
      "  adding: kaggle/working/Task_2_aud_files/Sentence_105_1.wav (deflated 23%)\r\n",
      "  adding: kaggle/working/Task_2_aud_files/Sentence_67_1.wav (deflated 29%)\r\n",
      "  adding: kaggle/working/Task_2_aud_files/Sentence_4_1.wav (deflated 21%)\r\n",
      "  adding: kaggle/working/Task_2_aud_files/Sentence_466_2.wav (deflated 22%)\r\n",
      "  adding: kaggle/working/Task_2_aud_files/Sentence_244_1.wav (deflated 31%)\r\n",
      "  adding: kaggle/working/Task_2_aud_files/Sentence_377_2.wav (deflated 27%)\r\n",
      "  adding: kaggle/working/Task_2_aud_files/Sentence_36_1.wav (deflated 18%)\r\n",
      "  adding: kaggle/working/Task_2_aud_files/Sentence_85_2.wav (deflated 24%)\r\n",
      "  adding: kaggle/working/Task_2_aud_files/Sentence_437_2.wav (deflated 23%)\r\n",
      "  adding: kaggle/working/Task_2_aud_files/Sentence_406_2.wav (deflated 18%)\r\n",
      "  adding: kaggle/working/Task_2_aud_files/Sentence_72_2.wav (deflated 23%)\r\n",
      "  adding: kaggle/working/Task_2_aud_files/Sentence_70_1.wav (deflated 24%)\r\n",
      "  adding: kaggle/working/Task_2_aud_files/Sentence_447_2.wav (deflated 16%)\r\n",
      "  adding: kaggle/working/Task_2_aud_files/Sentence_55_1.wav (deflated 21%)\r\n",
      "  adding: kaggle/working/Task_2_aud_files/Sentence_45_2.wav (deflated 20%)\r\n",
      "  adding: kaggle/working/Task_2_aud_files/Sentence_152_1.wav (deflated 18%)\r\n",
      "  adding: kaggle/working/Task_2_aud_files/Sentence_305_1.wav (deflated 17%)\r\n",
      "  adding: kaggle/working/Task_2_aud_files/Sentence_316_2.wav (deflated 27%)\r\n",
      "  adding: kaggle/working/Task_2_aud_files/Sentence_229_2.wav (deflated 17%)\r\n",
      "  adding: kaggle/working/Task_2_aud_files/Sentence_400_1.wav (deflated 23%)\r\n",
      "  adding: kaggle/working/Task_2_aud_files/Sentence_344_2.wav (deflated 23%)\r\n",
      "  adding: kaggle/working/Task_2_aud_files/Sentence_228_2.wav (deflated 25%)\r\n",
      "  adding: kaggle/working/Task_2_aud_files/Sentence_133_2.wav (deflated 22%)\r\n",
      "  adding: kaggle/working/Task_2_aud_files/Sentence_329_1.wav (deflated 18%)\r\n",
      "  adding: kaggle/working/Task_2_aud_files/Sentence_145_1.wav (deflated 26%)\r\n",
      "  adding: kaggle/working/Task_2_aud_files/Sentence_266_2.wav (deflated 20%)\r\n",
      "  adding: kaggle/working/Task_2_aud_files/Sentence_136_2.wav (deflated 25%)\r\n",
      "  adding: kaggle/working/Task_2_aud_files/Sentence_275_2.wav (deflated 22%)\r\n",
      "  adding: kaggle/working/Task_2_aud_files/Sentence_72_1.wav (deflated 24%)\r\n",
      "  adding: kaggle/working/Task_2_aud_files/Sentence_57_2.wav (deflated 25%)\r\n",
      "  adding: kaggle/working/Task_2_aud_files/Sentence_191_2.wav (deflated 24%)\r\n",
      "  adding: kaggle/working/Task_2_aud_files/Sentence_303_1.wav (deflated 17%)\r\n",
      "  adding: kaggle/working/Task_2_aud_files/Sentence_386_2.wav (deflated 19%)\r\n",
      "  adding: kaggle/working/Task_2_aud_files/Sentence_173_1.wav (deflated 27%)\r\n",
      "  adding: kaggle/working/Task_2_aud_files/Sentence_249_1.wav (deflated 18%)\r\n",
      "  adding: kaggle/working/Task_2_aud_files/Sentence_48_2.wav (deflated 20%)\r\n",
      "  adding: kaggle/working/Task_2_aud_files/Sentence_247_1.wav (deflated 27%)\r\n",
      "  adding: kaggle/working/Task_2_aud_files/Sentence_264_2.wav (deflated 28%)\r\n",
      "  adding: kaggle/working/Task_2_aud_files/Sentence_401_2.wav (deflated 18%)\r\n",
      "  adding: kaggle/working/Task_2_aud_files/Sentence_76_1.wav (deflated 22%)\r\n",
      "  adding: kaggle/working/Task_2_aud_files/Sentence_178_2.wav (deflated 23%)\r\n",
      "  adding: kaggle/working/Task_2_aud_files/Sentence_259_2.wav (deflated 21%)\r\n",
      "  adding: kaggle/working/Task_2_aud_files/Sentence_342_1.wav (deflated 17%)\r\n",
      "  adding: kaggle/working/Task_2_aud_files/Sentence_426_2.wav (deflated 28%)\r\n",
      "  adding: kaggle/working/Task_2_aud_files/Sentence_430_2.wav (deflated 24%)\r\n",
      "  adding: kaggle/working/Task_2_aud_files/Sentence_491_2.wav (deflated 18%)\r\n",
      "  adding: kaggle/working/Task_2_aud_files/Sentence_194_2.wav (deflated 25%)\r\n",
      "  adding: kaggle/working/Task_2_aud_files/Sentence_24_2.wav (deflated 22%)\r\n",
      "  adding: kaggle/working/Task_2_aud_files/Sentence_57_1.wav (deflated 21%)\r\n",
      "  adding: kaggle/working/Task_2_aud_files/Sentence_345_1.wav (deflated 22%)\r\n",
      "  adding: kaggle/working/Task_2_aud_files/Sentence_235_1.wav (deflated 17%)\r\n",
      "  adding: kaggle/working/Task_2_aud_files/Sentence_126_2.wav (deflated 23%)\r\n",
      "  adding: kaggle/working/Task_2_aud_files/Sentence_163_2.wav (deflated 23%)\r\n",
      "  adding: kaggle/working/Task_2_aud_files/Sentence_446_1.wav (deflated 21%)\r\n",
      "  adding: kaggle/working/Task_2_aud_files/Sentence_64_1.wav (deflated 25%)\r\n",
      "  adding: kaggle/working/Task_2_aud_files/Sentence_158_2.wav (deflated 23%)\r\n",
      "  adding: kaggle/working/Task_2_aud_files/Sentence_206_2.wav (deflated 29%)\r\n",
      "  adding: kaggle/working/Task_2_aud_files/Sentence_116_2.wav (deflated 22%)\r\n",
      "  adding: kaggle/working/Task_2_aud_files/Sentence_178_1.wav (deflated 22%)\r\n",
      "  adding: kaggle/working/Task_2_aud_files/Sentence_96_1.wav (deflated 26%)\r\n",
      "  adding: kaggle/working/Task_2_aud_files/Sentence_297_2.wav (deflated 22%)\r\n",
      "  adding: kaggle/working/Task_2_aud_files/Sentence_330_1.wav (deflated 22%)\r\n",
      "  adding: kaggle/working/Task_2_aud_files/Sentence_478_1.wav (deflated 26%)\r\n",
      "  adding: kaggle/working/Task_2_aud_files/Sentence_13_2.wav (deflated 21%)\r\n",
      "  adding: kaggle/working/Task_2_aud_files/Sentence_201_1.wav (deflated 19%)\r\n",
      "  adding: kaggle/working/Task_2_aud_files/Sentence_38_1.wav (deflated 20%)\r\n",
      "  adding: kaggle/working/Task_2_aud_files/Sentence_98_2.wav (deflated 25%)\r\n",
      "  adding: kaggle/working/Task_2_aud_files/Sentence_243_2.wav (deflated 21%)\r\n",
      "  adding: kaggle/working/Task_2_aud_files/Sentence_350_1.wav (deflated 23%)\r\n",
      "  adding: kaggle/working/Task_2_aud_files/Sentence_396_1.wav (deflated 24%)\r\n",
      "  adding: kaggle/working/Task_2_aud_files/Sentence_363_1.wav (deflated 22%)\r\n",
      "  adding: kaggle/working/Task_2_aud_files/Sentence_228_1.wav (deflated 22%)\r\n",
      "  adding: kaggle/working/Task_2_aud_files/Sentence_416_2.wav (deflated 24%)\r\n",
      "  adding: kaggle/working/Task_2_aud_files/Sentence_313_2.wav (deflated 23%)\r\n",
      "  adding: kaggle/working/Task_2_aud_files/Sentence_351_2.wav (deflated 19%)\r\n",
      "  adding: kaggle/working/Task_2_aud_files/Sentence_179_1.wav (deflated 22%)\r\n",
      "  adding: kaggle/working/Task_2_aud_files/Sentence_370_2.wav (deflated 15%)\r\n",
      "  adding: kaggle/working/Task_2_aud_files/Sentence_58_1.wav (deflated 20%)\r\n",
      "  adding: kaggle/working/Task_2_aud_files/Sentence_414_1.wav (deflated 24%)\r\n",
      "  adding: kaggle/working/Task_2_aud_files/Sentence_110_2.wav (deflated 19%)\r\n",
      "  adding: kaggle/working/Task_2_aud_files/Sentence_452_2.wav (deflated 22%)\r\n",
      "  adding: kaggle/working/Task_2_aud_files/Sentence_405_1.wav (deflated 24%)\r\n",
      "  adding: kaggle/working/Task_2_aud_files/Sentence_381_2.wav (deflated 20%)\r\n",
      "  adding: kaggle/working/Task_2_aud_files/Sentence_288_1.wav (deflated 17%)\r\n",
      "  adding: kaggle/working/Task_2_aud_files/Sentence_474_2.wav (deflated 18%)\r\n",
      "  adding: kaggle/working/Task_2_aud_files/Sentence_41_2.wav (deflated 22%)\r\n",
      "  adding: kaggle/working/Task_2_aud_files/Sentence_60_1.wav (deflated 27%)\r\n",
      "  adding: kaggle/working/Task_2_aud_files/Sentence_341_2.wav (deflated 16%)\r\n",
      "  adding: kaggle/working/Task_2_aud_files/Sentence_480_2.wav (deflated 25%)\r\n",
      "  adding: kaggle/working/Task_2_aud_files/Sentence_470_1.wav (deflated 21%)\r\n",
      "  adding: kaggle/working/Task_2_aud_files/Sentence_317_1.wav (deflated 25%)\r\n",
      "  adding: kaggle/working/Task_2_aud_files/Sentence_142_1.wav (deflated 20%)\r\n",
      "  adding: kaggle/working/Task_2_aud_files/Sentence_318_2.wav (deflated 25%)\r\n",
      "  adding: kaggle/working/Task_2_aud_files/Sentence_183_1.wav (deflated 24%)\r\n",
      "  adding: kaggle/working/Task_2_aud_files/Sentence_486_2.wav (deflated 18%)\r\n",
      "  adding: kaggle/working/Task_2_aud_files/Sentence_157_2.wav (deflated 25%)\r\n",
      "  adding: kaggle/working/Task_2_aud_files/Sentence_227_1.wav (deflated 18%)\r\n",
      "  adding: kaggle/working/Task_2_aud_files/Sentence_202_1.wav (deflated 16%)\r\n",
      "  adding: kaggle/working/Task_2_aud_files/Sentence_345_2.wav (deflated 22%)\r\n",
      "  adding: kaggle/working/Task_2_aud_files/Sentence_233_1.wav (deflated 23%)\r\n",
      "  adding: kaggle/working/Task_2_aud_files/Sentence_137_1.wav (deflated 23%)\r\n",
      "  adding: kaggle/working/Task_2_aud_files/Sentence_482_2.wav (deflated 23%)\r\n",
      "  adding: kaggle/working/Task_2_aud_files/Sentence_373_2.wav (deflated 32%)\r\n",
      "  adding: kaggle/working/Task_2_aud_files/Sentence_443_2.wav (deflated 23%)\r\n",
      "  adding: kaggle/working/Task_2_aud_files/Sentence_455_1.wav (deflated 17%)\r\n",
      "  adding: kaggle/working/Task_2_aud_files/Sentence_143_1.wav (deflated 25%)\r\n",
      "  adding: kaggle/working/Task_2_aud_files/Sentence_213_2.wav (deflated 17%)\r\n",
      "  adding: kaggle/working/Task_2_aud_files/Sentence_212_2.wav (deflated 17%)\r\n",
      "  adding: kaggle/working/Task_2_aud_files/Sentence_125_1.wav (deflated 25%)\r\n",
      "  adding: kaggle/working/Task_2_aud_files/Sentence_399_2.wav (deflated 22%)\r\n",
      "  adding: kaggle/working/Task_2_aud_files/Sentence_10_1.wav (deflated 26%)\r\n",
      "  adding: kaggle/working/Task_2_aud_files/Sentence_127_1.wav (deflated 22%)\r\n",
      "  adding: kaggle/working/Task_2_aud_files/Sentence_463_2.wav (deflated 18%)\r\n",
      "  adding: kaggle/working/Task_2_aud_files/Sentence_89_2.wav (deflated 22%)\r\n",
      "  adding: kaggle/working/Task_2_aud_files/Sentence_444_1.wav (deflated 14%)\r\n",
      "  adding: kaggle/working/Task_2_aud_files/Sentence_231_2.wav (deflated 23%)\r\n",
      "  adding: kaggle/working/Task_2_aud_files/Sentence_340_2.wav (deflated 19%)\r\n",
      "  adding: kaggle/working/Task_2_aud_files/Sentence_282_1.wav (deflated 27%)\r\n",
      "  adding: kaggle/working/Task_2_aud_files/Sentence_367_1.wav (deflated 12%)\r\n",
      "  adding: kaggle/working/Task_2_aud_files/Sentence_154_1.wav (deflated 23%)\r\n",
      "  adding: kaggle/working/Task_2_aud_files/Sentence_393_1.wav (deflated 22%)\r\n",
      "  adding: kaggle/working/Task_2_aud_files/Sentence_205_2.wav (deflated 25%)\r\n",
      "  adding: kaggle/working/Task_2_aud_files/Sentence_199_2.wav (deflated 18%)\r\n",
      "  adding: kaggle/working/Task_2_aud_files/Sentence_384_1.wav (deflated 18%)\r\n",
      "  adding: kaggle/working/Task_2_aud_files/Sentence_170_2.wav (deflated 20%)\r\n",
      "  adding: kaggle/working/Task_2_aud_files/Sentence_126_1.wav (deflated 25%)\r\n",
      "  adding: kaggle/working/Task_2_aud_files/Sentence_67_2.wav (deflated 23%)\r\n",
      "  adding: kaggle/working/Task_2_aud_files/Sentence_421_2.wav (deflated 20%)\r\n",
      "  adding: kaggle/working/Task_2_aud_files/Sentence_105_2.wav (deflated 21%)\r\n",
      "  adding: kaggle/working/Task_2_aud_files/Sentence_108_2.wav (deflated 24%)\r\n",
      "  adding: kaggle/working/Task_2_aud_files/Sentence_391_1.wav (deflated 25%)\r\n",
      "  adding: kaggle/working/Task_2_aud_files/Sentence_129_2.wav (deflated 19%)\r\n",
      "  adding: kaggle/working/Task_2_aud_files/Sentence_208_2.wav (deflated 25%)\r\n",
      "  adding: kaggle/working/Task_2_aud_files/Sentence_12_1.wav (deflated 25%)\r\n",
      "  adding: kaggle/working/Task_2_aud_files/Sentence_470_2.wav (deflated 24%)\r\n",
      "  adding: kaggle/working/Task_2_aud_files/Sentence_476_2.wav (deflated 15%)\r\n",
      "  adding: kaggle/working/Task_2_aud_files/Sentence_346_1.wav (deflated 28%)\r\n",
      "  adding: kaggle/working/Task_2_aud_files/Sentence_334_2.wav (deflated 25%)\r\n",
      "  adding: kaggle/working/Task_2_aud_files/Sentence_369_2.wav (deflated 22%)\r\n",
      "  adding: kaggle/working/Task_2_aud_files/Sentence_398_1.wav (deflated 28%)\r\n",
      "  adding: kaggle/working/Task_2_aud_files/Sentence_354_2.wav (deflated 22%)\r\n",
      "  adding: kaggle/working/Task_2_aud_files/Sentence_122_1.wav (deflated 19%)\r\n",
      "  adding: kaggle/working/Task_2_aud_files/Sentence_296_2.wav (deflated 22%)\r\n",
      "  adding: kaggle/working/Task_2_aud_files/Sentence_311_2.wav (deflated 16%)\r\n",
      "  adding: kaggle/working/Task_2_aud_files/Sentence_448_2.wav (deflated 19%)\r\n",
      "  adding: kaggle/working/Task_2_aud_files/Sentence_141_1.wav (deflated 22%)\r\n",
      "  adding: kaggle/working/Task_2_aud_files/Sentence_196_1.wav (deflated 24%)\r\n",
      "  adding: kaggle/working/Task_2_aud_files/Sentence_8_1.wav (deflated 22%)\r\n",
      "  adding: kaggle/working/Task_2_aud_files/Sentence_28_1.wav (deflated 24%)\r\n",
      "  adding: kaggle/working/Task_2_aud_files/Sentence_322_1.wav (deflated 19%)\r\n",
      "  adding: kaggle/working/Task_2_aud_files/Sentence_377_1.wav (deflated 23%)\r\n",
      "  adding: kaggle/working/Task_2_aud_files/Sentence_119_2.wav (deflated 24%)\r\n",
      "  adding: kaggle/working/Task_2_aud_files/Sentence_82_1.wav (deflated 18%)\r\n",
      "  adding: kaggle/working/Task_2_aud_files/Sentence_304_2.wav (deflated 24%)\r\n",
      "  adding: kaggle/working/Task_2_aud_files/Sentence_457_2.wav (deflated 17%)\r\n",
      "  adding: kaggle/working/Task_2_aud_files/Sentence_123_2.wav (deflated 24%)\r\n",
      "  adding: kaggle/working/Task_2_aud_files/Sentence_279_2.wav (deflated 21%)\r\n",
      "  adding: kaggle/working/Task_2_aud_files/Sentence_95_1.wav (deflated 25%)\r\n",
      "  adding: kaggle/working/Task_2_aud_files/Sentence_84_1.wav (deflated 24%)\r\n",
      "  adding: kaggle/working/Task_2_aud_files/Sentence_156_2.wav (deflated 24%)\r\n",
      "  adding: kaggle/working/Task_2_aud_files/Sentence_312_1.wav (deflated 20%)\r\n",
      "  adding: kaggle/working/Task_2_aud_files/Sentence_23_1.wav (deflated 20%)\r\n",
      "  adding: kaggle/working/Task_2_aud_files/Sentence_475_2.wav (deflated 21%)\r\n",
      "  adding: kaggle/working/Task_2_aud_files/Sentence_52_1.wav (deflated 24%)\r\n",
      "  adding: kaggle/working/Task_2_aud_files/Sentence_174_1.wav (deflated 19%)\r\n",
      "  adding: kaggle/working/Task_2_aud_files/Sentence_491_1.wav (deflated 17%)\r\n",
      "  adding: kaggle/working/Task_2_aud_files/Sentence_472_1.wav (deflated 26%)\r\n",
      "  adding: kaggle/working/Task_2_aud_files/Sentence_132_1.wav (deflated 21%)\r\n",
      "  adding: kaggle/working/Task_2_aud_files/Sentence_115_2.wav (deflated 18%)\r\n",
      "  adding: kaggle/working/Task_2_aud_files/Sentence_115_1.wav (deflated 22%)\r\n",
      "  adding: kaggle/working/Task_2_aud_files/Sentence_197_2.wav (deflated 19%)\r\n",
      "  adding: kaggle/working/Task_2_aud_files/Sentence_50_1.wav (deflated 18%)\r\n",
      "  adding: kaggle/working/Task_2_aud_files/Sentence_374_1.wav (deflated 20%)\r\n",
      "  adding: kaggle/working/Task_2_aud_files/Sentence_215_1.wav (deflated 22%)\r\n",
      "  adding: kaggle/working/Task_2_aud_files/Sentence_248_1.wav (deflated 23%)\r\n",
      "  adding: kaggle/working/Task_2_aud_files/Sentence_403_2.wav (deflated 21%)\r\n",
      "  adding: kaggle/working/Task_2_aud_files/Sentence_487_1.wav (deflated 26%)\r\n",
      "  adding: kaggle/working/Task_2_aud_files/Sentence_230_2.wav (deflated 18%)\r\n",
      "  adding: kaggle/working/Task_2_aud_files/Sentence_201_2.wav (deflated 29%)\r\n",
      "  adding: kaggle/working/Task_2_aud_files/Sentence_91_1.wav (deflated 20%)\r\n",
      "  adding: kaggle/working/Task_2_aud_files/Sentence_60_2.wav (deflated 24%)\r\n",
      "  adding: kaggle/working/Task_2_aud_files/Sentence_172_2.wav (deflated 22%)\r\n",
      "  adding: kaggle/working/Task_2_aud_files/Sentence_25_2.wav (deflated 18%)\r\n",
      "  adding: kaggle/working/Task_2_aud_files/Sentence_59_2.wav (deflated 26%)\r\n",
      "  adding: kaggle/working/Task_2_aud_files/Sentence_415_2.wav (deflated 25%)\r\n",
      "  adding: kaggle/working/Task_2_aud_files/Sentence_9_2.wav (deflated 24%)\r\n",
      "  adding: kaggle/working/Task_2_aud_files/Sentence_14_2.wav (deflated 25%)\r\n",
      "  adding: kaggle/working/Task_2_aud_files/Sentence_379_2.wav (deflated 17%)\r\n",
      "  adding: kaggle/working/Task_2_aud_files/Sentence_429_1.wav (deflated 24%)\r\n",
      "  adding: kaggle/working/Task_2_aud_files/Sentence_237_2.wav (deflated 25%)\r\n",
      "  adding: kaggle/working/Task_2_aud_files/Sentence_392_2.wav (deflated 23%)\r\n",
      "  adding: kaggle/working/Task_2_aud_files/Sentence_449_1.wav (deflated 24%)\r\n",
      "  adding: kaggle/working/Task_2_aud_files/Sentence_30_2.wav (deflated 24%)\r\n",
      "  adding: kaggle/working/Task_2_aud_files/Sentence_63_1.wav (deflated 24%)\r\n",
      "  adding: kaggle/working/Task_2_aud_files/Sentence_137_2.wav (deflated 25%)\r\n",
      "  adding: kaggle/working/Task_2_aud_files/Sentence_3_2.wav (deflated 22%)\r\n",
      "  adding: kaggle/working/Task_2_aud_files/Sentence_259_1.wav (deflated 21%)\r\n",
      "  adding: kaggle/working/Task_2_aud_files/Sentence_482_1.wav (deflated 16%)\r\n",
      "  adding: kaggle/working/Task_2_aud_files/Sentence_456_2.wav (deflated 27%)\r\n",
      "  adding: kaggle/working/Task_2_aud_files/Sentence_134_1.wav (deflated 23%)\r\n",
      "  adding: kaggle/working/Task_2_aud_files/Sentence_349_1.wav (deflated 24%)\r\n",
      "  adding: kaggle/working/Task_2_aud_files/Sentence_73_2.wav (deflated 23%)\r\n",
      "  adding: kaggle/working/Task_2_aud_files/Sentence_99_1.wav (deflated 24%)\r\n",
      "  adding: kaggle/working/Task_2_aud_files/Sentence_20_2.wav (deflated 21%)\r\n",
      "  adding: kaggle/working/Task_2_aud_files/Sentence_313_1.wav (deflated 26%)\r\n",
      "  adding: kaggle/working/Task_2_aud_files/Sentence_233_2.wav (deflated 25%)\r\n",
      "  adding: kaggle/working/Task_2_aud_files/Sentence_339_2.wav (deflated 16%)\r\n",
      "  adding: kaggle/working/Task_2_aud_files/Sentence_80_1.wav (deflated 19%)\r\n",
      "  adding: kaggle/working/Task_2_aud_files/Sentence_66_1.wav (deflated 21%)\r\n",
      "  adding: kaggle/working/Task_2_aud_files/Sentence_192_2.wav (deflated 22%)\r\n",
      "  adding: kaggle/working/Task_2_aud_files/Sentence_11_2.wav (deflated 26%)\r\n",
      "  adding: kaggle/working/Task_2_aud_files/Sentence_374_2.wav (deflated 29%)\r\n",
      "  adding: kaggle/working/Task_2_aud_files/Sentence_460_1.wav (deflated 19%)\r\n",
      "  adding: kaggle/working/Task_2_aud_files/Sentence_227_2.wav (deflated 18%)\r\n",
      "  adding: kaggle/working/Task_2_aud_files/Sentence_332_2.wav (deflated 26%)\r\n",
      "  adding: kaggle/working/Task_2_aud_files/Sentence_433_2.wav (deflated 17%)\r\n",
      "  adding: kaggle/working/Task_2_aud_files/Sentence_109_2.wav (deflated 23%)\r\n",
      "  adding: kaggle/working/Task_2_aud_files/Sentence_449_2.wav (deflated 17%)\r\n",
      "  adding: kaggle/working/Task_2_aud_files/Sentence_301_2.wav (deflated 24%)\r\n",
      "  adding: kaggle/working/Task_2_aud_files/Sentence_439_1.wav (deflated 25%)\r\n",
      "  adding: kaggle/working/Task_2_aud_files/Sentence_392_1.wav (deflated 19%)\r\n",
      "  adding: kaggle/working/Task_2_aud_files/Sentence_153_1.wav (deflated 22%)\r\n",
      "  adding: kaggle/working/Task_2_aud_files/Sentence_497_2.wav (deflated 15%)\r\n",
      "  adding: kaggle/working/Task_2_aud_files/Sentence_425_2.wav (deflated 23%)\r\n",
      "  adding: kaggle/working/Task_2_aud_files/Sentence_12_2.wav (deflated 19%)\r\n",
      "  adding: kaggle/working/Task_2_aud_files/Sentence_498_1.wav (deflated 24%)\r\n",
      "  adding: kaggle/working/Task_2_aud_files/Sentence_284_1.wav (deflated 21%)\r\n",
      "  adding: kaggle/working/Task_2_aud_files/Sentence_149_1.wav (deflated 21%)\r\n",
      "  adding: kaggle/working/Task_2_aud_files/Sentence_53_1.wav (deflated 21%)\r\n",
      "  adding: kaggle/working/Task_2_aud_files/Sentence_291_2.wav (deflated 20%)\r\n",
      "  adding: kaggle/working/Task_2_aud_files/Sentence_466_1.wav (deflated 19%)\r\n",
      "  adding: kaggle/working/Task_2_aud_files/Sentence_22_2.wav (deflated 22%)\r\n",
      "  adding: kaggle/working/Task_2_aud_files/Sentence_424_1.wav (deflated 20%)\r\n",
      "  adding: kaggle/working/Task_2_aud_files/Sentence_193_1.wav (deflated 17%)\r\n",
      "  adding: kaggle/working/Task_2_aud_files/Sentence_99_2.wav (deflated 18%)\r\n",
      "  adding: kaggle/working/Task_2_aud_files/Sentence_414_2.wav (deflated 23%)\r\n",
      "  adding: kaggle/working/Task_2_aud_files/Sentence_219_2.wav (deflated 24%)\r\n",
      "  adding: kaggle/working/Task_2_aud_files/Sentence_18_1.wav (deflated 22%)\r\n",
      "  adding: kaggle/working/Task_2_aud_files/Sentence_389_2.wav (deflated 18%)\r\n",
      "  adding: kaggle/working/Task_2_aud_files/Sentence_166_2.wav (deflated 19%)\r\n",
      "  adding: kaggle/working/Task_2_aud_files/Sentence_56_1.wav (deflated 20%)\r\n",
      "  adding: kaggle/working/Task_2_aud_files/Sentence_455_2.wav (deflated 24%)\r\n",
      "  adding: kaggle/working/Task_2_aud_files/Sentence_180_2.wav (deflated 19%)\r\n",
      "  adding: kaggle/working/Task_2_aud_files/Sentence_383_1.wav (deflated 23%)\r\n",
      "  adding: kaggle/working/Task_2_aud_files/Sentence_128_1.wav (deflated 23%)\r\n",
      "  adding: kaggle/working/Task_2_aud_files/Sentence_114_1.wav (deflated 22%)\r\n",
      "  adding: kaggle/working/Task_2_aud_files/Sentence_223_1.wav (deflated 18%)\r\n",
      "  adding: kaggle/working/Task_2_aud_files/Sentence_135_1.wav (deflated 20%)\r\n",
      "  adding: kaggle/working/Task_2_aud_files/Sentence_419_1.wav (deflated 20%)\r\n",
      "  adding: kaggle/working/Task_2_aud_files/Sentence_323_2.wav (deflated 16%)\r\n",
      "  adding: kaggle/working/Task_2_aud_files/Sentence_312_2.wav (deflated 16%)\r\n",
      "  adding: kaggle/working/Task_2_aud_files/Sentence_250_2.wav (deflated 21%)\r\n",
      "  adding: kaggle/working/Task_2_aud_files/Sentence_442_2.wav (deflated 15%)\r\n",
      "  adding: kaggle/working/Task_2_aud_files/Sentence_43_1.wav (deflated 25%)\r\n",
      "  adding: kaggle/working/Task_2_aud_files/Sentence_32_2.wav (deflated 23%)\r\n",
      "  adding: kaggle/working/Task_2_aud_files/Sentence_356_2.wav (deflated 22%)\r\n",
      "  adding: kaggle/working/Task_2_aud_files/Sentence_40_2.wav (deflated 23%)\r\n",
      "  adding: kaggle/working/Task_2_aud_files/Sentence_39_1.wav (deflated 19%)\r\n",
      "  adding: kaggle/working/Task_2_aud_files/Sentence_314_1.wav (deflated 19%)\r\n",
      "  adding: kaggle/working/Task_2_aud_files/Sentence_11_1.wav (deflated 22%)\r\n",
      "  adding: kaggle/working/Task_2_aud_files/Sentence_305_2.wav (deflated 20%)\r\n",
      "  adding: kaggle/working/Task_2_aud_files/Sentence_447_1.wav (deflated 25%)\r\n",
      "  adding: kaggle/working/Task_2_aud_files/Sentence_487_2.wav (deflated 19%)\r\n",
      "  adding: kaggle/working/Task_2_aud_files/Sentence_417_2.wav (deflated 23%)\r\n",
      "  adding: kaggle/working/Task_2_aud_files/Sentence_384_2.wav (deflated 28%)\r\n",
      "  adding: kaggle/working/Task_2_aud_files/Sentence_261_2.wav (deflated 22%)\r\n",
      "  adding: kaggle/working/Task_2_aud_files/Sentence_209_1.wav (deflated 25%)\r\n",
      "  adding: kaggle/working/Task_2_aud_files/Sentence_340_1.wav (deflated 18%)\r\n",
      "  adding: kaggle/working/Task_2_aud_files/Sentence_283_2.wav (deflated 10%)\r\n",
      "  adding: kaggle/working/Task_2_aud_files/Sentence_61_1.wav (deflated 21%)\r\n",
      "  adding: kaggle/working/Task_2_aud_files/Sentence_148_2.wav (deflated 22%)\r\n",
      "  adding: kaggle/working/Task_2_aud_files/Sentence_412_1.wav (deflated 20%)\r\n",
      "  adding: kaggle/working/Task_2_aud_files/Sentence_167_2.wav (deflated 18%)\r\n",
      "  adding: kaggle/working/Task_2_aud_files/Sentence_212_1.wav (deflated 19%)\r\n",
      "  adding: kaggle/working/Task_2_aud_files/Sentence_141_2.wav (deflated 18%)\r\n",
      "  adding: kaggle/working/Task_2_aud_files/Sentence_486_1.wav (deflated 26%)\r\n",
      "  adding: kaggle/working/Task_2_aud_files/Sentence_372_2.wav (deflated 20%)\r\n",
      "  adding: kaggle/working/Task_2_aud_files/Sentence_147_1.wav (deflated 21%)\r\n",
      "  adding: kaggle/working/Task_2_aud_files/Sentence_271_2.wav (deflated 17%)\r\n",
      "  adding: kaggle/working/Task_2_aud_files/Sentence_117_2.wav (deflated 21%)\r\n",
      "  adding: kaggle/working/Task_2_aud_files/Sentence_214_1.wav (deflated 24%)\r\n",
      "  adding: kaggle/working/Task_2_aud_files/Sentence_232_2.wav (deflated 27%)\r\n",
      "  adding: kaggle/working/Task_2_aud_files/Sentence_273_2.wav (deflated 22%)\r\n",
      "  adding: kaggle/working/Task_2_aud_files/Sentence_51_1.wav (deflated 20%)\r\n",
      "  adding: kaggle/working/Task_2_aud_files/Sentence_26_2.wav (deflated 22%)\r\n",
      "  adding: kaggle/working/Task_2_aud_files/Sentence_329_2.wav (deflated 18%)\r\n",
      "  adding: kaggle/working/Task_2_aud_files/Sentence_220_2.wav (deflated 17%)\r\n",
      "  adding: kaggle/working/Task_2_aud_files/Sentence_113_1.wav (deflated 22%)\r\n",
      "  adding: kaggle/working/Task_2_aud_files/Sentence_43_2.wav (deflated 20%)\r\n",
      "  adding: kaggle/working/Task_2_aud_files/Sentence_18_2.wav (deflated 22%)\r\n",
      "  adding: kaggle/working/Task_2_aud_files/Sentence_436_2.wav (deflated 19%)\r\n",
      "  adding: kaggle/working/Task_2_aud_files/Sentence_68_1.wav (deflated 20%)\r\n",
      "  adding: kaggle/working/Task_2_aud_files/Sentence_342_2.wav (deflated 19%)\r\n",
      "  adding: kaggle/working/Task_2_aud_files/Sentence_19_2.wav (deflated 20%)\r\n",
      "  adding: kaggle/working/Task_2_aud_files/Sentence_59_1.wav (deflated 19%)\r\n",
      "  adding: kaggle/working/Task_2_aud_files/Sentence_450_1.wav (deflated 13%)\r\n",
      "  adding: kaggle/working/Task_2_aud_files/Sentence_308_1.wav (deflated 20%)\r\n",
      "  adding: kaggle/working/Task_2_aud_files/Sentence_277_1.wav (deflated 17%)\r\n",
      "  adding: kaggle/working/Task_2_aud_files/Sentence_218_2.wav (deflated 25%)\r\n",
      "  adding: kaggle/working/Task_2_aud_files/Sentence_341_1.wav (deflated 19%)\r\n",
      "  adding: kaggle/working/Task_2_aud_files/Sentence_170_1.wav (deflated 18%)\r\n",
      "  adding: kaggle/working/Task_2_aud_files/Sentence_176_2.wav (deflated 24%)\r\n",
      "  adding: kaggle/working/Task_2_aud_files/Sentence_303_2.wav (deflated 17%)\r\n",
      "  adding: kaggle/working/Task_2_aud_files/Sentence_255_2.wav (deflated 17%)\r\n",
      "  adding: kaggle/working/Task_2_aud_files/Sentence_274_2.wav (deflated 22%)\r\n",
      "  adding: kaggle/working/Task_2_aud_files/Sentence_217_2.wav (deflated 15%)\r\n",
      "  adding: kaggle/working/Task_2_aud_files/Sentence_70_2.wav (deflated 23%)\r\n",
      "  adding: kaggle/working/Task_2_aud_files/Sentence_139_1.wav (deflated 24%)\r\n",
      "  adding: kaggle/working/Task_2_aud_files/Sentence_492_1.wav (deflated 17%)\r\n",
      "  adding: kaggle/working/Task_2_aud_files/Sentence_404_2.wav (deflated 22%)\r\n",
      "  adding: kaggle/working/Task_2_aud_files/Sentence_64_2.wav (deflated 17%)\r\n",
      "  adding: kaggle/working/Task_2_aud_files/Sentence_37_1.wav (deflated 20%)\r\n",
      "  adding: kaggle/working/Task_2_aud_files/Sentence_196_2.wav (deflated 18%)\r\n",
      "  adding: kaggle/working/Task_2_aud_files/Sentence_220_1.wav (deflated 20%)\r\n",
      "  adding: kaggle/working/Task_2_aud_files/Sentence_241_1.wav (deflated 12%)\r\n",
      "  adding: kaggle/working/Task_2_aud_files/Sentence_47_2.wav (deflated 22%)\r\n",
      "  adding: kaggle/working/Task_2_aud_files/Sentence_301_1.wav (deflated 17%)\r\n",
      "  adding: kaggle/working/Task_2_aud_files/Sentence_403_1.wav (deflated 28%)\r\n",
      "  adding: kaggle/working/Task_2_aud_files/Sentence_351_1.wav (deflated 23%)\r\n",
      "  adding: kaggle/working/Task_2_aud_files/Sentence_236_2.wav (deflated 25%)\r\n",
      "  adding: kaggle/working/Task_2_aud_files/Sentence_306_2.wav (deflated 18%)\r\n",
      "  adding: kaggle/working/Task_2_aud_files/Sentence_248_2.wav (deflated 25%)\r\n",
      "  adding: kaggle/working/Task_2_aud_files/Sentence_203_2.wav (deflated 19%)\r\n",
      "  adding: kaggle/working/Task_2_aud_files/Sentence_390_1.wav (deflated 20%)\r\n",
      "  adding: kaggle/working/Task_2_aud_files/Sentence_130_2.wav (deflated 23%)\r\n",
      "  adding: kaggle/working/Task_2_aud_files/Sentence_83_1.wav (deflated 19%)\r\n",
      "  adding: kaggle/working/Task_2_aud_files/Sentence_112_1.wav (deflated 23%)\r\n",
      "  adding: kaggle/working/Task_2_aud_files/Sentence_2_2.wav (deflated 21%)\r\n",
      "  adding: kaggle/working/Task_2_aud_files/Sentence_81_1.wav (deflated 21%)\r\n",
      "  adding: kaggle/working/Task_2_aud_files/Sentence_186_1.wav (deflated 22%)\r\n",
      "  adding: kaggle/working/Task_2_aud_files/Sentence_297_1.wav (deflated 23%)\r\n",
      "  adding: kaggle/working/Task_2_aud_files/Sentence_498_2.wav (deflated 25%)\r\n",
      "  adding: kaggle/working/Task_2_aud_files/Sentence_102_1.wav (deflated 20%)\r\n",
      "  adding: kaggle/working/Task_2_aud_files/Sentence_40_1.wav (deflated 23%)\r\n",
      "  adding: kaggle/working/Task_2_aud_files/Sentence_321_1.wav (deflated 18%)\r\n",
      "  adding: kaggle/working/Task_2_aud_files/Sentence_355_2.wav (deflated 23%)\r\n",
      "  adding: kaggle/working/Task_2_aud_files/Sentence_90_1.wav (deflated 22%)\r\n",
      "  adding: kaggle/working/Task_2_aud_files/Sentence_405_2.wav (deflated 19%)\r\n",
      "  adding: kaggle/working/Task_2_aud_files/Sentence_399_1.wav (deflated 24%)\r\n",
      "  adding: kaggle/working/Task_2_aud_files/Sentence_221_2.wav (deflated 23%)\r\n",
      "  adding: kaggle/working/Task_2_aud_files/Sentence_245_2.wav (deflated 18%)\r\n",
      "  adding: kaggle/working/Task_2_aud_files/Sentence_401_1.wav (deflated 21%)\r\n",
      "  adding: kaggle/working/Task_2_aud_files/Sentence_443_1.wav (deflated 20%)\r\n",
      "  adding: kaggle/working/Task_2_aud_files/Sentence_16_1.wav (deflated 21%)\r\n",
      "  adding: kaggle/working/Task_2_aud_files/Sentence_58_2.wav (deflated 23%)\r\n",
      "  adding: kaggle/working/Task_2_aud_files/Sentence_361_2.wav (deflated 17%)\r\n",
      "  adding: kaggle/working/Task_2_aud_files/Sentence_420_1.wav (deflated 26%)\r\n",
      "  adding: kaggle/working/Task_2_aud_files/Sentence_267_1.wav (deflated 29%)\r\n",
      "  adding: kaggle/working/Task_2_aud_files/Sentence_478_2.wav (deflated 22%)\r\n",
      "  adding: kaggle/working/Task_2_aud_files/Sentence_294_2.wav (deflated 20%)\r\n",
      "  adding: kaggle/working/Task_2_aud_files/Sentence_155_2.wav (deflated 26%)\r\n",
      "  adding: kaggle/working/Task_2_aud_files/Sentence_106_1.wav (deflated 25%)\r\n",
      "  adding: kaggle/working/Task_2_aud_files/Sentence_407_1.wav (deflated 24%)\r\n",
      "  adding: kaggle/working/Task_2_aud_files/Sentence_471_1.wav (deflated 20%)\r\n",
      "  adding: kaggle/working/Task_2_aud_files/Sentence_253_2.wav (deflated 27%)\r\n",
      "  adding: kaggle/working/Task_2_aud_files/Sentence_140_1.wav (deflated 22%)\r\n",
      "  adding: kaggle/working/Task_2_aud_files/Sentence_471_2.wav (deflated 24%)\r\n",
      "  adding: kaggle/working/Task_2_aud_files/Sentence_154_2.wav (deflated 21%)\r\n",
      "  adding: kaggle/working/Task_2_aud_files/Sentence_225_2.wav (deflated 12%)\r\n",
      "  adding: kaggle/working/Task_2_aud_files/Sentence_257_1.wav (deflated 22%)\r\n",
      "  adding: kaggle/working/Task_2_aud_files/Sentence_258_2.wav (deflated 21%)\r\n",
      "  adding: kaggle/working/Task_2_aud_files/Sentence_198_1.wav (deflated 24%)\r\n",
      "  adding: kaggle/working/Task_2_aud_files/Sentence_285_2.wav (deflated 28%)\r\n",
      "  adding: kaggle/working/Task_2_aud_files/Sentence_17_1.wav (deflated 22%)\r\n",
      "  adding: kaggle/working/Task_2_aud_files/Sentence_488_2.wav (deflated 18%)\r\n",
      "  adding: kaggle/working/Task_2_aud_files/Sentence_16_2.wav (deflated 25%)\r\n",
      "  adding: kaggle/working/Task_2_aud_files/Sentence_31_1.wav (deflated 24%)\r\n",
      "  adding: kaggle/working/Task_2_aud_files/Sentence_331_2.wav (deflated 20%)\r\n",
      "  adding: kaggle/working/Task_2_aud_files/Sentence_321_2.wav (deflated 26%)\r\n",
      "  adding: kaggle/working/Task_2_aud_files/Sentence_41_1.wav (deflated 26%)\r\n",
      "  adding: kaggle/working/Task_2_aud_files/Sentence_454_1.wav (deflated 17%)\r\n",
      "  adding: kaggle/working/Task_2_aud_files/Sentence_166_1.wav (deflated 20%)\r\n",
      "  adding: kaggle/working/Task_2_aud_files/Sentence_42_2.wav (deflated 25%)\r\n",
      "  adding: kaggle/working/Task_2_aud_files/Sentence_274_1.wav (deflated 18%)\r\n",
      "  adding: kaggle/working/Task_2_aud_files/Sentence_395_1.wav (deflated 25%)\r\n",
      "  adding: kaggle/working/Task_2_aud_files/Sentence_128_2.wav (deflated 24%)\r\n",
      "  adding: kaggle/working/Task_2_aud_files/Sentence_131_2.wav (deflated 22%)\r\n",
      "  adding: kaggle/working/Task_2_aud_files/Sentence_267_2.wav (deflated 23%)\r\n",
      "  adding: kaggle/working/Task_2_aud_files/Sentence_65_1.wav (deflated 22%)\r\n",
      "  adding: kaggle/working/Task_2_aud_files/Sentence_79_2.wav (deflated 22%)\r\n",
      "  adding: kaggle/working/Task_2_aud_files/Sentence_96_2.wav (deflated 23%)\r\n",
      "  adding: kaggle/working/Task_2_aud_files/Sentence_188_2.wav (deflated 21%)\r\n",
      "  adding: kaggle/working/Task_2_aud_files/Sentence_108_1.wav (deflated 21%)\r\n",
      "  adding: kaggle/working/Task_2_aud_files/Sentence_296_1.wav (deflated 23%)\r\n",
      "  adding: kaggle/working/Task_2_aud_files/Sentence_309_2.wav (deflated 19%)\r\n",
      "  adding: kaggle/working/Task_2_aud_files/Sentence_279_1.wav (deflated 23%)\r\n",
      "  adding: kaggle/working/Task_2_aud_files/Sentence_496_1.wav (deflated 17%)\r\n",
      "  adding: kaggle/working/Task_2_aud_files/Sentence_490_2.wav (deflated 20%)\r\n",
      "  adding: kaggle/working/Task_2_aud_files/Sentence_225_1.wav (deflated 24%)\r\n",
      "  adding: kaggle/working/Task_2_aud_files/Sentence_125_2.wav (deflated 19%)\r\n",
      "  adding: kaggle/working/Task_2_aud_files/Sentence_493_1.wav (deflated 29%)\r\n",
      "  adding: kaggle/working/Task_2_aud_files/Sentence_97_1.wav (deflated 24%)\r\n",
      "  adding: kaggle/working/Task_2_aud_files/Sentence_299_2.wav (deflated 18%)\r\n",
      "  adding: kaggle/working/Task_2_aud_files/Sentence_121_2.wav (deflated 21%)\r\n",
      "  adding: kaggle/working/Task_2_aud_files/Sentence_348_1.wav (deflated 20%)\r\n",
      "  adding: kaggle/working/Task_2_aud_files/Sentence_78_1.wav (deflated 18%)\r\n",
      "  adding: kaggle/working/Task_2_aud_files/Sentence_51_2.wav (deflated 25%)\r\n",
      "  adding: kaggle/working/Task_2_aud_files/Sentence_54_2.wav (deflated 26%)\r\n",
      "  adding: kaggle/working/Task_2_aud_files/Sentence_164_2.wav (deflated 19%)\r\n",
      "  adding: kaggle/working/Task_2_aud_files/Sentence_130_1.wav (deflated 25%)\r\n",
      "  adding: kaggle/working/Task_2_aud_files/Sentence_8_2.wav (deflated 22%)\r\n",
      "  adding: kaggle/working/Task_2_aud_files/Sentence_300_1.wav (deflated 24%)\r\n",
      "  adding: kaggle/working/Task_2_aud_files/Sentence_484_2.wav (deflated 24%)\r\n",
      "  adding: kaggle/working/Task_2_aud_files/Sentence_134_2.wav (deflated 21%)\r\n",
      "  adding: kaggle/working/Task_2_aud_files/Sentence_211_1.wav (deflated 19%)\r\n",
      "  adding: kaggle/working/Task_2_aud_files/Sentence_481_2.wav (deflated 24%)\r\n",
      "  adding: kaggle/working/Task_2_aud_files/Sentence_335_2.wav (deflated 22%)\r\n",
      "  adding: kaggle/working/Task_2_aud_files/Sentence_102_2.wav (deflated 25%)\r\n",
      "  adding: kaggle/working/Task_2_aud_files/Sentence_185_1.wav (deflated 19%)\r\n",
      "  adding: kaggle/working/Task_2_aud_files/Sentence_287_2.wav (deflated 28%)\r\n",
      "  adding: kaggle/working/Task_2_aud_files/Sentence_181_2.wav (deflated 19%)\r\n",
      "  adding: kaggle/working/Task_2_aud_files/Sentence_275_1.wav (deflated 27%)\r\n",
      "  adding: kaggle/working/Task_2_aud_files/Sentence_440_1.wav (deflated 22%)\r\n",
      "  adding: kaggle/working/Task_2_aud_files/Sentence_23_2.wav (deflated 18%)\r\n",
      "  adding: kaggle/working/Task_2_aud_files/Sentence_479_1.wav (deflated 22%)\r\n",
      "  adding: kaggle/working/Task_2_aud_files/Sentence_273_1.wav (deflated 23%)\r\n"
     ]
    }
   ],
   "source": [
    "!zip -r Task_2_aud_files.zip /kaggle/working/Task_2_aud_files"
   ]
  },
  {
   "cell_type": "code",
   "execution_count": 17,
   "id": "6b31d692",
   "metadata": {
    "execution": {
     "iopub.execute_input": "2024-09-04T09:21:38.978877Z",
     "iopub.status.busy": "2024-09-04T09:21:38.978425Z",
     "iopub.status.idle": "2024-09-04T09:21:38.983088Z",
     "shell.execute_reply": "2024-09-04T09:21:38.982116Z"
    },
    "papermill": {
     "duration": 0.183144,
     "end_time": "2024-09-04T09:21:38.985086",
     "exception": false,
     "start_time": "2024-09-04T09:21:38.801942",
     "status": "completed"
    },
    "tags": []
   },
   "outputs": [],
   "source": [
    "# from IPython.display import FileLink\n",
    "# FileLink(r'Task_2_aud_files.zip')"
   ]
  },
  {
   "cell_type": "code",
   "execution_count": null,
   "id": "fb7809f0",
   "metadata": {
    "papermill": {
     "duration": 0.174348,
     "end_time": "2024-09-04T09:21:39.339690",
     "exception": false,
     "start_time": "2024-09-04T09:21:39.165342",
     "status": "completed"
    },
    "tags": []
   },
   "outputs": [],
   "source": []
  }
 ],
 "metadata": {
  "kaggle": {
   "accelerator": "nvidiaTeslaT4",
   "dataSources": [
    {
     "datasetId": 5543066,
     "sourceId": 9314288,
     "sourceType": "datasetVersion"
    }
   ],
   "dockerImageVersionId": 30762,
   "isGpuEnabled": true,
   "isInternetEnabled": true,
   "language": "python",
   "sourceType": "notebook"
  },
  "kernelspec": {
   "display_name": "Python 3",
   "language": "python",
   "name": "python3"
  },
  "language_info": {
   "codemirror_mode": {
    "name": "ipython",
    "version": 3
   },
   "file_extension": ".py",
   "mimetype": "text/x-python",
   "name": "python",
   "nbconvert_exporter": "python",
   "pygments_lexer": "ipython3",
   "version": "3.10.14"
  },
  "papermill": {
   "default_parameters": {},
   "duration": 803.26528,
   "end_time": "2024-09-04T09:21:42.244885",
   "environment_variables": {},
   "exception": null,
   "input_path": "__notebook__.ipynb",
   "output_path": "__notebook__.ipynb",
   "parameters": {},
   "start_time": "2024-09-04T09:08:18.979605",
   "version": "2.6.0"
  }
 },
 "nbformat": 4,
 "nbformat_minor": 5
}
