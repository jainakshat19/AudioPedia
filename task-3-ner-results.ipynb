{
 "cells": [
  {
   "cell_type": "code",
   "execution_count": 1,
   "id": "67b806ff",
   "metadata": {
    "_cell_guid": "b1076dfc-b9ad-4769-8c92-a6c4dae69d19",
    "_uuid": "8f2839f25d086af736a60e9eeb907d3b93b6e0e5",
    "execution": {
     "iopub.execute_input": "2024-09-10T11:51:28.725942Z",
     "iopub.status.busy": "2024-09-10T11:51:28.725395Z",
     "iopub.status.idle": "2024-09-10T11:51:29.200858Z",
     "shell.execute_reply": "2024-09-10T11:51:29.199363Z"
    },
    "papermill": {
     "duration": 0.48574,
     "end_time": "2024-09-10T11:51:29.204083",
     "exception": false,
     "start_time": "2024-09-10T11:51:28.718343",
     "status": "completed"
    },
    "tags": []
   },
   "outputs": [
    {
     "name": "stdout",
     "output_type": "stream",
     "text": [
      "/kaggle/input/business-json/Task_3_ner_results/Task_3_ner_results/Retrieved_sentences/Task3_CLIP_label_retrieved_sentences_NER_results.csv\n",
      "/kaggle/input/business-json/Task_3_ner_results/Task_3_ner_results/Retrieved_sentences/Task3_CLIP_full_Knowledge_retrieved_sentences_NER_results.csv\n",
      "/kaggle/input/business-json/Task_3_ner_results/Task_3_ner_results/Retrieved_sentences/Task3_CLIP_partial_Knowledge_retrieved_sentences_NER_results.csv\n",
      "/kaggle/input/business-json/Task_3_ner_results/Task_3_ner_results/Positive_sentences/Task3_CLIP_label_positive_sentences_NER_results.csv\n",
      "/kaggle/input/business-json/Task_3_ner_results/Task_3_ner_results/Positive_sentences/Task3_CLIP_partial_knowledge_positive_sentences_NER_results.csv\n",
      "/kaggle/input/business-json/Task_3_ner_results/Task_3_ner_results/Positive_sentences/Task3_CLIP_full_knowledge_positive_sentences_NER_results (1).csv\n"
     ]
    }
   ],
   "source": [
    "# This Python 3 environment comes with many helpful analytics libraries installed\n",
    "# It is defined by the kaggle/python Docker image: https://github.com/kaggle/docker-python\n",
    "# For example, here's several helpful packages to load\n",
    "\n",
    "import numpy as np # linear algebra\n",
    "import pandas as pd # data processing, CSV file I/O (e.g. pd.read_csv)\n",
    "\n",
    "# Input data files are available in the read-only \"../input/\" directory\n",
    "# For example, running this (by clicking run or pressing Shift+Enter) will list all files under the input directory\n",
    "\n",
    "import os\n",
    "for dirname, _, filenames in os.walk('/kaggle/input/business-json/Task_3_ner_results'):\n",
    "    for filename in filenames:\n",
    "        print(os.path.join(dirname, filename))\n",
    "\n",
    "# You can write up to 20GB to the current directory (/kaggle/working/) that gets preserved as output when you create a version using \"Save & Run All\" \n",
    "# You can also write temporary files to /kaggle/temp/, but they won't be saved outside of the current session"
   ]
  },
  {
   "cell_type": "code",
   "execution_count": 2,
   "id": "782b9a59",
   "metadata": {
    "execution": {
     "iopub.execute_input": "2024-09-10T11:51:29.220050Z",
     "iopub.status.busy": "2024-09-10T11:51:29.219453Z",
     "iopub.status.idle": "2024-09-10T11:51:30.668422Z",
     "shell.execute_reply": "2024-09-10T11:51:30.667384Z"
    },
    "papermill": {
     "duration": 1.458786,
     "end_time": "2024-09-10T11:51:30.671204",
     "exception": false,
     "start_time": "2024-09-10T11:51:29.212418",
     "status": "completed"
    },
    "tags": []
   },
   "outputs": [],
   "source": [
    "import pandas as pd\n",
    "from sklearn.metrics import accuracy_score, precision_score, recall_score, f1_score\n",
    "\n",
    "def evaluate_ner_performance_samplewise_positive(data_df_path, ner_df_path, title):\n",
    "    # Read the CSV files\n",
    "    data_df = pd.read_csv(data_df_path)\n",
    "    ner_df = pd.read_csv(ner_df_path)\n",
    "    \n",
    "    # Dictionary to store metrics for each QID\n",
    "    metrics_per_qid = {'accuracy': [], 'precision': [], 'recall': [], 'f1': []}\n",
    "    \n",
    "    # Iterate over each QID in data_df\n",
    "    for idx, row in data_df.iterrows():\n",
    "        qid = row['QID']\n",
    "        positive_sentence_ids = eval(row['positive_sentence_ids'])  # Convert stringified list to list\n",
    "        entities = eval(row['entities'])  # Convert stringified list to list\n",
    "        \n",
    "        # Filter ner_df for the same q_id\n",
    "        ner_subset = ner_df[ner_df['q_id'] == qid]\n",
    "        \n",
    "        # Initialize lists to keep track of true labels and predictions for this QID\n",
    "        true_labels = []\n",
    "        predictions = []\n",
    "        \n",
    "        # Check if any positive_sentence_ids are in retrieved_sentence_ids\n",
    "        for i, pos_sent_id in enumerate(positive_sentence_ids):\n",
    "            # Check if pos_sent_id exists in retrieved_sentence_ids of ner_df\n",
    "            match = ner_subset[ner_subset['positive_sentence_ids'].apply(lambda x: pos_sent_id in eval(x))]\n",
    "            \n",
    "            if not match.empty:\n",
    "                retrieved_index = match.index[0]  # Get the first matching row\n",
    "                top_entities = eval(match.loc[retrieved_index, 'top_entities'])\n",
    "                \n",
    "                # Compare the entity from data_df with the top entities from ner_df\n",
    "                if entities[i] in top_entities:\n",
    "                    true_labels.append(1)\n",
    "                    predictions.append(1)\n",
    "                else:\n",
    "                    true_labels.append(1)\n",
    "                    predictions.append(0)\n",
    "            else:\n",
    "                # If no match found, it means the entity is not retrieved correctly\n",
    "                true_labels.append(1)\n",
    "                predictions.append(0)\n",
    "        \n",
    "        # Calculate metrics for this QID\n",
    "        accuracy = accuracy_score(true_labels, predictions)\n",
    "        precision = precision_score(true_labels, predictions, zero_division=0)\n",
    "        recall = recall_score(true_labels, predictions, zero_division=0)\n",
    "        f1 = f1_score(true_labels, predictions, zero_division=0)\n",
    "        \n",
    "        # Store the results in the metrics dictionary\n",
    "        metrics_per_qid['accuracy'].append(accuracy)\n",
    "        metrics_per_qid['precision'].append(precision)\n",
    "        metrics_per_qid['recall'].append(recall)\n",
    "        metrics_per_qid['f1'].append(f1)\n",
    "        \n",
    "#         # Print the metrics for this specific QID\n",
    "#         print(f\"Metrics for QID {qid}:\")\n",
    "#         print(f\"  Accuracy: {accuracy:.4f}\")\n",
    "#         print(f\"  Precision: {precision:.4f}\")\n",
    "#         print(f\"  Recall: {recall:.4f}\")\n",
    "#         print(f\"  F1 Score: {f1:.4f}\\n\")\n",
    "    \n",
    "    # Compute average of each metric\n",
    "    avg_accuracy = sum(metrics_per_qid['accuracy']) / len(metrics_per_qid['accuracy'])\n",
    "    avg_precision = sum(metrics_per_qid['precision']) / len(metrics_per_qid['precision'])\n",
    "    avg_recall = sum(metrics_per_qid['recall']) / len(metrics_per_qid['recall'])\n",
    "    avg_f1 = sum(metrics_per_qid['f1']) / len(metrics_per_qid['f1'])\n",
    "    \n",
    "    # Output the averaged results with the given title\n",
    "    print(f\"Average Evaluation Results for {title}:\")\n",
    "    print(f\"  Average Accuracy: {avg_accuracy:.4f}\")\n",
    "    print(f\"  Average Precision: {avg_precision:.4f}\")\n",
    "    print(f\"  Average Recall: {avg_recall:.4f}\")\n",
    "    print(f\"  Average F1 Score: {avg_f1:.4f}\")\n",
    "    \n",
    "#     return avg_accuracy, avg_precision, avg_recall, avg_f1\n"
   ]
  },
  {
   "cell_type": "code",
   "execution_count": 3,
   "id": "67f86595",
   "metadata": {
    "execution": {
     "iopub.execute_input": "2024-09-10T11:51:30.682783Z",
     "iopub.status.busy": "2024-09-10T11:51:30.682232Z",
     "iopub.status.idle": "2024-09-10T11:51:30.701969Z",
     "shell.execute_reply": "2024-09-10T11:51:30.700679Z"
    },
    "papermill": {
     "duration": 0.028497,
     "end_time": "2024-09-10T11:51:30.704614",
     "exception": false,
     "start_time": "2024-09-10T11:51:30.676117",
     "status": "completed"
    },
    "tags": []
   },
   "outputs": [],
   "source": [
    "import pandas as pd\n",
    "from sklearn.metrics import accuracy_score, precision_score, recall_score, f1_score\n",
    "\n",
    "def evaluate_ner_performance_samplewise_retrieved(data_df_path, ner_df_path, title):\n",
    "    # Read the CSV files\n",
    "    data_df = pd.read_csv(data_df_path)\n",
    "    ner_df = pd.read_csv(ner_df_path)\n",
    "    \n",
    "    # Dictionary to store metrics for each QID\n",
    "    metrics_per_qid = {'accuracy': [], 'precision': [], 'recall': [], 'f1': []}\n",
    "    \n",
    "    # Iterate over each QID in data_df\n",
    "    for idx, row in data_df.iterrows():\n",
    "        qid = row['QID']\n",
    "        positive_sentence_ids = eval(row['positive_sentence_ids'])  # Convert stringified list to list\n",
    "        entities = eval(row['entities'])  # Convert stringified list to list\n",
    "        \n",
    "        # Filter ner_df for the same q_id\n",
    "        ner_subset = ner_df[ner_df['q_id'] == qid]\n",
    "        \n",
    "        # Initialize lists to keep track of true labels and predictions for this QID\n",
    "        true_labels = []\n",
    "        predictions = []\n",
    "        \n",
    "        # Check if any positive_sentence_ids are in retrieved_sentence_ids\n",
    "        for i, pos_sent_id in enumerate(positive_sentence_ids):\n",
    "            # Check if pos_sent_id exists in retrieved_sentence_ids of ner_df\n",
    "            match = ner_subset[ner_subset['retrieved_sentence_ids'].apply(lambda x: pos_sent_id in eval(x))]\n",
    "            \n",
    "            if not match.empty:\n",
    "                retrieved_index = match.index[0]  # Get the first matching row\n",
    "                top_entities = eval(match.loc[retrieved_index, 'top_entities'])\n",
    "                \n",
    "                # Compare the entity from data_df with the top entities from ner_df\n",
    "                if entities[i] in top_entities:\n",
    "                    true_labels.append(1)\n",
    "                    predictions.append(1)\n",
    "                else:\n",
    "                    true_labels.append(1)\n",
    "                    predictions.append(0)\n",
    "            else:\n",
    "                # If no match found, it means the entity is not retrieved correctly\n",
    "                true_labels.append(1)\n",
    "                predictions.append(0)\n",
    "        \n",
    "        # Calculate metrics for this QID\n",
    "        accuracy = accuracy_score(true_labels, predictions)\n",
    "        precision = precision_score(true_labels, predictions, zero_division=0)\n",
    "        recall = recall_score(true_labels, predictions, zero_division=0)\n",
    "        f1 = f1_score(true_labels, predictions, zero_division=0)\n",
    "        \n",
    "        # Store the results in the metrics dictionary\n",
    "        metrics_per_qid['accuracy'].append(accuracy)\n",
    "        metrics_per_qid['precision'].append(precision)\n",
    "        metrics_per_qid['recall'].append(recall)\n",
    "        metrics_per_qid['f1'].append(f1)\n",
    "        \n",
    "#         # Print the metrics for this specific QID\n",
    "#         print(f\"Metrics for QID {qid}:\")\n",
    "#         print(f\"  Accuracy: {accuracy:.4f}\")\n",
    "#         print(f\"  Precision: {precision:.4f}\")\n",
    "#         print(f\"  Recall: {recall:.4f}\")\n",
    "#         print(f\"  F1 Score: {f1:.4f}\\n\")\n",
    "    \n",
    "    # Compute average of each metric\n",
    "    avg_accuracy = sum(metrics_per_qid['accuracy']) / len(metrics_per_qid['accuracy'])\n",
    "    avg_precision = sum(metrics_per_qid['precision']) / len(metrics_per_qid['precision'])\n",
    "    avg_recall = sum(metrics_per_qid['recall']) / len(metrics_per_qid['recall'])\n",
    "    avg_f1 = sum(metrics_per_qid['f1']) / len(metrics_per_qid['f1'])\n",
    "    \n",
    "    # Output the averaged results with the given title\n",
    "    print(f\"Average Evaluation Results for {title}:\")\n",
    "    print(f\"  Average Accuracy: {avg_accuracy:.4f}\")\n",
    "    print(f\"  Average Precision: {avg_precision:.4f}\")\n",
    "    print(f\"  Average Recall: {avg_recall:.4f}\")\n",
    "    print(f\"  Average F1 Score: {avg_f1:.4f}\")\n",
    "    \n",
    "#     return avg_accuracy, avg_precision, avg_recall, avg_f1\n"
   ]
  },
  {
   "cell_type": "code",
   "execution_count": 4,
   "id": "c8ea61bc",
   "metadata": {
    "execution": {
     "iopub.execute_input": "2024-09-10T11:51:30.715869Z",
     "iopub.status.busy": "2024-09-10T11:51:30.715411Z",
     "iopub.status.idle": "2024-09-10T11:51:31.575696Z",
     "shell.execute_reply": "2024-09-10T11:51:31.574169Z"
    },
    "papermill": {
     "duration": 0.869131,
     "end_time": "2024-09-10T11:51:31.578479",
     "exception": false,
     "start_time": "2024-09-10T11:51:30.709348",
     "status": "completed"
    },
    "tags": []
   },
   "outputs": [
    {
     "name": "stdout",
     "output_type": "stream",
     "text": [
      "Average Evaluation Results for NER Evaluation for positive sentences on full_knowledge:\n",
      "  Average Accuracy: 0.6121\n",
      "  Average Precision: 0.8190\n",
      "  Average Recall: 0.6121\n",
      "  Average F1 Score: 0.6802\n"
     ]
    }
   ],
   "source": [
    "data_df_path = '/kaggle/input/business-json/Task_3_data.csv'\n",
    "ner_df_path = '/kaggle/input/business-json/Task_3_ner_results/Task_3_ner_results/Positive_sentences/Task3_CLIP_full_knowledge_positive_sentences_NER_results (1).csv'\n",
    "title = 'NER Evaluation for positive sentences on full_knowledge'\n",
    "\n",
    "# Call the function and print the results\n",
    "# accuracy, precision, recall, f1 = evaluate_ner_performance(data_df_path, ner_df_path, title)\n",
    "evaluate_ner_performance_samplewise_positive(data_df_path, ner_df_path, title)\n",
    "# # Output the results\n",
    "# print(f\"Accuracy: {accuracy}\")\n",
    "# print(f\"Precision: {precision}\")\n",
    "# print(f\"Recall: {recall}\")\n",
    "# print(f\"F1 Score: {f1}\")"
   ]
  },
  {
   "cell_type": "code",
   "execution_count": 5,
   "id": "e538800a",
   "metadata": {
    "execution": {
     "iopub.execute_input": "2024-09-10T11:51:31.589864Z",
     "iopub.status.busy": "2024-09-10T11:51:31.589397Z",
     "iopub.status.idle": "2024-09-10T11:51:32.402152Z",
     "shell.execute_reply": "2024-09-10T11:51:32.400645Z"
    },
    "papermill": {
     "duration": 0.82157,
     "end_time": "2024-09-10T11:51:32.404832",
     "exception": false,
     "start_time": "2024-09-10T11:51:31.583262",
     "status": "completed"
    },
    "tags": []
   },
   "outputs": [
    {
     "name": "stdout",
     "output_type": "stream",
     "text": [
      "Average Evaluation Results for NER Evaluation for positive sentences on partial_knowledge:\n",
      "  Average Accuracy: 0.6106\n",
      "  Average Precision: 0.8276\n",
      "  Average Recall: 0.6106\n",
      "  Average F1 Score: 0.6825\n"
     ]
    }
   ],
   "source": [
    "ner_df_path = '/kaggle/input/business-json/Task_3_ner_results/Task_3_ner_results/Positive_sentences/Task3_CLIP_partial_knowledge_positive_sentences_NER_results.csv'\n",
    "title = 'NER Evaluation for positive sentences on partial_knowledge'\n",
    "\n",
    "# Call the function and print the results\n",
    "# accuracy, precision, recall, f1 = evaluate_ner_performance(data_df_path, ner_df_path, title)\n",
    "evaluate_ner_performance_samplewise_positive(data_df_path, ner_df_path, title)\n",
    "# # Output the results\n",
    "# print(f\"Accuracy: {accuracy}\")\n",
    "# print(f\"Precision: {precision}\")\n",
    "# print(f\"Recall: {recall}\")\n",
    "# print(f\"F1 Score: {f1}\")"
   ]
  },
  {
   "cell_type": "code",
   "execution_count": 6,
   "id": "16e207d0",
   "metadata": {
    "execution": {
     "iopub.execute_input": "2024-09-10T11:51:32.416180Z",
     "iopub.status.busy": "2024-09-10T11:51:32.415767Z",
     "iopub.status.idle": "2024-09-10T11:51:33.237605Z",
     "shell.execute_reply": "2024-09-10T11:51:33.236259Z"
    },
    "papermill": {
     "duration": 0.830444,
     "end_time": "2024-09-10T11:51:33.240181",
     "exception": false,
     "start_time": "2024-09-10T11:51:32.409737",
     "status": "completed"
    },
    "tags": []
   },
   "outputs": [
    {
     "name": "stdout",
     "output_type": "stream",
     "text": [
      "Average Evaluation Results for NER Evaluation for positive sentences on labels:\n",
      "  Average Accuracy: 0.5891\n",
      "  Average Precision: 0.8276\n",
      "  Average Recall: 0.5891\n",
      "  Average F1 Score: 0.6672\n"
     ]
    }
   ],
   "source": [
    "ner_df_path = '/kaggle/input/business-json/Task_3_ner_results/Task_3_ner_results/Positive_sentences/Task3_CLIP_label_positive_sentences_NER_results.csv'\n",
    "title = 'NER Evaluation for positive sentences on labels'\n",
    "\n",
    "# Call the function and print the results\n",
    "# accuracy, precision, recall, f1 = evaluate_ner_performance(data_df_path, ner_df_path, title)\n",
    "evaluate_ner_performance_samplewise_positive(data_df_path, ner_df_path, title)\n",
    "# # Output the results\n",
    "# print(f\"Accuracy: {accuracy}\")\n",
    "# print(f\"Precision: {precision}\")\n",
    "# print(f\"Recall: {recall}\")\n",
    "# print(f\"F1 Score: {f1}\")"
   ]
  },
  {
   "cell_type": "code",
   "execution_count": 7,
   "id": "e6b18b10",
   "metadata": {
    "execution": {
     "iopub.execute_input": "2024-09-10T11:51:33.252806Z",
     "iopub.status.busy": "2024-09-10T11:51:33.251895Z",
     "iopub.status.idle": "2024-09-10T11:51:34.075316Z",
     "shell.execute_reply": "2024-09-10T11:51:34.073745Z"
    },
    "papermill": {
     "duration": 0.832844,
     "end_time": "2024-09-10T11:51:34.078069",
     "exception": false,
     "start_time": "2024-09-10T11:51:33.245225",
     "status": "completed"
    },
    "tags": []
   },
   "outputs": [
    {
     "name": "stdout",
     "output_type": "stream",
     "text": [
      "Average Evaluation Results for NER Evaluation for retrieved sentences on full_knowledge:\n",
      "  Average Accuracy: 0.4296\n",
      "  Average Precision: 0.6293\n",
      "  Average Recall: 0.4296\n",
      "  Average F1 Score: 0.4954\n"
     ]
    }
   ],
   "source": [
    "ner_df_path = '/kaggle/input/business-json/Task_3_ner_results/Task_3_ner_results/Retrieved_sentences/Task3_CLIP_full_Knowledge_retrieved_sentences_NER_results.csv'\n",
    "title = 'NER Evaluation for retrieved sentences on full_knowledge'\n",
    "\n",
    "# Call the function and print the results\n",
    "# accuracy, precision, recall, f1 = evaluate_ner_performance(data_df_path, ner_df_path, title)\n",
    "evaluate_ner_performance_samplewise_retrieved(data_df_path, ner_df_path, title)\n",
    "# # Output the results\n",
    "# print(f\"Accuracy: {accuracy}\")\n",
    "# print(f\"Precision: {precision}\")\n",
    "# print(f\"Recall: {recall}\")\n",
    "# print(f\"F1 Score: {f1}\")"
   ]
  },
  {
   "cell_type": "code",
   "execution_count": 8,
   "id": "1d1a52e0",
   "metadata": {
    "execution": {
     "iopub.execute_input": "2024-09-10T11:51:34.091526Z",
     "iopub.status.busy": "2024-09-10T11:51:34.091076Z",
     "iopub.status.idle": "2024-09-10T11:51:34.906941Z",
     "shell.execute_reply": "2024-09-10T11:51:34.905670Z"
    },
    "papermill": {
     "duration": 0.825968,
     "end_time": "2024-09-10T11:51:34.909714",
     "exception": false,
     "start_time": "2024-09-10T11:51:34.083746",
     "status": "completed"
    },
    "tags": []
   },
   "outputs": [
    {
     "name": "stdout",
     "output_type": "stream",
     "text": [
      "Average Evaluation Results for NER Evaluation for retrieved sentences on partial_knowledge:\n",
      "  Average Accuracy: 0.3994\n",
      "  Average Precision: 0.6121\n",
      "  Average Recall: 0.3994\n",
      "  Average F1 Score: 0.4695\n"
     ]
    }
   ],
   "source": [
    "ner_df_path = '/kaggle/input/business-json/Task_3_ner_results/Task_3_ner_results/Retrieved_sentences/Task3_CLIP_partial_Knowledge_retrieved_sentences_NER_results.csv'\n",
    "title = 'NER Evaluation for retrieved sentences on partial_knowledge'\n",
    "\n",
    "# Call the function and print the results\n",
    "# accuracy, precision, recall, f1 = evaluate_ner_performance(data_df_path, ner_df_path, title)\n",
    "evaluate_ner_performance_samplewise_retrieved(data_df_path, ner_df_path, title)\n",
    "# # Output the results\n",
    "# print(f\"Accuracy: {accuracy}\")\n",
    "# print(f\"Precision: {precision}\")\n",
    "# print(f\"Recall: {recall}\")\n",
    "# print(f\"F1 Score: {f1}\")"
   ]
  },
  {
   "cell_type": "code",
   "execution_count": 9,
   "id": "9586ce19",
   "metadata": {
    "execution": {
     "iopub.execute_input": "2024-09-10T11:51:34.922779Z",
     "iopub.status.busy": "2024-09-10T11:51:34.921747Z",
     "iopub.status.idle": "2024-09-10T11:51:35.792075Z",
     "shell.execute_reply": "2024-09-10T11:51:35.790401Z"
    },
    "papermill": {
     "duration": 0.879637,
     "end_time": "2024-09-10T11:51:35.794708",
     "exception": false,
     "start_time": "2024-09-10T11:51:34.915071",
     "status": "completed"
    },
    "tags": []
   },
   "outputs": [
    {
     "name": "stdout",
     "output_type": "stream",
     "text": [
      "Average Evaluation Results for NER Evaluation for retrieved sentences on label_knowledge:\n",
      "  Average Accuracy: 0.4009\n",
      "  Average Precision: 0.6121\n",
      "  Average Recall: 0.4009\n",
      "  Average F1 Score: 0.4698\n"
     ]
    }
   ],
   "source": [
    "ner_df_path = '/kaggle/input/business-json/Task_3_ner_results/Task_3_ner_results/Retrieved_sentences/Task3_CLIP_label_retrieved_sentences_NER_results.csv'\n",
    "title = 'NER Evaluation for retrieved sentences on label_knowledge'\n",
    "\n",
    "# Call the function and print the results\n",
    "# accuracy, precision, recall, f1 = evaluate_ner_performance(data_df_path, ner_df_path, title)\n",
    "evaluate_ner_performance_samplewise_retrieved(data_df_path, ner_df_path, title)\n",
    "# # Output the results\n",
    "# print(f\"Accuracy: {accuracy}\")\n",
    "# print(f\"Precision: {precision}\")\n",
    "# print(f\"Recall: {recall}\")\n",
    "# print(f\"F1 Score: {f1}\")"
   ]
  },
  {
   "cell_type": "code",
   "execution_count": null,
   "id": "24a3d87f",
   "metadata": {
    "papermill": {
     "duration": 0.00501,
     "end_time": "2024-09-10T11:51:35.804944",
     "exception": false,
     "start_time": "2024-09-10T11:51:35.799934",
     "status": "completed"
    },
    "tags": []
   },
   "outputs": [],
   "source": []
  }
 ],
 "metadata": {
  "kaggle": {
   "accelerator": "none",
   "dataSources": [
    {
     "datasetId": 5543066,
     "sourceId": 9357046,
     "sourceType": "datasetVersion"
    }
   ],
   "dockerImageVersionId": 30761,
   "isGpuEnabled": false,
   "isInternetEnabled": true,
   "language": "python",
   "sourceType": "notebook"
  },
  "kernelspec": {
   "display_name": "Python 3",
   "language": "python",
   "name": "python3"
  },
  "language_info": {
   "codemirror_mode": {
    "name": "ipython",
    "version": 3
   },
   "file_extension": ".py",
   "mimetype": "text/x-python",
   "name": "python",
   "nbconvert_exporter": "python",
   "pygments_lexer": "ipython3",
   "version": "3.10.14"
  },
  "papermill": {
   "default_parameters": {},
   "duration": 10.705836,
   "end_time": "2024-09-10T11:51:36.432731",
   "environment_variables": {},
   "exception": null,
   "input_path": "__notebook__.ipynb",
   "output_path": "__notebook__.ipynb",
   "parameters": {},
   "start_time": "2024-09-10T11:51:25.726895",
   "version": "2.6.0"
  }
 },
 "nbformat": 4,
 "nbformat_minor": 5
}
