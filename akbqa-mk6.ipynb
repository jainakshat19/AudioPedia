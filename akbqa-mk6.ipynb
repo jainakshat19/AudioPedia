{
 "cells": [
  {
   "cell_type": "code",
   "execution_count": 1,
   "id": "81a289de",
   "metadata": {
    "_cell_guid": "b1076dfc-b9ad-4769-8c92-a6c4dae69d19",
    "_uuid": "8f2839f25d086af736a60e9eeb907d3b93b6e0e5",
    "execution": {
     "iopub.execute_input": "2024-09-06T13:41:58.615306Z",
     "iopub.status.busy": "2024-09-06T13:41:58.614702Z",
     "iopub.status.idle": "2024-09-06T13:41:59.067667Z",
     "shell.execute_reply": "2024-09-06T13:41:59.066294Z"
    },
    "papermill": {
     "duration": 0.46979,
     "end_time": "2024-09-06T13:41:59.070707",
     "exception": false,
     "start_time": "2024-09-06T13:41:58.600917",
     "status": "completed"
    },
    "tags": []
   },
   "outputs": [],
   "source": [
    "# This Python 3 environment comes with many helpful analytics libraries installed\n",
    "# It is defined by the kaggle/python Docker image: https://github.com/kaggle/docker-python\n",
    "# For example, here's several helpful packages to load\n",
    "\n",
    "import numpy as np # linear algebra\n",
    "import pandas as pd # data processing, CSV file I/O (e.g. pd.read_csv)\n",
    "\n",
    "# Input data files are available in the read-only \"../input/\" directory\n",
    "# For example, running this (by clicking run or pressing Shift+Enter) will list all files under the input directory\n",
    "\n",
    "import os\n",
    "# You can write up to 20GB to the current directory (/kaggle/working/) that gets preserved as output when you create a version using \"Save & Run All\" \n",
    "# You can also write temporary files to /kaggle/temp/, but they won't be saved outside of the current session"
   ]
  },
  {
   "cell_type": "code",
   "execution_count": 2,
   "id": "c5266c8f",
   "metadata": {
    "execution": {
     "iopub.execute_input": "2024-09-06T13:41:59.088598Z",
     "iopub.status.busy": "2024-09-06T13:41:59.088023Z",
     "iopub.status.idle": "2024-09-06T13:41:59.184788Z",
     "shell.execute_reply": "2024-09-06T13:41:59.183134Z"
    },
    "papermill": {
     "duration": 0.108599,
     "end_time": "2024-09-06T13:41:59.187562",
     "exception": false,
     "start_time": "2024-09-06T13:41:59.078963",
     "status": "completed"
    },
    "tags": []
   },
   "outputs": [
    {
     "name": "stdout",
     "output_type": "stream",
     "text": [
      "   QID                   question answer_num answer          entities  \\\n",
      "0    0  How many stores sell car?          2    Two  [Q20165, Q29570]   \n",
      "1    1  How many stores sell car?          2    Two   [Q23317, Q6742]   \n",
      "2    2  How many stores sell car?          2    Two  [Q20165, Q55931]   \n",
      "3    3  How many stores sell car?          2    Two  [Q35349, Q55931]   \n",
      "4    4  How many stores sell car?          2    Two  [Q20165, Q40993]   \n",
      "\n",
      "                         entity_titles  \\\n",
      "0                  [Nissan, Chevrolet]   \n",
      "1                      [Audi, Peugeot]   \n",
      "2      [Nissan, Hyundai Motor Company]   \n",
      "3  [Kia Motors, Hyundai Motor Company]   \n",
      "4                    [Nissan, Porsche]   \n",
      "\n",
      "                                  positive_sentences  \\\n",
      "0  [Nissan has Yoshisuke Aikawa as CEO., Chevrole...   \n",
      "1  [Audi is a type of Auto showroom., Peugeot has...   \n",
      "2  [Nissan has Yoshisuke Aikawa as CEO., Hyundai ...   \n",
      "3  [Kia Motors has headquarters in Seoul., Hyunda...   \n",
      "4  [Nissan has Yoshisuke Aikawa as CEO., Porsche ...   \n",
      "\n",
      "                                     other_sentences  \\\n",
      "0  [Telstra is a type of Telecom store., DATS pet...   \n",
      "1  [Union Bank of India was established on 1919-1...   \n",
      "2  [Pearle Opticians is a type of Accessory store...   \n",
      "3  [BP has origin country United Kingdom., China ...   \n",
      "4  [Speedo International Limited was established ...   \n",
      "\n",
      "                                       all_sentences positive_sentence_ids  \\\n",
      "0  [Nissan has Yoshisuke Aikawa as CEO., Chevrole...                [0, 1]   \n",
      "1  [Audi is a type of Auto showroom., Peugeot has...                [0, 1]   \n",
      "2  [Nissan has Yoshisuke Aikawa as CEO., Hyundai ...                [0, 1]   \n",
      "3  [Kia Motors has headquarters in Seoul., Hyunda...                [0, 1]   \n",
      "4  [Nissan has Yoshisuke Aikawa as CEO., Porsche ...                [0, 1]   \n",
      "\n",
      "                      negative_sentence_ids  \n",
      "0  [2, 3, 4, 5, 6, 7, 8, 9, 10, 11, 12, 13]  \n",
      "1                     [2, 3, 4, 5, 6, 7, 8]  \n",
      "2      [2, 3, 4, 5, 6, 7, 8, 9, 10, 11, 12]  \n",
      "3                        [2, 3, 4, 5, 6, 7]  \n",
      "4              [2, 3, 4, 5, 6, 7, 8, 9, 10]  \n"
     ]
    }
   ],
   "source": [
    "df = pd.read_json('/kaggle/input/business-json/task_3_raw.json').transpose()\n",
    "df.reset_index(inplace=True)\n",
    "df.rename(columns={'index': 'QID'}, inplace=True)\n",
    "print(df.head())"
   ]
  },
  {
   "cell_type": "code",
   "execution_count": 3,
   "id": "91308d60",
   "metadata": {
    "execution": {
     "iopub.execute_input": "2024-09-06T13:41:59.205602Z",
     "iopub.status.busy": "2024-09-06T13:41:59.205152Z",
     "iopub.status.idle": "2024-09-06T13:41:59.211923Z",
     "shell.execute_reply": "2024-09-06T13:41:59.210543Z"
    },
    "papermill": {
     "duration": 0.019148,
     "end_time": "2024-09-06T13:41:59.214908",
     "exception": false,
     "start_time": "2024-09-06T13:41:59.195760",
     "status": "completed"
    },
    "tags": []
   },
   "outputs": [
    {
     "name": "stdout",
     "output_type": "stream",
     "text": [
      "Index(['QID', 'question', 'answer_num', 'answer', 'entities', 'entity_titles',\n",
      "       'positive_sentences', 'other_sentences', 'all_sentences',\n",
      "       'positive_sentence_ids', 'negative_sentence_ids'],\n",
      "      dtype='object')\n"
     ]
    }
   ],
   "source": [
    "print(df.columns)"
   ]
  },
  {
   "cell_type": "code",
   "execution_count": 4,
   "id": "23490b66",
   "metadata": {
    "execution": {
     "iopub.execute_input": "2024-09-06T13:41:59.233457Z",
     "iopub.status.busy": "2024-09-06T13:41:59.233057Z",
     "iopub.status.idle": "2024-09-06T13:41:59.325798Z",
     "shell.execute_reply": "2024-09-06T13:41:59.324492Z"
    },
    "papermill": {
     "duration": 0.105482,
     "end_time": "2024-09-06T13:41:59.328639",
     "exception": false,
     "start_time": "2024-09-06T13:41:59.223157",
     "status": "completed"
    },
    "tags": []
   },
   "outputs": [
    {
     "name": "stdout",
     "output_type": "stream",
     "text": [
      "   QID                   question answer_num answer  \\\n",
      "0    0  How many stores sell car?          2    Two   \n",
      "1    1  How many stores sell car?          2    Two   \n",
      "2    2  How many stores sell car?          2    Two   \n",
      "3    3  How many stores sell car?          2    Two   \n",
      "4    4  How many stores sell car?          2    Two   \n",
      "\n",
      "                                  positive_sentences  \\\n",
      "0  [Nissan has Yoshisuke Aikawa as CEO., Chevrole...   \n",
      "1  [Audi is a type of Auto showroom., Peugeot has...   \n",
      "2  [Nissan has Yoshisuke Aikawa as CEO., Hyundai ...   \n",
      "3  [Kia Motors has headquarters in Seoul., Hyunda...   \n",
      "4  [Nissan has Yoshisuke Aikawa as CEO., Porsche ...   \n",
      "\n",
      "                                     other_sentences  \\\n",
      "0  [Telstra is a type of Telecom store., DATS pet...   \n",
      "1  [Union Bank of India was established on 1919-1...   \n",
      "2  [Pearle Opticians is a type of Accessory store...   \n",
      "3  [BP has origin country United Kingdom., China ...   \n",
      "4  [Speedo International Limited was established ...   \n",
      "\n",
      "                                       all_sentences positive_sentence_ids  \\\n",
      "0  [Nissan has Yoshisuke Aikawa as CEO., Chevrole...                [0, 1]   \n",
      "1  [Audi is a type of Auto showroom., Peugeot has...                [0, 1]   \n",
      "2  [Nissan has Yoshisuke Aikawa as CEO., Hyundai ...                [0, 1]   \n",
      "3  [Kia Motors has headquarters in Seoul., Hyunda...                [0, 1]   \n",
      "4  [Nissan has Yoshisuke Aikawa as CEO., Porsche ...                [0, 1]   \n",
      "\n",
      "                      negative_sentence_ids      entities  \\\n",
      "0  [2, 3, 4, 5, 6, 7, 8, 9, 10, 11, 12, 13]  [Q242, Q392]   \n",
      "1                     [2, 3, 4, 5, 6, 7, 8]  [Q199, Q449]   \n",
      "2      [2, 3, 4, 5, 6, 7, 8, 9, 10, 11, 12]   [Q242, Q29]   \n",
      "3                        [2, 3, 4, 5, 6, 7]   [Q442, Q29]   \n",
      "4              [2, 3, 4, 5, 6, 7, 8, 9, 10]  [Q242, Q282]   \n",
      "\n",
      "                         entity_titles  \n",
      "0                  [Nissan, Chevrolet]  \n",
      "1                      [Audi, Peugeot]  \n",
      "2      [Nissan, Hyundai Motor Company]  \n",
      "3  [Kia Motors, Hyundai Motor Company]  \n",
      "4                    [Nissan, Porsche]  \n",
      "QID\n",
      "<class 'numpy.int64'> None\n",
      "question\n",
      "<class 'str'> None\n",
      "answer_num\n",
      "<class 'str'> None\n",
      "answer\n",
      "<class 'str'> None\n",
      "positive_sentences\n",
      "<class 'list'> None\n",
      "other_sentences\n",
      "<class 'list'> None\n",
      "all_sentences\n",
      "<class 'list'> None\n",
      "positive_sentence_ids\n",
      "<class 'list'> None\n",
      "negative_sentence_ids\n",
      "<class 'list'> None\n",
      "entities\n",
      "<class 'list'> None\n",
      "entity_titles\n",
      "<class 'list'> None\n"
     ]
    }
   ],
   "source": [
    "# Convert the list columns to tuples to avoid issues during grouping\n",
    "df['positive_sentence_ids'] = df['positive_sentence_ids'].apply(tuple)\n",
    "df['negative_sentence_ids'] = df['negative_sentence_ids'].apply(tuple)\n",
    "df['positive_sentences'] = df['positive_sentences'].apply(tuple)\n",
    "df['other_sentences'] = df['other_sentences'].apply(tuple)\n",
    "df['all_sentences'] = df['all_sentences'].apply(tuple)\n",
    "\n",
    "entity_df = pd.read_csv(\"/kaggle/input/business-json/Knowledge.csv\")\n",
    "# Merge the original DataFrame with the entity DataFrame\n",
    "# Expand the entities and entity_titles columns to match each entity with its title\n",
    "merged_df = df.explode(['entities', 'entity_titles'])\n",
    "\n",
    "# Merge with entity_df on entity_titles and entity_name\n",
    "merged_df = merged_df.merge(entity_df, left_on='entity_titles', right_on='Entity_name', how='left')\n",
    "\n",
    "# Replace the original 'entities' with the correct 'entity_id' from entity_df\n",
    "merged_df['entities'] = merged_df['Entity_ID']\n",
    "\n",
    "# Group back to the original structure\n",
    "updated_df = merged_df.groupby(['QID', 'question', 'answer_num', 'answer',\n",
    "       'positive_sentences', 'other_sentences', 'all_sentences',\n",
    "       'positive_sentence_ids', 'negative_sentence_ids'], as_index=False).agg({\n",
    "    'entities': lambda x: list(x),\n",
    "    'entity_titles': lambda x: list(x)\n",
    "})\n",
    "updated_df['positive_sentence_ids'] = updated_df['positive_sentence_ids'].apply(list)\n",
    "updated_df['negative_sentence_ids'] = updated_df['negative_sentence_ids'].apply(list)\n",
    "updated_df['positive_sentences'] = updated_df['positive_sentences'].apply(list)\n",
    "updated_df['other_sentences'] = updated_df['other_sentences'].apply(list)\n",
    "updated_df['all_sentences'] = updated_df['all_sentences'].apply(list)\n",
    "\n",
    "print(updated_df.head())\n",
    "for i in range(len(updated_df.columns)):\n",
    "    print(type(updated_df.iloc[1,i]), print(updated_df.columns[i]))"
   ]
  },
  {
   "cell_type": "code",
   "execution_count": 5,
   "id": "1d64654a",
   "metadata": {
    "execution": {
     "iopub.execute_input": "2024-09-06T13:41:59.347471Z",
     "iopub.status.busy": "2024-09-06T13:41:59.346693Z",
     "iopub.status.idle": "2024-09-06T13:41:59.356698Z",
     "shell.execute_reply": "2024-09-06T13:41:59.355550Z"
    },
    "papermill": {
     "duration": 0.022718,
     "end_time": "2024-09-06T13:41:59.359850",
     "exception": false,
     "start_time": "2024-09-06T13:41:59.337132",
     "status": "completed"
    },
    "tags": []
   },
   "outputs": [
    {
     "name": "stdout",
     "output_type": "stream",
     "text": [
      "QID                      500\n",
      "question                 500\n",
      "answer_num               500\n",
      "answer                   500\n",
      "entities                 500\n",
      "entity_titles            500\n",
      "positive_sentences       500\n",
      "other_sentences          500\n",
      "all_sentences            500\n",
      "positive_sentence_ids    500\n",
      "negative_sentence_ids    500\n",
      "dtype: int64\n",
      "5500\n"
     ]
    }
   ],
   "source": [
    "print(500 - df.isna().sum())\n",
    "print((500 - df.isna().sum()).sum())"
   ]
  },
  {
   "cell_type": "code",
   "execution_count": 6,
   "id": "bd97f86c",
   "metadata": {
    "execution": {
     "iopub.execute_input": "2024-09-06T13:41:59.378466Z",
     "iopub.status.busy": "2024-09-06T13:41:59.378012Z",
     "iopub.status.idle": "2024-09-06T13:42:04.673486Z",
     "shell.execute_reply": "2024-09-06T13:42:04.672092Z"
    },
    "papermill": {
     "duration": 5.308195,
     "end_time": "2024-09-06T13:42:04.676425",
     "exception": false,
     "start_time": "2024-09-06T13:41:59.368230",
     "status": "completed"
    },
    "tags": []
   },
   "outputs": [],
   "source": [
    "import pandas as pd\n",
    "from wordcloud import WordCloud\n",
    "import matplotlib.pyplot as plt\n",
    "import seaborn as sns\n",
    "from collections import Counter\n",
    "import warnings\n",
    "import os\n",
    "warnings.filterwarnings(\"ignore\")\n",
    "import time\n",
    "from tqdm import tqdm\n",
    "import torch\n",
    "import ast"
   ]
  },
  {
   "cell_type": "code",
   "execution_count": 7,
   "id": "b2c1e2a4",
   "metadata": {
    "execution": {
     "iopub.execute_input": "2024-09-06T13:42:04.697179Z",
     "iopub.status.busy": "2024-09-06T13:42:04.695694Z",
     "iopub.status.idle": "2024-09-06T13:42:04.703296Z",
     "shell.execute_reply": "2024-09-06T13:42:04.702098Z"
    },
    "papermill": {
     "duration": 0.020231,
     "end_time": "2024-09-06T13:42:04.705870",
     "exception": false,
     "start_time": "2024-09-06T13:42:04.685639",
     "status": "completed"
    },
    "tags": []
   },
   "outputs": [
    {
     "name": "stdout",
     "output_type": "stream",
     "text": [
      "Index(['QID', 'question', 'answer_num', 'answer', 'positive_sentences',\n",
      "       'other_sentences', 'all_sentences', 'positive_sentence_ids',\n",
      "       'negative_sentence_ids', 'entities', 'entity_titles'],\n",
      "      dtype='object')\n"
     ]
    }
   ],
   "source": [
    "print(updated_df.columns)"
   ]
  },
  {
   "cell_type": "code",
   "execution_count": 8,
   "id": "1ab43d83",
   "metadata": {
    "execution": {
     "iopub.execute_input": "2024-09-06T13:42:04.724988Z",
     "iopub.status.busy": "2024-09-06T13:42:04.724479Z",
     "iopub.status.idle": "2024-09-06T13:42:04.731221Z",
     "shell.execute_reply": "2024-09-06T13:42:04.729815Z"
    },
    "papermill": {
     "duration": 0.019673,
     "end_time": "2024-09-06T13:42:04.734062",
     "exception": false,
     "start_time": "2024-09-06T13:42:04.714389",
     "status": "completed"
    },
    "tags": []
   },
   "outputs": [],
   "source": [
    "columns = ['QID', 'question', 'answer_num', 'answer', 'positive_sentences',\n",
    "       'other_sentences', 'all_sentences', 'positive_sentence_ids',\n",
    "       'negative_sentence_ids', 'entities', 'entity_titles']"
   ]
  },
  {
   "cell_type": "code",
   "execution_count": 9,
   "id": "cb371c86",
   "metadata": {
    "execution": {
     "iopub.execute_input": "2024-09-06T13:42:04.753804Z",
     "iopub.status.busy": "2024-09-06T13:42:04.753306Z",
     "iopub.status.idle": "2024-09-06T13:42:04.799626Z",
     "shell.execute_reply": "2024-09-06T13:42:04.798454Z"
    },
    "papermill": {
     "duration": 0.0605,
     "end_time": "2024-09-06T13:42:04.803522",
     "exception": false,
     "start_time": "2024-09-06T13:42:04.743022",
     "status": "completed"
    },
    "scrolled": true,
    "tags": []
   },
   "outputs": [
    {
     "name": "stdout",
     "output_type": "stream",
     "text": [
      "QID\n",
      "0      1\n",
      "73     1\n",
      "85     1\n",
      "84     1\n",
      "83     1\n",
      "      ..\n",
      "34     1\n",
      "33     1\n",
      "32     1\n",
      "31     1\n",
      "115    1\n",
      "Name: count, Length: 116, dtype: int64\n",
      "question\n",
      "How many stores sell petroleum?                       14\n",
      "How many stores sell footwear?                         9\n",
      "How many stores sell software?                         9\n",
      "How many stores sell car?                              8\n",
      "How many stores sell truck?                            8\n",
      "How many stores sell sports equipment?                 7\n",
      "How many stores sell home appliance?                   6\n",
      "How many stores sell clothing?                         6\n",
      "How many stores sell perfume?                          6\n",
      "How many stores sell insurance?                        5\n",
      "How many stores sell passenger car?                    5\n",
      "How many stores sell eyewear?                          4\n",
      "How many stores sell computer hardware?                3\n",
      "How many stores sell jewellery?                        3\n",
      "How many stores sell hamburger?                        3\n",
      "How many stores sell costume accessory?                3\n",
      "How many stores sell coffee?                           2\n",
      "How many stores sell sportswear?                       2\n",
      "How many stores sell television?                       2\n",
      "How many stores sell asset management?                 1\n",
      "How many stores sell digital camera?                   1\n",
      "How many stores sell designer clothing?                1\n",
      "How many stores sell office supply?                    1\n",
      "How many stores sell backpack?                         1\n",
      "How many stores sell natural gas?                      1\n",
      "How many stores sell laptop?                           1\n",
      "How many stores sell printer?                          1\n",
      "How many stores sell telecommunications equipment?     1\n",
      "How many stores sell watch?                            1\n",
      "How many stores sell smartphone?                       1\n",
      "Name: count, dtype: int64\n",
      "answer_num\n",
      "2    116\n",
      "Name: count, dtype: int64\n",
      "answer\n",
      "Two    116\n",
      "Name: count, dtype: int64\n",
      "positive_sentences\n",
      "[Nissan has Yoshisuke Aikawa as CEO., Chevrolet is a type of Auto showroom.]                                1\n",
      "[Chanel was established on 1913-01-01., Banana Republic was established on 1978-01-01.]                     1\n",
      "[Suzuki has headquarters in Hamamatsu., Chevrolet has headquarters in Detroit.]                             1\n",
      "[Chevrolet has Louis Chevrolet as CEO., Ford Motor Company has headquarters in Ford World Headquarters.]    1\n",
      "[Isuzu Motors has headquarters in Shinagawa-ku., Mercedes-Benz has Paul Daimler as CEO.]                    1\n",
      "                                                                                                           ..\n",
      "[Lenovo has Liu Chuanzhi as CEO., Toshiba has headquarters in Minato-ku.]                                   1\n",
      "[Lenovo has headquarters in Beijing., Panasonic Corporation is a type of Electronics store.]                1\n",
      "[Lenovo has Liu Chuanzhi as CEO., Panasonic Corporation has origin country Japan.]                          1\n",
      "[Lenovo has headquarters in Beijing., LG Electronics was established on 1958-10-01.]                        1\n",
      "[Jack in the Box has Robert Oscar Peterson as CEO., Burger King was established on 1954-01-01.]             1\n",
      "Name: count, Length: 116, dtype: int64\n",
      "other_sentences\n",
      "[Telstra is a type of Telecom store., DATS petrol stations has origin country Belgium., Halliburton has Erle P. Halliburton as CEO., Public Bank Berhad has Teh Hong Piow as CEO., Barclays is a type of Bank., Total S.A. was established on 1924-03-28., Great Canadian Dollar Store was established on 1993-01-01., Freddy's Frozen Custard is a type of Restaurant., Franprix is a type of Retail store., Mango was established on 1984-01-01., Indian Oil Corporation was established on 1964-01-01., Kasikornbank has Choti Lamsam as CEO.]                         1\n",
      "[Ford Motor Company is a type of Auto showroom., Verizon was established on 1983-10-07., Adidas has origin country Germany., B&Q has David Quayle as CEO., BJ's Wholesale Club is a type of Retail store., Bloomingdale's is a type of Retail store.]                                                                                                                                                                                                                                                                                                                     1\n",
      "[UNIQLO was established on 1984-06-02., Häagen-Dazs is a type of Restaurant., Canara Bank is a type of Bank., Bank Leumi has World Zionist Organization as CEO.]                                                                                                                                                                                                                                                                                                                                                                                                          1\n",
      "[Sainsbury's has origin country United Kingdom., State Bank of India is a type of Bank., Häagen-Dazs has Reuben and Rose Mattus as CEO., Morrisons has William Morrison as CEO., Fiat has origin country Italy., Kohl's has origin country United States of America., CIMB was established on 1974-01-01.]                                                                                                                                                                                                                                                                1\n",
      "[Sysco was established on 1969-01-01., Chow Tai Fook was established on 1929-01-01., CVS Pharmacy has origin country United States of America., BB&T is a type of Bank., Bank Rakyat Indonesia has Raden Bei Aria Wirjaatmadja as CEO., Kipling was established on 1987-01-01., Massimo Dutti is a type of Apparel store.]                                                                                                                                                                                                                                                1\n",
      "                                                                                                                                                                                                                                                                                                                                                                                                                                                                                                                                                                         ..\n",
      "[Gap, Inc. is a type of Apparel store., Kasikornbank has origin country Thailand., M&T Bank was established on 1856-01-01., The Body Shop has Anita Roddick as CEO., LongHorn Steakhouse was established on 1981-01-01., SoftBank is a type of Telecom store., Massimo Dutti has origin country Spain., Hyundai Mobis has origin country South Korea., Jamba Juice is a type of Restaurant., United Overseas Bank was established on 1935-01-01., Bendigo Bank is a type of Bank., Dickies is a type of Apparel store., Jimmy Choo Ltd was established on 1996-01-01.]    1\n",
      "[China Unicom is a type of Telecom store., Bi-Mart is a type of Retail store., Nando's was established on 1987-01-01., Halkbank a.d. is a type of Bank., The Source is a type of Telecom store., Barclays has origin country United Kingdom., Shinsei Bank was established on 1952-01-01., Swedbank was established on 1997-01-01., Shoprite is a type of Retail store., Regions Financial Corporation is a type of Bank., BB&T is a type of Bank., Lamborghini was established on 1948-03-11.]                                                                           1\n",
      "[Speedway LLC was established on 1959-01-01., Banco Popular was established on 1950-06-30., Allahabad Bank is a type of Bank., Kmart has S. S. Kresge as CEO., Aston Martin is a type of Auto showroom., Oakley, Inc. is a type of Accessory store., Westpac was established on 1817-01-01.]                                                                                                                                                                                                                                                                              1\n",
      "[Volkswagen is a type of Auto showroom., au has origin country Japan., Tissot was established on 1853-01-01., Auntie Anne's is a type of Restaurant., Colruyt has Franz Colruyt as CEO., İşbank is a type of Bank., Shakey's Pizza has Sherwood Johnson as CEO., Victoria's Secret was established on 1977-01-01., Quiznos was established on 1981-01-01.]                                                                                                                                                                                                                1\n",
      "[Barneys New York has Barney Pressman as CEO., Fiat was established on 1899-07-11., Hardee's has Wilbur Hardee as CEO., Lidl was established on 1973-01-01., Prada has Mario Prada as CEO., Siam Commercial Bank was established on 1907-01-30., Goody's is a type of Restaurant., Kroger has Bernard Kroger as CEO., Del Taco was established on 1965-01-01.]                                                                                                                                                                                                            1\n",
      "Name: count, Length: 116, dtype: int64\n",
      "all_sentences\n",
      "[Nissan has Yoshisuke Aikawa as CEO., Chevrolet is a type of Auto showroom., Telstra is a type of Telecom store., DATS petrol stations has origin country Belgium., Halliburton has Erle P. Halliburton as CEO., Public Bank Berhad has Teh Hong Piow as CEO., Barclays is a type of Bank., Total S.A. was established on 1924-03-28., Great Canadian Dollar Store was established on 1993-01-01., Freddy's Frozen Custard is a type of Restaurant., Franprix is a type of Retail store., Mango was established on 1984-01-01., Indian Oil Corporation was established on 1964-01-01., Kasikornbank has Choti Lamsam as CEO.]                      1\n",
      "[Chanel was established on 1913-01-01., Banana Republic was established on 1978-01-01., Ford Motor Company is a type of Auto showroom., Verizon was established on 1983-10-07., Adidas has origin country Germany., B&Q has David Quayle as CEO., BJ's Wholesale Club is a type of Retail store., Bloomingdale's is a type of Retail store.]                                                                                                                                                                                                                                                                                                       1\n",
      "[Suzuki has headquarters in Hamamatsu., Chevrolet has headquarters in Detroit., UNIQLO was established on 1984-06-02., Häagen-Dazs is a type of Restaurant., Canara Bank is a type of Bank., Bank Leumi has World Zionist Organization as CEO.]                                                                                                                                                                                                                                                                                                                                                                                                    1\n",
      "[Chevrolet has Louis Chevrolet as CEO., Ford Motor Company has headquarters in Ford World Headquarters., Sainsbury's has origin country United Kingdom., State Bank of India is a type of Bank., Häagen-Dazs has Reuben and Rose Mattus as CEO., Morrisons has William Morrison as CEO., Fiat has origin country Italy., Kohl's has origin country United States of America., CIMB was established on 1974-01-01.]                                                                                                                                                                                                                                 1\n",
      "[Isuzu Motors has headquarters in Shinagawa-ku., Mercedes-Benz has Paul Daimler as CEO., Sysco was established on 1969-01-01., Chow Tai Fook was established on 1929-01-01., CVS Pharmacy has origin country United States of America., BB&T is a type of Bank., Bank Rakyat Indonesia has Raden Bei Aria Wirjaatmadja as CEO., Kipling was established on 1987-01-01., Massimo Dutti is a type of Apparel store.]                                                                                                                                                                                                                                 1\n",
      "                                                                                                                                                                                                                                                                                                                                                                                                                                                                                                                                                                                                                                                  ..\n",
      "[Lenovo has Liu Chuanzhi as CEO., Toshiba has headquarters in Minato-ku., Gap, Inc. is a type of Apparel store., Kasikornbank has origin country Thailand., M&T Bank was established on 1856-01-01., The Body Shop has Anita Roddick as CEO., LongHorn Steakhouse was established on 1981-01-01., SoftBank is a type of Telecom store., Massimo Dutti has origin country Spain., Hyundai Mobis has origin country South Korea., Jamba Juice is a type of Restaurant., United Overseas Bank was established on 1935-01-01., Bendigo Bank is a type of Bank., Dickies is a type of Apparel store., Jimmy Choo Ltd was established on 1996-01-01.]    1\n",
      "[Lenovo has headquarters in Beijing., Panasonic Corporation is a type of Electronics store., China Unicom is a type of Telecom store., Bi-Mart is a type of Retail store., Nando's was established on 1987-01-01., Halkbank a.d. is a type of Bank., The Source is a type of Telecom store., Barclays has origin country United Kingdom., Shinsei Bank was established on 1952-01-01., Swedbank was established on 1997-01-01., Shoprite is a type of Retail store., Regions Financial Corporation is a type of Bank., BB&T is a type of Bank., Lamborghini was established on 1948-03-11.]                                                        1\n",
      "[Lenovo has Liu Chuanzhi as CEO., Panasonic Corporation has origin country Japan., Speedway LLC was established on 1959-01-01., Banco Popular was established on 1950-06-30., Allahabad Bank is a type of Bank., Kmart has S. S. Kresge as CEO., Aston Martin is a type of Auto showroom., Oakley, Inc. is a type of Accessory store., Westpac was established on 1817-01-01.]                                                                                                                                                                                                                                                                     1\n",
      "[Lenovo has headquarters in Beijing., LG Electronics was established on 1958-10-01., Volkswagen is a type of Auto showroom., au has origin country Japan., Tissot was established on 1853-01-01., Auntie Anne's is a type of Restaurant., Colruyt has Franz Colruyt as CEO., İşbank is a type of Bank., Shakey's Pizza has Sherwood Johnson as CEO., Victoria's Secret was established on 1977-01-01., Quiznos was established on 1981-01-01.]                                                                                                                                                                                                     1\n",
      "[Jack in the Box has Robert Oscar Peterson as CEO., Burger King was established on 1954-01-01., Barneys New York has Barney Pressman as CEO., Fiat was established on 1899-07-11., Hardee's has Wilbur Hardee as CEO., Lidl was established on 1973-01-01., Prada has Mario Prada as CEO., Siam Commercial Bank was established on 1907-01-30., Goody's is a type of Restaurant., Kroger has Bernard Kroger as CEO., Del Taco was established on 1965-01-01.]                                                                                                                                                                                      1\n",
      "Name: count, Length: 116, dtype: int64\n",
      "positive_sentence_ids\n",
      "[0, 1]       96\n",
      "[0, 1, 2]    20\n",
      "Name: count, dtype: int64\n",
      "negative_sentence_ids\n",
      "[2, 3, 4, 5, 6, 7, 8, 9, 10]                    19\n",
      "[2, 3, 4, 5, 6, 7, 8]                           19\n",
      "[2, 3, 4, 5, 6, 7, 8, 9, 10, 11]                15\n",
      "[2, 3, 4, 5, 6, 7]                              14\n",
      "[2, 3, 4, 5, 6, 7, 8, 9]                         8\n",
      "[2, 3, 4, 5, 6, 7, 8, 9, 10, 11, 12]             7\n",
      "[2, 3, 4, 5, 6]                                  6\n",
      "[2, 3, 4, 5, 6, 7, 8, 9, 10, 11, 12, 13]         5\n",
      "[3, 4, 5, 6, 7, 8, 9, 10, 11]                    5\n",
      "[3, 4, 5, 6, 7, 8, 9, 10]                        3\n",
      "[3, 4, 5, 6, 7, 8, 9, 10, 11, 12, 13]            3\n",
      "[3, 4, 5, 6, 7, 8, 9]                            3\n",
      "[3, 4, 5, 6, 7, 8]                               2\n",
      "[2, 3, 4, 5, 6, 7, 8, 9, 10, 11, 12, 13, 14]     2\n",
      "[3, 4, 5, 6, 7, 8, 9, 10, 11, 12, 13, 14]        1\n",
      "[3, 4, 5]                                        1\n",
      "[2, 3, 4, 5]                                     1\n",
      "[3, 4, 5, 6, 7, 8, 9, 10, 11, 12]                1\n",
      "[3, 4, 5, 6]                                     1\n",
      "Name: count, dtype: int64\n",
      "entities\n",
      "[Q473, Q170]         3\n",
      "[Q473, Q337]         2\n",
      "[Q121, Q431]         2\n",
      "[Q68, Q200]          2\n",
      "[Q149, Q62]          2\n",
      "                    ..\n",
      "[Q393, Q241]         1\n",
      "[Q177, Q407]         1\n",
      "[Q473, Q407]         1\n",
      "[Q68, Q200, Q422]    1\n",
      "[Q155, Q11]          1\n",
      "Name: count, Length: 110, dtype: int64\n",
      "entity_titles\n",
      "[Lenovo, Panasonic Corporation]      3\n",
      "[Lenovo, LG Electronics]             2\n",
      "[JPMorgan Chase, Bank of America]    2\n",
      "[Puma SE, Adidas]                    2\n",
      "[Lukoil, Texaco]                     2\n",
      "                                    ..\n",
      "[Canon Inc., Staples Inc.]           1\n",
      "[Sony, Toshiba]                      1\n",
      "[Lenovo, Toshiba]                    1\n",
      "[Puma SE, Adidas, Nike]              1\n",
      "[Jack in the Box, Burger King]       1\n",
      "Name: count, Length: 110, dtype: int64\n"
     ]
    }
   ],
   "source": [
    "for column in columns:\n",
    "    print(updated_df[column].value_counts())"
   ]
  },
  {
   "cell_type": "code",
   "execution_count": 10,
   "id": "d3e9be33",
   "metadata": {
    "execution": {
     "iopub.execute_input": "2024-09-06T13:42:04.824078Z",
     "iopub.status.busy": "2024-09-06T13:42:04.823563Z",
     "iopub.status.idle": "2024-09-06T13:42:04.828844Z",
     "shell.execute_reply": "2024-09-06T13:42:04.827538Z"
    },
    "papermill": {
     "duration": 0.018378,
     "end_time": "2024-09-06T13:42:04.831247",
     "exception": false,
     "start_time": "2024-09-06T13:42:04.812869",
     "status": "completed"
    },
    "tags": []
   },
   "outputs": [],
   "source": [
    "# !apt-get install espeak-ng -y"
   ]
  },
  {
   "cell_type": "code",
   "execution_count": 11,
   "id": "049bc385",
   "metadata": {
    "execution": {
     "iopub.execute_input": "2024-09-06T13:42:04.851473Z",
     "iopub.status.busy": "2024-09-06T13:42:04.851028Z",
     "iopub.status.idle": "2024-09-06T13:42:04.856174Z",
     "shell.execute_reply": "2024-09-06T13:42:04.854810Z"
    },
    "papermill": {
     "duration": 0.018297,
     "end_time": "2024-09-06T13:42:04.858743",
     "exception": false,
     "start_time": "2024-09-06T13:42:04.840446",
     "status": "completed"
    },
    "tags": []
   },
   "outputs": [],
   "source": [
    "# !git clone https://github.com/coqui-ai/TTS\n",
    "# %cd TTS"
   ]
  },
  {
   "cell_type": "code",
   "execution_count": 12,
   "id": "085db60d",
   "metadata": {
    "execution": {
     "iopub.execute_input": "2024-09-06T13:42:04.879365Z",
     "iopub.status.busy": "2024-09-06T13:42:04.878956Z",
     "iopub.status.idle": "2024-09-06T13:42:04.883975Z",
     "shell.execute_reply": "2024-09-06T13:42:04.882810Z"
    },
    "papermill": {
     "duration": 0.018115,
     "end_time": "2024-09-06T13:42:04.886430",
     "exception": false,
     "start_time": "2024-09-06T13:42:04.868315",
     "status": "completed"
    },
    "scrolled": true,
    "tags": []
   },
   "outputs": [],
   "source": [
    "# !pip install -e ."
   ]
  },
  {
   "cell_type": "code",
   "execution_count": 13,
   "id": "ad964814",
   "metadata": {
    "execution": {
     "iopub.execute_input": "2024-09-06T13:42:04.907148Z",
     "iopub.status.busy": "2024-09-06T13:42:04.906584Z",
     "iopub.status.idle": "2024-09-06T13:42:04.911755Z",
     "shell.execute_reply": "2024-09-06T13:42:04.910564Z"
    },
    "papermill": {
     "duration": 0.018483,
     "end_time": "2024-09-06T13:42:04.914161",
     "exception": false,
     "start_time": "2024-09-06T13:42:04.895678",
     "status": "completed"
    },
    "tags": []
   },
   "outputs": [],
   "source": [
    "# from TTS.api import TTS\n",
    "# device = \"cuda\" if torch.cuda.is_available() else \"cpu\"\n",
    "# print(TTS().list_models())\n",
    "# print(device)"
   ]
  },
  {
   "cell_type": "code",
   "execution_count": 14,
   "id": "6527b2da",
   "metadata": {
    "execution": {
     "iopub.execute_input": "2024-09-06T13:42:04.934569Z",
     "iopub.status.busy": "2024-09-06T13:42:04.933540Z",
     "iopub.status.idle": "2024-09-06T13:42:04.938928Z",
     "shell.execute_reply": "2024-09-06T13:42:04.937762Z"
    },
    "papermill": {
     "duration": 0.01829,
     "end_time": "2024-09-06T13:42:04.941474",
     "exception": false,
     "start_time": "2024-09-06T13:42:04.923184",
     "status": "completed"
    },
    "tags": []
   },
   "outputs": [],
   "source": [
    "# tts = TTS(model_name=\"tts_models/en/ljspeech/tacotron2-DDC\", progress_bar=False).to(device)"
   ]
  },
  {
   "cell_type": "code",
   "execution_count": 15,
   "id": "e28b05e2",
   "metadata": {
    "execution": {
     "iopub.execute_input": "2024-09-06T13:42:04.961445Z",
     "iopub.status.busy": "2024-09-06T13:42:04.961009Z",
     "iopub.status.idle": "2024-09-06T13:42:04.968343Z",
     "shell.execute_reply": "2024-09-06T13:42:04.967336Z"
    },
    "papermill": {
     "duration": 0.020511,
     "end_time": "2024-09-06T13:42:04.971154",
     "exception": false,
     "start_time": "2024-09-06T13:42:04.950643",
     "status": "completed"
    },
    "tags": []
   },
   "outputs": [
    {
     "name": "stdout",
     "output_type": "stream",
     "text": [
      "/kaggle/working\n"
     ]
    }
   ],
   "source": [
    "%cd /kaggle/working"
   ]
  },
  {
   "cell_type": "code",
   "execution_count": 16,
   "id": "df32e43c",
   "metadata": {
    "execution": {
     "iopub.execute_input": "2024-09-06T13:42:04.991554Z",
     "iopub.status.busy": "2024-09-06T13:42:04.991126Z",
     "iopub.status.idle": "2024-09-06T13:42:05.057799Z",
     "shell.execute_reply": "2024-09-06T13:42:05.056549Z"
    },
    "papermill": {
     "duration": 0.079849,
     "end_time": "2024-09-06T13:42:05.060314",
     "exception": false,
     "start_time": "2024-09-06T13:42:04.980465",
     "status": "completed"
    },
    "scrolled": true,
    "tags": []
   },
   "outputs": [
    {
     "name": "stderr",
     "output_type": "stream",
     "text": [
      "Processing Sentences: 100%|██████████| 116/116 [00:00<00:00, 2587.33it/s]\n"
     ]
    }
   ],
   "source": [
    "audio_dir = 'Task_3_aud_files'\n",
    "# os.makedirs(audio_dir, exist_ok=True)\n",
    "\n",
    "df_data = []\n",
    "\n",
    "for i, entry in tqdm(updated_df.iterrows(), total=len(updated_df), desc=\"Processing Sentences\"):\n",
    "    q_id = int(entry[0])\n",
    "    question = str(entry[1])\n",
    "    ans_num = int(entry[2])\n",
    "    ans = str(entry[3])\n",
    "    pos_sent = entry[4]\n",
    "    oth_sent = entry[5]\n",
    "    all_sent = entry[6]\n",
    "    pos_sent_ids = entry[7]\n",
    "    neg_sent_ids = entry[8]\n",
    "    ent = entry[9]\n",
    "    ent_titles = entry[10]\n",
    "    sen_file_names = []\n",
    "    for j in range(len(all_sent)):\n",
    "        file_name = f'{audio_dir}/Sentence_{q_id}_{j}.wav'\n",
    "#         try:\n",
    "#             tts.tts_to_file(text=all_sent[j], file_path=file_name)\n",
    "        sen_file_names.append(file_name)\n",
    "#         except Exception as e:\n",
    "#             print(f\"Error processing sentence {j} of q_id {q_id}: {e}\")\n",
    "#             continue\n",
    "                   \n",
    "    df_data.append(\n",
    "    {\n",
    "        'QID': q_id,\n",
    "        'question': question,\n",
    "        'answer_num': ans_num,\n",
    "        'answer': ans,\n",
    "        'positive_sentences': pos_sent,\n",
    "        'other_sentences': oth_sent,\n",
    "        'all_sentences': all_sent,\n",
    "        'positive_sentence_ids': pos_sent_ids,\n",
    "        'negative_sentence_ids': neg_sent_ids,\n",
    "        'entities': ent,\n",
    "        'entity_titles': ent_titles,\n",
    "        'sentences_file_names': sen_file_names  \n",
    "    }\n",
    "    )\n",
    "                   \n",
    "\n",
    "    #     df_data.append(\n",
    "#     {\n",
    "# 'QID' : q_id,\n",
    "# 'question' :  question,     \n",
    "# 'sentence_1' : sen_1,\n",
    "# 'sentence_2' : sen_2,\n",
    "# 'sentence_1_filename' : ans,\n",
    "# 'sentence_2_filename' : sen_1_filename,\n",
    "# 'answer' : sen_2_filename,            \n",
    "# 'entities' : ent,                            \n",
    "# 'entity_titles' : ent_titles,\n",
    "#     }\n",
    "#     )\n",
    "#         continue\n",
    "#     sen_1 = str(entry[2])\n",
    "#     sen_2 = str(entry[3])\n",
    "#     ans = str(entry[4])\n",
    "#     sen_1_filename = f'{audio_dir}/Sentence_{q_id}_1.wav'\n",
    "#     sen_2_filename = f'{audio_dir}/Sentence_{q_id}_2.wav'\n",
    "#     ent = str(entry[5])\n",
    "#     ent_titles = (entry[6])\n",
    "    \n",
    "\n",
    "# QID                                                                      0\n",
    "# question                                         How many stores sell car?\n",
    "# answer_num                                                               2\n",
    "# answer                                                                 Two\n",
    "# positive_sentences       [Nissan has Yoshisuke Aikawa as CEO., Chevrole...\n",
    "# other_sentences          [Telstra is a type of Telecom store., DATS pet...\n",
    "# all_sentences            [Nissan has Yoshisuke Aikawa as CEO., Chevrole...\n",
    "# positive_sentence_ids                                               [0, 1]\n",
    "# negative_sentence_ids             [2, 3, 4, 5, 6, 7, 8, 9, 10, 11, 12, 13]\n",
    "# entities                                                      [Q242, Q392]\n",
    "# entity_titles                                          [Nissan, Chevrolet]\n",
    "#     if i < 1:\n",
    "#         print(entry)\n",
    "    \n",
    "#     df_data.append(\n",
    "#     {\n",
    "# 'QID' : q_id,\n",
    "# 'question' :  question,     \n",
    "# 'sentence_1' : sen_1,\n",
    "# 'sentence_2' : sen_2,\n",
    "# 'sentence_1_filename' : ans,\n",
    "# 'sentence_2_filename' : sen_1_filename,\n",
    "# 'answer' : sen_2_filename,            \n",
    "# 'entities' : ent,                            \n",
    "# 'entity_titles' : ent_titles,\n",
    "#     }\n",
    "#     )\n",
    "    \n",
    "#     print(entry)\n",
    "#     try:\n",
    "#         tts.tts_to_file(text=sen_1, file_path=sen_1_filename)\n",
    "#     except Exception as e:\n",
    "#         print(f\"Error processing sentence 1 of q_id {q_id}: {e}\")\n",
    "#         continue    \n",
    "    \n",
    "#     try:\n",
    "#         tts.tts_to_file(text=sen_2, file_path=sen_2_filename)\n",
    "#     except Exception as e:\n",
    "#         print(f\"Error processing sentence 2 of q_id {q_id}: {e}\")\n",
    "#         continue\n",
    "#         print(\"break\")\n",
    "\n",
    "#     try:\n",
    "#         tts.tts_to_file(text=text_up, file_path=wav_filename)\n",
    "#     except Exception as e:\n",
    "#         print(f\"Error processing entity {link}: {e}\")\n",
    "#         continue\n",
    "    \n",
    "#     print(entry)\n",
    "#     time.sleep(0.5)\n",
    "#     print(text_up)\n",
    "#     wav_filename = f'entity_aud_files/Entity_{link}.wav'\n",
    "    \n",
    "#     try:\n",
    "#         tts.tts_to_file(text=text_up, file_path=wav_filename)\n",
    "#     except Exception as e:\n",
    "#         print(f\"Error processing entity {link}: {e}\")\n",
    "#         continue\n",
    "    \n",
    "#     df_data.append({\n",
    "#         'ID': link,\n",
    "#         'entity_name': text_up,\n",
    "#         'wav_addr': wav_filename\n",
    "#     })\n",
    "\n",
    "# Task_2_df = pd.DataFrame(df_data)"
   ]
  },
  {
   "cell_type": "code",
   "execution_count": 17,
   "id": "37372825",
   "metadata": {
    "execution": {
     "iopub.execute_input": "2024-09-06T13:42:05.081684Z",
     "iopub.status.busy": "2024-09-06T13:42:05.080689Z",
     "iopub.status.idle": "2024-09-06T13:42:05.088480Z",
     "shell.execute_reply": "2024-09-06T13:42:05.087119Z"
    },
    "papermill": {
     "duration": 0.02123,
     "end_time": "2024-09-06T13:42:05.091265",
     "exception": false,
     "start_time": "2024-09-06T13:42:05.070035",
     "status": "completed"
    },
    "tags": []
   },
   "outputs": [],
   "source": [
    "Task_3_df = pd.DataFrame(df_data)"
   ]
  },
  {
   "cell_type": "code",
   "execution_count": 18,
   "id": "3bb294ae",
   "metadata": {
    "execution": {
     "iopub.execute_input": "2024-09-06T13:42:05.112356Z",
     "iopub.status.busy": "2024-09-06T13:42:05.111527Z",
     "iopub.status.idle": "2024-09-06T13:42:05.133853Z",
     "shell.execute_reply": "2024-09-06T13:42:05.132241Z"
    },
    "papermill": {
     "duration": 0.036745,
     "end_time": "2024-09-06T13:42:05.137460",
     "exception": false,
     "start_time": "2024-09-06T13:42:05.100715",
     "status": "completed"
    },
    "tags": []
   },
   "outputs": [],
   "source": [
    "Task_3_df.to_csv('Task_3_data.csv')"
   ]
  },
  {
   "cell_type": "code",
   "execution_count": 19,
   "id": "b16290f2",
   "metadata": {
    "execution": {
     "iopub.execute_input": "2024-09-06T13:42:05.164705Z",
     "iopub.status.busy": "2024-09-06T13:42:05.164281Z",
     "iopub.status.idle": "2024-09-06T13:42:05.169820Z",
     "shell.execute_reply": "2024-09-06T13:42:05.168466Z"
    },
    "papermill": {
     "duration": 0.023653,
     "end_time": "2024-09-06T13:42:05.173185",
     "exception": false,
     "start_time": "2024-09-06T13:42:05.149532",
     "status": "completed"
    },
    "tags": []
   },
   "outputs": [],
   "source": [
    "# QID                                                                      0\n",
    "# question                                         How many stores sell car?\n",
    "# answer_num                                                               2\n",
    "# answer                                                                 Two\n",
    "# positive_sentences       [Nissan has Yoshisuke Aikawa as CEO., Chevrole...\n",
    "# other_sentences          [Telstra is a type of Telecom store., DATS pet...\n",
    "# all_sentences            [Nissan has Yoshisuke Aikawa as CEO., Chevrole...\n",
    "# positive_sentence_ids                                               [0, 1]\n",
    "# negative_sentence_ids             [2, 3, 4, 5, 6, 7, 8, 9, 10, 11, 12, 13]\n",
    "# entities                                                      [Q242, Q392]\n",
    "# entity_titles                                          [Nissan, Chevrolet]"
   ]
  },
  {
   "cell_type": "code",
   "execution_count": 20,
   "id": "c42d937f",
   "metadata": {
    "execution": {
     "iopub.execute_input": "2024-09-06T13:42:05.198576Z",
     "iopub.status.busy": "2024-09-06T13:42:05.198152Z",
     "iopub.status.idle": "2024-09-06T13:42:06.411433Z",
     "shell.execute_reply": "2024-09-06T13:42:06.409873Z"
    },
    "papermill": {
     "duration": 1.228101,
     "end_time": "2024-09-06T13:42:06.414659",
     "exception": false,
     "start_time": "2024-09-06T13:42:05.186558",
     "status": "completed"
    },
    "scrolled": true,
    "tags": []
   },
   "outputs": [
    {
     "name": "stdout",
     "output_type": "stream",
     "text": [
      "\tzip warning: name not matched: /kaggle/working/Task_3_aud_files\r\n",
      "\r\n",
      "zip error: Nothing to do! (try: zip -r Task_3_aud_files.zip . -i /kaggle/working/Task_3_aud_files)\r\n"
     ]
    }
   ],
   "source": [
    "!zip -r Task_3_aud_files.zip /kaggle/working/Task_3_aud_files"
   ]
  },
  {
   "cell_type": "code",
   "execution_count": 21,
   "id": "a09408da",
   "metadata": {
    "execution": {
     "iopub.execute_input": "2024-09-06T13:42:06.437889Z",
     "iopub.status.busy": "2024-09-06T13:42:06.437343Z",
     "iopub.status.idle": "2024-09-06T13:42:06.448982Z",
     "shell.execute_reply": "2024-09-06T13:42:06.447671Z"
    },
    "papermill": {
     "duration": 0.026829,
     "end_time": "2024-09-06T13:42:06.451914",
     "exception": false,
     "start_time": "2024-09-06T13:42:06.425085",
     "status": "completed"
    },
    "tags": []
   },
   "outputs": [
    {
     "data": {
      "text/html": [
       "Path (<tt>Task_3_aud_files.zip</tt>) doesn't exist. It may still be in the process of being generated, or you may have the incorrect path."
      ],
      "text/plain": [
       "/kaggle/working/Task_3_aud_files.zip"
      ]
     },
     "execution_count": 21,
     "metadata": {},
     "output_type": "execute_result"
    }
   ],
   "source": [
    "from IPython.display import FileLink\n",
    "FileLink(r'Task_3_aud_files.zip')"
   ]
  },
  {
   "cell_type": "code",
   "execution_count": null,
   "id": "8d6c237d",
   "metadata": {
    "papermill": {
     "duration": 0.01005,
     "end_time": "2024-09-06T13:42:06.471949",
     "exception": false,
     "start_time": "2024-09-06T13:42:06.461899",
     "status": "completed"
    },
    "tags": []
   },
   "outputs": [],
   "source": []
  }
 ],
 "metadata": {
  "kaggle": {
   "accelerator": "none",
   "dataSources": [
    {
     "datasetId": 5543066,
     "sourceId": 9333191,
     "sourceType": "datasetVersion"
    }
   ],
   "dockerImageVersionId": 30762,
   "isGpuEnabled": false,
   "isInternetEnabled": true,
   "language": "python",
   "sourceType": "notebook"
  },
  "kernelspec": {
   "display_name": "Python 3",
   "language": "python",
   "name": "python3"
  },
  "language_info": {
   "codemirror_mode": {
    "name": "ipython",
    "version": 3
   },
   "file_extension": ".py",
   "mimetype": "text/x-python",
   "name": "python",
   "nbconvert_exporter": "python",
   "pygments_lexer": "ipython3",
   "version": "3.10.14"
  },
  "papermill": {
   "default_parameters": {},
   "duration": 12.174137,
   "end_time": "2024-09-06T13:42:07.706975",
   "environment_variables": {},
   "exception": null,
   "input_path": "__notebook__.ipynb",
   "output_path": "__notebook__.ipynb",
   "parameters": {},
   "start_time": "2024-09-06T13:41:55.532838",
   "version": "2.6.0"
  }
 },
 "nbformat": 4,
 "nbformat_minor": 5
}
