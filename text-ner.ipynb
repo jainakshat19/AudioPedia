{
 "cells": [
  {
   "cell_type": "code",
   "execution_count": 1,
   "id": "a39a952b",
   "metadata": {
    "_cell_guid": "b1076dfc-b9ad-4769-8c92-a6c4dae69d19",
    "_uuid": "8f2839f25d086af736a60e9eeb907d3b93b6e0e5",
    "execution": {
     "iopub.execute_input": "2024-09-03T17:54:30.310040Z",
     "iopub.status.busy": "2024-09-03T17:54:30.309416Z",
     "iopub.status.idle": "2024-09-03T17:54:30.984264Z",
     "shell.execute_reply": "2024-09-03T17:54:30.983434Z"
    },
    "papermill": {
     "duration": 0.684473,
     "end_time": "2024-09-03T17:54:30.986629",
     "exception": false,
     "start_time": "2024-09-03T17:54:30.302156",
     "status": "completed"
    },
    "tags": []
   },
   "outputs": [],
   "source": [
    "# This Python 3 environment comes with many helpful analytics libraries installed\n",
    "# It is defined by the kaggle/python Docker image: https://github.com/kaggle/docker-python\n",
    "# For example, here's several helpful packages to load\n",
    "\n",
    "import numpy as np # linear algebra\n",
    "import pandas as pd # data processing, CSV file I/O (e.g. pd.read_csv)\n",
    "\n",
    "# Input data files are available in the read-only \"../input/\" directory\n",
    "# For example, running this (by clicking run or pressing Shift+Enter) will list all files under the input directory\n",
    "\n",
    "import os\n",
    "# You can write up to 20GB to the current directory (/kaggle/working/) that gets preserved as output when you create a version using \"Save & Run All\" \n",
    "# You can also write temporary files to /kaggle/temp/, but they won't be saved outside of the current session"
   ]
  },
  {
   "cell_type": "code",
   "execution_count": 2,
   "id": "1bcf492c",
   "metadata": {
    "execution": {
     "iopub.execute_input": "2024-09-03T17:54:30.999177Z",
     "iopub.status.busy": "2024-09-03T17:54:30.998764Z",
     "iopub.status.idle": "2024-09-03T17:54:36.871551Z",
     "shell.execute_reply": "2024-09-03T17:54:36.870563Z"
    },
    "papermill": {
     "duration": 5.881388,
     "end_time": "2024-09-03T17:54:36.873955",
     "exception": false,
     "start_time": "2024-09-03T17:54:30.992567",
     "status": "completed"
    },
    "tags": []
   },
   "outputs": [],
   "source": [
    "import torch\n",
    "from torch.utils.data import DataLoader, Dataset, random_split\n",
    "from torch.nn.utils.rnn import pad_sequence\n",
    "from transformers import RobertaForTokenClassification, RobertaTokenizerFast\n",
    "from torch.optim import AdamW\n",
    "from sklearn.metrics import accuracy_score\n",
    "from tqdm import tqdm\n",
    "import numpy as np\n",
    "import json"
   ]
  },
  {
   "cell_type": "code",
   "execution_count": 3,
   "id": "1e5a41e8",
   "metadata": {
    "execution": {
     "iopub.execute_input": "2024-09-03T17:54:36.885980Z",
     "iopub.status.busy": "2024-09-03T17:54:36.885493Z",
     "iopub.status.idle": "2024-09-03T17:54:42.082618Z",
     "shell.execute_reply": "2024-09-03T17:54:42.081474Z"
    },
    "papermill": {
     "duration": 5.205316,
     "end_time": "2024-09-03T17:54:42.084818",
     "exception": false,
     "start_time": "2024-09-03T17:54:36.879502",
     "status": "completed"
    },
    "tags": []
   },
   "outputs": [
    {
     "data": {
      "application/vnd.jupyter.widget-view+json": {
       "model_id": "7012a0b87e254e2899d6bd5ac7aaae1b",
       "version_major": 2,
       "version_minor": 0
      },
      "text/plain": [
       "tokenizer_config.json:   0%|          | 0.00/25.0 [00:00<?, ?B/s]"
      ]
     },
     "metadata": {},
     "output_type": "display_data"
    },
    {
     "data": {
      "application/vnd.jupyter.widget-view+json": {
       "model_id": "59563fe39e8640d0a504c4b705c9a4e4",
       "version_major": 2,
       "version_minor": 0
      },
      "text/plain": [
       "vocab.json:   0%|          | 0.00/899k [00:00<?, ?B/s]"
      ]
     },
     "metadata": {},
     "output_type": "display_data"
    },
    {
     "data": {
      "application/vnd.jupyter.widget-view+json": {
       "model_id": "7d23a7e34c494c98b5b587d2f1c3e0c5",
       "version_major": 2,
       "version_minor": 0
      },
      "text/plain": [
       "merges.txt:   0%|          | 0.00/456k [00:00<?, ?B/s]"
      ]
     },
     "metadata": {},
     "output_type": "display_data"
    },
    {
     "data": {
      "application/vnd.jupyter.widget-view+json": {
       "model_id": "88ab929990144f1a80377866f2d82d56",
       "version_major": 2,
       "version_minor": 0
      },
      "text/plain": [
       "tokenizer.json:   0%|          | 0.00/1.36M [00:00<?, ?B/s]"
      ]
     },
     "metadata": {},
     "output_type": "display_data"
    },
    {
     "data": {
      "application/vnd.jupyter.widget-view+json": {
       "model_id": "81003a0896774bf2b3b9a521f0da7c45",
       "version_major": 2,
       "version_minor": 0
      },
      "text/plain": [
       "config.json:   0%|          | 0.00/481 [00:00<?, ?B/s]"
      ]
     },
     "metadata": {},
     "output_type": "display_data"
    },
    {
     "name": "stderr",
     "output_type": "stream",
     "text": [
      "/opt/conda/lib/python3.10/site-packages/transformers/tokenization_utils_base.py:1601: FutureWarning: `clean_up_tokenization_spaces` was not set. It will be set to `True` by default. This behavior will be depracted in transformers v4.45, and will be then set to `False` by default. For more details check this issue: https://github.com/huggingface/transformers/issues/31884\n",
      "  warnings.warn(\n"
     ]
    },
    {
     "data": {
      "application/vnd.jupyter.widget-view+json": {
       "model_id": "149a27ff76564bd981613fa3d8a37ce5",
       "version_major": 2,
       "version_minor": 0
      },
      "text/plain": [
       "model.safetensors:   0%|          | 0.00/499M [00:00<?, ?B/s]"
      ]
     },
     "metadata": {},
     "output_type": "display_data"
    },
    {
     "name": "stderr",
     "output_type": "stream",
     "text": [
      "Some weights of RobertaForTokenClassification were not initialized from the model checkpoint at roberta-base and are newly initialized: ['classifier.bias', 'classifier.weight']\n",
      "You should probably TRAIN this model on a down-stream task to be able to use it for predictions and inference.\n"
     ]
    },
    {
     "name": "stdout",
     "output_type": "stream",
     "text": [
      "Model Loaded and Base Model Frozen\n"
     ]
    }
   ],
   "source": [
    "# Check if CUDA is available\n",
    "device = torch.device(\"cuda\" if torch.cuda.is_available() else \"cpu\")\n",
    "\n",
    "# Assume the dataframes are read from CSV files\n",
    "entity_df = pd.read_csv('/kaggle/input/business-json/Knowledge.csv')\n",
    "sentences_df = pd.read_csv('/kaggle/input/business-json/Test (1).csv')\n",
    "\n",
    "# Load the fast tokenizer\n",
    "tokenizer = RobertaTokenizerFast.from_pretrained('roberta-base')\n",
    "\n",
    "# Load model\n",
    "model = RobertaForTokenClassification.from_pretrained('roberta-base', num_labels=4)\n",
    "model.to(device)  # Move the model to the GPU if available\n",
    "\n",
    "# Freeze all the parameters except the classification head\n",
    "for param in model.base_model.parameters():\n",
    "    param.requires_grad = False\n",
    "\n",
    "# Set the model to evaluation mode (optional, only if you are evaluating)\n",
    "model.eval()\n",
    "\n",
    "print(\"Model Loaded and Base Model Frozen\")"
   ]
  },
  {
   "cell_type": "code",
   "execution_count": 4,
   "id": "bca2103d",
   "metadata": {
    "execution": {
     "iopub.execute_input": "2024-09-03T17:54:42.100426Z",
     "iopub.status.busy": "2024-09-03T17:54:42.100102Z",
     "iopub.status.idle": "2024-09-03T17:54:42.177008Z",
     "shell.execute_reply": "2024-09-03T17:54:42.176249Z"
    },
    "papermill": {
     "duration": 0.087215,
     "end_time": "2024-09-03T17:54:42.178882",
     "exception": false,
     "start_time": "2024-09-03T17:54:42.091667",
     "status": "completed"
    },
    "tags": []
   },
   "outputs": [],
   "source": [
    "import ast\n",
    "\n",
    "class NERDataset(Dataset):\n",
    "    def __init__(self, sentences_df, tokenizer):\n",
    "        self.sentences = sentences_df['text'].tolist()\n",
    "        self.entities = [self.parse_entities(e) for e in sentences_df['entities'].tolist()]\n",
    "        self.tokenizer = tokenizer\n",
    "        self.ids = sentences_df['sentence_id'].tolist()\n",
    "    def parse_entities(self, entity_str):\n",
    "        # Convert the string representation of the list to an actual list\n",
    "        entity_list = ast.literal_eval(entity_str)\n",
    "        # Remove extra double quotes from mentions\n",
    "        for entity in entity_list:\n",
    "            entity['mention'] = entity['mention'].replace('\"\"', '\"').strip('\"')\n",
    "        return entity_list\n",
    "\n",
    "    def __len__(self):\n",
    "        return len(self.sentences)\n",
    "\n",
    "    def __getitem__(self, idx):\n",
    "        sentence = self.sentences[idx]\n",
    "        entities = self.entities[idx]\n",
    "        sentence_id = self.ids[idx]\n",
    "        tokens = self.tokenizer(sentence, return_offsets_mapping=True, truncation=True, max_length=24)\n",
    "\n",
    "        input_ids = tokens['input_ids']\n",
    "        attention_mask = tokens['attention_mask']\n",
    "        offset_mapping = tokens['offset_mapping']\n",
    "\n",
    "        labels = np.zeros(len(input_ids))\n",
    "\n",
    "        for entity in entities:\n",
    "            mention = entity['mention']\n",
    "            start_idx = sentence.find(mention)\n",
    "            if start_idx == -1:\n",
    "                continue\n",
    "            end_idx = start_idx + len(mention)\n",
    "\n",
    "            for i, (start, end) in enumerate(offset_mapping):\n",
    "                if start <= start_idx < end:\n",
    "                    labels[i] = 1  # B-Entity\n",
    "                if start < end_idx <= end:\n",
    "                    labels[i] = 2  # I-Entity\n",
    "\n",
    "        return {\n",
    "            'input_ids': torch.tensor(input_ids),\n",
    "            'attention_mask': torch.tensor(attention_mask),\n",
    "            'labels': torch.tensor(labels, dtype=torch.long),\n",
    "            'sentence_id': sentence_id\n",
    "        }\n",
    "    \n",
    "    \n",
    "def collate_fn(batch):\n",
    "    input_ids = [item['input_ids'] for item in batch]\n",
    "    attention_mask = [item['attention_mask'] for item in batch]\n",
    "    labels = [item['labels'] for item in batch]\n",
    "    sentence_ids = [item['sentence_id'] for item in batch]\n",
    "    # Pad sequences to the same length\n",
    "    input_ids_padded = pad_sequence(input_ids, batch_first=True, padding_value=tokenizer.pad_token_id)\n",
    "    attention_mask_padded = pad_sequence(attention_mask, batch_first=True, padding_value=0)\n",
    "    labels_padded = pad_sequence(labels, batch_first=True, padding_value=-100)  # Ignore index for labels\n",
    "\n",
    "    return {\n",
    "        'input_ids': input_ids_padded,\n",
    "        'attention_mask': attention_mask_padded,\n",
    "        'labels': labels_padded,\n",
    "        'sentence_id': sentence_ids\n",
    "    }\n",
    "\n",
    "\n",
    "\n",
    "# Create dataset and dataloader\n",
    "dataset = NERDataset(sentences_df, tokenizer)\n",
    "# Update your DataLoader to use the custom collate function\n",
    "dataloader = DataLoader(dataset, batch_size=16, collate_fn=collate_fn)\n",
    "\n",
    "# Split the dataset into train and validation sets (80:20)\n",
    "train_size = int(0.2 * len(dataset))\n",
    "val_size = len(dataset) - train_size\n",
    "train_dataset, val_dataset = random_split(dataset, [train_size, val_size])\n",
    "\n",
    "# Create DataLoader objects for training and validation\n",
    "train_loader = DataLoader(train_dataset, batch_size=8, shuffle=True, collate_fn=collate_fn)\n",
    "val_loader = DataLoader(val_dataset, batch_size=8, shuffle=False, collate_fn=collate_fn)\n"
   ]
  },
  {
   "cell_type": "code",
   "execution_count": 5,
   "id": "fa54142f",
   "metadata": {
    "execution": {
     "iopub.execute_input": "2024-09-03T17:54:42.192999Z",
     "iopub.status.busy": "2024-09-03T17:54:42.192655Z",
     "iopub.status.idle": "2024-09-03T17:54:42.807816Z",
     "shell.execute_reply": "2024-09-03T17:54:42.806455Z"
    },
    "papermill": {
     "duration": 0.626015,
     "end_time": "2024-09-03T17:54:42.811344",
     "exception": false,
     "start_time": "2024-09-03T17:54:42.185329",
     "status": "completed"
    },
    "tags": []
   },
   "outputs": [],
   "source": [
    "optimizer = AdamW(model.parameters(), lr=3e-5)\n",
    "\n",
    "def train_epoch(model, dataloader, optimizer, device):\n",
    "    model.train()\n",
    "    total_loss = 0\n",
    "    for batch in tqdm(dataloader):\n",
    "        input_ids = batch['input_ids'].to(device)\n",
    "        attention_mask = batch['attention_mask'].to(device)\n",
    "        labels = batch['labels'].to(device)\n",
    "\n",
    "        outputs = model(input_ids=input_ids, attention_mask=attention_mask, labels=labels)\n",
    "        loss = outputs.loss\n",
    "\n",
    "        optimizer.zero_grad()\n",
    "        loss.backward()\n",
    "        optimizer.step()\n",
    "\n",
    "        total_loss += loss.item()\n",
    "\n",
    "    return total_loss / len(dataloader)\n",
    "\n",
    "def eval_epoch(model, dataloader, device):\n",
    "    model.eval()\n",
    "    total_loss = 0\n",
    "    with torch.no_grad():\n",
    "        for batch in tqdm(dataloader):\n",
    "            input_ids = batch['input_ids'].to(device)\n",
    "            attention_mask = batch['attention_mask'].to(device)\n",
    "            labels = batch['labels'].to(device)\n",
    "\n",
    "            outputs = model(input_ids=input_ids, attention_mask=attention_mask, labels=labels)\n",
    "            loss = outputs.loss\n",
    "\n",
    "            total_loss += loss.item()\n",
    "\n",
    "    return total_loss / len(dataloader)\n"
   ]
  },
  {
   "cell_type": "code",
   "execution_count": 6,
   "id": "30b9a946",
   "metadata": {
    "execution": {
     "iopub.execute_input": "2024-09-03T17:54:42.825889Z",
     "iopub.status.busy": "2024-09-03T17:54:42.825394Z",
     "iopub.status.idle": "2024-09-03T18:12:22.426049Z",
     "shell.execute_reply": "2024-09-03T18:12:22.424962Z"
    },
    "papermill": {
     "duration": 1059.609957,
     "end_time": "2024-09-03T18:12:22.428123",
     "exception": false,
     "start_time": "2024-09-03T17:54:42.818166",
     "status": "completed"
    },
    "scrolled": true,
    "tags": []
   },
   "outputs": [
    {
     "name": "stdout",
     "output_type": "stream",
     "text": [
      "Epoch 1/250\n"
     ]
    },
    {
     "name": "stderr",
     "output_type": "stream",
     "text": [
      "100%|██████████| 66/66 [00:01<00:00, 42.15it/s]\n",
      "100%|██████████| 263/263 [00:03<00:00, 78.53it/s]\n"
     ]
    },
    {
     "name": "stdout",
     "output_type": "stream",
     "text": [
      "Training Loss: 1.33184126\n",
      "Validation Loss: 1.26747587\n",
      "Epoch 2/250\n"
     ]
    },
    {
     "name": "stderr",
     "output_type": "stream",
     "text": [
      "100%|██████████| 66/66 [00:00<00:00, 69.99it/s]\n",
      "100%|██████████| 263/263 [00:03<00:00, 76.09it/s]\n"
     ]
    },
    {
     "name": "stdout",
     "output_type": "stream",
     "text": [
      "Training Loss: 1.22926654\n",
      "Validation Loss: 1.17216372\n",
      "Epoch 3/250\n"
     ]
    },
    {
     "name": "stderr",
     "output_type": "stream",
     "text": [
      "100%|██████████| 66/66 [00:01<00:00, 63.63it/s]\n",
      "100%|██████████| 263/263 [00:03<00:00, 80.66it/s]\n"
     ]
    },
    {
     "name": "stdout",
     "output_type": "stream",
     "text": [
      "Training Loss: 1.13881831\n",
      "Validation Loss: 1.08875397\n",
      "Epoch 4/250\n"
     ]
    },
    {
     "name": "stderr",
     "output_type": "stream",
     "text": [
      "100%|██████████| 66/66 [00:00<00:00, 68.65it/s]\n",
      "100%|██████████| 263/263 [00:03<00:00, 79.51it/s]\n"
     ]
    },
    {
     "name": "stdout",
     "output_type": "stream",
     "text": [
      "Training Loss: 1.06266198\n",
      "Validation Loss: 1.01578463\n",
      "Epoch 5/250\n"
     ]
    },
    {
     "name": "stderr",
     "output_type": "stream",
     "text": [
      "100%|██████████| 66/66 [00:00<00:00, 70.50it/s]\n",
      "100%|██████████| 263/263 [00:03<00:00, 81.45it/s]\n"
     ]
    },
    {
     "name": "stdout",
     "output_type": "stream",
     "text": [
      "Training Loss: 0.99892787\n",
      "Validation Loss: 0.95227906\n",
      "Epoch 6/250\n"
     ]
    },
    {
     "name": "stderr",
     "output_type": "stream",
     "text": [
      "100%|██████████| 66/66 [00:00<00:00, 70.06it/s]\n",
      "100%|██████████| 263/263 [00:03<00:00, 80.67it/s]\n"
     ]
    },
    {
     "name": "stdout",
     "output_type": "stream",
     "text": [
      "Training Loss: 0.93671904\n",
      "Validation Loss: 0.89702715\n",
      "Epoch 7/250\n"
     ]
    },
    {
     "name": "stderr",
     "output_type": "stream",
     "text": [
      "100%|██████████| 66/66 [00:00<00:00, 69.68it/s]\n",
      "100%|██████████| 263/263 [00:03<00:00, 81.59it/s]\n"
     ]
    },
    {
     "name": "stdout",
     "output_type": "stream",
     "text": [
      "Training Loss: 0.88758793\n",
      "Validation Loss: 0.84898366\n",
      "Epoch 8/250\n"
     ]
    },
    {
     "name": "stderr",
     "output_type": "stream",
     "text": [
      "100%|██████████| 66/66 [00:00<00:00, 70.56it/s]\n",
      "100%|██████████| 263/263 [00:03<00:00, 80.87it/s]\n"
     ]
    },
    {
     "name": "stdout",
     "output_type": "stream",
     "text": [
      "Training Loss: 0.84581091\n",
      "Validation Loss: 0.80747207\n",
      "Epoch 9/250\n"
     ]
    },
    {
     "name": "stderr",
     "output_type": "stream",
     "text": [
      "100%|██████████| 66/66 [00:00<00:00, 68.98it/s]\n",
      "100%|██████████| 263/263 [00:03<00:00, 81.63it/s]\n"
     ]
    },
    {
     "name": "stdout",
     "output_type": "stream",
     "text": [
      "Training Loss: 0.80803145\n",
      "Validation Loss: 0.77115602\n",
      "Epoch 10/250\n"
     ]
    },
    {
     "name": "stderr",
     "output_type": "stream",
     "text": [
      "100%|██████████| 66/66 [00:00<00:00, 70.59it/s]\n",
      "100%|██████████| 263/263 [00:03<00:00, 80.49it/s]\n"
     ]
    },
    {
     "name": "stdout",
     "output_type": "stream",
     "text": [
      "Training Loss: 0.77484990\n",
      "Validation Loss: 0.73916291\n",
      "Epoch 11/250\n"
     ]
    },
    {
     "name": "stderr",
     "output_type": "stream",
     "text": [
      "100%|██████████| 66/66 [00:00<00:00, 70.37it/s]\n",
      "100%|██████████| 263/263 [00:03<00:00, 80.71it/s]\n"
     ]
    },
    {
     "name": "stdout",
     "output_type": "stream",
     "text": [
      "Training Loss: 0.75002584\n",
      "Validation Loss: 0.71087701\n",
      "Epoch 12/250\n"
     ]
    },
    {
     "name": "stderr",
     "output_type": "stream",
     "text": [
      "100%|██████████| 66/66 [00:00<00:00, 68.26it/s]\n",
      "100%|██████████| 263/263 [00:03<00:00, 80.57it/s]\n"
     ]
    },
    {
     "name": "stdout",
     "output_type": "stream",
     "text": [
      "Training Loss: 0.71831906\n",
      "Validation Loss: 0.68541886\n",
      "Epoch 13/250\n"
     ]
    },
    {
     "name": "stderr",
     "output_type": "stream",
     "text": [
      "100%|██████████| 66/66 [00:00<00:00, 67.56it/s]\n",
      "100%|██████████| 263/263 [00:03<00:00, 79.67it/s]\n"
     ]
    },
    {
     "name": "stdout",
     "output_type": "stream",
     "text": [
      "Training Loss: 0.69284213\n",
      "Validation Loss: 0.66241509\n",
      "Epoch 14/250\n"
     ]
    },
    {
     "name": "stderr",
     "output_type": "stream",
     "text": [
      "100%|██████████| 66/66 [00:00<00:00, 69.14it/s]\n",
      "100%|██████████| 263/263 [00:03<00:00, 80.12it/s]\n"
     ]
    },
    {
     "name": "stdout",
     "output_type": "stream",
     "text": [
      "Training Loss: 0.67354365\n",
      "Validation Loss: 0.64158914\n",
      "Epoch 15/250\n"
     ]
    },
    {
     "name": "stderr",
     "output_type": "stream",
     "text": [
      "100%|██████████| 66/66 [00:00<00:00, 69.83it/s]\n",
      "100%|██████████| 263/263 [00:03<00:00, 79.90it/s]\n"
     ]
    },
    {
     "name": "stdout",
     "output_type": "stream",
     "text": [
      "Training Loss: 0.64906042\n",
      "Validation Loss: 0.62250671\n",
      "Epoch 16/250\n"
     ]
    },
    {
     "name": "stderr",
     "output_type": "stream",
     "text": [
      "100%|██████████| 66/66 [00:00<00:00, 69.82it/s]\n",
      "100%|██████████| 263/263 [00:03<00:00, 80.55it/s]\n"
     ]
    },
    {
     "name": "stdout",
     "output_type": "stream",
     "text": [
      "Training Loss: 0.63495774\n",
      "Validation Loss: 0.60486080\n",
      "Epoch 17/250\n"
     ]
    },
    {
     "name": "stderr",
     "output_type": "stream",
     "text": [
      "100%|██████████| 66/66 [00:00<00:00, 69.12it/s]\n",
      "100%|██████████| 263/263 [00:03<00:00, 80.53it/s]\n"
     ]
    },
    {
     "name": "stdout",
     "output_type": "stream",
     "text": [
      "Training Loss: 0.62091618\n",
      "Validation Loss: 0.58835020\n",
      "Epoch 18/250\n"
     ]
    },
    {
     "name": "stderr",
     "output_type": "stream",
     "text": [
      "100%|██████████| 66/66 [00:00<00:00, 71.36it/s]\n",
      "100%|██████████| 263/263 [00:03<00:00, 81.54it/s]\n"
     ]
    },
    {
     "name": "stdout",
     "output_type": "stream",
     "text": [
      "Training Loss: 0.60246176\n",
      "Validation Loss: 0.57287318\n",
      "Epoch 19/250\n"
     ]
    },
    {
     "name": "stderr",
     "output_type": "stream",
     "text": [
      "100%|██████████| 66/66 [00:00<00:00, 71.96it/s]\n",
      "100%|██████████| 263/263 [00:03<00:00, 80.04it/s]\n"
     ]
    },
    {
     "name": "stdout",
     "output_type": "stream",
     "text": [
      "Training Loss: 0.58557901\n",
      "Validation Loss: 0.55828463\n",
      "Epoch 20/250\n"
     ]
    },
    {
     "name": "stderr",
     "output_type": "stream",
     "text": [
      "100%|██████████| 66/66 [00:00<00:00, 67.46it/s]\n",
      "100%|██████████| 263/263 [00:03<00:00, 81.06it/s]\n"
     ]
    },
    {
     "name": "stdout",
     "output_type": "stream",
     "text": [
      "Training Loss: 0.56731397\n",
      "Validation Loss: 0.54447654\n",
      "Epoch 21/250\n"
     ]
    },
    {
     "name": "stderr",
     "output_type": "stream",
     "text": [
      "100%|██████████| 66/66 [00:00<00:00, 70.15it/s]\n",
      "100%|██████████| 263/263 [00:03<00:00, 81.00it/s]\n"
     ]
    },
    {
     "name": "stdout",
     "output_type": "stream",
     "text": [
      "Training Loss: 0.56222007\n",
      "Validation Loss: 0.53141469\n",
      "Epoch 22/250\n"
     ]
    },
    {
     "name": "stderr",
     "output_type": "stream",
     "text": [
      "100%|██████████| 66/66 [00:00<00:00, 70.76it/s]\n",
      "100%|██████████| 263/263 [00:03<00:00, 79.91it/s]\n"
     ]
    },
    {
     "name": "stdout",
     "output_type": "stream",
     "text": [
      "Training Loss: 0.54816028\n",
      "Validation Loss: 0.51896516\n",
      "Epoch 23/250\n"
     ]
    },
    {
     "name": "stderr",
     "output_type": "stream",
     "text": [
      "100%|██████████| 66/66 [00:00<00:00, 69.13it/s]\n",
      "100%|██████████| 263/263 [00:03<00:00, 81.31it/s]\n"
     ]
    },
    {
     "name": "stdout",
     "output_type": "stream",
     "text": [
      "Training Loss: 0.53411634\n",
      "Validation Loss: 0.50707209\n",
      "Epoch 24/250\n"
     ]
    },
    {
     "name": "stderr",
     "output_type": "stream",
     "text": [
      "100%|██████████| 66/66 [00:00<00:00, 70.17it/s]\n",
      "100%|██████████| 263/263 [00:03<00:00, 81.41it/s]\n"
     ]
    },
    {
     "name": "stdout",
     "output_type": "stream",
     "text": [
      "Training Loss: 0.52129856\n",
      "Validation Loss: 0.49564651\n",
      "Epoch 25/250\n"
     ]
    },
    {
     "name": "stderr",
     "output_type": "stream",
     "text": [
      "100%|██████████| 66/66 [00:00<00:00, 71.21it/s]\n",
      "100%|██████████| 263/263 [00:03<00:00, 80.92it/s]\n"
     ]
    },
    {
     "name": "stdout",
     "output_type": "stream",
     "text": [
      "Training Loss: 0.51490281\n",
      "Validation Loss: 0.48462887\n",
      "Epoch 26/250\n"
     ]
    },
    {
     "name": "stderr",
     "output_type": "stream",
     "text": [
      "100%|██████████| 66/66 [00:00<00:00, 70.15it/s]\n",
      "100%|██████████| 263/263 [00:03<00:00, 80.90it/s]\n"
     ]
    },
    {
     "name": "stdout",
     "output_type": "stream",
     "text": [
      "Training Loss: 0.50189399\n",
      "Validation Loss: 0.47408311\n",
      "Epoch 27/250\n"
     ]
    },
    {
     "name": "stderr",
     "output_type": "stream",
     "text": [
      "100%|██████████| 66/66 [00:01<00:00, 65.79it/s]\n",
      "100%|██████████| 263/263 [00:03<00:00, 80.12it/s]\n"
     ]
    },
    {
     "name": "stdout",
     "output_type": "stream",
     "text": [
      "Training Loss: 0.49331738\n",
      "Validation Loss: 0.46384235\n",
      "Epoch 28/250\n"
     ]
    },
    {
     "name": "stderr",
     "output_type": "stream",
     "text": [
      "100%|██████████| 66/66 [00:00<00:00, 70.95it/s]\n",
      "100%|██████████| 263/263 [00:03<00:00, 82.37it/s]\n"
     ]
    },
    {
     "name": "stdout",
     "output_type": "stream",
     "text": [
      "Training Loss: 0.47921503\n",
      "Validation Loss: 0.45396193\n",
      "Epoch 29/250\n"
     ]
    },
    {
     "name": "stderr",
     "output_type": "stream",
     "text": [
      "100%|██████████| 66/66 [00:00<00:00, 69.48it/s]\n",
      "100%|██████████| 263/263 [00:03<00:00, 81.84it/s]\n"
     ]
    },
    {
     "name": "stdout",
     "output_type": "stream",
     "text": [
      "Training Loss: 0.47473212\n",
      "Validation Loss: 0.44437469\n",
      "Epoch 30/250\n"
     ]
    },
    {
     "name": "stderr",
     "output_type": "stream",
     "text": [
      "100%|██████████| 66/66 [00:00<00:00, 70.60it/s]\n",
      "100%|██████████| 263/263 [00:03<00:00, 81.94it/s]\n"
     ]
    },
    {
     "name": "stdout",
     "output_type": "stream",
     "text": [
      "Training Loss: 0.46427564\n",
      "Validation Loss: 0.43507465\n",
      "Epoch 31/250\n"
     ]
    },
    {
     "name": "stderr",
     "output_type": "stream",
     "text": [
      "100%|██████████| 66/66 [00:00<00:00, 69.35it/s]\n",
      "100%|██████████| 263/263 [00:03<00:00, 81.62it/s]\n"
     ]
    },
    {
     "name": "stdout",
     "output_type": "stream",
     "text": [
      "Training Loss: 0.45365621\n",
      "Validation Loss: 0.42614060\n",
      "Epoch 32/250\n"
     ]
    },
    {
     "name": "stderr",
     "output_type": "stream",
     "text": [
      "100%|██████████| 66/66 [00:00<00:00, 67.48it/s]\n",
      "100%|██████████| 263/263 [00:03<00:00, 81.37it/s]\n"
     ]
    },
    {
     "name": "stdout",
     "output_type": "stream",
     "text": [
      "Training Loss: 0.44591261\n",
      "Validation Loss: 0.41746611\n",
      "Epoch 33/250\n"
     ]
    },
    {
     "name": "stderr",
     "output_type": "stream",
     "text": [
      "100%|██████████| 66/66 [00:00<00:00, 70.67it/s]\n",
      "100%|██████████| 263/263 [00:03<00:00, 80.68it/s]\n"
     ]
    },
    {
     "name": "stdout",
     "output_type": "stream",
     "text": [
      "Training Loss: 0.43902750\n",
      "Validation Loss: 0.40904710\n",
      "Epoch 34/250\n"
     ]
    },
    {
     "name": "stderr",
     "output_type": "stream",
     "text": [
      "100%|██████████| 66/66 [00:00<00:00, 70.58it/s]\n",
      "100%|██████████| 263/263 [00:03<00:00, 79.63it/s]\n"
     ]
    },
    {
     "name": "stdout",
     "output_type": "stream",
     "text": [
      "Training Loss: 0.42659752\n",
      "Validation Loss: 0.40087397\n",
      "Epoch 35/250\n"
     ]
    },
    {
     "name": "stderr",
     "output_type": "stream",
     "text": [
      "100%|██████████| 66/66 [00:00<00:00, 69.26it/s]\n",
      "100%|██████████| 263/263 [00:03<00:00, 80.36it/s]\n"
     ]
    },
    {
     "name": "stdout",
     "output_type": "stream",
     "text": [
      "Training Loss: 0.42011105\n",
      "Validation Loss: 0.39286131\n",
      "Epoch 36/250\n"
     ]
    },
    {
     "name": "stderr",
     "output_type": "stream",
     "text": [
      "100%|██████████| 66/66 [00:00<00:00, 70.75it/s]\n",
      "100%|██████████| 263/263 [00:03<00:00, 80.65it/s]\n"
     ]
    },
    {
     "name": "stdout",
     "output_type": "stream",
     "text": [
      "Training Loss: 0.41204618\n",
      "Validation Loss: 0.38516077\n",
      "Epoch 37/250\n"
     ]
    },
    {
     "name": "stderr",
     "output_type": "stream",
     "text": [
      "100%|██████████| 66/66 [00:00<00:00, 70.85it/s]\n",
      "100%|██████████| 263/263 [00:03<00:00, 81.59it/s]\n"
     ]
    },
    {
     "name": "stdout",
     "output_type": "stream",
     "text": [
      "Training Loss: 0.39975799\n",
      "Validation Loss: 0.37766623\n",
      "Epoch 38/250\n"
     ]
    },
    {
     "name": "stderr",
     "output_type": "stream",
     "text": [
      "100%|██████████| 66/66 [00:00<00:00, 67.57it/s]\n",
      "100%|██████████| 263/263 [00:03<00:00, 82.83it/s]\n"
     ]
    },
    {
     "name": "stdout",
     "output_type": "stream",
     "text": [
      "Training Loss: 0.39735686\n",
      "Validation Loss: 0.37040756\n",
      "Epoch 39/250\n"
     ]
    },
    {
     "name": "stderr",
     "output_type": "stream",
     "text": [
      "100%|██████████| 66/66 [00:00<00:00, 70.77it/s]\n",
      "100%|██████████| 263/263 [00:03<00:00, 81.33it/s]\n"
     ]
    },
    {
     "name": "stdout",
     "output_type": "stream",
     "text": [
      "Training Loss: 0.38828171\n",
      "Validation Loss: 0.36328058\n",
      "Epoch 40/250\n"
     ]
    },
    {
     "name": "stderr",
     "output_type": "stream",
     "text": [
      "100%|██████████| 66/66 [00:00<00:00, 71.57it/s]\n",
      "100%|██████████| 263/263 [00:03<00:00, 81.92it/s]\n"
     ]
    },
    {
     "name": "stdout",
     "output_type": "stream",
     "text": [
      "Training Loss: 0.38003280\n",
      "Validation Loss: 0.35641276\n",
      "Epoch 41/250\n"
     ]
    },
    {
     "name": "stderr",
     "output_type": "stream",
     "text": [
      "100%|██████████| 66/66 [00:00<00:00, 70.85it/s]\n",
      "100%|██████████| 263/263 [00:03<00:00, 81.01it/s]\n"
     ]
    },
    {
     "name": "stdout",
     "output_type": "stream",
     "text": [
      "Training Loss: 0.37228665\n",
      "Validation Loss: 0.34983143\n",
      "Epoch 42/250\n"
     ]
    },
    {
     "name": "stderr",
     "output_type": "stream",
     "text": [
      "100%|██████████| 66/66 [00:00<00:00, 68.57it/s]\n",
      "100%|██████████| 263/263 [00:03<00:00, 80.50it/s]\n"
     ]
    },
    {
     "name": "stdout",
     "output_type": "stream",
     "text": [
      "Training Loss: 0.36593867\n",
      "Validation Loss: 0.34331381\n",
      "Epoch 43/250\n"
     ]
    },
    {
     "name": "stderr",
     "output_type": "stream",
     "text": [
      "100%|██████████| 66/66 [00:00<00:00, 71.41it/s]\n",
      "100%|██████████| 263/263 [00:03<00:00, 81.29it/s]\n"
     ]
    },
    {
     "name": "stdout",
     "output_type": "stream",
     "text": [
      "Training Loss: 0.36169558\n",
      "Validation Loss: 0.33700202\n",
      "Epoch 44/250\n"
     ]
    },
    {
     "name": "stderr",
     "output_type": "stream",
     "text": [
      "100%|██████████| 66/66 [00:00<00:00, 67.88it/s]\n",
      "100%|██████████| 263/263 [00:03<00:00, 81.74it/s]\n"
     ]
    },
    {
     "name": "stdout",
     "output_type": "stream",
     "text": [
      "Training Loss: 0.35594898\n",
      "Validation Loss: 0.33086394\n",
      "Epoch 45/250\n"
     ]
    },
    {
     "name": "stderr",
     "output_type": "stream",
     "text": [
      "100%|██████████| 66/66 [00:00<00:00, 69.77it/s]\n",
      "100%|██████████| 263/263 [00:03<00:00, 81.02it/s]\n"
     ]
    },
    {
     "name": "stdout",
     "output_type": "stream",
     "text": [
      "Training Loss: 0.35021544\n",
      "Validation Loss: 0.32491754\n",
      "Epoch 46/250\n"
     ]
    },
    {
     "name": "stderr",
     "output_type": "stream",
     "text": [
      "100%|██████████| 66/66 [00:00<00:00, 70.00it/s]\n",
      "100%|██████████| 263/263 [00:03<00:00, 81.38it/s]\n"
     ]
    },
    {
     "name": "stdout",
     "output_type": "stream",
     "text": [
      "Training Loss: 0.34247047\n",
      "Validation Loss: 0.31906173\n",
      "Epoch 47/250\n"
     ]
    },
    {
     "name": "stderr",
     "output_type": "stream",
     "text": [
      "100%|██████████| 66/66 [00:00<00:00, 70.14it/s]\n",
      "100%|██████████| 263/263 [00:03<00:00, 81.27it/s]\n"
     ]
    },
    {
     "name": "stdout",
     "output_type": "stream",
     "text": [
      "Training Loss: 0.34126347\n",
      "Validation Loss: 0.31340353\n",
      "Epoch 48/250\n"
     ]
    },
    {
     "name": "stderr",
     "output_type": "stream",
     "text": [
      "100%|██████████| 66/66 [00:00<00:00, 68.15it/s]\n",
      "100%|██████████| 263/263 [00:03<00:00, 81.58it/s]\n"
     ]
    },
    {
     "name": "stdout",
     "output_type": "stream",
     "text": [
      "Training Loss: 0.33004456\n",
      "Validation Loss: 0.30790941\n",
      "Epoch 49/250\n"
     ]
    },
    {
     "name": "stderr",
     "output_type": "stream",
     "text": [
      "100%|██████████| 66/66 [00:00<00:00, 70.82it/s]\n",
      "100%|██████████| 263/263 [00:03<00:00, 81.12it/s]\n"
     ]
    },
    {
     "name": "stdout",
     "output_type": "stream",
     "text": [
      "Training Loss: 0.32872059\n",
      "Validation Loss: 0.30253149\n",
      "Epoch 50/250\n"
     ]
    },
    {
     "name": "stderr",
     "output_type": "stream",
     "text": [
      "100%|██████████| 66/66 [00:00<00:00, 70.68it/s]\n",
      "100%|██████████| 263/263 [00:03<00:00, 81.57it/s]\n"
     ]
    },
    {
     "name": "stdout",
     "output_type": "stream",
     "text": [
      "Training Loss: 0.31951186\n",
      "Validation Loss: 0.29734782\n",
      "Epoch 51/250\n"
     ]
    },
    {
     "name": "stderr",
     "output_type": "stream",
     "text": [
      "100%|██████████| 66/66 [00:00<00:00, 69.16it/s]\n",
      "100%|██████████| 263/263 [00:03<00:00, 81.22it/s]\n"
     ]
    },
    {
     "name": "stdout",
     "output_type": "stream",
     "text": [
      "Training Loss: 0.31548392\n",
      "Validation Loss: 0.29231097\n",
      "Epoch 52/250\n"
     ]
    },
    {
     "name": "stderr",
     "output_type": "stream",
     "text": [
      "100%|██████████| 66/66 [00:00<00:00, 71.30it/s]\n",
      "100%|██████████| 263/263 [00:03<00:00, 82.19it/s]\n"
     ]
    },
    {
     "name": "stdout",
     "output_type": "stream",
     "text": [
      "Training Loss: 0.31099998\n",
      "Validation Loss: 0.28737988\n",
      "Epoch 53/250\n"
     ]
    },
    {
     "name": "stderr",
     "output_type": "stream",
     "text": [
      "100%|██████████| 66/66 [00:00<00:00, 69.53it/s]\n",
      "100%|██████████| 263/263 [00:03<00:00, 80.77it/s]\n"
     ]
    },
    {
     "name": "stdout",
     "output_type": "stream",
     "text": [
      "Training Loss: 0.30757628\n",
      "Validation Loss: 0.28252845\n",
      "Epoch 54/250\n"
     ]
    },
    {
     "name": "stderr",
     "output_type": "stream",
     "text": [
      "100%|██████████| 66/66 [00:00<00:00, 71.30it/s]\n",
      "100%|██████████| 263/263 [00:03<00:00, 81.52it/s]\n"
     ]
    },
    {
     "name": "stdout",
     "output_type": "stream",
     "text": [
      "Training Loss: 0.30472136\n",
      "Validation Loss: 0.27781366\n",
      "Epoch 55/250\n"
     ]
    },
    {
     "name": "stderr",
     "output_type": "stream",
     "text": [
      "100%|██████████| 66/66 [00:00<00:00, 69.81it/s]\n",
      "100%|██████████| 263/263 [00:03<00:00, 80.80it/s]\n"
     ]
    },
    {
     "name": "stdout",
     "output_type": "stream",
     "text": [
      "Training Loss: 0.29532307\n",
      "Validation Loss: 0.27322969\n",
      "Epoch 56/250\n"
     ]
    },
    {
     "name": "stderr",
     "output_type": "stream",
     "text": [
      "100%|██████████| 66/66 [00:00<00:00, 71.05it/s]\n",
      "100%|██████████| 263/263 [00:03<00:00, 81.39it/s]\n"
     ]
    },
    {
     "name": "stdout",
     "output_type": "stream",
     "text": [
      "Training Loss: 0.28969588\n",
      "Validation Loss: 0.26878941\n",
      "Epoch 57/250\n"
     ]
    },
    {
     "name": "stderr",
     "output_type": "stream",
     "text": [
      "100%|██████████| 66/66 [00:00<00:00, 68.08it/s]\n",
      "100%|██████████| 263/263 [00:03<00:00, 80.57it/s]\n"
     ]
    },
    {
     "name": "stdout",
     "output_type": "stream",
     "text": [
      "Training Loss: 0.29013309\n",
      "Validation Loss: 0.26444265\n",
      "Epoch 58/250\n"
     ]
    },
    {
     "name": "stderr",
     "output_type": "stream",
     "text": [
      "100%|██████████| 66/66 [00:00<00:00, 69.45it/s]\n",
      "100%|██████████| 263/263 [00:03<00:00, 80.55it/s]\n"
     ]
    },
    {
     "name": "stdout",
     "output_type": "stream",
     "text": [
      "Training Loss: 0.28195477\n",
      "Validation Loss: 0.26021288\n",
      "Epoch 59/250\n"
     ]
    },
    {
     "name": "stderr",
     "output_type": "stream",
     "text": [
      "100%|██████████| 66/66 [00:00<00:00, 69.23it/s]\n",
      "100%|██████████| 263/263 [00:03<00:00, 80.68it/s]\n"
     ]
    },
    {
     "name": "stdout",
     "output_type": "stream",
     "text": [
      "Training Loss: 0.27832135\n",
      "Validation Loss: 0.25607694\n",
      "Epoch 60/250\n"
     ]
    },
    {
     "name": "stderr",
     "output_type": "stream",
     "text": [
      "100%|██████████| 66/66 [00:00<00:00, 69.24it/s]\n",
      "100%|██████████| 263/263 [00:03<00:00, 79.43it/s]\n"
     ]
    },
    {
     "name": "stdout",
     "output_type": "stream",
     "text": [
      "Training Loss: 0.27539314\n",
      "Validation Loss: 0.25203272\n",
      "Epoch 61/250\n"
     ]
    },
    {
     "name": "stderr",
     "output_type": "stream",
     "text": [
      "100%|██████████| 66/66 [00:00<00:00, 70.10it/s]\n",
      "100%|██████████| 263/263 [00:03<00:00, 81.04it/s]\n"
     ]
    },
    {
     "name": "stdout",
     "output_type": "stream",
     "text": [
      "Training Loss: 0.27457312\n",
      "Validation Loss: 0.24808342\n",
      "Epoch 62/250\n"
     ]
    },
    {
     "name": "stderr",
     "output_type": "stream",
     "text": [
      "100%|██████████| 66/66 [00:00<00:00, 69.58it/s]\n",
      "100%|██████████| 263/263 [00:03<00:00, 81.75it/s]\n"
     ]
    },
    {
     "name": "stdout",
     "output_type": "stream",
     "text": [
      "Training Loss: 0.26745549\n",
      "Validation Loss: 0.24422905\n",
      "Epoch 63/250\n"
     ]
    },
    {
     "name": "stderr",
     "output_type": "stream",
     "text": [
      "100%|██████████| 66/66 [00:00<00:00, 68.16it/s]\n",
      "100%|██████████| 263/263 [00:03<00:00, 81.57it/s]\n"
     ]
    },
    {
     "name": "stdout",
     "output_type": "stream",
     "text": [
      "Training Loss: 0.26359126\n",
      "Validation Loss: 0.24044151\n",
      "Epoch 64/250\n"
     ]
    },
    {
     "name": "stderr",
     "output_type": "stream",
     "text": [
      "100%|██████████| 66/66 [00:00<00:00, 71.04it/s]\n",
      "100%|██████████| 263/263 [00:03<00:00, 79.39it/s]\n"
     ]
    },
    {
     "name": "stdout",
     "output_type": "stream",
     "text": [
      "Training Loss: 0.26104120\n",
      "Validation Loss: 0.23675457\n",
      "Epoch 65/250\n"
     ]
    },
    {
     "name": "stderr",
     "output_type": "stream",
     "text": [
      "100%|██████████| 66/66 [00:00<00:00, 70.35it/s]\n",
      "100%|██████████| 263/263 [00:03<00:00, 80.72it/s]\n"
     ]
    },
    {
     "name": "stdout",
     "output_type": "stream",
     "text": [
      "Training Loss: 0.25400191\n",
      "Validation Loss: 0.23316159\n",
      "Epoch 66/250\n"
     ]
    },
    {
     "name": "stderr",
     "output_type": "stream",
     "text": [
      "100%|██████████| 66/66 [00:00<00:00, 70.26it/s]\n",
      "100%|██████████| 263/263 [00:03<00:00, 81.91it/s]\n"
     ]
    },
    {
     "name": "stdout",
     "output_type": "stream",
     "text": [
      "Training Loss: 0.25551625\n",
      "Validation Loss: 0.22968369\n",
      "Epoch 67/250\n"
     ]
    },
    {
     "name": "stderr",
     "output_type": "stream",
     "text": [
      "100%|██████████| 66/66 [00:00<00:00, 70.96it/s]\n",
      "100%|██████████| 263/263 [00:03<00:00, 80.04it/s]\n"
     ]
    },
    {
     "name": "stdout",
     "output_type": "stream",
     "text": [
      "Training Loss: 0.24989926\n",
      "Validation Loss: 0.22630139\n",
      "Epoch 68/250\n"
     ]
    },
    {
     "name": "stderr",
     "output_type": "stream",
     "text": [
      "100%|██████████| 66/66 [00:00<00:00, 70.18it/s]\n",
      "100%|██████████| 263/263 [00:03<00:00, 80.61it/s]\n"
     ]
    },
    {
     "name": "stdout",
     "output_type": "stream",
     "text": [
      "Training Loss: 0.24702475\n",
      "Validation Loss: 0.22293999\n",
      "Epoch 69/250\n"
     ]
    },
    {
     "name": "stderr",
     "output_type": "stream",
     "text": [
      "100%|██████████| 66/66 [00:00<00:00, 71.51it/s]\n",
      "100%|██████████| 263/263 [00:03<00:00, 82.34it/s]\n"
     ]
    },
    {
     "name": "stdout",
     "output_type": "stream",
     "text": [
      "Training Loss: 0.24448080\n",
      "Validation Loss: 0.21966486\n",
      "Epoch 70/250\n"
     ]
    },
    {
     "name": "stderr",
     "output_type": "stream",
     "text": [
      "100%|██████████| 66/66 [00:00<00:00, 71.18it/s]\n",
      "100%|██████████| 263/263 [00:03<00:00, 80.86it/s]\n"
     ]
    },
    {
     "name": "stdout",
     "output_type": "stream",
     "text": [
      "Training Loss: 0.24078331\n",
      "Validation Loss: 0.21647463\n",
      "Epoch 71/250\n"
     ]
    },
    {
     "name": "stderr",
     "output_type": "stream",
     "text": [
      "100%|██████████| 66/66 [00:00<00:00, 70.71it/s]\n",
      "100%|██████████| 263/263 [00:03<00:00, 81.63it/s]\n"
     ]
    },
    {
     "name": "stdout",
     "output_type": "stream",
     "text": [
      "Training Loss: 0.23670591\n",
      "Validation Loss: 0.21336650\n",
      "Epoch 72/250\n"
     ]
    },
    {
     "name": "stderr",
     "output_type": "stream",
     "text": [
      "100%|██████████| 66/66 [00:00<00:00, 66.79it/s]\n",
      "100%|██████████| 263/263 [00:03<00:00, 80.34it/s]\n"
     ]
    },
    {
     "name": "stdout",
     "output_type": "stream",
     "text": [
      "Training Loss: 0.23472384\n",
      "Validation Loss: 0.21028843\n",
      "Epoch 73/250\n"
     ]
    },
    {
     "name": "stderr",
     "output_type": "stream",
     "text": [
      "100%|██████████| 66/66 [00:00<00:00, 71.06it/s]\n",
      "100%|██████████| 263/263 [00:03<00:00, 82.02it/s]\n"
     ]
    },
    {
     "name": "stdout",
     "output_type": "stream",
     "text": [
      "Training Loss: 0.23183405\n",
      "Validation Loss: 0.20732677\n",
      "Epoch 74/250\n"
     ]
    },
    {
     "name": "stderr",
     "output_type": "stream",
     "text": [
      "100%|██████████| 66/66 [00:00<00:00, 71.21it/s]\n",
      "100%|██████████| 263/263 [00:03<00:00, 81.78it/s]\n"
     ]
    },
    {
     "name": "stdout",
     "output_type": "stream",
     "text": [
      "Training Loss: 0.22672797\n",
      "Validation Loss: 0.20441206\n",
      "Epoch 75/250\n"
     ]
    },
    {
     "name": "stderr",
     "output_type": "stream",
     "text": [
      "100%|██████████| 66/66 [00:00<00:00, 69.83it/s]\n",
      "100%|██████████| 263/263 [00:03<00:00, 82.05it/s]\n"
     ]
    },
    {
     "name": "stdout",
     "output_type": "stream",
     "text": [
      "Training Loss: 0.22411112\n",
      "Validation Loss: 0.20154444\n",
      "Epoch 76/250\n"
     ]
    },
    {
     "name": "stderr",
     "output_type": "stream",
     "text": [
      "100%|██████████| 66/66 [00:00<00:00, 70.94it/s]\n",
      "100%|██████████| 263/263 [00:03<00:00, 80.92it/s]\n"
     ]
    },
    {
     "name": "stdout",
     "output_type": "stream",
     "text": [
      "Training Loss: 0.21973876\n",
      "Validation Loss: 0.19877154\n",
      "Epoch 77/250\n"
     ]
    },
    {
     "name": "stderr",
     "output_type": "stream",
     "text": [
      "100%|██████████| 66/66 [00:00<00:00, 71.17it/s]\n",
      "100%|██████████| 263/263 [00:03<00:00, 81.99it/s]\n"
     ]
    },
    {
     "name": "stdout",
     "output_type": "stream",
     "text": [
      "Training Loss: 0.22030699\n",
      "Validation Loss: 0.19604676\n",
      "Epoch 78/250\n"
     ]
    },
    {
     "name": "stderr",
     "output_type": "stream",
     "text": [
      "100%|██████████| 66/66 [00:00<00:00, 70.52it/s]\n",
      "100%|██████████| 263/263 [00:03<00:00, 82.25it/s]\n"
     ]
    },
    {
     "name": "stdout",
     "output_type": "stream",
     "text": [
      "Training Loss: 0.21787593\n",
      "Validation Loss: 0.19342615\n",
      "Epoch 79/250\n"
     ]
    },
    {
     "name": "stderr",
     "output_type": "stream",
     "text": [
      "100%|██████████| 66/66 [00:00<00:00, 70.98it/s]\n",
      "100%|██████████| 263/263 [00:03<00:00, 77.48it/s]\n"
     ]
    },
    {
     "name": "stdout",
     "output_type": "stream",
     "text": [
      "Training Loss: 0.21329898\n",
      "Validation Loss: 0.19080423\n",
      "Epoch 80/250\n"
     ]
    },
    {
     "name": "stderr",
     "output_type": "stream",
     "text": [
      "100%|██████████| 66/66 [00:00<00:00, 69.92it/s]\n",
      "100%|██████████| 263/263 [00:03<00:00, 81.46it/s]\n"
     ]
    },
    {
     "name": "stdout",
     "output_type": "stream",
     "text": [
      "Training Loss: 0.21152652\n",
      "Validation Loss: 0.18822665\n",
      "Epoch 81/250\n"
     ]
    },
    {
     "name": "stderr",
     "output_type": "stream",
     "text": [
      "100%|██████████| 66/66 [00:00<00:00, 70.67it/s]\n",
      "100%|██████████| 263/263 [00:03<00:00, 81.97it/s]\n"
     ]
    },
    {
     "name": "stdout",
     "output_type": "stream",
     "text": [
      "Training Loss: 0.20622904\n",
      "Validation Loss: 0.18569908\n",
      "Epoch 82/250\n"
     ]
    },
    {
     "name": "stderr",
     "output_type": "stream",
     "text": [
      "100%|██████████| 66/66 [00:00<00:00, 67.60it/s]\n",
      "100%|██████████| 263/263 [00:03<00:00, 81.88it/s]\n"
     ]
    },
    {
     "name": "stdout",
     "output_type": "stream",
     "text": [
      "Training Loss: 0.20660528\n",
      "Validation Loss: 0.18325482\n",
      "Epoch 83/250\n"
     ]
    },
    {
     "name": "stderr",
     "output_type": "stream",
     "text": [
      "100%|██████████| 66/66 [00:00<00:00, 70.52it/s]\n",
      "100%|██████████| 263/263 [00:03<00:00, 81.94it/s]\n"
     ]
    },
    {
     "name": "stdout",
     "output_type": "stream",
     "text": [
      "Training Loss: 0.20222828\n",
      "Validation Loss: 0.18083530\n",
      "Epoch 84/250\n"
     ]
    },
    {
     "name": "stderr",
     "output_type": "stream",
     "text": [
      "100%|██████████| 66/66 [00:00<00:00, 71.34it/s]\n",
      "100%|██████████| 263/263 [00:03<00:00, 80.76it/s]\n"
     ]
    },
    {
     "name": "stdout",
     "output_type": "stream",
     "text": [
      "Training Loss: 0.20196853\n",
      "Validation Loss: 0.17848262\n",
      "Epoch 85/250\n"
     ]
    },
    {
     "name": "stderr",
     "output_type": "stream",
     "text": [
      "100%|██████████| 66/66 [00:00<00:00, 70.20it/s]\n",
      "100%|██████████| 263/263 [00:03<00:00, 82.22it/s]\n"
     ]
    },
    {
     "name": "stdout",
     "output_type": "stream",
     "text": [
      "Training Loss: 0.19569094\n",
      "Validation Loss: 0.17618671\n",
      "Epoch 86/250\n"
     ]
    },
    {
     "name": "stderr",
     "output_type": "stream",
     "text": [
      "100%|██████████| 66/66 [00:00<00:00, 71.77it/s]\n",
      "100%|██████████| 263/263 [00:03<00:00, 81.24it/s]\n"
     ]
    },
    {
     "name": "stdout",
     "output_type": "stream",
     "text": [
      "Training Loss: 0.19826503\n",
      "Validation Loss: 0.17392953\n",
      "Epoch 87/250\n"
     ]
    },
    {
     "name": "stderr",
     "output_type": "stream",
     "text": [
      "100%|██████████| 66/66 [00:00<00:00, 69.03it/s]\n",
      "100%|██████████| 263/263 [00:03<00:00, 80.70it/s]\n"
     ]
    },
    {
     "name": "stdout",
     "output_type": "stream",
     "text": [
      "Training Loss: 0.19358013\n",
      "Validation Loss: 0.17173638\n",
      "Epoch 88/250\n"
     ]
    },
    {
     "name": "stderr",
     "output_type": "stream",
     "text": [
      "100%|██████████| 66/66 [00:00<00:00, 70.91it/s]\n",
      "100%|██████████| 263/263 [00:03<00:00, 82.62it/s]\n"
     ]
    },
    {
     "name": "stdout",
     "output_type": "stream",
     "text": [
      "Training Loss: 0.19129464\n",
      "Validation Loss: 0.16952622\n",
      "Epoch 89/250\n"
     ]
    },
    {
     "name": "stderr",
     "output_type": "stream",
     "text": [
      "100%|██████████| 66/66 [00:00<00:00, 70.48it/s]\n",
      "100%|██████████| 263/263 [00:03<00:00, 81.82it/s]\n"
     ]
    },
    {
     "name": "stdout",
     "output_type": "stream",
     "text": [
      "Training Loss: 0.19104327\n",
      "Validation Loss: 0.16746968\n",
      "Epoch 90/250\n"
     ]
    },
    {
     "name": "stderr",
     "output_type": "stream",
     "text": [
      "100%|██████████| 66/66 [00:00<00:00, 70.06it/s]\n",
      "100%|██████████| 263/263 [00:03<00:00, 81.70it/s]\n"
     ]
    },
    {
     "name": "stdout",
     "output_type": "stream",
     "text": [
      "Training Loss: 0.18737533\n",
      "Validation Loss: 0.16537217\n",
      "Epoch 91/250\n"
     ]
    },
    {
     "name": "stderr",
     "output_type": "stream",
     "text": [
      "100%|██████████| 66/66 [00:01<00:00, 65.18it/s]\n",
      "100%|██████████| 263/263 [00:03<00:00, 80.15it/s]\n"
     ]
    },
    {
     "name": "stdout",
     "output_type": "stream",
     "text": [
      "Training Loss: 0.18603413\n",
      "Validation Loss: 0.16335089\n",
      "Epoch 92/250\n"
     ]
    },
    {
     "name": "stderr",
     "output_type": "stream",
     "text": [
      "100%|██████████| 66/66 [00:00<00:00, 71.30it/s]\n",
      "100%|██████████| 263/263 [00:03<00:00, 81.05it/s]\n"
     ]
    },
    {
     "name": "stdout",
     "output_type": "stream",
     "text": [
      "Training Loss: 0.18454908\n",
      "Validation Loss: 0.16141741\n",
      "Epoch 93/250\n"
     ]
    },
    {
     "name": "stderr",
     "output_type": "stream",
     "text": [
      "100%|██████████| 66/66 [00:00<00:00, 70.32it/s]\n",
      "100%|██████████| 263/263 [00:03<00:00, 80.83it/s]\n"
     ]
    },
    {
     "name": "stdout",
     "output_type": "stream",
     "text": [
      "Training Loss: 0.18077599\n",
      "Validation Loss: 0.15941494\n",
      "Epoch 94/250\n"
     ]
    },
    {
     "name": "stderr",
     "output_type": "stream",
     "text": [
      "100%|██████████| 66/66 [00:00<00:00, 68.91it/s]\n",
      "100%|██████████| 263/263 [00:03<00:00, 80.30it/s]\n"
     ]
    },
    {
     "name": "stdout",
     "output_type": "stream",
     "text": [
      "Training Loss: 0.18006710\n",
      "Validation Loss: 0.15750334\n",
      "Epoch 95/250\n"
     ]
    },
    {
     "name": "stderr",
     "output_type": "stream",
     "text": [
      "100%|██████████| 66/66 [00:00<00:00, 70.32it/s]\n",
      "100%|██████████| 263/263 [00:03<00:00, 81.55it/s]\n"
     ]
    },
    {
     "name": "stdout",
     "output_type": "stream",
     "text": [
      "Training Loss: 0.17792394\n",
      "Validation Loss: 0.15567761\n",
      "Epoch 96/250\n"
     ]
    },
    {
     "name": "stderr",
     "output_type": "stream",
     "text": [
      "100%|██████████| 66/66 [00:00<00:00, 71.45it/s]\n",
      "100%|██████████| 263/263 [00:03<00:00, 81.67it/s]\n"
     ]
    },
    {
     "name": "stdout",
     "output_type": "stream",
     "text": [
      "Training Loss: 0.17875589\n",
      "Validation Loss: 0.15384610\n",
      "Epoch 97/250\n"
     ]
    },
    {
     "name": "stderr",
     "output_type": "stream",
     "text": [
      "100%|██████████| 66/66 [00:00<00:00, 70.71it/s]\n",
      "100%|██████████| 263/263 [00:03<00:00, 81.61it/s]\n"
     ]
    },
    {
     "name": "stdout",
     "output_type": "stream",
     "text": [
      "Training Loss: 0.17557424\n",
      "Validation Loss: 0.15208705\n",
      "Epoch 98/250\n"
     ]
    },
    {
     "name": "stderr",
     "output_type": "stream",
     "text": [
      "100%|██████████| 66/66 [00:00<00:00, 70.39it/s]\n",
      "100%|██████████| 263/263 [00:03<00:00, 82.29it/s]\n"
     ]
    },
    {
     "name": "stdout",
     "output_type": "stream",
     "text": [
      "Training Loss: 0.17126019\n",
      "Validation Loss: 0.15030268\n",
      "Epoch 99/250\n"
     ]
    },
    {
     "name": "stderr",
     "output_type": "stream",
     "text": [
      "100%|██████████| 66/66 [00:00<00:00, 71.42it/s]\n",
      "100%|██████████| 263/263 [00:03<00:00, 82.10it/s]\n"
     ]
    },
    {
     "name": "stdout",
     "output_type": "stream",
     "text": [
      "Training Loss: 0.17152011\n",
      "Validation Loss: 0.14858255\n",
      "Epoch 100/250\n"
     ]
    },
    {
     "name": "stderr",
     "output_type": "stream",
     "text": [
      "100%|██████████| 66/66 [00:00<00:00, 70.32it/s]\n",
      "100%|██████████| 263/263 [00:03<00:00, 80.47it/s]\n"
     ]
    },
    {
     "name": "stdout",
     "output_type": "stream",
     "text": [
      "Training Loss: 0.16988263\n",
      "Validation Loss: 0.14687649\n",
      "Epoch 101/250\n"
     ]
    },
    {
     "name": "stderr",
     "output_type": "stream",
     "text": [
      "100%|██████████| 66/66 [00:00<00:00, 70.74it/s]\n",
      "100%|██████████| 263/263 [00:03<00:00, 81.90it/s]\n"
     ]
    },
    {
     "name": "stdout",
     "output_type": "stream",
     "text": [
      "Training Loss: 0.16513349\n",
      "Validation Loss: 0.14521277\n",
      "Epoch 102/250\n"
     ]
    },
    {
     "name": "stderr",
     "output_type": "stream",
     "text": [
      "100%|██████████| 66/66 [00:00<00:00, 71.32it/s]\n",
      "100%|██████████| 263/263 [00:03<00:00, 79.57it/s]\n"
     ]
    },
    {
     "name": "stdout",
     "output_type": "stream",
     "text": [
      "Training Loss: 0.16625924\n",
      "Validation Loss: 0.14357660\n",
      "Epoch 103/250\n"
     ]
    },
    {
     "name": "stderr",
     "output_type": "stream",
     "text": [
      "100%|██████████| 66/66 [00:00<00:00, 70.44it/s]\n",
      "100%|██████████| 263/263 [00:03<00:00, 81.48it/s]\n"
     ]
    },
    {
     "name": "stdout",
     "output_type": "stream",
     "text": [
      "Training Loss: 0.16434353\n",
      "Validation Loss: 0.14198585\n",
      "Epoch 104/250\n"
     ]
    },
    {
     "name": "stderr",
     "output_type": "stream",
     "text": [
      "100%|██████████| 66/66 [00:00<00:00, 70.46it/s]\n",
      "100%|██████████| 263/263 [00:03<00:00, 82.22it/s]\n"
     ]
    },
    {
     "name": "stdout",
     "output_type": "stream",
     "text": [
      "Training Loss: 0.16522599\n",
      "Validation Loss: 0.14042402\n",
      "Epoch 105/250\n"
     ]
    },
    {
     "name": "stderr",
     "output_type": "stream",
     "text": [
      "100%|██████████| 66/66 [00:00<00:00, 71.13it/s]\n",
      "100%|██████████| 263/263 [00:03<00:00, 82.27it/s]\n"
     ]
    },
    {
     "name": "stdout",
     "output_type": "stream",
     "text": [
      "Training Loss: 0.15888440\n",
      "Validation Loss: 0.13884698\n",
      "Epoch 106/250\n"
     ]
    },
    {
     "name": "stderr",
     "output_type": "stream",
     "text": [
      "100%|██████████| 66/66 [00:00<00:00, 69.47it/s]\n",
      "100%|██████████| 263/263 [00:03<00:00, 82.69it/s]\n"
     ]
    },
    {
     "name": "stdout",
     "output_type": "stream",
     "text": [
      "Training Loss: 0.15757251\n",
      "Validation Loss: 0.13728525\n",
      "Epoch 107/250\n"
     ]
    },
    {
     "name": "stderr",
     "output_type": "stream",
     "text": [
      "100%|██████████| 66/66 [00:00<00:00, 71.17it/s]\n",
      "100%|██████████| 263/263 [00:03<00:00, 81.73it/s]\n"
     ]
    },
    {
     "name": "stdout",
     "output_type": "stream",
     "text": [
      "Training Loss: 0.15602689\n",
      "Validation Loss: 0.13578917\n",
      "Epoch 108/250\n"
     ]
    },
    {
     "name": "stderr",
     "output_type": "stream",
     "text": [
      "100%|██████████| 66/66 [00:00<00:00, 67.88it/s]\n",
      "100%|██████████| 263/263 [00:03<00:00, 79.84it/s]\n"
     ]
    },
    {
     "name": "stdout",
     "output_type": "stream",
     "text": [
      "Training Loss: 0.15540830\n",
      "Validation Loss: 0.13434831\n",
      "Epoch 109/250\n"
     ]
    },
    {
     "name": "stderr",
     "output_type": "stream",
     "text": [
      "100%|██████████| 66/66 [00:00<00:00, 70.87it/s]\n",
      "100%|██████████| 263/263 [00:03<00:00, 80.32it/s]\n"
     ]
    },
    {
     "name": "stdout",
     "output_type": "stream",
     "text": [
      "Training Loss: 0.15308725\n",
      "Validation Loss: 0.13289467\n",
      "Epoch 110/250\n"
     ]
    },
    {
     "name": "stderr",
     "output_type": "stream",
     "text": [
      "100%|██████████| 66/66 [00:00<00:00, 70.97it/s]\n",
      "100%|██████████| 263/263 [00:03<00:00, 81.08it/s]\n"
     ]
    },
    {
     "name": "stdout",
     "output_type": "stream",
     "text": [
      "Training Loss: 0.15260518\n",
      "Validation Loss: 0.13146039\n",
      "Epoch 111/250\n"
     ]
    },
    {
     "name": "stderr",
     "output_type": "stream",
     "text": [
      "100%|██████████| 66/66 [00:00<00:00, 70.51it/s]\n",
      "100%|██████████| 263/263 [00:03<00:00, 82.48it/s]\n"
     ]
    },
    {
     "name": "stdout",
     "output_type": "stream",
     "text": [
      "Training Loss: 0.15131964\n",
      "Validation Loss: 0.13009292\n",
      "Epoch 112/250\n"
     ]
    },
    {
     "name": "stderr",
     "output_type": "stream",
     "text": [
      "100%|██████████| 66/66 [00:00<00:00, 70.34it/s]\n",
      "100%|██████████| 263/263 [00:03<00:00, 81.56it/s]\n"
     ]
    },
    {
     "name": "stdout",
     "output_type": "stream",
     "text": [
      "Training Loss: 0.14874132\n",
      "Validation Loss: 0.12873286\n",
      "Epoch 113/250\n"
     ]
    },
    {
     "name": "stderr",
     "output_type": "stream",
     "text": [
      "100%|██████████| 66/66 [00:00<00:00, 69.58it/s]\n",
      "100%|██████████| 263/263 [00:03<00:00, 80.78it/s]\n"
     ]
    },
    {
     "name": "stdout",
     "output_type": "stream",
     "text": [
      "Training Loss: 0.14651393\n",
      "Validation Loss: 0.12736741\n",
      "Epoch 114/250\n"
     ]
    },
    {
     "name": "stderr",
     "output_type": "stream",
     "text": [
      "100%|██████████| 66/66 [00:00<00:00, 70.69it/s]\n",
      "100%|██████████| 263/263 [00:03<00:00, 81.91it/s]\n"
     ]
    },
    {
     "name": "stdout",
     "output_type": "stream",
     "text": [
      "Training Loss: 0.14505628\n",
      "Validation Loss: 0.12601274\n",
      "Epoch 115/250\n"
     ]
    },
    {
     "name": "stderr",
     "output_type": "stream",
     "text": [
      "100%|██████████| 66/66 [00:00<00:00, 71.34it/s]\n",
      "100%|██████████| 263/263 [00:03<00:00, 81.69it/s]\n"
     ]
    },
    {
     "name": "stdout",
     "output_type": "stream",
     "text": [
      "Training Loss: 0.14401328\n",
      "Validation Loss: 0.12469344\n",
      "Epoch 116/250\n"
     ]
    },
    {
     "name": "stderr",
     "output_type": "stream",
     "text": [
      "100%|██████████| 66/66 [00:00<00:00, 68.43it/s]\n",
      "100%|██████████| 263/263 [00:03<00:00, 80.66it/s]\n"
     ]
    },
    {
     "name": "stdout",
     "output_type": "stream",
     "text": [
      "Training Loss: 0.14580090\n",
      "Validation Loss: 0.12346409\n",
      "Epoch 117/250\n"
     ]
    },
    {
     "name": "stderr",
     "output_type": "stream",
     "text": [
      "100%|██████████| 66/66 [00:00<00:00, 69.51it/s]\n",
      "100%|██████████| 263/263 [00:03<00:00, 78.85it/s]\n"
     ]
    },
    {
     "name": "stdout",
     "output_type": "stream",
     "text": [
      "Training Loss: 0.14358871\n",
      "Validation Loss: 0.12223722\n",
      "Epoch 118/250\n"
     ]
    },
    {
     "name": "stderr",
     "output_type": "stream",
     "text": [
      "100%|██████████| 66/66 [00:00<00:00, 68.45it/s]\n",
      "100%|██████████| 263/263 [00:03<00:00, 81.28it/s]\n"
     ]
    },
    {
     "name": "stdout",
     "output_type": "stream",
     "text": [
      "Training Loss: 0.14153753\n",
      "Validation Loss: 0.12105077\n",
      "Epoch 119/250\n"
     ]
    },
    {
     "name": "stderr",
     "output_type": "stream",
     "text": [
      "100%|██████████| 66/66 [00:00<00:00, 69.82it/s]\n",
      "100%|██████████| 263/263 [00:03<00:00, 81.64it/s]\n"
     ]
    },
    {
     "name": "stdout",
     "output_type": "stream",
     "text": [
      "Training Loss: 0.13896712\n",
      "Validation Loss: 0.11983533\n",
      "Epoch 120/250\n"
     ]
    },
    {
     "name": "stderr",
     "output_type": "stream",
     "text": [
      "100%|██████████| 66/66 [00:00<00:00, 69.77it/s]\n",
      "100%|██████████| 263/263 [00:03<00:00, 80.06it/s]\n"
     ]
    },
    {
     "name": "stdout",
     "output_type": "stream",
     "text": [
      "Training Loss: 0.13958950\n",
      "Validation Loss: 0.11861690\n",
      "Epoch 121/250\n"
     ]
    },
    {
     "name": "stderr",
     "output_type": "stream",
     "text": [
      "100%|██████████| 66/66 [00:00<00:00, 70.26it/s]\n",
      "100%|██████████| 263/263 [00:03<00:00, 82.37it/s]\n"
     ]
    },
    {
     "name": "stdout",
     "output_type": "stream",
     "text": [
      "Training Loss: 0.14028614\n",
      "Validation Loss: 0.11748856\n",
      "Epoch 122/250\n"
     ]
    },
    {
     "name": "stderr",
     "output_type": "stream",
     "text": [
      "100%|██████████| 66/66 [00:00<00:00, 71.12it/s]\n",
      "100%|██████████| 263/263 [00:03<00:00, 81.22it/s]\n"
     ]
    },
    {
     "name": "stdout",
     "output_type": "stream",
     "text": [
      "Training Loss: 0.13655311\n",
      "Validation Loss: 0.11633068\n",
      "Epoch 123/250\n"
     ]
    },
    {
     "name": "stderr",
     "output_type": "stream",
     "text": [
      "100%|██████████| 66/66 [00:00<00:00, 71.16it/s]\n",
      "100%|██████████| 263/263 [00:03<00:00, 82.69it/s]\n"
     ]
    },
    {
     "name": "stdout",
     "output_type": "stream",
     "text": [
      "Training Loss: 0.13717292\n",
      "Validation Loss: 0.11519183\n",
      "Epoch 124/250\n"
     ]
    },
    {
     "name": "stderr",
     "output_type": "stream",
     "text": [
      "100%|██████████| 66/66 [00:00<00:00, 70.95it/s]\n",
      "100%|██████████| 263/263 [00:03<00:00, 81.10it/s]\n"
     ]
    },
    {
     "name": "stdout",
     "output_type": "stream",
     "text": [
      "Training Loss: 0.13371312\n",
      "Validation Loss: 0.11411781\n",
      "Epoch 125/250\n"
     ]
    },
    {
     "name": "stderr",
     "output_type": "stream",
     "text": [
      "100%|██████████| 66/66 [00:01<00:00, 65.98it/s]\n",
      "100%|██████████| 263/263 [00:03<00:00, 82.04it/s]\n"
     ]
    },
    {
     "name": "stdout",
     "output_type": "stream",
     "text": [
      "Training Loss: 0.13262282\n",
      "Validation Loss: 0.11303211\n",
      "Epoch 126/250\n"
     ]
    },
    {
     "name": "stderr",
     "output_type": "stream",
     "text": [
      "100%|██████████| 66/66 [00:00<00:00, 71.03it/s]\n",
      "100%|██████████| 263/263 [00:03<00:00, 81.46it/s]\n"
     ]
    },
    {
     "name": "stdout",
     "output_type": "stream",
     "text": [
      "Training Loss: 0.13145742\n",
      "Validation Loss: 0.11196891\n",
      "Epoch 127/250\n"
     ]
    },
    {
     "name": "stderr",
     "output_type": "stream",
     "text": [
      "100%|██████████| 66/66 [00:00<00:00, 71.03it/s]\n",
      "100%|██████████| 263/263 [00:03<00:00, 81.64it/s]\n"
     ]
    },
    {
     "name": "stdout",
     "output_type": "stream",
     "text": [
      "Training Loss: 0.12929217\n",
      "Validation Loss: 0.11093539\n",
      "Epoch 128/250\n"
     ]
    },
    {
     "name": "stderr",
     "output_type": "stream",
     "text": [
      "100%|██████████| 66/66 [00:00<00:00, 72.02it/s]\n",
      "100%|██████████| 263/263 [00:03<00:00, 81.63it/s]\n"
     ]
    },
    {
     "name": "stdout",
     "output_type": "stream",
     "text": [
      "Training Loss: 0.13015506\n",
      "Validation Loss: 0.10991102\n",
      "Epoch 129/250\n"
     ]
    },
    {
     "name": "stderr",
     "output_type": "stream",
     "text": [
      "100%|██████████| 66/66 [00:00<00:00, 71.24it/s]\n",
      "100%|██████████| 263/263 [00:03<00:00, 81.81it/s]\n"
     ]
    },
    {
     "name": "stdout",
     "output_type": "stream",
     "text": [
      "Training Loss: 0.12670029\n",
      "Validation Loss: 0.10892053\n",
      "Epoch 130/250\n"
     ]
    },
    {
     "name": "stderr",
     "output_type": "stream",
     "text": [
      "100%|██████████| 66/66 [00:00<00:00, 68.60it/s]\n",
      "100%|██████████| 263/263 [00:03<00:00, 81.73it/s]\n"
     ]
    },
    {
     "name": "stdout",
     "output_type": "stream",
     "text": [
      "Training Loss: 0.12868779\n",
      "Validation Loss: 0.10793640\n",
      "Epoch 131/250\n"
     ]
    },
    {
     "name": "stderr",
     "output_type": "stream",
     "text": [
      "100%|██████████| 66/66 [00:00<00:00, 71.45it/s]\n",
      "100%|██████████| 263/263 [00:03<00:00, 81.91it/s]\n"
     ]
    },
    {
     "name": "stdout",
     "output_type": "stream",
     "text": [
      "Training Loss: 0.12766776\n",
      "Validation Loss: 0.10694579\n",
      "Epoch 132/250\n"
     ]
    },
    {
     "name": "stderr",
     "output_type": "stream",
     "text": [
      "100%|██████████| 66/66 [00:00<00:00, 70.62it/s]\n",
      "100%|██████████| 263/263 [00:03<00:00, 79.39it/s]\n"
     ]
    },
    {
     "name": "stdout",
     "output_type": "stream",
     "text": [
      "Training Loss: 0.12685849\n",
      "Validation Loss: 0.10598452\n",
      "Epoch 133/250\n"
     ]
    },
    {
     "name": "stderr",
     "output_type": "stream",
     "text": [
      "100%|██████████| 66/66 [00:00<00:00, 71.05it/s]\n",
      "100%|██████████| 263/263 [00:03<00:00, 82.42it/s]\n"
     ]
    },
    {
     "name": "stdout",
     "output_type": "stream",
     "text": [
      "Training Loss: 0.12633054\n",
      "Validation Loss: 0.10507363\n",
      "Epoch 134/250\n"
     ]
    },
    {
     "name": "stderr",
     "output_type": "stream",
     "text": [
      "100%|██████████| 66/66 [00:00<00:00, 71.59it/s]\n",
      "100%|██████████| 263/263 [00:03<00:00, 81.54it/s]\n"
     ]
    },
    {
     "name": "stdout",
     "output_type": "stream",
     "text": [
      "Training Loss: 0.12501059\n",
      "Validation Loss: 0.10415459\n",
      "Epoch 135/250\n"
     ]
    },
    {
     "name": "stderr",
     "output_type": "stream",
     "text": [
      "100%|██████████| 66/66 [00:00<00:00, 70.97it/s]\n",
      "100%|██████████| 263/263 [00:03<00:00, 81.88it/s]\n"
     ]
    },
    {
     "name": "stdout",
     "output_type": "stream",
     "text": [
      "Training Loss: 0.12010144\n",
      "Validation Loss: 0.10322441\n",
      "Epoch 136/250\n"
     ]
    },
    {
     "name": "stderr",
     "output_type": "stream",
     "text": [
      "100%|██████████| 66/66 [00:00<00:00, 71.07it/s]\n",
      "100%|██████████| 263/263 [00:03<00:00, 82.21it/s]\n"
     ]
    },
    {
     "name": "stdout",
     "output_type": "stream",
     "text": [
      "Training Loss: 0.12117954\n",
      "Validation Loss: 0.10232054\n",
      "Epoch 137/250\n"
     ]
    },
    {
     "name": "stderr",
     "output_type": "stream",
     "text": [
      "100%|██████████| 66/66 [00:00<00:00, 72.07it/s]\n",
      "100%|██████████| 263/263 [00:03<00:00, 81.67it/s]\n"
     ]
    },
    {
     "name": "stdout",
     "output_type": "stream",
     "text": [
      "Training Loss: 0.12184209\n",
      "Validation Loss: 0.10139514\n",
      "Epoch 138/250\n"
     ]
    },
    {
     "name": "stderr",
     "output_type": "stream",
     "text": [
      "100%|██████████| 66/66 [00:00<00:00, 70.01it/s]\n",
      "100%|██████████| 263/263 [00:03<00:00, 82.19it/s]\n"
     ]
    },
    {
     "name": "stdout",
     "output_type": "stream",
     "text": [
      "Training Loss: 0.12207352\n",
      "Validation Loss: 0.10054249\n",
      "Epoch 139/250\n"
     ]
    },
    {
     "name": "stderr",
     "output_type": "stream",
     "text": [
      "100%|██████████| 66/66 [00:00<00:00, 71.79it/s]\n",
      "100%|██████████| 263/263 [00:03<00:00, 80.79it/s]\n"
     ]
    },
    {
     "name": "stdout",
     "output_type": "stream",
     "text": [
      "Training Loss: 0.11978174\n",
      "Validation Loss: 0.09969574\n",
      "Epoch 140/250\n"
     ]
    },
    {
     "name": "stderr",
     "output_type": "stream",
     "text": [
      "100%|██████████| 66/66 [00:00<00:00, 66.69it/s]\n",
      "100%|██████████| 263/263 [00:03<00:00, 81.35it/s]\n"
     ]
    },
    {
     "name": "stdout",
     "output_type": "stream",
     "text": [
      "Training Loss: 0.11650589\n",
      "Validation Loss: 0.09888656\n",
      "Epoch 141/250\n"
     ]
    },
    {
     "name": "stderr",
     "output_type": "stream",
     "text": [
      "100%|██████████| 66/66 [00:00<00:00, 70.93it/s]\n",
      "100%|██████████| 263/263 [00:03<00:00, 81.00it/s]\n"
     ]
    },
    {
     "name": "stdout",
     "output_type": "stream",
     "text": [
      "Training Loss: 0.11802099\n",
      "Validation Loss: 0.09803282\n",
      "Epoch 142/250\n"
     ]
    },
    {
     "name": "stderr",
     "output_type": "stream",
     "text": [
      "100%|██████████| 66/66 [00:00<00:00, 69.16it/s]\n",
      "100%|██████████| 263/263 [00:03<00:00, 80.86it/s]\n"
     ]
    },
    {
     "name": "stdout",
     "output_type": "stream",
     "text": [
      "Training Loss: 0.11487707\n",
      "Validation Loss: 0.09720967\n",
      "Epoch 143/250\n"
     ]
    },
    {
     "name": "stderr",
     "output_type": "stream",
     "text": [
      "100%|██████████| 66/66 [00:00<00:00, 69.00it/s]\n",
      "100%|██████████| 263/263 [00:03<00:00, 82.66it/s]\n"
     ]
    },
    {
     "name": "stdout",
     "output_type": "stream",
     "text": [
      "Training Loss: 0.11644477\n",
      "Validation Loss: 0.09641433\n",
      "Epoch 144/250\n"
     ]
    },
    {
     "name": "stderr",
     "output_type": "stream",
     "text": [
      "100%|██████████| 66/66 [00:00<00:00, 71.70it/s]\n",
      "100%|██████████| 263/263 [00:03<00:00, 81.78it/s]\n"
     ]
    },
    {
     "name": "stdout",
     "output_type": "stream",
     "text": [
      "Training Loss: 0.11212318\n",
      "Validation Loss: 0.09559917\n",
      "Epoch 145/250\n"
     ]
    },
    {
     "name": "stderr",
     "output_type": "stream",
     "text": [
      "100%|██████████| 66/66 [00:00<00:00, 70.91it/s]\n",
      "100%|██████████| 263/263 [00:03<00:00, 82.53it/s]\n"
     ]
    },
    {
     "name": "stdout",
     "output_type": "stream",
     "text": [
      "Training Loss: 0.11180210\n",
      "Validation Loss: 0.09488087\n",
      "Epoch 146/250\n"
     ]
    },
    {
     "name": "stderr",
     "output_type": "stream",
     "text": [
      "100%|██████████| 66/66 [00:00<00:00, 70.29it/s]\n",
      "100%|██████████| 263/263 [00:03<00:00, 81.76it/s]\n"
     ]
    },
    {
     "name": "stdout",
     "output_type": "stream",
     "text": [
      "Training Loss: 0.11325363\n",
      "Validation Loss: 0.09413172\n",
      "Epoch 147/250\n"
     ]
    },
    {
     "name": "stderr",
     "output_type": "stream",
     "text": [
      "100%|██████████| 66/66 [00:00<00:00, 69.73it/s]\n",
      "100%|██████████| 263/263 [00:03<00:00, 79.83it/s]\n"
     ]
    },
    {
     "name": "stdout",
     "output_type": "stream",
     "text": [
      "Training Loss: 0.11226536\n",
      "Validation Loss: 0.09336694\n",
      "Epoch 148/250\n"
     ]
    },
    {
     "name": "stderr",
     "output_type": "stream",
     "text": [
      "100%|██████████| 66/66 [00:00<00:00, 70.56it/s]\n",
      "100%|██████████| 263/263 [00:03<00:00, 81.74it/s]\n"
     ]
    },
    {
     "name": "stdout",
     "output_type": "stream",
     "text": [
      "Training Loss: 0.11345896\n",
      "Validation Loss: 0.09261238\n",
      "Epoch 149/250\n"
     ]
    },
    {
     "name": "stderr",
     "output_type": "stream",
     "text": [
      "100%|██████████| 66/66 [00:00<00:00, 69.38it/s]\n",
      "100%|██████████| 263/263 [00:03<00:00, 80.58it/s]\n"
     ]
    },
    {
     "name": "stdout",
     "output_type": "stream",
     "text": [
      "Training Loss: 0.10831122\n",
      "Validation Loss: 0.09185736\n",
      "Epoch 150/250\n"
     ]
    },
    {
     "name": "stderr",
     "output_type": "stream",
     "text": [
      "100%|██████████| 66/66 [00:00<00:00, 66.55it/s]\n",
      "100%|██████████| 263/263 [00:03<00:00, 80.54it/s]\n"
     ]
    },
    {
     "name": "stdout",
     "output_type": "stream",
     "text": [
      "Training Loss: 0.10984067\n",
      "Validation Loss: 0.09109554\n",
      "Epoch 151/250\n"
     ]
    },
    {
     "name": "stderr",
     "output_type": "stream",
     "text": [
      "100%|██████████| 66/66 [00:00<00:00, 67.23it/s]\n",
      "100%|██████████| 263/263 [00:03<00:00, 79.71it/s]\n"
     ]
    },
    {
     "name": "stdout",
     "output_type": "stream",
     "text": [
      "Training Loss: 0.10711408\n",
      "Validation Loss: 0.09036468\n",
      "Epoch 152/250\n"
     ]
    },
    {
     "name": "stderr",
     "output_type": "stream",
     "text": [
      "100%|██████████| 66/66 [00:00<00:00, 70.21it/s]\n",
      "100%|██████████| 263/263 [00:03<00:00, 81.06it/s]\n"
     ]
    },
    {
     "name": "stdout",
     "output_type": "stream",
     "text": [
      "Training Loss: 0.10553891\n",
      "Validation Loss: 0.08965944\n",
      "Epoch 153/250\n"
     ]
    },
    {
     "name": "stderr",
     "output_type": "stream",
     "text": [
      "100%|██████████| 66/66 [00:00<00:00, 70.71it/s]\n",
      "100%|██████████| 263/263 [00:03<00:00, 75.83it/s]\n"
     ]
    },
    {
     "name": "stdout",
     "output_type": "stream",
     "text": [
      "Training Loss: 0.10802345\n",
      "Validation Loss: 0.08898370\n",
      "Epoch 154/250\n"
     ]
    },
    {
     "name": "stderr",
     "output_type": "stream",
     "text": [
      "100%|██████████| 66/66 [00:01<00:00, 65.01it/s]\n",
      "100%|██████████| 263/263 [00:03<00:00, 79.29it/s]\n"
     ]
    },
    {
     "name": "stdout",
     "output_type": "stream",
     "text": [
      "Training Loss: 0.10763122\n",
      "Validation Loss: 0.08830170\n",
      "Epoch 155/250\n"
     ]
    },
    {
     "name": "stderr",
     "output_type": "stream",
     "text": [
      "100%|██████████| 66/66 [00:01<00:00, 63.90it/s]\n",
      "100%|██████████| 263/263 [00:03<00:00, 79.70it/s]\n"
     ]
    },
    {
     "name": "stdout",
     "output_type": "stream",
     "text": [
      "Training Loss: 0.10690392\n",
      "Validation Loss: 0.08764483\n",
      "Epoch 156/250\n"
     ]
    },
    {
     "name": "stderr",
     "output_type": "stream",
     "text": [
      "100%|██████████| 66/66 [00:00<00:00, 66.13it/s]\n",
      "100%|██████████| 263/263 [00:03<00:00, 78.76it/s]\n"
     ]
    },
    {
     "name": "stdout",
     "output_type": "stream",
     "text": [
      "Training Loss: 0.10706845\n",
      "Validation Loss: 0.08701546\n",
      "Epoch 157/250\n"
     ]
    },
    {
     "name": "stderr",
     "output_type": "stream",
     "text": [
      "100%|██████████| 66/66 [00:00<00:00, 68.54it/s]\n",
      "100%|██████████| 263/263 [00:03<00:00, 78.74it/s]\n"
     ]
    },
    {
     "name": "stdout",
     "output_type": "stream",
     "text": [
      "Training Loss: 0.10471098\n",
      "Validation Loss: 0.08635803\n",
      "Epoch 158/250\n"
     ]
    },
    {
     "name": "stderr",
     "output_type": "stream",
     "text": [
      "100%|██████████| 66/66 [00:00<00:00, 69.23it/s]\n",
      "100%|██████████| 263/263 [00:03<00:00, 79.59it/s]\n"
     ]
    },
    {
     "name": "stdout",
     "output_type": "stream",
     "text": [
      "Training Loss: 0.09984477\n",
      "Validation Loss: 0.08570800\n",
      "Epoch 159/250\n"
     ]
    },
    {
     "name": "stderr",
     "output_type": "stream",
     "text": [
      "100%|██████████| 66/66 [00:00<00:00, 70.48it/s]\n",
      "100%|██████████| 263/263 [00:03<00:00, 81.16it/s]\n"
     ]
    },
    {
     "name": "stdout",
     "output_type": "stream",
     "text": [
      "Training Loss: 0.10346494\n",
      "Validation Loss: 0.08509350\n",
      "Epoch 160/250\n"
     ]
    },
    {
     "name": "stderr",
     "output_type": "stream",
     "text": [
      "100%|██████████| 66/66 [00:00<00:00, 70.01it/s]\n",
      "100%|██████████| 263/263 [00:03<00:00, 80.13it/s]\n"
     ]
    },
    {
     "name": "stdout",
     "output_type": "stream",
     "text": [
      "Training Loss: 0.10204710\n",
      "Validation Loss: 0.08446152\n",
      "Epoch 161/250\n"
     ]
    },
    {
     "name": "stderr",
     "output_type": "stream",
     "text": [
      "100%|██████████| 66/66 [00:00<00:00, 67.83it/s]\n",
      "100%|██████████| 263/263 [00:03<00:00, 80.69it/s]\n"
     ]
    },
    {
     "name": "stdout",
     "output_type": "stream",
     "text": [
      "Training Loss: 0.10050127\n",
      "Validation Loss: 0.08381005\n",
      "Epoch 162/250\n"
     ]
    },
    {
     "name": "stderr",
     "output_type": "stream",
     "text": [
      "100%|██████████| 66/66 [00:00<00:00, 70.34it/s]\n",
      "100%|██████████| 263/263 [00:03<00:00, 77.12it/s]\n"
     ]
    },
    {
     "name": "stdout",
     "output_type": "stream",
     "text": [
      "Training Loss: 0.09936629\n",
      "Validation Loss: 0.08320278\n",
      "Epoch 163/250\n"
     ]
    },
    {
     "name": "stderr",
     "output_type": "stream",
     "text": [
      "100%|██████████| 66/66 [00:00<00:00, 67.39it/s]\n",
      "100%|██████████| 263/263 [00:03<00:00, 81.33it/s]\n"
     ]
    },
    {
     "name": "stdout",
     "output_type": "stream",
     "text": [
      "Training Loss: 0.09907676\n",
      "Validation Loss: 0.08257684\n",
      "Epoch 164/250\n"
     ]
    },
    {
     "name": "stderr",
     "output_type": "stream",
     "text": [
      "100%|██████████| 66/66 [00:00<00:00, 70.22it/s]\n",
      "100%|██████████| 263/263 [00:03<00:00, 78.02it/s]\n"
     ]
    },
    {
     "name": "stdout",
     "output_type": "stream",
     "text": [
      "Training Loss: 0.09989967\n",
      "Validation Loss: 0.08197760\n",
      "Epoch 165/250\n"
     ]
    },
    {
     "name": "stderr",
     "output_type": "stream",
     "text": [
      "100%|██████████| 66/66 [00:00<00:00, 66.75it/s]\n",
      "100%|██████████| 263/263 [00:03<00:00, 77.00it/s]\n"
     ]
    },
    {
     "name": "stdout",
     "output_type": "stream",
     "text": [
      "Training Loss: 0.09914310\n",
      "Validation Loss: 0.08138543\n",
      "Epoch 166/250\n"
     ]
    },
    {
     "name": "stderr",
     "output_type": "stream",
     "text": [
      "100%|██████████| 66/66 [00:00<00:00, 66.50it/s]\n",
      "100%|██████████| 263/263 [00:03<00:00, 77.04it/s]\n"
     ]
    },
    {
     "name": "stdout",
     "output_type": "stream",
     "text": [
      "Training Loss: 0.09964443\n",
      "Validation Loss: 0.08082669\n",
      "Epoch 167/250\n"
     ]
    },
    {
     "name": "stderr",
     "output_type": "stream",
     "text": [
      "100%|██████████| 66/66 [00:01<00:00, 64.76it/s]\n",
      "100%|██████████| 263/263 [00:03<00:00, 75.35it/s]\n"
     ]
    },
    {
     "name": "stdout",
     "output_type": "stream",
     "text": [
      "Training Loss: 0.09528314\n",
      "Validation Loss: 0.08025225\n",
      "Epoch 168/250\n"
     ]
    },
    {
     "name": "stderr",
     "output_type": "stream",
     "text": [
      "100%|██████████| 66/66 [00:01<00:00, 62.90it/s]\n",
      "100%|██████████| 263/263 [00:03<00:00, 76.16it/s]\n"
     ]
    },
    {
     "name": "stdout",
     "output_type": "stream",
     "text": [
      "Training Loss: 0.09583784\n",
      "Validation Loss: 0.07969070\n",
      "Epoch 169/250\n"
     ]
    },
    {
     "name": "stderr",
     "output_type": "stream",
     "text": [
      "100%|██████████| 66/66 [00:01<00:00, 65.37it/s]\n",
      "100%|██████████| 263/263 [00:03<00:00, 73.14it/s]\n"
     ]
    },
    {
     "name": "stdout",
     "output_type": "stream",
     "text": [
      "Training Loss: 0.09565434\n",
      "Validation Loss: 0.07915247\n",
      "Epoch 170/250\n"
     ]
    },
    {
     "name": "stderr",
     "output_type": "stream",
     "text": [
      "100%|██████████| 66/66 [00:01<00:00, 64.48it/s]\n",
      "100%|██████████| 263/263 [00:03<00:00, 75.69it/s]\n"
     ]
    },
    {
     "name": "stdout",
     "output_type": "stream",
     "text": [
      "Training Loss: 0.09362909\n",
      "Validation Loss: 0.07860091\n",
      "Epoch 171/250\n"
     ]
    },
    {
     "name": "stderr",
     "output_type": "stream",
     "text": [
      "100%|██████████| 66/66 [00:01<00:00, 64.83it/s]\n",
      "100%|██████████| 263/263 [00:03<00:00, 75.39it/s]\n"
     ]
    },
    {
     "name": "stdout",
     "output_type": "stream",
     "text": [
      "Training Loss: 0.09402801\n",
      "Validation Loss: 0.07806688\n",
      "Epoch 172/250\n"
     ]
    },
    {
     "name": "stderr",
     "output_type": "stream",
     "text": [
      "100%|██████████| 66/66 [00:01<00:00, 64.39it/s]\n",
      "100%|██████████| 263/263 [00:03<00:00, 77.20it/s]\n"
     ]
    },
    {
     "name": "stdout",
     "output_type": "stream",
     "text": [
      "Training Loss: 0.09399600\n",
      "Validation Loss: 0.07759269\n",
      "Epoch 173/250\n"
     ]
    },
    {
     "name": "stderr",
     "output_type": "stream",
     "text": [
      "100%|██████████| 66/66 [00:00<00:00, 67.05it/s]\n",
      "100%|██████████| 263/263 [00:03<00:00, 75.95it/s]\n"
     ]
    },
    {
     "name": "stdout",
     "output_type": "stream",
     "text": [
      "Training Loss: 0.09210560\n",
      "Validation Loss: 0.07701197\n",
      "Epoch 174/250\n"
     ]
    },
    {
     "name": "stderr",
     "output_type": "stream",
     "text": [
      "100%|██████████| 66/66 [00:00<00:00, 66.16it/s]\n",
      "100%|██████████| 263/263 [00:03<00:00, 76.53it/s]\n"
     ]
    },
    {
     "name": "stdout",
     "output_type": "stream",
     "text": [
      "Training Loss: 0.08915543\n",
      "Validation Loss: 0.07648029\n",
      "Epoch 175/250\n"
     ]
    },
    {
     "name": "stderr",
     "output_type": "stream",
     "text": [
      "100%|██████████| 66/66 [00:00<00:00, 67.23it/s]\n",
      "100%|██████████| 263/263 [00:03<00:00, 78.06it/s]\n"
     ]
    },
    {
     "name": "stdout",
     "output_type": "stream",
     "text": [
      "Training Loss: 0.09338939\n",
      "Validation Loss: 0.07597716\n",
      "Epoch 176/250\n"
     ]
    },
    {
     "name": "stderr",
     "output_type": "stream",
     "text": [
      "100%|██████████| 66/66 [00:00<00:00, 67.94it/s]\n",
      "100%|██████████| 263/263 [00:03<00:00, 75.72it/s]\n"
     ]
    },
    {
     "name": "stdout",
     "output_type": "stream",
     "text": [
      "Training Loss: 0.09187010\n",
      "Validation Loss: 0.07544662\n",
      "Epoch 177/250\n"
     ]
    },
    {
     "name": "stderr",
     "output_type": "stream",
     "text": [
      "100%|██████████| 66/66 [00:00<00:00, 68.08it/s]\n",
      "100%|██████████| 263/263 [00:03<00:00, 77.90it/s]\n"
     ]
    },
    {
     "name": "stdout",
     "output_type": "stream",
     "text": [
      "Training Loss: 0.09086841\n",
      "Validation Loss: 0.07495437\n",
      "Epoch 178/250\n"
     ]
    },
    {
     "name": "stderr",
     "output_type": "stream",
     "text": [
      "100%|██████████| 66/66 [00:00<00:00, 67.43it/s]\n",
      "100%|██████████| 263/263 [00:03<00:00, 77.32it/s]\n"
     ]
    },
    {
     "name": "stdout",
     "output_type": "stream",
     "text": [
      "Training Loss: 0.09085851\n",
      "Validation Loss: 0.07448416\n",
      "Epoch 179/250\n"
     ]
    },
    {
     "name": "stderr",
     "output_type": "stream",
     "text": [
      "100%|██████████| 66/66 [00:00<00:00, 66.41it/s]\n",
      "100%|██████████| 263/263 [00:03<00:00, 78.75it/s]\n"
     ]
    },
    {
     "name": "stdout",
     "output_type": "stream",
     "text": [
      "Training Loss: 0.09058140\n",
      "Validation Loss: 0.07401660\n",
      "Epoch 180/250\n"
     ]
    },
    {
     "name": "stderr",
     "output_type": "stream",
     "text": [
      "100%|██████████| 66/66 [00:00<00:00, 66.57it/s]\n",
      "100%|██████████| 263/263 [00:03<00:00, 78.69it/s]\n"
     ]
    },
    {
     "name": "stdout",
     "output_type": "stream",
     "text": [
      "Training Loss: 0.08874523\n",
      "Validation Loss: 0.07352437\n",
      "Epoch 181/250\n"
     ]
    },
    {
     "name": "stderr",
     "output_type": "stream",
     "text": [
      "100%|██████████| 66/66 [00:00<00:00, 68.12it/s]\n",
      "100%|██████████| 263/263 [00:03<00:00, 75.94it/s]\n"
     ]
    },
    {
     "name": "stdout",
     "output_type": "stream",
     "text": [
      "Training Loss: 0.08902472\n",
      "Validation Loss: 0.07304674\n",
      "Epoch 182/250\n"
     ]
    },
    {
     "name": "stderr",
     "output_type": "stream",
     "text": [
      "100%|██████████| 66/66 [00:01<00:00, 64.87it/s]\n",
      "100%|██████████| 263/263 [00:03<00:00, 77.05it/s]\n"
     ]
    },
    {
     "name": "stdout",
     "output_type": "stream",
     "text": [
      "Training Loss: 0.08834572\n",
      "Validation Loss: 0.07261698\n",
      "Epoch 183/250\n"
     ]
    },
    {
     "name": "stderr",
     "output_type": "stream",
     "text": [
      "100%|██████████| 66/66 [00:00<00:00, 66.52it/s]\n",
      "100%|██████████| 263/263 [00:03<00:00, 75.65it/s]\n"
     ]
    },
    {
     "name": "stdout",
     "output_type": "stream",
     "text": [
      "Training Loss: 0.08804854\n",
      "Validation Loss: 0.07217072\n",
      "Epoch 184/250\n"
     ]
    },
    {
     "name": "stderr",
     "output_type": "stream",
     "text": [
      "100%|██████████| 66/66 [00:01<00:00, 64.90it/s]\n",
      "100%|██████████| 263/263 [00:03<00:00, 78.30it/s]\n"
     ]
    },
    {
     "name": "stdout",
     "output_type": "stream",
     "text": [
      "Training Loss: 0.08900696\n",
      "Validation Loss: 0.07168875\n",
      "Epoch 185/250\n"
     ]
    },
    {
     "name": "stderr",
     "output_type": "stream",
     "text": [
      "100%|██████████| 66/66 [00:00<00:00, 67.71it/s]\n",
      "100%|██████████| 263/263 [00:03<00:00, 78.53it/s]\n"
     ]
    },
    {
     "name": "stdout",
     "output_type": "stream",
     "text": [
      "Training Loss: 0.08604447\n",
      "Validation Loss: 0.07124814\n",
      "Epoch 186/250\n"
     ]
    },
    {
     "name": "stderr",
     "output_type": "stream",
     "text": [
      "100%|██████████| 66/66 [00:00<00:00, 68.63it/s]\n",
      "100%|██████████| 263/263 [00:03<00:00, 79.83it/s]\n"
     ]
    },
    {
     "name": "stdout",
     "output_type": "stream",
     "text": [
      "Training Loss: 0.08734108\n",
      "Validation Loss: 0.07075977\n",
      "Epoch 187/250\n"
     ]
    },
    {
     "name": "stderr",
     "output_type": "stream",
     "text": [
      "100%|██████████| 66/66 [00:00<00:00, 69.89it/s]\n",
      "100%|██████████| 263/263 [00:03<00:00, 79.93it/s]\n"
     ]
    },
    {
     "name": "stdout",
     "output_type": "stream",
     "text": [
      "Training Loss: 0.08305748\n",
      "Validation Loss: 0.07030117\n",
      "Epoch 188/250\n"
     ]
    },
    {
     "name": "stderr",
     "output_type": "stream",
     "text": [
      "100%|██████████| 66/66 [00:00<00:00, 68.19it/s]\n",
      "100%|██████████| 263/263 [00:03<00:00, 79.53it/s]\n"
     ]
    },
    {
     "name": "stdout",
     "output_type": "stream",
     "text": [
      "Training Loss: 0.08584291\n",
      "Validation Loss: 0.06989290\n",
      "Epoch 189/250\n"
     ]
    },
    {
     "name": "stderr",
     "output_type": "stream",
     "text": [
      "100%|██████████| 66/66 [00:00<00:00, 68.71it/s]\n",
      "100%|██████████| 263/263 [00:03<00:00, 80.46it/s]\n"
     ]
    },
    {
     "name": "stdout",
     "output_type": "stream",
     "text": [
      "Training Loss: 0.08342456\n",
      "Validation Loss: 0.06944104\n",
      "Epoch 190/250\n"
     ]
    },
    {
     "name": "stderr",
     "output_type": "stream",
     "text": [
      "100%|██████████| 66/66 [00:00<00:00, 70.24it/s]\n",
      "100%|██████████| 263/263 [00:03<00:00, 78.77it/s]\n"
     ]
    },
    {
     "name": "stdout",
     "output_type": "stream",
     "text": [
      "Training Loss: 0.08670785\n",
      "Validation Loss: 0.06902635\n",
      "Epoch 191/250\n"
     ]
    },
    {
     "name": "stderr",
     "output_type": "stream",
     "text": [
      "100%|██████████| 66/66 [00:01<00:00, 62.90it/s]\n",
      "100%|██████████| 263/263 [00:03<00:00, 78.45it/s]\n"
     ]
    },
    {
     "name": "stdout",
     "output_type": "stream",
     "text": [
      "Training Loss: 0.08515501\n",
      "Validation Loss: 0.06862746\n",
      "Epoch 192/250\n"
     ]
    },
    {
     "name": "stderr",
     "output_type": "stream",
     "text": [
      "100%|██████████| 66/66 [00:00<00:00, 67.83it/s]\n",
      "100%|██████████| 263/263 [00:03<00:00, 78.10it/s]\n"
     ]
    },
    {
     "name": "stdout",
     "output_type": "stream",
     "text": [
      "Training Loss: 0.08600452\n",
      "Validation Loss: 0.06823030\n",
      "Epoch 193/250\n"
     ]
    },
    {
     "name": "stderr",
     "output_type": "stream",
     "text": [
      "100%|██████████| 66/66 [00:00<00:00, 67.49it/s]\n",
      "100%|██████████| 263/263 [00:03<00:00, 80.80it/s]\n"
     ]
    },
    {
     "name": "stdout",
     "output_type": "stream",
     "text": [
      "Training Loss: 0.08358333\n",
      "Validation Loss: 0.06783368\n",
      "Epoch 194/250\n"
     ]
    },
    {
     "name": "stderr",
     "output_type": "stream",
     "text": [
      "100%|██████████| 66/66 [00:00<00:00, 68.71it/s]\n",
      "100%|██████████| 263/263 [00:03<00:00, 80.90it/s]\n"
     ]
    },
    {
     "name": "stdout",
     "output_type": "stream",
     "text": [
      "Training Loss: 0.08177086\n",
      "Validation Loss: 0.06743001\n",
      "Epoch 195/250\n"
     ]
    },
    {
     "name": "stderr",
     "output_type": "stream",
     "text": [
      "100%|██████████| 66/66 [00:01<00:00, 65.53it/s]\n",
      "100%|██████████| 263/263 [00:03<00:00, 81.53it/s]\n"
     ]
    },
    {
     "name": "stdout",
     "output_type": "stream",
     "text": [
      "Training Loss: 0.07972124\n",
      "Validation Loss: 0.06702568\n",
      "Epoch 196/250\n"
     ]
    },
    {
     "name": "stderr",
     "output_type": "stream",
     "text": [
      "100%|██████████| 66/66 [00:00<00:00, 68.71it/s]\n",
      "100%|██████████| 263/263 [00:03<00:00, 79.26it/s]\n"
     ]
    },
    {
     "name": "stdout",
     "output_type": "stream",
     "text": [
      "Training Loss: 0.08026959\n",
      "Validation Loss: 0.06663750\n",
      "Epoch 197/250\n"
     ]
    },
    {
     "name": "stderr",
     "output_type": "stream",
     "text": [
      "100%|██████████| 66/66 [00:00<00:00, 68.96it/s]\n",
      "100%|██████████| 263/263 [00:03<00:00, 79.52it/s]\n"
     ]
    },
    {
     "name": "stdout",
     "output_type": "stream",
     "text": [
      "Training Loss: 0.08108443\n",
      "Validation Loss: 0.06627073\n",
      "Epoch 198/250\n"
     ]
    },
    {
     "name": "stderr",
     "output_type": "stream",
     "text": [
      "100%|██████████| 66/66 [00:00<00:00, 67.71it/s]\n",
      "100%|██████████| 263/263 [00:03<00:00, 79.60it/s]\n"
     ]
    },
    {
     "name": "stdout",
     "output_type": "stream",
     "text": [
      "Training Loss: 0.08236485\n",
      "Validation Loss: 0.06589782\n",
      "Epoch 199/250\n"
     ]
    },
    {
     "name": "stderr",
     "output_type": "stream",
     "text": [
      "100%|██████████| 66/66 [00:00<00:00, 69.77it/s]\n",
      "100%|██████████| 263/263 [00:03<00:00, 80.89it/s]\n"
     ]
    },
    {
     "name": "stdout",
     "output_type": "stream",
     "text": [
      "Training Loss: 0.08180650\n",
      "Validation Loss: 0.06552994\n",
      "Epoch 200/250\n"
     ]
    },
    {
     "name": "stderr",
     "output_type": "stream",
     "text": [
      "100%|██████████| 66/66 [00:00<00:00, 69.69it/s]\n",
      "100%|██████████| 263/263 [00:03<00:00, 81.17it/s]\n"
     ]
    },
    {
     "name": "stdout",
     "output_type": "stream",
     "text": [
      "Training Loss: 0.08080012\n",
      "Validation Loss: 0.06515000\n",
      "Epoch 201/250\n"
     ]
    },
    {
     "name": "stderr",
     "output_type": "stream",
     "text": [
      "100%|██████████| 66/66 [00:00<00:00, 69.58it/s]\n",
      "100%|██████████| 263/263 [00:03<00:00, 80.20it/s]\n"
     ]
    },
    {
     "name": "stdout",
     "output_type": "stream",
     "text": [
      "Training Loss: 0.07980490\n",
      "Validation Loss: 0.06479051\n",
      "Epoch 202/250\n"
     ]
    },
    {
     "name": "stderr",
     "output_type": "stream",
     "text": [
      "100%|██████████| 66/66 [00:01<00:00, 65.81it/s]\n",
      "100%|██████████| 263/263 [00:03<00:00, 80.65it/s]\n"
     ]
    },
    {
     "name": "stdout",
     "output_type": "stream",
     "text": [
      "Training Loss: 0.08215917\n",
      "Validation Loss: 0.06446112\n",
      "Epoch 203/250\n"
     ]
    },
    {
     "name": "stderr",
     "output_type": "stream",
     "text": [
      "100%|██████████| 66/66 [00:00<00:00, 69.16it/s]\n",
      "100%|██████████| 263/263 [00:03<00:00, 81.24it/s]\n"
     ]
    },
    {
     "name": "stdout",
     "output_type": "stream",
     "text": [
      "Training Loss: 0.07670585\n",
      "Validation Loss: 0.06409271\n",
      "Epoch 204/250\n"
     ]
    },
    {
     "name": "stderr",
     "output_type": "stream",
     "text": [
      "100%|██████████| 66/66 [00:00<00:00, 69.76it/s]\n",
      "100%|██████████| 263/263 [00:03<00:00, 79.86it/s]\n"
     ]
    },
    {
     "name": "stdout",
     "output_type": "stream",
     "text": [
      "Training Loss: 0.07723651\n",
      "Validation Loss: 0.06369828\n",
      "Epoch 205/250\n"
     ]
    },
    {
     "name": "stderr",
     "output_type": "stream",
     "text": [
      "100%|██████████| 66/66 [00:00<00:00, 70.03it/s]\n",
      "100%|██████████| 263/263 [00:03<00:00, 78.80it/s]\n"
     ]
    },
    {
     "name": "stdout",
     "output_type": "stream",
     "text": [
      "Training Loss: 0.08038372\n",
      "Validation Loss: 0.06338730\n",
      "Epoch 206/250\n"
     ]
    },
    {
     "name": "stderr",
     "output_type": "stream",
     "text": [
      "100%|██████████| 66/66 [00:00<00:00, 68.36it/s]\n",
      "100%|██████████| 263/263 [00:03<00:00, 78.09it/s]\n"
     ]
    },
    {
     "name": "stdout",
     "output_type": "stream",
     "text": [
      "Training Loss: 0.07441500\n",
      "Validation Loss: 0.06305033\n",
      "Epoch 207/250\n"
     ]
    },
    {
     "name": "stderr",
     "output_type": "stream",
     "text": [
      "100%|██████████| 66/66 [00:00<00:00, 67.91it/s]\n",
      "100%|██████████| 263/263 [00:03<00:00, 78.43it/s]\n"
     ]
    },
    {
     "name": "stdout",
     "output_type": "stream",
     "text": [
      "Training Loss: 0.07921922\n",
      "Validation Loss: 0.06271202\n",
      "Epoch 208/250\n"
     ]
    },
    {
     "name": "stderr",
     "output_type": "stream",
     "text": [
      "100%|██████████| 66/66 [00:00<00:00, 67.31it/s]\n",
      "100%|██████████| 263/263 [00:03<00:00, 80.47it/s]\n"
     ]
    },
    {
     "name": "stdout",
     "output_type": "stream",
     "text": [
      "Training Loss: 0.07843310\n",
      "Validation Loss: 0.06235217\n",
      "Epoch 209/250\n"
     ]
    },
    {
     "name": "stderr",
     "output_type": "stream",
     "text": [
      "100%|██████████| 66/66 [00:00<00:00, 66.26it/s]\n",
      "100%|██████████| 263/263 [00:03<00:00, 80.09it/s]\n"
     ]
    },
    {
     "name": "stdout",
     "output_type": "stream",
     "text": [
      "Training Loss: 0.07633737\n",
      "Validation Loss: 0.06201815\n",
      "Epoch 210/250\n"
     ]
    },
    {
     "name": "stderr",
     "output_type": "stream",
     "text": [
      "100%|██████████| 66/66 [00:00<00:00, 69.13it/s]\n",
      "100%|██████████| 263/263 [00:03<00:00, 80.55it/s]\n"
     ]
    },
    {
     "name": "stdout",
     "output_type": "stream",
     "text": [
      "Training Loss: 0.07727905\n",
      "Validation Loss: 0.06164725\n",
      "Epoch 211/250\n"
     ]
    },
    {
     "name": "stderr",
     "output_type": "stream",
     "text": [
      "100%|██████████| 66/66 [00:00<00:00, 69.68it/s]\n",
      "100%|██████████| 263/263 [00:03<00:00, 79.20it/s]\n"
     ]
    },
    {
     "name": "stdout",
     "output_type": "stream",
     "text": [
      "Training Loss: 0.07649814\n",
      "Validation Loss: 0.06134774\n",
      "Epoch 212/250\n"
     ]
    },
    {
     "name": "stderr",
     "output_type": "stream",
     "text": [
      "100%|██████████| 66/66 [00:00<00:00, 67.65it/s]\n",
      "100%|██████████| 263/263 [00:03<00:00, 79.02it/s]\n"
     ]
    },
    {
     "name": "stdout",
     "output_type": "stream",
     "text": [
      "Training Loss: 0.07487751\n",
      "Validation Loss: 0.06103497\n",
      "Epoch 213/250\n"
     ]
    },
    {
     "name": "stderr",
     "output_type": "stream",
     "text": [
      "100%|██████████| 66/66 [00:00<00:00, 68.20it/s]\n",
      "100%|██████████| 263/263 [00:03<00:00, 77.10it/s]\n"
     ]
    },
    {
     "name": "stdout",
     "output_type": "stream",
     "text": [
      "Training Loss: 0.07428424\n",
      "Validation Loss: 0.06066032\n",
      "Epoch 214/250\n"
     ]
    },
    {
     "name": "stderr",
     "output_type": "stream",
     "text": [
      "100%|██████████| 66/66 [00:00<00:00, 69.71it/s]\n",
      "100%|██████████| 263/263 [00:03<00:00, 81.02it/s]\n"
     ]
    },
    {
     "name": "stdout",
     "output_type": "stream",
     "text": [
      "Training Loss: 0.07212745\n",
      "Validation Loss: 0.06038196\n",
      "Epoch 215/250\n"
     ]
    },
    {
     "name": "stderr",
     "output_type": "stream",
     "text": [
      "100%|██████████| 66/66 [00:00<00:00, 66.97it/s]\n",
      "100%|██████████| 263/263 [00:03<00:00, 78.53it/s]\n"
     ]
    },
    {
     "name": "stdout",
     "output_type": "stream",
     "text": [
      "Training Loss: 0.07772485\n",
      "Validation Loss: 0.06007696\n",
      "Epoch 216/250\n"
     ]
    },
    {
     "name": "stderr",
     "output_type": "stream",
     "text": [
      "100%|██████████| 66/66 [00:00<00:00, 66.54it/s]\n",
      "100%|██████████| 263/263 [00:03<00:00, 79.62it/s]\n"
     ]
    },
    {
     "name": "stdout",
     "output_type": "stream",
     "text": [
      "Training Loss: 0.07499186\n",
      "Validation Loss: 0.05977121\n",
      "Epoch 217/250\n"
     ]
    },
    {
     "name": "stderr",
     "output_type": "stream",
     "text": [
      "100%|██████████| 66/66 [00:00<00:00, 69.90it/s]\n",
      "100%|██████████| 263/263 [00:03<00:00, 79.75it/s]\n"
     ]
    },
    {
     "name": "stdout",
     "output_type": "stream",
     "text": [
      "Training Loss: 0.07280190\n",
      "Validation Loss: 0.05944500\n",
      "Epoch 218/250\n"
     ]
    },
    {
     "name": "stderr",
     "output_type": "stream",
     "text": [
      "100%|██████████| 66/66 [00:00<00:00, 69.01it/s]\n",
      "100%|██████████| 263/263 [00:03<00:00, 79.25it/s]\n"
     ]
    },
    {
     "name": "stdout",
     "output_type": "stream",
     "text": [
      "Training Loss: 0.07118349\n",
      "Validation Loss: 0.05912451\n",
      "Epoch 219/250\n"
     ]
    },
    {
     "name": "stderr",
     "output_type": "stream",
     "text": [
      "100%|██████████| 66/66 [00:00<00:00, 67.71it/s]\n",
      "100%|██████████| 263/263 [00:03<00:00, 80.21it/s]\n"
     ]
    },
    {
     "name": "stdout",
     "output_type": "stream",
     "text": [
      "Training Loss: 0.07155195\n",
      "Validation Loss: 0.05881196\n",
      "Epoch 220/250\n"
     ]
    },
    {
     "name": "stderr",
     "output_type": "stream",
     "text": [
      "100%|██████████| 66/66 [00:00<00:00, 69.37it/s]\n",
      "100%|██████████| 263/263 [00:03<00:00, 77.23it/s]\n"
     ]
    },
    {
     "name": "stdout",
     "output_type": "stream",
     "text": [
      "Training Loss: 0.07176852\n",
      "Validation Loss: 0.05850729\n",
      "Epoch 221/250\n"
     ]
    },
    {
     "name": "stderr",
     "output_type": "stream",
     "text": [
      "100%|██████████| 66/66 [00:00<00:00, 68.22it/s]\n",
      "100%|██████████| 263/263 [00:03<00:00, 80.17it/s]\n"
     ]
    },
    {
     "name": "stdout",
     "output_type": "stream",
     "text": [
      "Training Loss: 0.07358161\n",
      "Validation Loss: 0.05825424\n",
      "Epoch 222/250\n"
     ]
    },
    {
     "name": "stderr",
     "output_type": "stream",
     "text": [
      "100%|██████████| 66/66 [00:00<00:00, 68.98it/s]\n",
      "100%|██████████| 263/263 [00:03<00:00, 80.27it/s]\n"
     ]
    },
    {
     "name": "stdout",
     "output_type": "stream",
     "text": [
      "Training Loss: 0.07311062\n",
      "Validation Loss: 0.05794055\n",
      "Epoch 223/250\n"
     ]
    },
    {
     "name": "stderr",
     "output_type": "stream",
     "text": [
      "100%|██████████| 66/66 [00:00<00:00, 67.06it/s]\n",
      "100%|██████████| 263/263 [00:03<00:00, 80.92it/s]\n"
     ]
    },
    {
     "name": "stdout",
     "output_type": "stream",
     "text": [
      "Training Loss: 0.07223436\n",
      "Validation Loss: 0.05762640\n",
      "Epoch 224/250\n"
     ]
    },
    {
     "name": "stderr",
     "output_type": "stream",
     "text": [
      "100%|██████████| 66/66 [00:00<00:00, 67.95it/s]\n",
      "100%|██████████| 263/263 [00:03<00:00, 79.26it/s]\n"
     ]
    },
    {
     "name": "stdout",
     "output_type": "stream",
     "text": [
      "Training Loss: 0.07284618\n",
      "Validation Loss: 0.05735659\n",
      "Epoch 225/250\n"
     ]
    },
    {
     "name": "stderr",
     "output_type": "stream",
     "text": [
      "100%|██████████| 66/66 [00:00<00:00, 68.34it/s]\n",
      "100%|██████████| 263/263 [00:03<00:00, 80.13it/s]\n"
     ]
    },
    {
     "name": "stdout",
     "output_type": "stream",
     "text": [
      "Training Loss: 0.06911057\n",
      "Validation Loss: 0.05706540\n",
      "Epoch 226/250\n"
     ]
    },
    {
     "name": "stderr",
     "output_type": "stream",
     "text": [
      "100%|██████████| 66/66 [00:00<00:00, 67.60it/s]\n",
      "100%|██████████| 263/263 [00:03<00:00, 80.72it/s]\n"
     ]
    },
    {
     "name": "stdout",
     "output_type": "stream",
     "text": [
      "Training Loss: 0.07271051\n",
      "Validation Loss: 0.05680060\n",
      "Epoch 227/250\n"
     ]
    },
    {
     "name": "stderr",
     "output_type": "stream",
     "text": [
      "100%|██████████| 66/66 [00:00<00:00, 70.70it/s]\n",
      "100%|██████████| 263/263 [00:03<00:00, 80.46it/s]\n"
     ]
    },
    {
     "name": "stdout",
     "output_type": "stream",
     "text": [
      "Training Loss: 0.07199844\n",
      "Validation Loss: 0.05650487\n",
      "Epoch 228/250\n"
     ]
    },
    {
     "name": "stderr",
     "output_type": "stream",
     "text": [
      "100%|██████████| 66/66 [00:01<00:00, 65.59it/s]\n",
      "100%|██████████| 263/263 [00:03<00:00, 81.42it/s]\n"
     ]
    },
    {
     "name": "stdout",
     "output_type": "stream",
     "text": [
      "Training Loss: 0.06841519\n",
      "Validation Loss: 0.05622620\n",
      "Epoch 229/250\n"
     ]
    },
    {
     "name": "stderr",
     "output_type": "stream",
     "text": [
      "100%|██████████| 66/66 [00:00<00:00, 69.77it/s]\n",
      "100%|██████████| 263/263 [00:03<00:00, 81.00it/s]\n"
     ]
    },
    {
     "name": "stdout",
     "output_type": "stream",
     "text": [
      "Training Loss: 0.06749836\n",
      "Validation Loss: 0.05594898\n",
      "Epoch 230/250\n"
     ]
    },
    {
     "name": "stderr",
     "output_type": "stream",
     "text": [
      "100%|██████████| 66/66 [00:00<00:00, 70.21it/s]\n",
      "100%|██████████| 263/263 [00:03<00:00, 81.44it/s]\n"
     ]
    },
    {
     "name": "stdout",
     "output_type": "stream",
     "text": [
      "Training Loss: 0.07115225\n",
      "Validation Loss: 0.05566223\n",
      "Epoch 231/250\n"
     ]
    },
    {
     "name": "stderr",
     "output_type": "stream",
     "text": [
      "100%|██████████| 66/66 [00:00<00:00, 69.54it/s]\n",
      "100%|██████████| 263/263 [00:03<00:00, 81.40it/s]\n"
     ]
    },
    {
     "name": "stdout",
     "output_type": "stream",
     "text": [
      "Training Loss: 0.06819811\n",
      "Validation Loss: 0.05539272\n",
      "Epoch 232/250\n"
     ]
    },
    {
     "name": "stderr",
     "output_type": "stream",
     "text": [
      "100%|██████████| 66/66 [00:00<00:00, 71.64it/s]\n",
      "100%|██████████| 263/263 [00:03<00:00, 81.40it/s]\n"
     ]
    },
    {
     "name": "stdout",
     "output_type": "stream",
     "text": [
      "Training Loss: 0.06796094\n",
      "Validation Loss: 0.05512145\n",
      "Epoch 233/250\n"
     ]
    },
    {
     "name": "stderr",
     "output_type": "stream",
     "text": [
      "100%|██████████| 66/66 [00:00<00:00, 70.84it/s]\n",
      "100%|██████████| 263/263 [00:03<00:00, 80.57it/s]\n"
     ]
    },
    {
     "name": "stdout",
     "output_type": "stream",
     "text": [
      "Training Loss: 0.06997950\n",
      "Validation Loss: 0.05485247\n",
      "Epoch 234/250\n"
     ]
    },
    {
     "name": "stderr",
     "output_type": "stream",
     "text": [
      "100%|██████████| 66/66 [00:00<00:00, 68.99it/s]\n",
      "100%|██████████| 263/263 [00:03<00:00, 80.75it/s]\n"
     ]
    },
    {
     "name": "stdout",
     "output_type": "stream",
     "text": [
      "Training Loss: 0.06988302\n",
      "Validation Loss: 0.05458521\n",
      "Epoch 235/250\n"
     ]
    },
    {
     "name": "stderr",
     "output_type": "stream",
     "text": [
      "100%|██████████| 66/66 [00:00<00:00, 67.19it/s]\n",
      "100%|██████████| 263/263 [00:03<00:00, 78.18it/s]\n"
     ]
    },
    {
     "name": "stdout",
     "output_type": "stream",
     "text": [
      "Training Loss: 0.06745819\n",
      "Validation Loss: 0.05432627\n",
      "Epoch 236/250\n"
     ]
    },
    {
     "name": "stderr",
     "output_type": "stream",
     "text": [
      "100%|██████████| 66/66 [00:00<00:00, 69.57it/s]\n",
      "100%|██████████| 263/263 [00:03<00:00, 80.57it/s]\n"
     ]
    },
    {
     "name": "stdout",
     "output_type": "stream",
     "text": [
      "Training Loss: 0.06923751\n",
      "Validation Loss: 0.05410519\n",
      "Epoch 237/250\n"
     ]
    },
    {
     "name": "stderr",
     "output_type": "stream",
     "text": [
      "100%|██████████| 66/66 [00:00<00:00, 69.89it/s]\n",
      "100%|██████████| 263/263 [00:03<00:00, 79.84it/s]\n"
     ]
    },
    {
     "name": "stdout",
     "output_type": "stream",
     "text": [
      "Training Loss: 0.06699286\n",
      "Validation Loss: 0.05385188\n",
      "Epoch 238/250\n"
     ]
    },
    {
     "name": "stderr",
     "output_type": "stream",
     "text": [
      "100%|██████████| 66/66 [00:00<00:00, 70.24it/s]\n",
      "100%|██████████| 263/263 [00:03<00:00, 78.63it/s]\n"
     ]
    },
    {
     "name": "stdout",
     "output_type": "stream",
     "text": [
      "Training Loss: 0.06667405\n",
      "Validation Loss: 0.05358248\n",
      "Epoch 239/250\n"
     ]
    },
    {
     "name": "stderr",
     "output_type": "stream",
     "text": [
      "100%|██████████| 66/66 [00:00<00:00, 68.66it/s]\n",
      "100%|██████████| 263/263 [00:03<00:00, 79.75it/s]\n"
     ]
    },
    {
     "name": "stdout",
     "output_type": "stream",
     "text": [
      "Training Loss: 0.06707766\n",
      "Validation Loss: 0.05337156\n",
      "Epoch 240/250\n"
     ]
    },
    {
     "name": "stderr",
     "output_type": "stream",
     "text": [
      "100%|██████████| 66/66 [00:00<00:00, 69.17it/s]\n",
      "100%|██████████| 263/263 [00:03<00:00, 80.25it/s]\n"
     ]
    },
    {
     "name": "stdout",
     "output_type": "stream",
     "text": [
      "Training Loss: 0.06771356\n",
      "Validation Loss: 0.05313122\n",
      "Epoch 241/250\n"
     ]
    },
    {
     "name": "stderr",
     "output_type": "stream",
     "text": [
      "100%|██████████| 66/66 [00:00<00:00, 69.74it/s]\n",
      "100%|██████████| 263/263 [00:03<00:00, 80.83it/s]\n"
     ]
    },
    {
     "name": "stdout",
     "output_type": "stream",
     "text": [
      "Training Loss: 0.06716650\n",
      "Validation Loss: 0.05289650\n",
      "Epoch 242/250\n"
     ]
    },
    {
     "name": "stderr",
     "output_type": "stream",
     "text": [
      "100%|██████████| 66/66 [00:00<00:00, 67.66it/s]\n",
      "100%|██████████| 263/263 [00:03<00:00, 79.12it/s]\n"
     ]
    },
    {
     "name": "stdout",
     "output_type": "stream",
     "text": [
      "Training Loss: 0.06759742\n",
      "Validation Loss: 0.05266233\n",
      "Epoch 243/250\n"
     ]
    },
    {
     "name": "stderr",
     "output_type": "stream",
     "text": [
      "100%|██████████| 66/66 [00:00<00:00, 68.88it/s]\n",
      "100%|██████████| 263/263 [00:03<00:00, 81.46it/s]\n"
     ]
    },
    {
     "name": "stdout",
     "output_type": "stream",
     "text": [
      "Training Loss: 0.06690712\n",
      "Validation Loss: 0.05243095\n",
      "Epoch 244/250\n"
     ]
    },
    {
     "name": "stderr",
     "output_type": "stream",
     "text": [
      "100%|██████████| 66/66 [00:00<00:00, 70.96it/s]\n",
      "100%|██████████| 263/263 [00:03<00:00, 80.54it/s]\n"
     ]
    },
    {
     "name": "stdout",
     "output_type": "stream",
     "text": [
      "Training Loss: 0.06539963\n",
      "Validation Loss: 0.05218590\n",
      "Epoch 245/250\n"
     ]
    },
    {
     "name": "stderr",
     "output_type": "stream",
     "text": [
      "100%|██████████| 66/66 [00:00<00:00, 70.36it/s]\n",
      "100%|██████████| 263/263 [00:03<00:00, 81.21it/s]\n"
     ]
    },
    {
     "name": "stdout",
     "output_type": "stream",
     "text": [
      "Training Loss: 0.06597231\n",
      "Validation Loss: 0.05196622\n",
      "Epoch 246/250\n"
     ]
    },
    {
     "name": "stderr",
     "output_type": "stream",
     "text": [
      "100%|██████████| 66/66 [00:00<00:00, 70.90it/s]\n",
      "100%|██████████| 263/263 [00:03<00:00, 80.05it/s]\n"
     ]
    },
    {
     "name": "stdout",
     "output_type": "stream",
     "text": [
      "Training Loss: 0.06266990\n",
      "Validation Loss: 0.05175659\n",
      "Epoch 247/250\n"
     ]
    },
    {
     "name": "stderr",
     "output_type": "stream",
     "text": [
      "100%|██████████| 66/66 [00:00<00:00, 70.24it/s]\n",
      "100%|██████████| 263/263 [00:03<00:00, 80.88it/s]\n"
     ]
    },
    {
     "name": "stdout",
     "output_type": "stream",
     "text": [
      "Training Loss: 0.06539314\n",
      "Validation Loss: 0.05150198\n",
      "Epoch 248/250\n"
     ]
    },
    {
     "name": "stderr",
     "output_type": "stream",
     "text": [
      "100%|██████████| 66/66 [00:00<00:00, 70.26it/s]\n",
      "100%|██████████| 263/263 [00:03<00:00, 81.76it/s]\n"
     ]
    },
    {
     "name": "stdout",
     "output_type": "stream",
     "text": [
      "Training Loss: 0.06173954\n",
      "Validation Loss: 0.05128173\n",
      "Epoch 249/250\n"
     ]
    },
    {
     "name": "stderr",
     "output_type": "stream",
     "text": [
      "100%|██████████| 66/66 [00:00<00:00, 68.46it/s]\n",
      "100%|██████████| 263/263 [00:03<00:00, 81.45it/s]\n"
     ]
    },
    {
     "name": "stdout",
     "output_type": "stream",
     "text": [
      "Training Loss: 0.06198769\n",
      "Validation Loss: 0.05104664\n",
      "Epoch 250/250\n"
     ]
    },
    {
     "name": "stderr",
     "output_type": "stream",
     "text": [
      "100%|██████████| 66/66 [00:00<00:00, 69.95it/s]\n",
      "100%|██████████| 263/263 [00:03<00:00, 79.98it/s]"
     ]
    },
    {
     "name": "stdout",
     "output_type": "stream",
     "text": [
      "Training Loss: 0.06291320\n",
      "Validation Loss: 0.05081518\n"
     ]
    },
    {
     "name": "stderr",
     "output_type": "stream",
     "text": [
      "\n"
     ]
    }
   ],
   "source": [
    "num_epochs = 250\n",
    "train_losses = []\n",
    "val_losses = []\n",
    "for epoch in range(num_epochs):\n",
    "    print(f'Epoch {epoch + 1}/{num_epochs}')\n",
    "    train_loss = train_epoch(model, train_loader, optimizer, device)\n",
    "    val_loss = eval_epoch(model, val_loader, device)\n",
    "    train_losses.append(train_loss)\n",
    "    val_losses.append(val_loss)\n",
    "    print(f'Training Loss: {train_loss:.8f}')\n",
    "    print(f'Validation Loss: {val_loss:.8f}')\n"
   ]
  },
  {
   "cell_type": "code",
   "execution_count": 7,
   "id": "d4cabfa5",
   "metadata": {
    "execution": {
     "iopub.execute_input": "2024-09-03T18:12:24.232778Z",
     "iopub.status.busy": "2024-09-03T18:12:24.232379Z",
     "iopub.status.idle": "2024-09-03T18:12:24.563581Z",
     "shell.execute_reply": "2024-09-03T18:12:24.562693Z"
    },
    "papermill": {
     "duration": 1.220112,
     "end_time": "2024-09-03T18:12:24.565994",
     "exception": false,
     "start_time": "2024-09-03T18:12:23.345882",
     "status": "completed"
    },
    "tags": []
   },
   "outputs": [
    {
     "data": {
      "image/png": "[encoded data removed]",
      "text/plain": [
       "<Figure size 1000x600 with 1 Axes>"
      ]
     },
     "metadata": {},
     "output_type": "display_data"
    }
   ],
   "source": [
    "import matplotlib.pyplot as plt\n",
    "\n",
    "# Assuming train_losses and val_losses are populated during training\n",
    "num_epochs = len(train_losses)\n",
    "\n",
    "# Plot the losses\n",
    "plt.figure(figsize=(10, 6))\n",
    "plt.plot(range(1, num_epochs + 1), train_losses, label='Training Loss')\n",
    "plt.plot(range(1, num_epochs + 1), val_losses, label='Validation Loss')\n",
    "\n",
    "# Adding titles and labels\n",
    "plt.title('Training and Validation Loss over Epochs')\n",
    "plt.xlabel('Epochs')\n",
    "plt.ylabel('Loss')\n",
    "plt.legend()\n",
    "\n",
    "# Show the plot\n",
    "plt.show()\n"
   ]
  },
  {
   "cell_type": "code",
   "execution_count": 8,
   "id": "2ed199a1",
   "metadata": {
    "execution": {
     "iopub.execute_input": "2024-09-03T18:12:26.397724Z",
     "iopub.status.busy": "2024-09-03T18:12:26.397017Z",
     "iopub.status.idle": "2024-09-03T18:12:26.409893Z",
     "shell.execute_reply": "2024-09-03T18:12:26.409022Z"
    },
    "papermill": {
     "duration": 0.889067,
     "end_time": "2024-09-03T18:12:26.412062",
     "exception": false,
     "start_time": "2024-09-03T18:12:25.522995",
     "status": "completed"
    },
    "scrolled": true,
    "tags": []
   },
   "outputs": [],
   "source": [
    "def remove_padding(predictions, labels, padding_value=-100):\n",
    "    valid_predictions = []\n",
    "    valid_labels = []\n",
    "    for pred, label in zip(predictions, labels):\n",
    "        # Mask out the padding values\n",
    "        valid_mask = (label != padding_value)\n",
    "        valid_predictions.append(pred[valid_mask])\n",
    "        valid_labels.append(label[valid_mask])\n",
    "    return valid_predictions, valid_labels\n",
    "\n",
    "\n",
    "# Final Evaluation on the Entire Dataset\n",
    "test_loader = DataLoader(dataset, batch_size=1, shuffle=False, collate_fn=collate_fn)\n",
    "\n",
    "def calc_accuracy(label,pred):\n",
    "    lab = np.array(label, dtype = object)\n",
    "    pre = np.array(pred, dtype = object)\n",
    "    for i in range(len(lab)):\n",
    "        elem1 = lab[i]\n",
    "        if len(elem1) == 0:\n",
    "            lab[i] = np.array([20])\n",
    "    for i in range(len(pre)):\n",
    "        elem1 = pre[i]\n",
    "        if len(elem1) == 0:\n",
    "            pre[i] = np.array([20])\n",
    "    correct = np.sum(lab == pre)\n",
    "    total = len(label) \n",
    "    return correct, total\n",
    "\n",
    "# def eval_with_accuracy(model, dataloader, device, connect_dict):\n",
    "#     model.eval()\n",
    "#     total_loss = 0\n",
    "#     correct_predictions = 0\n",
    "#     total_predictions = 0\n",
    "#     count = 0\n",
    "#     with torch.no_grad():\n",
    "#         for batch in tqdm(dataloader):\n",
    "#             input_ids = batch['input_ids'].to(device)\n",
    "#             attention_mask = batch['attention_mask'].to(device)\n",
    "#             labels = batch['labels'].to(device)\n",
    "#             sentence_ids = batch['sentence_id']\n",
    "#             outputs = model(input_ids=input_ids, attention_mask=attention_mask)\n",
    "#             logits = outputs.logits\n",
    "#             predictions = torch.argmax(logits, dim=-1)\n",
    "\n",
    "#             # Move predictions and labels to CPU for further processing\n",
    "#             predictions = predictions.cpu().numpy()\n",
    "#             labels = labels.cpu().numpy()\n",
    "# #             if count <= 2:\n",
    "# #                 print(input_ids.shape)\n",
    "# #                 print(labels.shape)\n",
    "# #                 print(predictions.shape)\n",
    "# #                 count+= 1\n",
    "#             entity_tokens = []\n",
    "# #             pred = predictions.tolist()\n",
    "#             try:\n",
    "#                 for i, labela in enumerate(predictions):\n",
    "#                     try:\n",
    "#                         # Find the start and end index of the entity\n",
    "#                         start_idx = (labela == 1).nonzero()[0].item() - 1\n",
    "#                         end_idx = (labela == 2).nonzero()[0].item() + 1\n",
    "\n",
    "#                         # Extract the input_ids corresponding to these tokens\n",
    "#                         entity_token_ids = input_ids[0][start_idx + 1:end_idx]\n",
    "\n",
    "#                         # Decode the token ids to words\n",
    "#                         entity_tokens = tokenizer.decode(entity_token_ids)\n",
    "#                     except Exception as e:\n",
    "#                         print(f\"An error occurred while processing prediction {labela} with sentence_id{sentence_ids}: {str(e)}\")\n",
    "\n",
    "#             except Exception as e:\n",
    "#                 print(f\"An unexpected error occurred: {str(e)}\")\n",
    "# #                         if label in [1, 2]:  \n",
    "# #                             print(label)\n",
    "# #                             token_id = input_ids[0][j].item()\n",
    "# #                             token = tokenizer.decode([token_id])\n",
    "# #                             entity_tokens.append(token)\n",
    "# #                             print(token)\n",
    "# #                 # Join the tokens back to form the words (taking care of tokenization artifacts like '##')\n",
    "# #                 entities = tokenizer.convert_tokens_to_string(entity_tokens)\n",
    "\n",
    "# #             print(\"Extracted Entities:\", entities)\n",
    "#             for j in sentence_ids:\n",
    "#                 connect_dict[j] = entity_tokens\n",
    "#             # Calculate accuracy for this batch\n",
    "#             for pred, label in zip(predictions, labels):\n",
    "#                 valid_pred, valid_label = remove_padding(pred, label)  # Remove padding\n",
    "# #                 if count <= 20:\n",
    "# #                     print(np.array(valid_pred, dtype = object))\n",
    "# #                     print(np.array(valid_label, dtype = object))\n",
    "# #                     count+=1\n",
    "# #                 if count <= 20:\n",
    "# #                     print(valid_label[0].shape)\n",
    "# #                     print(valid_pred[0].shape)\n",
    "# #                     print(len(valid_label),len(valid_pred))\n",
    "#                 a,b = calc_accuracy(valid_label,valid_pred)\n",
    "#                 correct_predictions += a\n",
    "#                 total_predictions += b\n",
    "# #                 correct_predictions += np.sum(np.array(valid_pred, dtype = object) == np.array(valid_label, dtype = object))\n",
    "# #                 total_predictions += len(valid_label)  # Total tokens (not padded)\n",
    "#     # Final accuracy\n",
    "#     accuracy = correct_predictions / total_predictions if total_predictions > 0 else 0.0\n",
    "    \n",
    "#     return accuracy\n",
    "\n",
    "# # Evaluation with accuracy metric\n",
    "# connect_dict = {}\n",
    "# test_accuracy = eval_with_accuracy(model, test_loader, device, connect_dict)\n",
    "\n",
    "# print(f'Testing Accuracy: {test_accuracy:.8f}')"
   ]
  },
  {
   "cell_type": "code",
   "execution_count": 9,
   "id": "bb6b7157",
   "metadata": {
    "execution": {
     "iopub.execute_input": "2024-09-03T18:12:28.213103Z",
     "iopub.status.busy": "2024-09-03T18:12:28.212716Z",
     "iopub.status.idle": "2024-09-03T18:12:28.216742Z",
     "shell.execute_reply": "2024-09-03T18:12:28.215897Z"
    },
    "papermill": {
     "duration": 0.887307,
     "end_time": "2024-09-03T18:12:28.218848",
     "exception": false,
     "start_time": "2024-09-03T18:12:27.331541",
     "status": "completed"
    },
    "tags": []
   },
   "outputs": [],
   "source": [
    "# a = np.array([1,2,3])\n",
    "# b = np.array([1,1,1])\n",
    "# c = torch.tensor([3,5,6])\n",
    "# print(c[a == b])"
   ]
  },
  {
   "cell_type": "code",
   "execution_count": 10,
   "id": "29c83a7b",
   "metadata": {
    "execution": {
     "iopub.execute_input": "2024-09-03T18:12:30.030472Z",
     "iopub.status.busy": "2024-09-03T18:12:30.030099Z",
     "iopub.status.idle": "2024-09-03T18:12:30.034264Z",
     "shell.execute_reply": "2024-09-03T18:12:30.033498Z"
    },
    "papermill": {
     "duration": 0.887352,
     "end_time": "2024-09-03T18:12:30.036174",
     "exception": false,
     "start_time": "2024-09-03T18:12:29.148822",
     "status": "completed"
    },
    "scrolled": true,
    "tags": []
   },
   "outputs": [],
   "source": [
    "# print(connect_dict)"
   ]
  },
  {
   "cell_type": "code",
   "execution_count": 11,
   "id": "a1f13ef6",
   "metadata": {
    "execution": {
     "iopub.execute_input": "2024-09-03T18:12:31.883906Z",
     "iopub.status.busy": "2024-09-03T18:12:31.883235Z",
     "iopub.status.idle": "2024-09-03T18:12:31.889928Z",
     "shell.execute_reply": "2024-09-03T18:12:31.888979Z"
    },
    "papermill": {
     "duration": 0.906336,
     "end_time": "2024-09-03T18:12:31.892034",
     "exception": false,
     "start_time": "2024-09-03T18:12:30.985698",
     "status": "completed"
    },
    "tags": []
   },
   "outputs": [
    {
     "name": "stdout",
     "output_type": "stream",
     "text": [
      "3076\n"
     ]
    }
   ],
   "source": [
    "num_params: int = sum(p.numel() for p in model.parameters() if p.requires_grad)\n",
    "print(num_params)"
   ]
  },
  {
   "cell_type": "code",
   "execution_count": 12,
   "id": "b1420965",
   "metadata": {
    "execution": {
     "iopub.execute_input": "2024-09-03T18:12:33.696581Z",
     "iopub.status.busy": "2024-09-03T18:12:33.696122Z",
     "iopub.status.idle": "2024-09-03T18:12:34.428881Z",
     "shell.execute_reply": "2024-09-03T18:12:34.427962Z"
    },
    "papermill": {
     "duration": 1.616186,
     "end_time": "2024-09-03T18:12:34.431242",
     "exception": false,
     "start_time": "2024-09-03T18:12:32.815056",
     "status": "completed"
    },
    "tags": []
   },
   "outputs": [],
   "source": [
    "torch.save(model.state_dict(), 'model.pth')"
   ]
  },
  {
   "cell_type": "code",
   "execution_count": 13,
   "id": "0dcd796d",
   "metadata": {
    "execution": {
     "iopub.execute_input": "2024-09-03T18:12:36.308974Z",
     "iopub.status.busy": "2024-09-03T18:12:36.308560Z",
     "iopub.status.idle": "2024-09-03T18:13:04.215175Z",
     "shell.execute_reply": "2024-09-03T18:13:04.214204Z"
    },
    "papermill": {
     "duration": 28.821396,
     "end_time": "2024-09-03T18:13:04.217771",
     "exception": false,
     "start_time": "2024-09-03T18:12:35.396375",
     "status": "completed"
    },
    "tags": []
   },
   "outputs": [
    {
     "name": "stderr",
     "output_type": "stream",
     "text": [
      " 60%|██████    | 1586/2626 [00:16<00:10, 94.74it/s]"
     ]
    },
    {
     "name": "stdout",
     "output_type": "stream",
     "text": [
      "An error occurred while processing prediction [0 0 0 0 0 0 0 0 0 0 0] with sentence_id [1576]: min() arg is an empty sequence\n"
     ]
    },
    {
     "name": "stderr",
     "output_type": "stream",
     "text": [
      "100%|██████████| 2626/2626 [00:27<00:00, 94.18it/s]"
     ]
    },
    {
     "name": "stdout",
     "output_type": "stream",
     "text": [
      "Testing Accuracy: 0.99220754\n"
     ]
    },
    {
     "name": "stderr",
     "output_type": "stream",
     "text": [
      "\n"
     ]
    }
   ],
   "source": [
    "def eval_with_accuracy(model, dataloader, device, connect_dict):\n",
    "    model.eval()\n",
    "    total_loss = 0\n",
    "    correct_predictions = 0\n",
    "    total_predictions = 0\n",
    "    count = 0\n",
    "    with torch.no_grad():\n",
    "        for batch in tqdm(dataloader):\n",
    "            input_ids = batch['input_ids'].to(device)\n",
    "            attention_mask = batch['attention_mask'].to(device)\n",
    "            labels = batch['labels'].to(device)\n",
    "            sentence_ids = batch['sentence_id']\n",
    "            outputs = model(input_ids=input_ids, attention_mask=attention_mask)\n",
    "            logits = outputs.logits\n",
    "            predictions = torch.argmax(logits, dim=-1)\n",
    "\n",
    "            # Move predictions and labels to CPU for further processing\n",
    "            predictions = predictions.cpu().numpy()\n",
    "            labels = labels.cpu().numpy()\n",
    "\n",
    "            entity_tokens = []\n",
    "            try:\n",
    "                for i, labela in enumerate(predictions):\n",
    "                    try:\n",
    "                        start_positions = (labela == 1).nonzero()[0]\n",
    "                        end_positions = (labela == 2).nonzero()[0]\n",
    "\n",
    "                                # Handling multiple start and end positions\n",
    "                        if len(start_positions) > 1:\n",
    "                            start_idx = start_positions[0]  # First occurrence of 1             \n",
    "                        elif len(start_positions) > 0:\n",
    "                            start_idx = start_positions[0]\n",
    "\n",
    "                        if len(end_positions) > 1:\n",
    "                            end_idx = end_positions[-1]  # Last occurrence of 2\n",
    "                        elif len(end_positions) > 0:\n",
    "                            end_idx = end_positions[0]\n",
    "\n",
    "                        # If either start or end position is not present, take all tokens of 1s and 2s\n",
    "                        if len(start_positions) == 0 or len(end_positions) == 0:\n",
    "                            all_positions = [j for j, x in enumerate(labela) if x in [1, 2]]\n",
    "                            start_idx = min(all_positions)\n",
    "                            end_idx = max(all_positions)\n",
    "\n",
    "                                # Extract the input_ids corresponding to these tokens\n",
    "                        entity_token_ids = input_ids[i][start_idx:end_idx + 1]\n",
    "\n",
    "                                # Decode the token ids to words\n",
    "                        entity_tokens = tokenizer.decode(entity_token_ids)\n",
    "                    except Exception as e:\n",
    "                          print(f\"An error occurred while processing prediction {labela} with sentence_id {sentence_ids}: {str(e)}\")\n",
    "\n",
    "\n",
    "            except Exception as e:\n",
    "                print(f\"An unexpected error occurred: {str(e)}\")\n",
    "            \n",
    "#             try:\n",
    "#             for i, labela in enumerate(predictions):\n",
    "# #                     try:\n",
    "#                 start_positions = (labela == 1).nonzero()[0]\n",
    "#                 end_positions = (labela == 2).nonzero()[0]\n",
    "\n",
    "#                         # Handling multiple start and end positions\n",
    "#                 if len(start_positions) > 1:\n",
    "#                     start_idx = start_positions[0]  # First occurrence of 1             \n",
    "#                 elif len(start_positions) > 0:\n",
    "#                     start_idx = start_positions[0]\n",
    "\n",
    "#                 if len(end_positions) > 1:\n",
    "#                     end_idx = end_positions[-1]  # Last occurrence of 2\n",
    "#                 elif len(end_positions) > 0:\n",
    "#                     end_idx = end_positions[0]\n",
    "\n",
    "#                 # If either start or end position is not present, take all tokens of 1s and 2s\n",
    "#                 if len(start_positions) == 0 or len(end_positions) == 0:\n",
    "#                     all_positions = [j for j, x in enumerate(labela) if x in [1, 2]]\n",
    "#                     start_idx = min(all_positions)\n",
    "#                     end_idx = max(all_positions)\n",
    "\n",
    "#                         # Extract the input_ids corresponding to these tokens\n",
    "#                 entity_token_ids = input_ids[i][start_idx:end_idx + 1]\n",
    "\n",
    "#                         # Decode the token ids to words\n",
    "#                 entity_tokens = tokenizer.decode(entity_token_ids)\n",
    "# #                     except Exception as e:\n",
    "# #                         print(f\"An error occurred while processing prediction {labela} with sentence_id {sentence_ids}: {str(e)}\")\n",
    "\n",
    "# #             except Exception as e:\n",
    "# #                 print(f\"An unexpected error occurred: {str(e)}\")\n",
    "\n",
    "            for j in sentence_ids:\n",
    "                connect_dict[j] = entity_tokens\n",
    "\n",
    "            # Calculate accuracy for this batch\n",
    "            for pred, label in zip(predictions, labels):\n",
    "                valid_pred, valid_label = remove_padding(pred, label)  # Remove padding\n",
    "                a, b = calc_accuracy(valid_label, valid_pred)\n",
    "                correct_predictions += a\n",
    "                total_predictions += b\n",
    "\n",
    "    # Final accuracy\n",
    "    accuracy = correct_predictions / total_predictions if total_predictions > 0 else 0.0\n",
    "\n",
    "    return accuracy\n",
    "\n",
    "\n",
    "\n",
    "# Evaluation with accuracy metric\n",
    "connect_dict = {}\n",
    "test_accuracy = eval_with_accuracy(model, test_loader, device, connect_dict)\n",
    "\n",
    "print(f'Testing Accuracy: {test_accuracy:.8f}')"
   ]
  },
  {
   "cell_type": "code",
   "execution_count": 14,
   "id": "13147b39",
   "metadata": {
    "execution": {
     "iopub.execute_input": "2024-09-03T18:13:06.141182Z",
     "iopub.status.busy": "2024-09-03T18:13:06.140825Z",
     "iopub.status.idle": "2024-09-03T18:13:06.147528Z",
     "shell.execute_reply": "2024-09-03T18:13:06.146614Z"
    },
    "papermill": {
     "duration": 0.919926,
     "end_time": "2024-09-03T18:13:06.151240",
     "exception": false,
     "start_time": "2024-09-03T18:13:05.231314",
     "status": "completed"
    },
    "tags": []
   },
   "outputs": [
    {
     "name": "stdout",
     "output_type": "stream",
     "text": [
      "{1: \"Carl's Jr.\", 2: \"Carl's Jr.\", 3: \"Carl's Jr.\", 4: \"Carl's Jr.\", 5: \"Carl's Jr.\", 6: \"Carl's Jr. has the parent company CKE Restaurants\", 7: 'Target Corporation', 8: 'Target Corporation', 9: 'Target Corporation', 10: 'Target Corporation', 11: 'Target Corporation', 12: 'Target Corporation', 13: 'Castrol', 14: 'Castrol', 15: 'Castrol', 16: 'Castrol', 17: 'Castrol', 18: 'Castrol', 19: 'Castrol', 20: 'Castrol', 21: 'Forever 21', 22: 'Forever 21', 23: 'Forever 21', 24: 'Forever 21', 25: 'Forever 21', 26: 'Mister Donut', 27: 'Mister Donut', 28: 'Mister Donut', 29: 'Mister Donut', 30: 'Mister Donut', 31: 'Calvin Klein Inc', 32: 'Calvin Klein Inc', 33: 'Calvin Klein Inc', 34: 'Calvin Klein Inc', 35: 'Calvin Klein Inc', 36: 'Calvin Klein Inc', 37: 'Calvin Klein Inc', 38: 'China Unicom', 39: 'China Unicom', 40: 'China Unicom', 41: 'China Unicom', 42: 'China Unicom', 43: 'China Unicom', 44: \"Chili's\", 45: \"Chili's\", 46: \"Chili's\", 47: \"Chili's\", 48: \"Chili's\", 49: 'H', 50: 'Hotto Motto', 51: 'China Everbright Bank', 52: 'China Everbright Bank', 53: 'China Everbright Bank', 54: 'China Everbright Bank', 55: 'T.J. Maxx', 56: 'T.J. Maxx', 57: 'T.J. Maxx', 58: 'T.J. Maxx', 59: 'T.J. Maxx', 60: 'Yamada Denki', 61: 'Yamada Denki', 62: 'Yamada Denki', 63: 'Yamada Denki', 64: 'Y', 65: 'Cinnabon', 66: 'Cinnabon', 67: 'Cinnabon', 68: 'Cinnabon', 69: 'Cinnabon', 70: 'Cinnabon', 71: 'Hiroshima Bank', 72: 'Hiroshima Bank', 73: 'Hiroshima Bank', 74: 'Hiroshima Bank', 75: 'Columbia Sportswear Company', 76: 'Columbia Sportswear Company', 77: 'Columbia Sportswear Company', 78: 'Columbia Sportswear Company', 79: 'Columbia Sportswear Company', 80: 'Comerica', 81: 'Comerica', 82: 'Comerica', 83: 'Comerica', 84: 'Comerica', 85: 'Comerica', 86: 'Denizbank', 87: 'Denizbank', 88: 'Denizbank', 89: 'Denizbank', 90: 'Denizbank', 91: 'Denizbank', 92: 'Conoco', 93: 'Conoco', 94: 'Conoco', 95: 'Conoco', 96: 'Nordea', 97: 'Nordea', 98: 'Nordea', 99: 'Nordea', 100: 'Nordea', 101: 'Athleta', 102: 'Athleta', 103: 'Athleta', 104: 'Five Guys', 105: 'Five Guys', 106: 'Five Guys', 107: 'Five Guys', 108: 'Five Guys', 109: 'Five Guys', 110: 'Suruga Bank', 111: 'Suruga Bank', 112: 'Suruga Bank', 113: 'Suruga Bank', 114: 'PVH', 115: 'PVH', 116: 'H', 117: 'Vans', 118: 'Vans', 119: 'Vans', 120: 'Vans', 121: 'Vans', 122: 'Vans', 123: 'Dairy Queen', 124: 'Dairy Queen', 125: 'Dairy Queen', 126: 'Dairy Queen', 127: 'Dairy Queen', 128: 'Dairy Queen', 129: 'Häagen-Dazs', 130: 'Häagen-Dazs', 131: 'Häagen-Dazs', 132: 'Häagen-Dazs', 133: 'Häagen-Dazs', 134: 'Häagen-Dazs', 135: 'Häagen-Dazs', 136: 'Swedbank', 137: 'Swedbank', 138: 'Swedbank', 139: 'Swedbank', 140: 'Swedbank', 141: 'Future Shop', 142: 'Future Shop', 143: 'Future Shop', 144: 'Future Shop', 145: 'Future Shop', 146: 'Future Shop', 147: 'Future Shop', 148: 'VakıfBank', 149: 'VakıfBank', 150: 'VakıfBank', 151: 'VakıfBank', 152: 'Lloyds Bank', 153: 'Lloyds Bank', 154: 'Lloyds Bank', 155: 'Lloyds Bank', 156: 'Dickies', 157: 'Dickies', 158: 'Dickies', 159: 'Dickies', 160: 'Dickies', 161: 'Gunma Bank', 162: 'Gunma Bank', 163: 'Gunma Bank', 164: 'Gunma Bank', 165: 'Del Taco', 166: 'Del Taco', 167: 'Del Taco', 168: 'Del Taco', 169: 'IHOP', 170: 'IHOP', 171: 'IHOP', 172: 'IHOP', 173: 'IHOP', 174: \"Denny's\", 175: \"Denny's\", 176: \"Denny's\", 177: \"Denny's\", 178: \"Denny's\", 179: 'Krispy Kreme', 180: 'Krispy Kreme', 181: 'Krispy Kreme', 182: 'Krispy Kreme', 183: 'Krispy Kreme', 184: 'Krispy Kreme', 185: 'RadioShack', 186: 'RadioShack', 187: 'RadioShack', 188: 'RadioShack', 189: 'RadioShack', 190: 'Toronto–Dominion Bank', 191: 'Toronto–Dominion Bank', 192: 'Toronto–Dominion Bank', 193: 'Toronto–Dominion Bank', 194: 'Vodafone', 195: 'Vodafone', 196: 'Vodafone', 197: 'Vodafone', 198: 'Vodafone', 199: 'Vodafone', 200: 'Vodafone', 201: 'Petro-Canada', 202: 'Petro-Canada', 203: 'Petro-Canada', 204: 'Petro-Canada', 205: 'Petro-Canada', 206: 'Petro-Canada', 207: 'Nikon', 208: 'Nikon', 209: 'Nikon', 210: 'Nikon', 211: 'Nikon', 212: 'Nikon', 213: 'Nikon', 214: 'Belk', 215: 'Belk', 216: 'Bel', 217: 'Resona Holdings', 218: 'Resona Holdings', 219: 'Resona Holdings', 220: 'Resona Holdings', 221: 'Aldi', 222: 'Aldi', 223: 'Aldi', 224: 'Aldi', 225: 'Aldi', 226: 'A', 227: 'Popeyes Louisiana Kitchen', 228: 'Popeyes Louisiana Kitchen', 229: 'Popeyes Louisiana Kitchen', 230: 'Popeyes Louisiana Kitchen', 231: 'Popeyes Louisiana Kitchen', 232: 'Popeyes Louisiana Kitchen', 233: 'Popeyes Louisiana Kitchen', 234: 'Levi Strauss & Co.', 235: 'Levi Strauss & Co.', 236: 'Levi Strauss & Co.', 237: 'Levi Strauss & Co.', 238: 'Levi Strauss & Co.', 239: 'Levi Strauss & Co.', 240: 'Levi Strauss & Co.', 241: 'Valero Energy Corporation', 242: 'Valero Energy Corporation', 243: 'Valero Energy Corporation', 244: 'Valero Energy Corporation', 245: 'Valero Energy Corporation', 246: 'Indian Oil Corporation', 247: 'Indian Oil Corporation', 248: 'Indian Oil Corporation', 249: 'Indian Oil Corporation', 250: 'Indian Oil Corporation', 251: 'Panda Express', 252: 'Panda Express', 253: 'Panda Express', 254: 'Panda Express', 255: 'Panda Express', 256: 'State', 257: 'State', 258: 'State', 259: 'State', 260: 'Intesa Sanpaolo', 261: 'Intesa Sanpaolo', 262: 'Int', 263: 'Intesa Sanpaolo', 264: 'Intesa Sanpaolo', 265: 'Sunglass Hut International', 266: 'Sunglass Hut International', 267: 'Sunglass Hut International', 268: 'Mango', 269: 'Mango', 270: 'Mango', 271: 'Mango', 272: 'Mango', 273: 'Mango', 274: 'Mango', 275: 'Maybank', 276: 'Maybank', 277: 'Maybank', 278: 'Maybank', 279: 'Maybank', 280: 'Maybank', 281: 'Jyske Bank', 282: 'Jyske Bank', 283: 'Jyske Bank', 284: 'Jyske Bank', 285: 'Géant Casino', 286: 'Géant Casino', 287: 'Géant Casino', 288: 'Géant Casino', 289: 'Fifth Third Bank', 290: 'Fifth Third Bank', 291: 'Fifth Third Bank', 292: 'Fifth Third Bank', 293: 'Fifth Third Bank', 294: 'Little Caesars', 295: 'Little Caesars', 296: 'Little Caesars', 297: 'Little Caesars', 298: 'Little Caesars', 299: 'Speedo International Limited', 300: 'Speedo International Limited', 301: 'Speedo International Limited', 302: 'Speedo International Limited', 303: 'Speedo International Limited', 304: 'Speedo International Limited', 305: 'Hand', 306: 'Hand', 307: 'Hand', 308: 'Hand', 309: 'Hand', 310: 'Hand', 311: 'Montblanc', 312: 'Montblanc', 313: 'Montblanc', 314: 'Montblanc', 315: 'Montblanc', 316: 'Montblanc', 317: 'Montblanc', 318: 'Wrangler', 319: 'Wrangler', 320: 'Wrangler', 321: 'Wrangler', 322: 'Wrangler', 323: 'Wrangler', 324: 'National Australia Bank', 325: 'National Australia Bank', 326: 'National Australia Bank', 327: 'National Australia Bank', 328: 'National Australia Bank', 329: 'UBI Banca', 330: 'UBI Banca', 331: 'UBI Banca', 332: 'UBI Banca', 333: 'Dollar General', 334: 'Dollar General', 335: 'Dollar General', 336: 'Dollar General', 337: 'Zara', 338: 'Zara', 339: 'Zara', 340: 'Zara', 341: 'Zara', 342: 'Zara has the parent company Inditex', 343: 'Zara', 344: 'Lenovo', 345: 'Lenovo', 346: 'Lenovo', 347: 'Lenovo', 348: 'Lenovo', 349: 'Lenovo', 350: 'Lenovo', 351: 'Gal', 352: 'Galp Energia', 353: 'Gal', 354: 'Galp Energia', 355: 'Galp Energia', 356: 'Tractor Supply Company', 357: 'Tractor Supply Company', 358: 'Tractor Supply Company', 359: 'Tractor Supply Company', 360: 'Tractor Supply Company', 361: 'Michelin', 362: 'Michelin', 363: 'Michelin', 364: 'Michelin', 365: 'Michelin', 366: 'Michelin', 367: 'BP', 368: 'BP', 369: 'BP', 370: 'BP', 371: 'BP', 372: 'BP', 373: 'Lidl', 374: 'Lidl', 375: 'Lidl', 376: 'Lidl', 377: 'Lidl', 378: 'Lidl', 379: 'Lidl', 380: \"Sainsbury's\", 381: \"Sainsbury's\", 382: \"Sainsbury's\", 383: \"Sainsbury's\", 384: \"Sainsbury's\", 385: \"Sainsbury's\", 386: \"Sainsbury's\", 387: 'The North Face, Inc.', 388: 'The North Face, Inc.', 389: 'The North Face, Inc.', 390: 'The North Face, Inc.', 391: 'The North Face, Inc.', 392: 'The North Face, Inc.', 393: 'The North Face, Inc.', 394: 'Kroger', 395: 'Kroger', 396: 'Kroger', 397: 'Kroger', 398: 'Kroger', 399: 'Kroger', 400: \"Long John Silver's\", 401: \"Long John Silver's\", 402: \"Long John Silver's\", 403: \"Long John Silver's\", 404: \"Long John Silver's has the parent company Yum! Brands\", 405: 'Long', 406: 'The Timberland Company', 407: 'The Timberland Company', 408: 'The Timberland Company', 409: 'The Timberland Company', 410: 'The Timberland Company', 411: 'The Timberland Company', 412: 'The Timberland Company', 413: 'Jack in the Box', 414: 'Jack in the Box', 415: 'Jack in the Box', 416: 'Jack in the Box', 417: 'Jack in the Box', 418: 'Jack in the Box', 419: 'Jack in the Box', 420: 'Royal Dutch Shell', 421: 'Royal Dutch Shell', 422: 'Royal Dutch Shell', 423: 'Royal Dutch Shell', 424: 'Royal Dutch Shell', 425: 'Royal Dutch Shell', 426: 'Royal Dutch Shell', 427: 'Total S.A.', 428: 'Total S.A.', 429: 'Total S.A.', 430: 'Total S.A.', 431: 'Total S.A.', 432: 'Total S.A.', 433: 'Puma SE', 434: 'Puma SE', 435: 'Puma SE', 436: 'Puma SE', 437: 'Puma SE', 438: 'Puma SE', 439: 'DATS petrol stations', 440: 'DATS petrol stations', 441: 'P', 442: 'Pingo Doce', 443: 'Pingo Doce', 444: 'Pingo Doce', 445: 'Marshalls', 446: 'Marshalls', 447: 'Marshalls', 448: 'Marshalls', 449: 'Marshalls', 450: 'Marshalls', 451: 'Marshalls', 452: 'Commerzbank', 453: 'Commerzbank', 454: 'Commerzbank', 455: 'Commerzbank', 456: 'Commerzbank', 457: 'Commerzbank', 458: 'Standard Bank', 459: 'Standard Bank', 460: 'Standard Bank', 461: 'Standard Bank', 462: 'Standard Bank', 463: 'Standard Bank', 464: 'Diesel', 465: 'Diesel', 466: 'Diesel', 467: 'Diesel', 468: 'Diesel', 469: 'Diesel', 470: \"Hardee's\", 471: \"Hardee's\", 472: \"Hardee's\", 473: \"Hardee's\", 474: \"Hardee's\", 475: \"Hardee's has the parent company CKE Restaurants\", 476: \"Hardee's\", 477: 'K', 478: 'Kungfu', 479: 'Kungfu', 480: 'Walgreens', 481: 'Walgreens', 482: 'Walgreens', 483: 'Walgreens', 484: 'Walgreens', 485: 'Walgreens has the parent company Walgreens Boots Alliance', 486: 'Walgreens', 487: 'Hess Corporation', 488: 'Hess Corporation', 489: 'Hess Corporation', 490: 'Hess Corporation', 491: 'Hess Corporation', 492: 'The', 493: 'The', 494: 'The', 495: 'The', 496: 'The', 497: 'The', 498: 'Oakley, Inc.', 499: 'Oak', 500: 'Oakley, Inc.', 501: 'Oakley, Inc.', 502: 'Oakley, Inc.', 503: 'Oakley, Inc.', 504: 'Oak', 505: 'Continental AG', 506: 'Continental AG', 507: 'Continental AG', 508: 'Continental AG', 509: 'Continental AG', 510: 'Hindustan Petroleum', 511: 'Hindustan Petroleum', 512: 'Hindustan Petroleum', 513: 'LG Electronics', 514: 'LG Electronics', 515: 'LG Electronics', 516: 'LG Electronics', 517: 'LG Electronics', 518: 'LG Electronics', 519: 'LG Electronics', 520: 'Volvo', 521: 'Volvo', 522: 'Volvo', 523: 'Volvo', 524: 'Volvo', 525: 'Volvo', 526: 'Danske Bank', 527: 'Danske Bank', 528: 'Danske Bank', 529: 'Danske Bank', 530: 'Fujifilm', 531: 'Fujifilm', 532: 'Fujifilm', 533: 'Fujifilm', 534: 'Fujifilm', 535: 'Fujifilm', 536: 'Fujifilm', 537: 'Allied Irish Banks', 538: 'Allied Irish Banks', 539: 'Allied Irish Banks', 540: 'Allied Irish Banks', 541: 'Banco Popular', 542: 'Banco Popular', 543: 'Banco Popular', 544: 'Rogers Communications', 545: 'Rogers Communications', 546: 'Rogers Communications', 547: 'Rogers Communications', 548: 'Rogers Communications', 549: 'Rogers Communications', 550: 'ICICI Bank', 551: 'ICICI Bank', 552: 'ICICI Bank', 553: 'ICICI Bank', 554: 'Phillips 66', 555: 'Phillips 66', 556: 'Phillips 66', 557: 'Phillips 66', 558: 'Phillips 66', 559: 'Phillips 66', 560: 'TELUS', 561: 'TELUS', 562: 'TELUS', 563: 'TELUS', 564: 'TELUS', 565: 'OMV', 566: 'OMV', 567: 'OMV', 568: 'OMV', 569: 'OMV', 570: 'HomeSense', 571: 'HomeSense', 572: 'HomeSense', 573: \"Jimmy John's\", 574: \"Jimmy John's\", 575: \"Jimmy John's\", 576: \"Jimmy John's\", 577: \"Jimmy John's\", 578: \"Jimmy John's\", 579: 'Old Chang Kee', 580: 'Old Chang Kee', 581: 'Old Chang Kee', 582: 'Old Chang Kee', 583: 'Waffle House', 584: 'Waffle House', 585: 'Waffle House', 586: 'Waffle House', 587: 'Great Canadian Dollar Store', 588: 'Great Canadian Dollar Store', 589: 'Great Canadian Dollar Store', 590: 'Great Canadian Dollar Store', 591: 'First National Bank', 592: 'First National Bank', 593: 'First National Bank', 594: 'Nordstrom', 595: 'Nordstrom', 596: 'Nordstrom', 597: 'Nordstrom', 598: 'Nordstrom', 599: 'Silicon Valley Bank', 600: 'Silicon Valley Bank', 601: 'Silicon Valley Bank', 602: 'Silicon Valley Bank', 603: 'KeyBank', 604: 'KeyBank', 605: 'KeyBank', 606: 'KeyBank', 607: 'KeyBank', 608: 'Tim Hortons', 609: 'Tim Hortons', 610: 'Tim Hortons', 611: 'Tim Hortons', 612: 'Tim Hortons', 613: 'Tim Hortons', 614: 'Burger King', 615: 'Burger King', 616: 'Burger King', 617: 'Burger King', 618: 'Burger King', 619: 'Burger King', 620: 'Burger King', 621: 'Kmart', 622: 'Kmart', 623: 'Kmart', 624: 'Kmart', 625: 'Kmart', 626: 'Kmart', 627: 'Kmart', 628: 'Al-Rajhi Bank', 629: 'Al-Rajhi Bank', 630: 'Al-Rajhi Bank', 631: 'Al-Rajhi Bank', 632: 'Al-Rajhi Bank', 633: 'Alfred Dunhill', 634: 'Alfred Dunhill', 635: 'Alfred Dunhill', 636: 'Alfred Dunhill', 637: 'Alfred Dunhill', 638: 'Equinor', 639: 'Equinor', 640: 'Equinor', 641: 'Equinor', 642: 'Equinor', 643: 'E', 644: 'Bridgestone', 645: 'Bridgestone', 646: 'Bridgestone', 647: 'Bridgestone', 648: 'Bridgestone', 649: 'Gucci', 650: 'Gucci', 651: 'Gucci', 652: 'Gucci', 653: 'Gucci', 654: 'Gucci', 655: 'Whole Foods Market', 656: 'Whole Foods Market', 657: 'Whole Foods Market', 658: 'Whole Foods Market', 659: 'Whole Foods Market', 660: 'Whole Foods Market', 661: 'Whole Foods Market', 662: 'Suzuki', 663: 'Suzuki', 664: 'Suzuki', 665: 'Suzuki', 666: 'Suzuki', 667: 'Suzuki', 668: 'Suzuki', 669: 'PTT Public Company Limited', 670: 'PTT Public Company Limited', 671: 'PTT Public Company Limited', 672: 'PTT Public Company Limited', 673: 'SunTrust Banks', 674: 'SunTrust Banks', 675: 'SunTrust Banks', 676: 'SunTrust Banks', 677: 'National Oilwell Varco', 678: 'National Oilwell Varco', 679: 'National Oilwell Varco', 680: 'National Oilwell Varco', 681: 'H', 682: 'Hennes & Mauritz', 683: 'H', 684: 'H', 685: 'Hennes & Mauritz', 686: 'Shoppers Drug Mart', 687: 'Shoppers Drug Mart', 688: 'Shoppers Drug Mart', 689: 'Shoppers Drug Mart', 690: 'Shoppers Drug Mart', 691: 'Shoppers Drug Mart', 692: 'Shoprite', 693: 'Shoprite', 694: 'Shoprite', 695: 'Shoprite', 696: 'Tata Motors', 697: 'Tata Motors', 698: 'Tata Motors', 699: 'Tata Motors', 700: 'Tata Motors', 701: 'Tata Motors', 702: 'Tata Motors', 703: 'Tata Motors', 704: 'HSBC Holdings', 705: 'HSBC Holdings', 706: 'HSBC Holdings', 707: 'HSBC Holdings', 708: 'HSBC Holdings', 709: 'HSBC Holdings', 710: 'Suning Appliance', 711: 'Suning Appliance', 712: 'Suning Appliance', 713: 'Suning Appliance', 714: 'Suning Appliance', 715: 'Suning Appliance', 716: 'Meijer', 717: 'Meijer', 718: 'Meijer', 719: 'Meijer', 720: 'Meijer', 721: 'Louis Vuitton', 722: 'Louis Vuitton', 723: 'Louis Vuitton', 724: 'Louis Vuitton', 725: 'Louis Vuitton', 726: 'Louis Vuitton', 727: 'Louis Vuitton', 728: 'Pizza Hut', 729: 'Pizza Hut', 730: 'Pizza Hut', 731: 'Pizza Hut', 732: 'Pizza Hut', 733: 'Pizza Hut has the parent company Yum! Brands', 734: 'Pizza Hut', 735: 'metroPCS', 736: 'metroPCS', 737: 'metroPCS', 738: 'metroPCS', 739: 'metroPCS', 740: 'JPMorgan Chase', 741: 'JPMorgan Chase', 742: 'JPMorgan Chase', 743: 'JPMorgan Chase', 744: 'JPMorgan Chase', 745: 'JPMorgan Chase', 746: 'JPMorgan Chase', 747: 'Prada', 748: 'Prada', 749: 'Prada', 750: 'Prada', 751: 'Prada', 752: 'Quiznos', 753: 'Quiznos', 754: 'Quiznos', 755: 'Quiznos', 756: 'Quiznos', 757: 'Michael Kors', 758: 'Michael', 759: 'Michael', 760: 'Michael Kors', 761: 'Michael Kors', 762: \"Sam's Club\", 763: \"Sam's Club\", 764: \"Sam's Club\", 765: \"Sam's Club\", 766: \"Sam's Club\", 767: \"Sam's Club\", 768: \"Sam's Club\", 769: 'Biba Apparels', 770: 'Biba Apparels', 771: 'Axis Bank', 772: 'Axis Bank', 773: 'Axis Bank', 774: 'Axis Bank', 775: 'Canara Bank', 776: 'Canara Bank', 777: 'Canara Bank', 778: 'Canara Bank', 779: 'Indian Overseas Bank', 780: 'Indian Overseas Bank', 781: 'Indian Overseas Bank', 782: 'Indian Overseas Bank', 783: 'Indian Overseas Bank', 784: 'Bank of Baroda', 785: 'Bank', 786: 'Bank', 787: 'Bank', 788: 'Bank of Baroda', 789: 'Union', 790: 'Union', 791: 'Union', 792: 'Union Bank', 793: 'Central', 794: 'Central', 795: 'Central', 796: 'Bank', 797: 'Bank', 798: 'Bank', 799: 'Nissan', 800: 'Nissan', 801: 'Nissan', 802: 'Nissan', 803: 'Nissan', 804: 'Nissan', 805: 'Nissan', 806: 'Nissan', 807: 'Allahabad Bank', 808: 'Allahabad Bank', 809: 'Allahabad Bank', 810: 'Allahabad Bank', 811: 'SoftBank', 812: 'SoftBank', 813: 'SoftBank', 814: 'SoftBank', 815: 'SoftBank', 816: 'SoftBank', 817: 'Kotak Mahindra Bank', 818: 'Kotak Mahindra Bank', 819: 'Kotak Mahindra Bank', 820: 'Kotak Mahindra Bank', 821: 'Westpac', 822: 'Westpac', 823: 'Westpac', 824: 'Westpac', 825: 'Siam Commercial Bank', 826: 'Siam Commercial Bank', 827: 'Siam Commercial Bank', 828: 'Siam Commercial Bank', 829: 'Siam Commercial Bank', 830: 'United Overseas Bank', 831: 'United Overseas Bank', 832: 'United Overseas Bank', 833: 'United Overseas Bank', 834: 'Oversea-Chinese Banking Corporation', 835: 'Oversea-Chinese Banking Corporation', 836: 'Oversea-Chinese Banking Corporation', 837: 'Oversea-Chinese Banking Corporation', 838: 'Dolce & Gabbana', 839: 'Dolce & Gabbana', 840: 'Dolce & Gabbana', 841: 'Dolce & Gabbana', 842: 'Dolce & Gabbana', 843: 'CVS Pharmacy', 844: 'CVS Pharmacy', 845: 'CVS Pharmacy', 846: 'CVS Pharmacy', 847: 'CVS Pharmacy', 848: 'CVS Pharmacy', 849: 'CVS Pharmacy', 850: 'Petrobras', 851: 'Petrobras', 852: 'Petrobras', 853: 'Petrobras', 854: 'Petrobras', 855: 'Petrobras', 856: 'Petrobras', 857: 'Casio', 858: 'Casio', 859: 'Casio', 860: 'Casio', 861: 'Casio', 862: 'Casio', 863: 'Chanel', 864: 'Chanel', 865: 'Chanel', 866: 'Chanel', 867: 'Chanel', 868: 'Carrefour', 869: 'Carrefour', 870: 'Carrefour', 871: 'Carrefour', 872: 'Carrefour', 873: 'Citigroup', 874: 'Citigroup', 875: 'Citigroup', 876: 'Citigroup', 877: 'Citigroup', 878: 'Citigroup', 879: 'Idemitsu Kosan', 880: 'Idemitsu Kosan', 881: 'Idemitsu Kosan', 882: 'Idemitsu Kosan', 883: 'Id', 884: 'Pearle Opticians', 885: 'Pearle Opticians', 886: 'Pearle Opticians', 887: 'Pearle Opticians', 888: 'Honda', 889: 'Honda', 890: 'Honda', 891: 'Honda', 892: 'Honda', 893: 'Honda', 894: 'Jumbo', 895: 'Jumbo', 896: 'Jumbo', 897: 'Jumbo has the parent company Jumbo Food Groep', 898: 'J', 899: 'Yves Saint Laurent', 900: 'Yves Saint Laurent', 901: 'Yves Saint Laurent', 902: 'Yves Saint Laurent', 903: 'Yves Saint Laurent', 904: 'Yves Saint Laurent', 905: 'Colruyt', 906: 'Colruyt', 907: 'Col', 908: 'Colruyt', 909: 'Col', 910: 'Audi', 911: 'Audi', 912: 'Audi', 913: 'Audi', 914: 'Audi', 915: 'Audi', 916: 'Audi', 917: 'Aud', 918: 'Franprix', 919: 'Franprix', 920: 'Franprix', 921: 'Franprix', 922: 'Franprix', 923: 'Sysco', 924: 'Sysco', 925: 'Sysco', 926: 'Sysco', 927: 'Barclays', 928: 'Barclays', 929: 'Barclays', 930: 'Barclays', 931: 'Barclays', 932: \"Chuck E. Cheese's\", 933: \"Chuck E. Cheese's\", 934: \"Chuck E. Cheese's\", 935: \"Chuck E. Cheese's\", 936: \"Chuck E. Cheese's\", 937: \"Chuck E. Cheese's\", 938: \"Chuck E. Cheese's\", 939: 'Subway', 940: 'Subway', 941: 'Subway', 942: 'Subway', 943: 'Subway', 944: 'Subway', 945: 'Subway', 946: 'Volkswagen', 947: 'Volkswagen', 948: 'Volkswagen', 949: 'Volkswagen', 950: 'Volkswagen', 951: 'Volkswagen', 952: 'Volkswagen', 953: 'Next plc', 954: 'Next plc', 955: 'Next plc', 956: 'Next', 957: 'Next plc', 958: 'Next plc', 959: '7-Eleven', 960: '7-Eleven', 961: '7-Eleven', 962: '7-Eleven', 963: '7-Eleven', 964: '7-Eleven', 965: 'UNIQLO', 966: 'UNIQLO', 967: 'UNIQLO', 968: 'UNIQLO', 969: 'UNIQLO has the parent company Fast Retailing', 970: 'İşbank', 971: 'İşbank', 972: 'İşbank', 973: 'İşbank', 974: 'Arab Bank', 975: 'Arab Bank', 976: 'Arab Bank', 977: 'Bank', 978: 'Bank', 979: 'Bank Hapoalim', 980: 'Bank', 981: 'Bank', 982: 'Bank', 983: 'Aston Martin', 984: 'Aston Martin', 985: 'Aston Martin', 986: 'Aston Martin', 987: 'Aston Martin', 988: 'Aston Martin', 989: 'AEON', 990: 'AEON', 991: 'AEON', 992: 'AEON', 993: 'AEON', 994: 'Amul', 995: 'Amul', 996: 'Amul', 997: 'Amul', 998: 'Bentley', 999: 'Bentley', 1000: 'Bentley', 1001: 'Bentley', 1002: 'Bentley', 1003: 'Bentley', 1004: 'Bentley', 1005: 'Bentley', 1006: 'National Westminster Bank', 1007: 'National Westminster Bank', 1008: 'National Westminster Bank', 1009: 'National Westminster Bank', 1010: 'National Westminster Bank', 1011: 'National Westminster Bank', 1012: 'National Westminster Bank', 1013: 'Punjab National Bank', 1014: 'Punjab National Bank', 1015: 'Punjab National Bank', 1016: 'Punjab National Bank', 1017: 'Punjab National Bank', 1018: 'Punjab National Bank', 1019: 'BYD Auto', 1020: 'BYD Auto', 1021: 'BYD Auto', 1022: 'BYD Auto', 1023: 'BYD Auto', 1024: 'BYD Auto', 1025: 'Cadillac', 1026: 'Cadillac', 1027: 'Cadillac', 1028: 'Cadillac', 1029: 'Cadillac', 1030: 'Cadillac', 1031: 'Cadillac', 1032: 'Ferrari', 1033: 'Ferrari', 1034: 'Ferrari', 1035: 'Ferrari', 1036: 'Ferrari', 1037: 'Ferrari', 1038: 'Ferrari', 1039: \"Papa John's Pizza\", 1040: \"Papa John's Pizza\", 1041: \"Papa John's Pizza\", 1042: \"Papa John's Pizza\", 1043: \"Papa John's Pizza\", 1044: \"Papa John's Pizza\", 1045: 'Kasikornbank', 1046: 'Kasikornbank', 1047: 'Kasikornbank', 1048: 'Kasikornbank', 1049: 'Kasikornbank', 1050: 'Fiat', 1051: 'Fiat', 1052: 'Fiat', 1053: 'Fiat', 1054: 'Fiat', 1055: 'Fiat', 1056: 'Fiat', 1057: 'Amazon Go', 1058: 'Amazon Go', 1059: 'Amazon Go', 1060: 'Amazon Go', 1061: 'Caltex', 1062: 'Caltex', 1063: 'Turkcell', 1064: 'Turkcell', 1065: 'Turkcell', 1066: 'Turkcell', 1067: 'Turkcell', 1068: 'Turkcell', 1069: \"Bloomingdale's\", 1070: \"Bloomingdale's\", 1071: \"Bloomingdale's\", 1072: \"Bloomingdale's\", 1073: \"Bloomingdale's\", 1074: \"Bloomingdale's has the parent company Macy's\", 1075: 'Al', 1076: 'Al', 1077: 'Al', 1078: 'Al', 1079: 'Al', 1080: 'Al', 1081: 'Commonwealth Bank', 1082: 'Commonwealth Bank', 1083: 'Commonwealth Bank', 1084: 'Commonwealth Bank', 1085: 'Commonwealth Bank', 1086: 'Bank Negara Indonesia', 1087: 'Bank Negara Indonesia', 1088: 'Bank Negara Indonesia', 1089: 'Mizuho Bank', 1090: 'Mizuho Bank', 1091: 'Mizuho Bank', 1092: 'Mizuho Bank', 1093: 'Mizuho Bank', 1094: 'Mizuho Bank', 1095: 'B', 1096: 'Brico Dépôt', 1097: 'B', 1098: 'Brico Dépôt has the parent company Kingfisher', 1099: 'B', 1100: 'Iyo Bank', 1101: 'Iyo Bank', 1102: 'Iyo Bank', 1103: 'KBC Group', 1104: 'KBC Group', 1105: 'KBC Group', 1106: 'KBC Group', 1107: 'KBC Group', 1108: 'GMC', 1109: 'GMC', 1110: 'GMC', 1111: 'GMC', 1112: 'GMC', 1113: 'GMC', 1114: 'GMC', 1115: 'G', 1116: 'Chevrolet', 1117: 'Chevrolet', 1118: 'Chevrolet', 1119: 'Chevrolet', 1120: 'Chevrolet', 1121: 'Chevrolet', 1122: 'Chevrolet', 1123: 'Chevrolet', 1124: 'Škoda Auto', 1125: 'Škoda Auto', 1126: 'Škoda Auto', 1127: 'Škoda Auto', 1128: 'Škoda Auto', 1129: 'Škoda Auto', 1130: 'Škoda Auto', 1131: 'Škoda Auto produces car, Škoda Fabia, Š', 1132: 'Asda', 1133: 'Asda', 1134: 'Asda', 1135: 'Asda', 1136: 'Asda', 1137: 'Frontier Communications', 1138: 'Frontier Communications', 1139: 'Frontier Communications', 1140: 'Frontier Communications', 1141: 'Frontier Communications', 1142: 'Isuzu Motors', 1143: 'Isuzu Motors', 1144: 'Isuzu Motors', 1145: 'Isuzu Motors', 1146: 'Isuzu Motors', 1147: 'Isuzu Motors', 1148: 'Isuzu Motors', 1149: 'Olive Garden', 1150: 'Olive Garden', 1151: 'Olive Garden', 1152: 'Olive Garden', 1153: 'Olive Garden', 1154: 'CIMB', 1155: 'CIMB', 1156: 'CIMB', 1157: 'CIMB', 1158: 'East West Bank', 1159: 'East West Bank', 1160: 'East West Bank', 1161: 'East West Bank', 1162: 'East West Bank', 1163: 'Fastenal', 1164: 'Fastenal', 1165: 'Fastenal', 1166: 'Fastenal', 1167: 'Public Bank Berhad', 1168: 'Public Bank Berhad', 1169: 'Public Bank Berhad', 1170: 'Public Bank Berhad', 1171: 'Public Bank Berhad', 1172: 'au', 1173: 'au', 1174: 'au', 1175: 'au', 1176: 'au has the parent company KDDI', 1177: 'au', 1178: 'Jamba Juice', 1179: 'Jamba Juice', 1180: 'Jamba Juice', 1181: 'Jamba Juice', 1182: 'Ito-Yokado', 1183: 'Ito-Yokado', 1184: 'Ito-Yokado', 1185: 'Ito-Yokado', 1186: 'Ito-Yokado', 1187: 'Lacoste', 1188: 'Lacoste', 1189: 'Lacoste', 1190: 'Lacoste', 1191: 'Lacoste', 1192: 'Lacoste', 1193: 'Lacoste', 1194: 'Lacoste', 1195: 'Chevron Corporation', 1196: 'Chevron Corporation', 1197: 'Chevron Corporation', 1198: 'Chevron Corporation', 1199: 'Chevron Corporation', 1200: 'Chevron Corporation', 1201: 'Abercrombie & Fitch', 1202: 'Abercrombie & Fitch', 1203: 'Abercrombie & Fitch', 1204: 'Abercrombie & Fitch', 1205: 'Abercrombie & Fitch', 1206: 'Abercrombie & Fitch', 1207: 'La Senza', 1208: 'La Senza', 1209: 'La Senza', 1210: 'La Senza', 1211: 'The Source', 1212: 'The Source', 1213: 'The', 1214: 'The Source', 1215: 'The', 1216: 'LongHorn Steakhouse', 1217: 'LongHorn Steakhouse', 1218: 'LongHorn Steakhouse', 1219: 'LongHorn Steakhouse', 1220: 'Garanti Bank', 1221: 'Garanti Bank', 1222: 'Garanti Bank', 1223: 'Garanti Bank', 1224: 'T-Mobile International', 1225: 'T-Mobile International', 1226: 'T-Mobile International', 1227: 'T-Mobile International', 1228: 'T-Mobile International', 1229: 'T-Mobile International', 1230: 'T-Mobile International', 1231: 'Lotte Mart', 1232: 'Lotte Mart', 1233: 'Lotte Mart', 1234: 'M&T Bank', 1235: 'M&T Bank', 1236: 'M&T Bank', 1237: 'M&T Bank', 1238: 'Lukoil', 1239: 'Lukoil', 1240: 'Lukoil', 1241: 'Lukoil', 1242: 'Lukoil', 1243: 'Lukoil', 1244: 'Monoprix', 1245: 'Monoprix', 1246: 'Monoprix', 1247: 'Monoprix', 1248: 'Monoprix', 1249: 'Monoprix', 1250: 'Monoprix', 1251: \"Victoria's Secret\", 1252: \"Victoria's Secret\", 1253: \"Victoria's Secret\", 1254: \"Victoria's Secret\", 1255: \"Victoria's Secret\", 1256: \"Victoria's Secret\", 1257: 'Oysho', 1258: 'Oysho', 1259: 'Oysho', 1260: 'O', 1261: 'Oysho has the parent company Inditex', 1262: 'Orange Julius', 1263: 'Orange Julius', 1264: 'Orange Julius', 1265: 'Orange Julius', 1266: 'KPN', 1267: 'KPN', 1268: 'KPN', 1269: 'KPN', 1270: 'KPN', 1271: 'Rite Aid', 1272: 'Rite Aid', 1273: 'Rite Aid', 1274: 'Rite Aid', 1275: 'Rite Aid', 1276: 'Ross Stores', 1277: 'Ross Stores', 1278: 'Ross Stores', 1279: 'Ross Stores', 1280: 'Ross Stores', 1281: 'Kia Motors', 1282: 'Kia Motors', 1283: 'Kia Motors', 1284: 'Kia Motors', 1285: 'Kia Motors', 1286: 'Kia Motors', 1287: 'Kia Motors', 1288: \"Nando's\", 1289: \"Nando's\", 1290: \"Nando's\", 1291: 'Raymond Group', 1292: 'Raymond Group', 1293: 'Raymond Group', 1294: 'AT&T', 1295: 'AT&T', 1296: 'AT&T', 1297: 'AT&T', 1298: 'AT&T', 1299: 'AT&T', 1300: 'Urban Outfitters', 1301: 'Urban Outfitters', 1302: 'Urban Outfitters', 1303: 'Urban Outfitters', 1304: 'Urban Outfitters', 1305: 'Urban Outfitters', 1306: 'Urban Outfitters', 1307: 'Lamborghini', 1308: 'Lamborghini', 1309: 'Lamborghini', 1310: 'Lamborghini', 1311: 'Lamborghini', 1312: 'Lamborghini', 1313: 'Lamborghini', 1314: 'Lamborghini', 1315: 'H', 1316: 'Halkbank', 1317: 'Halkbank', 1318: 'Mercedes-Benz', 1319: 'Mercedes-Benz', 1320: 'Mercedes-Benz', 1321: 'Mercedes-Benz', 1322: 'Mercedes-Benz', 1323: 'Mercedes-Benz', 1324: 'Mercedes-Benz', 1325: 'Mazda', 1326: 'Mazda', 1327: 'Mazda', 1328: 'Mazda', 1329: 'Mazda', 1330: 'Mazda', 1331: 'Mazda', 1332: 'Mitsubishi Motors', 1333: 'Mitsubishi Motors', 1334: 'Mitsubishi Motors', 1335: 'Mitsubishi Motors', 1336: 'Mitsubishi Motors', 1337: 'Mitsubishi Motors', 1338: 'Mitsubishi Motors', 1339: 'Big Bazaar', 1340: 'Big Bazaar', 1341: 'Big Bazaar', 1342: 'Big Bazaar', 1343: 'Big Bazaar', 1344: 'IDBI Bank', 1345: 'IDBI Bank', 1346: 'IDBI Bank', 1347: 'Starbucks', 1348: 'Starbucks', 1349: 'Starbucks', 1350: 'Starbucks', 1351: 'Starbucks', 1352: 'Starbucks', 1353: 'Starbucks', 1354: 'Jollibee Foods Corporation', 1355: 'Jollibee Foods Corporation', 1356: 'Jollibee Foods Corporation', 1357: 'Jollibee Foods Corporation', 1358: \"Goody's\", 1359: \"Goody's\", 1360: \"Goody's\", 1361: \"Goody's has the parent company Vivartia\", 1362: \"Goody's\", 1363: \"McDonald's\", 1364: \"McDonald's\", 1365: \"McDonald's\", 1366: \"McDonald's\", 1367: \"McDonald's\", 1368: 'Whataburger', 1369: 'Whataburger', 1370: 'Whataburger', 1371: 'Whataburger', 1372: 'Whataburger', 1373: 'Agip', 1374: 'Agip', 1375: 'Agip', 1376: 'Ag', 1377: 'Agip', 1378: 'Ag', 1379: 'Charles & Keith', 1380: 'Charles', 1381: 'Charles', 1382: 'Charles', 1383: 'PNC Financial Services', 1384: 'PNC Financial Services', 1385: 'PNC Financial Services', 1386: 'PNC Financial Services', 1387: 'PNC Financial Services', 1388: 'Adidas', 1389: 'Adidas', 1390: 'Adidas', 1391: 'Adidas', 1392: 'Adidas', 1393: 'Adidas', 1394: 'Adidas', 1395: 'China CITIC Bank', 1396: 'China CITIC Bank', 1397: 'China CITIC Bank', 1398: 'China CITIC Bank', 1399: 'Burberry', 1400: 'Burberry', 1401: 'Burberry', 1402: 'Burberry', 1403: 'Burberry', 1404: 'Burberry', 1405: 'National', 1406: 'National', 1407: 'National', 1408: 'National', 1409: 'Bank', 1410: 'Bank', 1411: 'Bank', 1412: 'Bank', 1413: 'Porsche', 1414: 'Porsche', 1415: 'Porsche', 1416: 'Porsche', 1417: 'Porsche', 1418: 'Porsche', 1419: 'Porsche', 1420: 'P', 1421: 'Sony', 1422: 'Sony', 1423: 'Sony', 1424: 'Sony', 1425: 'Sony', 1426: 'Sony', 1427: 'Sony', 1428: 'Akbank', 1429: 'Akbank', 1430: 'Akbank', 1431: 'Akbank', 1432: 'Gap, Inc.', 1433: 'G', 1434: 'Gap, Inc.', 1435: 'G', 1436: 'Gap, Inc.', 1437: 'Gap, Inc.', 1438: 'Pepe Jeans', 1439: 'Pepe Jeans', 1440: 'Pepe Jeans', 1441: 'Pepe Jeans', 1442: 'Ford Motor Company', 1443: 'Ford Motor Company', 1444: 'Ford Motor Company', 1445: 'Ford Motor Company', 1446: 'Ford Motor Company', 1447: 'Ford Motor Company', 1448: 'Ford Motor Company', 1449: 'Scotiabank', 1450: 'Scotiabank', 1451: 'Scotiabank', 1452: 'Scotiabank', 1453: 'Scotiabank', 1454: 'Marathon Petroleum', 1455: 'Marathon Petroleum', 1456: 'Marathon Petroleum', 1457: 'Marathon Petroleum', 1458: 'Marathon Petroleum', 1459: 'UniCredit', 1460: 'UniCredit', 1461: 'UniCredit', 1462: 'UniCredit', 1463: 'UniCredit', 1464: 'American Apparel', 1465: 'American Apparel', 1466: 'American Apparel', 1467: 'American Apparel', 1468: 'American Apparel', 1469: 'American Apparel', 1470: 'Chipotle Mexican Grill', 1471: 'Chipotle Mexican Grill', 1472: 'Chipotle Mexican Grill', 1473: 'Chipotle Mexican Grill', 1474: 'Chipotle Mexican Grill', 1475: 'Chipotle Mexican Grill', 1476: 'B', 1477: 'B', 1478: 'B', 1479: 'B', 1480: 'Banca Monte dei Paschi di Siena', 1481: 'Reebok', 1482: 'Reebok', 1483: 'Reebok', 1484: 'Reebok', 1485: 'Reebok', 1486: 'Reebok', 1487: 'Reebok', 1488: 'Reebok', 1489: 'Advance Auto Parts', 1490: 'Advance Auto Parts', 1491: 'Advance Auto Parts', 1492: 'Advance Auto Parts', 1493: 'Verizon', 1494: 'Verizon', 1495: 'Verizon', 1496: 'Verizon', 1497: 'Verizon', 1498: 'Verizon', 1499: 'AmazonFresh', 1500: 'Ann Taylor', 1501: 'Ann Taylor', 1502: 'Ann Taylor', 1503: 'Ann Taylor', 1504: 'Ann Taylor', 1505: 'Tesla', 1506: 'Tesla', 1507: 'Tesla', 1508: 'Tesla', 1509: 'Tesla', 1510: 'Tesla', 1511: 'Tesla', 1512: \"Auntie Anne's\", 1513: \"Auntie Anne's\", 1514: \"Auntie Anne's\", 1515: \"Auntie Anne's\", 1516: \"Auntie Anne's\", 1517: 'A', 1518: \"BJ's Wholesale Club\", 1519: \"BJ's Wholesale Club\", 1520: \"BJ's Wholesale Club\", 1521: \"BJ's Wholesale Club\", 1522: \"BJ's Wholesale Club\", 1523: 'AutoZone', 1524: 'AutoZone', 1525: 'AutoZone', 1526: 'AutoZone', 1527: 'AutoZone', 1528: 'Walmart', 1529: 'Walmart', 1530: 'Walmart', 1531: 'Walmart', 1532: 'Walmart', 1533: 'Walmart', 1534: 'Tesco', 1535: 'Tesco', 1536: 'Tesco', 1537: 'Tesco', 1538: 'Tesco', 1539: 'Tesco', 1540: 'Nike', 1541: 'Nike', 1542: 'Nike', 1543: 'Nike', 1544: 'Nike', 1545: 'Nike', 1546: 'Nike', 1547: 'Bealls', 1548: 'Bealls', 1549: 'Bealls', 1550: 'Bealls', 1551: 'Bank of America', 1552: 'Bank of America', 1553: 'Bank of America', 1554: 'Bank', 1555: 'Bank of America', 1556: 'Bank of America', 1557: 'Bank of America', 1558: 'Bank', 1559: 'Sibylla', 1560: 'Sibylla', 1561: 'Sibylla', 1562: 'Bendigo Bank', 1563: 'Bendigo Bank', 1564: 'Bendigo Bank', 1565: 'Bendigo Bank', 1566: 'Bendigo Bank', 1567: 'Sherwin-Williams', 1568: 'Sherwin-Williams', 1569: 'Sherwin-Williams', 1570: 'Sherwin-Williams', 1571: 'Sherwin-Williams', 1572: 'Sherwin-Williams', 1573: 'Bi-Mart', 1574: 'Bi-Mart', 1575: 'Bi-Mart', 1576: [], 1577: 'e-mart', 1578: 'e-mart', 1579: 'e-mart', 1580: 'Big Lots', 1581: 'Big Lots', 1582: 'Big Lots', 1583: 'Big Lots', 1584: 'Chick-fil-A', 1585: 'Chick-fil-A', 1586: 'Chick-fil-A', 1587: 'Chick-fil-A', 1588: 'Chick-fil-A', 1589: 'Chick-fil-A', 1590: 'Chick-fil-A', 1591: 'Toshiba', 1592: 'T', 1593: 'Toshiba', 1594: 'Toshiba', 1595: 'Toshiba', 1596: 'Toshiba has the parent company Mitsui Group', 1597: 'Toshiba', 1598: 'Toshiba', 1599: 'Hugo Boss', 1600: 'Hugo Boss', 1601: 'Hugo Boss', 1602: 'Hugo Boss', 1603: 'Hugo Boss', 1604: 'Hugo Boss', 1605: 'Hugo Boss', 1606: 'Hugo Boss', 1607: 'SK Telecom', 1608: 'SK Telecom', 1609: 'SK Telecom', 1610: 'SK Telecom', 1611: 'SK Telecom has the parent company SK C&C', 1612: 'SK Telecom', 1613: 'Polaroid Corporation', 1614: 'Polaroid Corporation', 1615: 'Polaroid Corporation', 1616: 'Polaroid Corporation', 1617: 'Polaroid Corporation', 1618: 'Burlington Coat Factory', 1619: 'Burlington Coat Factory', 1620: 'Burlington Coat Factory', 1621: 'Burlington Coat Factory', 1622: 'Hyundai Mobis', 1623: 'Hyundai Mobis', 1624: 'Hyundai Mobis', 1625: 'Hyundai Mobis', 1626: 'Hyundai Mobis', 1627: 'BNP Paribas', 1628: 'BNP Paribas', 1629: 'BNP Paribas', 1630: 'BNP Paribas', 1631: 'BNP Paribas', 1632: 'Bunnings Group', 1633: 'Bunnings Group', 1634: 'Bunnings Group', 1635: 'Bunnings Group', 1636: 'Bunnings Group', 1637: 'Bunnings Group', 1638: 'C. O. Bigelow', 1639: 'C. O. Bigelow', 1640: 'C. O. Bigelow', 1641: 'Café Coffee Day', 1642: 'Café Coffee Day', 1643: 'Café Coffee Day', 1644: 'Café Coffee Day', 1645: 'Café Coffee Day', 1646: 'PetroChina', 1647: 'PetroChina', 1648: 'PetroChina', 1649: 'PetroChina', 1650: 'PetroChina', 1651: 'PetroChina', 1652: 'CarMax', 1653: 'CarMax', 1654: 'CarMax', 1655: 'CarMax', 1656: 'Chang Hwa Bank', 1657: 'Chang Hwa Bank', 1658: 'Chang Hwa Bank', 1659: 'Chicken Cottage', 1660: 'Chicken Cottage', 1661: 'Chicken Cottage', 1662: 'Chicken Cottage', 1663: 'Chicken Cottage', 1664: 'Chow Tai Fook', 1665: 'Chow Tai Fook', 1666: 'Chow Tai Fook', 1667: 'Chow Tai Fook', 1668: 'Ch', 1669: 'Falabella', 1670: 'Falabella', 1671: 'Falabella', 1672: 'Falabella', 1673: 'Jimmy Choo Ltd', 1674: 'Jimmy Choo Ltd', 1675: 'Jimmy Choo Ltd', 1676: 'Jimmy Choo Ltd', 1677: 'Jimmy Choo Ltd', 1678: \"Dick's Sporting Goods\", 1679: \"Dick's Sporting Goods\", 1680: \"Dick's Sporting Goods\", 1681: \"Dick's Sporting Goods\", 1682: 'Sumitomo Mitsui Trust Bank', 1683: 'Sumitomo Mitsui Trust Bank', 1684: 'Sumitomo Mitsui Trust Bank', 1685: 'Sumitomo Mitsui Trust Bank', 1686: 'Dollar Tree', 1687: 'Dollar Tree', 1688: 'Dollar Tree', 1689: 'Dollar Tree', 1690: 'Dollar Tree', 1691: 'Davivienda', 1692: 'Davivienda', 1693: 'Davivienda', 1694: 'Davivienda', 1695: 'KFC', 1696: 'KFC', 1697: 'KFC', 1698: 'KFC', 1699: 'KFC', 1700: 'KFC has the parent company Yum! Brands', 1701: 'KFC', 1702: 'KFC', 1703: 'Hitachi', 1704: 'Hitachi', 1705: 'Hitachi', 1706: 'Hitachi', 1707: 'Hitachi', 1708: 'Hitachi', 1709: 'Hitachi', 1710: 'Panasonic Corporation', 1711: 'Panasonic Corporation', 1712: 'Panasonic Corporation', 1713: 'Panasonic Corporation', 1714: 'Panasonic Corporation', 1715: 'Panasonic Corporation', 1716: 'Panasonic Corporation', 1717: 'Toyota', 1718: 'Toyota', 1719: 'Toyota', 1720: 'Toyota', 1721: 'Toyota', 1722: 'Toyota', 1723: 'Toyota', 1724: 'Best Buy', 1725: 'Best Buy', 1726: 'Best Buy', 1727: 'Best', 1728: 'Best Buy', 1729: 'Best Buy', 1730: 'J.Crew', 1731: 'J.Crew', 1732: 'J.Crew', 1733: 'J.Crew', 1734: 'J.Crew', 1735: 'Ban', 1736: 'Ban', 1737: 'Ban', 1738: 'Ban', 1739: 'Ban', 1740: 'Cartier', 1741: 'Cartier', 1742: 'Cartier', 1743: 'Cartier', 1744: 'Cartier', 1745: 'Cartier', 1746: 'Cartier', 1747: 'Essar Oil', 1748: 'Essar Oil', 1749: 'Essar Oil', 1750: 'Essar Oil', 1751: 'IKEA', 1752: 'IKEA', 1753: 'IKEA', 1754: 'IKEA', 1755: 'IKEA', 1756: 'Christian Dior S.A.', 1757: 'Christian Dior S.A.', 1758: 'Christian Dior S.A.', 1759: 'Christian Dior S.A.', 1760: 'Christian Dior S.A.', 1761: 'Family Dollar', 1762: 'Family Dollar', 1763: 'Family Dollar', 1764: 'Family Dollar', 1765: 'Family Dollar', 1766: 'Firehouse Subs', 1767: 'Firehouse Subs', 1768: 'Firehouse Subs', 1769: 'Firehouse Subs', 1770: 'Fabindia', 1771: 'Fabindia', 1772: 'Fabindia', 1773: 'Food Basics', 1774: 'Food Basics', 1775: 'Food Basics', 1776: 'Food Basics', 1777: 'Food Basics', 1778: 'Food Basics', 1779: 'Standard Chartered', 1780: 'Standard Chartered', 1781: 'Standard Chartered', 1782: 'Standard Chartered', 1783: 'Standard Chartered', 1784: 'Standard Chartered', 1785: 'First Republic Bank', 1786: 'First Republic Bank', 1787: 'First Republic Bank', 1788: 'First Republic Bank', 1789: 'First Republic Bank', 1790: 'Five Below', 1791: 'Five Below', 1792: 'Five Below', 1793: 'Five Below', 1794: ' Below', 1795: 'Smoothie King', 1796: 'Smoothie King', 1797: 'Smoothie King', 1798: 'MOL Group', 1799: 'MOL Group', 1800: 'MOL Group', 1801: 'MOL Group', 1802: 'MOL Group', 1803: \"Frankie and Benny's\", 1804: \"Frankie and Benny's\", 1805: \"Frankie and Benny's\", 1806: \"Frankie and Benny's\", 1807: 'Hangzhou Hikvision Digital Technology Co., Ltd.', 1808: 'H', 1809: 'H', 1810: 'Hangzhou Hikvision Digital Technology Co., Ltd.', 1811: 'Longines', 1812: 'Longines', 1813: 'Longines', 1814: 'Longines', 1815: 'Longines', 1816: 'Long', 1817: \"Arby's\", 1818: \"Arby's\", 1819: \"Arby's\", 1820: \"Arby's\", 1821: \"Arby's\", 1822: \"Wendy's\", 1823: \"Wendy's\", 1824: \"Wendy's\", 1825: \"Wendy's\", 1826: \"Wendy's\", 1827: \"Wendy's\", 1828: 'G.u.', 1829: 'G.u.', 1830: 'G.u.', 1831: 'G.u. has the parent company Fast Retailing', 1832: 'Tommy Hilfiger', 1833: 'Tommy Hilfiger', 1834: 'Tommy Hilfiger', 1835: 'Tommy Hilfiger', 1836: 'Tommy Hilfiger', 1837: 'Tommy Hilfiger', 1838: 'Tommy Hilfiger', 1839: 'Tommy Hilfiger', 1840: 'Gordmans', 1841: 'Gordmans', 1842: 'Gordmans', 1843: 'Gordmans', 1844: 'Woolworths Limited', 1845: 'Woolworths Limited', 1846: 'Woolworths Limited', 1847: 'Woolworths Limited', 1848: 'Armani', 1849: 'Armani', 1850: 'Armani', 1851: 'Armani', 1852: 'Armani', 1853: 'Armani', 1854: 'Henri Bendel', 1855: 'Henri Bendel', 1856: 'Henri Bendel', 1857: 'Henri Bendel', 1858: 'Henri Bendel', 1859: 'Henri Bendel', 1860: 'Baskin-Robbins', 1861: 'Baskin-Robbins', 1862: 'Baskin-Robbins', 1863: 'Baskin-Robbins', 1864: 'Baskin-Robbins', 1865: \"Baskin-Robbins has the parent company Dunkin' Brands\", 1866: 'Baskin-Robbins', 1867: 'HomeGoods', 1868: 'HomeGoods', 1869: 'HomeGoods', 1870: 'Barneys New York', 1871: 'Barneys New York', 1872: 'Barneys New York', 1873: 'Bar', 1874: 'Barneys New York', 1875: 'Swarovski', 1876: 'Swarovski', 1877: 'Swarovski', 1878: 'Swarovski', 1879: 'S', 1880: 'LensCrafters', 1881: 'LensCrafters', 1882: 'LensCrafters', 1883: 'LensCrafters', 1884: 'The Bank of New York Mellon', 1885: 'The Bank of New York Mellon', 1886: 'The Bank of New York Mellon', 1887: 'The Bank of New York Mellon', 1888: 'The Bank of New York Mellon', 1889: 'The Bank of New York Mellon', 1890: 'Crédit Agricole', 1891: 'Crédit Agricole', 1892: 'Cr', 1893: 'Crédit Agricole', 1894: 'Crédit Agricole', 1895: 'Banco do Brasil', 1896: 'Banco do Brasil', 1897: 'Banco do Brasil', 1898: 'Ban', 1899: 'Banco do Brasil', 1900: 'Jaguar Land Rover', 1901: 'Jaguar Land Rover', 1902: 'Jaguar Land Rover', 1903: 'Jaguar Land Rover', 1904: 'Jaguar Land Rover', 1905: 'Jaguar Land Rover', 1906: 'Halliburton', 1907: 'Halliburton', 1908: 'Halliburton', 1909: 'Halliburton', 1910: 'Costa Coffee', 1911: 'Costa Coffee', 1912: 'Costa Coffee', 1913: 'Costa Coffee', 1914: 'Costa Coffee', 1915: 'Costa Coffee', 1916: 'Costa Coffee', 1917: \"Shakey's Pizza\", 1918: \"Shakey's Pizza\", 1919: \"Shakey's Pizza\", 1920: \"Shakey's Pizza\", 1921: \"Shakey's Pizza\", 1922: 'Neste', 1923: 'Neste', 1924: 'Neste', 1925: 'N', 1926: \"Applebee's\", 1927: \"Applebee's\", 1928: \"Applebee's\", 1929: \"Applebee's\", 1930: 'El', 1931: 'El Corte Inglés', 1932: 'El', 1933: 'El', 1934: 'El Corte Inglés', 1935: 'El Corte Inglés', 1936: 'Renault', 1937: 'Renault', 1938: 'Renault', 1939: 'Renault', 1940: 'Renault', 1941: 'Renault', 1942: 'Renault', 1943: 'Goodyear Tire and Rubber Company', 1944: 'Goodyear Tire and Rubber Company', 1945: 'Goodyear Tire and Rubber Company', 1946: 'Goodyear Tire and Rubber Company', 1947: 'Goodyear Tire and Rubber Company', 1948: 'Goodyear Tire and Rubber Company', 1949: \"Macy's\", 1950: \"Macy's\", 1951: \"Macy's\", 1952: \"Macy's\", 1953: \"Macy's\", 1954: \"Macy's\", 1955: \"Macy's\", 1956: 'Peugeot', 1957: 'Peugeot', 1958: 'Peugeot', 1959: 'Peugeot', 1960: 'Peugeot', 1961: 'Peugeot', 1962: 'Peugeot', 1963: 'Peugeot', 1964: 'Bank Rakyat Indonesia', 1965: 'Bank Rakyat Indonesia', 1966: 'Bank Rakyat Indonesia', 1967: 'Bank Rakyat Indonesia', 1968: 'Bank Rakyat Indonesia', 1969: 'Mervyns', 1970: 'Mervyns', 1971: 'Mervyns', 1972: 'Mervyns', 1973: 'Mervyns', 1974: 'Canon Inc.', 1975: 'Canon Inc.', 1976: 'Canon Inc.', 1977: 'Canon Inc.', 1978: 'Canon Inc.', 1979: 'Canon Inc.', 1980: 'Can', 1981: 'Foot Locker', 1982: 'Foot Locker', 1983: 'Foot Locker', 1984: 'Foot Locker', 1985: 'The Swatch Group', 1986: 'The Swatch Group', 1987: 'The Swatch Group', 1988: 'The Swatch Group', 1989: 'The Swatch Group', 1990: 'The Swatch Group', 1991: 'HDFC Bank', 1992: 'HDFC Bank', 1993: 'HDFC Bank', 1994: 'HDFC Bank', 1995: 'National Automotive Parts Association', 1996: 'National Automotive Parts Association', 1997: 'National Automotive Parts Association', 1998: 'National Bank of Canada', 1999: 'National Bank of Canada', 2000: 'National', 2001: 'National Bank of Canada', 2002: 'National Bank of Canada', 2003: 'Kipling', 2004: 'Kipling', 2005: 'Kipling', 2006: 'Kipling', 2007: 'Lane Bryant', 2008: 'Lane Bryant', 2009: 'Lane Bryant', 2010: 'Lane Bryant', 2011: 'Lane Bryant', 2012: 'Lane Bryant', 2013: 'Husky Energy', 2014: 'Husky Energy', 2015: 'Husky Energy', 2016: 'Husky Energy', 2017: 'Husky Energy', 2018: 'Aptiv', 2019: 'Aptiv', 2020: 'Aptiv', 2021: 'Aptiv', 2022: 'Aptiv', 2023: 'DBS Bank', 2024: 'DBS Bank', 2025: 'DBS Bank', 2026: 'DBS Bank', 2027: 'DBS Bank', 2028: 'Sears', 2029: 'Sears', 2030: 'Sears', 2031: 'Sears', 2032: 'Sears', 2033: 'Sears', 2034: 'Sears', 2035: 'Sears', 2036: 'Tissot', 2037: 'Tissot', 2038: 'Tissot', 2039: 'Tissot', 2040: 'Tissot', 2041: 'Tissot', 2042: 'Costco', 2043: 'Costco', 2044: 'Costco', 2045: 'Costco', 2046: 'Costco', 2047: 'Costco', 2048: 'Omega SA', 2049: 'Omega SA', 2050: 'Omega SA', 2051: 'Omega SA', 2052: 'Omega SA', 2053: 'Omega SA', 2054: 'Reliance Retail', 2055: 'Reliance Retail', 2056: 'Reliance Retail', 2057: 'Deutsche Bank', 2058: 'Deutsche Bank', 2059: 'Deutsche Bank', 2060: 'Deutsche Bank', 2061: 'Deutsche Bank', 2062: 'Deutsche Bank', 2063: 'Roses', 2064: 'Roses', 2065: 'Roses', 2066: 'Roses', 2067: 'PGNiG', 2068: 'PGNiG', 2069: 'PGNiG', 2070: 'MetroCorp Bancshares', 2071: 'MetroCorp Bancshares', 2072: 'MetroCorp Bancshares', 2073: 'MetroCorp Bancshares', 2074: 'Bata Shoes', 2075: 'Bata Shoes', 2076: 'Bata Shoes', 2077: 'Bata Shoes', 2078: 'Bata Shoes', 2079: 'Bata Shoes', 2080: 'Pull&Bear', 2081: 'Pull&Bear', 2082: 'Pull&Bear', 2083: 'Pull&Bear', 2084: 'Pull&Bear has the parent company Inditex', 2085: 'Pull&Bear', 2086: 'U.S. Bancorp', 2087: 'U.S. Bancorp', 2088: 'U.S. Bancorp', 2089: 'U.S. Bancorp', 2090: 'Olympus', 2091: 'Olympus', 2092: 'Olympus', 2093: 'Olympus', 2094: 'Olympus', 2095: 'Olympus', 2096: 'Gianni Versace S.p.A.', 2097: 'Gianni Versace S.p.A.', 2098: 'Gianni Versace S.p.A.', 2099: 'Gianni Versace S.p.A.', 2100: 'Gianni Versace S.p.A.', 2101: 'Gianni Versace S.p.A.', 2102: 'Wells Fargo', 2103: 'Wells Fargo', 2104: 'Wells Fargo', 2105: 'Wells Fargo', 2106: 'Wells Fargo', 2107: 'Wells Fargo', 2108: 'Toys \"R\" Us', 2109: 'Toys \"R\" Us', 2110: 'Toys \"R\" Us', 2111: 'Toys \"R\" Us', 2112: 'Toys \"R\" Us', 2113: 'Toys \"R\" Us has the parent company Kohlberg Kravis Roberts', 2114: 'Alpha Bank', 2115: 'Alpha Bank', 2116: 'Alpha Bank', 2117: 'Alpha Bank', 2118: 'Alpha Bank', 2119: 'Erste Bank', 2120: 'Erste Bank', 2121: 'Erste Bank', 2122: 'Erste Bank', 2123: 'Erste Bank', 2124: 'Shopko', 2125: 'Shopko', 2126: 'Shopko', 2127: 'Shopko', 2128: 'National', 2129: 'National', 2130: 'National', 2131: \"O'Reilly Auto Parts\", 2132: \"O'Reilly Auto Parts\", 2133: \"O'Reilly Auto Parts\", 2134: \"O'Reilly Auto Parts\", 2135: 'B&Q', 2136: 'B&Q', 2137: 'B&Q', 2138: 'B&Q', 2139: 'B&Q', 2140: 'B&Q has the parent company Kingfisher', 2141: 'B&Q', 2142: 'Ocean State Job Lot', 2143: 'Ocean State Job Lot', 2144: 'Ocean State Job Lot', 2145: 'Officeworks', 2146: 'Officeworks', 2147: 'Officeworks', 2148: 'Officeworks', 2149: 'Officeworks', 2150: \"Ollie's Bargain Outlet\", 2151: \"Ollie's Bargain Outlet\", 2152: \"Ollie's Bargain Outlet\", 2153: \"Ollie's Bargain Outlet\", 2154: 'Australia and New Zealand Banking Group', 2155: 'Australia and New Zealand Banking Group', 2156: 'Australia and New Zealand Banking Group', 2157: 'Australia and New Zealand Banking Group', 2158: \"Spencer's Retail\", 2159: \"Spencer's Retail\", 2160: \"Spencer's Retail\", 2161: \"Spencer's Retail\", 2162: 'Marks & Spencer', 2163: 'Marks & Spencer', 2164: 'Marks & Spencer', 2165: 'Marks & Spencer', 2166: 'Marks & Spencer', 2167: 'Marks & Spencer', 2168: 'Peebles', 2169: 'Peebles', 2170: 'Peebles', 2171: 'Coach', 2172: 'Coach', 2173: 'Coach', 2174: 'Coach', 2175: 'Coach', 2176: 'The Pantry', 2177: 'The Pantry', 2178: 'The Pantry', 2179: 'The Pantry', 2180: 'The Pantry', 2181: 'Chunghwa Telecom', 2182: 'Chunghwa Telecom', 2183: 'Chunghwa Telecom', 2184: 'Chunghwa Telecom', 2185: 'Chunghwa Telecom', 2186: 'Telstra', 2187: 'Telstra', 2188: 'Telstra', 2189: 'Telstra', 2190: 'Telstra', 2191: 'Aéropostale', 2192: 'Aéropostale', 2193: 'Aéropostale', 2194: 'Aéropostale', 2195: 'Aéropostale', 2196: 'Aéropostale', 2197: 'Raiffeisen Romania', 2198: 'Raiffeisen Romania', 2199: 'Raiffeisen Romania', 2200: 'Raiffeisen Romania', 2201: 'Reliance Petroleum', 2202: 'Reliance Petroleum', 2203: 'Reliance Petroleum', 2204: 'Reliance Petroleum', 2205: 'Huntington Bancshares', 2206: 'Huntington Bancshares', 2207: 'Huntington Bancshares', 2208: 'Huntington Bancshares', 2209: 'Royal Bank of Canada', 2210: 'Royal Bank of Canada', 2211: 'Royal', 2212: 'Royal', 2213: 'Royal Bank of Canada', 2214: 'Neiman Marcus', 2215: 'Neiman Marcus', 2216: 'Neiman Marcus', 2217: 'Neiman Marcus', 2218: 'Neiman Marcus', 2219: 'Neiman Marcus', 2220: 'Bank of Ireland', 2221: 'Bank', 2222: 'Bank', 2223: 'Bank', 2224: 'Bank', 2225: 'SM', 2226: 'SM Department Store', 2227: 'SM Department Store', 2228: 'Bank', 2229: 'Bank', 2230: 'Bank', 2231: 'Bank', 2232: 'Bank', 2233: 'Screwfix', 2234: 'Screwfix', 2235: 'Screwfix', 2236: 'Caixabank', 2237: 'Caixabank', 2238: 'Caixabank', 2239: 'Caixabank', 2240: 'Caixabank', 2241: 'Seasons 52', 2242: 'Seasons 52', 2243: 'Seasons 52', 2244: 'Seasons 52', 2245: 'Seasons 52', 2246: 'Kyocera', 2247: 'Kyocera', 2248: 'Kyocera', 2249: 'Kyocera', 2250: 'Kyocera', 2251: 'Kyocera', 2252: 'Kyocera', 2253: 'Speedway LLC', 2254: 'Speedway LLC', 2255: 'Speedway LLC', 2256: 'Speedway LLC', 2257: 'The Home Depot', 2258: 'The Home Depot', 2259: 'The Home Depot', 2260: 'The Home Depot', 2261: 'The Home Depot', 2262: 'The Home Depot', 2263: 'Taco Bell', 2264: 'Taco Bell', 2265: 'Taco Bell', 2266: 'Taco Bell', 2267: 'Taco Bell', 2268: 'Taco Bell has the parent company Yum! Brands', 2269: 'Taco Bell', 2270: 'Taco Bell', 2271: 'Sonic Drive-In', 2272: 'Sonic Drive-In', 2273: 'Sonic Drive-In', 2274: 'Sonic Drive-In', 2275: 'Sonic Drive-In', 2276: 'Attijariwafa Bank', 2277: 'Attijariwafa Bank', 2278: 'Attijariwafa Bank', 2279: 'Attijariwafa Bank', 2280: 'Texaco', 2281: 'Texaco', 2282: 'Texaco', 2283: 'Texaco', 2284: 'Texaco', 2285: 'Texaco', 2286: 'Texaco', 2287: 'Texaco', 2288: 'Loblaw Companies', 2289: 'Loblaw Companies', 2290: 'Loblaw Companies', 2291: 'Loblaw Companies', 2292: 'Loblaw Companies', 2293: 'Loblaw Companies', 2294: 'Loblaw Companies', 2295: 'Stein Mart', 2296: 'Stein Mart', 2297: 'Banc Sabadell', 2298: 'Banc Sabadell', 2299: 'Banc Sabadell', 2300: 'Banc Sabadell', 2301: 'Banc Sabadell', 2302: 'The Pita Pit', 2303: 'The Pita Pit', 2304: 'The Pita Pit', 2305: 'The Pita Pit', 2306: 'Tuesday Morning', 2307: 'Tuesday', 2308: 'Tuesday Morning', 2309: 'Staples Inc.', 2310: 'Staples Inc.', 2311: 'Staples Inc.', 2312: 'Staples Inc.', 2313: 'Staples Inc.', 2314: 'Staples Inc.', 2315: 'Staples Inc.', 2316: 'Von Maur', 2317: 'Von Maur', 2318: 'Von Maur', 2319: 'Von Maur', 2320: 'J. C. Penney', 2321: 'J. C. Penney', 2322: 'J. C. Penney', 2323: 'J. C. Penney', 2324: 'J. C. Penney', 2325: 'J. C. Penney', 2326: 'Massimo Dutti', 2327: 'Massimo Dutti', 2328: 'Massimo Dutti', 2329: 'Massimo Dutti', 2330: 'Massimo Dutti has the parent company Inditex', 2331: 'Massimo Dutti', 2332: 'BB&T', 2333: 'BB&T', 2334: 'BB&T', 2335: 'BB&T', 2336: 'BB&T', 2337: \"Kohl's\", 2338: \"Kohl's\", 2339: \"Kohl's\", 2340: \"Kohl's\", 2341: \"Kohl's\", 2342: 'Barnes & Noble', 2343: 'Barnes & Noble', 2344: 'Barnes & Noble', 2345: 'Barnes & Noble', 2346: 'Barnes & Noble', 2347: 'Barnes & Noble', 2348: 'Barnes & Noble', 2349: 'Wingstop', 2350: 'Wingstop', 2351: 'Wingstop', 2352: 'Wingstop', 2353: 'Wingstop', 2354: 'Banana Republic', 2355: 'Banana Republic', 2356: 'Banana Republic', 2357: 'Banana Republic', 2358: 'Banana Republic', 2359: 'Banana Republic', 2360: 'Banana Republic', 2361: 'Banana Republic', 2362: 'Bradesco Bank', 2363: 'Bradesco Bank', 2364: 'Bradesco Bank', 2365: 'Bradesco Bank', 2366: 'Bradesco Bank', 2367: 'Bilbao Vizcaya Argentaria Bank', 2368: 'Bilbao Vizcaya Argentaria Bank', 2369: 'Bilbao Vizcaya Argentaria Bank', 2370: 'Bilbao Vizcaya Argentaria Bank', 2371: 'Bilbao Vizcaya Argentaria Bank', 2372: 'Banco Santander', 2373: 'Banco Santander', 2374: 'Banco Santander', 2375: 'Banco Santander', 2376: 'Banco Santander', 2377: 'Bangkok Bank', 2378: 'Bangkok Bank', 2379: 'Bangkok Bank', 2380: 'Bangkok Bank', 2381: 'Bangkok Bank', 2382: 'BankMuscat', 2383: 'BankMuscat', 2384: 'BankMuscat', 2385: 'Bank Leumi', 2386: 'Bank Leumi', 2387: 'Bank Leumi', 2388: 'Bank Leumi', 2389: 'Bank Leumi', 2390: 'Bank Leumi', 2391: 'Bank CIC (Switzerland) Ltd.', 2392: 'Bank CIC (Switzerland) Ltd.', 2393: 'Bank CIC (Switzerland) Ltd.', 2394: 'Bank CIC (Switzerland) Ltd.', 2395: 'Bank Central Asia', 2396: 'Bank Central Asia', 2397: 'Bank Central Asia', 2398: 'Bank Central Asia', 2399: 'Bank Central Asia', 2400: 'Bank Mandiri', 2401: 'Bank Mandiri', 2402: 'Bank Mandiri', 2403: 'Bank', 2404: 'Bank Mandiri', 2405: 'Bank Mandiri', 2406: 'Bank of East Asia', 2407: 'Bank', 2408: 'Bank', 2409: 'Bank of East Asia', 2410: 'Bankia', 2411: 'Bankia', 2412: 'Bankia', 2413: 'Bankia', 2414: 'Bankia', 2415: 'Bankinter', 2416: 'Bankinter', 2417: 'Bankinter', 2418: 'Bankinter', 2419: 'Bank', 2420: 'Nintendo', 2421: 'Nintendo', 2422: 'Nintendo', 2423: 'Nintendo', 2424: 'Nintendo', 2425: 'Nintendo', 2426: 'Bath & Body Works', 2427: 'Bath & Body Works', 2428: 'Bath & Body Works', 2429: 'Bath & Body Works', 2430: 'Bath & Body Works', 2431: 'Bath & Body Works', 2432: 'Zions Bank', 2433: 'Zions Bank', 2434: 'Zions Bank', 2435: 'Zions Bank', 2436: 'DNB ASA', 2437: 'DNB ASA', 2438: 'DNB ASA', 2439: 'Bed Bath & Beyond', 2440: 'Bed Bath & Beyond', 2441: 'Bed Bath & Beyond', 2442: 'Bed Bath & Beyond', 2443: 'Bed Bath & Beyond', 2444: 'Bell Canada', 2445: 'Bell Canada', 2446: 'Bell Canada', 2447: 'Bell Canada', 2448: 'Bell Canada', 2449: 'Bell Canada', 2450: 'Bershka', 2451: 'Bershka', 2452: 'Bershka', 2453: 'Bershka', 2454: 'Bershka has the parent company Inditex', 2455: 'Bershka', 2456: 'The Body Shop', 2457: 'The Body Shop', 2458: 'The Body Shop', 2459: 'The Body Shop', 2460: 'The Body Shop', 2461: 'The Body Shop', 2462: \"Domino's Pizza\", 2463: \"Domino's Pizza\", 2464: \"Domino's Pizza\", 2465: \"Domino's Pizza\", 2466: \"Domino's Pizza\", 2467: \"Domino's Pizza\", 2468: \"Domino's Pizza\", 2469: 'Hermès International S.A.', 2470: 'Hermès International S.A.', 2471: 'Hermès International S.A.', 2472: 'Hermès International S.A.', 2473: 'Telenor', 2474: 'Telenor', 2475: 'Telenor', 2476: 'Telenor', 2477: 'Telenor', 2478: \"Dillard's\", 2479: \"Dillard's\", 2480: \"Dillard's\", 2481: \"Dillard's\", 2482: \"Dillard's\", 2483: \"Dillard's\", 2484: \"Dunkin'\", 2485: \"Dunkin'\", 2486: \"Dunkin'\", 2487: \"Dunkin'\", 2488: \"Dunkin'\", 2489: \"Dunkin'\", 2490: \"Dunkin'\", 2491: 'Mahindra & Mahindra', 2492: 'Mahindra & Mahindra', 2493: 'Mahindra & Mahindra', 2494: 'Mahindra & Mahindra', 2495: 'Mahindra & Mahindra', 2496: 'Mahindra & Mahindra', 2497: 'Mahindra & Mahindra', 2498: 'NTT DoCoMo', 2499: 'NTT DoCoMo', 2500: 'NTT DoCoMo', 2501: 'NTT DoCoMo', 2502: 'NTT DoCoMo', 2503: 'NTT DoCoMo', 2504: 'Biedronka', 2505: 'Biedronka', 2506: 'Biedronka', 2507: 'Biedronka', 2508: 'Biedronka', 2509: 'Biedronka', 2510: 'Bharti Airtel', 2511: 'Bharti Airtel', 2512: 'Bharti Airtel', 2513: 'Bharti Airtel', 2514: 'Bharti Airtel', 2515: 'Bharti Airtel', 2516: 'TDK', 2517: 'TDK', 2518: 'TDK', 2519: 'TDK', 2520: 'TDK', 2521: 'Blockbuster LLC', 2522: 'Blockbuster LLC', 2523: 'Blockbuster LLC', 2524: 'Blockbuster LLC', 2525: 'Blockbuster LLC', 2526: 'Blockbuster LLC', 2527: 'Netflix', 2528: 'Netflix', 2529: 'Netflix', 2530: 'Netflix', 2531: 'Netflix', 2532: 'Netflix', 2533: 'Bottega Veneta', 2534: 'Bottega Veneta', 2535: 'Bottega Veneta', 2536: 'Bottega Veneta', 2537: 'Bottega Veneta', 2538: 'OTP Bank', 2539: 'OTP Bank', 2540: 'OTP Bank', 2541: 'Ooredoo', 2542: 'Ooredoo', 2543: 'Ooredoo', 2544: 'Ooredoo', 2545: 'Regions Financial Corporation', 2546: 'Regions Financial Corporation', 2547: 'Regions Financial Corporation', 2548: 'Regions Financial Corporation', 2549: 'Hard Rock Cafe', 2550: 'Hard Rock Cafe', 2551: 'Hard Rock Cafe', 2552: 'Hard Rock Cafe', 2553: 'Castorama', 2554: 'Castorama', 2555: 'Castorama', 2556: 'Castorama', 2557: 'Castorama', 2558: 'Castorama', 2559: 'Morrisons', 2560: 'Morrisons', 2561: 'Morrisons', 2562: 'Morrisons', 2563: 'Morrisons', 2564: 'Morrisons', 2565: 'Maruti Suzuki', 2566: 'Maruti Suzuki', 2567: 'Maruti Suzuki', 2568: 'Maruti Suzuki', 2569: 'Maruti Suzuki', 2570: 'Maruti Suzuki', 2571: 'Maruti Suzuki', 2572: 'Northern Trust', 2573: 'Northern Trust', 2574: 'Northern Trust', 2575: 'Northern Trust', 2576: 'PKN Orlen', 2577: 'PKN Orlen', 2578: 'PKN Orlen', 2579: 'PKN Orlen', 2580: 'PKN Orlen', 2581: 'SEB Group', 2582: 'SEB Group', 2583: 'SEB Group', 2584: 'SEB Group', 2585: 'SEB Group', 2586: 'Canadian Tire', 2587: 'Canadian Tire', 2588: 'Canadian Tire', 2589: 'Canadian Tire', 2590: 'Canadian Tire', 2591: \"Freddy's Frozen Custard\", 2592: \"Freddy's Frozen Custard\", 2593: \"Freddy's Frozen Custard\", 2594: 'G', 2595: 'Gini & Jony', 2596: 'G', 2597: 'Hyundai Motor Company', 2598: 'Hyundai Motor Company', 2599: 'Hyundai Motor Company', 2600: 'Hyundai Motor Company', 2601: 'Hyundai Motor Company', 2602: 'Hyundai Motor Company', 2603: 'Hyundai Motor Company', 2604: 'Hyundai Motor Company', 2605: 'Aral AG', 2606: 'Aral AG', 2607: 'Aral AG', 2608: 'Aral AG', 2609: 'Shinsei Bank', 2610: 'Shinsei Bank', 2611: 'Shinsei Bank', 2612: 'Shinsei Bank', 2613: 'P', 2614: 'P', 2615: 'P', 2616: 'P', 2617: 'Rolex', 2618: 'Rolex', 2619: 'Rolex', 2620: 'Rolex', 2621: 'Role', 2622: 'Rolex', 2623: 'Sumitomo Electric Industries', 2624: 'Sumitomo Electric Industries', 2625: 'Sumitomo Electric Industries', 2626: 'Sumitomo Electric Industries'}\n"
     ]
    }
   ],
   "source": [
    "print(connect_dict)"
   ]
  },
  {
   "cell_type": "code",
   "execution_count": 15,
   "id": "3bcd5295",
   "metadata": {
    "execution": {
     "iopub.execute_input": "2024-09-03T18:13:08.009406Z",
     "iopub.status.busy": "2024-09-03T18:13:08.008543Z",
     "iopub.status.idle": "2024-09-03T18:13:08.019839Z",
     "shell.execute_reply": "2024-09-03T18:13:08.018928Z"
    },
    "papermill": {
     "duration": 0.919351,
     "end_time": "2024-09-03T18:13:08.021699",
     "exception": false,
     "start_time": "2024-09-03T18:13:07.102348",
     "status": "completed"
    },
    "tags": []
   },
   "outputs": [],
   "source": [
    "with open('data.json', 'w') as json_file:\n",
    "    json.dump(connect_dict, json_file)\n"
   ]
  },
  {
   "cell_type": "code",
   "execution_count": null,
   "id": "ae9db83f",
   "metadata": {
    "papermill": {
     "duration": 0.899901,
     "end_time": "2024-09-03T18:13:09.871233",
     "exception": false,
     "start_time": "2024-09-03T18:13:08.971332",
     "status": "completed"
    },
    "tags": []
   },
   "outputs": [],
   "source": []
  }
 ],
 "metadata": {
  "kaggle": {
   "accelerator": "nvidiaTeslaT4",
   "dataSources": [
    {
     "datasetId": 5543066,
     "sourceId": 9273248,
     "sourceType": "datasetVersion"
    }
   ],
   "dockerImageVersionId": 30762,
   "isGpuEnabled": true,
   "isInternetEnabled": true,
   "language": "python",
   "sourceType": "notebook"
  },
  "kernelspec": {
   "display_name": "Python 3",
   "language": "python",
   "name": "python3"
  },
  "language_info": {
   "codemirror_mode": {
    "name": "ipython",
    "version": 3
   },
   "file_extension": ".py",
   "mimetype": "text/x-python",
   "name": "python",
   "nbconvert_exporter": "python",
   "pygments_lexer": "ipython3",
   "version": "3.10.14"
  },
  "papermill": {
   "default_parameters": {},
   "duration": 1125.558116,
   "end_time": "2024-09-03T18:13:13.146421",
   "environment_variables": {},
   "exception": null,
   "input_path": "__notebook__.ipynb",
   "output_path": "__notebook__.ipynb",
   "parameters": {},
   "start_time": "2024-09-03T17:54:27.588305",
   "version": "2.6.0"
  },
  "widgets": {
   "application/vnd.jupyter.widget-state+json": {
    "state": {
     "0f9da3b1026548a791449ec6c1c0c94c": {
      "model_module": "@jupyter-widgets/controls",
      "model_module_version": "1.5.0",
      "model_name": "DescriptionStyleModel",
      "state": {
       "_model_module": "@jupyter-widgets/controls",
       "_model_module_version": "1.5.0",
       "_model_name": "DescriptionStyleModel",
       "_view_count": null,
       "_view_module": "@jupyter-widgets/base",
       "_view_module_version": "1.2.0",
       "_view_name": "StyleView",
       "description_width": ""
      }
     },
     "149a27ff76564bd981613fa3d8a37ce5": {
      "model_module": "@jupyter-widgets/controls",
      "model_module_version": "1.5.0",
      "model_name": "HBoxModel",
      "state": {
       "_dom_classes": [],
       "_model_module": "@jupyter-widgets/controls",
       "_model_module_version": "1.5.0",
       "_model_name": "HBoxModel",
       "_view_count": null,
       "_view_module": "@jupyter-widgets/controls",
       "_view_module_version": "1.5.0",
       "_view_name": "HBoxView",
       "box_style": "",
       "children": [
        "IPY_MODEL_cf1c4579a0214118ba73c94b596449bc",
        "IPY_MODEL_b3f6d3a961f64fe48a0508770a283321",
        "IPY_MODEL_2f33c3843531418283380318b3949434"
       ],
       "layout": "IPY_MODEL_fc97b5008b9541848f04e722ef0dde78"
      }
     },
     "14dd6b0650124951a1e97c37feab29bd": {
      "model_module": "@jupyter-widgets/controls",
      "model_module_version": "1.5.0",
      "model_name": "DescriptionStyleModel",
      "state": {
       "_model_module": "@jupyter-widgets/controls",
       "_model_module_version": "1.5.0",
       "_model_name": "DescriptionStyleModel",
       "_view_count": null,
       "_view_module": "@jupyter-widgets/base",
       "_view_module_version": "1.2.0",
       "_view_name": "StyleView",
       "description_width": ""
      }
     },
     "18029b81e6c14b6782690aa421dd0d2c": {
      "model_module": "@jupyter-widgets/controls",
      "model_module_version": "1.5.0",
      "model_name": "HTMLModel",
      "state": {
       "_dom_classes": [],
       "_model_module": "@jupyter-widgets/controls",
       "_model_module_version": "1.5.0",
       "_model_name": "HTMLModel",
       "_view_count": null,
       "_view_module": "@jupyter-widgets/controls",
       "_view_module_version": "1.5.0",
       "_view_name": "HTMLView",
       "description": "",
       "description_tooltip": null,
       "layout": "IPY_MODEL_6a0c371e014b4d4cae7ddbf12503df6a",
       "placeholder": "​",
       "style": "IPY_MODEL_b1f5ead39f3340acb94be097093dbf2e",
       "value": " 1.36M/1.36M [00:00&lt;00:00, 11.9MB/s]"
      }
     },
     "1cd3e1bc14504b3d9311ca830c07ce8c": {
      "model_module": "@jupyter-widgets/controls",
      "model_module_version": "1.5.0",
      "model_name": "FloatProgressModel",
      "state": {
       "_dom_classes": [],
       "_model_module": "@jupyter-widgets/controls",
       "_model_module_version": "1.5.0",
       "_model_name": "FloatProgressModel",
       "_view_count": null,
       "_view_module": "@jupyter-widgets/controls",
       "_view_module_version": "1.5.0",
       "_view_name": "ProgressView",
       "bar_style": "success",
       "description": "",
       "description_tooltip": null,
       "layout": "IPY_MODEL_7b775055f7ba49bd8a37ba5acd265180",
       "max": 25.0,
       "min": 0.0,
       "orientation": "horizontal",
       "style": "IPY_MODEL_43c0be573de94b25a95d5d05b0b0619b",
       "value": 25.0
      }
     },
     "1d21bb4c21b344fe833c4b874472bdb0": {
      "model_module": "@jupyter-widgets/base",
      "model_module_version": "1.2.0",
      "model_name": "LayoutModel",
      "state": {
       "_model_module": "@jupyter-widgets/base",
       "_model_module_version": "1.2.0",
       "_model_name": "LayoutModel",
       "_view_count": null,
       "_view_module": "@jupyter-widgets/base",
       "_view_module_version": "1.2.0",
       "_view_name": "LayoutView",
       "align_content": null,
       "align_items": null,
       "align_self": null,
       "border": null,
       "bottom": null,
       "display": null,
       "flex": null,
       "flex_flow": null,
       "grid_area": null,
       "grid_auto_columns": null,
       "grid_auto_flow": null,
       "grid_auto_rows": null,
       "grid_column": null,
       "grid_gap": null,
       "grid_row": null,
       "grid_template_areas": null,
       "grid_template_columns": null,
       "grid_template_rows": null,
       "height": null,
       "justify_content": null,
       "justify_items": null,
       "left": null,
       "margin": null,
       "max_height": null,
       "max_width": null,
       "min_height": null,
       "min_width": null,
       "object_fit": null,
       "object_position": null,
       "order": null,
       "overflow": null,
       "overflow_x": null,
       "overflow_y": null,
       "padding": null,
       "right": null,
       "top": null,
       "visibility": null,
       "width": null
      }
     },
     "2c3ef86eb7524bdaa9f81e65d834592b": {
      "model_module": "@jupyter-widgets/controls",
      "model_module_version": "1.5.0",
      "model_name": "DescriptionStyleModel",
      "state": {
       "_model_module": "@jupyter-widgets/controls",
       "_model_module_version": "1.5.0",
       "_model_name": "DescriptionStyleModel",
       "_view_count": null,
       "_view_module": "@jupyter-widgets/base",
       "_view_module_version": "1.2.0",
       "_view_name": "StyleView",
       "description_width": ""
      }
     },
     "2f33c3843531418283380318b3949434": {
      "model_module": "@jupyter-widgets/controls",
      "model_module_version": "1.5.0",
      "model_name": "HTMLModel",
      "state": {
       "_dom_classes": [],
       "_model_module": "@jupyter-widgets/controls",
       "_model_module_version": "1.5.0",
       "_model_name": "HTMLModel",
       "_view_count": null,
       "_view_module": "@jupyter-widgets/controls",
       "_view_module_version": "1.5.0",
       "_view_name": "HTMLView",
       "description": "",
       "description_tooltip": null,
       "layout": "IPY_MODEL_1d21bb4c21b344fe833c4b874472bdb0",
       "placeholder": "​",
       "style": "IPY_MODEL_8e5f616b21ee48259e9486088e2134ed",
       "value": " 499M/499M [00:03&lt;00:00, 186MB/s]"
      }
     },
     "37d9dd290754490c86e7be150c3df04f": {
      "model_module": "@jupyter-widgets/controls",
      "model_module_version": "1.5.0",
      "model_name": "HTMLModel",
      "state": {
       "_dom_classes": [],
       "_model_module": "@jupyter-widgets/controls",
       "_model_module_version": "1.5.0",
       "_model_name": "HTMLModel",
       "_view_count": null,
       "_view_module": "@jupyter-widgets/controls",
       "_view_module_version": "1.5.0",
       "_view_name": "HTMLView",
       "description": "",
       "description_tooltip": null,
       "layout": "IPY_MODEL_bfd498e84f9c4a1991cdbdb79ad90f19",
       "placeholder": "​",
       "style": "IPY_MODEL_39e4be309cfc4e40b24f96fab805a5d6",
       "value": "config.json: 100%"
      }
     },
     "39e4be309cfc4e40b24f96fab805a5d6": {
      "model_module": "@jupyter-widgets/controls",
      "model_module_version": "1.5.0",
      "model_name": "DescriptionStyleModel",
      "state": {
       "_model_module": "@jupyter-widgets/controls",
       "_model_module_version": "1.5.0",
       "_model_name": "DescriptionStyleModel",
       "_view_count": null,
       "_view_module": "@jupyter-widgets/base",
       "_view_module_version": "1.2.0",
       "_view_name": "StyleView",
       "description_width": ""
      }
     },
     "4280962b18aa486da5090e8e8394dee0": {
      "model_module": "@jupyter-widgets/controls",
      "model_module_version": "1.5.0",
      "model_name": "DescriptionStyleModel",
      "state": {
       "_model_module": "@jupyter-widgets/controls",
       "_model_module_version": "1.5.0",
       "_model_name": "DescriptionStyleModel",
       "_view_count": null,
       "_view_module": "@jupyter-widgets/base",
       "_view_module_version": "1.2.0",
       "_view_name": "StyleView",
       "description_width": ""
      }
     },
     "43c0be573de94b25a95d5d05b0b0619b": {
      "model_module": "@jupyter-widgets/controls",
      "model_module_version": "1.5.0",
      "model_name": "ProgressStyleModel",
      "state": {
       "_model_module": "@jupyter-widgets/controls",
       "_model_module_version": "1.5.0",
       "_model_name": "ProgressStyleModel",
       "_view_count": null,
       "_view_module": "@jupyter-widgets/base",
       "_view_module_version": "1.2.0",
       "_view_name": "StyleView",
       "bar_color": null,
       "description_width": ""
      }
     },
     "44c5742afe3549ba8110d4166d61ee8c": {
      "model_module": "@jupyter-widgets/base",
      "model_module_version": "1.2.0",
      "model_name": "LayoutModel",
      "state": {
       "_model_module": "@jupyter-widgets/base",
       "_model_module_version": "1.2.0",
       "_model_name": "LayoutModel",
       "_view_count": null,
       "_view_module": "@jupyter-widgets/base",
       "_view_module_version": "1.2.0",
       "_view_name": "LayoutView",
       "align_content": null,
       "align_items": null,
       "align_self": null,
       "border": null,
       "bottom": null,
       "display": null,
       "flex": null,
       "flex_flow": null,
       "grid_area": null,
       "grid_auto_columns": null,
       "grid_auto_flow": null,
       "grid_auto_rows": null,
       "grid_column": null,
       "grid_gap": null,
       "grid_row": null,
       "grid_template_areas": null,
       "grid_template_columns": null,
       "grid_template_rows": null,
       "height": null,
       "justify_content": null,
       "justify_items": null,
       "left": null,
       "margin": null,
       "max_height": null,
       "max_width": null,
       "min_height": null,
       "min_width": null,
       "object_fit": null,
       "object_position": null,
       "order": null,
       "overflow": null,
       "overflow_x": null,
       "overflow_y": null,
       "padding": null,
       "right": null,
       "top": null,
       "visibility": null,
       "width": null
      }
     },
     "455d043a95ee4f54911077a897f06ba0": {
      "model_module": "@jupyter-widgets/controls",
      "model_module_version": "1.5.0",
      "model_name": "HTMLModel",
      "state": {
       "_dom_classes": [],
       "_model_module": "@jupyter-widgets/controls",
       "_model_module_version": "1.5.0",
       "_model_name": "HTMLModel",
       "_view_count": null,
       "_view_module": "@jupyter-widgets/controls",
       "_view_module_version": "1.5.0",
       "_view_name": "HTMLView",
       "description": "",
       "description_tooltip": null,
       "layout": "IPY_MODEL_e01a57bb3771460d8b7485d0ec5d9320",
       "placeholder": "​",
       "style": "IPY_MODEL_0f9da3b1026548a791449ec6c1c0c94c",
       "value": " 481/481 [00:00&lt;00:00, 37.0kB/s]"
      }
     },
     "464645ef0c7341edb27634975d4261aa": {
      "model_module": "@jupyter-widgets/base",
      "model_module_version": "1.2.0",
      "model_name": "LayoutModel",
      "state": {
       "_model_module": "@jupyter-widgets/base",
       "_model_module_version": "1.2.0",
       "_model_name": "LayoutModel",
       "_view_count": null,
       "_view_module": "@jupyter-widgets/base",
       "_view_module_version": "1.2.0",
       "_view_name": "LayoutView",
       "align_content": null,
       "align_items": null,
       "align_self": null,
       "border": null,
       "bottom": null,
       "display": null,
       "flex": null,
       "flex_flow": null,
       "grid_area": null,
       "grid_auto_columns": null,
       "grid_auto_flow": null,
       "grid_auto_rows": null,
       "grid_column": null,
       "grid_gap": null,
       "grid_row": null,
       "grid_template_areas": null,
       "grid_template_columns": null,
       "grid_template_rows": null,
       "height": null,
       "justify_content": null,
       "justify_items": null,
       "left": null,
       "margin": null,
       "max_height": null,
       "max_width": null,
       "min_height": null,
       "min_width": null,
       "object_fit": null,
       "object_position": null,
       "order": null,
       "overflow": null,
       "overflow_x": null,
       "overflow_y": null,
       "padding": null,
       "right": null,
       "top": null,
       "visibility": null,
       "width": null
      }
     },
     "480c3982695947f88dd0997aeb864bf8": {
      "model_module": "@jupyter-widgets/base",
      "model_module_version": "1.2.0",
      "model_name": "LayoutModel",
      "state": {
       "_model_module": "@jupyter-widgets/base",
       "_model_module_version": "1.2.0",
       "_model_name": "LayoutModel",
       "_view_count": null,
       "_view_module": "@jupyter-widgets/base",
       "_view_module_version": "1.2.0",
       "_view_name": "LayoutView",
       "align_content": null,
       "align_items": null,
       "align_self": null,
       "border": null,
       "bottom": null,
       "display": null,
       "flex": null,
       "flex_flow": null,
       "grid_area": null,
       "grid_auto_columns": null,
       "grid_auto_flow": null,
       "grid_auto_rows": null,
       "grid_column": null,
       "grid_gap": null,
       "grid_row": null,
       "grid_template_areas": null,
       "grid_template_columns": null,
       "grid_template_rows": null,
       "height": null,
       "justify_content": null,
       "justify_items": null,
       "left": null,
       "margin": null,
       "max_height": null,
       "max_width": null,
       "min_height": null,
       "min_width": null,
       "object_fit": null,
       "object_position": null,
       "order": null,
       "overflow": null,
       "overflow_x": null,
       "overflow_y": null,
       "padding": null,
       "right": null,
       "top": null,
       "visibility": null,
       "width": null
      }
     },
     "4d3c73cdaf5f45e393ca64927a4844e3": {
      "model_module": "@jupyter-widgets/controls",
      "model_module_version": "1.5.0",
      "model_name": "ProgressStyleModel",
      "state": {
       "_model_module": "@jupyter-widgets/controls",
       "_model_module_version": "1.5.0",
       "_model_name": "ProgressStyleModel",
       "_view_count": null,
       "_view_module": "@jupyter-widgets/base",
       "_view_module_version": "1.2.0",
       "_view_name": "StyleView",
       "bar_color": null,
       "description_width": ""
      }
     },
     "51f53e44e2f346c0a728fc2a752cddb0": {
      "model_module": "@jupyter-widgets/base",
      "model_module_version": "1.2.0",
      "model_name": "LayoutModel",
      "state": {
       "_model_module": "@jupyter-widgets/base",
       "_model_module_version": "1.2.0",
       "_model_name": "LayoutModel",
       "_view_count": null,
       "_view_module": "@jupyter-widgets/base",
       "_view_module_version": "1.2.0",
       "_view_name": "LayoutView",
       "align_content": null,
       "align_items": null,
       "align_self": null,
       "border": null,
       "bottom": null,
       "display": null,
       "flex": null,
       "flex_flow": null,
       "grid_area": null,
       "grid_auto_columns": null,
       "grid_auto_flow": null,
       "grid_auto_rows": null,
       "grid_column": null,
       "grid_gap": null,
       "grid_row": null,
       "grid_template_areas": null,
       "grid_template_columns": null,
       "grid_template_rows": null,
       "height": null,
       "justify_content": null,
       "justify_items": null,
       "left": null,
       "margin": null,
       "max_height": null,
       "max_width": null,
       "min_height": null,
       "min_width": null,
       "object_fit": null,
       "object_position": null,
       "order": null,
       "overflow": null,
       "overflow_x": null,
       "overflow_y": null,
       "padding": null,
       "right": null,
       "top": null,
       "visibility": null,
       "width": null
      }
     },
     "59563fe39e8640d0a504c4b705c9a4e4": {
      "model_module": "@jupyter-widgets/controls",
      "model_module_version": "1.5.0",
      "model_name": "HBoxModel",
      "state": {
       "_dom_classes": [],
       "_model_module": "@jupyter-widgets/controls",
       "_model_module_version": "1.5.0",
       "_model_name": "HBoxModel",
       "_view_count": null,
       "_view_module": "@jupyter-widgets/controls",
       "_view_module_version": "1.5.0",
       "_view_name": "HBoxView",
       "box_style": "",
       "children": [
        "IPY_MODEL_b704d5b69b4e4b059c88a92c18b211d0",
        "IPY_MODEL_cbc886c2da7e497c98b065202a2c5fc6",
        "IPY_MODEL_e3e2eb1e7f3e42b59f4bf6502bdc9239"
       ],
       "layout": "IPY_MODEL_8bbd68a024fe4c3bb99812ae550ee99d"
      }
     },
     "5e1624111cbf4fbdb4f6ab2d069e04db": {
      "model_module": "@jupyter-widgets/base",
      "model_module_version": "1.2.0",
      "model_name": "LayoutModel",
      "state": {
       "_model_module": "@jupyter-widgets/base",
       "_model_module_version": "1.2.0",
       "_model_name": "LayoutModel",
       "_view_count": null,
       "_view_module": "@jupyter-widgets/base",
       "_view_module_version": "1.2.0",
       "_view_name": "LayoutView",
       "align_content": null,
       "align_items": null,
       "align_self": null,
       "border": null,
       "bottom": null,
       "display": null,
       "flex": null,
       "flex_flow": null,
       "grid_area": null,
       "grid_auto_columns": null,
       "grid_auto_flow": null,
       "grid_auto_rows": null,
       "grid_column": null,
       "grid_gap": null,
       "grid_row": null,
       "grid_template_areas": null,
       "grid_template_columns": null,
       "grid_template_rows": null,
       "height": null,
       "justify_content": null,
       "justify_items": null,
       "left": null,
       "margin": null,
       "max_height": null,
       "max_width": null,
       "min_height": null,
       "min_width": null,
       "object_fit": null,
       "object_position": null,
       "order": null,
       "overflow": null,
       "overflow_x": null,
       "overflow_y": null,
       "padding": null,
       "right": null,
       "top": null,
       "visibility": null,
       "width": null
      }
     },
     "6a0c371e014b4d4cae7ddbf12503df6a": {
      "model_module": "@jupyter-widgets/base",
      "model_module_version": "1.2.0",
      "model_name": "LayoutModel",
      "state": {
       "_model_module": "@jupyter-widgets/base",
       "_model_module_version": "1.2.0",
       "_model_name": "LayoutModel",
       "_view_count": null,
       "_view_module": "@jupyter-widgets/base",
       "_view_module_version": "1.2.0",
       "_view_name": "LayoutView",
       "align_content": null,
       "align_items": null,
       "align_self": null,
       "border": null,
       "bottom": null,
       "display": null,
       "flex": null,
       "flex_flow": null,
       "grid_area": null,
       "grid_auto_columns": null,
       "grid_auto_flow": null,
       "grid_auto_rows": null,
       "grid_column": null,
       "grid_gap": null,
       "grid_row": null,
       "grid_template_areas": null,
       "grid_template_columns": null,
       "grid_template_rows": null,
       "height": null,
       "justify_content": null,
       "justify_items": null,
       "left": null,
       "margin": null,
       "max_height": null,
       "max_width": null,
       "min_height": null,
       "min_width": null,
       "object_fit": null,
       "object_position": null,
       "order": null,
       "overflow": null,
       "overflow_x": null,
       "overflow_y": null,
       "padding": null,
       "right": null,
       "top": null,
       "visibility": null,
       "width": null
      }
     },
     "6cce7dbb31fc44f2bb43d0880e83dd4d": {
      "model_module": "@jupyter-widgets/base",
      "model_module_version": "1.2.0",
      "model_name": "LayoutModel",
      "state": {
       "_model_module": "@jupyter-widgets/base",
       "_model_module_version": "1.2.0",
       "_model_name": "LayoutModel",
       "_view_count": null,
       "_view_module": "@jupyter-widgets/base",
       "_view_module_version": "1.2.0",
       "_view_name": "LayoutView",
       "align_content": null,
       "align_items": null,
       "align_self": null,
       "border": null,
       "bottom": null,
       "display": null,
       "flex": null,
       "flex_flow": null,
       "grid_area": null,
       "grid_auto_columns": null,
       "grid_auto_flow": null,
       "grid_auto_rows": null,
       "grid_column": null,
       "grid_gap": null,
       "grid_row": null,
       "grid_template_areas": null,
       "grid_template_columns": null,
       "grid_template_rows": null,
       "height": null,
       "justify_content": null,
       "justify_items": null,
       "left": null,
       "margin": null,
       "max_height": null,
       "max_width": null,
       "min_height": null,
       "min_width": null,
       "object_fit": null,
       "object_position": null,
       "order": null,
       "overflow": null,
       "overflow_x": null,
       "overflow_y": null,
       "padding": null,
       "right": null,
       "top": null,
       "visibility": null,
       "width": null
      }
     },
     "7012a0b87e254e2899d6bd5ac7aaae1b": {
      "model_module": "@jupyter-widgets/controls",
      "model_module_version": "1.5.0",
      "model_name": "HBoxModel",
      "state": {
       "_dom_classes": [],
       "_model_module": "@jupyter-widgets/controls",
       "_model_module_version": "1.5.0",
       "_model_name": "HBoxModel",
       "_view_count": null,
       "_view_module": "@jupyter-widgets/controls",
       "_view_module_version": "1.5.0",
       "_view_name": "HBoxView",
       "box_style": "",
       "children": [
        "IPY_MODEL_821b2606559349fcb58f5e320b250063",
        "IPY_MODEL_1cd3e1bc14504b3d9311ca830c07ce8c",
        "IPY_MODEL_959ba34629384cab87fc6ad9cbebcb98"
       ],
       "layout": "IPY_MODEL_e8f8c03bab04451081b1f69143e91a0a"
      }
     },
     "783fea898e36496994862dab451f6369": {
      "model_module": "@jupyter-widgets/controls",
      "model_module_version": "1.5.0",
      "model_name": "ProgressStyleModel",
      "state": {
       "_model_module": "@jupyter-widgets/controls",
       "_model_module_version": "1.5.0",
       "_model_name": "ProgressStyleModel",
       "_view_count": null,
       "_view_module": "@jupyter-widgets/base",
       "_view_module_version": "1.2.0",
       "_view_name": "StyleView",
       "bar_color": null,
       "description_width": ""
      }
     },
     "7b775055f7ba49bd8a37ba5acd265180": {
      "model_module": "@jupyter-widgets/base",
      "model_module_version": "1.2.0",
      "model_name": "LayoutModel",
      "state": {
       "_model_module": "@jupyter-widgets/base",
       "_model_module_version": "1.2.0",
       "_model_name": "LayoutModel",
       "_view_count": null,
       "_view_module": "@jupyter-widgets/base",
       "_view_module_version": "1.2.0",
       "_view_name": "LayoutView",
       "align_content": null,
       "align_items": null,
       "align_self": null,
       "border": null,
       "bottom": null,
       "display": null,
       "flex": null,
       "flex_flow": null,
       "grid_area": null,
       "grid_auto_columns": null,
       "grid_auto_flow": null,
       "grid_auto_rows": null,
       "grid_column": null,
       "grid_gap": null,
       "grid_row": null,
       "grid_template_areas": null,
       "grid_template_columns": null,
       "grid_template_rows": null,
       "height": null,
       "justify_content": null,
       "justify_items": null,
       "left": null,
       "margin": null,
       "max_height": null,
       "max_width": null,
       "min_height": null,
       "min_width": null,
       "object_fit": null,
       "object_position": null,
       "order": null,
       "overflow": null,
       "overflow_x": null,
       "overflow_y": null,
       "padding": null,
       "right": null,
       "top": null,
       "visibility": null,
       "width": null
      }
     },
     "7d23a7e34c494c98b5b587d2f1c3e0c5": {
      "model_module": "@jupyter-widgets/controls",
      "model_module_version": "1.5.0",
      "model_name": "HBoxModel",
      "state": {
       "_dom_classes": [],
       "_model_module": "@jupyter-widgets/controls",
       "_model_module_version": "1.5.0",
       "_model_name": "HBoxModel",
       "_view_count": null,
       "_view_module": "@jupyter-widgets/controls",
       "_view_module_version": "1.5.0",
       "_view_name": "HBoxView",
       "box_style": "",
       "children": [
        "IPY_MODEL_9cf6d932e2f447dfbef179aaab654568",
        "IPY_MODEL_e128949c089e4f14b78ca67fd57dc890",
        "IPY_MODEL_98d60dc2d32a42089c6748bbb7941313"
       ],
       "layout": "IPY_MODEL_e0e8d26ba7b64f83bcfda73a1379b004"
      }
     },
     "81003a0896774bf2b3b9a521f0da7c45": {
      "model_module": "@jupyter-widgets/controls",
      "model_module_version": "1.5.0",
      "model_name": "HBoxModel",
      "state": {
       "_dom_classes": [],
       "_model_module": "@jupyter-widgets/controls",
       "_model_module_version": "1.5.0",
       "_model_name": "HBoxModel",
       "_view_count": null,
       "_view_module": "@jupyter-widgets/controls",
       "_view_module_version": "1.5.0",
       "_view_name": "HBoxView",
       "box_style": "",
       "children": [
        "IPY_MODEL_37d9dd290754490c86e7be150c3df04f",
        "IPY_MODEL_d94f162ccf104c81b02df542aa60dda7",
        "IPY_MODEL_455d043a95ee4f54911077a897f06ba0"
       ],
       "layout": "IPY_MODEL_5e1624111cbf4fbdb4f6ab2d069e04db"
      }
     },
     "821b2606559349fcb58f5e320b250063": {
      "model_module": "@jupyter-widgets/controls",
      "model_module_version": "1.5.0",
      "model_name": "HTMLModel",
      "state": {
       "_dom_classes": [],
       "_model_module": "@jupyter-widgets/controls",
       "_model_module_version": "1.5.0",
       "_model_name": "HTMLModel",
       "_view_count": null,
       "_view_module": "@jupyter-widgets/controls",
       "_view_module_version": "1.5.0",
       "_view_name": "HTMLView",
       "description": "",
       "description_tooltip": null,
       "layout": "IPY_MODEL_e8b8902096774a458dea0bc2c53515ac",
       "placeholder": "​",
       "style": "IPY_MODEL_14dd6b0650124951a1e97c37feab29bd",
       "value": "tokenizer_config.json: 100%"
      }
     },
     "832d226d44a84fc9bc6a8744f6c67b03": {
      "model_module": "@jupyter-widgets/controls",
      "model_module_version": "1.5.0",
      "model_name": "DescriptionStyleModel",
      "state": {
       "_model_module": "@jupyter-widgets/controls",
       "_model_module_version": "1.5.0",
       "_model_name": "DescriptionStyleModel",
       "_view_count": null,
       "_view_module": "@jupyter-widgets/base",
       "_view_module_version": "1.2.0",
       "_view_name": "StyleView",
       "description_width": ""
      }
     },
     "88ab929990144f1a80377866f2d82d56": {
      "model_module": "@jupyter-widgets/controls",
      "model_module_version": "1.5.0",
      "model_name": "HBoxModel",
      "state": {
       "_dom_classes": [],
       "_model_module": "@jupyter-widgets/controls",
       "_model_module_version": "1.5.0",
       "_model_name": "HBoxModel",
       "_view_count": null,
       "_view_module": "@jupyter-widgets/controls",
       "_view_module_version": "1.5.0",
       "_view_name": "HBoxView",
       "box_style": "",
       "children": [
        "IPY_MODEL_948c40b87f5c4a11a8f16c17dfbe6d16",
        "IPY_MODEL_db0cf0fdd9e34d52b9182dd3b66be024",
        "IPY_MODEL_18029b81e6c14b6782690aa421dd0d2c"
       ],
       "layout": "IPY_MODEL_464645ef0c7341edb27634975d4261aa"
      }
     },
     "8bbd68a024fe4c3bb99812ae550ee99d": {
      "model_module": "@jupyter-widgets/base",
      "model_module_version": "1.2.0",
      "model_name": "LayoutModel",
      "state": {
       "_model_module": "@jupyter-widgets/base",
       "_model_module_version": "1.2.0",
       "_model_name": "LayoutModel",
       "_view_count": null,
       "_view_module": "@jupyter-widgets/base",
       "_view_module_version": "1.2.0",
       "_view_name": "LayoutView",
       "align_content": null,
       "align_items": null,
       "align_self": null,
       "border": null,
       "bottom": null,
       "display": null,
       "flex": null,
       "flex_flow": null,
       "grid_area": null,
       "grid_auto_columns": null,
       "grid_auto_flow": null,
       "grid_auto_rows": null,
       "grid_column": null,
       "grid_gap": null,
       "grid_row": null,
       "grid_template_areas": null,
       "grid_template_columns": null,
       "grid_template_rows": null,
       "height": null,
       "justify_content": null,
       "justify_items": null,
       "left": null,
       "margin": null,
       "max_height": null,
       "max_width": null,
       "min_height": null,
       "min_width": null,
       "object_fit": null,
       "object_position": null,
       "order": null,
       "overflow": null,
       "overflow_x": null,
       "overflow_y": null,
       "padding": null,
       "right": null,
       "top": null,
       "visibility": null,
       "width": null
      }
     },
     "8e5f616b21ee48259e9486088e2134ed": {
      "model_module": "@jupyter-widgets/controls",
      "model_module_version": "1.5.0",
      "model_name": "DescriptionStyleModel",
      "state": {
       "_model_module": "@jupyter-widgets/controls",
       "_model_module_version": "1.5.0",
       "_model_name": "DescriptionStyleModel",
       "_view_count": null,
       "_view_module": "@jupyter-widgets/base",
       "_view_module_version": "1.2.0",
       "_view_name": "StyleView",
       "description_width": ""
      }
     },
     "90e0ad4c76d7428987dda3c3b5e85513": {
      "model_module": "@jupyter-widgets/base",
      "model_module_version": "1.2.0",
      "model_name": "LayoutModel",
      "state": {
       "_model_module": "@jupyter-widgets/base",
       "_model_module_version": "1.2.0",
       "_model_name": "LayoutModel",
       "_view_count": null,
       "_view_module": "@jupyter-widgets/base",
       "_view_module_version": "1.2.0",
       "_view_name": "LayoutView",
       "align_content": null,
       "align_items": null,
       "align_self": null,
       "border": null,
       "bottom": null,
       "display": null,
       "flex": null,
       "flex_flow": null,
       "grid_area": null,
       "grid_auto_columns": null,
       "grid_auto_flow": null,
       "grid_auto_rows": null,
       "grid_column": null,
       "grid_gap": null,
       "grid_row": null,
       "grid_template_areas": null,
       "grid_template_columns": null,
       "grid_template_rows": null,
       "height": null,
       "justify_content": null,
       "justify_items": null,
       "left": null,
       "margin": null,
       "max_height": null,
       "max_width": null,
       "min_height": null,
       "min_width": null,
       "object_fit": null,
       "object_position": null,
       "order": null,
       "overflow": null,
       "overflow_x": null,
       "overflow_y": null,
       "padding": null,
       "right": null,
       "top": null,
       "visibility": null,
       "width": null
      }
     },
     "946b43561c4a4b1c9682193a0bad3297": {
      "model_module": "@jupyter-widgets/controls",
      "model_module_version": "1.5.0",
      "model_name": "ProgressStyleModel",
      "state": {
       "_model_module": "@jupyter-widgets/controls",
       "_model_module_version": "1.5.0",
       "_model_name": "ProgressStyleModel",
       "_view_count": null,
       "_view_module": "@jupyter-widgets/base",
       "_view_module_version": "1.2.0",
       "_view_name": "StyleView",
       "bar_color": null,
       "description_width": ""
      }
     },
     "948c40b87f5c4a11a8f16c17dfbe6d16": {
      "model_module": "@jupyter-widgets/controls",
      "model_module_version": "1.5.0",
      "model_name": "HTMLModel",
      "state": {
       "_dom_classes": [],
       "_model_module": "@jupyter-widgets/controls",
       "_model_module_version": "1.5.0",
       "_model_name": "HTMLModel",
       "_view_count": null,
       "_view_module": "@jupyter-widgets/controls",
       "_view_module_version": "1.5.0",
       "_view_name": "HTMLView",
       "description": "",
       "description_tooltip": null,
       "layout": "IPY_MODEL_ce8eb5693f754a409172223b5ea555ae",
       "placeholder": "​",
       "style": "IPY_MODEL_c4442d51a6fb47e5a15f8eeeae4cec60",
       "value": "tokenizer.json: 100%"
      }
     },
     "94f097db764e4812b2c7ed46384ad175": {
      "model_module": "@jupyter-widgets/controls",
      "model_module_version": "1.5.0",
      "model_name": "ProgressStyleModel",
      "state": {
       "_model_module": "@jupyter-widgets/controls",
       "_model_module_version": "1.5.0",
       "_model_name": "ProgressStyleModel",
       "_view_count": null,
       "_view_module": "@jupyter-widgets/base",
       "_view_module_version": "1.2.0",
       "_view_name": "StyleView",
       "bar_color": null,
       "description_width": ""
      }
     },
     "959ba34629384cab87fc6ad9cbebcb98": {
      "model_module": "@jupyter-widgets/controls",
      "model_module_version": "1.5.0",
      "model_name": "HTMLModel",
      "state": {
       "_dom_classes": [],
       "_model_module": "@jupyter-widgets/controls",
       "_model_module_version": "1.5.0",
       "_model_name": "HTMLModel",
       "_view_count": null,
       "_view_module": "@jupyter-widgets/controls",
       "_view_module_version": "1.5.0",
       "_view_name": "HTMLView",
       "description": "",
       "description_tooltip": null,
       "layout": "IPY_MODEL_ed91d43f215041c6b2c3f2500fbe2be2",
       "placeholder": "​",
       "style": "IPY_MODEL_dcab9a577a0b4b959f776fef2fb2d087",
       "value": " 25.0/25.0 [00:00&lt;00:00, 1.94kB/s]"
      }
     },
     "98d60dc2d32a42089c6748bbb7941313": {
      "model_module": "@jupyter-widgets/controls",
      "model_module_version": "1.5.0",
      "model_name": "HTMLModel",
      "state": {
       "_dom_classes": [],
       "_model_module": "@jupyter-widgets/controls",
       "_model_module_version": "1.5.0",
       "_model_name": "HTMLModel",
       "_view_count": null,
       "_view_module": "@jupyter-widgets/controls",
       "_view_module_version": "1.5.0",
       "_view_name": "HTMLView",
       "description": "",
       "description_tooltip": null,
       "layout": "IPY_MODEL_c3b981b1fd2e4618b7d221f6d9163bf9",
       "placeholder": "​",
       "style": "IPY_MODEL_832d226d44a84fc9bc6a8744f6c67b03",
       "value": " 456k/456k [00:00&lt;00:00, 21.9MB/s]"
      }
     },
     "9cf6d932e2f447dfbef179aaab654568": {
      "model_module": "@jupyter-widgets/controls",
      "model_module_version": "1.5.0",
      "model_name": "HTMLModel",
      "state": {
       "_dom_classes": [],
       "_model_module": "@jupyter-widgets/controls",
       "_model_module_version": "1.5.0",
       "_model_name": "HTMLModel",
       "_view_count": null,
       "_view_module": "@jupyter-widgets/controls",
       "_view_module_version": "1.5.0",
       "_view_name": "HTMLView",
       "description": "",
       "description_tooltip": null,
       "layout": "IPY_MODEL_51f53e44e2f346c0a728fc2a752cddb0",
       "placeholder": "​",
       "style": "IPY_MODEL_4280962b18aa486da5090e8e8394dee0",
       "value": "merges.txt: 100%"
      }
     },
     "af7c0d272ac441a5aa2bd982d2756643": {
      "model_module": "@jupyter-widgets/controls",
      "model_module_version": "1.5.0",
      "model_name": "DescriptionStyleModel",
      "state": {
       "_model_module": "@jupyter-widgets/controls",
       "_model_module_version": "1.5.0",
       "_model_name": "DescriptionStyleModel",
       "_view_count": null,
       "_view_module": "@jupyter-widgets/base",
       "_view_module_version": "1.2.0",
       "_view_name": "StyleView",
       "description_width": ""
      }
     },
     "b1f5ead39f3340acb94be097093dbf2e": {
      "model_module": "@jupyter-widgets/controls",
      "model_module_version": "1.5.0",
      "model_name": "DescriptionStyleModel",
      "state": {
       "_model_module": "@jupyter-widgets/controls",
       "_model_module_version": "1.5.0",
       "_model_name": "DescriptionStyleModel",
       "_view_count": null,
       "_view_module": "@jupyter-widgets/base",
       "_view_module_version": "1.2.0",
       "_view_name": "StyleView",
       "description_width": ""
      }
     },
     "b3f6d3a961f64fe48a0508770a283321": {
      "model_module": "@jupyter-widgets/controls",
      "model_module_version": "1.5.0",
      "model_name": "FloatProgressModel",
      "state": {
       "_dom_classes": [],
       "_model_module": "@jupyter-widgets/controls",
       "_model_module_version": "1.5.0",
       "_model_name": "FloatProgressModel",
       "_view_count": null,
       "_view_module": "@jupyter-widgets/controls",
       "_view_module_version": "1.5.0",
       "_view_name": "ProgressView",
       "bar_style": "success",
       "description": "",
       "description_tooltip": null,
       "layout": "IPY_MODEL_480c3982695947f88dd0997aeb864bf8",
       "max": 498818054.0,
       "min": 0.0,
       "orientation": "horizontal",
       "style": "IPY_MODEL_783fea898e36496994862dab451f6369",
       "value": 498818054.0
      }
     },
     "b704d5b69b4e4b059c88a92c18b211d0": {
      "model_module": "@jupyter-widgets/controls",
      "model_module_version": "1.5.0",
      "model_name": "HTMLModel",
      "state": {
       "_dom_classes": [],
       "_model_module": "@jupyter-widgets/controls",
       "_model_module_version": "1.5.0",
       "_model_name": "HTMLModel",
       "_view_count": null,
       "_view_module": "@jupyter-widgets/controls",
       "_view_module_version": "1.5.0",
       "_view_name": "HTMLView",
       "description": "",
       "description_tooltip": null,
       "layout": "IPY_MODEL_c052c29ba5724b02bdc0aeea02b73e77",
       "placeholder": "​",
       "style": "IPY_MODEL_f9f12c72029f47ed93bfd1c277a40fe6",
       "value": "vocab.json: 100%"
      }
     },
     "bd24230b6de64287a658dc1afc706d38": {
      "model_module": "@jupyter-widgets/base",
      "model_module_version": "1.2.0",
      "model_name": "LayoutModel",
      "state": {
       "_model_module": "@jupyter-widgets/base",
       "_model_module_version": "1.2.0",
       "_model_name": "LayoutModel",
       "_view_count": null,
       "_view_module": "@jupyter-widgets/base",
       "_view_module_version": "1.2.0",
       "_view_name": "LayoutView",
       "align_content": null,
       "align_items": null,
       "align_self": null,
       "border": null,
       "bottom": null,
       "display": null,
       "flex": null,
       "flex_flow": null,
       "grid_area": null,
       "grid_auto_columns": null,
       "grid_auto_flow": null,
       "grid_auto_rows": null,
       "grid_column": null,
       "grid_gap": null,
       "grid_row": null,
       "grid_template_areas": null,
       "grid_template_columns": null,
       "grid_template_rows": null,
       "height": null,
       "justify_content": null,
       "justify_items": null,
       "left": null,
       "margin": null,
       "max_height": null,
       "max_width": null,
       "min_height": null,
       "min_width": null,
       "object_fit": null,
       "object_position": null,
       "order": null,
       "overflow": null,
       "overflow_x": null,
       "overflow_y": null,
       "padding": null,
       "right": null,
       "top": null,
       "visibility": null,
       "width": null
      }
     },
     "bfd498e84f9c4a1991cdbdb79ad90f19": {
      "model_module": "@jupyter-widgets/base",
      "model_module_version": "1.2.0",
      "model_name": "LayoutModel",
      "state": {
       "_model_module": "@jupyter-widgets/base",
       "_model_module_version": "1.2.0",
       "_model_name": "LayoutModel",
       "_view_count": null,
       "_view_module": "@jupyter-widgets/base",
       "_view_module_version": "1.2.0",
       "_view_name": "LayoutView",
       "align_content": null,
       "align_items": null,
       "align_self": null,
       "border": null,
       "bottom": null,
       "display": null,
       "flex": null,
       "flex_flow": null,
       "grid_area": null,
       "grid_auto_columns": null,
       "grid_auto_flow": null,
       "grid_auto_rows": null,
       "grid_column": null,
       "grid_gap": null,
       "grid_row": null,
       "grid_template_areas": null,
       "grid_template_columns": null,
       "grid_template_rows": null,
       "height": null,
       "justify_content": null,
       "justify_items": null,
       "left": null,
       "margin": null,
       "max_height": null,
       "max_width": null,
       "min_height": null,
       "min_width": null,
       "object_fit": null,
       "object_position": null,
       "order": null,
       "overflow": null,
       "overflow_x": null,
       "overflow_y": null,
       "padding": null,
       "right": null,
       "top": null,
       "visibility": null,
       "width": null
      }
     },
     "c052c29ba5724b02bdc0aeea02b73e77": {
      "model_module": "@jupyter-widgets/base",
      "model_module_version": "1.2.0",
      "model_name": "LayoutModel",
      "state": {
       "_model_module": "@jupyter-widgets/base",
       "_model_module_version": "1.2.0",
       "_model_name": "LayoutModel",
       "_view_count": null,
       "_view_module": "@jupyter-widgets/base",
       "_view_module_version": "1.2.0",
       "_view_name": "LayoutView",
       "align_content": null,
       "align_items": null,
       "align_self": null,
       "border": null,
       "bottom": null,
       "display": null,
       "flex": null,
       "flex_flow": null,
       "grid_area": null,
       "grid_auto_columns": null,
       "grid_auto_flow": null,
       "grid_auto_rows": null,
       "grid_column": null,
       "grid_gap": null,
       "grid_row": null,
       "grid_template_areas": null,
       "grid_template_columns": null,
       "grid_template_rows": null,
       "height": null,
       "justify_content": null,
       "justify_items": null,
       "left": null,
       "margin": null,
       "max_height": null,
       "max_width": null,
       "min_height": null,
       "min_width": null,
       "object_fit": null,
       "object_position": null,
       "order": null,
       "overflow": null,
       "overflow_x": null,
       "overflow_y": null,
       "padding": null,
       "right": null,
       "top": null,
       "visibility": null,
       "width": null
      }
     },
     "c3b981b1fd2e4618b7d221f6d9163bf9": {
      "model_module": "@jupyter-widgets/base",
      "model_module_version": "1.2.0",
      "model_name": "LayoutModel",
      "state": {
       "_model_module": "@jupyter-widgets/base",
       "_model_module_version": "1.2.0",
       "_model_name": "LayoutModel",
       "_view_count": null,
       "_view_module": "@jupyter-widgets/base",
       "_view_module_version": "1.2.0",
       "_view_name": "LayoutView",
       "align_content": null,
       "align_items": null,
       "align_self": null,
       "border": null,
       "bottom": null,
       "display": null,
       "flex": null,
       "flex_flow": null,
       "grid_area": null,
       "grid_auto_columns": null,
       "grid_auto_flow": null,
       "grid_auto_rows": null,
       "grid_column": null,
       "grid_gap": null,
       "grid_row": null,
       "grid_template_areas": null,
       "grid_template_columns": null,
       "grid_template_rows": null,
       "height": null,
       "justify_content": null,
       "justify_items": null,
       "left": null,
       "margin": null,
       "max_height": null,
       "max_width": null,
       "min_height": null,
       "min_width": null,
       "object_fit": null,
       "object_position": null,
       "order": null,
       "overflow": null,
       "overflow_x": null,
       "overflow_y": null,
       "padding": null,
       "right": null,
       "top": null,
       "visibility": null,
       "width": null
      }
     },
     "c4442d51a6fb47e5a15f8eeeae4cec60": {
      "model_module": "@jupyter-widgets/controls",
      "model_module_version": "1.5.0",
      "model_name": "DescriptionStyleModel",
      "state": {
       "_model_module": "@jupyter-widgets/controls",
       "_model_module_version": "1.5.0",
       "_model_name": "DescriptionStyleModel",
       "_view_count": null,
       "_view_module": "@jupyter-widgets/base",
       "_view_module_version": "1.2.0",
       "_view_name": "StyleView",
       "description_width": ""
      }
     },
     "cbc886c2da7e497c98b065202a2c5fc6": {
      "model_module": "@jupyter-widgets/controls",
      "model_module_version": "1.5.0",
      "model_name": "FloatProgressModel",
      "state": {
       "_dom_classes": [],
       "_model_module": "@jupyter-widgets/controls",
       "_model_module_version": "1.5.0",
       "_model_name": "FloatProgressModel",
       "_view_count": null,
       "_view_module": "@jupyter-widgets/controls",
       "_view_module_version": "1.5.0",
       "_view_name": "ProgressView",
       "bar_style": "success",
       "description": "",
       "description_tooltip": null,
       "layout": "IPY_MODEL_da073831e5e94322b237b118b86954ef",
       "max": 898823.0,
       "min": 0.0,
       "orientation": "horizontal",
       "style": "IPY_MODEL_946b43561c4a4b1c9682193a0bad3297",
       "value": 898823.0
      }
     },
     "ce8eb5693f754a409172223b5ea555ae": {
      "model_module": "@jupyter-widgets/base",
      "model_module_version": "1.2.0",
      "model_name": "LayoutModel",
      "state": {
       "_model_module": "@jupyter-widgets/base",
       "_model_module_version": "1.2.0",
       "_model_name": "LayoutModel",
       "_view_count": null,
       "_view_module": "@jupyter-widgets/base",
       "_view_module_version": "1.2.0",
       "_view_name": "LayoutView",
       "align_content": null,
       "align_items": null,
       "align_self": null,
       "border": null,
       "bottom": null,
       "display": null,
       "flex": null,
       "flex_flow": null,
       "grid_area": null,
       "grid_auto_columns": null,
       "grid_auto_flow": null,
       "grid_auto_rows": null,
       "grid_column": null,
       "grid_gap": null,
       "grid_row": null,
       "grid_template_areas": null,
       "grid_template_columns": null,
       "grid_template_rows": null,
       "height": null,
       "justify_content": null,
       "justify_items": null,
       "left": null,
       "margin": null,
       "max_height": null,
       "max_width": null,
       "min_height": null,
       "min_width": null,
       "object_fit": null,
       "object_position": null,
       "order": null,
       "overflow": null,
       "overflow_x": null,
       "overflow_y": null,
       "padding": null,
       "right": null,
       "top": null,
       "visibility": null,
       "width": null
      }
     },
     "cf1c4579a0214118ba73c94b596449bc": {
      "model_module": "@jupyter-widgets/controls",
      "model_module_version": "1.5.0",
      "model_name": "HTMLModel",
      "state": {
       "_dom_classes": [],
       "_model_module": "@jupyter-widgets/controls",
       "_model_module_version": "1.5.0",
       "_model_name": "HTMLModel",
       "_view_count": null,
       "_view_module": "@jupyter-widgets/controls",
       "_view_module_version": "1.5.0",
       "_view_name": "HTMLView",
       "description": "",
       "description_tooltip": null,
       "layout": "IPY_MODEL_bd24230b6de64287a658dc1afc706d38",
       "placeholder": "​",
       "style": "IPY_MODEL_af7c0d272ac441a5aa2bd982d2756643",
       "value": "model.safetensors: 100%"
      }
     },
     "d94f162ccf104c81b02df542aa60dda7": {
      "model_module": "@jupyter-widgets/controls",
      "model_module_version": "1.5.0",
      "model_name": "FloatProgressModel",
      "state": {
       "_dom_classes": [],
       "_model_module": "@jupyter-widgets/controls",
       "_model_module_version": "1.5.0",
       "_model_name": "FloatProgressModel",
       "_view_count": null,
       "_view_module": "@jupyter-widgets/controls",
       "_view_module_version": "1.5.0",
       "_view_name": "ProgressView",
       "bar_style": "success",
       "description": "",
       "description_tooltip": null,
       "layout": "IPY_MODEL_44c5742afe3549ba8110d4166d61ee8c",
       "max": 481.0,
       "min": 0.0,
       "orientation": "horizontal",
       "style": "IPY_MODEL_f3555af04bd54cc2b095856d1ca6aca6",
       "value": 481.0
      }
     },
     "da073831e5e94322b237b118b86954ef": {
      "model_module": "@jupyter-widgets/base",
      "model_module_version": "1.2.0",
      "model_name": "LayoutModel",
      "state": {
       "_model_module": "@jupyter-widgets/base",
       "_model_module_version": "1.2.0",
       "_model_name": "LayoutModel",
       "_view_count": null,
       "_view_module": "@jupyter-widgets/base",
       "_view_module_version": "1.2.0",
       "_view_name": "LayoutView",
       "align_content": null,
       "align_items": null,
       "align_self": null,
       "border": null,
       "bottom": null,
       "display": null,
       "flex": null,
       "flex_flow": null,
       "grid_area": null,
       "grid_auto_columns": null,
       "grid_auto_flow": null,
       "grid_auto_rows": null,
       "grid_column": null,
       "grid_gap": null,
       "grid_row": null,
       "grid_template_areas": null,
       "grid_template_columns": null,
       "grid_template_rows": null,
       "height": null,
       "justify_content": null,
       "justify_items": null,
       "left": null,
       "margin": null,
       "max_height": null,
       "max_width": null,
       "min_height": null,
       "min_width": null,
       "object_fit": null,
       "object_position": null,
       "order": null,
       "overflow": null,
       "overflow_x": null,
       "overflow_y": null,
       "padding": null,
       "right": null,
       "top": null,
       "visibility": null,
       "width": null
      }
     },
     "db0cf0fdd9e34d52b9182dd3b66be024": {
      "model_module": "@jupyter-widgets/controls",
      "model_module_version": "1.5.0",
      "model_name": "FloatProgressModel",
      "state": {
       "_dom_classes": [],
       "_model_module": "@jupyter-widgets/controls",
       "_model_module_version": "1.5.0",
       "_model_name": "FloatProgressModel",
       "_view_count": null,
       "_view_module": "@jupyter-widgets/controls",
       "_view_module_version": "1.5.0",
       "_view_name": "ProgressView",
       "bar_style": "success",
       "description": "",
       "description_tooltip": null,
       "layout": "IPY_MODEL_f960882d1436474592b7b11ee9402ff0",
       "max": 1355863.0,
       "min": 0.0,
       "orientation": "horizontal",
       "style": "IPY_MODEL_94f097db764e4812b2c7ed46384ad175",
       "value": 1355863.0
      }
     },
     "dcab9a577a0b4b959f776fef2fb2d087": {
      "model_module": "@jupyter-widgets/controls",
      "model_module_version": "1.5.0",
      "model_name": "DescriptionStyleModel",
      "state": {
       "_model_module": "@jupyter-widgets/controls",
       "_model_module_version": "1.5.0",
       "_model_name": "DescriptionStyleModel",
       "_view_count": null,
       "_view_module": "@jupyter-widgets/base",
       "_view_module_version": "1.2.0",
       "_view_name": "StyleView",
       "description_width": ""
      }
     },
     "e01a57bb3771460d8b7485d0ec5d9320": {
      "model_module": "@jupyter-widgets/base",
      "model_module_version": "1.2.0",
      "model_name": "LayoutModel",
      "state": {
       "_model_module": "@jupyter-widgets/base",
       "_model_module_version": "1.2.0",
       "_model_name": "LayoutModel",
       "_view_count": null,
       "_view_module": "@jupyter-widgets/base",
       "_view_module_version": "1.2.0",
       "_view_name": "LayoutView",
       "align_content": null,
       "align_items": null,
       "align_self": null,
       "border": null,
       "bottom": null,
       "display": null,
       "flex": null,
       "flex_flow": null,
       "grid_area": null,
       "grid_auto_columns": null,
       "grid_auto_flow": null,
       "grid_auto_rows": null,
       "grid_column": null,
       "grid_gap": null,
       "grid_row": null,
       "grid_template_areas": null,
       "grid_template_columns": null,
       "grid_template_rows": null,
       "height": null,
       "justify_content": null,
       "justify_items": null,
       "left": null,
       "margin": null,
       "max_height": null,
       "max_width": null,
       "min_height": null,
       "min_width": null,
       "object_fit": null,
       "object_position": null,
       "order": null,
       "overflow": null,
       "overflow_x": null,
       "overflow_y": null,
       "padding": null,
       "right": null,
       "top": null,
       "visibility": null,
       "width": null
      }
     },
     "e0e8d26ba7b64f83bcfda73a1379b004": {
      "model_module": "@jupyter-widgets/base",
      "model_module_version": "1.2.0",
      "model_name": "LayoutModel",
      "state": {
       "_model_module": "@jupyter-widgets/base",
       "_model_module_version": "1.2.0",
       "_model_name": "LayoutModel",
       "_view_count": null,
       "_view_module": "@jupyter-widgets/base",
       "_view_module_version": "1.2.0",
       "_view_name": "LayoutView",
       "align_content": null,
       "align_items": null,
       "align_self": null,
       "border": null,
       "bottom": null,
       "display": null,
       "flex": null,
       "flex_flow": null,
       "grid_area": null,
       "grid_auto_columns": null,
       "grid_auto_flow": null,
       "grid_auto_rows": null,
       "grid_column": null,
       "grid_gap": null,
       "grid_row": null,
       "grid_template_areas": null,
       "grid_template_columns": null,
       "grid_template_rows": null,
       "height": null,
       "justify_content": null,
       "justify_items": null,
       "left": null,
       "margin": null,
       "max_height": null,
       "max_width": null,
       "min_height": null,
       "min_width": null,
       "object_fit": null,
       "object_position": null,
       "order": null,
       "overflow": null,
       "overflow_x": null,
       "overflow_y": null,
       "padding": null,
       "right": null,
       "top": null,
       "visibility": null,
       "width": null
      }
     },
     "e128949c089e4f14b78ca67fd57dc890": {
      "model_module": "@jupyter-widgets/controls",
      "model_module_version": "1.5.0",
      "model_name": "FloatProgressModel",
      "state": {
       "_dom_classes": [],
       "_model_module": "@jupyter-widgets/controls",
       "_model_module_version": "1.5.0",
       "_model_name": "FloatProgressModel",
       "_view_count": null,
       "_view_module": "@jupyter-widgets/controls",
       "_view_module_version": "1.5.0",
       "_view_name": "ProgressView",
       "bar_style": "success",
       "description": "",
       "description_tooltip": null,
       "layout": "IPY_MODEL_6cce7dbb31fc44f2bb43d0880e83dd4d",
       "max": 456318.0,
       "min": 0.0,
       "orientation": "horizontal",
       "style": "IPY_MODEL_4d3c73cdaf5f45e393ca64927a4844e3",
       "value": 456318.0
      }
     },
     "e3e2eb1e7f3e42b59f4bf6502bdc9239": {
      "model_module": "@jupyter-widgets/controls",
      "model_module_version": "1.5.0",
      "model_name": "HTMLModel",
      "state": {
       "_dom_classes": [],
       "_model_module": "@jupyter-widgets/controls",
       "_model_module_version": "1.5.0",
       "_model_name": "HTMLModel",
       "_view_count": null,
       "_view_module": "@jupyter-widgets/controls",
       "_view_module_version": "1.5.0",
       "_view_name": "HTMLView",
       "description": "",
       "description_tooltip": null,
       "layout": "IPY_MODEL_90e0ad4c76d7428987dda3c3b5e85513",
       "placeholder": "​",
       "style": "IPY_MODEL_2c3ef86eb7524bdaa9f81e65d834592b",
       "value": " 899k/899k [00:00&lt;00:00, 10.4MB/s]"
      }
     },
     "e8b8902096774a458dea0bc2c53515ac": {
      "model_module": "@jupyter-widgets/base",
      "model_module_version": "1.2.0",
      "model_name": "LayoutModel",
      "state": {
       "_model_module": "@jupyter-widgets/base",
       "_model_module_version": "1.2.0",
       "_model_name": "LayoutModel",
       "_view_count": null,
       "_view_module": "@jupyter-widgets/base",
       "_view_module_version": "1.2.0",
       "_view_name": "LayoutView",
       "align_content": null,
       "align_items": null,
       "align_self": null,
       "border": null,
       "bottom": null,
       "display": null,
       "flex": null,
       "flex_flow": null,
       "grid_area": null,
       "grid_auto_columns": null,
       "grid_auto_flow": null,
       "grid_auto_rows": null,
       "grid_column": null,
       "grid_gap": null,
       "grid_row": null,
       "grid_template_areas": null,
       "grid_template_columns": null,
       "grid_template_rows": null,
       "height": null,
       "justify_content": null,
       "justify_items": null,
       "left": null,
       "margin": null,
       "max_height": null,
       "max_width": null,
       "min_height": null,
       "min_width": null,
       "object_fit": null,
       "object_position": null,
       "order": null,
       "overflow": null,
       "overflow_x": null,
       "overflow_y": null,
       "padding": null,
       "right": null,
       "top": null,
       "visibility": null,
       "width": null
      }
     },
     "e8f8c03bab04451081b1f69143e91a0a": {
      "model_module": "@jupyter-widgets/base",
      "model_module_version": "1.2.0",
      "model_name": "LayoutModel",
      "state": {
       "_model_module": "@jupyter-widgets/base",
       "_model_module_version": "1.2.0",
       "_model_name": "LayoutModel",
       "_view_count": null,
       "_view_module": "@jupyter-widgets/base",
       "_view_module_version": "1.2.0",
       "_view_name": "LayoutView",
       "align_content": null,
       "align_items": null,
       "align_self": null,
       "border": null,
       "bottom": null,
       "display": null,
       "flex": null,
       "flex_flow": null,
       "grid_area": null,
       "grid_auto_columns": null,
       "grid_auto_flow": null,
       "grid_auto_rows": null,
       "grid_column": null,
       "grid_gap": null,
       "grid_row": null,
       "grid_template_areas": null,
       "grid_template_columns": null,
       "grid_template_rows": null,
       "height": null,
       "justify_content": null,
       "justify_items": null,
       "left": null,
       "margin": null,
       "max_height": null,
       "max_width": null,
       "min_height": null,
       "min_width": null,
       "object_fit": null,
       "object_position": null,
       "order": null,
       "overflow": null,
       "overflow_x": null,
       "overflow_y": null,
       "padding": null,
       "right": null,
       "top": null,
       "visibility": null,
       "width": null
      }
     },
     "ed91d43f215041c6b2c3f2500fbe2be2": {
      "model_module": "@jupyter-widgets/base",
      "model_module_version": "1.2.0",
      "model_name": "LayoutModel",
      "state": {
       "_model_module": "@jupyter-widgets/base",
       "_model_module_version": "1.2.0",
       "_model_name": "LayoutModel",
       "_view_count": null,
       "_view_module": "@jupyter-widgets/base",
       "_view_module_version": "1.2.0",
       "_view_name": "LayoutView",
       "align_content": null,
       "align_items": null,
       "align_self": null,
       "border": null,
       "bottom": null,
       "display": null,
       "flex": null,
       "flex_flow": null,
       "grid_area": null,
       "grid_auto_columns": null,
       "grid_auto_flow": null,
       "grid_auto_rows": null,
       "grid_column": null,
       "grid_gap": null,
       "grid_row": null,
       "grid_template_areas": null,
       "grid_template_columns": null,
       "grid_template_rows": null,
       "height": null,
       "justify_content": null,
       "justify_items": null,
       "left": null,
       "margin": null,
       "max_height": null,
       "max_width": null,
       "min_height": null,
       "min_width": null,
       "object_fit": null,
       "object_position": null,
       "order": null,
       "overflow": null,
       "overflow_x": null,
       "overflow_y": null,
       "padding": null,
       "right": null,
       "top": null,
       "visibility": null,
       "width": null
      }
     },
     "f3555af04bd54cc2b095856d1ca6aca6": {
      "model_module": "@jupyter-widgets/controls",
      "model_module_version": "1.5.0",
      "model_name": "ProgressStyleModel",
      "state": {
       "_model_module": "@jupyter-widgets/controls",
       "_model_module_version": "1.5.0",
       "_model_name": "ProgressStyleModel",
       "_view_count": null,
       "_view_module": "@jupyter-widgets/base",
       "_view_module_version": "1.2.0",
       "_view_name": "StyleView",
       "bar_color": null,
       "description_width": ""
      }
     },
     "f960882d1436474592b7b11ee9402ff0": {
      "model_module": "@jupyter-widgets/base",
      "model_module_version": "1.2.0",
      "model_name": "LayoutModel",
      "state": {
       "_model_module": "@jupyter-widgets/base",
       "_model_module_version": "1.2.0",
       "_model_name": "LayoutModel",
       "_view_count": null,
       "_view_module": "@jupyter-widgets/base",
       "_view_module_version": "1.2.0",
       "_view_name": "LayoutView",
       "align_content": null,
       "align_items": null,
       "align_self": null,
       "border": null,
       "bottom": null,
       "display": null,
       "flex": null,
       "flex_flow": null,
       "grid_area": null,
       "grid_auto_columns": null,
       "grid_auto_flow": null,
       "grid_auto_rows": null,
       "grid_column": null,
       "grid_gap": null,
       "grid_row": null,
       "grid_template_areas": null,
       "grid_template_columns": null,
       "grid_template_rows": null,
       "height": null,
       "justify_content": null,
       "justify_items": null,
       "left": null,
       "margin": null,
       "max_height": null,
       "max_width": null,
       "min_height": null,
       "min_width": null,
       "object_fit": null,
       "object_position": null,
       "order": null,
       "overflow": null,
       "overflow_x": null,
       "overflow_y": null,
       "padding": null,
       "right": null,
       "top": null,
       "visibility": null,
       "width": null
      }
     },
     "f9f12c72029f47ed93bfd1c277a40fe6": {
      "model_module": "@jupyter-widgets/controls",
      "model_module_version": "1.5.0",
      "model_name": "DescriptionStyleModel",
      "state": {
       "_model_module": "@jupyter-widgets/controls",
       "_model_module_version": "1.5.0",
       "_model_name": "DescriptionStyleModel",
       "_view_count": null,
       "_view_module": "@jupyter-widgets/base",
       "_view_module_version": "1.2.0",
       "_view_name": "StyleView",
       "description_width": ""
      }
     },
     "fc97b5008b9541848f04e722ef0dde78": {
      "model_module": "@jupyter-widgets/base",
      "model_module_version": "1.2.0",
      "model_name": "LayoutModel",
      "state": {
       "_model_module": "@jupyter-widgets/base",
       "_model_module_version": "1.2.0",
       "_model_name": "LayoutModel",
       "_view_count": null,
       "_view_module": "@jupyter-widgets/base",
       "_view_module_version": "1.2.0",
       "_view_name": "LayoutView",
       "align_content": null,
       "align_items": null,
       "align_self": null,
       "border": null,
       "bottom": null,
       "display": null,
       "flex": null,
       "flex_flow": null,
       "grid_area": null,
       "grid_auto_columns": null,
       "grid_auto_flow": null,
       "grid_auto_rows": null,
       "grid_column": null,
       "grid_gap": null,
       "grid_row": null,
       "grid_template_areas": null,
       "grid_template_columns": null,
       "grid_template_rows": null,
       "height": null,
       "justify_content": null,
       "justify_items": null,
       "left": null,
       "margin": null,
       "max_height": null,
       "max_width": null,
       "min_height": null,
       "min_width": null,
       "object_fit": null,
       "object_position": null,
       "order": null,
       "overflow": null,
       "overflow_x": null,
       "overflow_y": null,
       "padding": null,
       "right": null,
       "top": null,
       "visibility": null,
       "width": null
      }
     }
    },
    "version_major": 2,
    "version_minor": 0
   }
  }
 },
 "nbformat": 4,
 "nbformat_minor": 5
}
